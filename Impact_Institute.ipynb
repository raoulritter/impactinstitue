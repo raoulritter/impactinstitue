{
 "cells": [
  {
   "cell_type": "code",
   "execution_count": 58,
   "metadata": {},
   "outputs": [],
   "source": [
    "# import TensorFlow as TF\n",
    "import pandas as pd\n",
    "import math\n",
    "import matplotlib.pylab as plt\n",
    "import numpy as np\n",
    "\n",
    "from datetime import datetime\n",
    "\n",
    "from sklearn import datasets, linear_model\n",
    "from sklearn.linear_model import LinearRegression\n",
    "from sklearn.metrics import mean_squared_error, r2_score\n",
    "from sklearn.impute import SimpleImputer # used for handling missing data\n",
    "from sklearn.preprocessing import PolynomialFeatures\n",
    "from sklearn.pipeline import make_pipeline\n",
    "from sklearn.model_selection import train_test_split\n",
    "from sklearn.neural_network import MLPRegressor\n",
    "from sklearn.datasets import make_regression\n",
    "from sklearn.metrics import mean_absolute_error\n"
   ]
  },
  {
   "cell_type": "code",
   "execution_count": 59,
   "metadata": {},
   "outputs": [
    {
     "name": "stdout",
     "output_type": "stream",
     "text": [
      "['Electricity', 'Financial services nec', 'Bovine cattle, sheep and goats, horses', 'Real estate activities', 'Other Extraction', 'Fishing', 'Forestry', 'Trade', 'None', 'Wheat', 'Motor vehicles and parts', 'Construction', 'Computer, electronic and optical products', 'Transport equipment nec', 'Accommodation, Food and service activities', 'Business services nec', 'Wearing apparel', 'Oil', 'Textiles', 'Food products nec', 'Insurance', 'Null', 'Communication', 'Coal', 'Water', 'Wood products', 'Recreational and other services', 'Crops nec', 'Paper products, publishing', 'Petroleum, coal products', 'Gas', 'Ferrous metals', 'Beverages and tobacco products', 'Processed rice', 'Air transport', 'Human health and social work activities', 'Transport nec', 'Electrical equipment', 'Mineral products nec', 'Metals nec', 'Vegetables, fruit, nuts', 'Education', 'Basic pharmaceutical products', 'Water transport', 'Chemical products', 'Sugar cane, sugar beet', 'Manufactures nec', 'Warehousing and support activities', 'Machinery and equipment nec', 'Metal products', 'Rubber and plastic products', 'Animal products nec']\n"
     ]
    }
   ],
   "source": [
    "\n",
    "df = pd.read_csv('data.csv')\n",
    "data_top = df.head()\n",
    "copy = df.copy() \n",
    "\n",
    "# 1 - Remove rows where the target column (Scope1) is NaN.\n",
    "\n",
    "copy = copy[copy['EmissionDataPoints.CO2EquivalentsEmissionDirectScope1'].notna()] # drop all rows with NaN in target column\n",
    "\n",
    "copy = copy.reset_index() \n",
    "\n",
    "\n",
    "\n",
    "# 2 - Replace all NaN from the attribute columns and replace for mean of that column\n",
    "\n",
    "#copy = copy.fillna(copy.mean())\n",
    "#col_names = copy.columns\n",
    "#sub2[col_names].fillna((sub2[col_names].mean()), inplace=True)\n",
    "\n",
    "# 3 - Group rows by organization ID\n",
    "\n",
    "# org_ids = list(copy['GTAP country'])\n",
    "# list_set = set(org_ids)\n",
    "# unique = list(list_set)\n",
    "\n",
    "# copy = copy.groupby(['GTAP country'])\n",
    "\n",
    "# dictionary = {} \n",
    "\n",
    "# for item in unique:\n",
    "#     df_id = copy.get_group(item)\n",
    "#     dictionary[item] = df_id\n",
    "\n",
    "\n",
    "def create_dict(target_var, df): \n",
    "    org_ids = list(df[target_var]) \n",
    "    list_set = set(org_ids) # get unique elements\n",
    "    unique = list(list_set) # place them in a list \n",
    "\n",
    "    df = df.groupby([target_var]) \n",
    "\n",
    "    dictionary = {} \n",
    "\n",
    "    for item in unique:\n",
    "        df_id = df.get_group(item)\n",
    "        dictionary[item] = df_id\n",
    "    \n",
    "    return dictionary\n",
    "    \n",
    "\n",
    "# dictionaries per target variable:\n",
    "\n",
    "GTAP_sector_dict = create_dict('GTAP sector', copy)\n",
    "\n",
    "GTAP_country_dict = create_dict('GTAP country', copy)\n",
    "\n",
    "\n",
    "\n",
    "key_list = list(GTAP_sector_dict.keys())\n",
    "\n",
    "print(key_list)\n",
    "\n",
    "#print(GTAP_sector_dict)\n",
    "\n",
    "# in the dictionary, we want to replace all the NaN of the values for the means of those columns.\n",
    "\n",
    "\n",
    "# # check missing values >> columns with lots of missing values are not useful. \n",
    "# missing_values_df = copy.isnull().sum().sort_values(ascending=False).head()\n",
    "# print(missing_values_df)\n",
    "\n",
    "# # replace NaN in column for mean of column with Imputer \n",
    "# imp = SimpleImputer(missing_values='NaN', strategy='mean')\n",
    "# imp = imp.fit(copy)\n",
    "\n",
    "\n",
    "\n",
    "#print(replace_NaN(GTAP_sector_dict))    \n",
    "\n"
   ]
  },
  {
   "cell_type": "code",
   "execution_count": 60,
   "metadata": {},
   "outputs": [],
   "source": [
    "# function for filling NaN's (with mean)\n",
    "def fill_nan(df, column_name):\n",
    "    mean_value=df[column_name].mean()\n",
    "    df[column_name].fillna(value=mean_value, inplace=True)\n",
    "    return df\n"
   ]
  },
  {
   "cell_type": "code",
   "execution_count": 61,
   "metadata": {},
   "outputs": [],
   "source": [
    "# copy.groupby(\"organization_id\")['EmissionDataPoints.CO2EquivalentsEmissionDirectScope1'].plot(x='StatementDetails.FinancialPeriodFiscalYear',y='EmissionDataPoints.CO2EquivalentsEmissionDirectScope1')\n",
    "# .mean()\n",
    "\n",
    "\n",
    "# org_dict = create_dict('organization_id', copy)\n",
    "\n",
    "\n",
    "\n",
    "# print(list(GTAP_country_dict))\n",
    "# print(org_dict.type)\n",
    "# print(list(copy.columns.values))\n",
    "\n"
   ]
  },
  {
   "cell_type": "code",
   "execution_count": 62,
   "metadata": {},
   "outputs": [
    {
     "name": "stdout",
     "output_type": "stream",
     "text": [
      "       StatementDetails.FinancialPeriodFiscalYear  \\\n",
      "198                                          2013   \n",
      "336                                          2011   \n",
      "427                                          2014   \n",
      "455                                          2017   \n",
      "488                                          2009   \n",
      "...                                           ...   \n",
      "24678                                        2015   \n",
      "24679                                        2010   \n",
      "24770                                        2019   \n",
      "24935                                        2012   \n",
      "25028                                        2014   \n",
      "\n",
      "       EmissionIndicators.TotalCO2EquivalentsEmissionsToRevenues  \\\n",
      "198                                           860.007572           \n",
      "336                                          1155.559121           \n",
      "427                                          1187.299487           \n",
      "455                                           867.054573           \n",
      "488                                           603.196314           \n",
      "...                                                  ...           \n",
      "24678                                         973.609296           \n",
      "24679                                         949.073185           \n",
      "24770                                         942.705501           \n",
      "24935                                         978.190755           \n",
      "25028                                         991.371630           \n",
      "\n",
      "       EmissionIndicators.NOxEmissionsToRevenues  \n",
      "198                                     0.003304  \n",
      "336                                     0.470844  \n",
      "427                                     6.199557  \n",
      "455                                     0.374312  \n",
      "488                                     2.454869  \n",
      "...                                          ...  \n",
      "24678                                   1.829592  \n",
      "24679                                   0.002976  \n",
      "24770                                   0.375584  \n",
      "24935                                   1.829592  \n",
      "25028                                   0.531278  \n",
      "\n",
      "[284 rows x 3 columns]\n",
      "Mean absolute error: 9235594.47\n",
      "Coefficient of determination: -1.00\n",
      "16284815.024890842\n"
     ]
    }
   ],
   "source": [
    "# regr = linear_model.LinearRegression()\n",
    "# regr.fit(diabetes_X_train, diabetes_y_train)\n",
    "# diabetes_y_pred = regr.predict(diabetes_X_test)\n",
    "\n",
    "# polynomial regression \n",
    "\n",
    "dict_id = create_dict('GTAP sector', copy)\n",
    "air = dict_id['Air transport']\n",
    "# print(air)\n",
    "Y = air['EmissionDataPoints.CO2EquivalentsEmissionDirectScope1']\n",
    "X = air.loc[:, ['StatementDetails.FinancialPeriodFiscalYear', 'EmissionIndicators.TotalCO2EquivalentsEmissionsToRevenues', 'EmissionIndicators.NOxEmissionsToRevenues']]\n",
    "\n",
    "\n",
    "# filling missing values with mean \n",
    "X = fill_nan(X, 'EmissionIndicators.TotalCO2EquivalentsEmissionsToRevenues')\n",
    "X = fill_nan(X, 'EmissionIndicators.NOxEmissionsToRevenues')\n",
    "print(X)\n",
    "X = np.array(X)\n",
    "# X = X.reshape(-1,1) # alleen voor 1 input variable\n",
    "X_train, X_test, Y_train, Y_test = train_test_split(X,Y, test_size=0.33, random_state=42)\n",
    "degree = 5\n",
    "polyreg=make_pipeline(PolynomialFeatures(degree), LinearRegression())\n",
    "polyreg.fit(X_train,Y_train)\n",
    "predictions = polyreg.predict(X_test)\n",
    "\n",
    "# print(\"Coefficients: \\n\", polyreg.coef_)\n",
    "# The mean squared error\n",
    "print(\"Mean absolute error: %.2f\" % mean_absolute_error(Y_test, predictions))\n",
    "# The coefficient of determination: 1 is perfect prediction\n",
    "print(\"Coefficient of determination: %.2f\" % r2_score(Y_test, predictions))\n",
    "\n",
    "print(Y.mean())\n"
   ]
  },
  {
   "cell_type": "code",
   "execution_count": 63,
   "metadata": {},
   "outputs": [
    {
     "data": {
      "image/png": "[encoded data removed]",
      "text/plain": [
       "<Figure size 432x288 with 1 Axes>"
      ]
     },
     "metadata": {
      "needs_background": "light"
     },
     "output_type": "display_data"
    }
   ],
   "source": [
    "plt.scatter(X_test[:, 0], predictions, label='prediction')\n",
    "plt.scatter(X_test[:, 0], Y_test, label='test data')\n",
    "\n",
    "plt.xlabel(\"year\")\n",
    "plt.ylabel(\"CO2 emission\")\n",
    "plt.legend()\n",
    "plt.show()"
   ]
  },
  {
   "cell_type": "code",
   "execution_count": 64,
   "metadata": {},
   "outputs": [
    {
     "name": "stderr",
     "output_type": "stream",
     "text": [
      "C:\\Users\\noorw\\anaconda3\\lib\\site-packages\\sklearn\\neural_network\\_multilayer_perceptron.py:582: ConvergenceWarning: Stochastic Optimizer: Maximum iterations (500) reached and the optimization hasn't converged yet.\n",
      "  warnings.warn(\n"
     ]
    },
    {
     "data": {
      "image/png": "[encoded data removed]",
      "text/plain": [
       "<Figure size 432x288 with 1 Axes>"
      ]
     },
     "metadata": {
      "needs_background": "light"
     },
     "output_type": "display_data"
    }
   ],
   "source": [
    "# neural networks\n",
    "\n",
    "regr = MLPRegressor(random_state=1, max_iter=500).fit(X_train, Y_train)\n",
    "pred_nn = regr.predict(X_test)\n",
    "regr.score(X_test, Y_test)\n",
    "\n",
    "plt.scatter(X_test[:, 0], pred_nn, label='prediction neural net')\n",
    "plt.scatter(X_test[:, 0], Y_test, label='test data')\n",
    "\n",
    "plt.xlabel(\"year\")\n",
    "plt.ylabel(\"CO2 emission\")\n",
    "plt.legend()\n",
    "plt.show()\n",
    "\n"
   ]
  },
  {
   "cell_type": "code",
   "execution_count": 76,
   "metadata": {},
   "outputs": [
    {
     "name": "stdout",
     "output_type": "stream",
     "text": [
      "Mean absolute error: 10658661.18\n",
      "Coefficient of determination: -0.49\n"
     ]
    },
    {
     "data": {
      "image/png": "[encoded data removed]",
      "text/plain": [
       "<Figure size 432x288 with 1 Axes>"
      ]
     },
     "metadata": {
      "needs_background": "light"
     },
     "output_type": "display_data"
    }
   ],
   "source": [
    "# making future predictions\n",
    "\n",
    "\n",
    "X = air.loc[:, ['StatementDetails.FinancialPeriodFiscalYear']]\n",
    "\n",
    "X = np.array(X)\n",
    "# X = X.reshape(-1,1) # alleen voor 1 input variable\n",
    "X_train, X_test, Y_train, Y_test = train_test_split(X,Y, test_size=0.33, random_state=42)\n",
    "degree = 4\n",
    "polyreg=make_pipeline(PolynomialFeatures(degree), LinearRegression())\n",
    "polyreg.fit(X_train,Y_train)\n",
    "predictions = polyreg.predict(X_test)\n",
    "print(\"Mean absolute error: %.2f\" % mean_absolute_error(Y_test, predictions))\n",
    "# The coefficient of determination: 1 is perfect prediction\n",
    "print(\"Coefficient of determination: %.2f\" % r2_score(Y_test, predictions))\n",
    "\n",
    "plt.scatter(X_test[:, 0], predictions, label='prediction')\n",
    "plt.scatter(X_test[:, 0], Y_test, label='test data')\n",
    "\n",
    "plt.xlabel(\"year\")\n",
    "plt.ylabel(\"CO2 emission\")\n",
    "plt.legend()\n",
    "plt.show()"
   ]
  },
  {
   "cell_type": "code",
   "execution_count": 66,
   "metadata": {},
   "outputs": [
    {
     "name": "stdout",
     "output_type": "stream",
     "text": [
      "94\n",
      "[[2010]\n",
      " [2018]\n",
      " [2016]\n",
      " [2016]\n",
      " [2017]\n",
      " [2011]\n",
      " [2015]\n",
      " [2007]\n",
      " [2012]\n",
      " [2008]\n",
      " [2015]\n",
      " [2018]\n",
      " [2020]\n",
      " [2018]\n",
      " [2011]\n",
      " [2015]\n",
      " [2014]\n",
      " [2012]\n",
      " [2015]\n",
      " [2006]\n",
      " [2019]\n",
      " [2016]\n",
      " [2013]\n",
      " [2016]\n",
      " [2010]\n",
      " [2012]\n",
      " [2016]\n",
      " [2009]\n",
      " [2015]\n",
      " [2016]\n",
      " [2019]\n",
      " [2020]\n",
      " [2017]\n",
      " [2016]\n",
      " [2018]\n",
      " [2015]\n",
      " [2016]\n",
      " [2017]\n",
      " [2018]\n",
      " [2015]\n",
      " [2006]\n",
      " [2019]\n",
      " [2018]\n",
      " [2010]\n",
      " [2012]\n",
      " [2016]\n",
      " [2011]\n",
      " [2011]\n",
      " [2017]\n",
      " [2009]\n",
      " [2017]\n",
      " [2005]\n",
      " [2012]\n",
      " [2008]\n",
      " [2013]\n",
      " [2019]\n",
      " [2012]\n",
      " [2014]\n",
      " [2015]\n",
      " [2006]\n",
      " [2014]\n",
      " [2018]\n",
      " [2017]\n",
      " [2009]\n",
      " [2019]\n",
      " [2014]\n",
      " [2007]\n",
      " [2019]\n",
      " [2018]\n",
      " [2012]\n",
      " [2010]\n",
      " [2019]\n",
      " [2014]\n",
      " [2009]\n",
      " [2015]\n",
      " [2014]\n",
      " [2019]\n",
      " [2017]\n",
      " [2006]\n",
      " [2007]\n",
      " [2011]\n",
      " [2013]\n",
      " [2013]\n",
      " [2016]\n",
      " [2015]\n",
      " [2019]\n",
      " [2019]\n",
      " [2015]\n",
      " [2008]\n",
      " [2018]\n",
      " [2020]\n",
      " [2013]\n",
      " [2013]\n",
      " [2012]]\n",
      "[[2010]\n",
      " [2018]\n",
      " [2016]\n",
      " [2016]\n",
      " [2017]\n",
      " [2011]\n",
      " [2015]\n",
      " [2007]\n",
      " [2012]\n",
      " [2008]\n",
      " [2015]\n",
      " [2018]\n",
      " [2020]\n",
      " [2018]\n",
      " [2011]\n",
      " [2015]\n",
      " [2014]\n",
      " [2012]\n",
      " [2015]\n",
      " [2006]\n",
      " [2019]\n",
      " [2016]\n",
      " [2013]\n",
      " [2016]\n",
      " [2010]\n",
      " [2012]\n",
      " [2016]\n",
      " [2009]\n",
      " [2015]\n",
      " [2016]\n",
      " [2021]\n",
      " [2020]\n",
      " [2017]\n",
      " [2016]\n",
      " [2018]\n",
      " [2015]\n",
      " [2016]\n",
      " [2017]\n",
      " [2018]\n",
      " [2015]\n",
      " [2006]\n",
      " [2019]\n",
      " [2018]\n",
      " [2010]\n",
      " [2012]\n",
      " [2016]\n",
      " [2011]\n",
      " [2011]\n",
      " [2017]\n",
      " [2009]\n",
      " [2017]\n",
      " [2005]\n",
      " [2012]\n",
      " [2008]\n",
      " [2013]\n",
      " [2019]\n",
      " [2012]\n",
      " [2014]\n",
      " [2015]\n",
      " [2006]\n",
      " [2014]\n",
      " [2018]\n",
      " [2017]\n",
      " [2009]\n",
      " [2019]\n",
      " [2014]\n",
      " [2007]\n",
      " [2019]\n",
      " [2018]\n",
      " [2012]\n",
      " [2010]\n",
      " [2019]\n",
      " [2014]\n",
      " [2009]\n",
      " [2015]\n",
      " [2014]\n",
      " [2019]\n",
      " [2017]\n",
      " [2006]\n",
      " [2007]\n",
      " [2011]\n",
      " [2013]\n",
      " [2013]\n",
      " [2016]\n",
      " [2015]\n",
      " [2019]\n",
      " [2019]\n",
      " [2015]\n",
      " [2008]\n",
      " [2018]\n",
      " [2020]\n",
      " [2013]\n",
      " [2013]\n",
      " [2012]]\n"
     ]
    }
   ],
   "source": [
    "print(len(X_test))\n",
    "print(X_test)\n",
    "\n",
    "X_test[30][0] = 2021\n",
    "    \n",
    "print(X_test)"
   ]
  },
  {
   "cell_type": "code",
   "execution_count": 67,
   "metadata": {},
   "outputs": [],
   "source": [
    "predictions = polyreg.predict(X_test)"
   ]
  },
  {
   "cell_type": "code",
   "execution_count": 68,
   "metadata": {},
   "outputs": [
    {
     "data": {
      "image/png": "[encoded data removed]",
      "text/plain": [
       "<Figure size 432x288 with 1 Axes>"
      ]
     },
     "metadata": {
      "needs_background": "light"
     },
     "output_type": "display_data"
    }
   ],
   "source": [
    "plt.scatter(X_test[:, 0], predictions, label='prediction')\n",
    "plt.scatter(X_test[:, 0], Y_test, label='test data')\n",
    "\n",
    "plt.xlabel(\"year\")\n",
    "plt.ylabel(\"CO2 emission\")\n",
    "plt.legend()\n",
    "plt.show()"
   ]
  },
  {
   "cell_type": "code",
   "execution_count": 73,
   "metadata": {},
   "outputs": [
    {
     "name": "stdout",
     "output_type": "stream",
     "text": [
      "0       2011-12-31\n",
      "1       2017-03-31\n",
      "2       2015-01-31\n",
      "3       2019-12-31\n",
      "4       2016-05-31\n",
      "           ...    \n",
      "25081   2020-08-31\n",
      "25082   2016-03-31\n",
      "25083   2018-06-03\n",
      "25084   2014-06-03\n",
      "25085   2010-03-31\n",
      "Name: StatementDetails.FinancialPeriodEndDate, Length: 25086, dtype: datetime64[ns]\n"
     ]
    },
    {
     "name": "stderr",
     "output_type": "stream",
     "text": [
      "<ipython-input-73-e93c2b8b3f8f>:1: SettingWithCopyWarning: \n",
      "A value is trying to be set on a copy of a slice from a DataFrame.\n",
      "Try using .loc[row_indexer,col_indexer] = value instead\n",
      "\n",
      "See the caveats in the documentation: https://pandas.pydata.org/pandas-docs/stable/user_guide/indexing.html#returning-a-view-versus-a-copy\n",
      "  air['StatementDetails.FinancialPeriodEndDate'] = air['StatementDetails.FinancialPeriodEndDate'].map(lambda x: x.rstrip('T00:00:00.000Z'))\n",
      "<ipython-input-73-e93c2b8b3f8f>:2: SettingWithCopyWarning: \n",
      "A value is trying to be set on a copy of a slice from a DataFrame.\n",
      "Try using .loc[row_indexer,col_indexer] = value instead\n",
      "\n",
      "See the caveats in the documentation: https://pandas.pydata.org/pandas-docs/stable/user_guide/indexing.html#returning-a-view-versus-a-copy\n",
      "  air['StatementDetails.FinancialPeriodEndDate'] = air['StatementDetails.FinancialPeriodEndDate'].map(lambda x: x.replace('-', '/'))\n",
      "<ipython-input-73-e93c2b8b3f8f>:3: SettingWithCopyWarning: \n",
      "A value is trying to be set on a copy of a slice from a DataFrame.\n",
      "Try using .loc[row_indexer,col_indexer] = value instead\n",
      "\n",
      "See the caveats in the documentation: https://pandas.pydata.org/pandas-docs/stable/user_guide/indexing.html#returning-a-view-versus-a-copy\n",
      "  air['StatementDetails.FinancialPeriodEndDate'] = air['StatementDetails.FinancialPeriodEndDate'].map(lambda x: datetime.strptime(x, '%Y/%m/%d'))\n"
     ]
    }
   ],
   "source": [
    "air['StatementDetails.FinancialPeriodEndDate'] = air['StatementDetails.FinancialPeriodEndDate'].map(lambda x: x.rstrip('T00:00:00.000Z'))\n",
    "air['StatementDetails.FinancialPeriodEndDate'] = air['StatementDetails.FinancialPeriodEndDate'].map(lambda x: x.replace('-', '/'))\n",
    "air['StatementDetails.FinancialPeriodEndDate'] = air['StatementDetails.FinancialPeriodEndDate'].map(lambda x: datetime.strptime(x, '%Y/%m/%d'))\n",
    "\n",
    "\n",
    "\n",
    "\n"
   ]
  },
  {
   "cell_type": "code",
   "execution_count": 79,
   "metadata": {},
   "outputs": [
    {
     "name": "stdout",
     "output_type": "stream",
     "text": [
      "Mean absolute error: 10184517.39\n",
      "Coefficient of determination: -0.30\n"
     ]
    },
    {
     "data": {
      "image/png": "[encoded data removed]",
      "text/plain": [
       "<Figure size 432x288 with 1 Axes>"
      ]
     },
     "metadata": {
      "needs_background": "light"
     },
     "output_type": "display_data"
    }
   ],
   "source": [
    "X = air.loc[:, ['StatementDetails.FinancialPeriodEndDate']]\n",
    "X = np.array(X)\n",
    "# X = X.reshape(-1,1) # alleen voor 1 input variable\n",
    "X_train, X_test, Y_train, Y_test = train_test_split(X,Y, test_size=0.33, random_state=42)\n",
    "degree = 1\n",
    "polyreg=make_pipeline(PolynomialFeatures(degree), LinearRegression())\n",
    "polyreg.fit(X_train,Y_train)\n",
    "predictions = polyreg.predict(X_test)\n",
    "print(\"Mean absolute error: %.2f\" % mean_absolute_error(Y_test, predictions))\n",
    "# The coefficient of determination: 1 is perfect prediction\n",
    "print(\"Coefficient of determination: %.2f\" % r2_score(Y_test, predictions))\n",
    "\n",
    "plt.plot(X_test[:, 0], predictions, label='prediction')\n",
    "plt.scatter(X_test[:, 0], Y_test, label='test data')\n",
    "\n",
    "plt.xlabel(\"year\")\n",
    "plt.ylabel(\"CO2 emission\")\n",
    "plt.legend()\n",
    "plt.show()\n",
    "\n"
   ]
  },
  {
   "cell_type": "code",
   "execution_count": null,
   "metadata": {},
   "outputs": [],
   "source": []
  }
 ],
 "metadata": {
  "kernelspec": {
   "display_name": "Python 3",
   "language": "python",
   "name": "python3"
  },
  "language_info": {
   "codemirror_mode": {
    "name": "ipython",
    "version": 3
   },
   "file_extension": ".py",
   "mimetype": "text/x-python",
   "name": "python",
   "nbconvert_exporter": "python",
   "pygments_lexer": "ipython3",
   "version": "3.8.5"
  }
 },
 "nbformat": 4,
 "nbformat_minor": 5
}
