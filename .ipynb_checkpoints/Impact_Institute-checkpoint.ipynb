{
 "cells": [
  {
   "cell_type": "code",
   "execution_count": 1,
   "id": "aa634dba",
   "metadata": {},
   "outputs": [],
   "source": [
    "# import TensorFlow as TF\n",
    "import pandas as pd\n",
    "import math\n",
    "import matplotlib.pylab as plt\n",
    "import numpy as np\n",
    "import statistics\n",
    "\n",
    "from sklearn import datasets\n",
    "from sklearn.impute import SimpleImputer # used for handling missing data\n"
   ]
  },
  {
   "cell_type": "code",
   "execution_count": 20,
   "id": "f3050b97",
   "metadata": {
    "scrolled": true
   },
   "outputs": [
    {
     "name": "stderr",
     "output_type": "stream",
     "text": [
      "/Users/raoulritter/miniforge3/envs/Jupyter_M1/lib/python3.10/site-packages/pandas/core/indexing.py:1773: SettingWithCopyWarning: \n",
      "A value is trying to be set on a copy of a slice from a DataFrame.\n",
      "Try using .loc[row_indexer,col_indexer] = value instead\n",
      "\n",
      "See the caveats in the documentation: https://pandas.pydata.org/pandas-docs/stable/user_guide/indexing.html#returning-a-view-versus-a-copy\n",
      "  self._setitem_single_column(ilocs[0], value, pi)\n"
     ]
    },
    {
     "name": "stdout",
     "output_type": "stream",
     "text": [
      "       organization_id StatementDetails.FinancialPeriodEndDate  \\\n",
      "66052            14346               2018-12-31 00:00:00+00:00   \n",
      "29557            14346               2019-12-31 00:00:00+00:00   \n",
      "\n",
      "       StatementDetails.FinancialPeriodFiscalYear  \\\n",
      "66052                                        2018   \n",
      "29557                                        2019   \n",
      "\n",
      "       StatementDetails.FinancialPeriodIsIncomplete  \\\n",
      "66052                                         False   \n",
      "29557                                         False   \n",
      "\n",
      "      StatementDetails.EsgOrAtdIndicator  EmissionDataPoints.AccidentalSpills  \\\n",
      "66052                                ESG                                  NaN   \n",
      "29557                                ESG                                  NaN   \n",
      "\n",
      "      EmissionDataPoints.AnalyticCO2EstimationMethod  \\\n",
      "66052                                         Median   \n",
      "29557                                       Reported   \n",
      "\n",
      "       EmissionDataPoints.AnalyticEstimatesCO2EquivalentsEmissionTotal  \\\n",
      "66052                                            51769.0                 \n",
      "29557                                            35942.0                 \n",
      "\n",
      "       EmissionDataPoints.BiodiversityImpactReduction  \\\n",
      "66052                                             0.0   \n",
      "29557                                             1.0   \n",
      "\n",
      "       EmissionDataPoints.CarbonOffsetsCredits  ...  \\\n",
      "66052                                      NaN  ...   \n",
      "29557                                      NaN  ...   \n",
      "\n",
      "       WorkforceIndicators.HealthAndSafetyPolicy  \\\n",
      "66052                                        1.0   \n",
      "29557                                        1.0   \n",
      "\n",
      "       WorkforceIndicators.InjuriesToMillionHours  \\\n",
      "66052                                         NaN   \n",
      "29557                                         1.2   \n",
      "\n",
      "       WorkforceIndicators.LostDaysToTotalDays  \\\n",
      "66052                                      NaN   \n",
      "29557                                      NaN   \n",
      "\n",
      "       WorkforceIndicators.NetEmploymentCreation  \\\n",
      "66052                                        NaN   \n",
      "29557                                    0.26351   \n",
      "\n",
      "       WorkforceIndicators.SalaryGap  \\\n",
      "66052                            NaN   \n",
      "29557                            NaN   \n",
      "\n",
      "       WorkforceIndicators.TrainingAndDevelopmentPolicy  \\\n",
      "66052                                               1.0   \n",
      "29557                                               1.0   \n",
      "\n",
      "       WorkforceIndicators.TrainingCostsPerEmployee  \\\n",
      "66052                                           NaN   \n",
      "29557                                           NaN   \n",
      "\n",
      "       WorkforceIndicators.WagesWorkingConditionControversies  \\\n",
      "66052                                                0.0        \n",
      "29557                                                0.0        \n",
      "\n",
      "                   GTAP country  GTAP sector  \n",
      "66052  United States of America         None  \n",
      "29557  United States of America         None  \n",
      "\n",
      "[2 rows x 184 columns]\n"
     ]
    }
   ],
   "source": [
    "\n",
    "df = pd.read_csv('data.csv')\n",
    "data_top = df.head()\n",
    "copy = df.copy() \n",
    "\n",
    "# 1 - Remove rows where the target column (Scope1) is NaN.\n",
    "\n",
    "#copy = copy[copy['EmissionDataPoints.CO2EquivalentsEmissionDirectScope1'].notna()] # drop all rows with NaN in target column\n",
    "#copy = copy.reset_index() \n",
    "\n",
    "# 2 - Replace all NaN from the attribute columns and replace for mean of that column\n",
    "\n",
    "# copy = copy.fillna(copy.mean())\n",
    "# col_names = copy.columns\n",
    "# sub2[col_names].fillna((sub2[col_names].mean()), inplace=True)\n",
    "\n",
    "# create dictionary with \n",
    "def create_dict(target_var, df): \n",
    "    org_ids = list(df.loc[:, target_var]) \n",
    "    list_set = set(org_ids) # get unique elements\n",
    "    unique = list(list_set) # place them in a list \n",
    "    df = df.groupby([target_var]) \n",
    "    \n",
    "    dictionary = {} \n",
    "    for item in unique:\n",
    "        df_id = df.get_group(item)\n",
    "        df_id.loc[:,\"StatementDetails.FinancialPeriodEndDate\"] = pd.to_datetime(df_id.loc[:,\"StatementDetails.FinancialPeriodEndDate\"])\n",
    "                \n",
    "        df_id = df_id.sort_values(by=\"StatementDetails.FinancialPeriodEndDate\")\n",
    "        dictionary[item] = df_id\n",
    "    \n",
    "    return dictionary\n",
    "\n",
    "dict_id = create_dict('organization_id', copy)\n",
    "print(dict_id[14346])\n",
    "\n",
    "#print(copy.organzation_id)\n",
    "\n",
    "#key_list = list(GTAP_sector_dict.keys())\n",
    "\n",
    "#print(key_list)\n",
    "\n",
    "#print(GTAP_sector_dict)\n",
    "\n",
    "# in the dictionary, we want to replace all the NaN of the values for the means of those columns.\n",
    "\n",
    "\n",
    "# # check missing values >> columns with lots of missing values are not useful. \n",
    "# missing_values_df = copy.isnull().sum().sort_values(ascending=False).head()\n",
    "# print(missing_values_df)\n",
    "\n",
    "# # replace NaN in column for mean of column with Imputer \n",
    "# imp = SimpleImputer(missing_values='NaN', strategy='mean')\n",
    "# imp = imp.fit(copy)\n",
    "\n",
    "\n",
    "\n",
    "#print(replace_NaN(GTAP_sector_dict))    \n",
    "\n"
   ]
  },
  {
   "cell_type": "code",
   "execution_count": 18,
   "id": "684c4c41",
   "metadata": {},
   "outputs": [],
   "source": [
    "# function for filling NaN's\n",
    "def fill_nan(df, column_name):\n",
    "    mean_value=df[column_name].mean()\n",
    "    df[column_name].fillna(value=mean_value, inplace=True)\n",
    "    return df\n",
    "\n",
    "# function for determining percentage NaN\n",
    "def ratio_nan(df, column_name):\n",
    "    ratio = df[column_name].isnull().sum() / len(df)\n",
    "    return ratio\n",
    "\n",
    "# function to loop over org_ids and creat df with ratio's nan in column\n",
    "def dict_ratios(dictionary, column_name):\n",
    "    dict_ratios = {}\n",
    "    for key in dictionary:\n",
    "        ratio_key = ratio_nan(dictionary[key], column_name)\n",
    "        dict_ratios[key] = ratio_key\n",
    "    return dict_ratios\n",
    "\n",
    "#print(np.array(list(dict_ratios(dict_id, 'EmissionDataPoints.CO2EquivalentsEmissionDirectScope1').values())).mean())\n",
    "#print(dict_ratios(dict_id, 'EmissionDataPoints.CO2EquivalentsEmissionDirectScope1'))\n",
    "\n",
    "def df_clean(df, column_name):\n",
    "    df = df.reset_index(drop=True)\n",
    "    \n",
    "    for i in range(1, len(df[column_name])-2):\n",
    "        if math.isnan(df.at[i, column_name]):\n",
    "            if not math.isnan(df.at[i-1, column_name]):\n",
    "                if not math.isnan(df.at[i+1, column_name]):\n",
    "                    mean = (df.at[i+1, column_name] + df.at[i-1, column_name])/2\n",
    "                    df.at[i, column_name] = mean\n",
    "                    \n",
    "#     if math.isnan(df.at[0, column_name]):\n",
    "#         if not math.isnan(df.at[1, column_name]):\n",
    "#             df.at[0, column_name] = df.at[1, column_name]\n",
    "            \n",
    "#     last_point = len(df[column_name]) - 1\n",
    "    \n",
    "#     if math.isnan(df.at[last_point, column_name]):\n",
    "#         if not math.isnan(df.at[last_point-1, column_name]):\n",
    "#             df.at[last_point, column_name] = df.at[last_point-1, column_name]\n",
    "    \n",
    "    df = df[df[column_name].notna()]\n",
    "    return df\n",
    "\n",
    "def dict_clean_better(dictionary, column_name, ratio):\n",
    "    dict_clean = {}\n",
    "    for key in dictionary:\n",
    "        ratio_key = ratio_nan(dictionary[key], column_name)\n",
    "        if ratio_key <= ratio:\n",
    "            dict_clean[key] = df_clean(dictionary[key], column_name)\n",
    "        else:\n",
    "            df_key = dictionary[key]\n",
    "            df_key = df_key[df_key[column_name].notna()]\n",
    "            dict_clean[key] = df_key\n",
    "    return dict_clean\n",
    "\n",
    "def dict_clean_final(dictionary, column_name):\n",
    "    dict_clean = {}\n",
    "    for key in dictionary.keys():\n",
    "        if len(dictionary[key][column_name]) > 0:\n",
    "            dict_clean[key] = df_clean(dictionary[key], column_name)\n",
    "    return dict_clean\n",
    "\n",
    "def dict_clean_mean(dictionary, column_name, ratio):\n",
    "    dict_clean = {}\n",
    "    for key in dictionary:\n",
    "        ratio_key = ratio_nan(dictionary[key], column_name)\n",
    "        if ratio_key <= ratio:\n",
    "            dict_clean[key] = fill_nan(dictionary[key], column_name)\n",
    "        else:\n",
    "            df_key = dictionary[key]\n",
    "            df_key = df_key[df_key[column_name].notna()]\n",
    "            dict_clean[key] = df_key\n",
    "    return dict_clean\n",
    "\n",
    "\n",
    "dict_nan = dict_clean_better(dict_id, 'EmissionDataPoints.CO2EquivalentsEmissionDirectScope1', 0.2)\n",
    "\n",
    "\n",
    "# print(ratio_nan(dict_id[6230], 'EmissionDataPoints.CO2EquivalentsEmissionDirectScope1'))\n",
    "\n",
    "# df_6230 = dict_id[6230]\n",
    "# df_clean_6230 = dict_nan[6230]\n",
    "\n",
    "#df_72 = dict_id[72]\n",
    "#df_clean_72 = dict_nan[72]\n",
    "\n",
    "#print(df_72['EmissionDataPoints.CO2EquivalentsEmissionDirectScope1'])\n",
    "#print(df_clean_72['EmissionDataPoints.CO2EquivalentsEmissionDirectScope1'])\n",
    "\n",
    "\n"
   ]
  },
  {
   "cell_type": "code",
   "execution_count": 11,
   "id": "ebec1750",
   "metadata": {},
   "outputs": [],
   "source": [
    "#copy.groupby(\"organization_id\")['EmissionDataPoints.CO2EquivalentsEmissionDirectScope1'].plot(x='StatementDetails.FinancialPeriodFiscalYear',y='EmissionDataPoints.CO2EquivalentsEmissionDirectScope1')\n",
    "# .mean()\n",
    "\n",
    "#print(list(copy.columns))\n",
    "\n",
    "\n",
    "df = df[df['organization_id'].notna()]\n",
    "\n",
    "\n",
    "def find_correlation(df, target_value,):\n",
    "    # way to determine if columns have correlation\n",
    "    df_target = df[target_value]\n",
    "    corr = df.corrwith(df_target)\n",
    "    return corr\n",
    "\n",
    "#print(dict(find_correlation(dict_nan[6230], 'EmissionDataPoints.CO2EquivalentsEmissionDirectScope1')))\n",
    "\n"
   ]
  },
  {
   "cell_type": "code",
   "execution_count": 12,
   "id": "e81297a2",
   "metadata": {},
   "outputs": [],
   "source": [
    "from datetime import datetime\n",
    "\n",
    "from sklearn import datasets, linear_model\n",
    "from sklearn.linear_model import LinearRegression\n",
    "from sklearn.metrics import mean_squared_error, r2_score\n",
    "from sklearn.impute import SimpleImputer # used for handling missing data\n",
    "from sklearn.preprocessing import PolynomialFeatures\n",
    "from sklearn.pipeline import make_pipeline\n",
    "from sklearn.model_selection import train_test_split\n",
    "from sklearn.neural_network import MLPRegressor\n",
    "from sklearn.datasets import make_regression\n",
    "from sklearn.metrics import mean_absolute_error\n",
    "\n",
    "# dict_id = create_dict('GTAP sector', copy)\n",
    "# air = dict_id['Air transport']\n",
    "# print(air)\n",
    "# Y = air['EmissionDataPoints.CO2EquivalentsEmissionDirectScope1']\n",
    "# X = air.loc[:, ['StatementDetails.FinancialPeriodFiscalYear']]\n",
    "\n",
    "# X = np.array(X)\n",
    "# # X = X.reshape(-1,1) # alleen voor 1 input variable\n",
    "# X_train, X_test, Y_train, Y_test = train_test_split(X,Y, test_size=0.33, random_state=42)\n",
    "# degree = 5\n",
    "# polyreg=make_pipeline(PolynomialFeatures(degree), LinearRegression())\n",
    "# polyreg.fit(X_train,Y_train)\n",
    "# predictions = polyreg.predict(X_test)\n",
    "\n",
    "# # print(\"Coefficients: \\n\", polyreg.coef_)\n",
    "# # The mean squared error\n",
    "# print(\"Mean absolute error: %.2f\" % mean_absolute_error(Y_test, predictions))\n",
    "# # The coefficient of determination: 1 is perfect prediction\n",
    "# print(\"Coefficient of determination: %.2f\" % r2_score(Y_test, predictions))\n",
    "\n",
    "# plt.scatter(X_test[:, 0], predictions, label='prediction')\n",
    "# plt.scatter(X_test[:, 0], Y_test, label='test data')\n",
    "\n",
    "# plt.xlabel(\"year\")\n",
    "# plt.ylabel(\"CO2 emission\")\n",
    "# plt.legend()\n",
    "# plt.show()"
   ]
  },
  {
   "cell_type": "code",
   "execution_count": 13,
   "id": "b31fd9d8",
   "metadata": {},
   "outputs": [
    {
     "name": "stderr",
     "output_type": "stream",
     "text": [
      "/var/folders/xr/5n5p0p5d4zjg8f57zwt16lyr0000gn/T/ipykernel_73218/3953964208.py:26: SettingWithCopyWarning: \n",
      "A value is trying to be set on a copy of a slice from a DataFrame.\n",
      "Try using .loc[row_indexer,col_indexer] = value instead\n",
      "\n",
      "See the caveats in the documentation: https://pandas.pydata.org/pandas-docs/stable/user_guide/indexing.html#returning-a-view-versus-a-copy\n",
      "  df_id[\"StatementDetails.FinancialPeriodEndDate\"] = pd.to_datetime(df_id[\"StatementDetails.FinancialPeriodEndDate\"])\n"
     ]
    },
    {
     "name": "stdout",
     "output_type": "stream",
     "text": [
      "11      7000000.0\n",
      "18      9700000.0\n",
      "22      6700000.0\n",
      "28     10200000.0\n",
      "32      6130968.0\n",
      "          ...    \n",
      "548    16315296.0\n",
      "552     3176634.0\n",
      "553     9276620.0\n",
      "556     1995197.0\n",
      "572    11020000.0\n",
      "Name: EmissionDataPoints.CO2EquivalentsEmissionDirectScope1, Length: 364, dtype: float64\n",
      "0       7000000.00\n",
      "1       9700000.00\n",
      "2       6700000.00\n",
      "3      10200000.00\n",
      "4       6130968.00\n",
      "          ...     \n",
      "357     3524184.00\n",
      "358      310626.37\n",
      "360     3176634.00\n",
      "362     1995197.00\n",
      "363    11020000.00\n",
      "Name: EmissionDataPoints.CO2EquivalentsEmissionDirectScope1, Length: 201, dtype: float64\n"
     ]
    }
   ],
   "source": [
    "def manage_outliers(df, column_name, d_max):\n",
    "    df = df.reset_index(drop=True)\n",
    "    for i in range(len(df[column_name])-1):\n",
    "        x = df.at[i, column_name]\n",
    "        x_hat = df[column_name].mean()\n",
    "        stddv = statistics.stdev(df[column_name])\n",
    "        d_x = (x - x_hat)/stddv\n",
    "        if d_x > d_max:\n",
    "            df = df.drop(i)\n",
    "    return df\n",
    "\n",
    "dict_id = create_dict('GTAP sector', copy)\n",
    "air = dict_id['Air transport']\n",
    "air = df_clean(air, 'EmissionDataPoints.CO2EquivalentsEmissionDirectScope1')\n",
    "\n",
    "print(air['EmissionDataPoints.CO2EquivalentsEmissionDirectScope1'])\n",
    "\n",
    "air_outliers = manage_outliers(air, 'EmissionDataPoints.CO2EquivalentsEmissionDirectScope1', 0.1)\n",
    "#print(air_outliers)\n",
    "print(air_outliers['EmissionDataPoints.CO2EquivalentsEmissionDirectScope1'])\n",
    "\n"
   ]
  },
  {
   "cell_type": "code",
   "execution_count": 14,
   "id": "8d6dc98c",
   "metadata": {},
   "outputs": [
    {
     "name": "stdout",
     "output_type": "stream",
     "text": [
      "Mean absolute error: 12336471.29\n",
      "Coefficient of determination: 0.00\n"
     ]
    },
    {
     "data": {
      "image/png": "[encoded data removed]",
      "text/plain": [
       "<Figure size 432x288 with 1 Axes>"
      ]
     },
     "metadata": {
      "needs_background": "light"
     },
     "output_type": "display_data"
    }
   ],
   "source": [
    "Y = air['EmissionDataPoints.CO2EquivalentsEmissionDirectScope1']\n",
    "X = air.loc[:, ['StatementDetails.FinancialPeriodFiscalYear']]\n",
    "\n",
    "X = np.array(X)\n",
    "# X = X.reshape(-1,1) # alleen voor 1 input variable\n",
    "X_train, X_test, Y_train, Y_test = train_test_split(X,Y, test_size=0.33, random_state=42)\n",
    "degree = 5\n",
    "polyreg=make_pipeline(PolynomialFeatures(degree), LinearRegression())\n",
    "polyreg.fit(X_train,Y_train)\n",
    "predictions = polyreg.predict(X_test)\n",
    "\n",
    "# print(\"Coefficients: \\n\", polyreg.coef_)\n",
    "# The mean squared error\n",
    "print(\"Mean absolute error: %.2f\" % mean_absolute_error(Y_test, predictions))\n",
    "# The coefficient of determination: 1 is perfect prediction\n",
    "print(\"Coefficient of determination: %.2f\" % r2_score(Y_test, predictions))\n",
    "\n",
    "plt.scatter(X_test[:, 0], predictions, label='prediction')\n",
    "plt.scatter(X_test[:, 0], Y_test, label='test data')\n",
    "\n",
    "plt.xlabel(\"year\")\n",
    "plt.ylabel(\"CO2 emission\")\n",
    "plt.legend()\n",
    "plt.show()"
   ]
  },
  {
   "cell_type": "code",
   "execution_count": 19,
   "id": "69cc37b7",
   "metadata": {},
   "outputs": [
    {
     "name": "stderr",
     "output_type": "stream",
     "text": [
      "/var/folders/xr/5n5p0p5d4zjg8f57zwt16lyr0000gn/T/ipykernel_73218/3953964208.py:26: SettingWithCopyWarning: \n",
      "A value is trying to be set on a copy of a slice from a DataFrame.\n",
      "Try using .loc[row_indexer,col_indexer] = value instead\n",
      "\n",
      "See the caveats in the documentation: https://pandas.pydata.org/pandas-docs/stable/user_guide/indexing.html#returning-a-view-versus-a-copy\n",
      "  df_id[\"StatementDetails.FinancialPeriodEndDate\"] = pd.to_datetime(df_id[\"StatementDetails.FinancialPeriodEndDate\"])\n"
     ]
    },
    {
     "name": "stdout",
     "output_type": "stream",
     "text": [
      "predictions based on sector (using scaled data)\n",
      "predictions based on sector (using scaled data)\n",
      "predictions based on sector (using scaled data)\n"
     ]
    },
    {
     "name": "stderr",
     "output_type": "stream",
     "text": [
      "/var/folders/xr/5n5p0p5d4zjg8f57zwt16lyr0000gn/T/ipykernel_73218/3953964208.py:26: SettingWithCopyWarning: \n",
      "A value is trying to be set on a copy of a slice from a DataFrame.\n",
      "Try using .loc[row_indexer,col_indexer] = value instead\n",
      "\n",
      "See the caveats in the documentation: https://pandas.pydata.org/pandas-docs/stable/user_guide/indexing.html#returning-a-view-versus-a-copy\n",
      "  df_id[\"StatementDetails.FinancialPeriodEndDate\"] = pd.to_datetime(df_id[\"StatementDetails.FinancialPeriodEndDate\"])\n",
      "/var/folders/xr/5n5p0p5d4zjg8f57zwt16lyr0000gn/T/ipykernel_73218/3953964208.py:26: SettingWithCopyWarning: \n",
      "A value is trying to be set on a copy of a slice from a DataFrame.\n",
      "Try using .loc[row_indexer,col_indexer] = value instead\n",
      "\n",
      "See the caveats in the documentation: https://pandas.pydata.org/pandas-docs/stable/user_guide/indexing.html#returning-a-view-versus-a-copy\n",
      "  df_id[\"StatementDetails.FinancialPeriodEndDate\"] = pd.to_datetime(df_id[\"StatementDetails.FinancialPeriodEndDate\"])\n"
     ]
    },
    {
     "name": "stdout",
     "output_type": "stream",
     "text": [
      "predictions based on sector (using scaled data)\n",
      "predictions based on sector (using scaled data)\n"
     ]
    },
    {
     "name": "stderr",
     "output_type": "stream",
     "text": [
      "/var/folders/xr/5n5p0p5d4zjg8f57zwt16lyr0000gn/T/ipykernel_73218/3953964208.py:26: SettingWithCopyWarning: \n",
      "A value is trying to be set on a copy of a slice from a DataFrame.\n",
      "Try using .loc[row_indexer,col_indexer] = value instead\n",
      "\n",
      "See the caveats in the documentation: https://pandas.pydata.org/pandas-docs/stable/user_guide/indexing.html#returning-a-view-versus-a-copy\n",
      "  df_id[\"StatementDetails.FinancialPeriodEndDate\"] = pd.to_datetime(df_id[\"StatementDetails.FinancialPeriodEndDate\"])\n",
      "/var/folders/xr/5n5p0p5d4zjg8f57zwt16lyr0000gn/T/ipykernel_73218/3953964208.py:26: SettingWithCopyWarning: \n",
      "A value is trying to be set on a copy of a slice from a DataFrame.\n",
      "Try using .loc[row_indexer,col_indexer] = value instead\n",
      "\n",
      "See the caveats in the documentation: https://pandas.pydata.org/pandas-docs/stable/user_guide/indexing.html#returning-a-view-versus-a-copy\n",
      "  df_id[\"StatementDetails.FinancialPeriodEndDate\"] = pd.to_datetime(df_id[\"StatementDetails.FinancialPeriodEndDate\"])\n"
     ]
    },
    {
     "name": "stdout",
     "output_type": "stream",
     "text": [
      "predictions based on sector (using scaled data)\n",
      "predictions based on sector (using scaled data)\n"
     ]
    },
    {
     "name": "stderr",
     "output_type": "stream",
     "text": [
      "/var/folders/xr/5n5p0p5d4zjg8f57zwt16lyr0000gn/T/ipykernel_73218/3953964208.py:26: SettingWithCopyWarning: \n",
      "A value is trying to be set on a copy of a slice from a DataFrame.\n",
      "Try using .loc[row_indexer,col_indexer] = value instead\n",
      "\n",
      "See the caveats in the documentation: https://pandas.pydata.org/pandas-docs/stable/user_guide/indexing.html#returning-a-view-versus-a-copy\n",
      "  df_id[\"StatementDetails.FinancialPeriodEndDate\"] = pd.to_datetime(df_id[\"StatementDetails.FinancialPeriodEndDate\"])\n",
      "/var/folders/xr/5n5p0p5d4zjg8f57zwt16lyr0000gn/T/ipykernel_73218/3953964208.py:26: SettingWithCopyWarning: \n",
      "A value is trying to be set on a copy of a slice from a DataFrame.\n",
      "Try using .loc[row_indexer,col_indexer] = value instead\n",
      "\n",
      "See the caveats in the documentation: https://pandas.pydata.org/pandas-docs/stable/user_guide/indexing.html#returning-a-view-versus-a-copy\n",
      "  df_id[\"StatementDetails.FinancialPeriodEndDate\"] = pd.to_datetime(df_id[\"StatementDetails.FinancialPeriodEndDate\"])\n"
     ]
    },
    {
     "name": "stdout",
     "output_type": "stream",
     "text": [
      "predictions based on sector (using scaled data)\n",
      "predictions based on sector (using scaled data)\n"
     ]
    },
    {
     "name": "stderr",
     "output_type": "stream",
     "text": [
      "/var/folders/xr/5n5p0p5d4zjg8f57zwt16lyr0000gn/T/ipykernel_73218/3953964208.py:26: SettingWithCopyWarning: \n",
      "A value is trying to be set on a copy of a slice from a DataFrame.\n",
      "Try using .loc[row_indexer,col_indexer] = value instead\n",
      "\n",
      "See the caveats in the documentation: https://pandas.pydata.org/pandas-docs/stable/user_guide/indexing.html#returning-a-view-versus-a-copy\n",
      "  df_id[\"StatementDetails.FinancialPeriodEndDate\"] = pd.to_datetime(df_id[\"StatementDetails.FinancialPeriodEndDate\"])\n",
      "/var/folders/xr/5n5p0p5d4zjg8f57zwt16lyr0000gn/T/ipykernel_73218/3953964208.py:26: SettingWithCopyWarning: \n",
      "A value is trying to be set on a copy of a slice from a DataFrame.\n",
      "Try using .loc[row_indexer,col_indexer] = value instead\n",
      "\n",
      "See the caveats in the documentation: https://pandas.pydata.org/pandas-docs/stable/user_guide/indexing.html#returning-a-view-versus-a-copy\n",
      "  df_id[\"StatementDetails.FinancialPeriodEndDate\"] = pd.to_datetime(df_id[\"StatementDetails.FinancialPeriodEndDate\"])\n"
     ]
    },
    {
     "name": "stdout",
     "output_type": "stream",
     "text": [
      "predictions based on sector (using scaled data)\n",
      "predictions based on sector (using scaled data)\n"
     ]
    },
    {
     "name": "stderr",
     "output_type": "stream",
     "text": [
      "/var/folders/xr/5n5p0p5d4zjg8f57zwt16lyr0000gn/T/ipykernel_73218/3953964208.py:26: SettingWithCopyWarning: \n",
      "A value is trying to be set on a copy of a slice from a DataFrame.\n",
      "Try using .loc[row_indexer,col_indexer] = value instead\n",
      "\n",
      "See the caveats in the documentation: https://pandas.pydata.org/pandas-docs/stable/user_guide/indexing.html#returning-a-view-versus-a-copy\n",
      "  df_id[\"StatementDetails.FinancialPeriodEndDate\"] = pd.to_datetime(df_id[\"StatementDetails.FinancialPeriodEndDate\"])\n",
      "/var/folders/xr/5n5p0p5d4zjg8f57zwt16lyr0000gn/T/ipykernel_73218/3953964208.py:26: SettingWithCopyWarning: \n",
      "A value is trying to be set on a copy of a slice from a DataFrame.\n",
      "Try using .loc[row_indexer,col_indexer] = value instead\n",
      "\n",
      "See the caveats in the documentation: https://pandas.pydata.org/pandas-docs/stable/user_guide/indexing.html#returning-a-view-versus-a-copy\n",
      "  df_id[\"StatementDetails.FinancialPeriodEndDate\"] = pd.to_datetime(df_id[\"StatementDetails.FinancialPeriodEndDate\"])\n"
     ]
    },
    {
     "name": "stdout",
     "output_type": "stream",
     "text": [
      "predictions based on sector (using scaled data)\n"
     ]
    },
    {
     "name": "stderr",
     "output_type": "stream",
     "text": [
      "/var/folders/xr/5n5p0p5d4zjg8f57zwt16lyr0000gn/T/ipykernel_73218/3953964208.py:26: SettingWithCopyWarning: \n",
      "A value is trying to be set on a copy of a slice from a DataFrame.\n",
      "Try using .loc[row_indexer,col_indexer] = value instead\n",
      "\n",
      "See the caveats in the documentation: https://pandas.pydata.org/pandas-docs/stable/user_guide/indexing.html#returning-a-view-versus-a-copy\n",
      "  df_id[\"StatementDetails.FinancialPeriodEndDate\"] = pd.to_datetime(df_id[\"StatementDetails.FinancialPeriodEndDate\"])\n"
     ]
    },
    {
     "name": "stdout",
     "output_type": "stream",
     "text": [
      "predictions based on sector (using scaled data)\n",
      "predictions based on sector (using scaled data)\n"
     ]
    },
    {
     "name": "stderr",
     "output_type": "stream",
     "text": [
      "/var/folders/xr/5n5p0p5d4zjg8f57zwt16lyr0000gn/T/ipykernel_73218/3953964208.py:26: SettingWithCopyWarning: \n",
      "A value is trying to be set on a copy of a slice from a DataFrame.\n",
      "Try using .loc[row_indexer,col_indexer] = value instead\n",
      "\n",
      "See the caveats in the documentation: https://pandas.pydata.org/pandas-docs/stable/user_guide/indexing.html#returning-a-view-versus-a-copy\n",
      "  df_id[\"StatementDetails.FinancialPeriodEndDate\"] = pd.to_datetime(df_id[\"StatementDetails.FinancialPeriodEndDate\"])\n",
      "/var/folders/xr/5n5p0p5d4zjg8f57zwt16lyr0000gn/T/ipykernel_73218/3953964208.py:26: SettingWithCopyWarning: \n",
      "A value is trying to be set on a copy of a slice from a DataFrame.\n",
      "Try using .loc[row_indexer,col_indexer] = value instead\n",
      "\n",
      "See the caveats in the documentation: https://pandas.pydata.org/pandas-docs/stable/user_guide/indexing.html#returning-a-view-versus-a-copy\n",
      "  df_id[\"StatementDetails.FinancialPeriodEndDate\"] = pd.to_datetime(df_id[\"StatementDetails.FinancialPeriodEndDate\"])\n"
     ]
    },
    {
     "name": "stdout",
     "output_type": "stream",
     "text": [
      "predictions based on sector (using scaled data)\n",
      "predictions based on sector (using scaled data)\n"
     ]
    },
    {
     "name": "stderr",
     "output_type": "stream",
     "text": [
      "/var/folders/xr/5n5p0p5d4zjg8f57zwt16lyr0000gn/T/ipykernel_73218/3953964208.py:26: SettingWithCopyWarning: \n",
      "A value is trying to be set on a copy of a slice from a DataFrame.\n",
      "Try using .loc[row_indexer,col_indexer] = value instead\n",
      "\n",
      "See the caveats in the documentation: https://pandas.pydata.org/pandas-docs/stable/user_guide/indexing.html#returning-a-view-versus-a-copy\n",
      "  df_id[\"StatementDetails.FinancialPeriodEndDate\"] = pd.to_datetime(df_id[\"StatementDetails.FinancialPeriodEndDate\"])\n",
      "/var/folders/xr/5n5p0p5d4zjg8f57zwt16lyr0000gn/T/ipykernel_73218/3953964208.py:26: SettingWithCopyWarning: \n",
      "A value is trying to be set on a copy of a slice from a DataFrame.\n",
      "Try using .loc[row_indexer,col_indexer] = value instead\n",
      "\n",
      "See the caveats in the documentation: https://pandas.pydata.org/pandas-docs/stable/user_guide/indexing.html#returning-a-view-versus-a-copy\n",
      "  df_id[\"StatementDetails.FinancialPeriodEndDate\"] = pd.to_datetime(df_id[\"StatementDetails.FinancialPeriodEndDate\"])\n"
     ]
    },
    {
     "name": "stdout",
     "output_type": "stream",
     "text": [
      "predictions based on sector (using scaled data)\n",
      "predictions based on sector (using scaled data)\n"
     ]
    },
    {
     "name": "stderr",
     "output_type": "stream",
     "text": [
      "/var/folders/xr/5n5p0p5d4zjg8f57zwt16lyr0000gn/T/ipykernel_73218/3953964208.py:26: SettingWithCopyWarning: \n",
      "A value is trying to be set on a copy of a slice from a DataFrame.\n",
      "Try using .loc[row_indexer,col_indexer] = value instead\n",
      "\n",
      "See the caveats in the documentation: https://pandas.pydata.org/pandas-docs/stable/user_guide/indexing.html#returning-a-view-versus-a-copy\n",
      "  df_id[\"StatementDetails.FinancialPeriodEndDate\"] = pd.to_datetime(df_id[\"StatementDetails.FinancialPeriodEndDate\"])\n",
      "/var/folders/xr/5n5p0p5d4zjg8f57zwt16lyr0000gn/T/ipykernel_73218/3953964208.py:26: SettingWithCopyWarning: \n",
      "A value is trying to be set on a copy of a slice from a DataFrame.\n",
      "Try using .loc[row_indexer,col_indexer] = value instead\n",
      "\n",
      "See the caveats in the documentation: https://pandas.pydata.org/pandas-docs/stable/user_guide/indexing.html#returning-a-view-versus-a-copy\n",
      "  df_id[\"StatementDetails.FinancialPeriodEndDate\"] = pd.to_datetime(df_id[\"StatementDetails.FinancialPeriodEndDate\"])\n"
     ]
    },
    {
     "name": "stdout",
     "output_type": "stream",
     "text": [
      "predictions based on sector (using scaled data)\n",
      "predictions based on sector (using scaled data)\n"
     ]
    },
    {
     "name": "stderr",
     "output_type": "stream",
     "text": [
      "/var/folders/xr/5n5p0p5d4zjg8f57zwt16lyr0000gn/T/ipykernel_73218/3953964208.py:26: SettingWithCopyWarning: \n",
      "A value is trying to be set on a copy of a slice from a DataFrame.\n",
      "Try using .loc[row_indexer,col_indexer] = value instead\n",
      "\n",
      "See the caveats in the documentation: https://pandas.pydata.org/pandas-docs/stable/user_guide/indexing.html#returning-a-view-versus-a-copy\n",
      "  df_id[\"StatementDetails.FinancialPeriodEndDate\"] = pd.to_datetime(df_id[\"StatementDetails.FinancialPeriodEndDate\"])\n",
      "/var/folders/xr/5n5p0p5d4zjg8f57zwt16lyr0000gn/T/ipykernel_73218/3953964208.py:26: SettingWithCopyWarning: \n",
      "A value is trying to be set on a copy of a slice from a DataFrame.\n",
      "Try using .loc[row_indexer,col_indexer] = value instead\n",
      "\n",
      "See the caveats in the documentation: https://pandas.pydata.org/pandas-docs/stable/user_guide/indexing.html#returning-a-view-versus-a-copy\n",
      "  df_id[\"StatementDetails.FinancialPeriodEndDate\"] = pd.to_datetime(df_id[\"StatementDetails.FinancialPeriodEndDate\"])\n"
     ]
    },
    {
     "name": "stdout",
     "output_type": "stream",
     "text": [
      "predictions based on sector (using scaled data)\n"
     ]
    },
    {
     "name": "stderr",
     "output_type": "stream",
     "text": [
      "/var/folders/xr/5n5p0p5d4zjg8f57zwt16lyr0000gn/T/ipykernel_73218/3953964208.py:26: SettingWithCopyWarning: \n",
      "A value is trying to be set on a copy of a slice from a DataFrame.\n",
      "Try using .loc[row_indexer,col_indexer] = value instead\n",
      "\n",
      "See the caveats in the documentation: https://pandas.pydata.org/pandas-docs/stable/user_guide/indexing.html#returning-a-view-versus-a-copy\n",
      "  df_id[\"StatementDetails.FinancialPeriodEndDate\"] = pd.to_datetime(df_id[\"StatementDetails.FinancialPeriodEndDate\"])\n"
     ]
    },
    {
     "name": "stdout",
     "output_type": "stream",
     "text": [
      "predictions based on sector (using scaled data)\n",
      "predictions based on sector (using scaled data)\n"
     ]
    },
    {
     "name": "stderr",
     "output_type": "stream",
     "text": [
      "/var/folders/xr/5n5p0p5d4zjg8f57zwt16lyr0000gn/T/ipykernel_73218/3953964208.py:26: SettingWithCopyWarning: \n",
      "A value is trying to be set on a copy of a slice from a DataFrame.\n",
      "Try using .loc[row_indexer,col_indexer] = value instead\n",
      "\n",
      "See the caveats in the documentation: https://pandas.pydata.org/pandas-docs/stable/user_guide/indexing.html#returning-a-view-versus-a-copy\n",
      "  df_id[\"StatementDetails.FinancialPeriodEndDate\"] = pd.to_datetime(df_id[\"StatementDetails.FinancialPeriodEndDate\"])\n",
      "/var/folders/xr/5n5p0p5d4zjg8f57zwt16lyr0000gn/T/ipykernel_73218/3953964208.py:26: SettingWithCopyWarning: \n",
      "A value is trying to be set on a copy of a slice from a DataFrame.\n",
      "Try using .loc[row_indexer,col_indexer] = value instead\n",
      "\n",
      "See the caveats in the documentation: https://pandas.pydata.org/pandas-docs/stable/user_guide/indexing.html#returning-a-view-versus-a-copy\n",
      "  df_id[\"StatementDetails.FinancialPeriodEndDate\"] = pd.to_datetime(df_id[\"StatementDetails.FinancialPeriodEndDate\"])\n"
     ]
    },
    {
     "name": "stdout",
     "output_type": "stream",
     "text": [
      "predictions based on sector (using scaled data)\n",
      "predictions based on sector (using scaled data)\n"
     ]
    },
    {
     "name": "stderr",
     "output_type": "stream",
     "text": [
      "/var/folders/xr/5n5p0p5d4zjg8f57zwt16lyr0000gn/T/ipykernel_73218/3953964208.py:26: SettingWithCopyWarning: \n",
      "A value is trying to be set on a copy of a slice from a DataFrame.\n",
      "Try using .loc[row_indexer,col_indexer] = value instead\n",
      "\n",
      "See the caveats in the documentation: https://pandas.pydata.org/pandas-docs/stable/user_guide/indexing.html#returning-a-view-versus-a-copy\n",
      "  df_id[\"StatementDetails.FinancialPeriodEndDate\"] = pd.to_datetime(df_id[\"StatementDetails.FinancialPeriodEndDate\"])\n",
      "/var/folders/xr/5n5p0p5d4zjg8f57zwt16lyr0000gn/T/ipykernel_73218/3953964208.py:26: SettingWithCopyWarning: \n",
      "A value is trying to be set on a copy of a slice from a DataFrame.\n",
      "Try using .loc[row_indexer,col_indexer] = value instead\n",
      "\n",
      "See the caveats in the documentation: https://pandas.pydata.org/pandas-docs/stable/user_guide/indexing.html#returning-a-view-versus-a-copy\n",
      "  df_id[\"StatementDetails.FinancialPeriodEndDate\"] = pd.to_datetime(df_id[\"StatementDetails.FinancialPeriodEndDate\"])\n"
     ]
    },
    {
     "name": "stdout",
     "output_type": "stream",
     "text": [
      "predictions based on sector (using scaled data)\n",
      "predictions based on sector (using scaled data)\n"
     ]
    },
    {
     "name": "stderr",
     "output_type": "stream",
     "text": [
      "/var/folders/xr/5n5p0p5d4zjg8f57zwt16lyr0000gn/T/ipykernel_73218/3953964208.py:26: SettingWithCopyWarning: \n",
      "A value is trying to be set on a copy of a slice from a DataFrame.\n",
      "Try using .loc[row_indexer,col_indexer] = value instead\n",
      "\n",
      "See the caveats in the documentation: https://pandas.pydata.org/pandas-docs/stable/user_guide/indexing.html#returning-a-view-versus-a-copy\n",
      "  df_id[\"StatementDetails.FinancialPeriodEndDate\"] = pd.to_datetime(df_id[\"StatementDetails.FinancialPeriodEndDate\"])\n",
      "/var/folders/xr/5n5p0p5d4zjg8f57zwt16lyr0000gn/T/ipykernel_73218/3953964208.py:26: SettingWithCopyWarning: \n",
      "A value is trying to be set on a copy of a slice from a DataFrame.\n",
      "Try using .loc[row_indexer,col_indexer] = value instead\n",
      "\n",
      "See the caveats in the documentation: https://pandas.pydata.org/pandas-docs/stable/user_guide/indexing.html#returning-a-view-versus-a-copy\n",
      "  df_id[\"StatementDetails.FinancialPeriodEndDate\"] = pd.to_datetime(df_id[\"StatementDetails.FinancialPeriodEndDate\"])\n"
     ]
    },
    {
     "name": "stdout",
     "output_type": "stream",
     "text": [
      "predictions based on sector (using scaled data)\n",
      "predictions based on sector (using scaled data)\n"
     ]
    },
    {
     "name": "stderr",
     "output_type": "stream",
     "text": [
      "/var/folders/xr/5n5p0p5d4zjg8f57zwt16lyr0000gn/T/ipykernel_73218/3953964208.py:26: SettingWithCopyWarning: \n",
      "A value is trying to be set on a copy of a slice from a DataFrame.\n",
      "Try using .loc[row_indexer,col_indexer] = value instead\n",
      "\n",
      "See the caveats in the documentation: https://pandas.pydata.org/pandas-docs/stable/user_guide/indexing.html#returning-a-view-versus-a-copy\n",
      "  df_id[\"StatementDetails.FinancialPeriodEndDate\"] = pd.to_datetime(df_id[\"StatementDetails.FinancialPeriodEndDate\"])\n",
      "/var/folders/xr/5n5p0p5d4zjg8f57zwt16lyr0000gn/T/ipykernel_73218/3953964208.py:26: SettingWithCopyWarning: \n",
      "A value is trying to be set on a copy of a slice from a DataFrame.\n",
      "Try using .loc[row_indexer,col_indexer] = value instead\n",
      "\n",
      "See the caveats in the documentation: https://pandas.pydata.org/pandas-docs/stable/user_guide/indexing.html#returning-a-view-versus-a-copy\n",
      "  df_id[\"StatementDetails.FinancialPeriodEndDate\"] = pd.to_datetime(df_id[\"StatementDetails.FinancialPeriodEndDate\"])\n"
     ]
    },
    {
     "name": "stdout",
     "output_type": "stream",
     "text": [
      "predictions based on sector (using scaled data)\n",
      "predictions based on sector (using scaled data)\n"
     ]
    },
    {
     "name": "stderr",
     "output_type": "stream",
     "text": [
      "/var/folders/xr/5n5p0p5d4zjg8f57zwt16lyr0000gn/T/ipykernel_73218/3953964208.py:26: SettingWithCopyWarning: \n",
      "A value is trying to be set on a copy of a slice from a DataFrame.\n",
      "Try using .loc[row_indexer,col_indexer] = value instead\n",
      "\n",
      "See the caveats in the documentation: https://pandas.pydata.org/pandas-docs/stable/user_guide/indexing.html#returning-a-view-versus-a-copy\n",
      "  df_id[\"StatementDetails.FinancialPeriodEndDate\"] = pd.to_datetime(df_id[\"StatementDetails.FinancialPeriodEndDate\"])\n",
      "/var/folders/xr/5n5p0p5d4zjg8f57zwt16lyr0000gn/T/ipykernel_73218/3953964208.py:26: SettingWithCopyWarning: \n",
      "A value is trying to be set on a copy of a slice from a DataFrame.\n",
      "Try using .loc[row_indexer,col_indexer] = value instead\n",
      "\n",
      "See the caveats in the documentation: https://pandas.pydata.org/pandas-docs/stable/user_guide/indexing.html#returning-a-view-versus-a-copy\n",
      "  df_id[\"StatementDetails.FinancialPeriodEndDate\"] = pd.to_datetime(df_id[\"StatementDetails.FinancialPeriodEndDate\"])\n"
     ]
    },
    {
     "name": "stdout",
     "output_type": "stream",
     "text": [
      "predictions based on sector (using scaled data)\n"
     ]
    },
    {
     "name": "stderr",
     "output_type": "stream",
     "text": [
      "/var/folders/xr/5n5p0p5d4zjg8f57zwt16lyr0000gn/T/ipykernel_73218/3953964208.py:26: SettingWithCopyWarning: \n",
      "A value is trying to be set on a copy of a slice from a DataFrame.\n",
      "Try using .loc[row_indexer,col_indexer] = value instead\n",
      "\n",
      "See the caveats in the documentation: https://pandas.pydata.org/pandas-docs/stable/user_guide/indexing.html#returning-a-view-versus-a-copy\n",
      "  df_id[\"StatementDetails.FinancialPeriodEndDate\"] = pd.to_datetime(df_id[\"StatementDetails.FinancialPeriodEndDate\"])\n"
     ]
    },
    {
     "name": "stdout",
     "output_type": "stream",
     "text": [
      "predictions based on sector (using scaled data)\n",
      "predictions based on sector (using scaled data)\n"
     ]
    },
    {
     "name": "stderr",
     "output_type": "stream",
     "text": [
      "/var/folders/xr/5n5p0p5d4zjg8f57zwt16lyr0000gn/T/ipykernel_73218/3953964208.py:26: SettingWithCopyWarning: \n",
      "A value is trying to be set on a copy of a slice from a DataFrame.\n",
      "Try using .loc[row_indexer,col_indexer] = value instead\n",
      "\n",
      "See the caveats in the documentation: https://pandas.pydata.org/pandas-docs/stable/user_guide/indexing.html#returning-a-view-versus-a-copy\n",
      "  df_id[\"StatementDetails.FinancialPeriodEndDate\"] = pd.to_datetime(df_id[\"StatementDetails.FinancialPeriodEndDate\"])\n",
      "/var/folders/xr/5n5p0p5d4zjg8f57zwt16lyr0000gn/T/ipykernel_73218/3953964208.py:26: SettingWithCopyWarning: \n",
      "A value is trying to be set on a copy of a slice from a DataFrame.\n",
      "Try using .loc[row_indexer,col_indexer] = value instead\n",
      "\n",
      "See the caveats in the documentation: https://pandas.pydata.org/pandas-docs/stable/user_guide/indexing.html#returning-a-view-versus-a-copy\n",
      "  df_id[\"StatementDetails.FinancialPeriodEndDate\"] = pd.to_datetime(df_id[\"StatementDetails.FinancialPeriodEndDate\"])\n"
     ]
    },
    {
     "name": "stdout",
     "output_type": "stream",
     "text": [
      "predictions based on sector (using scaled data)\n",
      "predictions based on sector (using scaled data)\n"
     ]
    },
    {
     "name": "stderr",
     "output_type": "stream",
     "text": [
      "/var/folders/xr/5n5p0p5d4zjg8f57zwt16lyr0000gn/T/ipykernel_73218/3953964208.py:26: SettingWithCopyWarning: \n",
      "A value is trying to be set on a copy of a slice from a DataFrame.\n",
      "Try using .loc[row_indexer,col_indexer] = value instead\n",
      "\n",
      "See the caveats in the documentation: https://pandas.pydata.org/pandas-docs/stable/user_guide/indexing.html#returning-a-view-versus-a-copy\n",
      "  df_id[\"StatementDetails.FinancialPeriodEndDate\"] = pd.to_datetime(df_id[\"StatementDetails.FinancialPeriodEndDate\"])\n",
      "/var/folders/xr/5n5p0p5d4zjg8f57zwt16lyr0000gn/T/ipykernel_73218/3953964208.py:26: SettingWithCopyWarning: \n",
      "A value is trying to be set on a copy of a slice from a DataFrame.\n",
      "Try using .loc[row_indexer,col_indexer] = value instead\n",
      "\n",
      "See the caveats in the documentation: https://pandas.pydata.org/pandas-docs/stable/user_guide/indexing.html#returning-a-view-versus-a-copy\n",
      "  df_id[\"StatementDetails.FinancialPeriodEndDate\"] = pd.to_datetime(df_id[\"StatementDetails.FinancialPeriodEndDate\"])\n"
     ]
    },
    {
     "name": "stdout",
     "output_type": "stream",
     "text": [
      "predictions based on sector (using scaled data)\n",
      "predictions based on sector (using scaled data)\n"
     ]
    },
    {
     "name": "stderr",
     "output_type": "stream",
     "text": [
      "/var/folders/xr/5n5p0p5d4zjg8f57zwt16lyr0000gn/T/ipykernel_73218/3953964208.py:26: SettingWithCopyWarning: \n",
      "A value is trying to be set on a copy of a slice from a DataFrame.\n",
      "Try using .loc[row_indexer,col_indexer] = value instead\n",
      "\n",
      "See the caveats in the documentation: https://pandas.pydata.org/pandas-docs/stable/user_guide/indexing.html#returning-a-view-versus-a-copy\n",
      "  df_id[\"StatementDetails.FinancialPeriodEndDate\"] = pd.to_datetime(df_id[\"StatementDetails.FinancialPeriodEndDate\"])\n",
      "/var/folders/xr/5n5p0p5d4zjg8f57zwt16lyr0000gn/T/ipykernel_73218/3953964208.py:26: SettingWithCopyWarning: \n",
      "A value is trying to be set on a copy of a slice from a DataFrame.\n",
      "Try using .loc[row_indexer,col_indexer] = value instead\n",
      "\n",
      "See the caveats in the documentation: https://pandas.pydata.org/pandas-docs/stable/user_guide/indexing.html#returning-a-view-versus-a-copy\n",
      "  df_id[\"StatementDetails.FinancialPeriodEndDate\"] = pd.to_datetime(df_id[\"StatementDetails.FinancialPeriodEndDate\"])\n"
     ]
    },
    {
     "name": "stdout",
     "output_type": "stream",
     "text": [
      "predictions based on sector (using scaled data)\n",
      "predictions based on sector (using scaled data)\n"
     ]
    },
    {
     "name": "stderr",
     "output_type": "stream",
     "text": [
      "/var/folders/xr/5n5p0p5d4zjg8f57zwt16lyr0000gn/T/ipykernel_73218/3953964208.py:26: SettingWithCopyWarning: \n",
      "A value is trying to be set on a copy of a slice from a DataFrame.\n",
      "Try using .loc[row_indexer,col_indexer] = value instead\n",
      "\n",
      "See the caveats in the documentation: https://pandas.pydata.org/pandas-docs/stable/user_guide/indexing.html#returning-a-view-versus-a-copy\n",
      "  df_id[\"StatementDetails.FinancialPeriodEndDate\"] = pd.to_datetime(df_id[\"StatementDetails.FinancialPeriodEndDate\"])\n",
      "/var/folders/xr/5n5p0p5d4zjg8f57zwt16lyr0000gn/T/ipykernel_73218/3953964208.py:26: SettingWithCopyWarning: \n",
      "A value is trying to be set on a copy of a slice from a DataFrame.\n",
      "Try using .loc[row_indexer,col_indexer] = value instead\n",
      "\n",
      "See the caveats in the documentation: https://pandas.pydata.org/pandas-docs/stable/user_guide/indexing.html#returning-a-view-versus-a-copy\n",
      "  df_id[\"StatementDetails.FinancialPeriodEndDate\"] = pd.to_datetime(df_id[\"StatementDetails.FinancialPeriodEndDate\"])\n"
     ]
    },
    {
     "name": "stdout",
     "output_type": "stream",
     "text": [
      "predictions based on sector (using scaled data)\n",
      "predictions based on sector (using scaled data)\n"
     ]
    },
    {
     "name": "stderr",
     "output_type": "stream",
     "text": [
      "/var/folders/xr/5n5p0p5d4zjg8f57zwt16lyr0000gn/T/ipykernel_73218/3953964208.py:26: SettingWithCopyWarning: \n",
      "A value is trying to be set on a copy of a slice from a DataFrame.\n",
      "Try using .loc[row_indexer,col_indexer] = value instead\n",
      "\n",
      "See the caveats in the documentation: https://pandas.pydata.org/pandas-docs/stable/user_guide/indexing.html#returning-a-view-versus-a-copy\n",
      "  df_id[\"StatementDetails.FinancialPeriodEndDate\"] = pd.to_datetime(df_id[\"StatementDetails.FinancialPeriodEndDate\"])\n",
      "/var/folders/xr/5n5p0p5d4zjg8f57zwt16lyr0000gn/T/ipykernel_73218/3953964208.py:26: SettingWithCopyWarning: \n",
      "A value is trying to be set on a copy of a slice from a DataFrame.\n",
      "Try using .loc[row_indexer,col_indexer] = value instead\n",
      "\n",
      "See the caveats in the documentation: https://pandas.pydata.org/pandas-docs/stable/user_guide/indexing.html#returning-a-view-versus-a-copy\n",
      "  df_id[\"StatementDetails.FinancialPeriodEndDate\"] = pd.to_datetime(df_id[\"StatementDetails.FinancialPeriodEndDate\"])\n"
     ]
    },
    {
     "name": "stdout",
     "output_type": "stream",
     "text": [
      "predictions based on sector (using scaled data)\n"
     ]
    },
    {
     "name": "stderr",
     "output_type": "stream",
     "text": [
      "/var/folders/xr/5n5p0p5d4zjg8f57zwt16lyr0000gn/T/ipykernel_73218/3953964208.py:26: SettingWithCopyWarning: \n",
      "A value is trying to be set on a copy of a slice from a DataFrame.\n",
      "Try using .loc[row_indexer,col_indexer] = value instead\n",
      "\n",
      "See the caveats in the documentation: https://pandas.pydata.org/pandas-docs/stable/user_guide/indexing.html#returning-a-view-versus-a-copy\n",
      "  df_id[\"StatementDetails.FinancialPeriodEndDate\"] = pd.to_datetime(df_id[\"StatementDetails.FinancialPeriodEndDate\"])\n"
     ]
    },
    {
     "name": "stdout",
     "output_type": "stream",
     "text": [
      "predictions based on sector (using scaled data)\n",
      "predictions based on sector (using scaled data)\n"
     ]
    },
    {
     "name": "stderr",
     "output_type": "stream",
     "text": [
      "/var/folders/xr/5n5p0p5d4zjg8f57zwt16lyr0000gn/T/ipykernel_73218/3953964208.py:26: SettingWithCopyWarning: \n",
      "A value is trying to be set on a copy of a slice from a DataFrame.\n",
      "Try using .loc[row_indexer,col_indexer] = value instead\n",
      "\n",
      "See the caveats in the documentation: https://pandas.pydata.org/pandas-docs/stable/user_guide/indexing.html#returning-a-view-versus-a-copy\n",
      "  df_id[\"StatementDetails.FinancialPeriodEndDate\"] = pd.to_datetime(df_id[\"StatementDetails.FinancialPeriodEndDate\"])\n",
      "/var/folders/xr/5n5p0p5d4zjg8f57zwt16lyr0000gn/T/ipykernel_73218/3953964208.py:26: SettingWithCopyWarning: \n",
      "A value is trying to be set on a copy of a slice from a DataFrame.\n",
      "Try using .loc[row_indexer,col_indexer] = value instead\n",
      "\n",
      "See the caveats in the documentation: https://pandas.pydata.org/pandas-docs/stable/user_guide/indexing.html#returning-a-view-versus-a-copy\n",
      "  df_id[\"StatementDetails.FinancialPeriodEndDate\"] = pd.to_datetime(df_id[\"StatementDetails.FinancialPeriodEndDate\"])\n"
     ]
    },
    {
     "name": "stdout",
     "output_type": "stream",
     "text": [
      "predictions based on sector (using scaled data)\n"
     ]
    },
    {
     "name": "stderr",
     "output_type": "stream",
     "text": [
      "/var/folders/xr/5n5p0p5d4zjg8f57zwt16lyr0000gn/T/ipykernel_73218/3953964208.py:26: SettingWithCopyWarning: \n",
      "A value is trying to be set on a copy of a slice from a DataFrame.\n",
      "Try using .loc[row_indexer,col_indexer] = value instead\n",
      "\n",
      "See the caveats in the documentation: https://pandas.pydata.org/pandas-docs/stable/user_guide/indexing.html#returning-a-view-versus-a-copy\n",
      "  df_id[\"StatementDetails.FinancialPeriodEndDate\"] = pd.to_datetime(df_id[\"StatementDetails.FinancialPeriodEndDate\"])\n"
     ]
    },
    {
     "name": "stdout",
     "output_type": "stream",
     "text": [
      "predictions based on sector (using scaled data)\n"
     ]
    },
    {
     "name": "stderr",
     "output_type": "stream",
     "text": [
      "/var/folders/xr/5n5p0p5d4zjg8f57zwt16lyr0000gn/T/ipykernel_73218/3953964208.py:26: SettingWithCopyWarning: \n",
      "A value is trying to be set on a copy of a slice from a DataFrame.\n",
      "Try using .loc[row_indexer,col_indexer] = value instead\n",
      "\n",
      "See the caveats in the documentation: https://pandas.pydata.org/pandas-docs/stable/user_guide/indexing.html#returning-a-view-versus-a-copy\n",
      "  df_id[\"StatementDetails.FinancialPeriodEndDate\"] = pd.to_datetime(df_id[\"StatementDetails.FinancialPeriodEndDate\"])\n"
     ]
    },
    {
     "name": "stdout",
     "output_type": "stream",
     "text": [
      "predictions based on sector (using scaled data)\n",
      "predictions based on sector (using scaled data)\n"
     ]
    },
    {
     "name": "stderr",
     "output_type": "stream",
     "text": [
      "/var/folders/xr/5n5p0p5d4zjg8f57zwt16lyr0000gn/T/ipykernel_73218/3953964208.py:26: SettingWithCopyWarning: \n",
      "A value is trying to be set on a copy of a slice from a DataFrame.\n",
      "Try using .loc[row_indexer,col_indexer] = value instead\n",
      "\n",
      "See the caveats in the documentation: https://pandas.pydata.org/pandas-docs/stable/user_guide/indexing.html#returning-a-view-versus-a-copy\n",
      "  df_id[\"StatementDetails.FinancialPeriodEndDate\"] = pd.to_datetime(df_id[\"StatementDetails.FinancialPeriodEndDate\"])\n",
      "/var/folders/xr/5n5p0p5d4zjg8f57zwt16lyr0000gn/T/ipykernel_73218/3953964208.py:26: SettingWithCopyWarning: \n",
      "A value is trying to be set on a copy of a slice from a DataFrame.\n",
      "Try using .loc[row_indexer,col_indexer] = value instead\n",
      "\n",
      "See the caveats in the documentation: https://pandas.pydata.org/pandas-docs/stable/user_guide/indexing.html#returning-a-view-versus-a-copy\n",
      "  df_id[\"StatementDetails.FinancialPeriodEndDate\"] = pd.to_datetime(df_id[\"StatementDetails.FinancialPeriodEndDate\"])\n"
     ]
    },
    {
     "name": "stdout",
     "output_type": "stream",
     "text": [
      "predictions based on sector (using scaled data)\n"
     ]
    },
    {
     "name": "stderr",
     "output_type": "stream",
     "text": [
      "/var/folders/xr/5n5p0p5d4zjg8f57zwt16lyr0000gn/T/ipykernel_73218/3953964208.py:26: SettingWithCopyWarning: \n",
      "A value is trying to be set on a copy of a slice from a DataFrame.\n",
      "Try using .loc[row_indexer,col_indexer] = value instead\n",
      "\n",
      "See the caveats in the documentation: https://pandas.pydata.org/pandas-docs/stable/user_guide/indexing.html#returning-a-view-versus-a-copy\n",
      "  df_id[\"StatementDetails.FinancialPeriodEndDate\"] = pd.to_datetime(df_id[\"StatementDetails.FinancialPeriodEndDate\"])\n"
     ]
    },
    {
     "name": "stdout",
     "output_type": "stream",
     "text": [
      "predictions based on sector (using scaled data)\n"
     ]
    },
    {
     "name": "stderr",
     "output_type": "stream",
     "text": [
      "/var/folders/xr/5n5p0p5d4zjg8f57zwt16lyr0000gn/T/ipykernel_73218/3953964208.py:26: SettingWithCopyWarning: \n",
      "A value is trying to be set on a copy of a slice from a DataFrame.\n",
      "Try using .loc[row_indexer,col_indexer] = value instead\n",
      "\n",
      "See the caveats in the documentation: https://pandas.pydata.org/pandas-docs/stable/user_guide/indexing.html#returning-a-view-versus-a-copy\n",
      "  df_id[\"StatementDetails.FinancialPeriodEndDate\"] = pd.to_datetime(df_id[\"StatementDetails.FinancialPeriodEndDate\"])\n"
     ]
    },
    {
     "name": "stdout",
     "output_type": "stream",
     "text": [
      "predictions based on sector (using scaled data)\n"
     ]
    },
    {
     "name": "stderr",
     "output_type": "stream",
     "text": [
      "/var/folders/xr/5n5p0p5d4zjg8f57zwt16lyr0000gn/T/ipykernel_73218/3953964208.py:26: SettingWithCopyWarning: \n",
      "A value is trying to be set on a copy of a slice from a DataFrame.\n",
      "Try using .loc[row_indexer,col_indexer] = value instead\n",
      "\n",
      "See the caveats in the documentation: https://pandas.pydata.org/pandas-docs/stable/user_guide/indexing.html#returning-a-view-versus-a-copy\n",
      "  df_id[\"StatementDetails.FinancialPeriodEndDate\"] = pd.to_datetime(df_id[\"StatementDetails.FinancialPeriodEndDate\"])\n"
     ]
    },
    {
     "name": "stdout",
     "output_type": "stream",
     "text": [
      "predictions based on sector (using scaled data)\n",
      "predictions based on orgid\n",
      "predictions based on sector (using scaled data)\n"
     ]
    },
    {
     "name": "stderr",
     "output_type": "stream",
     "text": [
      "/var/folders/xr/5n5p0p5d4zjg8f57zwt16lyr0000gn/T/ipykernel_73218/3953964208.py:26: SettingWithCopyWarning: \n",
      "A value is trying to be set on a copy of a slice from a DataFrame.\n",
      "Try using .loc[row_indexer,col_indexer] = value instead\n",
      "\n",
      "See the caveats in the documentation: https://pandas.pydata.org/pandas-docs/stable/user_guide/indexing.html#returning-a-view-versus-a-copy\n",
      "  df_id[\"StatementDetails.FinancialPeriodEndDate\"] = pd.to_datetime(df_id[\"StatementDetails.FinancialPeriodEndDate\"])\n",
      "/var/folders/xr/5n5p0p5d4zjg8f57zwt16lyr0000gn/T/ipykernel_73218/3953964208.py:26: SettingWithCopyWarning: \n",
      "A value is trying to be set on a copy of a slice from a DataFrame.\n",
      "Try using .loc[row_indexer,col_indexer] = value instead\n",
      "\n",
      "See the caveats in the documentation: https://pandas.pydata.org/pandas-docs/stable/user_guide/indexing.html#returning-a-view-versus-a-copy\n",
      "  df_id[\"StatementDetails.FinancialPeriodEndDate\"] = pd.to_datetime(df_id[\"StatementDetails.FinancialPeriodEndDate\"])\n"
     ]
    },
    {
     "name": "stdout",
     "output_type": "stream",
     "text": [
      "predictions based on sector (using scaled data)\n",
      "predictions based on sector (using scaled data)\n"
     ]
    },
    {
     "name": "stderr",
     "output_type": "stream",
     "text": [
      "/var/folders/xr/5n5p0p5d4zjg8f57zwt16lyr0000gn/T/ipykernel_73218/3953964208.py:26: SettingWithCopyWarning: \n",
      "A value is trying to be set on a copy of a slice from a DataFrame.\n",
      "Try using .loc[row_indexer,col_indexer] = value instead\n",
      "\n",
      "See the caveats in the documentation: https://pandas.pydata.org/pandas-docs/stable/user_guide/indexing.html#returning-a-view-versus-a-copy\n",
      "  df_id[\"StatementDetails.FinancialPeriodEndDate\"] = pd.to_datetime(df_id[\"StatementDetails.FinancialPeriodEndDate\"])\n",
      "/var/folders/xr/5n5p0p5d4zjg8f57zwt16lyr0000gn/T/ipykernel_73218/3953964208.py:26: SettingWithCopyWarning: \n",
      "A value is trying to be set on a copy of a slice from a DataFrame.\n",
      "Try using .loc[row_indexer,col_indexer] = value instead\n",
      "\n",
      "See the caveats in the documentation: https://pandas.pydata.org/pandas-docs/stable/user_guide/indexing.html#returning-a-view-versus-a-copy\n",
      "  df_id[\"StatementDetails.FinancialPeriodEndDate\"] = pd.to_datetime(df_id[\"StatementDetails.FinancialPeriodEndDate\"])\n"
     ]
    },
    {
     "name": "stdout",
     "output_type": "stream",
     "text": [
      "predictions based on sector (using scaled data)\n",
      "predictions based on sector (using scaled data)\n"
     ]
    },
    {
     "name": "stderr",
     "output_type": "stream",
     "text": [
      "/var/folders/xr/5n5p0p5d4zjg8f57zwt16lyr0000gn/T/ipykernel_73218/3953964208.py:26: SettingWithCopyWarning: \n",
      "A value is trying to be set on a copy of a slice from a DataFrame.\n",
      "Try using .loc[row_indexer,col_indexer] = value instead\n",
      "\n",
      "See the caveats in the documentation: https://pandas.pydata.org/pandas-docs/stable/user_guide/indexing.html#returning-a-view-versus-a-copy\n",
      "  df_id[\"StatementDetails.FinancialPeriodEndDate\"] = pd.to_datetime(df_id[\"StatementDetails.FinancialPeriodEndDate\"])\n",
      "/var/folders/xr/5n5p0p5d4zjg8f57zwt16lyr0000gn/T/ipykernel_73218/3953964208.py:26: SettingWithCopyWarning: \n",
      "A value is trying to be set on a copy of a slice from a DataFrame.\n",
      "Try using .loc[row_indexer,col_indexer] = value instead\n",
      "\n",
      "See the caveats in the documentation: https://pandas.pydata.org/pandas-docs/stable/user_guide/indexing.html#returning-a-view-versus-a-copy\n",
      "  df_id[\"StatementDetails.FinancialPeriodEndDate\"] = pd.to_datetime(df_id[\"StatementDetails.FinancialPeriodEndDate\"])\n"
     ]
    },
    {
     "name": "stdout",
     "output_type": "stream",
     "text": [
      "predictions based on sector (using scaled data)\n"
     ]
    },
    {
     "name": "stderr",
     "output_type": "stream",
     "text": [
      "/var/folders/xr/5n5p0p5d4zjg8f57zwt16lyr0000gn/T/ipykernel_73218/3953964208.py:26: SettingWithCopyWarning: \n",
      "A value is trying to be set on a copy of a slice from a DataFrame.\n",
      "Try using .loc[row_indexer,col_indexer] = value instead\n",
      "\n",
      "See the caveats in the documentation: https://pandas.pydata.org/pandas-docs/stable/user_guide/indexing.html#returning-a-view-versus-a-copy\n",
      "  df_id[\"StatementDetails.FinancialPeriodEndDate\"] = pd.to_datetime(df_id[\"StatementDetails.FinancialPeriodEndDate\"])\n"
     ]
    },
    {
     "name": "stdout",
     "output_type": "stream",
     "text": [
      "predictions based on sector (using scaled data)\n",
      "predictions based on sector (using scaled data)\n"
     ]
    },
    {
     "name": "stderr",
     "output_type": "stream",
     "text": [
      "/var/folders/xr/5n5p0p5d4zjg8f57zwt16lyr0000gn/T/ipykernel_73218/3953964208.py:26: SettingWithCopyWarning: \n",
      "A value is trying to be set on a copy of a slice from a DataFrame.\n",
      "Try using .loc[row_indexer,col_indexer] = value instead\n",
      "\n",
      "See the caveats in the documentation: https://pandas.pydata.org/pandas-docs/stable/user_guide/indexing.html#returning-a-view-versus-a-copy\n",
      "  df_id[\"StatementDetails.FinancialPeriodEndDate\"] = pd.to_datetime(df_id[\"StatementDetails.FinancialPeriodEndDate\"])\n",
      "/var/folders/xr/5n5p0p5d4zjg8f57zwt16lyr0000gn/T/ipykernel_73218/3953964208.py:26: SettingWithCopyWarning: \n",
      "A value is trying to be set on a copy of a slice from a DataFrame.\n",
      "Try using .loc[row_indexer,col_indexer] = value instead\n",
      "\n",
      "See the caveats in the documentation: https://pandas.pydata.org/pandas-docs/stable/user_guide/indexing.html#returning-a-view-versus-a-copy\n",
      "  df_id[\"StatementDetails.FinancialPeriodEndDate\"] = pd.to_datetime(df_id[\"StatementDetails.FinancialPeriodEndDate\"])\n",
      "/var/folders/xr/5n5p0p5d4zjg8f57zwt16lyr0000gn/T/ipykernel_73218/3953964208.py:26: SettingWithCopyWarning: \n",
      "A value is trying to be set on a copy of a slice from a DataFrame.\n",
      "Try using .loc[row_indexer,col_indexer] = value instead\n",
      "\n",
      "See the caveats in the documentation: https://pandas.pydata.org/pandas-docs/stable/user_guide/indexing.html#returning-a-view-versus-a-copy\n",
      "  df_id[\"StatementDetails.FinancialPeriodEndDate\"] = pd.to_datetime(df_id[\"StatementDetails.FinancialPeriodEndDate\"])\n"
     ]
    },
    {
     "name": "stdout",
     "output_type": "stream",
     "text": [
      "predictions based on sector (using scaled data)\n",
      "predictions based on sector (using scaled data)\n",
      "predictions based on sector (using scaled data)\n"
     ]
    },
    {
     "name": "stderr",
     "output_type": "stream",
     "text": [
      "/var/folders/xr/5n5p0p5d4zjg8f57zwt16lyr0000gn/T/ipykernel_73218/3953964208.py:26: SettingWithCopyWarning: \n",
      "A value is trying to be set on a copy of a slice from a DataFrame.\n",
      "Try using .loc[row_indexer,col_indexer] = value instead\n",
      "\n",
      "See the caveats in the documentation: https://pandas.pydata.org/pandas-docs/stable/user_guide/indexing.html#returning-a-view-versus-a-copy\n",
      "  df_id[\"StatementDetails.FinancialPeriodEndDate\"] = pd.to_datetime(df_id[\"StatementDetails.FinancialPeriodEndDate\"])\n",
      "/var/folders/xr/5n5p0p5d4zjg8f57zwt16lyr0000gn/T/ipykernel_73218/3953964208.py:26: SettingWithCopyWarning: \n",
      "A value is trying to be set on a copy of a slice from a DataFrame.\n",
      "Try using .loc[row_indexer,col_indexer] = value instead\n",
      "\n",
      "See the caveats in the documentation: https://pandas.pydata.org/pandas-docs/stable/user_guide/indexing.html#returning-a-view-versus-a-copy\n",
      "  df_id[\"StatementDetails.FinancialPeriodEndDate\"] = pd.to_datetime(df_id[\"StatementDetails.FinancialPeriodEndDate\"])\n"
     ]
    },
    {
     "name": "stdout",
     "output_type": "stream",
     "text": [
      "predictions based on sector (using scaled data)\n",
      "predictions based on sector (using scaled data)\n"
     ]
    },
    {
     "name": "stderr",
     "output_type": "stream",
     "text": [
      "/var/folders/xr/5n5p0p5d4zjg8f57zwt16lyr0000gn/T/ipykernel_73218/3953964208.py:26: SettingWithCopyWarning: \n",
      "A value is trying to be set on a copy of a slice from a DataFrame.\n",
      "Try using .loc[row_indexer,col_indexer] = value instead\n",
      "\n",
      "See the caveats in the documentation: https://pandas.pydata.org/pandas-docs/stable/user_guide/indexing.html#returning-a-view-versus-a-copy\n",
      "  df_id[\"StatementDetails.FinancialPeriodEndDate\"] = pd.to_datetime(df_id[\"StatementDetails.FinancialPeriodEndDate\"])\n",
      "/var/folders/xr/5n5p0p5d4zjg8f57zwt16lyr0000gn/T/ipykernel_73218/3953964208.py:26: SettingWithCopyWarning: \n",
      "A value is trying to be set on a copy of a slice from a DataFrame.\n",
      "Try using .loc[row_indexer,col_indexer] = value instead\n",
      "\n",
      "See the caveats in the documentation: https://pandas.pydata.org/pandas-docs/stable/user_guide/indexing.html#returning-a-view-versus-a-copy\n",
      "  df_id[\"StatementDetails.FinancialPeriodEndDate\"] = pd.to_datetime(df_id[\"StatementDetails.FinancialPeriodEndDate\"])\n"
     ]
    },
    {
     "name": "stdout",
     "output_type": "stream",
     "text": [
      "predictions based on sector (using scaled data)\n",
      "predictions based on sector (using scaled data)\n"
     ]
    },
    {
     "name": "stderr",
     "output_type": "stream",
     "text": [
      "/var/folders/xr/5n5p0p5d4zjg8f57zwt16lyr0000gn/T/ipykernel_73218/3953964208.py:26: SettingWithCopyWarning: \n",
      "A value is trying to be set on a copy of a slice from a DataFrame.\n",
      "Try using .loc[row_indexer,col_indexer] = value instead\n",
      "\n",
      "See the caveats in the documentation: https://pandas.pydata.org/pandas-docs/stable/user_guide/indexing.html#returning-a-view-versus-a-copy\n",
      "  df_id[\"StatementDetails.FinancialPeriodEndDate\"] = pd.to_datetime(df_id[\"StatementDetails.FinancialPeriodEndDate\"])\n",
      "/var/folders/xr/5n5p0p5d4zjg8f57zwt16lyr0000gn/T/ipykernel_73218/3953964208.py:26: SettingWithCopyWarning: \n",
      "A value is trying to be set on a copy of a slice from a DataFrame.\n",
      "Try using .loc[row_indexer,col_indexer] = value instead\n",
      "\n",
      "See the caveats in the documentation: https://pandas.pydata.org/pandas-docs/stable/user_guide/indexing.html#returning-a-view-versus-a-copy\n",
      "  df_id[\"StatementDetails.FinancialPeriodEndDate\"] = pd.to_datetime(df_id[\"StatementDetails.FinancialPeriodEndDate\"])\n"
     ]
    },
    {
     "name": "stdout",
     "output_type": "stream",
     "text": [
      "predictions based on sector (using scaled data)\n",
      "predictions based on sector (using scaled data)\n"
     ]
    },
    {
     "name": "stderr",
     "output_type": "stream",
     "text": [
      "/var/folders/xr/5n5p0p5d4zjg8f57zwt16lyr0000gn/T/ipykernel_73218/3953964208.py:26: SettingWithCopyWarning: \n",
      "A value is trying to be set on a copy of a slice from a DataFrame.\n",
      "Try using .loc[row_indexer,col_indexer] = value instead\n",
      "\n",
      "See the caveats in the documentation: https://pandas.pydata.org/pandas-docs/stable/user_guide/indexing.html#returning-a-view-versus-a-copy\n",
      "  df_id[\"StatementDetails.FinancialPeriodEndDate\"] = pd.to_datetime(df_id[\"StatementDetails.FinancialPeriodEndDate\"])\n",
      "/var/folders/xr/5n5p0p5d4zjg8f57zwt16lyr0000gn/T/ipykernel_73218/3953964208.py:26: SettingWithCopyWarning: \n",
      "A value is trying to be set on a copy of a slice from a DataFrame.\n",
      "Try using .loc[row_indexer,col_indexer] = value instead\n",
      "\n",
      "See the caveats in the documentation: https://pandas.pydata.org/pandas-docs/stable/user_guide/indexing.html#returning-a-view-versus-a-copy\n",
      "  df_id[\"StatementDetails.FinancialPeriodEndDate\"] = pd.to_datetime(df_id[\"StatementDetails.FinancialPeriodEndDate\"])\n"
     ]
    },
    {
     "name": "stdout",
     "output_type": "stream",
     "text": [
      "predictions based on sector (using scaled data)\n"
     ]
    },
    {
     "name": "stderr",
     "output_type": "stream",
     "text": [
      "/var/folders/xr/5n5p0p5d4zjg8f57zwt16lyr0000gn/T/ipykernel_73218/3953964208.py:26: SettingWithCopyWarning: \n",
      "A value is trying to be set on a copy of a slice from a DataFrame.\n",
      "Try using .loc[row_indexer,col_indexer] = value instead\n",
      "\n",
      "See the caveats in the documentation: https://pandas.pydata.org/pandas-docs/stable/user_guide/indexing.html#returning-a-view-versus-a-copy\n",
      "  df_id[\"StatementDetails.FinancialPeriodEndDate\"] = pd.to_datetime(df_id[\"StatementDetails.FinancialPeriodEndDate\"])\n"
     ]
    },
    {
     "name": "stdout",
     "output_type": "stream",
     "text": [
      "predictions based on sector (using scaled data)\n",
      "predictions based on sector (using scaled data)\n"
     ]
    },
    {
     "name": "stderr",
     "output_type": "stream",
     "text": [
      "/var/folders/xr/5n5p0p5d4zjg8f57zwt16lyr0000gn/T/ipykernel_73218/3953964208.py:26: SettingWithCopyWarning: \n",
      "A value is trying to be set on a copy of a slice from a DataFrame.\n",
      "Try using .loc[row_indexer,col_indexer] = value instead\n",
      "\n",
      "See the caveats in the documentation: https://pandas.pydata.org/pandas-docs/stable/user_guide/indexing.html#returning-a-view-versus-a-copy\n",
      "  df_id[\"StatementDetails.FinancialPeriodEndDate\"] = pd.to_datetime(df_id[\"StatementDetails.FinancialPeriodEndDate\"])\n",
      "/var/folders/xr/5n5p0p5d4zjg8f57zwt16lyr0000gn/T/ipykernel_73218/3953964208.py:26: SettingWithCopyWarning: \n",
      "A value is trying to be set on a copy of a slice from a DataFrame.\n",
      "Try using .loc[row_indexer,col_indexer] = value instead\n",
      "\n",
      "See the caveats in the documentation: https://pandas.pydata.org/pandas-docs/stable/user_guide/indexing.html#returning-a-view-versus-a-copy\n",
      "  df_id[\"StatementDetails.FinancialPeriodEndDate\"] = pd.to_datetime(df_id[\"StatementDetails.FinancialPeriodEndDate\"])\n"
     ]
    },
    {
     "name": "stdout",
     "output_type": "stream",
     "text": [
      "predictions based on sector (using scaled data)\n",
      "predictions based on sector (using scaled data)\n"
     ]
    },
    {
     "name": "stderr",
     "output_type": "stream",
     "text": [
      "/var/folders/xr/5n5p0p5d4zjg8f57zwt16lyr0000gn/T/ipykernel_73218/3953964208.py:26: SettingWithCopyWarning: \n",
      "A value is trying to be set on a copy of a slice from a DataFrame.\n",
      "Try using .loc[row_indexer,col_indexer] = value instead\n",
      "\n",
      "See the caveats in the documentation: https://pandas.pydata.org/pandas-docs/stable/user_guide/indexing.html#returning-a-view-versus-a-copy\n",
      "  df_id[\"StatementDetails.FinancialPeriodEndDate\"] = pd.to_datetime(df_id[\"StatementDetails.FinancialPeriodEndDate\"])\n",
      "/var/folders/xr/5n5p0p5d4zjg8f57zwt16lyr0000gn/T/ipykernel_73218/3953964208.py:26: SettingWithCopyWarning: \n",
      "A value is trying to be set on a copy of a slice from a DataFrame.\n",
      "Try using .loc[row_indexer,col_indexer] = value instead\n",
      "\n",
      "See the caveats in the documentation: https://pandas.pydata.org/pandas-docs/stable/user_guide/indexing.html#returning-a-view-versus-a-copy\n",
      "  df_id[\"StatementDetails.FinancialPeriodEndDate\"] = pd.to_datetime(df_id[\"StatementDetails.FinancialPeriodEndDate\"])\n"
     ]
    },
    {
     "name": "stdout",
     "output_type": "stream",
     "text": [
      "predictions based on orgid\n",
      "predictions based on sector (using scaled data)\n",
      "predictions based on sector (using scaled data)\n"
     ]
    },
    {
     "name": "stderr",
     "output_type": "stream",
     "text": [
      "/var/folders/xr/5n5p0p5d4zjg8f57zwt16lyr0000gn/T/ipykernel_73218/3953964208.py:26: SettingWithCopyWarning: \n",
      "A value is trying to be set on a copy of a slice from a DataFrame.\n",
      "Try using .loc[row_indexer,col_indexer] = value instead\n",
      "\n",
      "See the caveats in the documentation: https://pandas.pydata.org/pandas-docs/stable/user_guide/indexing.html#returning-a-view-versus-a-copy\n",
      "  df_id[\"StatementDetails.FinancialPeriodEndDate\"] = pd.to_datetime(df_id[\"StatementDetails.FinancialPeriodEndDate\"])\n",
      "/var/folders/xr/5n5p0p5d4zjg8f57zwt16lyr0000gn/T/ipykernel_73218/3953964208.py:26: SettingWithCopyWarning: \n",
      "A value is trying to be set on a copy of a slice from a DataFrame.\n",
      "Try using .loc[row_indexer,col_indexer] = value instead\n",
      "\n",
      "See the caveats in the documentation: https://pandas.pydata.org/pandas-docs/stable/user_guide/indexing.html#returning-a-view-versus-a-copy\n",
      "  df_id[\"StatementDetails.FinancialPeriodEndDate\"] = pd.to_datetime(df_id[\"StatementDetails.FinancialPeriodEndDate\"])\n"
     ]
    },
    {
     "name": "stdout",
     "output_type": "stream",
     "text": [
      "predictions based on sector (using scaled data)\n"
     ]
    },
    {
     "name": "stderr",
     "output_type": "stream",
     "text": [
      "/var/folders/xr/5n5p0p5d4zjg8f57zwt16lyr0000gn/T/ipykernel_73218/3953964208.py:26: SettingWithCopyWarning: \n",
      "A value is trying to be set on a copy of a slice from a DataFrame.\n",
      "Try using .loc[row_indexer,col_indexer] = value instead\n",
      "\n",
      "See the caveats in the documentation: https://pandas.pydata.org/pandas-docs/stable/user_guide/indexing.html#returning-a-view-versus-a-copy\n",
      "  df_id[\"StatementDetails.FinancialPeriodEndDate\"] = pd.to_datetime(df_id[\"StatementDetails.FinancialPeriodEndDate\"])\n"
     ]
    },
    {
     "name": "stdout",
     "output_type": "stream",
     "text": [
      "predictions based on sector (using scaled data)\n",
      "predictions based on sector (using scaled data)\n"
     ]
    },
    {
     "name": "stderr",
     "output_type": "stream",
     "text": [
      "/var/folders/xr/5n5p0p5d4zjg8f57zwt16lyr0000gn/T/ipykernel_73218/3953964208.py:26: SettingWithCopyWarning: \n",
      "A value is trying to be set on a copy of a slice from a DataFrame.\n",
      "Try using .loc[row_indexer,col_indexer] = value instead\n",
      "\n",
      "See the caveats in the documentation: https://pandas.pydata.org/pandas-docs/stable/user_guide/indexing.html#returning-a-view-versus-a-copy\n",
      "  df_id[\"StatementDetails.FinancialPeriodEndDate\"] = pd.to_datetime(df_id[\"StatementDetails.FinancialPeriodEndDate\"])\n",
      "/var/folders/xr/5n5p0p5d4zjg8f57zwt16lyr0000gn/T/ipykernel_73218/3953964208.py:26: SettingWithCopyWarning: \n",
      "A value is trying to be set on a copy of a slice from a DataFrame.\n",
      "Try using .loc[row_indexer,col_indexer] = value instead\n",
      "\n",
      "See the caveats in the documentation: https://pandas.pydata.org/pandas-docs/stable/user_guide/indexing.html#returning-a-view-versus-a-copy\n",
      "  df_id[\"StatementDetails.FinancialPeriodEndDate\"] = pd.to_datetime(df_id[\"StatementDetails.FinancialPeriodEndDate\"])\n"
     ]
    },
    {
     "name": "stdout",
     "output_type": "stream",
     "text": [
      "predictions based on sector (using scaled data)\n"
     ]
    },
    {
     "name": "stderr",
     "output_type": "stream",
     "text": [
      "/var/folders/xr/5n5p0p5d4zjg8f57zwt16lyr0000gn/T/ipykernel_73218/3953964208.py:26: SettingWithCopyWarning: \n",
      "A value is trying to be set on a copy of a slice from a DataFrame.\n",
      "Try using .loc[row_indexer,col_indexer] = value instead\n",
      "\n",
      "See the caveats in the documentation: https://pandas.pydata.org/pandas-docs/stable/user_guide/indexing.html#returning-a-view-versus-a-copy\n",
      "  df_id[\"StatementDetails.FinancialPeriodEndDate\"] = pd.to_datetime(df_id[\"StatementDetails.FinancialPeriodEndDate\"])\n"
     ]
    },
    {
     "name": "stdout",
     "output_type": "stream",
     "text": [
      "predictions based on sector (using scaled data)\n",
      "predictions based on sector (using scaled data)\n"
     ]
    },
    {
     "name": "stderr",
     "output_type": "stream",
     "text": [
      "/var/folders/xr/5n5p0p5d4zjg8f57zwt16lyr0000gn/T/ipykernel_73218/3953964208.py:26: SettingWithCopyWarning: \n",
      "A value is trying to be set on a copy of a slice from a DataFrame.\n",
      "Try using .loc[row_indexer,col_indexer] = value instead\n",
      "\n",
      "See the caveats in the documentation: https://pandas.pydata.org/pandas-docs/stable/user_guide/indexing.html#returning-a-view-versus-a-copy\n",
      "  df_id[\"StatementDetails.FinancialPeriodEndDate\"] = pd.to_datetime(df_id[\"StatementDetails.FinancialPeriodEndDate\"])\n",
      "/var/folders/xr/5n5p0p5d4zjg8f57zwt16lyr0000gn/T/ipykernel_73218/3953964208.py:26: SettingWithCopyWarning: \n",
      "A value is trying to be set on a copy of a slice from a DataFrame.\n",
      "Try using .loc[row_indexer,col_indexer] = value instead\n",
      "\n",
      "See the caveats in the documentation: https://pandas.pydata.org/pandas-docs/stable/user_guide/indexing.html#returning-a-view-versus-a-copy\n",
      "  df_id[\"StatementDetails.FinancialPeriodEndDate\"] = pd.to_datetime(df_id[\"StatementDetails.FinancialPeriodEndDate\"])\n"
     ]
    },
    {
     "name": "stdout",
     "output_type": "stream",
     "text": [
      "predictions based on sector (using scaled data)\n"
     ]
    },
    {
     "name": "stderr",
     "output_type": "stream",
     "text": [
      "/var/folders/xr/5n5p0p5d4zjg8f57zwt16lyr0000gn/T/ipykernel_73218/3953964208.py:26: SettingWithCopyWarning: \n",
      "A value is trying to be set on a copy of a slice from a DataFrame.\n",
      "Try using .loc[row_indexer,col_indexer] = value instead\n",
      "\n",
      "See the caveats in the documentation: https://pandas.pydata.org/pandas-docs/stable/user_guide/indexing.html#returning-a-view-versus-a-copy\n",
      "  df_id[\"StatementDetails.FinancialPeriodEndDate\"] = pd.to_datetime(df_id[\"StatementDetails.FinancialPeriodEndDate\"])\n"
     ]
    },
    {
     "name": "stdout",
     "output_type": "stream",
     "text": [
      "predictions based on sector (using scaled data)\n"
     ]
    },
    {
     "name": "stderr",
     "output_type": "stream",
     "text": [
      "/var/folders/xr/5n5p0p5d4zjg8f57zwt16lyr0000gn/T/ipykernel_73218/3953964208.py:26: SettingWithCopyWarning: \n",
      "A value is trying to be set on a copy of a slice from a DataFrame.\n",
      "Try using .loc[row_indexer,col_indexer] = value instead\n",
      "\n",
      "See the caveats in the documentation: https://pandas.pydata.org/pandas-docs/stable/user_guide/indexing.html#returning-a-view-versus-a-copy\n",
      "  df_id[\"StatementDetails.FinancialPeriodEndDate\"] = pd.to_datetime(df_id[\"StatementDetails.FinancialPeriodEndDate\"])\n"
     ]
    },
    {
     "name": "stdout",
     "output_type": "stream",
     "text": [
      "predictions based on sector (using scaled data)\n",
      "predictions based on sector (using scaled data)\n"
     ]
    },
    {
     "name": "stderr",
     "output_type": "stream",
     "text": [
      "/var/folders/xr/5n5p0p5d4zjg8f57zwt16lyr0000gn/T/ipykernel_73218/3953964208.py:26: SettingWithCopyWarning: \n",
      "A value is trying to be set on a copy of a slice from a DataFrame.\n",
      "Try using .loc[row_indexer,col_indexer] = value instead\n",
      "\n",
      "See the caveats in the documentation: https://pandas.pydata.org/pandas-docs/stable/user_guide/indexing.html#returning-a-view-versus-a-copy\n",
      "  df_id[\"StatementDetails.FinancialPeriodEndDate\"] = pd.to_datetime(df_id[\"StatementDetails.FinancialPeriodEndDate\"])\n",
      "/var/folders/xr/5n5p0p5d4zjg8f57zwt16lyr0000gn/T/ipykernel_73218/3953964208.py:26: SettingWithCopyWarning: \n",
      "A value is trying to be set on a copy of a slice from a DataFrame.\n",
      "Try using .loc[row_indexer,col_indexer] = value instead\n",
      "\n",
      "See the caveats in the documentation: https://pandas.pydata.org/pandas-docs/stable/user_guide/indexing.html#returning-a-view-versus-a-copy\n",
      "  df_id[\"StatementDetails.FinancialPeriodEndDate\"] = pd.to_datetime(df_id[\"StatementDetails.FinancialPeriodEndDate\"])\n"
     ]
    },
    {
     "name": "stdout",
     "output_type": "stream",
     "text": [
      "predictions based on sector (using scaled data)\n",
      "predictions based on sector (using scaled data)\n"
     ]
    },
    {
     "name": "stderr",
     "output_type": "stream",
     "text": [
      "/var/folders/xr/5n5p0p5d4zjg8f57zwt16lyr0000gn/T/ipykernel_73218/3953964208.py:26: SettingWithCopyWarning: \n",
      "A value is trying to be set on a copy of a slice from a DataFrame.\n",
      "Try using .loc[row_indexer,col_indexer] = value instead\n",
      "\n",
      "See the caveats in the documentation: https://pandas.pydata.org/pandas-docs/stable/user_guide/indexing.html#returning-a-view-versus-a-copy\n",
      "  df_id[\"StatementDetails.FinancialPeriodEndDate\"] = pd.to_datetime(df_id[\"StatementDetails.FinancialPeriodEndDate\"])\n",
      "/var/folders/xr/5n5p0p5d4zjg8f57zwt16lyr0000gn/T/ipykernel_73218/3953964208.py:26: SettingWithCopyWarning: \n",
      "A value is trying to be set on a copy of a slice from a DataFrame.\n",
      "Try using .loc[row_indexer,col_indexer] = value instead\n",
      "\n",
      "See the caveats in the documentation: https://pandas.pydata.org/pandas-docs/stable/user_guide/indexing.html#returning-a-view-versus-a-copy\n",
      "  df_id[\"StatementDetails.FinancialPeriodEndDate\"] = pd.to_datetime(df_id[\"StatementDetails.FinancialPeriodEndDate\"])\n",
      "/var/folders/xr/5n5p0p5d4zjg8f57zwt16lyr0000gn/T/ipykernel_73218/3953964208.py:26: SettingWithCopyWarning: \n",
      "A value is trying to be set on a copy of a slice from a DataFrame.\n",
      "Try using .loc[row_indexer,col_indexer] = value instead\n",
      "\n",
      "See the caveats in the documentation: https://pandas.pydata.org/pandas-docs/stable/user_guide/indexing.html#returning-a-view-versus-a-copy\n",
      "  df_id[\"StatementDetails.FinancialPeriodEndDate\"] = pd.to_datetime(df_id[\"StatementDetails.FinancialPeriodEndDate\"])\n"
     ]
    },
    {
     "name": "stdout",
     "output_type": "stream",
     "text": [
      "predictions based on sector (using scaled data)\n",
      "predictions based on sector (using scaled data)\n"
     ]
    },
    {
     "name": "stderr",
     "output_type": "stream",
     "text": [
      "/var/folders/xr/5n5p0p5d4zjg8f57zwt16lyr0000gn/T/ipykernel_73218/3953964208.py:26: SettingWithCopyWarning: \n",
      "A value is trying to be set on a copy of a slice from a DataFrame.\n",
      "Try using .loc[row_indexer,col_indexer] = value instead\n",
      "\n",
      "See the caveats in the documentation: https://pandas.pydata.org/pandas-docs/stable/user_guide/indexing.html#returning-a-view-versus-a-copy\n",
      "  df_id[\"StatementDetails.FinancialPeriodEndDate\"] = pd.to_datetime(df_id[\"StatementDetails.FinancialPeriodEndDate\"])\n",
      "/var/folders/xr/5n5p0p5d4zjg8f57zwt16lyr0000gn/T/ipykernel_73218/3953964208.py:26: SettingWithCopyWarning: \n",
      "A value is trying to be set on a copy of a slice from a DataFrame.\n",
      "Try using .loc[row_indexer,col_indexer] = value instead\n",
      "\n",
      "See the caveats in the documentation: https://pandas.pydata.org/pandas-docs/stable/user_guide/indexing.html#returning-a-view-versus-a-copy\n",
      "  df_id[\"StatementDetails.FinancialPeriodEndDate\"] = pd.to_datetime(df_id[\"StatementDetails.FinancialPeriodEndDate\"])\n"
     ]
    },
    {
     "name": "stdout",
     "output_type": "stream",
     "text": [
      "predictions based on sector (using scaled data)\n",
      "predictions based on sector (using scaled data)\n"
     ]
    },
    {
     "name": "stderr",
     "output_type": "stream",
     "text": [
      "/var/folders/xr/5n5p0p5d4zjg8f57zwt16lyr0000gn/T/ipykernel_73218/3953964208.py:26: SettingWithCopyWarning: \n",
      "A value is trying to be set on a copy of a slice from a DataFrame.\n",
      "Try using .loc[row_indexer,col_indexer] = value instead\n",
      "\n",
      "See the caveats in the documentation: https://pandas.pydata.org/pandas-docs/stable/user_guide/indexing.html#returning-a-view-versus-a-copy\n",
      "  df_id[\"StatementDetails.FinancialPeriodEndDate\"] = pd.to_datetime(df_id[\"StatementDetails.FinancialPeriodEndDate\"])\n",
      "/var/folders/xr/5n5p0p5d4zjg8f57zwt16lyr0000gn/T/ipykernel_73218/3953964208.py:26: SettingWithCopyWarning: \n",
      "A value is trying to be set on a copy of a slice from a DataFrame.\n",
      "Try using .loc[row_indexer,col_indexer] = value instead\n",
      "\n",
      "See the caveats in the documentation: https://pandas.pydata.org/pandas-docs/stable/user_guide/indexing.html#returning-a-view-versus-a-copy\n",
      "  df_id[\"StatementDetails.FinancialPeriodEndDate\"] = pd.to_datetime(df_id[\"StatementDetails.FinancialPeriodEndDate\"])\n"
     ]
    },
    {
     "name": "stdout",
     "output_type": "stream",
     "text": [
      "predictions based on sector (using scaled data)\n",
      "predictions based on sector (using scaled data)\n"
     ]
    },
    {
     "name": "stderr",
     "output_type": "stream",
     "text": [
      "/var/folders/xr/5n5p0p5d4zjg8f57zwt16lyr0000gn/T/ipykernel_73218/3953964208.py:26: SettingWithCopyWarning: \n",
      "A value is trying to be set on a copy of a slice from a DataFrame.\n",
      "Try using .loc[row_indexer,col_indexer] = value instead\n",
      "\n",
      "See the caveats in the documentation: https://pandas.pydata.org/pandas-docs/stable/user_guide/indexing.html#returning-a-view-versus-a-copy\n",
      "  df_id[\"StatementDetails.FinancialPeriodEndDate\"] = pd.to_datetime(df_id[\"StatementDetails.FinancialPeriodEndDate\"])\n",
      "/var/folders/xr/5n5p0p5d4zjg8f57zwt16lyr0000gn/T/ipykernel_73218/3953964208.py:26: SettingWithCopyWarning: \n",
      "A value is trying to be set on a copy of a slice from a DataFrame.\n",
      "Try using .loc[row_indexer,col_indexer] = value instead\n",
      "\n",
      "See the caveats in the documentation: https://pandas.pydata.org/pandas-docs/stable/user_guide/indexing.html#returning-a-view-versus-a-copy\n",
      "  df_id[\"StatementDetails.FinancialPeriodEndDate\"] = pd.to_datetime(df_id[\"StatementDetails.FinancialPeriodEndDate\"])\n"
     ]
    },
    {
     "name": "stdout",
     "output_type": "stream",
     "text": [
      "predictions based on sector (using scaled data)\n",
      "predictions based on sector (using scaled data)\n"
     ]
    },
    {
     "name": "stderr",
     "output_type": "stream",
     "text": [
      "/var/folders/xr/5n5p0p5d4zjg8f57zwt16lyr0000gn/T/ipykernel_73218/3953964208.py:26: SettingWithCopyWarning: \n",
      "A value is trying to be set on a copy of a slice from a DataFrame.\n",
      "Try using .loc[row_indexer,col_indexer] = value instead\n",
      "\n",
      "See the caveats in the documentation: https://pandas.pydata.org/pandas-docs/stable/user_guide/indexing.html#returning-a-view-versus-a-copy\n",
      "  df_id[\"StatementDetails.FinancialPeriodEndDate\"] = pd.to_datetime(df_id[\"StatementDetails.FinancialPeriodEndDate\"])\n",
      "/var/folders/xr/5n5p0p5d4zjg8f57zwt16lyr0000gn/T/ipykernel_73218/3953964208.py:26: SettingWithCopyWarning: \n",
      "A value is trying to be set on a copy of a slice from a DataFrame.\n",
      "Try using .loc[row_indexer,col_indexer] = value instead\n",
      "\n",
      "See the caveats in the documentation: https://pandas.pydata.org/pandas-docs/stable/user_guide/indexing.html#returning-a-view-versus-a-copy\n",
      "  df_id[\"StatementDetails.FinancialPeriodEndDate\"] = pd.to_datetime(df_id[\"StatementDetails.FinancialPeriodEndDate\"])\n"
     ]
    },
    {
     "name": "stdout",
     "output_type": "stream",
     "text": [
      "predictions based on sector (using scaled data)\n",
      "predictions based on sector (using scaled data)\n"
     ]
    },
    {
     "name": "stderr",
     "output_type": "stream",
     "text": [
      "/var/folders/xr/5n5p0p5d4zjg8f57zwt16lyr0000gn/T/ipykernel_73218/3953964208.py:26: SettingWithCopyWarning: \n",
      "A value is trying to be set on a copy of a slice from a DataFrame.\n",
      "Try using .loc[row_indexer,col_indexer] = value instead\n",
      "\n",
      "See the caveats in the documentation: https://pandas.pydata.org/pandas-docs/stable/user_guide/indexing.html#returning-a-view-versus-a-copy\n",
      "  df_id[\"StatementDetails.FinancialPeriodEndDate\"] = pd.to_datetime(df_id[\"StatementDetails.FinancialPeriodEndDate\"])\n",
      "/var/folders/xr/5n5p0p5d4zjg8f57zwt16lyr0000gn/T/ipykernel_73218/3953964208.py:26: SettingWithCopyWarning: \n",
      "A value is trying to be set on a copy of a slice from a DataFrame.\n",
      "Try using .loc[row_indexer,col_indexer] = value instead\n",
      "\n",
      "See the caveats in the documentation: https://pandas.pydata.org/pandas-docs/stable/user_guide/indexing.html#returning-a-view-versus-a-copy\n",
      "  df_id[\"StatementDetails.FinancialPeriodEndDate\"] = pd.to_datetime(df_id[\"StatementDetails.FinancialPeriodEndDate\"])\n"
     ]
    },
    {
     "name": "stdout",
     "output_type": "stream",
     "text": [
      "predictions based on sector (using scaled data)\n",
      "predictions based on sector (using scaled data)\n",
      "predictions based on sector (using scaled data)\n"
     ]
    },
    {
     "name": "stderr",
     "output_type": "stream",
     "text": [
      "/var/folders/xr/5n5p0p5d4zjg8f57zwt16lyr0000gn/T/ipykernel_73218/3953964208.py:26: SettingWithCopyWarning: \n",
      "A value is trying to be set on a copy of a slice from a DataFrame.\n",
      "Try using .loc[row_indexer,col_indexer] = value instead\n",
      "\n",
      "See the caveats in the documentation: https://pandas.pydata.org/pandas-docs/stable/user_guide/indexing.html#returning-a-view-versus-a-copy\n",
      "  df_id[\"StatementDetails.FinancialPeriodEndDate\"] = pd.to_datetime(df_id[\"StatementDetails.FinancialPeriodEndDate\"])\n",
      "/var/folders/xr/5n5p0p5d4zjg8f57zwt16lyr0000gn/T/ipykernel_73218/3953964208.py:26: SettingWithCopyWarning: \n",
      "A value is trying to be set on a copy of a slice from a DataFrame.\n",
      "Try using .loc[row_indexer,col_indexer] = value instead\n",
      "\n",
      "See the caveats in the documentation: https://pandas.pydata.org/pandas-docs/stable/user_guide/indexing.html#returning-a-view-versus-a-copy\n",
      "  df_id[\"StatementDetails.FinancialPeriodEndDate\"] = pd.to_datetime(df_id[\"StatementDetails.FinancialPeriodEndDate\"])\n"
     ]
    },
    {
     "name": "stdout",
     "output_type": "stream",
     "text": [
      "predictions based on sector (using scaled data)\n"
     ]
    },
    {
     "name": "stderr",
     "output_type": "stream",
     "text": [
      "/var/folders/xr/5n5p0p5d4zjg8f57zwt16lyr0000gn/T/ipykernel_73218/3953964208.py:26: SettingWithCopyWarning: \n",
      "A value is trying to be set on a copy of a slice from a DataFrame.\n",
      "Try using .loc[row_indexer,col_indexer] = value instead\n",
      "\n",
      "See the caveats in the documentation: https://pandas.pydata.org/pandas-docs/stable/user_guide/indexing.html#returning-a-view-versus-a-copy\n",
      "  df_id[\"StatementDetails.FinancialPeriodEndDate\"] = pd.to_datetime(df_id[\"StatementDetails.FinancialPeriodEndDate\"])\n"
     ]
    },
    {
     "name": "stdout",
     "output_type": "stream",
     "text": [
      "predictions based on sector (using scaled data)\n",
      "predictions based on sector (using scaled data)\n"
     ]
    },
    {
     "name": "stderr",
     "output_type": "stream",
     "text": [
      "/var/folders/xr/5n5p0p5d4zjg8f57zwt16lyr0000gn/T/ipykernel_73218/3953964208.py:26: SettingWithCopyWarning: \n",
      "A value is trying to be set on a copy of a slice from a DataFrame.\n",
      "Try using .loc[row_indexer,col_indexer] = value instead\n",
      "\n",
      "See the caveats in the documentation: https://pandas.pydata.org/pandas-docs/stable/user_guide/indexing.html#returning-a-view-versus-a-copy\n",
      "  df_id[\"StatementDetails.FinancialPeriodEndDate\"] = pd.to_datetime(df_id[\"StatementDetails.FinancialPeriodEndDate\"])\n",
      "/var/folders/xr/5n5p0p5d4zjg8f57zwt16lyr0000gn/T/ipykernel_73218/3953964208.py:26: SettingWithCopyWarning: \n",
      "A value is trying to be set on a copy of a slice from a DataFrame.\n",
      "Try using .loc[row_indexer,col_indexer] = value instead\n",
      "\n",
      "See the caveats in the documentation: https://pandas.pydata.org/pandas-docs/stable/user_guide/indexing.html#returning-a-view-versus-a-copy\n",
      "  df_id[\"StatementDetails.FinancialPeriodEndDate\"] = pd.to_datetime(df_id[\"StatementDetails.FinancialPeriodEndDate\"])\n"
     ]
    },
    {
     "name": "stdout",
     "output_type": "stream",
     "text": [
      "predictions based on sector (using scaled data)\n",
      "predictions based on sector (using scaled data)\n"
     ]
    },
    {
     "name": "stderr",
     "output_type": "stream",
     "text": [
      "/var/folders/xr/5n5p0p5d4zjg8f57zwt16lyr0000gn/T/ipykernel_73218/3953964208.py:26: SettingWithCopyWarning: \n",
      "A value is trying to be set on a copy of a slice from a DataFrame.\n",
      "Try using .loc[row_indexer,col_indexer] = value instead\n",
      "\n",
      "See the caveats in the documentation: https://pandas.pydata.org/pandas-docs/stable/user_guide/indexing.html#returning-a-view-versus-a-copy\n",
      "  df_id[\"StatementDetails.FinancialPeriodEndDate\"] = pd.to_datetime(df_id[\"StatementDetails.FinancialPeriodEndDate\"])\n",
      "/var/folders/xr/5n5p0p5d4zjg8f57zwt16lyr0000gn/T/ipykernel_73218/3953964208.py:26: SettingWithCopyWarning: \n",
      "A value is trying to be set on a copy of a slice from a DataFrame.\n",
      "Try using .loc[row_indexer,col_indexer] = value instead\n",
      "\n",
      "See the caveats in the documentation: https://pandas.pydata.org/pandas-docs/stable/user_guide/indexing.html#returning-a-view-versus-a-copy\n",
      "  df_id[\"StatementDetails.FinancialPeriodEndDate\"] = pd.to_datetime(df_id[\"StatementDetails.FinancialPeriodEndDate\"])\n"
     ]
    },
    {
     "name": "stdout",
     "output_type": "stream",
     "text": [
      "predictions based on sector (using scaled data)\n",
      "predictions based on sector (using scaled data)\n"
     ]
    },
    {
     "name": "stderr",
     "output_type": "stream",
     "text": [
      "/var/folders/xr/5n5p0p5d4zjg8f57zwt16lyr0000gn/T/ipykernel_73218/3953964208.py:26: SettingWithCopyWarning: \n",
      "A value is trying to be set on a copy of a slice from a DataFrame.\n",
      "Try using .loc[row_indexer,col_indexer] = value instead\n",
      "\n",
      "See the caveats in the documentation: https://pandas.pydata.org/pandas-docs/stable/user_guide/indexing.html#returning-a-view-versus-a-copy\n",
      "  df_id[\"StatementDetails.FinancialPeriodEndDate\"] = pd.to_datetime(df_id[\"StatementDetails.FinancialPeriodEndDate\"])\n",
      "/var/folders/xr/5n5p0p5d4zjg8f57zwt16lyr0000gn/T/ipykernel_73218/3953964208.py:26: SettingWithCopyWarning: \n",
      "A value is trying to be set on a copy of a slice from a DataFrame.\n",
      "Try using .loc[row_indexer,col_indexer] = value instead\n",
      "\n",
      "See the caveats in the documentation: https://pandas.pydata.org/pandas-docs/stable/user_guide/indexing.html#returning-a-view-versus-a-copy\n",
      "  df_id[\"StatementDetails.FinancialPeriodEndDate\"] = pd.to_datetime(df_id[\"StatementDetails.FinancialPeriodEndDate\"])\n"
     ]
    },
    {
     "name": "stdout",
     "output_type": "stream",
     "text": [
      "predictions based on sector (using scaled data)\n",
      "predictions based on sector (using scaled data)\n"
     ]
    },
    {
     "name": "stderr",
     "output_type": "stream",
     "text": [
      "/var/folders/xr/5n5p0p5d4zjg8f57zwt16lyr0000gn/T/ipykernel_73218/3953964208.py:26: SettingWithCopyWarning: \n",
      "A value is trying to be set on a copy of a slice from a DataFrame.\n",
      "Try using .loc[row_indexer,col_indexer] = value instead\n",
      "\n",
      "See the caveats in the documentation: https://pandas.pydata.org/pandas-docs/stable/user_guide/indexing.html#returning-a-view-versus-a-copy\n",
      "  df_id[\"StatementDetails.FinancialPeriodEndDate\"] = pd.to_datetime(df_id[\"StatementDetails.FinancialPeriodEndDate\"])\n",
      "/var/folders/xr/5n5p0p5d4zjg8f57zwt16lyr0000gn/T/ipykernel_73218/3953964208.py:26: SettingWithCopyWarning: \n",
      "A value is trying to be set on a copy of a slice from a DataFrame.\n",
      "Try using .loc[row_indexer,col_indexer] = value instead\n",
      "\n",
      "See the caveats in the documentation: https://pandas.pydata.org/pandas-docs/stable/user_guide/indexing.html#returning-a-view-versus-a-copy\n",
      "  df_id[\"StatementDetails.FinancialPeriodEndDate\"] = pd.to_datetime(df_id[\"StatementDetails.FinancialPeriodEndDate\"])\n"
     ]
    },
    {
     "name": "stdout",
     "output_type": "stream",
     "text": [
      "predictions based on orgid\n",
      "predictions based on sector (using scaled data)\n",
      "predictions based on orgid\n",
      "predictions based on orgid\n",
      "predictions based on sector (using scaled data)\n"
     ]
    },
    {
     "name": "stderr",
     "output_type": "stream",
     "text": [
      "/var/folders/xr/5n5p0p5d4zjg8f57zwt16lyr0000gn/T/ipykernel_73218/3953964208.py:26: SettingWithCopyWarning: \n",
      "A value is trying to be set on a copy of a slice from a DataFrame.\n",
      "Try using .loc[row_indexer,col_indexer] = value instead\n",
      "\n",
      "See the caveats in the documentation: https://pandas.pydata.org/pandas-docs/stable/user_guide/indexing.html#returning-a-view-versus-a-copy\n",
      "  df_id[\"StatementDetails.FinancialPeriodEndDate\"] = pd.to_datetime(df_id[\"StatementDetails.FinancialPeriodEndDate\"])\n",
      "/var/folders/xr/5n5p0p5d4zjg8f57zwt16lyr0000gn/T/ipykernel_73218/3953964208.py:26: SettingWithCopyWarning: \n",
      "A value is trying to be set on a copy of a slice from a DataFrame.\n",
      "Try using .loc[row_indexer,col_indexer] = value instead\n",
      "\n",
      "See the caveats in the documentation: https://pandas.pydata.org/pandas-docs/stable/user_guide/indexing.html#returning-a-view-versus-a-copy\n",
      "  df_id[\"StatementDetails.FinancialPeriodEndDate\"] = pd.to_datetime(df_id[\"StatementDetails.FinancialPeriodEndDate\"])\n"
     ]
    },
    {
     "name": "stdout",
     "output_type": "stream",
     "text": [
      "predictions based on orgid\n",
      "predictions based on sector (using scaled data)\n",
      "predictions based on orgid\n",
      "predictions based on orgid\n",
      "predictions based on sector (using scaled data)\n"
     ]
    },
    {
     "name": "stderr",
     "output_type": "stream",
     "text": [
      "/var/folders/xr/5n5p0p5d4zjg8f57zwt16lyr0000gn/T/ipykernel_73218/3953964208.py:26: SettingWithCopyWarning: \n",
      "A value is trying to be set on a copy of a slice from a DataFrame.\n",
      "Try using .loc[row_indexer,col_indexer] = value instead\n",
      "\n",
      "See the caveats in the documentation: https://pandas.pydata.org/pandas-docs/stable/user_guide/indexing.html#returning-a-view-versus-a-copy\n",
      "  df_id[\"StatementDetails.FinancialPeriodEndDate\"] = pd.to_datetime(df_id[\"StatementDetails.FinancialPeriodEndDate\"])\n",
      "/var/folders/xr/5n5p0p5d4zjg8f57zwt16lyr0000gn/T/ipykernel_73218/3953964208.py:26: SettingWithCopyWarning: \n",
      "A value is trying to be set on a copy of a slice from a DataFrame.\n",
      "Try using .loc[row_indexer,col_indexer] = value instead\n",
      "\n",
      "See the caveats in the documentation: https://pandas.pydata.org/pandas-docs/stable/user_guide/indexing.html#returning-a-view-versus-a-copy\n",
      "  df_id[\"StatementDetails.FinancialPeriodEndDate\"] = pd.to_datetime(df_id[\"StatementDetails.FinancialPeriodEndDate\"])\n"
     ]
    },
    {
     "name": "stdout",
     "output_type": "stream",
     "text": [
      "predictions based on orgid\n",
      "predictions based on sector (using scaled data)\n",
      "predictions based on sector (using scaled data)\n"
     ]
    },
    {
     "name": "stderr",
     "output_type": "stream",
     "text": [
      "/var/folders/xr/5n5p0p5d4zjg8f57zwt16lyr0000gn/T/ipykernel_73218/3953964208.py:26: SettingWithCopyWarning: \n",
      "A value is trying to be set on a copy of a slice from a DataFrame.\n",
      "Try using .loc[row_indexer,col_indexer] = value instead\n",
      "\n",
      "See the caveats in the documentation: https://pandas.pydata.org/pandas-docs/stable/user_guide/indexing.html#returning-a-view-versus-a-copy\n",
      "  df_id[\"StatementDetails.FinancialPeriodEndDate\"] = pd.to_datetime(df_id[\"StatementDetails.FinancialPeriodEndDate\"])\n",
      "/var/folders/xr/5n5p0p5d4zjg8f57zwt16lyr0000gn/T/ipykernel_73218/3953964208.py:26: SettingWithCopyWarning: \n",
      "A value is trying to be set on a copy of a slice from a DataFrame.\n",
      "Try using .loc[row_indexer,col_indexer] = value instead\n",
      "\n",
      "See the caveats in the documentation: https://pandas.pydata.org/pandas-docs/stable/user_guide/indexing.html#returning-a-view-versus-a-copy\n",
      "  df_id[\"StatementDetails.FinancialPeriodEndDate\"] = pd.to_datetime(df_id[\"StatementDetails.FinancialPeriodEndDate\"])\n"
     ]
    },
    {
     "name": "stdout",
     "output_type": "stream",
     "text": [
      "predictions based on sector (using scaled data)\n",
      "predictions based on sector (using scaled data)\n"
     ]
    },
    {
     "name": "stderr",
     "output_type": "stream",
     "text": [
      "/var/folders/xr/5n5p0p5d4zjg8f57zwt16lyr0000gn/T/ipykernel_73218/3953964208.py:26: SettingWithCopyWarning: \n",
      "A value is trying to be set on a copy of a slice from a DataFrame.\n",
      "Try using .loc[row_indexer,col_indexer] = value instead\n",
      "\n",
      "See the caveats in the documentation: https://pandas.pydata.org/pandas-docs/stable/user_guide/indexing.html#returning-a-view-versus-a-copy\n",
      "  df_id[\"StatementDetails.FinancialPeriodEndDate\"] = pd.to_datetime(df_id[\"StatementDetails.FinancialPeriodEndDate\"])\n",
      "/var/folders/xr/5n5p0p5d4zjg8f57zwt16lyr0000gn/T/ipykernel_73218/3953964208.py:26: SettingWithCopyWarning: \n",
      "A value is trying to be set on a copy of a slice from a DataFrame.\n",
      "Try using .loc[row_indexer,col_indexer] = value instead\n",
      "\n",
      "See the caveats in the documentation: https://pandas.pydata.org/pandas-docs/stable/user_guide/indexing.html#returning-a-view-versus-a-copy\n",
      "  df_id[\"StatementDetails.FinancialPeriodEndDate\"] = pd.to_datetime(df_id[\"StatementDetails.FinancialPeriodEndDate\"])\n"
     ]
    },
    {
     "name": "stdout",
     "output_type": "stream",
     "text": [
      "predictions based on sector (using scaled data)\n",
      "predictions based on sector (using scaled data)\n"
     ]
    },
    {
     "name": "stderr",
     "output_type": "stream",
     "text": [
      "/var/folders/xr/5n5p0p5d4zjg8f57zwt16lyr0000gn/T/ipykernel_73218/3953964208.py:26: SettingWithCopyWarning: \n",
      "A value is trying to be set on a copy of a slice from a DataFrame.\n",
      "Try using .loc[row_indexer,col_indexer] = value instead\n",
      "\n",
      "See the caveats in the documentation: https://pandas.pydata.org/pandas-docs/stable/user_guide/indexing.html#returning-a-view-versus-a-copy\n",
      "  df_id[\"StatementDetails.FinancialPeriodEndDate\"] = pd.to_datetime(df_id[\"StatementDetails.FinancialPeriodEndDate\"])\n",
      "/var/folders/xr/5n5p0p5d4zjg8f57zwt16lyr0000gn/T/ipykernel_73218/3953964208.py:26: SettingWithCopyWarning: \n",
      "A value is trying to be set on a copy of a slice from a DataFrame.\n",
      "Try using .loc[row_indexer,col_indexer] = value instead\n",
      "\n",
      "See the caveats in the documentation: https://pandas.pydata.org/pandas-docs/stable/user_guide/indexing.html#returning-a-view-versus-a-copy\n",
      "  df_id[\"StatementDetails.FinancialPeriodEndDate\"] = pd.to_datetime(df_id[\"StatementDetails.FinancialPeriodEndDate\"])\n"
     ]
    },
    {
     "name": "stdout",
     "output_type": "stream",
     "text": [
      "predictions based on sector (using scaled data)\n",
      "predictions based on sector (using scaled data)\n"
     ]
    },
    {
     "name": "stderr",
     "output_type": "stream",
     "text": [
      "/var/folders/xr/5n5p0p5d4zjg8f57zwt16lyr0000gn/T/ipykernel_73218/3953964208.py:26: SettingWithCopyWarning: \n",
      "A value is trying to be set on a copy of a slice from a DataFrame.\n",
      "Try using .loc[row_indexer,col_indexer] = value instead\n",
      "\n",
      "See the caveats in the documentation: https://pandas.pydata.org/pandas-docs/stable/user_guide/indexing.html#returning-a-view-versus-a-copy\n",
      "  df_id[\"StatementDetails.FinancialPeriodEndDate\"] = pd.to_datetime(df_id[\"StatementDetails.FinancialPeriodEndDate\"])\n",
      "/var/folders/xr/5n5p0p5d4zjg8f57zwt16lyr0000gn/T/ipykernel_73218/3953964208.py:26: SettingWithCopyWarning: \n",
      "A value is trying to be set on a copy of a slice from a DataFrame.\n",
      "Try using .loc[row_indexer,col_indexer] = value instead\n",
      "\n",
      "See the caveats in the documentation: https://pandas.pydata.org/pandas-docs/stable/user_guide/indexing.html#returning-a-view-versus-a-copy\n",
      "  df_id[\"StatementDetails.FinancialPeriodEndDate\"] = pd.to_datetime(df_id[\"StatementDetails.FinancialPeriodEndDate\"])\n"
     ]
    },
    {
     "name": "stdout",
     "output_type": "stream",
     "text": [
      "predictions based on sector (using scaled data)\n"
     ]
    },
    {
     "name": "stderr",
     "output_type": "stream",
     "text": [
      "/var/folders/xr/5n5p0p5d4zjg8f57zwt16lyr0000gn/T/ipykernel_73218/3953964208.py:26: SettingWithCopyWarning: \n",
      "A value is trying to be set on a copy of a slice from a DataFrame.\n",
      "Try using .loc[row_indexer,col_indexer] = value instead\n",
      "\n",
      "See the caveats in the documentation: https://pandas.pydata.org/pandas-docs/stable/user_guide/indexing.html#returning-a-view-versus-a-copy\n",
      "  df_id[\"StatementDetails.FinancialPeriodEndDate\"] = pd.to_datetime(df_id[\"StatementDetails.FinancialPeriodEndDate\"])\n"
     ]
    },
    {
     "name": "stdout",
     "output_type": "stream",
     "text": [
      "predictions based on sector (using scaled data)\n",
      "predictions based on sector (using scaled data)\n"
     ]
    },
    {
     "name": "stderr",
     "output_type": "stream",
     "text": [
      "/var/folders/xr/5n5p0p5d4zjg8f57zwt16lyr0000gn/T/ipykernel_73218/3953964208.py:26: SettingWithCopyWarning: \n",
      "A value is trying to be set on a copy of a slice from a DataFrame.\n",
      "Try using .loc[row_indexer,col_indexer] = value instead\n",
      "\n",
      "See the caveats in the documentation: https://pandas.pydata.org/pandas-docs/stable/user_guide/indexing.html#returning-a-view-versus-a-copy\n",
      "  df_id[\"StatementDetails.FinancialPeriodEndDate\"] = pd.to_datetime(df_id[\"StatementDetails.FinancialPeriodEndDate\"])\n",
      "/var/folders/xr/5n5p0p5d4zjg8f57zwt16lyr0000gn/T/ipykernel_73218/3953964208.py:26: SettingWithCopyWarning: \n",
      "A value is trying to be set on a copy of a slice from a DataFrame.\n",
      "Try using .loc[row_indexer,col_indexer] = value instead\n",
      "\n",
      "See the caveats in the documentation: https://pandas.pydata.org/pandas-docs/stable/user_guide/indexing.html#returning-a-view-versus-a-copy\n",
      "  df_id[\"StatementDetails.FinancialPeriodEndDate\"] = pd.to_datetime(df_id[\"StatementDetails.FinancialPeriodEndDate\"])\n"
     ]
    },
    {
     "name": "stdout",
     "output_type": "stream",
     "text": [
      "predictions based on orgid\n",
      "predictions based on sector (using scaled data)\n",
      "predictions based on sector (using scaled data)\n"
     ]
    },
    {
     "name": "stderr",
     "output_type": "stream",
     "text": [
      "/var/folders/xr/5n5p0p5d4zjg8f57zwt16lyr0000gn/T/ipykernel_73218/3953964208.py:26: SettingWithCopyWarning: \n",
      "A value is trying to be set on a copy of a slice from a DataFrame.\n",
      "Try using .loc[row_indexer,col_indexer] = value instead\n",
      "\n",
      "See the caveats in the documentation: https://pandas.pydata.org/pandas-docs/stable/user_guide/indexing.html#returning-a-view-versus-a-copy\n",
      "  df_id[\"StatementDetails.FinancialPeriodEndDate\"] = pd.to_datetime(df_id[\"StatementDetails.FinancialPeriodEndDate\"])\n",
      "/var/folders/xr/5n5p0p5d4zjg8f57zwt16lyr0000gn/T/ipykernel_73218/3953964208.py:26: SettingWithCopyWarning: \n",
      "A value is trying to be set on a copy of a slice from a DataFrame.\n",
      "Try using .loc[row_indexer,col_indexer] = value instead\n",
      "\n",
      "See the caveats in the documentation: https://pandas.pydata.org/pandas-docs/stable/user_guide/indexing.html#returning-a-view-versus-a-copy\n",
      "  df_id[\"StatementDetails.FinancialPeriodEndDate\"] = pd.to_datetime(df_id[\"StatementDetails.FinancialPeriodEndDate\"])\n"
     ]
    },
    {
     "name": "stdout",
     "output_type": "stream",
     "text": [
      "predictions based on sector (using scaled data)\n",
      "predictions based on sector (using scaled data)\n"
     ]
    },
    {
     "name": "stderr",
     "output_type": "stream",
     "text": [
      "/var/folders/xr/5n5p0p5d4zjg8f57zwt16lyr0000gn/T/ipykernel_73218/3953964208.py:26: SettingWithCopyWarning: \n",
      "A value is trying to be set on a copy of a slice from a DataFrame.\n",
      "Try using .loc[row_indexer,col_indexer] = value instead\n",
      "\n",
      "See the caveats in the documentation: https://pandas.pydata.org/pandas-docs/stable/user_guide/indexing.html#returning-a-view-versus-a-copy\n",
      "  df_id[\"StatementDetails.FinancialPeriodEndDate\"] = pd.to_datetime(df_id[\"StatementDetails.FinancialPeriodEndDate\"])\n",
      "/var/folders/xr/5n5p0p5d4zjg8f57zwt16lyr0000gn/T/ipykernel_73218/3953964208.py:26: SettingWithCopyWarning: \n",
      "A value is trying to be set on a copy of a slice from a DataFrame.\n",
      "Try using .loc[row_indexer,col_indexer] = value instead\n",
      "\n",
      "See the caveats in the documentation: https://pandas.pydata.org/pandas-docs/stable/user_guide/indexing.html#returning-a-view-versus-a-copy\n",
      "  df_id[\"StatementDetails.FinancialPeriodEndDate\"] = pd.to_datetime(df_id[\"StatementDetails.FinancialPeriodEndDate\"])\n"
     ]
    },
    {
     "name": "stdout",
     "output_type": "stream",
     "text": [
      "predictions based on sector (using scaled data)\n",
      "predictions based on sector (using scaled data)\n"
     ]
    },
    {
     "name": "stderr",
     "output_type": "stream",
     "text": [
      "/var/folders/xr/5n5p0p5d4zjg8f57zwt16lyr0000gn/T/ipykernel_73218/3953964208.py:26: SettingWithCopyWarning: \n",
      "A value is trying to be set on a copy of a slice from a DataFrame.\n",
      "Try using .loc[row_indexer,col_indexer] = value instead\n",
      "\n",
      "See the caveats in the documentation: https://pandas.pydata.org/pandas-docs/stable/user_guide/indexing.html#returning-a-view-versus-a-copy\n",
      "  df_id[\"StatementDetails.FinancialPeriodEndDate\"] = pd.to_datetime(df_id[\"StatementDetails.FinancialPeriodEndDate\"])\n",
      "/var/folders/xr/5n5p0p5d4zjg8f57zwt16lyr0000gn/T/ipykernel_73218/3953964208.py:26: SettingWithCopyWarning: \n",
      "A value is trying to be set on a copy of a slice from a DataFrame.\n",
      "Try using .loc[row_indexer,col_indexer] = value instead\n",
      "\n",
      "See the caveats in the documentation: https://pandas.pydata.org/pandas-docs/stable/user_guide/indexing.html#returning-a-view-versus-a-copy\n",
      "  df_id[\"StatementDetails.FinancialPeriodEndDate\"] = pd.to_datetime(df_id[\"StatementDetails.FinancialPeriodEndDate\"])\n"
     ]
    },
    {
     "name": "stdout",
     "output_type": "stream",
     "text": [
      "predictions based on sector (using scaled data)\n",
      "predictions based on sector (using scaled data)\n"
     ]
    },
    {
     "name": "stderr",
     "output_type": "stream",
     "text": [
      "/var/folders/xr/5n5p0p5d4zjg8f57zwt16lyr0000gn/T/ipykernel_73218/3953964208.py:26: SettingWithCopyWarning: \n",
      "A value is trying to be set on a copy of a slice from a DataFrame.\n",
      "Try using .loc[row_indexer,col_indexer] = value instead\n",
      "\n",
      "See the caveats in the documentation: https://pandas.pydata.org/pandas-docs/stable/user_guide/indexing.html#returning-a-view-versus-a-copy\n",
      "  df_id[\"StatementDetails.FinancialPeriodEndDate\"] = pd.to_datetime(df_id[\"StatementDetails.FinancialPeriodEndDate\"])\n",
      "/var/folders/xr/5n5p0p5d4zjg8f57zwt16lyr0000gn/T/ipykernel_73218/3953964208.py:26: SettingWithCopyWarning: \n",
      "A value is trying to be set on a copy of a slice from a DataFrame.\n",
      "Try using .loc[row_indexer,col_indexer] = value instead\n",
      "\n",
      "See the caveats in the documentation: https://pandas.pydata.org/pandas-docs/stable/user_guide/indexing.html#returning-a-view-versus-a-copy\n",
      "  df_id[\"StatementDetails.FinancialPeriodEndDate\"] = pd.to_datetime(df_id[\"StatementDetails.FinancialPeriodEndDate\"])\n"
     ]
    },
    {
     "name": "stdout",
     "output_type": "stream",
     "text": [
      "predictions based on sector (using scaled data)\n",
      "predictions based on sector (using scaled data)\n"
     ]
    },
    {
     "name": "stderr",
     "output_type": "stream",
     "text": [
      "/var/folders/xr/5n5p0p5d4zjg8f57zwt16lyr0000gn/T/ipykernel_73218/3953964208.py:26: SettingWithCopyWarning: \n",
      "A value is trying to be set on a copy of a slice from a DataFrame.\n",
      "Try using .loc[row_indexer,col_indexer] = value instead\n",
      "\n",
      "See the caveats in the documentation: https://pandas.pydata.org/pandas-docs/stable/user_guide/indexing.html#returning-a-view-versus-a-copy\n",
      "  df_id[\"StatementDetails.FinancialPeriodEndDate\"] = pd.to_datetime(df_id[\"StatementDetails.FinancialPeriodEndDate\"])\n",
      "/var/folders/xr/5n5p0p5d4zjg8f57zwt16lyr0000gn/T/ipykernel_73218/3953964208.py:26: SettingWithCopyWarning: \n",
      "A value is trying to be set on a copy of a slice from a DataFrame.\n",
      "Try using .loc[row_indexer,col_indexer] = value instead\n",
      "\n",
      "See the caveats in the documentation: https://pandas.pydata.org/pandas-docs/stable/user_guide/indexing.html#returning-a-view-versus-a-copy\n",
      "  df_id[\"StatementDetails.FinancialPeriodEndDate\"] = pd.to_datetime(df_id[\"StatementDetails.FinancialPeriodEndDate\"])\n"
     ]
    },
    {
     "name": "stdout",
     "output_type": "stream",
     "text": [
      "predictions based on sector (using scaled data)\n",
      "predictions based on sector (using scaled data)\n"
     ]
    },
    {
     "name": "stderr",
     "output_type": "stream",
     "text": [
      "/var/folders/xr/5n5p0p5d4zjg8f57zwt16lyr0000gn/T/ipykernel_73218/3953964208.py:26: SettingWithCopyWarning: \n",
      "A value is trying to be set on a copy of a slice from a DataFrame.\n",
      "Try using .loc[row_indexer,col_indexer] = value instead\n",
      "\n",
      "See the caveats in the documentation: https://pandas.pydata.org/pandas-docs/stable/user_guide/indexing.html#returning-a-view-versus-a-copy\n",
      "  df_id[\"StatementDetails.FinancialPeriodEndDate\"] = pd.to_datetime(df_id[\"StatementDetails.FinancialPeriodEndDate\"])\n",
      "/var/folders/xr/5n5p0p5d4zjg8f57zwt16lyr0000gn/T/ipykernel_73218/3953964208.py:26: SettingWithCopyWarning: \n",
      "A value is trying to be set on a copy of a slice from a DataFrame.\n",
      "Try using .loc[row_indexer,col_indexer] = value instead\n",
      "\n",
      "See the caveats in the documentation: https://pandas.pydata.org/pandas-docs/stable/user_guide/indexing.html#returning-a-view-versus-a-copy\n",
      "  df_id[\"StatementDetails.FinancialPeriodEndDate\"] = pd.to_datetime(df_id[\"StatementDetails.FinancialPeriodEndDate\"])\n"
     ]
    },
    {
     "name": "stdout",
     "output_type": "stream",
     "text": [
      "predictions based on sector (using scaled data)\n",
      "predictions based on sector (using scaled data)\n"
     ]
    },
    {
     "name": "stderr",
     "output_type": "stream",
     "text": [
      "/var/folders/xr/5n5p0p5d4zjg8f57zwt16lyr0000gn/T/ipykernel_73218/3953964208.py:26: SettingWithCopyWarning: \n",
      "A value is trying to be set on a copy of a slice from a DataFrame.\n",
      "Try using .loc[row_indexer,col_indexer] = value instead\n",
      "\n",
      "See the caveats in the documentation: https://pandas.pydata.org/pandas-docs/stable/user_guide/indexing.html#returning-a-view-versus-a-copy\n",
      "  df_id[\"StatementDetails.FinancialPeriodEndDate\"] = pd.to_datetime(df_id[\"StatementDetails.FinancialPeriodEndDate\"])\n",
      "/var/folders/xr/5n5p0p5d4zjg8f57zwt16lyr0000gn/T/ipykernel_73218/3953964208.py:26: SettingWithCopyWarning: \n",
      "A value is trying to be set on a copy of a slice from a DataFrame.\n",
      "Try using .loc[row_indexer,col_indexer] = value instead\n",
      "\n",
      "See the caveats in the documentation: https://pandas.pydata.org/pandas-docs/stable/user_guide/indexing.html#returning-a-view-versus-a-copy\n",
      "  df_id[\"StatementDetails.FinancialPeriodEndDate\"] = pd.to_datetime(df_id[\"StatementDetails.FinancialPeriodEndDate\"])\n"
     ]
    },
    {
     "name": "stdout",
     "output_type": "stream",
     "text": [
      "predictions based on sector (using scaled data)\n",
      "predictions based on sector (using scaled data)\n"
     ]
    },
    {
     "name": "stderr",
     "output_type": "stream",
     "text": [
      "/var/folders/xr/5n5p0p5d4zjg8f57zwt16lyr0000gn/T/ipykernel_73218/3953964208.py:26: SettingWithCopyWarning: \n",
      "A value is trying to be set on a copy of a slice from a DataFrame.\n",
      "Try using .loc[row_indexer,col_indexer] = value instead\n",
      "\n",
      "See the caveats in the documentation: https://pandas.pydata.org/pandas-docs/stable/user_guide/indexing.html#returning-a-view-versus-a-copy\n",
      "  df_id[\"StatementDetails.FinancialPeriodEndDate\"] = pd.to_datetime(df_id[\"StatementDetails.FinancialPeriodEndDate\"])\n",
      "/var/folders/xr/5n5p0p5d4zjg8f57zwt16lyr0000gn/T/ipykernel_73218/3953964208.py:26: SettingWithCopyWarning: \n",
      "A value is trying to be set on a copy of a slice from a DataFrame.\n",
      "Try using .loc[row_indexer,col_indexer] = value instead\n",
      "\n",
      "See the caveats in the documentation: https://pandas.pydata.org/pandas-docs/stable/user_guide/indexing.html#returning-a-view-versus-a-copy\n",
      "  df_id[\"StatementDetails.FinancialPeriodEndDate\"] = pd.to_datetime(df_id[\"StatementDetails.FinancialPeriodEndDate\"])\n"
     ]
    },
    {
     "name": "stdout",
     "output_type": "stream",
     "text": [
      "predictions based on sector (using scaled data)\n",
      "predictions based on sector (using scaled data)\n"
     ]
    },
    {
     "name": "stderr",
     "output_type": "stream",
     "text": [
      "/var/folders/xr/5n5p0p5d4zjg8f57zwt16lyr0000gn/T/ipykernel_73218/3953964208.py:26: SettingWithCopyWarning: \n",
      "A value is trying to be set on a copy of a slice from a DataFrame.\n",
      "Try using .loc[row_indexer,col_indexer] = value instead\n",
      "\n",
      "See the caveats in the documentation: https://pandas.pydata.org/pandas-docs/stable/user_guide/indexing.html#returning-a-view-versus-a-copy\n",
      "  df_id[\"StatementDetails.FinancialPeriodEndDate\"] = pd.to_datetime(df_id[\"StatementDetails.FinancialPeriodEndDate\"])\n",
      "/var/folders/xr/5n5p0p5d4zjg8f57zwt16lyr0000gn/T/ipykernel_73218/3953964208.py:26: SettingWithCopyWarning: \n",
      "A value is trying to be set on a copy of a slice from a DataFrame.\n",
      "Try using .loc[row_indexer,col_indexer] = value instead\n",
      "\n",
      "See the caveats in the documentation: https://pandas.pydata.org/pandas-docs/stable/user_guide/indexing.html#returning-a-view-versus-a-copy\n",
      "  df_id[\"StatementDetails.FinancialPeriodEndDate\"] = pd.to_datetime(df_id[\"StatementDetails.FinancialPeriodEndDate\"])\n"
     ]
    },
    {
     "name": "stdout",
     "output_type": "stream",
     "text": [
      "predictions based on orgid\n",
      "predictions based on sector (using scaled data)\n",
      "predictions based on sector (using scaled data)\n"
     ]
    },
    {
     "name": "stderr",
     "output_type": "stream",
     "text": [
      "/var/folders/xr/5n5p0p5d4zjg8f57zwt16lyr0000gn/T/ipykernel_73218/3953964208.py:26: SettingWithCopyWarning: \n",
      "A value is trying to be set on a copy of a slice from a DataFrame.\n",
      "Try using .loc[row_indexer,col_indexer] = value instead\n",
      "\n",
      "See the caveats in the documentation: https://pandas.pydata.org/pandas-docs/stable/user_guide/indexing.html#returning-a-view-versus-a-copy\n",
      "  df_id[\"StatementDetails.FinancialPeriodEndDate\"] = pd.to_datetime(df_id[\"StatementDetails.FinancialPeriodEndDate\"])\n",
      "/var/folders/xr/5n5p0p5d4zjg8f57zwt16lyr0000gn/T/ipykernel_73218/3953964208.py:26: SettingWithCopyWarning: \n",
      "A value is trying to be set on a copy of a slice from a DataFrame.\n",
      "Try using .loc[row_indexer,col_indexer] = value instead\n",
      "\n",
      "See the caveats in the documentation: https://pandas.pydata.org/pandas-docs/stable/user_guide/indexing.html#returning-a-view-versus-a-copy\n",
      "  df_id[\"StatementDetails.FinancialPeriodEndDate\"] = pd.to_datetime(df_id[\"StatementDetails.FinancialPeriodEndDate\"])\n"
     ]
    },
    {
     "name": "stdout",
     "output_type": "stream",
     "text": [
      "predictions based on sector (using scaled data)\n",
      "predictions based on sector (using scaled data)\n"
     ]
    },
    {
     "name": "stderr",
     "output_type": "stream",
     "text": [
      "/var/folders/xr/5n5p0p5d4zjg8f57zwt16lyr0000gn/T/ipykernel_73218/3953964208.py:26: SettingWithCopyWarning: \n",
      "A value is trying to be set on a copy of a slice from a DataFrame.\n",
      "Try using .loc[row_indexer,col_indexer] = value instead\n",
      "\n",
      "See the caveats in the documentation: https://pandas.pydata.org/pandas-docs/stable/user_guide/indexing.html#returning-a-view-versus-a-copy\n",
      "  df_id[\"StatementDetails.FinancialPeriodEndDate\"] = pd.to_datetime(df_id[\"StatementDetails.FinancialPeriodEndDate\"])\n",
      "/var/folders/xr/5n5p0p5d4zjg8f57zwt16lyr0000gn/T/ipykernel_73218/3953964208.py:26: SettingWithCopyWarning: \n",
      "A value is trying to be set on a copy of a slice from a DataFrame.\n",
      "Try using .loc[row_indexer,col_indexer] = value instead\n",
      "\n",
      "See the caveats in the documentation: https://pandas.pydata.org/pandas-docs/stable/user_guide/indexing.html#returning-a-view-versus-a-copy\n",
      "  df_id[\"StatementDetails.FinancialPeriodEndDate\"] = pd.to_datetime(df_id[\"StatementDetails.FinancialPeriodEndDate\"])\n"
     ]
    },
    {
     "name": "stdout",
     "output_type": "stream",
     "text": [
      "predictions based on sector (using scaled data)\n",
      "predictions based on sector (using scaled data)\n"
     ]
    },
    {
     "name": "stderr",
     "output_type": "stream",
     "text": [
      "/var/folders/xr/5n5p0p5d4zjg8f57zwt16lyr0000gn/T/ipykernel_73218/3953964208.py:26: SettingWithCopyWarning: \n",
      "A value is trying to be set on a copy of a slice from a DataFrame.\n",
      "Try using .loc[row_indexer,col_indexer] = value instead\n",
      "\n",
      "See the caveats in the documentation: https://pandas.pydata.org/pandas-docs/stable/user_guide/indexing.html#returning-a-view-versus-a-copy\n",
      "  df_id[\"StatementDetails.FinancialPeriodEndDate\"] = pd.to_datetime(df_id[\"StatementDetails.FinancialPeriodEndDate\"])\n",
      "/var/folders/xr/5n5p0p5d4zjg8f57zwt16lyr0000gn/T/ipykernel_73218/3953964208.py:26: SettingWithCopyWarning: \n",
      "A value is trying to be set on a copy of a slice from a DataFrame.\n",
      "Try using .loc[row_indexer,col_indexer] = value instead\n",
      "\n",
      "See the caveats in the documentation: https://pandas.pydata.org/pandas-docs/stable/user_guide/indexing.html#returning-a-view-versus-a-copy\n",
      "  df_id[\"StatementDetails.FinancialPeriodEndDate\"] = pd.to_datetime(df_id[\"StatementDetails.FinancialPeriodEndDate\"])\n"
     ]
    },
    {
     "name": "stdout",
     "output_type": "stream",
     "text": [
      "predictions based on sector (using scaled data)\n",
      "predictions based on sector (using scaled data)\n"
     ]
    },
    {
     "name": "stderr",
     "output_type": "stream",
     "text": [
      "/var/folders/xr/5n5p0p5d4zjg8f57zwt16lyr0000gn/T/ipykernel_73218/3953964208.py:26: SettingWithCopyWarning: \n",
      "A value is trying to be set on a copy of a slice from a DataFrame.\n",
      "Try using .loc[row_indexer,col_indexer] = value instead\n",
      "\n",
      "See the caveats in the documentation: https://pandas.pydata.org/pandas-docs/stable/user_guide/indexing.html#returning-a-view-versus-a-copy\n",
      "  df_id[\"StatementDetails.FinancialPeriodEndDate\"] = pd.to_datetime(df_id[\"StatementDetails.FinancialPeriodEndDate\"])\n",
      "/var/folders/xr/5n5p0p5d4zjg8f57zwt16lyr0000gn/T/ipykernel_73218/3953964208.py:26: SettingWithCopyWarning: \n",
      "A value is trying to be set on a copy of a slice from a DataFrame.\n",
      "Try using .loc[row_indexer,col_indexer] = value instead\n",
      "\n",
      "See the caveats in the documentation: https://pandas.pydata.org/pandas-docs/stable/user_guide/indexing.html#returning-a-view-versus-a-copy\n",
      "  df_id[\"StatementDetails.FinancialPeriodEndDate\"] = pd.to_datetime(df_id[\"StatementDetails.FinancialPeriodEndDate\"])\n"
     ]
    },
    {
     "name": "stdout",
     "output_type": "stream",
     "text": [
      "predictions based on sector (using scaled data)\n",
      "predictions based on sector (using scaled data)\n"
     ]
    },
    {
     "name": "stderr",
     "output_type": "stream",
     "text": [
      "/var/folders/xr/5n5p0p5d4zjg8f57zwt16lyr0000gn/T/ipykernel_73218/3953964208.py:26: SettingWithCopyWarning: \n",
      "A value is trying to be set on a copy of a slice from a DataFrame.\n",
      "Try using .loc[row_indexer,col_indexer] = value instead\n",
      "\n",
      "See the caveats in the documentation: https://pandas.pydata.org/pandas-docs/stable/user_guide/indexing.html#returning-a-view-versus-a-copy\n",
      "  df_id[\"StatementDetails.FinancialPeriodEndDate\"] = pd.to_datetime(df_id[\"StatementDetails.FinancialPeriodEndDate\"])\n",
      "/var/folders/xr/5n5p0p5d4zjg8f57zwt16lyr0000gn/T/ipykernel_73218/3953964208.py:26: SettingWithCopyWarning: \n",
      "A value is trying to be set on a copy of a slice from a DataFrame.\n",
      "Try using .loc[row_indexer,col_indexer] = value instead\n",
      "\n",
      "See the caveats in the documentation: https://pandas.pydata.org/pandas-docs/stable/user_guide/indexing.html#returning-a-view-versus-a-copy\n",
      "  df_id[\"StatementDetails.FinancialPeriodEndDate\"] = pd.to_datetime(df_id[\"StatementDetails.FinancialPeriodEndDate\"])\n"
     ]
    },
    {
     "name": "stdout",
     "output_type": "stream",
     "text": [
      "predictions based on orgid\n",
      "predictions based on sector (using scaled data)\n",
      "predictions based on sector (using scaled data)\n"
     ]
    },
    {
     "name": "stderr",
     "output_type": "stream",
     "text": [
      "/var/folders/xr/5n5p0p5d4zjg8f57zwt16lyr0000gn/T/ipykernel_73218/3953964208.py:26: SettingWithCopyWarning: \n",
      "A value is trying to be set on a copy of a slice from a DataFrame.\n",
      "Try using .loc[row_indexer,col_indexer] = value instead\n",
      "\n",
      "See the caveats in the documentation: https://pandas.pydata.org/pandas-docs/stable/user_guide/indexing.html#returning-a-view-versus-a-copy\n",
      "  df_id[\"StatementDetails.FinancialPeriodEndDate\"] = pd.to_datetime(df_id[\"StatementDetails.FinancialPeriodEndDate\"])\n",
      "/var/folders/xr/5n5p0p5d4zjg8f57zwt16lyr0000gn/T/ipykernel_73218/3953964208.py:26: SettingWithCopyWarning: \n",
      "A value is trying to be set on a copy of a slice from a DataFrame.\n",
      "Try using .loc[row_indexer,col_indexer] = value instead\n",
      "\n",
      "See the caveats in the documentation: https://pandas.pydata.org/pandas-docs/stable/user_guide/indexing.html#returning-a-view-versus-a-copy\n",
      "  df_id[\"StatementDetails.FinancialPeriodEndDate\"] = pd.to_datetime(df_id[\"StatementDetails.FinancialPeriodEndDate\"])\n"
     ]
    },
    {
     "name": "stdout",
     "output_type": "stream",
     "text": [
      "predictions based on sector (using scaled data)\n",
      "predictions based on sector (using scaled data)\n"
     ]
    },
    {
     "name": "stderr",
     "output_type": "stream",
     "text": [
      "/var/folders/xr/5n5p0p5d4zjg8f57zwt16lyr0000gn/T/ipykernel_73218/3953964208.py:26: SettingWithCopyWarning: \n",
      "A value is trying to be set on a copy of a slice from a DataFrame.\n",
      "Try using .loc[row_indexer,col_indexer] = value instead\n",
      "\n",
      "See the caveats in the documentation: https://pandas.pydata.org/pandas-docs/stable/user_guide/indexing.html#returning-a-view-versus-a-copy\n",
      "  df_id[\"StatementDetails.FinancialPeriodEndDate\"] = pd.to_datetime(df_id[\"StatementDetails.FinancialPeriodEndDate\"])\n",
      "/var/folders/xr/5n5p0p5d4zjg8f57zwt16lyr0000gn/T/ipykernel_73218/3953964208.py:26: SettingWithCopyWarning: \n",
      "A value is trying to be set on a copy of a slice from a DataFrame.\n",
      "Try using .loc[row_indexer,col_indexer] = value instead\n",
      "\n",
      "See the caveats in the documentation: https://pandas.pydata.org/pandas-docs/stable/user_guide/indexing.html#returning-a-view-versus-a-copy\n",
      "  df_id[\"StatementDetails.FinancialPeriodEndDate\"] = pd.to_datetime(df_id[\"StatementDetails.FinancialPeriodEndDate\"])\n"
     ]
    },
    {
     "name": "stdout",
     "output_type": "stream",
     "text": [
      "predictions based on sector (using scaled data)\n",
      "predictions based on sector (using scaled data)\n"
     ]
    },
    {
     "name": "stderr",
     "output_type": "stream",
     "text": [
      "/var/folders/xr/5n5p0p5d4zjg8f57zwt16lyr0000gn/T/ipykernel_73218/3953964208.py:26: SettingWithCopyWarning: \n",
      "A value is trying to be set on a copy of a slice from a DataFrame.\n",
      "Try using .loc[row_indexer,col_indexer] = value instead\n",
      "\n",
      "See the caveats in the documentation: https://pandas.pydata.org/pandas-docs/stable/user_guide/indexing.html#returning-a-view-versus-a-copy\n",
      "  df_id[\"StatementDetails.FinancialPeriodEndDate\"] = pd.to_datetime(df_id[\"StatementDetails.FinancialPeriodEndDate\"])\n",
      "/var/folders/xr/5n5p0p5d4zjg8f57zwt16lyr0000gn/T/ipykernel_73218/3953964208.py:26: SettingWithCopyWarning: \n",
      "A value is trying to be set on a copy of a slice from a DataFrame.\n",
      "Try using .loc[row_indexer,col_indexer] = value instead\n",
      "\n",
      "See the caveats in the documentation: https://pandas.pydata.org/pandas-docs/stable/user_guide/indexing.html#returning-a-view-versus-a-copy\n",
      "  df_id[\"StatementDetails.FinancialPeriodEndDate\"] = pd.to_datetime(df_id[\"StatementDetails.FinancialPeriodEndDate\"])\n"
     ]
    },
    {
     "name": "stdout",
     "output_type": "stream",
     "text": [
      "predictions based on sector (using scaled data)\n",
      "predictions based on sector (using scaled data)\n"
     ]
    },
    {
     "name": "stderr",
     "output_type": "stream",
     "text": [
      "/var/folders/xr/5n5p0p5d4zjg8f57zwt16lyr0000gn/T/ipykernel_73218/3953964208.py:26: SettingWithCopyWarning: \n",
      "A value is trying to be set on a copy of a slice from a DataFrame.\n",
      "Try using .loc[row_indexer,col_indexer] = value instead\n",
      "\n",
      "See the caveats in the documentation: https://pandas.pydata.org/pandas-docs/stable/user_guide/indexing.html#returning-a-view-versus-a-copy\n",
      "  df_id[\"StatementDetails.FinancialPeriodEndDate\"] = pd.to_datetime(df_id[\"StatementDetails.FinancialPeriodEndDate\"])\n",
      "/var/folders/xr/5n5p0p5d4zjg8f57zwt16lyr0000gn/T/ipykernel_73218/3953964208.py:26: SettingWithCopyWarning: \n",
      "A value is trying to be set on a copy of a slice from a DataFrame.\n",
      "Try using .loc[row_indexer,col_indexer] = value instead\n",
      "\n",
      "See the caveats in the documentation: https://pandas.pydata.org/pandas-docs/stable/user_guide/indexing.html#returning-a-view-versus-a-copy\n",
      "  df_id[\"StatementDetails.FinancialPeriodEndDate\"] = pd.to_datetime(df_id[\"StatementDetails.FinancialPeriodEndDate\"])\n"
     ]
    },
    {
     "name": "stdout",
     "output_type": "stream",
     "text": [
      "predictions based on sector (using scaled data)\n",
      "predictions based on sector (using scaled data)\n"
     ]
    },
    {
     "name": "stderr",
     "output_type": "stream",
     "text": [
      "/var/folders/xr/5n5p0p5d4zjg8f57zwt16lyr0000gn/T/ipykernel_73218/3953964208.py:26: SettingWithCopyWarning: \n",
      "A value is trying to be set on a copy of a slice from a DataFrame.\n",
      "Try using .loc[row_indexer,col_indexer] = value instead\n",
      "\n",
      "See the caveats in the documentation: https://pandas.pydata.org/pandas-docs/stable/user_guide/indexing.html#returning-a-view-versus-a-copy\n",
      "  df_id[\"StatementDetails.FinancialPeriodEndDate\"] = pd.to_datetime(df_id[\"StatementDetails.FinancialPeriodEndDate\"])\n",
      "/var/folders/xr/5n5p0p5d4zjg8f57zwt16lyr0000gn/T/ipykernel_73218/3953964208.py:26: SettingWithCopyWarning: \n",
      "A value is trying to be set on a copy of a slice from a DataFrame.\n",
      "Try using .loc[row_indexer,col_indexer] = value instead\n",
      "\n",
      "See the caveats in the documentation: https://pandas.pydata.org/pandas-docs/stable/user_guide/indexing.html#returning-a-view-versus-a-copy\n",
      "  df_id[\"StatementDetails.FinancialPeriodEndDate\"] = pd.to_datetime(df_id[\"StatementDetails.FinancialPeriodEndDate\"])\n"
     ]
    },
    {
     "name": "stdout",
     "output_type": "stream",
     "text": [
      "predictions based on sector (using scaled data)\n",
      "predictions based on sector (using scaled data)\n"
     ]
    },
    {
     "name": "stderr",
     "output_type": "stream",
     "text": [
      "/var/folders/xr/5n5p0p5d4zjg8f57zwt16lyr0000gn/T/ipykernel_73218/3953964208.py:26: SettingWithCopyWarning: \n",
      "A value is trying to be set on a copy of a slice from a DataFrame.\n",
      "Try using .loc[row_indexer,col_indexer] = value instead\n",
      "\n",
      "See the caveats in the documentation: https://pandas.pydata.org/pandas-docs/stable/user_guide/indexing.html#returning-a-view-versus-a-copy\n",
      "  df_id[\"StatementDetails.FinancialPeriodEndDate\"] = pd.to_datetime(df_id[\"StatementDetails.FinancialPeriodEndDate\"])\n",
      "/var/folders/xr/5n5p0p5d4zjg8f57zwt16lyr0000gn/T/ipykernel_73218/3953964208.py:26: SettingWithCopyWarning: \n",
      "A value is trying to be set on a copy of a slice from a DataFrame.\n",
      "Try using .loc[row_indexer,col_indexer] = value instead\n",
      "\n",
      "See the caveats in the documentation: https://pandas.pydata.org/pandas-docs/stable/user_guide/indexing.html#returning-a-view-versus-a-copy\n",
      "  df_id[\"StatementDetails.FinancialPeriodEndDate\"] = pd.to_datetime(df_id[\"StatementDetails.FinancialPeriodEndDate\"])\n"
     ]
    },
    {
     "name": "stdout",
     "output_type": "stream",
     "text": [
      "predictions based on orgid\n",
      "predictions based on sector (using scaled data)\n",
      "predictions based on orgid\n",
      "predictions based on sector (using scaled data)\n"
     ]
    },
    {
     "name": "stderr",
     "output_type": "stream",
     "text": [
      "/var/folders/xr/5n5p0p5d4zjg8f57zwt16lyr0000gn/T/ipykernel_73218/3953964208.py:26: SettingWithCopyWarning: \n",
      "A value is trying to be set on a copy of a slice from a DataFrame.\n",
      "Try using .loc[row_indexer,col_indexer] = value instead\n",
      "\n",
      "See the caveats in the documentation: https://pandas.pydata.org/pandas-docs/stable/user_guide/indexing.html#returning-a-view-versus-a-copy\n",
      "  df_id[\"StatementDetails.FinancialPeriodEndDate\"] = pd.to_datetime(df_id[\"StatementDetails.FinancialPeriodEndDate\"])\n",
      "/var/folders/xr/5n5p0p5d4zjg8f57zwt16lyr0000gn/T/ipykernel_73218/3953964208.py:26: SettingWithCopyWarning: \n",
      "A value is trying to be set on a copy of a slice from a DataFrame.\n",
      "Try using .loc[row_indexer,col_indexer] = value instead\n",
      "\n",
      "See the caveats in the documentation: https://pandas.pydata.org/pandas-docs/stable/user_guide/indexing.html#returning-a-view-versus-a-copy\n",
      "  df_id[\"StatementDetails.FinancialPeriodEndDate\"] = pd.to_datetime(df_id[\"StatementDetails.FinancialPeriodEndDate\"])\n"
     ]
    },
    {
     "name": "stdout",
     "output_type": "stream",
     "text": [
      "predictions based on sector (using scaled data)\n",
      "predictions based on sector (using scaled data)\n"
     ]
    },
    {
     "name": "stderr",
     "output_type": "stream",
     "text": [
      "/var/folders/xr/5n5p0p5d4zjg8f57zwt16lyr0000gn/T/ipykernel_73218/3953964208.py:26: SettingWithCopyWarning: \n",
      "A value is trying to be set on a copy of a slice from a DataFrame.\n",
      "Try using .loc[row_indexer,col_indexer] = value instead\n",
      "\n",
      "See the caveats in the documentation: https://pandas.pydata.org/pandas-docs/stable/user_guide/indexing.html#returning-a-view-versus-a-copy\n",
      "  df_id[\"StatementDetails.FinancialPeriodEndDate\"] = pd.to_datetime(df_id[\"StatementDetails.FinancialPeriodEndDate\"])\n",
      "/var/folders/xr/5n5p0p5d4zjg8f57zwt16lyr0000gn/T/ipykernel_73218/3953964208.py:26: SettingWithCopyWarning: \n",
      "A value is trying to be set on a copy of a slice from a DataFrame.\n",
      "Try using .loc[row_indexer,col_indexer] = value instead\n",
      "\n",
      "See the caveats in the documentation: https://pandas.pydata.org/pandas-docs/stable/user_guide/indexing.html#returning-a-view-versus-a-copy\n",
      "  df_id[\"StatementDetails.FinancialPeriodEndDate\"] = pd.to_datetime(df_id[\"StatementDetails.FinancialPeriodEndDate\"])\n"
     ]
    },
    {
     "name": "stdout",
     "output_type": "stream",
     "text": [
      "predictions based on sector (using scaled data)\n",
      "predictions based on sector (using scaled data)\n"
     ]
    },
    {
     "name": "stderr",
     "output_type": "stream",
     "text": [
      "/var/folders/xr/5n5p0p5d4zjg8f57zwt16lyr0000gn/T/ipykernel_73218/3953964208.py:26: SettingWithCopyWarning: \n",
      "A value is trying to be set on a copy of a slice from a DataFrame.\n",
      "Try using .loc[row_indexer,col_indexer] = value instead\n",
      "\n",
      "See the caveats in the documentation: https://pandas.pydata.org/pandas-docs/stable/user_guide/indexing.html#returning-a-view-versus-a-copy\n",
      "  df_id[\"StatementDetails.FinancialPeriodEndDate\"] = pd.to_datetime(df_id[\"StatementDetails.FinancialPeriodEndDate\"])\n",
      "/var/folders/xr/5n5p0p5d4zjg8f57zwt16lyr0000gn/T/ipykernel_73218/3953964208.py:26: SettingWithCopyWarning: \n",
      "A value is trying to be set on a copy of a slice from a DataFrame.\n",
      "Try using .loc[row_indexer,col_indexer] = value instead\n",
      "\n",
      "See the caveats in the documentation: https://pandas.pydata.org/pandas-docs/stable/user_guide/indexing.html#returning-a-view-versus-a-copy\n",
      "  df_id[\"StatementDetails.FinancialPeriodEndDate\"] = pd.to_datetime(df_id[\"StatementDetails.FinancialPeriodEndDate\"])\n"
     ]
    },
    {
     "name": "stdout",
     "output_type": "stream",
     "text": [
      "predictions based on sector (using scaled data)\n"
     ]
    },
    {
     "name": "stderr",
     "output_type": "stream",
     "text": [
      "/var/folders/xr/5n5p0p5d4zjg8f57zwt16lyr0000gn/T/ipykernel_73218/3953964208.py:26: SettingWithCopyWarning: \n",
      "A value is trying to be set on a copy of a slice from a DataFrame.\n",
      "Try using .loc[row_indexer,col_indexer] = value instead\n",
      "\n",
      "See the caveats in the documentation: https://pandas.pydata.org/pandas-docs/stable/user_guide/indexing.html#returning-a-view-versus-a-copy\n",
      "  df_id[\"StatementDetails.FinancialPeriodEndDate\"] = pd.to_datetime(df_id[\"StatementDetails.FinancialPeriodEndDate\"])\n"
     ]
    },
    {
     "name": "stdout",
     "output_type": "stream",
     "text": [
      "predictions based on sector (using scaled data)\n",
      "predictions based on orgid\n",
      "predictions based on sector (using scaled data)\n"
     ]
    },
    {
     "name": "stderr",
     "output_type": "stream",
     "text": [
      "/var/folders/xr/5n5p0p5d4zjg8f57zwt16lyr0000gn/T/ipykernel_73218/3953964208.py:26: SettingWithCopyWarning: \n",
      "A value is trying to be set on a copy of a slice from a DataFrame.\n",
      "Try using .loc[row_indexer,col_indexer] = value instead\n",
      "\n",
      "See the caveats in the documentation: https://pandas.pydata.org/pandas-docs/stable/user_guide/indexing.html#returning-a-view-versus-a-copy\n",
      "  df_id[\"StatementDetails.FinancialPeriodEndDate\"] = pd.to_datetime(df_id[\"StatementDetails.FinancialPeriodEndDate\"])\n",
      "/var/folders/xr/5n5p0p5d4zjg8f57zwt16lyr0000gn/T/ipykernel_73218/3953964208.py:26: SettingWithCopyWarning: \n",
      "A value is trying to be set on a copy of a slice from a DataFrame.\n",
      "Try using .loc[row_indexer,col_indexer] = value instead\n",
      "\n",
      "See the caveats in the documentation: https://pandas.pydata.org/pandas-docs/stable/user_guide/indexing.html#returning-a-view-versus-a-copy\n",
      "  df_id[\"StatementDetails.FinancialPeriodEndDate\"] = pd.to_datetime(df_id[\"StatementDetails.FinancialPeriodEndDate\"])\n"
     ]
    },
    {
     "name": "stdout",
     "output_type": "stream",
     "text": [
      "predictions based on sector (using scaled data)\n",
      "predictions based on sector (using scaled data)\n"
     ]
    },
    {
     "name": "stderr",
     "output_type": "stream",
     "text": [
      "/var/folders/xr/5n5p0p5d4zjg8f57zwt16lyr0000gn/T/ipykernel_73218/3953964208.py:26: SettingWithCopyWarning: \n",
      "A value is trying to be set on a copy of a slice from a DataFrame.\n",
      "Try using .loc[row_indexer,col_indexer] = value instead\n",
      "\n",
      "See the caveats in the documentation: https://pandas.pydata.org/pandas-docs/stable/user_guide/indexing.html#returning-a-view-versus-a-copy\n",
      "  df_id[\"StatementDetails.FinancialPeriodEndDate\"] = pd.to_datetime(df_id[\"StatementDetails.FinancialPeriodEndDate\"])\n",
      "/var/folders/xr/5n5p0p5d4zjg8f57zwt16lyr0000gn/T/ipykernel_73218/3953964208.py:26: SettingWithCopyWarning: \n",
      "A value is trying to be set on a copy of a slice from a DataFrame.\n",
      "Try using .loc[row_indexer,col_indexer] = value instead\n",
      "\n",
      "See the caveats in the documentation: https://pandas.pydata.org/pandas-docs/stable/user_guide/indexing.html#returning-a-view-versus-a-copy\n",
      "  df_id[\"StatementDetails.FinancialPeriodEndDate\"] = pd.to_datetime(df_id[\"StatementDetails.FinancialPeriodEndDate\"])\n"
     ]
    },
    {
     "name": "stdout",
     "output_type": "stream",
     "text": [
      "predictions based on orgid\n",
      "predictions based on sector (using scaled data)\n",
      "predictions based on sector (using scaled data)\n"
     ]
    },
    {
     "name": "stderr",
     "output_type": "stream",
     "text": [
      "/var/folders/xr/5n5p0p5d4zjg8f57zwt16lyr0000gn/T/ipykernel_73218/3953964208.py:26: SettingWithCopyWarning: \n",
      "A value is trying to be set on a copy of a slice from a DataFrame.\n",
      "Try using .loc[row_indexer,col_indexer] = value instead\n",
      "\n",
      "See the caveats in the documentation: https://pandas.pydata.org/pandas-docs/stable/user_guide/indexing.html#returning-a-view-versus-a-copy\n",
      "  df_id[\"StatementDetails.FinancialPeriodEndDate\"] = pd.to_datetime(df_id[\"StatementDetails.FinancialPeriodEndDate\"])\n",
      "/var/folders/xr/5n5p0p5d4zjg8f57zwt16lyr0000gn/T/ipykernel_73218/3953964208.py:26: SettingWithCopyWarning: \n",
      "A value is trying to be set on a copy of a slice from a DataFrame.\n",
      "Try using .loc[row_indexer,col_indexer] = value instead\n",
      "\n",
      "See the caveats in the documentation: https://pandas.pydata.org/pandas-docs/stable/user_guide/indexing.html#returning-a-view-versus-a-copy\n",
      "  df_id[\"StatementDetails.FinancialPeriodEndDate\"] = pd.to_datetime(df_id[\"StatementDetails.FinancialPeriodEndDate\"])\n"
     ]
    },
    {
     "name": "stdout",
     "output_type": "stream",
     "text": [
      "predictions based on sector (using scaled data)\n",
      "predictions based on sector (using scaled data)\n"
     ]
    },
    {
     "name": "stderr",
     "output_type": "stream",
     "text": [
      "/var/folders/xr/5n5p0p5d4zjg8f57zwt16lyr0000gn/T/ipykernel_73218/3953964208.py:26: SettingWithCopyWarning: \n",
      "A value is trying to be set on a copy of a slice from a DataFrame.\n",
      "Try using .loc[row_indexer,col_indexer] = value instead\n",
      "\n",
      "See the caveats in the documentation: https://pandas.pydata.org/pandas-docs/stable/user_guide/indexing.html#returning-a-view-versus-a-copy\n",
      "  df_id[\"StatementDetails.FinancialPeriodEndDate\"] = pd.to_datetime(df_id[\"StatementDetails.FinancialPeriodEndDate\"])\n",
      "/var/folders/xr/5n5p0p5d4zjg8f57zwt16lyr0000gn/T/ipykernel_73218/3953964208.py:26: SettingWithCopyWarning: \n",
      "A value is trying to be set on a copy of a slice from a DataFrame.\n",
      "Try using .loc[row_indexer,col_indexer] = value instead\n",
      "\n",
      "See the caveats in the documentation: https://pandas.pydata.org/pandas-docs/stable/user_guide/indexing.html#returning-a-view-versus-a-copy\n",
      "  df_id[\"StatementDetails.FinancialPeriodEndDate\"] = pd.to_datetime(df_id[\"StatementDetails.FinancialPeriodEndDate\"])\n"
     ]
    },
    {
     "name": "stdout",
     "output_type": "stream",
     "text": [
      "predictions based on sector (using scaled data)\n",
      "predictions based on sector (using scaled data)\n"
     ]
    },
    {
     "name": "stderr",
     "output_type": "stream",
     "text": [
      "/var/folders/xr/5n5p0p5d4zjg8f57zwt16lyr0000gn/T/ipykernel_73218/3953964208.py:26: SettingWithCopyWarning: \n",
      "A value is trying to be set on a copy of a slice from a DataFrame.\n",
      "Try using .loc[row_indexer,col_indexer] = value instead\n",
      "\n",
      "See the caveats in the documentation: https://pandas.pydata.org/pandas-docs/stable/user_guide/indexing.html#returning-a-view-versus-a-copy\n",
      "  df_id[\"StatementDetails.FinancialPeriodEndDate\"] = pd.to_datetime(df_id[\"StatementDetails.FinancialPeriodEndDate\"])\n",
      "/var/folders/xr/5n5p0p5d4zjg8f57zwt16lyr0000gn/T/ipykernel_73218/3953964208.py:26: SettingWithCopyWarning: \n",
      "A value is trying to be set on a copy of a slice from a DataFrame.\n",
      "Try using .loc[row_indexer,col_indexer] = value instead\n",
      "\n",
      "See the caveats in the documentation: https://pandas.pydata.org/pandas-docs/stable/user_guide/indexing.html#returning-a-view-versus-a-copy\n",
      "  df_id[\"StatementDetails.FinancialPeriodEndDate\"] = pd.to_datetime(df_id[\"StatementDetails.FinancialPeriodEndDate\"])\n"
     ]
    },
    {
     "name": "stdout",
     "output_type": "stream",
     "text": [
      "predictions based on orgid\n",
      "predictions based on sector (using scaled data)\n",
      "predictions based on sector (using scaled data)\n"
     ]
    },
    {
     "name": "stderr",
     "output_type": "stream",
     "text": [
      "/var/folders/xr/5n5p0p5d4zjg8f57zwt16lyr0000gn/T/ipykernel_73218/3953964208.py:26: SettingWithCopyWarning: \n",
      "A value is trying to be set on a copy of a slice from a DataFrame.\n",
      "Try using .loc[row_indexer,col_indexer] = value instead\n",
      "\n",
      "See the caveats in the documentation: https://pandas.pydata.org/pandas-docs/stable/user_guide/indexing.html#returning-a-view-versus-a-copy\n",
      "  df_id[\"StatementDetails.FinancialPeriodEndDate\"] = pd.to_datetime(df_id[\"StatementDetails.FinancialPeriodEndDate\"])\n",
      "/var/folders/xr/5n5p0p5d4zjg8f57zwt16lyr0000gn/T/ipykernel_73218/3953964208.py:26: SettingWithCopyWarning: \n",
      "A value is trying to be set on a copy of a slice from a DataFrame.\n",
      "Try using .loc[row_indexer,col_indexer] = value instead\n",
      "\n",
      "See the caveats in the documentation: https://pandas.pydata.org/pandas-docs/stable/user_guide/indexing.html#returning-a-view-versus-a-copy\n",
      "  df_id[\"StatementDetails.FinancialPeriodEndDate\"] = pd.to_datetime(df_id[\"StatementDetails.FinancialPeriodEndDate\"])\n"
     ]
    },
    {
     "name": "stdout",
     "output_type": "stream",
     "text": [
      "predictions based on sector (using scaled data)\n",
      "predictions based on sector (using scaled data)\n"
     ]
    },
    {
     "name": "stderr",
     "output_type": "stream",
     "text": [
      "/var/folders/xr/5n5p0p5d4zjg8f57zwt16lyr0000gn/T/ipykernel_73218/3953964208.py:26: SettingWithCopyWarning: \n",
      "A value is trying to be set on a copy of a slice from a DataFrame.\n",
      "Try using .loc[row_indexer,col_indexer] = value instead\n",
      "\n",
      "See the caveats in the documentation: https://pandas.pydata.org/pandas-docs/stable/user_guide/indexing.html#returning-a-view-versus-a-copy\n",
      "  df_id[\"StatementDetails.FinancialPeriodEndDate\"] = pd.to_datetime(df_id[\"StatementDetails.FinancialPeriodEndDate\"])\n",
      "/var/folders/xr/5n5p0p5d4zjg8f57zwt16lyr0000gn/T/ipykernel_73218/3953964208.py:26: SettingWithCopyWarning: \n",
      "A value is trying to be set on a copy of a slice from a DataFrame.\n",
      "Try using .loc[row_indexer,col_indexer] = value instead\n",
      "\n",
      "See the caveats in the documentation: https://pandas.pydata.org/pandas-docs/stable/user_guide/indexing.html#returning-a-view-versus-a-copy\n",
      "  df_id[\"StatementDetails.FinancialPeriodEndDate\"] = pd.to_datetime(df_id[\"StatementDetails.FinancialPeriodEndDate\"])\n"
     ]
    },
    {
     "name": "stdout",
     "output_type": "stream",
     "text": [
      "predictions based on sector (using scaled data)\n",
      "predictions based on sector (using scaled data)\n"
     ]
    },
    {
     "name": "stderr",
     "output_type": "stream",
     "text": [
      "/var/folders/xr/5n5p0p5d4zjg8f57zwt16lyr0000gn/T/ipykernel_73218/3953964208.py:26: SettingWithCopyWarning: \n",
      "A value is trying to be set on a copy of a slice from a DataFrame.\n",
      "Try using .loc[row_indexer,col_indexer] = value instead\n",
      "\n",
      "See the caveats in the documentation: https://pandas.pydata.org/pandas-docs/stable/user_guide/indexing.html#returning-a-view-versus-a-copy\n",
      "  df_id[\"StatementDetails.FinancialPeriodEndDate\"] = pd.to_datetime(df_id[\"StatementDetails.FinancialPeriodEndDate\"])\n",
      "/var/folders/xr/5n5p0p5d4zjg8f57zwt16lyr0000gn/T/ipykernel_73218/3953964208.py:26: SettingWithCopyWarning: \n",
      "A value is trying to be set on a copy of a slice from a DataFrame.\n",
      "Try using .loc[row_indexer,col_indexer] = value instead\n",
      "\n",
      "See the caveats in the documentation: https://pandas.pydata.org/pandas-docs/stable/user_guide/indexing.html#returning-a-view-versus-a-copy\n",
      "  df_id[\"StatementDetails.FinancialPeriodEndDate\"] = pd.to_datetime(df_id[\"StatementDetails.FinancialPeriodEndDate\"])\n"
     ]
    },
    {
     "name": "stdout",
     "output_type": "stream",
     "text": [
      "predictions based on sector (using scaled data)\n"
     ]
    },
    {
     "name": "stderr",
     "output_type": "stream",
     "text": [
      "/var/folders/xr/5n5p0p5d4zjg8f57zwt16lyr0000gn/T/ipykernel_73218/3953964208.py:26: SettingWithCopyWarning: \n",
      "A value is trying to be set on a copy of a slice from a DataFrame.\n",
      "Try using .loc[row_indexer,col_indexer] = value instead\n",
      "\n",
      "See the caveats in the documentation: https://pandas.pydata.org/pandas-docs/stable/user_guide/indexing.html#returning-a-view-versus-a-copy\n",
      "  df_id[\"StatementDetails.FinancialPeriodEndDate\"] = pd.to_datetime(df_id[\"StatementDetails.FinancialPeriodEndDate\"])\n"
     ]
    },
    {
     "name": "stdout",
     "output_type": "stream",
     "text": [
      "predictions based on sector (using scaled data)\n",
      "predictions based on sector (using scaled data)\n"
     ]
    },
    {
     "name": "stderr",
     "output_type": "stream",
     "text": [
      "/var/folders/xr/5n5p0p5d4zjg8f57zwt16lyr0000gn/T/ipykernel_73218/3953964208.py:26: SettingWithCopyWarning: \n",
      "A value is trying to be set on a copy of a slice from a DataFrame.\n",
      "Try using .loc[row_indexer,col_indexer] = value instead\n",
      "\n",
      "See the caveats in the documentation: https://pandas.pydata.org/pandas-docs/stable/user_guide/indexing.html#returning-a-view-versus-a-copy\n",
      "  df_id[\"StatementDetails.FinancialPeriodEndDate\"] = pd.to_datetime(df_id[\"StatementDetails.FinancialPeriodEndDate\"])\n",
      "/var/folders/xr/5n5p0p5d4zjg8f57zwt16lyr0000gn/T/ipykernel_73218/3953964208.py:26: SettingWithCopyWarning: \n",
      "A value is trying to be set on a copy of a slice from a DataFrame.\n",
      "Try using .loc[row_indexer,col_indexer] = value instead\n",
      "\n",
      "See the caveats in the documentation: https://pandas.pydata.org/pandas-docs/stable/user_guide/indexing.html#returning-a-view-versus-a-copy\n",
      "  df_id[\"StatementDetails.FinancialPeriodEndDate\"] = pd.to_datetime(df_id[\"StatementDetails.FinancialPeriodEndDate\"])\n"
     ]
    },
    {
     "name": "stdout",
     "output_type": "stream",
     "text": [
      "predictions based on sector (using scaled data)\n",
      "predictions based on sector (using scaled data)\n"
     ]
    },
    {
     "name": "stderr",
     "output_type": "stream",
     "text": [
      "/var/folders/xr/5n5p0p5d4zjg8f57zwt16lyr0000gn/T/ipykernel_73218/3953964208.py:26: SettingWithCopyWarning: \n",
      "A value is trying to be set on a copy of a slice from a DataFrame.\n",
      "Try using .loc[row_indexer,col_indexer] = value instead\n",
      "\n",
      "See the caveats in the documentation: https://pandas.pydata.org/pandas-docs/stable/user_guide/indexing.html#returning-a-view-versus-a-copy\n",
      "  df_id[\"StatementDetails.FinancialPeriodEndDate\"] = pd.to_datetime(df_id[\"StatementDetails.FinancialPeriodEndDate\"])\n",
      "/var/folders/xr/5n5p0p5d4zjg8f57zwt16lyr0000gn/T/ipykernel_73218/3953964208.py:26: SettingWithCopyWarning: \n",
      "A value is trying to be set on a copy of a slice from a DataFrame.\n",
      "Try using .loc[row_indexer,col_indexer] = value instead\n",
      "\n",
      "See the caveats in the documentation: https://pandas.pydata.org/pandas-docs/stable/user_guide/indexing.html#returning-a-view-versus-a-copy\n",
      "  df_id[\"StatementDetails.FinancialPeriodEndDate\"] = pd.to_datetime(df_id[\"StatementDetails.FinancialPeriodEndDate\"])\n"
     ]
    },
    {
     "name": "stdout",
     "output_type": "stream",
     "text": [
      "predictions based on sector (using scaled data)\n",
      "predictions based on sector (using scaled data)\n"
     ]
    },
    {
     "name": "stderr",
     "output_type": "stream",
     "text": [
      "/var/folders/xr/5n5p0p5d4zjg8f57zwt16lyr0000gn/T/ipykernel_73218/3953964208.py:26: SettingWithCopyWarning: \n",
      "A value is trying to be set on a copy of a slice from a DataFrame.\n",
      "Try using .loc[row_indexer,col_indexer] = value instead\n",
      "\n",
      "See the caveats in the documentation: https://pandas.pydata.org/pandas-docs/stable/user_guide/indexing.html#returning-a-view-versus-a-copy\n",
      "  df_id[\"StatementDetails.FinancialPeriodEndDate\"] = pd.to_datetime(df_id[\"StatementDetails.FinancialPeriodEndDate\"])\n",
      "/var/folders/xr/5n5p0p5d4zjg8f57zwt16lyr0000gn/T/ipykernel_73218/3953964208.py:26: SettingWithCopyWarning: \n",
      "A value is trying to be set on a copy of a slice from a DataFrame.\n",
      "Try using .loc[row_indexer,col_indexer] = value instead\n",
      "\n",
      "See the caveats in the documentation: https://pandas.pydata.org/pandas-docs/stable/user_guide/indexing.html#returning-a-view-versus-a-copy\n",
      "  df_id[\"StatementDetails.FinancialPeriodEndDate\"] = pd.to_datetime(df_id[\"StatementDetails.FinancialPeriodEndDate\"])\n"
     ]
    },
    {
     "name": "stdout",
     "output_type": "stream",
     "text": [
      "predictions based on orgid\n",
      "predictions based on sector (using scaled data)\n"
     ]
    },
    {
     "name": "stderr",
     "output_type": "stream",
     "text": [
      "/var/folders/xr/5n5p0p5d4zjg8f57zwt16lyr0000gn/T/ipykernel_73218/3953964208.py:26: SettingWithCopyWarning: \n",
      "A value is trying to be set on a copy of a slice from a DataFrame.\n",
      "Try using .loc[row_indexer,col_indexer] = value instead\n",
      "\n",
      "See the caveats in the documentation: https://pandas.pydata.org/pandas-docs/stable/user_guide/indexing.html#returning-a-view-versus-a-copy\n",
      "  df_id[\"StatementDetails.FinancialPeriodEndDate\"] = pd.to_datetime(df_id[\"StatementDetails.FinancialPeriodEndDate\"])\n"
     ]
    },
    {
     "name": "stdout",
     "output_type": "stream",
     "text": [
      "predictions based on sector (using scaled data)\n",
      "predictions based on sector (using scaled data)\n"
     ]
    },
    {
     "name": "stderr",
     "output_type": "stream",
     "text": [
      "/var/folders/xr/5n5p0p5d4zjg8f57zwt16lyr0000gn/T/ipykernel_73218/3953964208.py:26: SettingWithCopyWarning: \n",
      "A value is trying to be set on a copy of a slice from a DataFrame.\n",
      "Try using .loc[row_indexer,col_indexer] = value instead\n",
      "\n",
      "See the caveats in the documentation: https://pandas.pydata.org/pandas-docs/stable/user_guide/indexing.html#returning-a-view-versus-a-copy\n",
      "  df_id[\"StatementDetails.FinancialPeriodEndDate\"] = pd.to_datetime(df_id[\"StatementDetails.FinancialPeriodEndDate\"])\n",
      "/var/folders/xr/5n5p0p5d4zjg8f57zwt16lyr0000gn/T/ipykernel_73218/3953964208.py:26: SettingWithCopyWarning: \n",
      "A value is trying to be set on a copy of a slice from a DataFrame.\n",
      "Try using .loc[row_indexer,col_indexer] = value instead\n",
      "\n",
      "See the caveats in the documentation: https://pandas.pydata.org/pandas-docs/stable/user_guide/indexing.html#returning-a-view-versus-a-copy\n",
      "  df_id[\"StatementDetails.FinancialPeriodEndDate\"] = pd.to_datetime(df_id[\"StatementDetails.FinancialPeriodEndDate\"])\n",
      "/var/folders/xr/5n5p0p5d4zjg8f57zwt16lyr0000gn/T/ipykernel_73218/3953964208.py:26: SettingWithCopyWarning: \n",
      "A value is trying to be set on a copy of a slice from a DataFrame.\n",
      "Try using .loc[row_indexer,col_indexer] = value instead\n",
      "\n",
      "See the caveats in the documentation: https://pandas.pydata.org/pandas-docs/stable/user_guide/indexing.html#returning-a-view-versus-a-copy\n",
      "  df_id[\"StatementDetails.FinancialPeriodEndDate\"] = pd.to_datetime(df_id[\"StatementDetails.FinancialPeriodEndDate\"])\n"
     ]
    },
    {
     "name": "stdout",
     "output_type": "stream",
     "text": [
      "predictions based on sector (using scaled data)\n",
      "predictions based on sector (using scaled data)\n"
     ]
    },
    {
     "name": "stderr",
     "output_type": "stream",
     "text": [
      "/var/folders/xr/5n5p0p5d4zjg8f57zwt16lyr0000gn/T/ipykernel_73218/3953964208.py:26: SettingWithCopyWarning: \n",
      "A value is trying to be set on a copy of a slice from a DataFrame.\n",
      "Try using .loc[row_indexer,col_indexer] = value instead\n",
      "\n",
      "See the caveats in the documentation: https://pandas.pydata.org/pandas-docs/stable/user_guide/indexing.html#returning-a-view-versus-a-copy\n",
      "  df_id[\"StatementDetails.FinancialPeriodEndDate\"] = pd.to_datetime(df_id[\"StatementDetails.FinancialPeriodEndDate\"])\n",
      "/var/folders/xr/5n5p0p5d4zjg8f57zwt16lyr0000gn/T/ipykernel_73218/3953964208.py:26: SettingWithCopyWarning: \n",
      "A value is trying to be set on a copy of a slice from a DataFrame.\n",
      "Try using .loc[row_indexer,col_indexer] = value instead\n",
      "\n",
      "See the caveats in the documentation: https://pandas.pydata.org/pandas-docs/stable/user_guide/indexing.html#returning-a-view-versus-a-copy\n",
      "  df_id[\"StatementDetails.FinancialPeriodEndDate\"] = pd.to_datetime(df_id[\"StatementDetails.FinancialPeriodEndDate\"])\n"
     ]
    },
    {
     "name": "stdout",
     "output_type": "stream",
     "text": [
      "predictions based on sector (using scaled data)\n",
      "predictions based on orgid\n",
      "predictions based on sector (using scaled data)\n"
     ]
    },
    {
     "name": "stderr",
     "output_type": "stream",
     "text": [
      "/var/folders/xr/5n5p0p5d4zjg8f57zwt16lyr0000gn/T/ipykernel_73218/3953964208.py:26: SettingWithCopyWarning: \n",
      "A value is trying to be set on a copy of a slice from a DataFrame.\n",
      "Try using .loc[row_indexer,col_indexer] = value instead\n",
      "\n",
      "See the caveats in the documentation: https://pandas.pydata.org/pandas-docs/stable/user_guide/indexing.html#returning-a-view-versus-a-copy\n",
      "  df_id[\"StatementDetails.FinancialPeriodEndDate\"] = pd.to_datetime(df_id[\"StatementDetails.FinancialPeriodEndDate\"])\n",
      "/var/folders/xr/5n5p0p5d4zjg8f57zwt16lyr0000gn/T/ipykernel_73218/3953964208.py:26: SettingWithCopyWarning: \n",
      "A value is trying to be set on a copy of a slice from a DataFrame.\n",
      "Try using .loc[row_indexer,col_indexer] = value instead\n",
      "\n",
      "See the caveats in the documentation: https://pandas.pydata.org/pandas-docs/stable/user_guide/indexing.html#returning-a-view-versus-a-copy\n",
      "  df_id[\"StatementDetails.FinancialPeriodEndDate\"] = pd.to_datetime(df_id[\"StatementDetails.FinancialPeriodEndDate\"])\n"
     ]
    },
    {
     "name": "stdout",
     "output_type": "stream",
     "text": [
      "predictions based on orgid\n",
      "predictions based on sector (using scaled data)\n",
      "predictions based on orgid\n",
      "predictions based on sector (using scaled data)\n"
     ]
    },
    {
     "name": "stderr",
     "output_type": "stream",
     "text": [
      "/var/folders/xr/5n5p0p5d4zjg8f57zwt16lyr0000gn/T/ipykernel_73218/3953964208.py:26: SettingWithCopyWarning: \n",
      "A value is trying to be set on a copy of a slice from a DataFrame.\n",
      "Try using .loc[row_indexer,col_indexer] = value instead\n",
      "\n",
      "See the caveats in the documentation: https://pandas.pydata.org/pandas-docs/stable/user_guide/indexing.html#returning-a-view-versus-a-copy\n",
      "  df_id[\"StatementDetails.FinancialPeriodEndDate\"] = pd.to_datetime(df_id[\"StatementDetails.FinancialPeriodEndDate\"])\n"
     ]
    },
    {
     "name": "stdout",
     "output_type": "stream",
     "text": [
      "predictions based on sector (using scaled data)\n",
      "predictions based on sector (using scaled data)\n"
     ]
    },
    {
     "name": "stderr",
     "output_type": "stream",
     "text": [
      "/var/folders/xr/5n5p0p5d4zjg8f57zwt16lyr0000gn/T/ipykernel_73218/3953964208.py:26: SettingWithCopyWarning: \n",
      "A value is trying to be set on a copy of a slice from a DataFrame.\n",
      "Try using .loc[row_indexer,col_indexer] = value instead\n",
      "\n",
      "See the caveats in the documentation: https://pandas.pydata.org/pandas-docs/stable/user_guide/indexing.html#returning-a-view-versus-a-copy\n",
      "  df_id[\"StatementDetails.FinancialPeriodEndDate\"] = pd.to_datetime(df_id[\"StatementDetails.FinancialPeriodEndDate\"])\n",
      "/var/folders/xr/5n5p0p5d4zjg8f57zwt16lyr0000gn/T/ipykernel_73218/3953964208.py:26: SettingWithCopyWarning: \n",
      "A value is trying to be set on a copy of a slice from a DataFrame.\n",
      "Try using .loc[row_indexer,col_indexer] = value instead\n",
      "\n",
      "See the caveats in the documentation: https://pandas.pydata.org/pandas-docs/stable/user_guide/indexing.html#returning-a-view-versus-a-copy\n",
      "  df_id[\"StatementDetails.FinancialPeriodEndDate\"] = pd.to_datetime(df_id[\"StatementDetails.FinancialPeriodEndDate\"])\n"
     ]
    },
    {
     "name": "stdout",
     "output_type": "stream",
     "text": [
      "predictions based on orgid\n",
      "predictions based on orgid\n",
      "predictions based on sector (using scaled data)\n"
     ]
    },
    {
     "name": "stderr",
     "output_type": "stream",
     "text": [
      "/var/folders/xr/5n5p0p5d4zjg8f57zwt16lyr0000gn/T/ipykernel_73218/3953964208.py:26: SettingWithCopyWarning: \n",
      "A value is trying to be set on a copy of a slice from a DataFrame.\n",
      "Try using .loc[row_indexer,col_indexer] = value instead\n",
      "\n",
      "See the caveats in the documentation: https://pandas.pydata.org/pandas-docs/stable/user_guide/indexing.html#returning-a-view-versus-a-copy\n",
      "  df_id[\"StatementDetails.FinancialPeriodEndDate\"] = pd.to_datetime(df_id[\"StatementDetails.FinancialPeriodEndDate\"])\n"
     ]
    },
    {
     "name": "stdout",
     "output_type": "stream",
     "text": [
      "predictions based on sector (using scaled data)\n",
      "predictions based on sector (using scaled data)\n"
     ]
    },
    {
     "name": "stderr",
     "output_type": "stream",
     "text": [
      "/var/folders/xr/5n5p0p5d4zjg8f57zwt16lyr0000gn/T/ipykernel_73218/3953964208.py:26: SettingWithCopyWarning: \n",
      "A value is trying to be set on a copy of a slice from a DataFrame.\n",
      "Try using .loc[row_indexer,col_indexer] = value instead\n",
      "\n",
      "See the caveats in the documentation: https://pandas.pydata.org/pandas-docs/stable/user_guide/indexing.html#returning-a-view-versus-a-copy\n",
      "  df_id[\"StatementDetails.FinancialPeriodEndDate\"] = pd.to_datetime(df_id[\"StatementDetails.FinancialPeriodEndDate\"])\n",
      "/var/folders/xr/5n5p0p5d4zjg8f57zwt16lyr0000gn/T/ipykernel_73218/3953964208.py:26: SettingWithCopyWarning: \n",
      "A value is trying to be set on a copy of a slice from a DataFrame.\n",
      "Try using .loc[row_indexer,col_indexer] = value instead\n",
      "\n",
      "See the caveats in the documentation: https://pandas.pydata.org/pandas-docs/stable/user_guide/indexing.html#returning-a-view-versus-a-copy\n",
      "  df_id[\"StatementDetails.FinancialPeriodEndDate\"] = pd.to_datetime(df_id[\"StatementDetails.FinancialPeriodEndDate\"])\n"
     ]
    },
    {
     "name": "stdout",
     "output_type": "stream",
     "text": [
      "predictions based on sector (using scaled data)\n",
      "predictions based on sector (using scaled data)\n"
     ]
    },
    {
     "name": "stderr",
     "output_type": "stream",
     "text": [
      "/var/folders/xr/5n5p0p5d4zjg8f57zwt16lyr0000gn/T/ipykernel_73218/3953964208.py:26: SettingWithCopyWarning: \n",
      "A value is trying to be set on a copy of a slice from a DataFrame.\n",
      "Try using .loc[row_indexer,col_indexer] = value instead\n",
      "\n",
      "See the caveats in the documentation: https://pandas.pydata.org/pandas-docs/stable/user_guide/indexing.html#returning-a-view-versus-a-copy\n",
      "  df_id[\"StatementDetails.FinancialPeriodEndDate\"] = pd.to_datetime(df_id[\"StatementDetails.FinancialPeriodEndDate\"])\n",
      "/var/folders/xr/5n5p0p5d4zjg8f57zwt16lyr0000gn/T/ipykernel_73218/3953964208.py:26: SettingWithCopyWarning: \n",
      "A value is trying to be set on a copy of a slice from a DataFrame.\n",
      "Try using .loc[row_indexer,col_indexer] = value instead\n",
      "\n",
      "See the caveats in the documentation: https://pandas.pydata.org/pandas-docs/stable/user_guide/indexing.html#returning-a-view-versus-a-copy\n",
      "  df_id[\"StatementDetails.FinancialPeriodEndDate\"] = pd.to_datetime(df_id[\"StatementDetails.FinancialPeriodEndDate\"])\n"
     ]
    },
    {
     "name": "stdout",
     "output_type": "stream",
     "text": [
      "predictions based on sector (using scaled data)\n"
     ]
    },
    {
     "name": "stderr",
     "output_type": "stream",
     "text": [
      "/var/folders/xr/5n5p0p5d4zjg8f57zwt16lyr0000gn/T/ipykernel_73218/3953964208.py:26: SettingWithCopyWarning: \n",
      "A value is trying to be set on a copy of a slice from a DataFrame.\n",
      "Try using .loc[row_indexer,col_indexer] = value instead\n",
      "\n",
      "See the caveats in the documentation: https://pandas.pydata.org/pandas-docs/stable/user_guide/indexing.html#returning-a-view-versus-a-copy\n",
      "  df_id[\"StatementDetails.FinancialPeriodEndDate\"] = pd.to_datetime(df_id[\"StatementDetails.FinancialPeriodEndDate\"])\n"
     ]
    },
    {
     "name": "stdout",
     "output_type": "stream",
     "text": [
      "predictions based on sector (using scaled data)\n",
      "predictions based on sector (using scaled data)\n"
     ]
    },
    {
     "name": "stderr",
     "output_type": "stream",
     "text": [
      "/var/folders/xr/5n5p0p5d4zjg8f57zwt16lyr0000gn/T/ipykernel_73218/3953964208.py:26: SettingWithCopyWarning: \n",
      "A value is trying to be set on a copy of a slice from a DataFrame.\n",
      "Try using .loc[row_indexer,col_indexer] = value instead\n",
      "\n",
      "See the caveats in the documentation: https://pandas.pydata.org/pandas-docs/stable/user_guide/indexing.html#returning-a-view-versus-a-copy\n",
      "  df_id[\"StatementDetails.FinancialPeriodEndDate\"] = pd.to_datetime(df_id[\"StatementDetails.FinancialPeriodEndDate\"])\n",
      "/var/folders/xr/5n5p0p5d4zjg8f57zwt16lyr0000gn/T/ipykernel_73218/3953964208.py:26: SettingWithCopyWarning: \n",
      "A value is trying to be set on a copy of a slice from a DataFrame.\n",
      "Try using .loc[row_indexer,col_indexer] = value instead\n",
      "\n",
      "See the caveats in the documentation: https://pandas.pydata.org/pandas-docs/stable/user_guide/indexing.html#returning-a-view-versus-a-copy\n",
      "  df_id[\"StatementDetails.FinancialPeriodEndDate\"] = pd.to_datetime(df_id[\"StatementDetails.FinancialPeriodEndDate\"])\n"
     ]
    },
    {
     "name": "stdout",
     "output_type": "stream",
     "text": [
      "predictions based on sector (using scaled data)\n",
      "predictions based on sector (using scaled data)\n"
     ]
    },
    {
     "name": "stderr",
     "output_type": "stream",
     "text": [
      "/var/folders/xr/5n5p0p5d4zjg8f57zwt16lyr0000gn/T/ipykernel_73218/3953964208.py:26: SettingWithCopyWarning: \n",
      "A value is trying to be set on a copy of a slice from a DataFrame.\n",
      "Try using .loc[row_indexer,col_indexer] = value instead\n",
      "\n",
      "See the caveats in the documentation: https://pandas.pydata.org/pandas-docs/stable/user_guide/indexing.html#returning-a-view-versus-a-copy\n",
      "  df_id[\"StatementDetails.FinancialPeriodEndDate\"] = pd.to_datetime(df_id[\"StatementDetails.FinancialPeriodEndDate\"])\n",
      "/var/folders/xr/5n5p0p5d4zjg8f57zwt16lyr0000gn/T/ipykernel_73218/3953964208.py:26: SettingWithCopyWarning: \n",
      "A value is trying to be set on a copy of a slice from a DataFrame.\n",
      "Try using .loc[row_indexer,col_indexer] = value instead\n",
      "\n",
      "See the caveats in the documentation: https://pandas.pydata.org/pandas-docs/stable/user_guide/indexing.html#returning-a-view-versus-a-copy\n",
      "  df_id[\"StatementDetails.FinancialPeriodEndDate\"] = pd.to_datetime(df_id[\"StatementDetails.FinancialPeriodEndDate\"])\n"
     ]
    },
    {
     "name": "stdout",
     "output_type": "stream",
     "text": [
      "predictions based on sector (using scaled data)\n"
     ]
    },
    {
     "name": "stderr",
     "output_type": "stream",
     "text": [
      "/var/folders/xr/5n5p0p5d4zjg8f57zwt16lyr0000gn/T/ipykernel_73218/3953964208.py:26: SettingWithCopyWarning: \n",
      "A value is trying to be set on a copy of a slice from a DataFrame.\n",
      "Try using .loc[row_indexer,col_indexer] = value instead\n",
      "\n",
      "See the caveats in the documentation: https://pandas.pydata.org/pandas-docs/stable/user_guide/indexing.html#returning-a-view-versus-a-copy\n",
      "  df_id[\"StatementDetails.FinancialPeriodEndDate\"] = pd.to_datetime(df_id[\"StatementDetails.FinancialPeriodEndDate\"])\n"
     ]
    },
    {
     "name": "stdout",
     "output_type": "stream",
     "text": [
      "predictions based on sector (using scaled data)\n",
      "predictions based on sector (using scaled data)\n"
     ]
    },
    {
     "name": "stderr",
     "output_type": "stream",
     "text": [
      "/var/folders/xr/5n5p0p5d4zjg8f57zwt16lyr0000gn/T/ipykernel_73218/3953964208.py:26: SettingWithCopyWarning: \n",
      "A value is trying to be set on a copy of a slice from a DataFrame.\n",
      "Try using .loc[row_indexer,col_indexer] = value instead\n",
      "\n",
      "See the caveats in the documentation: https://pandas.pydata.org/pandas-docs/stable/user_guide/indexing.html#returning-a-view-versus-a-copy\n",
      "  df_id[\"StatementDetails.FinancialPeriodEndDate\"] = pd.to_datetime(df_id[\"StatementDetails.FinancialPeriodEndDate\"])\n",
      "/var/folders/xr/5n5p0p5d4zjg8f57zwt16lyr0000gn/T/ipykernel_73218/3953964208.py:26: SettingWithCopyWarning: \n",
      "A value is trying to be set on a copy of a slice from a DataFrame.\n",
      "Try using .loc[row_indexer,col_indexer] = value instead\n",
      "\n",
      "See the caveats in the documentation: https://pandas.pydata.org/pandas-docs/stable/user_guide/indexing.html#returning-a-view-versus-a-copy\n",
      "  df_id[\"StatementDetails.FinancialPeriodEndDate\"] = pd.to_datetime(df_id[\"StatementDetails.FinancialPeriodEndDate\"])\n"
     ]
    },
    {
     "name": "stdout",
     "output_type": "stream",
     "text": [
      "predictions based on sector (using scaled data)\n",
      "predictions based on sector (using scaled data)\n"
     ]
    },
    {
     "name": "stderr",
     "output_type": "stream",
     "text": [
      "/var/folders/xr/5n5p0p5d4zjg8f57zwt16lyr0000gn/T/ipykernel_73218/3953964208.py:26: SettingWithCopyWarning: \n",
      "A value is trying to be set on a copy of a slice from a DataFrame.\n",
      "Try using .loc[row_indexer,col_indexer] = value instead\n",
      "\n",
      "See the caveats in the documentation: https://pandas.pydata.org/pandas-docs/stable/user_guide/indexing.html#returning-a-view-versus-a-copy\n",
      "  df_id[\"StatementDetails.FinancialPeriodEndDate\"] = pd.to_datetime(df_id[\"StatementDetails.FinancialPeriodEndDate\"])\n",
      "/var/folders/xr/5n5p0p5d4zjg8f57zwt16lyr0000gn/T/ipykernel_73218/3953964208.py:26: SettingWithCopyWarning: \n",
      "A value is trying to be set on a copy of a slice from a DataFrame.\n",
      "Try using .loc[row_indexer,col_indexer] = value instead\n",
      "\n",
      "See the caveats in the documentation: https://pandas.pydata.org/pandas-docs/stable/user_guide/indexing.html#returning-a-view-versus-a-copy\n",
      "  df_id[\"StatementDetails.FinancialPeriodEndDate\"] = pd.to_datetime(df_id[\"StatementDetails.FinancialPeriodEndDate\"])\n"
     ]
    },
    {
     "name": "stdout",
     "output_type": "stream",
     "text": [
      "predictions based on sector (using scaled data)\n",
      "predictions based on sector (using scaled data)\n"
     ]
    },
    {
     "name": "stderr",
     "output_type": "stream",
     "text": [
      "/var/folders/xr/5n5p0p5d4zjg8f57zwt16lyr0000gn/T/ipykernel_73218/3953964208.py:26: SettingWithCopyWarning: \n",
      "A value is trying to be set on a copy of a slice from a DataFrame.\n",
      "Try using .loc[row_indexer,col_indexer] = value instead\n",
      "\n",
      "See the caveats in the documentation: https://pandas.pydata.org/pandas-docs/stable/user_guide/indexing.html#returning-a-view-versus-a-copy\n",
      "  df_id[\"StatementDetails.FinancialPeriodEndDate\"] = pd.to_datetime(df_id[\"StatementDetails.FinancialPeriodEndDate\"])\n",
      "/var/folders/xr/5n5p0p5d4zjg8f57zwt16lyr0000gn/T/ipykernel_73218/3953964208.py:26: SettingWithCopyWarning: \n",
      "A value is trying to be set on a copy of a slice from a DataFrame.\n",
      "Try using .loc[row_indexer,col_indexer] = value instead\n",
      "\n",
      "See the caveats in the documentation: https://pandas.pydata.org/pandas-docs/stable/user_guide/indexing.html#returning-a-view-versus-a-copy\n",
      "  df_id[\"StatementDetails.FinancialPeriodEndDate\"] = pd.to_datetime(df_id[\"StatementDetails.FinancialPeriodEndDate\"])\n"
     ]
    },
    {
     "name": "stdout",
     "output_type": "stream",
     "text": [
      "predictions based on sector (using scaled data)\n",
      "predictions based on sector (using scaled data)\n"
     ]
    },
    {
     "name": "stderr",
     "output_type": "stream",
     "text": [
      "/var/folders/xr/5n5p0p5d4zjg8f57zwt16lyr0000gn/T/ipykernel_73218/3953964208.py:26: SettingWithCopyWarning: \n",
      "A value is trying to be set on a copy of a slice from a DataFrame.\n",
      "Try using .loc[row_indexer,col_indexer] = value instead\n",
      "\n",
      "See the caveats in the documentation: https://pandas.pydata.org/pandas-docs/stable/user_guide/indexing.html#returning-a-view-versus-a-copy\n",
      "  df_id[\"StatementDetails.FinancialPeriodEndDate\"] = pd.to_datetime(df_id[\"StatementDetails.FinancialPeriodEndDate\"])\n",
      "/var/folders/xr/5n5p0p5d4zjg8f57zwt16lyr0000gn/T/ipykernel_73218/3953964208.py:26: SettingWithCopyWarning: \n",
      "A value is trying to be set on a copy of a slice from a DataFrame.\n",
      "Try using .loc[row_indexer,col_indexer] = value instead\n",
      "\n",
      "See the caveats in the documentation: https://pandas.pydata.org/pandas-docs/stable/user_guide/indexing.html#returning-a-view-versus-a-copy\n",
      "  df_id[\"StatementDetails.FinancialPeriodEndDate\"] = pd.to_datetime(df_id[\"StatementDetails.FinancialPeriodEndDate\"])\n"
     ]
    },
    {
     "name": "stdout",
     "output_type": "stream",
     "text": [
      "predictions based on sector (using scaled data)\n",
      "predictions based on sector (using scaled data)\n"
     ]
    },
    {
     "name": "stderr",
     "output_type": "stream",
     "text": [
      "/var/folders/xr/5n5p0p5d4zjg8f57zwt16lyr0000gn/T/ipykernel_73218/3953964208.py:26: SettingWithCopyWarning: \n",
      "A value is trying to be set on a copy of a slice from a DataFrame.\n",
      "Try using .loc[row_indexer,col_indexer] = value instead\n",
      "\n",
      "See the caveats in the documentation: https://pandas.pydata.org/pandas-docs/stable/user_guide/indexing.html#returning-a-view-versus-a-copy\n",
      "  df_id[\"StatementDetails.FinancialPeriodEndDate\"] = pd.to_datetime(df_id[\"StatementDetails.FinancialPeriodEndDate\"])\n",
      "/var/folders/xr/5n5p0p5d4zjg8f57zwt16lyr0000gn/T/ipykernel_73218/3953964208.py:26: SettingWithCopyWarning: \n",
      "A value is trying to be set on a copy of a slice from a DataFrame.\n",
      "Try using .loc[row_indexer,col_indexer] = value instead\n",
      "\n",
      "See the caveats in the documentation: https://pandas.pydata.org/pandas-docs/stable/user_guide/indexing.html#returning-a-view-versus-a-copy\n",
      "  df_id[\"StatementDetails.FinancialPeriodEndDate\"] = pd.to_datetime(df_id[\"StatementDetails.FinancialPeriodEndDate\"])\n"
     ]
    },
    {
     "name": "stdout",
     "output_type": "stream",
     "text": [
      "predictions based on sector (using scaled data)\n",
      "predictions based on sector (using scaled data)\n"
     ]
    },
    {
     "name": "stderr",
     "output_type": "stream",
     "text": [
      "/var/folders/xr/5n5p0p5d4zjg8f57zwt16lyr0000gn/T/ipykernel_73218/3953964208.py:26: SettingWithCopyWarning: \n",
      "A value is trying to be set on a copy of a slice from a DataFrame.\n",
      "Try using .loc[row_indexer,col_indexer] = value instead\n",
      "\n",
      "See the caveats in the documentation: https://pandas.pydata.org/pandas-docs/stable/user_guide/indexing.html#returning-a-view-versus-a-copy\n",
      "  df_id[\"StatementDetails.FinancialPeriodEndDate\"] = pd.to_datetime(df_id[\"StatementDetails.FinancialPeriodEndDate\"])\n",
      "/var/folders/xr/5n5p0p5d4zjg8f57zwt16lyr0000gn/T/ipykernel_73218/3953964208.py:26: SettingWithCopyWarning: \n",
      "A value is trying to be set on a copy of a slice from a DataFrame.\n",
      "Try using .loc[row_indexer,col_indexer] = value instead\n",
      "\n",
      "See the caveats in the documentation: https://pandas.pydata.org/pandas-docs/stable/user_guide/indexing.html#returning-a-view-versus-a-copy\n",
      "  df_id[\"StatementDetails.FinancialPeriodEndDate\"] = pd.to_datetime(df_id[\"StatementDetails.FinancialPeriodEndDate\"])\n"
     ]
    },
    {
     "name": "stdout",
     "output_type": "stream",
     "text": [
      "predictions based on sector (using scaled data)\n",
      "predictions based on sector (using scaled data)\n"
     ]
    },
    {
     "name": "stderr",
     "output_type": "stream",
     "text": [
      "/var/folders/xr/5n5p0p5d4zjg8f57zwt16lyr0000gn/T/ipykernel_73218/3953964208.py:26: SettingWithCopyWarning: \n",
      "A value is trying to be set on a copy of a slice from a DataFrame.\n",
      "Try using .loc[row_indexer,col_indexer] = value instead\n",
      "\n",
      "See the caveats in the documentation: https://pandas.pydata.org/pandas-docs/stable/user_guide/indexing.html#returning-a-view-versus-a-copy\n",
      "  df_id[\"StatementDetails.FinancialPeriodEndDate\"] = pd.to_datetime(df_id[\"StatementDetails.FinancialPeriodEndDate\"])\n",
      "/var/folders/xr/5n5p0p5d4zjg8f57zwt16lyr0000gn/T/ipykernel_73218/3953964208.py:26: SettingWithCopyWarning: \n",
      "A value is trying to be set on a copy of a slice from a DataFrame.\n",
      "Try using .loc[row_indexer,col_indexer] = value instead\n",
      "\n",
      "See the caveats in the documentation: https://pandas.pydata.org/pandas-docs/stable/user_guide/indexing.html#returning-a-view-versus-a-copy\n",
      "  df_id[\"StatementDetails.FinancialPeriodEndDate\"] = pd.to_datetime(df_id[\"StatementDetails.FinancialPeriodEndDate\"])\n"
     ]
    },
    {
     "name": "stdout",
     "output_type": "stream",
     "text": [
      "predictions based on sector (using scaled data)\n",
      "predictions based on sector (using scaled data)\n"
     ]
    },
    {
     "name": "stderr",
     "output_type": "stream",
     "text": [
      "/var/folders/xr/5n5p0p5d4zjg8f57zwt16lyr0000gn/T/ipykernel_73218/3953964208.py:26: SettingWithCopyWarning: \n",
      "A value is trying to be set on a copy of a slice from a DataFrame.\n",
      "Try using .loc[row_indexer,col_indexer] = value instead\n",
      "\n",
      "See the caveats in the documentation: https://pandas.pydata.org/pandas-docs/stable/user_guide/indexing.html#returning-a-view-versus-a-copy\n",
      "  df_id[\"StatementDetails.FinancialPeriodEndDate\"] = pd.to_datetime(df_id[\"StatementDetails.FinancialPeriodEndDate\"])\n",
      "/var/folders/xr/5n5p0p5d4zjg8f57zwt16lyr0000gn/T/ipykernel_73218/3953964208.py:26: SettingWithCopyWarning: \n",
      "A value is trying to be set on a copy of a slice from a DataFrame.\n",
      "Try using .loc[row_indexer,col_indexer] = value instead\n",
      "\n",
      "See the caveats in the documentation: https://pandas.pydata.org/pandas-docs/stable/user_guide/indexing.html#returning-a-view-versus-a-copy\n",
      "  df_id[\"StatementDetails.FinancialPeriodEndDate\"] = pd.to_datetime(df_id[\"StatementDetails.FinancialPeriodEndDate\"])\n"
     ]
    },
    {
     "name": "stdout",
     "output_type": "stream",
     "text": [
      "predictions based on sector (using scaled data)\n",
      "predictions based on sector (using scaled data)\n"
     ]
    },
    {
     "name": "stderr",
     "output_type": "stream",
     "text": [
      "/var/folders/xr/5n5p0p5d4zjg8f57zwt16lyr0000gn/T/ipykernel_73218/3953964208.py:26: SettingWithCopyWarning: \n",
      "A value is trying to be set on a copy of a slice from a DataFrame.\n",
      "Try using .loc[row_indexer,col_indexer] = value instead\n",
      "\n",
      "See the caveats in the documentation: https://pandas.pydata.org/pandas-docs/stable/user_guide/indexing.html#returning-a-view-versus-a-copy\n",
      "  df_id[\"StatementDetails.FinancialPeriodEndDate\"] = pd.to_datetime(df_id[\"StatementDetails.FinancialPeriodEndDate\"])\n",
      "/var/folders/xr/5n5p0p5d4zjg8f57zwt16lyr0000gn/T/ipykernel_73218/3953964208.py:26: SettingWithCopyWarning: \n",
      "A value is trying to be set on a copy of a slice from a DataFrame.\n",
      "Try using .loc[row_indexer,col_indexer] = value instead\n",
      "\n",
      "See the caveats in the documentation: https://pandas.pydata.org/pandas-docs/stable/user_guide/indexing.html#returning-a-view-versus-a-copy\n",
      "  df_id[\"StatementDetails.FinancialPeriodEndDate\"] = pd.to_datetime(df_id[\"StatementDetails.FinancialPeriodEndDate\"])\n"
     ]
    },
    {
     "name": "stdout",
     "output_type": "stream",
     "text": [
      "predictions based on sector (using scaled data)\n",
      "predictions based on sector (using scaled data)\n"
     ]
    },
    {
     "name": "stderr",
     "output_type": "stream",
     "text": [
      "/var/folders/xr/5n5p0p5d4zjg8f57zwt16lyr0000gn/T/ipykernel_73218/3953964208.py:26: SettingWithCopyWarning: \n",
      "A value is trying to be set on a copy of a slice from a DataFrame.\n",
      "Try using .loc[row_indexer,col_indexer] = value instead\n",
      "\n",
      "See the caveats in the documentation: https://pandas.pydata.org/pandas-docs/stable/user_guide/indexing.html#returning-a-view-versus-a-copy\n",
      "  df_id[\"StatementDetails.FinancialPeriodEndDate\"] = pd.to_datetime(df_id[\"StatementDetails.FinancialPeriodEndDate\"])\n",
      "/var/folders/xr/5n5p0p5d4zjg8f57zwt16lyr0000gn/T/ipykernel_73218/3953964208.py:26: SettingWithCopyWarning: \n",
      "A value is trying to be set on a copy of a slice from a DataFrame.\n",
      "Try using .loc[row_indexer,col_indexer] = value instead\n",
      "\n",
      "See the caveats in the documentation: https://pandas.pydata.org/pandas-docs/stable/user_guide/indexing.html#returning-a-view-versus-a-copy\n",
      "  df_id[\"StatementDetails.FinancialPeriodEndDate\"] = pd.to_datetime(df_id[\"StatementDetails.FinancialPeriodEndDate\"])\n"
     ]
    },
    {
     "name": "stdout",
     "output_type": "stream",
     "text": [
      "predictions based on sector (using scaled data)\n",
      "predictions based on sector (using scaled data)\n"
     ]
    },
    {
     "name": "stderr",
     "output_type": "stream",
     "text": [
      "/var/folders/xr/5n5p0p5d4zjg8f57zwt16lyr0000gn/T/ipykernel_73218/3953964208.py:26: SettingWithCopyWarning: \n",
      "A value is trying to be set on a copy of a slice from a DataFrame.\n",
      "Try using .loc[row_indexer,col_indexer] = value instead\n",
      "\n",
      "See the caveats in the documentation: https://pandas.pydata.org/pandas-docs/stable/user_guide/indexing.html#returning-a-view-versus-a-copy\n",
      "  df_id[\"StatementDetails.FinancialPeriodEndDate\"] = pd.to_datetime(df_id[\"StatementDetails.FinancialPeriodEndDate\"])\n",
      "/var/folders/xr/5n5p0p5d4zjg8f57zwt16lyr0000gn/T/ipykernel_73218/3953964208.py:26: SettingWithCopyWarning: \n",
      "A value is trying to be set on a copy of a slice from a DataFrame.\n",
      "Try using .loc[row_indexer,col_indexer] = value instead\n",
      "\n",
      "See the caveats in the documentation: https://pandas.pydata.org/pandas-docs/stable/user_guide/indexing.html#returning-a-view-versus-a-copy\n",
      "  df_id[\"StatementDetails.FinancialPeriodEndDate\"] = pd.to_datetime(df_id[\"StatementDetails.FinancialPeriodEndDate\"])\n"
     ]
    },
    {
     "name": "stdout",
     "output_type": "stream",
     "text": [
      "predictions based on sector (using scaled data)\n",
      "predictions based on sector (using scaled data)\n"
     ]
    },
    {
     "name": "stderr",
     "output_type": "stream",
     "text": [
      "/var/folders/xr/5n5p0p5d4zjg8f57zwt16lyr0000gn/T/ipykernel_73218/3953964208.py:26: SettingWithCopyWarning: \n",
      "A value is trying to be set on a copy of a slice from a DataFrame.\n",
      "Try using .loc[row_indexer,col_indexer] = value instead\n",
      "\n",
      "See the caveats in the documentation: https://pandas.pydata.org/pandas-docs/stable/user_guide/indexing.html#returning-a-view-versus-a-copy\n",
      "  df_id[\"StatementDetails.FinancialPeriodEndDate\"] = pd.to_datetime(df_id[\"StatementDetails.FinancialPeriodEndDate\"])\n",
      "/var/folders/xr/5n5p0p5d4zjg8f57zwt16lyr0000gn/T/ipykernel_73218/3953964208.py:26: SettingWithCopyWarning: \n",
      "A value is trying to be set on a copy of a slice from a DataFrame.\n",
      "Try using .loc[row_indexer,col_indexer] = value instead\n",
      "\n",
      "See the caveats in the documentation: https://pandas.pydata.org/pandas-docs/stable/user_guide/indexing.html#returning-a-view-versus-a-copy\n",
      "  df_id[\"StatementDetails.FinancialPeriodEndDate\"] = pd.to_datetime(df_id[\"StatementDetails.FinancialPeriodEndDate\"])\n"
     ]
    },
    {
     "name": "stdout",
     "output_type": "stream",
     "text": [
      "predictions based on sector (using scaled data)\n",
      "predictions based on sector (using scaled data)\n"
     ]
    },
    {
     "name": "stderr",
     "output_type": "stream",
     "text": [
      "/var/folders/xr/5n5p0p5d4zjg8f57zwt16lyr0000gn/T/ipykernel_73218/3953964208.py:26: SettingWithCopyWarning: \n",
      "A value is trying to be set on a copy of a slice from a DataFrame.\n",
      "Try using .loc[row_indexer,col_indexer] = value instead\n",
      "\n",
      "See the caveats in the documentation: https://pandas.pydata.org/pandas-docs/stable/user_guide/indexing.html#returning-a-view-versus-a-copy\n",
      "  df_id[\"StatementDetails.FinancialPeriodEndDate\"] = pd.to_datetime(df_id[\"StatementDetails.FinancialPeriodEndDate\"])\n",
      "/var/folders/xr/5n5p0p5d4zjg8f57zwt16lyr0000gn/T/ipykernel_73218/3953964208.py:26: SettingWithCopyWarning: \n",
      "A value is trying to be set on a copy of a slice from a DataFrame.\n",
      "Try using .loc[row_indexer,col_indexer] = value instead\n",
      "\n",
      "See the caveats in the documentation: https://pandas.pydata.org/pandas-docs/stable/user_guide/indexing.html#returning-a-view-versus-a-copy\n",
      "  df_id[\"StatementDetails.FinancialPeriodEndDate\"] = pd.to_datetime(df_id[\"StatementDetails.FinancialPeriodEndDate\"])\n"
     ]
    },
    {
     "name": "stdout",
     "output_type": "stream",
     "text": [
      "predictions based on sector (using scaled data)\n",
      "predictions based on sector (using scaled data)\n"
     ]
    },
    {
     "name": "stderr",
     "output_type": "stream",
     "text": [
      "/var/folders/xr/5n5p0p5d4zjg8f57zwt16lyr0000gn/T/ipykernel_73218/3953964208.py:26: SettingWithCopyWarning: \n",
      "A value is trying to be set on a copy of a slice from a DataFrame.\n",
      "Try using .loc[row_indexer,col_indexer] = value instead\n",
      "\n",
      "See the caveats in the documentation: https://pandas.pydata.org/pandas-docs/stable/user_guide/indexing.html#returning-a-view-versus-a-copy\n",
      "  df_id[\"StatementDetails.FinancialPeriodEndDate\"] = pd.to_datetime(df_id[\"StatementDetails.FinancialPeriodEndDate\"])\n",
      "/var/folders/xr/5n5p0p5d4zjg8f57zwt16lyr0000gn/T/ipykernel_73218/3953964208.py:26: SettingWithCopyWarning: \n",
      "A value is trying to be set on a copy of a slice from a DataFrame.\n",
      "Try using .loc[row_indexer,col_indexer] = value instead\n",
      "\n",
      "See the caveats in the documentation: https://pandas.pydata.org/pandas-docs/stable/user_guide/indexing.html#returning-a-view-versus-a-copy\n",
      "  df_id[\"StatementDetails.FinancialPeriodEndDate\"] = pd.to_datetime(df_id[\"StatementDetails.FinancialPeriodEndDate\"])\n"
     ]
    },
    {
     "name": "stdout",
     "output_type": "stream",
     "text": [
      "predictions based on sector (using scaled data)\n",
      "predictions based on sector (using scaled data)\n"
     ]
    },
    {
     "name": "stderr",
     "output_type": "stream",
     "text": [
      "/var/folders/xr/5n5p0p5d4zjg8f57zwt16lyr0000gn/T/ipykernel_73218/3953964208.py:26: SettingWithCopyWarning: \n",
      "A value is trying to be set on a copy of a slice from a DataFrame.\n",
      "Try using .loc[row_indexer,col_indexer] = value instead\n",
      "\n",
      "See the caveats in the documentation: https://pandas.pydata.org/pandas-docs/stable/user_guide/indexing.html#returning-a-view-versus-a-copy\n",
      "  df_id[\"StatementDetails.FinancialPeriodEndDate\"] = pd.to_datetime(df_id[\"StatementDetails.FinancialPeriodEndDate\"])\n",
      "/var/folders/xr/5n5p0p5d4zjg8f57zwt16lyr0000gn/T/ipykernel_73218/3953964208.py:26: SettingWithCopyWarning: \n",
      "A value is trying to be set on a copy of a slice from a DataFrame.\n",
      "Try using .loc[row_indexer,col_indexer] = value instead\n",
      "\n",
      "See the caveats in the documentation: https://pandas.pydata.org/pandas-docs/stable/user_guide/indexing.html#returning-a-view-versus-a-copy\n",
      "  df_id[\"StatementDetails.FinancialPeriodEndDate\"] = pd.to_datetime(df_id[\"StatementDetails.FinancialPeriodEndDate\"])\n"
     ]
    },
    {
     "name": "stdout",
     "output_type": "stream",
     "text": [
      "predictions based on sector (using scaled data)\n",
      "predictions based on orgid\n",
      "predictions based on sector (using scaled data)\n"
     ]
    },
    {
     "name": "stderr",
     "output_type": "stream",
     "text": [
      "/var/folders/xr/5n5p0p5d4zjg8f57zwt16lyr0000gn/T/ipykernel_73218/3953964208.py:26: SettingWithCopyWarning: \n",
      "A value is trying to be set on a copy of a slice from a DataFrame.\n",
      "Try using .loc[row_indexer,col_indexer] = value instead\n",
      "\n",
      "See the caveats in the documentation: https://pandas.pydata.org/pandas-docs/stable/user_guide/indexing.html#returning-a-view-versus-a-copy\n",
      "  df_id[\"StatementDetails.FinancialPeriodEndDate\"] = pd.to_datetime(df_id[\"StatementDetails.FinancialPeriodEndDate\"])\n",
      "/var/folders/xr/5n5p0p5d4zjg8f57zwt16lyr0000gn/T/ipykernel_73218/3953964208.py:26: SettingWithCopyWarning: \n",
      "A value is trying to be set on a copy of a slice from a DataFrame.\n",
      "Try using .loc[row_indexer,col_indexer] = value instead\n",
      "\n",
      "See the caveats in the documentation: https://pandas.pydata.org/pandas-docs/stable/user_guide/indexing.html#returning-a-view-versus-a-copy\n",
      "  df_id[\"StatementDetails.FinancialPeriodEndDate\"] = pd.to_datetime(df_id[\"StatementDetails.FinancialPeriodEndDate\"])\n"
     ]
    },
    {
     "name": "stdout",
     "output_type": "stream",
     "text": [
      "predictions based on sector (using scaled data)\n",
      "predictions based on sector (using scaled data)\n"
     ]
    },
    {
     "name": "stderr",
     "output_type": "stream",
     "text": [
      "/var/folders/xr/5n5p0p5d4zjg8f57zwt16lyr0000gn/T/ipykernel_73218/3953964208.py:26: SettingWithCopyWarning: \n",
      "A value is trying to be set on a copy of a slice from a DataFrame.\n",
      "Try using .loc[row_indexer,col_indexer] = value instead\n",
      "\n",
      "See the caveats in the documentation: https://pandas.pydata.org/pandas-docs/stable/user_guide/indexing.html#returning-a-view-versus-a-copy\n",
      "  df_id[\"StatementDetails.FinancialPeriodEndDate\"] = pd.to_datetime(df_id[\"StatementDetails.FinancialPeriodEndDate\"])\n",
      "/var/folders/xr/5n5p0p5d4zjg8f57zwt16lyr0000gn/T/ipykernel_73218/3953964208.py:26: SettingWithCopyWarning: \n",
      "A value is trying to be set on a copy of a slice from a DataFrame.\n",
      "Try using .loc[row_indexer,col_indexer] = value instead\n",
      "\n",
      "See the caveats in the documentation: https://pandas.pydata.org/pandas-docs/stable/user_guide/indexing.html#returning-a-view-versus-a-copy\n",
      "  df_id[\"StatementDetails.FinancialPeriodEndDate\"] = pd.to_datetime(df_id[\"StatementDetails.FinancialPeriodEndDate\"])\n"
     ]
    },
    {
     "name": "stdout",
     "output_type": "stream",
     "text": [
      "predictions based on orgid\n",
      "predictions based on sector (using scaled data)\n",
      "predictions based on orgid\n",
      "predictions based on sector (using scaled data)\n"
     ]
    },
    {
     "name": "stderr",
     "output_type": "stream",
     "text": [
      "/var/folders/xr/5n5p0p5d4zjg8f57zwt16lyr0000gn/T/ipykernel_73218/3953964208.py:26: SettingWithCopyWarning: \n",
      "A value is trying to be set on a copy of a slice from a DataFrame.\n",
      "Try using .loc[row_indexer,col_indexer] = value instead\n",
      "\n",
      "See the caveats in the documentation: https://pandas.pydata.org/pandas-docs/stable/user_guide/indexing.html#returning-a-view-versus-a-copy\n",
      "  df_id[\"StatementDetails.FinancialPeriodEndDate\"] = pd.to_datetime(df_id[\"StatementDetails.FinancialPeriodEndDate\"])\n",
      "/var/folders/xr/5n5p0p5d4zjg8f57zwt16lyr0000gn/T/ipykernel_73218/3953964208.py:26: SettingWithCopyWarning: \n",
      "A value is trying to be set on a copy of a slice from a DataFrame.\n",
      "Try using .loc[row_indexer,col_indexer] = value instead\n",
      "\n",
      "See the caveats in the documentation: https://pandas.pydata.org/pandas-docs/stable/user_guide/indexing.html#returning-a-view-versus-a-copy\n",
      "  df_id[\"StatementDetails.FinancialPeriodEndDate\"] = pd.to_datetime(df_id[\"StatementDetails.FinancialPeriodEndDate\"])\n"
     ]
    },
    {
     "name": "stdout",
     "output_type": "stream",
     "text": [
      "predictions based on sector (using scaled data)\n",
      "predictions based on sector (using scaled data)\n"
     ]
    },
    {
     "name": "stderr",
     "output_type": "stream",
     "text": [
      "/var/folders/xr/5n5p0p5d4zjg8f57zwt16lyr0000gn/T/ipykernel_73218/3953964208.py:26: SettingWithCopyWarning: \n",
      "A value is trying to be set on a copy of a slice from a DataFrame.\n",
      "Try using .loc[row_indexer,col_indexer] = value instead\n",
      "\n",
      "See the caveats in the documentation: https://pandas.pydata.org/pandas-docs/stable/user_guide/indexing.html#returning-a-view-versus-a-copy\n",
      "  df_id[\"StatementDetails.FinancialPeriodEndDate\"] = pd.to_datetime(df_id[\"StatementDetails.FinancialPeriodEndDate\"])\n",
      "/var/folders/xr/5n5p0p5d4zjg8f57zwt16lyr0000gn/T/ipykernel_73218/3953964208.py:26: SettingWithCopyWarning: \n",
      "A value is trying to be set on a copy of a slice from a DataFrame.\n",
      "Try using .loc[row_indexer,col_indexer] = value instead\n",
      "\n",
      "See the caveats in the documentation: https://pandas.pydata.org/pandas-docs/stable/user_guide/indexing.html#returning-a-view-versus-a-copy\n",
      "  df_id[\"StatementDetails.FinancialPeriodEndDate\"] = pd.to_datetime(df_id[\"StatementDetails.FinancialPeriodEndDate\"])\n"
     ]
    },
    {
     "name": "stdout",
     "output_type": "stream",
     "text": [
      "predictions based on sector (using scaled data)\n"
     ]
    },
    {
     "name": "stderr",
     "output_type": "stream",
     "text": [
      "/var/folders/xr/5n5p0p5d4zjg8f57zwt16lyr0000gn/T/ipykernel_73218/3953964208.py:26: SettingWithCopyWarning: \n",
      "A value is trying to be set on a copy of a slice from a DataFrame.\n",
      "Try using .loc[row_indexer,col_indexer] = value instead\n",
      "\n",
      "See the caveats in the documentation: https://pandas.pydata.org/pandas-docs/stable/user_guide/indexing.html#returning-a-view-versus-a-copy\n",
      "  df_id[\"StatementDetails.FinancialPeriodEndDate\"] = pd.to_datetime(df_id[\"StatementDetails.FinancialPeriodEndDate\"])\n"
     ]
    },
    {
     "name": "stdout",
     "output_type": "stream",
     "text": [
      "predictions based on sector (using scaled data)\n",
      "predictions based on sector (using scaled data)\n"
     ]
    },
    {
     "name": "stderr",
     "output_type": "stream",
     "text": [
      "/var/folders/xr/5n5p0p5d4zjg8f57zwt16lyr0000gn/T/ipykernel_73218/3953964208.py:26: SettingWithCopyWarning: \n",
      "A value is trying to be set on a copy of a slice from a DataFrame.\n",
      "Try using .loc[row_indexer,col_indexer] = value instead\n",
      "\n",
      "See the caveats in the documentation: https://pandas.pydata.org/pandas-docs/stable/user_guide/indexing.html#returning-a-view-versus-a-copy\n",
      "  df_id[\"StatementDetails.FinancialPeriodEndDate\"] = pd.to_datetime(df_id[\"StatementDetails.FinancialPeriodEndDate\"])\n",
      "/var/folders/xr/5n5p0p5d4zjg8f57zwt16lyr0000gn/T/ipykernel_73218/3953964208.py:26: SettingWithCopyWarning: \n",
      "A value is trying to be set on a copy of a slice from a DataFrame.\n",
      "Try using .loc[row_indexer,col_indexer] = value instead\n",
      "\n",
      "See the caveats in the documentation: https://pandas.pydata.org/pandas-docs/stable/user_guide/indexing.html#returning-a-view-versus-a-copy\n",
      "  df_id[\"StatementDetails.FinancialPeriodEndDate\"] = pd.to_datetime(df_id[\"StatementDetails.FinancialPeriodEndDate\"])\n"
     ]
    },
    {
     "name": "stdout",
     "output_type": "stream",
     "text": [
      "predictions based on orgid\n",
      "predictions based on sector (using scaled data)\n",
      "predictions based on sector (using scaled data)\n"
     ]
    },
    {
     "name": "stderr",
     "output_type": "stream",
     "text": [
      "/var/folders/xr/5n5p0p5d4zjg8f57zwt16lyr0000gn/T/ipykernel_73218/3953964208.py:26: SettingWithCopyWarning: \n",
      "A value is trying to be set on a copy of a slice from a DataFrame.\n",
      "Try using .loc[row_indexer,col_indexer] = value instead\n",
      "\n",
      "See the caveats in the documentation: https://pandas.pydata.org/pandas-docs/stable/user_guide/indexing.html#returning-a-view-versus-a-copy\n",
      "  df_id[\"StatementDetails.FinancialPeriodEndDate\"] = pd.to_datetime(df_id[\"StatementDetails.FinancialPeriodEndDate\"])\n",
      "/var/folders/xr/5n5p0p5d4zjg8f57zwt16lyr0000gn/T/ipykernel_73218/3953964208.py:26: SettingWithCopyWarning: \n",
      "A value is trying to be set on a copy of a slice from a DataFrame.\n",
      "Try using .loc[row_indexer,col_indexer] = value instead\n",
      "\n",
      "See the caveats in the documentation: https://pandas.pydata.org/pandas-docs/stable/user_guide/indexing.html#returning-a-view-versus-a-copy\n",
      "  df_id[\"StatementDetails.FinancialPeriodEndDate\"] = pd.to_datetime(df_id[\"StatementDetails.FinancialPeriodEndDate\"])\n"
     ]
    },
    {
     "name": "stdout",
     "output_type": "stream",
     "text": [
      "predictions based on orgid\n",
      "predictions based on sector (using scaled data)\n",
      "predictions based on orgid\n",
      "predictions based on sector (using scaled data)\n"
     ]
    },
    {
     "name": "stderr",
     "output_type": "stream",
     "text": [
      "/var/folders/xr/5n5p0p5d4zjg8f57zwt16lyr0000gn/T/ipykernel_73218/3953964208.py:26: SettingWithCopyWarning: \n",
      "A value is trying to be set on a copy of a slice from a DataFrame.\n",
      "Try using .loc[row_indexer,col_indexer] = value instead\n",
      "\n",
      "See the caveats in the documentation: https://pandas.pydata.org/pandas-docs/stable/user_guide/indexing.html#returning-a-view-versus-a-copy\n",
      "  df_id[\"StatementDetails.FinancialPeriodEndDate\"] = pd.to_datetime(df_id[\"StatementDetails.FinancialPeriodEndDate\"])\n",
      "/var/folders/xr/5n5p0p5d4zjg8f57zwt16lyr0000gn/T/ipykernel_73218/3953964208.py:26: SettingWithCopyWarning: \n",
      "A value is trying to be set on a copy of a slice from a DataFrame.\n",
      "Try using .loc[row_indexer,col_indexer] = value instead\n",
      "\n",
      "See the caveats in the documentation: https://pandas.pydata.org/pandas-docs/stable/user_guide/indexing.html#returning-a-view-versus-a-copy\n",
      "  df_id[\"StatementDetails.FinancialPeriodEndDate\"] = pd.to_datetime(df_id[\"StatementDetails.FinancialPeriodEndDate\"])\n"
     ]
    },
    {
     "name": "stdout",
     "output_type": "stream",
     "text": [
      "predictions based on sector (using scaled data)\n"
     ]
    },
    {
     "name": "stderr",
     "output_type": "stream",
     "text": [
      "/var/folders/xr/5n5p0p5d4zjg8f57zwt16lyr0000gn/T/ipykernel_73218/3953964208.py:26: SettingWithCopyWarning: \n",
      "A value is trying to be set on a copy of a slice from a DataFrame.\n",
      "Try using .loc[row_indexer,col_indexer] = value instead\n",
      "\n",
      "See the caveats in the documentation: https://pandas.pydata.org/pandas-docs/stable/user_guide/indexing.html#returning-a-view-versus-a-copy\n",
      "  df_id[\"StatementDetails.FinancialPeriodEndDate\"] = pd.to_datetime(df_id[\"StatementDetails.FinancialPeriodEndDate\"])\n"
     ]
    },
    {
     "ename": "KeyboardInterrupt",
     "evalue": "",
     "output_type": "error",
     "traceback": [
      "\u001b[0;31m---------------------------------------------------------------------------\u001b[0m",
      "\u001b[0;31mKeyboardInterrupt\u001b[0m                         Traceback (most recent call last)",
      "\u001b[0;32m/var/folders/xr/5n5p0p5d4zjg8f57zwt16lyr0000gn/T/ipykernel_73218/1683549266.py\u001b[0m in \u001b[0;36m<module>\u001b[0;34m\u001b[0m\n\u001b[1;32m     67\u001b[0m \u001b[0mabs_error_list\u001b[0m \u001b[0;34m=\u001b[0m \u001b[0;34m[\u001b[0m\u001b[0;34m]\u001b[0m\u001b[0;34m\u001b[0m\u001b[0;34m\u001b[0m\u001b[0m\n\u001b[1;32m     68\u001b[0m \u001b[0;32mfor\u001b[0m \u001b[0mkey\u001b[0m \u001b[0;32min\u001b[0m \u001b[0mdict_id2\u001b[0m\u001b[0;34m:\u001b[0m\u001b[0;34m\u001b[0m\u001b[0;34m\u001b[0m\u001b[0m\n\u001b[0;32m---> 69\u001b[0;31m     \u001b[0mabs_error_list\u001b[0m\u001b[0;34m.\u001b[0m\u001b[0mappend\u001b[0m\u001b[0;34m(\u001b[0m\u001b[0mpredict\u001b[0m\u001b[0;34m(\u001b[0m\u001b[0mdict_id2\u001b[0m\u001b[0;34m,\u001b[0m \u001b[0mkey\u001b[0m\u001b[0;34m)\u001b[0m\u001b[0;34m[\u001b[0m\u001b[0;36m1\u001b[0m\u001b[0;34m]\u001b[0m\u001b[0;34m)\u001b[0m\u001b[0;34m\u001b[0m\u001b[0;34m\u001b[0m\u001b[0m\n\u001b[0m\u001b[1;32m     70\u001b[0m \u001b[0;34m\u001b[0m\u001b[0m\n\u001b[1;32m     71\u001b[0m \u001b[0mprint\u001b[0m\u001b[0;34m(\u001b[0m\u001b[0mabs_error_list\u001b[0m\u001b[0;34m)\u001b[0m\u001b[0;34m\u001b[0m\u001b[0;34m\u001b[0m\u001b[0m\n",
      "\u001b[0;32m/var/folders/xr/5n5p0p5d4zjg8f57zwt16lyr0000gn/T/ipykernel_73218/1683549266.py\u001b[0m in \u001b[0;36mpredict\u001b[0;34m(dictionary, orgid)\u001b[0m\n\u001b[1;32m     35\u001b[0m         \u001b[0mprint\u001b[0m\u001b[0;34m(\u001b[0m\u001b[0;34m'predictions based on sector (using scaled data)'\u001b[0m\u001b[0;34m)\u001b[0m\u001b[0;34m\u001b[0m\u001b[0;34m\u001b[0m\u001b[0m\n\u001b[1;32m     36\u001b[0m         \u001b[0msector\u001b[0m \u001b[0;34m=\u001b[0m \u001b[0mcopy\u001b[0m\u001b[0;34m[\u001b[0m\u001b[0;34m'GTAP sector'\u001b[0m\u001b[0;34m]\u001b[0m\u001b[0;34m.\u001b[0m\u001b[0mloc\u001b[0m\u001b[0;34m[\u001b[0m\u001b[0morgid\u001b[0m\u001b[0;34m]\u001b[0m\u001b[0;34m\u001b[0m\u001b[0;34m\u001b[0m\u001b[0m\n\u001b[0;32m---> 37\u001b[0;31m         \u001b[0msector_dict\u001b[0m \u001b[0;34m=\u001b[0m \u001b[0mcreate_dict\u001b[0m\u001b[0;34m(\u001b[0m\u001b[0;34m'GTAP sector'\u001b[0m\u001b[0;34m,\u001b[0m \u001b[0mcopy\u001b[0m\u001b[0;34m)\u001b[0m\u001b[0;34m\u001b[0m\u001b[0;34m\u001b[0m\u001b[0m\n\u001b[0m\u001b[1;32m     38\u001b[0m         \u001b[0;31m# adding a column with scaled emissions\u001b[0m\u001b[0;34m\u001b[0m\u001b[0;34m\u001b[0m\u001b[0m\n\u001b[1;32m     39\u001b[0m         \u001b[0mdf_sector\u001b[0m \u001b[0;34m=\u001b[0m \u001b[0mscale_emissions\u001b[0m\u001b[0;34m(\u001b[0m\u001b[0msector_dict\u001b[0m\u001b[0;34m[\u001b[0m\u001b[0msector\u001b[0m\u001b[0;34m]\u001b[0m\u001b[0;34m)\u001b[0m\u001b[0;34m\u001b[0m\u001b[0;34m\u001b[0m\u001b[0m\n",
      "\u001b[0;32m/var/folders/xr/5n5p0p5d4zjg8f57zwt16lyr0000gn/T/ipykernel_73218/3953964208.py\u001b[0m in \u001b[0;36mcreate_dict\u001b[0;34m(target_var, df)\u001b[0m\n\u001b[1;32m     24\u001b[0m     \u001b[0;32mfor\u001b[0m \u001b[0mitem\u001b[0m \u001b[0;32min\u001b[0m \u001b[0munique\u001b[0m\u001b[0;34m:\u001b[0m\u001b[0;34m\u001b[0m\u001b[0;34m\u001b[0m\u001b[0m\n\u001b[1;32m     25\u001b[0m         \u001b[0mdf_id\u001b[0m \u001b[0;34m=\u001b[0m \u001b[0mdf\u001b[0m\u001b[0;34m.\u001b[0m\u001b[0mget_group\u001b[0m\u001b[0;34m(\u001b[0m\u001b[0mitem\u001b[0m\u001b[0;34m)\u001b[0m\u001b[0;34m\u001b[0m\u001b[0;34m\u001b[0m\u001b[0m\n\u001b[0;32m---> 26\u001b[0;31m         \u001b[0mdf_id\u001b[0m\u001b[0;34m[\u001b[0m\u001b[0;34m\"StatementDetails.FinancialPeriodEndDate\"\u001b[0m\u001b[0;34m]\u001b[0m \u001b[0;34m=\u001b[0m \u001b[0mpd\u001b[0m\u001b[0;34m.\u001b[0m\u001b[0mto_datetime\u001b[0m\u001b[0;34m(\u001b[0m\u001b[0mdf_id\u001b[0m\u001b[0;34m[\u001b[0m\u001b[0;34m\"StatementDetails.FinancialPeriodEndDate\"\u001b[0m\u001b[0;34m]\u001b[0m\u001b[0;34m)\u001b[0m\u001b[0;34m\u001b[0m\u001b[0;34m\u001b[0m\u001b[0m\n\u001b[0m\u001b[1;32m     27\u001b[0m \u001b[0;34m\u001b[0m\u001b[0m\n\u001b[1;32m     28\u001b[0m         \u001b[0mdf_id\u001b[0m \u001b[0;34m=\u001b[0m \u001b[0mdf_id\u001b[0m\u001b[0;34m.\u001b[0m\u001b[0msort_values\u001b[0m\u001b[0;34m(\u001b[0m\u001b[0mby\u001b[0m\u001b[0;34m=\u001b[0m\u001b[0;34m\"StatementDetails.FinancialPeriodEndDate\"\u001b[0m\u001b[0;34m)\u001b[0m\u001b[0;34m\u001b[0m\u001b[0;34m\u001b[0m\u001b[0m\n",
      "\u001b[0;32m~/miniforge3/envs/Jupyter_M1/lib/python3.10/site-packages/pandas/core/tools/datetimes.py\u001b[0m in \u001b[0;36mto_datetime\u001b[0;34m(arg, errors, dayfirst, yearfirst, utc, format, exact, unit, infer_datetime_format, origin, cache)\u001b[0m\n\u001b[1;32m    883\u001b[0m         \u001b[0mcache_array\u001b[0m \u001b[0;34m=\u001b[0m \u001b[0m_maybe_cache\u001b[0m\u001b[0;34m(\u001b[0m\u001b[0marg\u001b[0m\u001b[0;34m,\u001b[0m \u001b[0mformat\u001b[0m\u001b[0;34m,\u001b[0m \u001b[0mcache\u001b[0m\u001b[0;34m,\u001b[0m \u001b[0mconvert_listlike\u001b[0m\u001b[0;34m)\u001b[0m\u001b[0;34m\u001b[0m\u001b[0;34m\u001b[0m\u001b[0m\n\u001b[1;32m    884\u001b[0m         \u001b[0;32mif\u001b[0m \u001b[0;32mnot\u001b[0m \u001b[0mcache_array\u001b[0m\u001b[0;34m.\u001b[0m\u001b[0mempty\u001b[0m\u001b[0;34m:\u001b[0m\u001b[0;34m\u001b[0m\u001b[0;34m\u001b[0m\u001b[0m\n\u001b[0;32m--> 885\u001b[0;31m             \u001b[0mresult\u001b[0m \u001b[0;34m=\u001b[0m \u001b[0marg\u001b[0m\u001b[0;34m.\u001b[0m\u001b[0mmap\u001b[0m\u001b[0;34m(\u001b[0m\u001b[0mcache_array\u001b[0m\u001b[0;34m)\u001b[0m\u001b[0;34m\u001b[0m\u001b[0;34m\u001b[0m\u001b[0m\n\u001b[0m\u001b[1;32m    886\u001b[0m         \u001b[0;32melse\u001b[0m\u001b[0;34m:\u001b[0m\u001b[0;34m\u001b[0m\u001b[0;34m\u001b[0m\u001b[0m\n\u001b[1;32m    887\u001b[0m             \u001b[0mvalues\u001b[0m \u001b[0;34m=\u001b[0m \u001b[0mconvert_listlike\u001b[0m\u001b[0;34m(\u001b[0m\u001b[0marg\u001b[0m\u001b[0;34m.\u001b[0m\u001b[0m_values\u001b[0m\u001b[0;34m,\u001b[0m \u001b[0mformat\u001b[0m\u001b[0;34m)\u001b[0m\u001b[0;34m\u001b[0m\u001b[0;34m\u001b[0m\u001b[0m\n",
      "\u001b[0;32m~/miniforge3/envs/Jupyter_M1/lib/python3.10/site-packages/pandas/core/series.py\u001b[0m in \u001b[0;36mmap\u001b[0;34m(self, arg, na_action)\u001b[0m\n\u001b[1;32m   4159\u001b[0m         \u001b[0mdtype\u001b[0m\u001b[0;34m:\u001b[0m \u001b[0mobject\u001b[0m\u001b[0;34m\u001b[0m\u001b[0;34m\u001b[0m\u001b[0m\n\u001b[1;32m   4160\u001b[0m         \"\"\"\n\u001b[0;32m-> 4161\u001b[0;31m         \u001b[0mnew_values\u001b[0m \u001b[0;34m=\u001b[0m \u001b[0msuper\u001b[0m\u001b[0;34m(\u001b[0m\u001b[0;34m)\u001b[0m\u001b[0;34m.\u001b[0m\u001b[0m_map_values\u001b[0m\u001b[0;34m(\u001b[0m\u001b[0marg\u001b[0m\u001b[0;34m,\u001b[0m \u001b[0mna_action\u001b[0m\u001b[0;34m=\u001b[0m\u001b[0mna_action\u001b[0m\u001b[0;34m)\u001b[0m\u001b[0;34m\u001b[0m\u001b[0;34m\u001b[0m\u001b[0m\n\u001b[0m\u001b[1;32m   4162\u001b[0m         return self._constructor(new_values, index=self.index).__finalize__(\n\u001b[1;32m   4163\u001b[0m             \u001b[0mself\u001b[0m\u001b[0;34m,\u001b[0m \u001b[0mmethod\u001b[0m\u001b[0;34m=\u001b[0m\u001b[0;34m\"map\"\u001b[0m\u001b[0;34m\u001b[0m\u001b[0;34m\u001b[0m\u001b[0m\n",
      "\u001b[0;32m~/miniforge3/envs/Jupyter_M1/lib/python3.10/site-packages/pandas/core/base.py\u001b[0m in \u001b[0;36m_map_values\u001b[0;34m(self, mapper, na_action)\u001b[0m\n\u001b[1;32m    841\u001b[0m \u001b[0;34m\u001b[0m\u001b[0m\n\u001b[1;32m    842\u001b[0m             \u001b[0mindexer\u001b[0m \u001b[0;34m=\u001b[0m \u001b[0mmapper\u001b[0m\u001b[0;34m.\u001b[0m\u001b[0mindex\u001b[0m\u001b[0;34m.\u001b[0m\u001b[0mget_indexer\u001b[0m\u001b[0;34m(\u001b[0m\u001b[0mvalues\u001b[0m\u001b[0;34m)\u001b[0m\u001b[0;34m\u001b[0m\u001b[0;34m\u001b[0m\u001b[0m\n\u001b[0;32m--> 843\u001b[0;31m             \u001b[0mnew_values\u001b[0m \u001b[0;34m=\u001b[0m \u001b[0malgorithms\u001b[0m\u001b[0;34m.\u001b[0m\u001b[0mtake_nd\u001b[0m\u001b[0;34m(\u001b[0m\u001b[0mmapper\u001b[0m\u001b[0;34m.\u001b[0m\u001b[0m_values\u001b[0m\u001b[0;34m,\u001b[0m \u001b[0mindexer\u001b[0m\u001b[0;34m)\u001b[0m\u001b[0;34m\u001b[0m\u001b[0;34m\u001b[0m\u001b[0m\n\u001b[0m\u001b[1;32m    844\u001b[0m \u001b[0;34m\u001b[0m\u001b[0m\n\u001b[1;32m    845\u001b[0m             \u001b[0;32mreturn\u001b[0m \u001b[0mnew_values\u001b[0m\u001b[0;34m\u001b[0m\u001b[0;34m\u001b[0m\u001b[0m\n",
      "\u001b[0;32m~/miniforge3/envs/Jupyter_M1/lib/python3.10/site-packages/pandas/core/array_algos/take.py\u001b[0m in \u001b[0;36mtake_nd\u001b[0;34m(arr, indexer, axis, fill_value, allow_fill)\u001b[0m\n\u001b[1;32m     99\u001b[0m             \u001b[0;31m# i.e. DatetimeArray, TimedeltaArray\u001b[0m\u001b[0;34m\u001b[0m\u001b[0;34m\u001b[0m\u001b[0m\n\u001b[1;32m    100\u001b[0m             \u001b[0marr\u001b[0m \u001b[0;34m=\u001b[0m \u001b[0mcast\u001b[0m\u001b[0;34m(\u001b[0m\u001b[0;34m\"NDArrayBackedExtensionArray\"\u001b[0m\u001b[0;34m,\u001b[0m \u001b[0marr\u001b[0m\u001b[0;34m)\u001b[0m\u001b[0;34m\u001b[0m\u001b[0;34m\u001b[0m\u001b[0m\n\u001b[0;32m--> 101\u001b[0;31m             return arr.take(\n\u001b[0m\u001b[1;32m    102\u001b[0m                 \u001b[0mindexer\u001b[0m\u001b[0;34m,\u001b[0m \u001b[0mfill_value\u001b[0m\u001b[0;34m=\u001b[0m\u001b[0mfill_value\u001b[0m\u001b[0;34m,\u001b[0m \u001b[0mallow_fill\u001b[0m\u001b[0;34m=\u001b[0m\u001b[0mallow_fill\u001b[0m\u001b[0;34m,\u001b[0m \u001b[0maxis\u001b[0m\u001b[0;34m=\u001b[0m\u001b[0maxis\u001b[0m\u001b[0;34m\u001b[0m\u001b[0;34m\u001b[0m\u001b[0m\n\u001b[1;32m    103\u001b[0m             )\n",
      "\u001b[0;32m~/miniforge3/envs/Jupyter_M1/lib/python3.10/site-packages/pandas/core/arrays/_mixins.py\u001b[0m in \u001b[0;36mtake\u001b[0;34m(self, indices, allow_fill, fill_value, axis)\u001b[0m\n\u001b[1;32m     97\u001b[0m             \u001b[0mfill_value\u001b[0m \u001b[0;34m=\u001b[0m \u001b[0mself\u001b[0m\u001b[0;34m.\u001b[0m\u001b[0m_validate_scalar\u001b[0m\u001b[0;34m(\u001b[0m\u001b[0mfill_value\u001b[0m\u001b[0;34m)\u001b[0m\u001b[0;34m\u001b[0m\u001b[0;34m\u001b[0m\u001b[0m\n\u001b[1;32m     98\u001b[0m \u001b[0;34m\u001b[0m\u001b[0m\n\u001b[0;32m---> 99\u001b[0;31m         new_data = take(\n\u001b[0m\u001b[1;32m    100\u001b[0m             \u001b[0mself\u001b[0m\u001b[0;34m.\u001b[0m\u001b[0m_ndarray\u001b[0m\u001b[0;34m,\u001b[0m\u001b[0;34m\u001b[0m\u001b[0;34m\u001b[0m\u001b[0m\n\u001b[1;32m    101\u001b[0m             \u001b[0;31m# error: Argument 2 to \"take\" has incompatible type \"Sequence[int]\";\u001b[0m\u001b[0;34m\u001b[0m\u001b[0;34m\u001b[0m\u001b[0m\n",
      "\u001b[0;32m~/miniforge3/envs/Jupyter_M1/lib/python3.10/site-packages/pandas/core/algorithms.py\u001b[0m in \u001b[0;36mtake\u001b[0;34m(arr, indices, axis, allow_fill, fill_value)\u001b[0m\n\u001b[1;32m   1509\u001b[0m         \u001b[0;31m# Pandas style, -1 means NA\u001b[0m\u001b[0;34m\u001b[0m\u001b[0;34m\u001b[0m\u001b[0m\n\u001b[1;32m   1510\u001b[0m         \u001b[0mvalidate_indices\u001b[0m\u001b[0;34m(\u001b[0m\u001b[0mindices\u001b[0m\u001b[0;34m,\u001b[0m \u001b[0marr\u001b[0m\u001b[0;34m.\u001b[0m\u001b[0mshape\u001b[0m\u001b[0;34m[\u001b[0m\u001b[0maxis\u001b[0m\u001b[0;34m]\u001b[0m\u001b[0;34m)\u001b[0m\u001b[0;34m\u001b[0m\u001b[0;34m\u001b[0m\u001b[0m\n\u001b[0;32m-> 1511\u001b[0;31m         result = take_nd(\n\u001b[0m\u001b[1;32m   1512\u001b[0m             \u001b[0marr\u001b[0m\u001b[0;34m,\u001b[0m \u001b[0mindices\u001b[0m\u001b[0;34m,\u001b[0m \u001b[0maxis\u001b[0m\u001b[0;34m=\u001b[0m\u001b[0maxis\u001b[0m\u001b[0;34m,\u001b[0m \u001b[0mallow_fill\u001b[0m\u001b[0;34m=\u001b[0m\u001b[0;32mTrue\u001b[0m\u001b[0;34m,\u001b[0m \u001b[0mfill_value\u001b[0m\u001b[0;34m=\u001b[0m\u001b[0mfill_value\u001b[0m\u001b[0;34m\u001b[0m\u001b[0;34m\u001b[0m\u001b[0m\n\u001b[1;32m   1513\u001b[0m         )\n",
      "\u001b[0;32m~/miniforge3/envs/Jupyter_M1/lib/python3.10/site-packages/pandas/core/array_algos/take.py\u001b[0m in \u001b[0;36mtake_nd\u001b[0;34m(arr, indexer, axis, fill_value, allow_fill)\u001b[0m\n\u001b[1;32m    106\u001b[0m \u001b[0;34m\u001b[0m\u001b[0m\n\u001b[1;32m    107\u001b[0m     \u001b[0marr\u001b[0m \u001b[0;34m=\u001b[0m \u001b[0mnp\u001b[0m\u001b[0;34m.\u001b[0m\u001b[0masarray\u001b[0m\u001b[0;34m(\u001b[0m\u001b[0marr\u001b[0m\u001b[0;34m)\u001b[0m\u001b[0;34m\u001b[0m\u001b[0;34m\u001b[0m\u001b[0m\n\u001b[0;32m--> 108\u001b[0;31m     \u001b[0;32mreturn\u001b[0m \u001b[0m_take_nd_ndarray\u001b[0m\u001b[0;34m(\u001b[0m\u001b[0marr\u001b[0m\u001b[0;34m,\u001b[0m \u001b[0mindexer\u001b[0m\u001b[0;34m,\u001b[0m \u001b[0maxis\u001b[0m\u001b[0;34m,\u001b[0m \u001b[0mfill_value\u001b[0m\u001b[0;34m,\u001b[0m \u001b[0mallow_fill\u001b[0m\u001b[0;34m)\u001b[0m\u001b[0;34m\u001b[0m\u001b[0;34m\u001b[0m\u001b[0m\n\u001b[0m\u001b[1;32m    109\u001b[0m \u001b[0;34m\u001b[0m\u001b[0m\n\u001b[1;32m    110\u001b[0m \u001b[0;34m\u001b[0m\u001b[0m\n",
      "\u001b[0;32m~/miniforge3/envs/Jupyter_M1/lib/python3.10/site-packages/pandas/core/array_algos/take.py\u001b[0m in \u001b[0;36m_take_nd_ndarray\u001b[0;34m(arr, indexer, axis, fill_value, allow_fill)\u001b[0m\n\u001b[1;32m    149\u001b[0m         \u001b[0mout\u001b[0m \u001b[0;34m=\u001b[0m \u001b[0mnp\u001b[0m\u001b[0;34m.\u001b[0m\u001b[0mempty\u001b[0m\u001b[0;34m(\u001b[0m\u001b[0mout_shape\u001b[0m\u001b[0;34m,\u001b[0m \u001b[0mdtype\u001b[0m\u001b[0;34m=\u001b[0m\u001b[0mdtype\u001b[0m\u001b[0;34m)\u001b[0m\u001b[0;34m\u001b[0m\u001b[0;34m\u001b[0m\u001b[0m\n\u001b[1;32m    150\u001b[0m \u001b[0;34m\u001b[0m\u001b[0m\n\u001b[0;32m--> 151\u001b[0;31m     func = _get_take_nd_function(\n\u001b[0m\u001b[1;32m    152\u001b[0m         \u001b[0marr\u001b[0m\u001b[0;34m.\u001b[0m\u001b[0mndim\u001b[0m\u001b[0;34m,\u001b[0m \u001b[0marr\u001b[0m\u001b[0;34m.\u001b[0m\u001b[0mdtype\u001b[0m\u001b[0;34m,\u001b[0m \u001b[0mout\u001b[0m\u001b[0;34m.\u001b[0m\u001b[0mdtype\u001b[0m\u001b[0;34m,\u001b[0m \u001b[0maxis\u001b[0m\u001b[0;34m=\u001b[0m\u001b[0maxis\u001b[0m\u001b[0;34m,\u001b[0m \u001b[0mmask_info\u001b[0m\u001b[0;34m=\u001b[0m\u001b[0mmask_info\u001b[0m\u001b[0;34m\u001b[0m\u001b[0;34m\u001b[0m\u001b[0m\n\u001b[1;32m    153\u001b[0m     )\n",
      "\u001b[0;31mKeyboardInterrupt\u001b[0m: "
     ]
    }
   ],
   "source": [
    "copy2 = copy[copy['EmissionDataPoints.CO2EquivalentsEmissionDirectScope1'].notna()] # drop all rows with NaN in target column\n",
    "copy3 = df.copy()\n",
    "dict_id2 = create_dict('organization_id', copy3)\n",
    "dict_id2 = dict_clean_final(dict_id2, 'EmissionDataPoints.CO2EquivalentsEmissionDirectScope1')\n",
    "#dict_id2 = dict_clean_better(dict_id3, 'EmissionDataPoints.CO2EquivalentsEmissionDirectScope1', ratio)\n",
    "\n",
    "#Adds column to df which contains the scaled Emissions based on sector (Assuming sector input) \n",
    "def scale_emissions(df):\n",
    "    df['CO2toRevenue'] = df['EmissionDataPoints.CO2EquivalentsEmissionDirectScope1']*(df['EmissionIndicators.TotalCO2EquivalentsEmissionsToRevenues']/df['EmissionDataPoints.CO2EquivalentsEmissionTotal'])\n",
    "    return df\n",
    "\n",
    "#Takes threshold in order to determine if you want to use sector or org_id\n",
    "# returns true if you need to use sector\n",
    "\n",
    "def sector_or_orgid(orgid, df, threshold = 10):\n",
    "#     len(df[df['organization_id']==orgid])\n",
    "    return len(df[df['organization_id']==orgid]) >= threshold\n",
    "\n",
    "# func: makes predictions for a given org_id\n",
    "# params: a dict of all org_id's as keys with their corresponding df's as values, and a specific org_id\n",
    "# returns: the predictions and a plot of the predictions \n",
    "def predict(dictionary, orgid): \n",
    "    # decide wether to use sector or org_id for predictions:\n",
    "    if sector_or_orgid(orgid, dictionary[orgid]):      \n",
    "        print('predictions based on orgid')\n",
    "        df = dictionary[orgid]\n",
    "        df = df_clean(df, 'StatementDetails.FinancialPeriodFiscalYear')\n",
    "        df = df_clean(df, 'EmissionDataPoints.CO2EquivalentsEmissionDirectScope1')\n",
    "        X = df.loc[:, ['StatementDetails.FinancialPeriodFiscalYear']]\n",
    "        X = np.array(X)\n",
    "        Y = df['EmissionDataPoints.CO2EquivalentsEmissionDirectScope1']\n",
    "        title = 'Plot of emissions for company: ' + str(orgid)\n",
    "        y_label = \"CO2 emission\"\n",
    "    else: \n",
    "        print('predictions based on sector (using scaled data)')\n",
    "        sector = copy['GTAP sector'].loc[orgid]\n",
    "        sector_dict = create_dict('GTAP sector', copy)\n",
    "        # adding a column with scaled emissions\n",
    "        df_sector = scale_emissions(sector_dict[sector])\n",
    "        df_sector = df_clean(df_sector, 'CO2toRevenue')\n",
    "        X = df_sector.loc[:, ['StatementDetails.FinancialPeriodFiscalYear']]\n",
    "        # use scaled emissions as target instead of scope1\n",
    "        Y = df_sector['CO2toRevenue']\n",
    "        title = 'Emissions for all companies in the sector: ' + sector\n",
    "        y_label = 'CO2 emission per revenue'\n",
    "        \n",
    "    X_train, X_test, Y_train, Y_test = train_test_split(X,Y, test_size=0.33, random_state=42)\n",
    "    degree = 1\n",
    "    polyreg=make_pipeline(PolynomialFeatures(degree), LinearRegression())\n",
    "    polyreg.fit(X_train,Y_train)\n",
    "    predictions = polyreg.predict(X_test)\n",
    "    mean_abs_error = mean_absolute_error(Y_test, predictions)\n",
    "#     print(\"Mean absolute error: %.2f\" % mean_absolute_error(Y_test, predictions))\n",
    "#     # The coefficient of determination: 1 is perfect prediction\n",
    "#     print(\"Coefficient of determination: %.2f\" % r2_score(Y_test, predictions))\n",
    "#     plt.plot(X_test, predictions, label='prediction')\n",
    "#     plt.scatter(X_test, Y_test, label='test data')\n",
    "#     #X_test[:, 0]\n",
    "#     plt.xlabel(\"year\")\n",
    "#     plt.ylabel(y_label)\n",
    "#     plt.title(title)\n",
    "#     plt.legend()\n",
    "#     plt.show()\n",
    "    return predictions, mean_abs_error\n",
    "\n",
    "\n",
    "abs_error_list = []\n",
    "for key in dict_id2: \n",
    "    abs_error_list.append(predict(dict_id2, key)[1])\n",
    "    \n",
    "print(abs_error_list)\n",
    "    \n",
    "#dict_test = create_dict('organization_id', copy2)\n",
    "# print(predict(dict_id2, 2964))"
   ]
  },
  {
   "cell_type": "code",
   "execution_count": null,
   "id": "309de080",
   "metadata": {},
   "outputs": [],
   "source": []
  }
 ],
 "metadata": {
  "kernelspec": {
   "display_name": "Python 3 (ipykernel)",
   "language": "python",
   "name": "python3"
  },
  "language_info": {
   "codemirror_mode": {
    "name": "ipython",
    "version": 3
   },
   "file_extension": ".py",
   "mimetype": "text/x-python",
   "name": "python",
   "nbconvert_exporter": "python",
   "pygments_lexer": "ipython3",
   "version": "3.10.0"
  }
 },
 "nbformat": 4,
 "nbformat_minor": 5
}
