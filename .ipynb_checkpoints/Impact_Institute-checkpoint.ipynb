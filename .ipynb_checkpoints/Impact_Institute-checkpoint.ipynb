{
 "cells": [
  {
   "cell_type": "code",
   "execution_count": 69,
   "metadata": {},
   "outputs": [],
   "source": [
    "# import TensorFlow as TF\n",
    "import pandas as pd\n",
    "import math\n",
    "import matplotlib.pylab as plt\n",
    "import numpy as np\n",
    "\n",
    "from sklearn import datasets, linear_model\n",
    "from sklearn.linear_model import LinearRegression\n",
    "from sklearn.metrics import mean_squared_error, r2_score\n",
    "from sklearn.impute import SimpleImputer # used for handling missing data\n",
    "from sklearn.preprocessing import PolynomialFeatures\n",
    "from sklearn.pipeline import make_pipeline\n",
    "from sklearn.model_selection import train_test_split\n",
    "from sklearn.neural_network import MLPRegressor\n",
    "from sklearn.datasets import make_regression\n"
   ]
  },
  {
   "cell_type": "code",
   "execution_count": 2,
   "metadata": {},
   "outputs": [
    {
     "name": "stdout",
     "output_type": "stream",
     "text": [
      "['Air transport', 'Human health and social work activities', 'Petroleum, coal products', 'Textiles', 'Machinery and equipment nec', 'Sugar cane, sugar beet', 'Ferrous metals', 'Motor vehicles and parts', 'Crops nec', 'Insurance', 'Real estate activities', 'Wearing apparel', 'Transport equipment nec', 'Manufactures nec', 'Null', 'Bovine cattle, sheep and goats, horses', 'Electrical equipment', 'Fishing', 'Construction', 'Forestry', 'Animal products nec', 'Processed rice', 'Recreational and other services', 'Vegetables, fruit, nuts', 'Oil', 'Gas', 'Water', 'Chemical products', 'Basic pharmaceutical products', 'Metals nec', 'Trade', 'Accommodation, Food and service activities', 'Wood products', 'Food products nec', 'Water transport', 'None', 'Rubber and plastic products', 'Wheat', 'Other Extraction', 'Mineral products nec', 'Coal', 'Communication', 'Beverages and tobacco products', 'Business services nec', 'Financial services nec', 'Computer, electronic and optical products', 'Warehousing and support activities', 'Electricity', 'Transport nec', 'Education', 'Paper products, publishing', 'Metal products']\n"
     ]
    }
   ],
   "source": [
    "\n",
    "df = pd.read_csv('data.csv')\n",
    "data_top = df.head()\n",
    "copy = df.copy() \n",
    "\n",
    "# 1 - Remove rows where the target column (Scope1) is NaN.\n",
    "\n",
    "copy = copy[copy['EmissionDataPoints.CO2EquivalentsEmissionDirectScope1'].notna()] # drop all rows with NaN in target column\n",
    "\n",
    "copy = copy.reset_index() \n",
    "\n",
    "\n",
    "\n",
    "# 2 - Replace all NaN from the attribute columns and replace for mean of that column\n",
    "\n",
    "#copy = copy.fillna(copy.mean())\n",
    "#col_names = copy.columns\n",
    "#sub2[col_names].fillna((sub2[col_names].mean()), inplace=True)\n",
    "\n",
    "# 3 - Group rows by organization ID\n",
    "\n",
    "# org_ids = list(copy['GTAP country'])\n",
    "# list_set = set(org_ids)\n",
    "# unique = list(list_set)\n",
    "\n",
    "# copy = copy.groupby(['GTAP country'])\n",
    "\n",
    "# dictionary = {} \n",
    "\n",
    "# for item in unique:\n",
    "#     df_id = copy.get_group(item)\n",
    "#     dictionary[item] = df_id\n",
    "\n",
    "\n",
    "def create_dict(target_var, df): \n",
    "    org_ids = list(df[target_var]) \n",
    "    list_set = set(org_ids) # get unique elements\n",
    "    unique = list(list_set) # place them in a list \n",
    "\n",
    "    df = df.groupby([target_var]) \n",
    "\n",
    "    dictionary = {} \n",
    "\n",
    "    for item in unique:\n",
    "        df_id = df.get_group(item)\n",
    "        dictionary[item] = df_id\n",
    "    \n",
    "    return dictionary\n",
    "    \n",
    "\n",
    "# dictionaries per target variable:\n",
    "\n",
    "GTAP_sector_dict = create_dict('GTAP sector', copy)\n",
    "\n",
    "GTAP_country_dict = create_dict('GTAP country', copy)\n",
    "\n",
    "\n",
    "\n",
    "key_list = list(GTAP_sector_dict.keys())\n",
    "\n",
    "print(key_list)\n",
    "\n",
    "#print(GTAP_sector_dict)\n",
    "\n",
    "# in the dictionary, we want to replace all the NaN of the values for the means of those columns.\n",
    "\n",
    "\n",
    "# # check missing values >> columns with lots of missing values are not useful. \n",
    "# missing_values_df = copy.isnull().sum().sort_values(ascending=False).head()\n",
    "# print(missing_values_df)\n",
    "\n",
    "# # replace NaN in column for mean of column with Imputer \n",
    "# imp = SimpleImputer(missing_values='NaN', strategy='mean')\n",
    "# imp = imp.fit(copy)\n",
    "\n",
    "\n",
    "\n",
    "#print(replace_NaN(GTAP_sector_dict))    \n",
    "\n"
   ]
  },
  {
   "cell_type": "code",
   "execution_count": 3,
   "metadata": {},
   "outputs": [],
   "source": [
    "# function for filling NaN's (with mean)\n",
    "def fill_nan(df, column_name):\n",
    "    mean_value=df[column_name].mean()\n",
    "    df[column_name].fillna(value=mean_value, inplace=True)\n",
    "    return df\n"
   ]
  },
  {
   "cell_type": "code",
   "execution_count": 4,
   "metadata": {},
   "outputs": [
    {
     "data": {
      "text/plain": [
       "organization_id\n",
       "5        AxesSubplot(0.125,0.125;0.775x0.755)\n",
       "6        AxesSubplot(0.125,0.125;0.775x0.755)\n",
       "11       AxesSubplot(0.125,0.125;0.775x0.755)\n",
       "15       AxesSubplot(0.125,0.125;0.775x0.755)\n",
       "17       AxesSubplot(0.125,0.125;0.775x0.755)\n",
       "                         ...                 \n",
       "14950    AxesSubplot(0.125,0.125;0.775x0.755)\n",
       "14952    AxesSubplot(0.125,0.125;0.775x0.755)\n",
       "14953    AxesSubplot(0.125,0.125;0.775x0.755)\n",
       "14954    AxesSubplot(0.125,0.125;0.775x0.755)\n",
       "14955    AxesSubplot(0.125,0.125;0.775x0.755)\n",
       "Name: EmissionDataPoints.CO2EquivalentsEmissionDirectScope1, Length: 4103, dtype: object"
      ]
     },
     "execution_count": 4,
     "metadata": {},
     "output_type": "execute_result"
    },
    {
     "data": {
      "image/png": "[encoded data removed]",
      "text/plain": [
       "<Figure size 432x288 with 1 Axes>"
      ]
     },
     "metadata": {
      "needs_background": "light"
     },
     "output_type": "display_data"
    }
   ],
   "source": [
    "copy.groupby(\"organization_id\")['EmissionDataPoints.CO2EquivalentsEmissionDirectScope1'].plot(x='StatementDetails.FinancialPeriodFiscalYear',y='EmissionDataPoints.CO2EquivalentsEmissionDirectScope1')\n",
    "# .mean()\n",
    "\n",
    "\n",
    "# org_dict = create_dict('organization_id', copy)\n",
    "\n",
    "\n",
    "\n",
    "# print(list(GTAP_country_dict))\n",
    "# print(org_dict.type)\n",
    "# print(list(copy.columns.values))\n",
    "\n"
   ]
  },
  {
   "cell_type": "code",
   "execution_count": 74,
   "metadata": {},
   "outputs": [
    {
     "name": "stdout",
     "output_type": "stream",
     "text": [
      "       StatementDetails.FinancialPeriodFiscalYear  \\\n",
      "198                                          2013   \n",
      "336                                          2011   \n",
      "427                                          2014   \n",
      "455                                          2017   \n",
      "488                                          2009   \n",
      "...                                           ...   \n",
      "24678                                        2015   \n",
      "24679                                        2010   \n",
      "24770                                        2019   \n",
      "24935                                        2012   \n",
      "25028                                        2014   \n",
      "\n",
      "       EmissionIndicators.TotalCO2EquivalentsEmissionsToRevenues  \\\n",
      "198                                           860.007572           \n",
      "336                                          1155.559121           \n",
      "427                                          1187.299487           \n",
      "455                                           867.054573           \n",
      "488                                           603.196314           \n",
      "...                                                  ...           \n",
      "24678                                         973.609296           \n",
      "24679                                         949.073185           \n",
      "24770                                         942.705501           \n",
      "24935                                         978.190755           \n",
      "25028                                         991.371630           \n",
      "\n",
      "       EmissionIndicators.NOxEmissionsToRevenues  \n",
      "198                                     0.003304  \n",
      "336                                     0.470844  \n",
      "427                                     6.199557  \n",
      "455                                     0.374312  \n",
      "488                                     2.454869  \n",
      "...                                          ...  \n",
      "24678                                   1.829592  \n",
      "24679                                   0.002976  \n",
      "24770                                   0.375584  \n",
      "24935                                   1.829592  \n",
      "25028                                   0.531278  \n",
      "\n",
      "[284 rows x 3 columns]\n",
      "Mean squared error: 224503461217259.62\n",
      "Coefficient of determination: -1.00\n",
      "ytest 823       3664701.00\n",
      "21851     8370944.00\n",
      "13303     5906757.13\n",
      "17076    20059000.00\n",
      "5815      8764000.00\n",
      "            ...     \n",
      "18416     3941394.00\n",
      "2952      3176634.00\n",
      "19689    17956473.00\n",
      "7630      5551338.00\n",
      "4515      3529559.00\n",
      "Name: EmissionDataPoints.CO2EquivalentsEmissionDirectScope1, Length: 94, dtype: float64\n",
      "[ 9.65899114e+06  9.39448249e+06  1.31480524e+07  1.61828449e+07\n",
      "  7.59657255e+06  2.46018652e+07  1.19746007e+07  9.82252986e+06\n",
      "  7.99363953e+06  1.34261976e+07  2.46876430e+07  9.23044736e+06\n",
      " -2.44422580e+06  1.16293403e+07  1.92810286e+07  8.98141587e+06\n",
      "  8.69500111e+06  6.50088238e+06  1.31377954e+07 -1.65427114e+05\n",
      "  8.27521811e+06  1.04201536e+07  1.74540602e+07  1.45811556e+07\n",
      "  1.27284534e+07  1.91558394e+07  2.76272956e+07  1.04000711e+07\n",
      "  1.17055415e+07  1.38494735e+07  8.74393650e+06  5.54138823e+06\n",
      "  1.34444285e+07  2.34821281e+07  1.00453976e+07  1.76276713e+07\n",
      "  1.34251808e+07  1.32259026e+07  1.11975157e+07  1.58638856e+07\n",
      "  3.23839563e+07  7.59356617e+06  1.95335136e+07  2.15250069e+07\n",
      "  1.34284736e+07  2.28717180e+07  1.23316912e+07  2.21982352e+07\n",
      "  2.84308368e+07  1.21745885e+08  4.40752864e+06  4.85029266e+06\n",
      "  1.71394379e+07  1.09764411e+07  1.09866115e+07  1.91429183e+07\n",
      "  9.82564419e+06  1.69258550e+07  1.22082104e+07  1.32611603e+07\n",
      "  1.95846691e+07  2.24638308e+07  9.78460418e+06  1.51279459e+07\n",
      "  6.02956912e+06  2.09929639e+07  1.60165066e+07  6.53414431e+06\n",
      "  1.71605954e+07  6.93621244e+06  1.02857800e+07  8.54539332e+06\n",
      "  7.17330059e+06  2.14311167e+07  1.79488089e+07  1.93755863e+07\n",
      "  1.84247490e+07  1.97576243e+07  9.78562171e+06  1.34729066e+07\n",
      "  1.34407263e+07  1.68469560e+07  2.30552559e+07  1.35040666e+07\n",
      "  1.01793123e+07  6.99152770e+06  8.74432150e+06  7.90727206e+06\n",
      "  1.69419611e+07  8.52265200e+06  5.42057541e+06  1.11751734e+07\n",
      "  7.93484267e+06  2.07444228e+07]\n"
     ]
    }
   ],
   "source": [
    "# regr = linear_model.LinearRegression()\n",
    "# regr.fit(diabetes_X_train, diabetes_y_train)\n",
    "# diabetes_y_pred = regr.predict(diabetes_X_test)\n",
    "\n",
    "# polynomial regression \n",
    "\n",
    "dict_id = create_dict('GTAP sector', copy)\n",
    "air = dict_id['Air transport']\n",
    "# print(air)\n",
    "Y = air['EmissionDataPoints.CO2EquivalentsEmissionDirectScope1']\n",
    "X = air.loc[:, ['StatementDetails.FinancialPeriodFiscalYear', 'EmissionIndicators.TotalCO2EquivalentsEmissionsToRevenues', 'EmissionIndicators.NOxEmissionsToRevenues']]\n",
    "\n",
    "# filling missing values with mean \n",
    "X = fill_nan(X, 'EmissionIndicators.TotalCO2EquivalentsEmissionsToRevenues')\n",
    "X = fill_nan(X, 'EmissionIndicators.NOxEmissionsToRevenues')\n",
    "print(X)\n",
    "X = np.array(X)\n",
    "# X = X.reshape(-1,1) # alleen voor 1 input variable\n",
    "X_train, X_test, Y_train, Y_test = train_test_split(X,Y, test_size=0.33, random_state=42)\n",
    "degree = 5\n",
    "polyreg=make_pipeline(PolynomialFeatures(degree), LinearRegression())\n",
    "polyreg.fit(X_train,Y_train)\n",
    "predictions = polyreg.predict(X_test)\n",
    "\n",
    "# print(\"Coefficients: \\n\", polyreg.coef_)\n",
    "# The mean squared error\n",
    "print(\"Mean squared error: %.2f\" % mean_squared_error(Y_test, predictions))\n",
    "# The coefficient of determination: 1 is perfect prediction\n",
    "print(\"Coefficient of determination: %.2f\" % r2_score(Y_test, predictions))\n",
    "\n",
    "print('ytest', Y_test)\n",
    "print(predictions)"
   ]
  },
  {
   "cell_type": "code",
   "execution_count": 67,
   "metadata": {},
   "outputs": [
    {
     "data": {
      "image/png": "[encoded data removed]",
      "text/plain": [
       "<Figure size 432x288 with 1 Axes>"
      ]
     },
     "metadata": {
      "needs_background": "light"
     },
     "output_type": "display_data"
    }
   ],
   "source": [
    "plt.scatter(X_test[:, 0], predictions, label='prediction')\n",
    "plt.scatter(X_test[:, 0], Y_test, label='test data')\n",
    "\n",
    "plt.xlabel(\"year\")\n",
    "plt.ylabel(\"CO2 emission\")\n",
    "plt.legend()\n",
    "plt.show()"
   ]
  },
  {
   "cell_type": "code",
   "execution_count": 75,
   "metadata": {},
   "outputs": [
    {
     "name": "stderr",
     "output_type": "stream",
     "text": [
      "C:\\Users\\noorw\\anaconda3\\lib\\site-packages\\sklearn\\neural_network\\_multilayer_perceptron.py:582: ConvergenceWarning: Stochastic Optimizer: Maximum iterations (500) reached and the optimization hasn't converged yet.\n",
      "  warnings.warn(\n"
     ]
    },
    {
     "data": {
      "image/png": "[encoded data removed]",
      "text/plain": [
       "<Figure size 432x288 with 1 Axes>"
      ]
     },
     "metadata": {
      "needs_background": "light"
     },
     "output_type": "display_data"
    }
   ],
   "source": [
    "# neural networks\n",
    "\n",
    "regr = MLPRegressor(random_state=1, max_iter=500).fit(X_train, Y_train)\n",
    "pred_nn = regr.predict(X_test)\n",
    "regr.score(X_test, Y_test)\n",
    "\n",
    "plt.scatter(X_test[:, 0], pred_nn, label='prediction neural net')\n",
    "plt.scatter(X_test[:, 0], Y_test, label='test data')\n",
    "\n",
    "plt.xlabel(\"year\")\n",
    "plt.ylabel(\"CO2 emission\")\n",
    "plt.legend()\n",
    "plt.show()\n",
    "\n"
   ]
  },
  {
   "cell_type": "code",
   "execution_count": null,
   "metadata": {},
   "outputs": [],
   "source": []
  }
 ],
 "metadata": {
  "kernelspec": {
   "display_name": "Python 3",
   "language": "python",
   "name": "python3"
  },
  "language_info": {
   "codemirror_mode": {
    "name": "ipython",
    "version": 3
   },
   "file_extension": ".py",
   "mimetype": "text/x-python",
   "name": "python",
   "nbconvert_exporter": "python",
   "pygments_lexer": "ipython3",
   "version": "3.8.5"
  }
 },
 "nbformat": 4,
 "nbformat_minor": 5
}
