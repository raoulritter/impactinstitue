{
 "cells": [
  {
   "cell_type": "code",
   "execution_count": 1,
   "id": "e9349f48",
   "metadata": {},
   "outputs": [],
   "source": [
    "# import TensorFlow as TF\n",
    "import pandas as pd\n",
    "import math\n",
    "import matplotlib.pylab as plt\n",
    "import numpy as np\n",
    "\n",
    "from sklearn import datasets\n",
    "from sklearn.impute import SimpleImputer # used for handling missing data\n"
   ]
  },
  {
   "cell_type": "code",
   "execution_count": 2,
   "id": "3804dc92",
   "metadata": {},
   "outputs": [
    {
     "name": "stdout",
     "output_type": "stream",
     "text": [
      "['Motor vehicles and parts', 'Ferrous metals', 'None', 'Air transport', 'Bovine cattle, sheep and goats, horses', 'Computer, electronic and optical products', 'Wood products', 'Crops nec', 'Transport equipment nec', 'Beverages and tobacco products', 'Textiles', 'Animal products nec', 'Construction', 'Oil', 'Wearing apparel', 'Electrical equipment', 'Coal', 'Water', 'Metal products', 'Warehousing and support activities', 'Real estate activities', 'Human health and social work activities', 'Accommodation, Food and service activities', 'Education', 'Petroleum, coal products', 'Other Extraction', 'Gas', 'Water transport', 'Electricity', 'Financial services nec', 'Chemical products', 'Transport nec', 'Machinery and equipment nec', 'Metals nec', 'Wheat', 'Recreational and other services', 'Rubber and plastic products', 'Mineral products nec', 'Food products nec', 'Business services nec', 'Basic pharmaceutical products', 'Communication', 'Sugar cane, sugar beet', 'Manufactures nec', 'Vegetables, fruit, nuts', 'Paper products, publishing', 'Fishing', 'Processed rice', 'Trade', 'Forestry', 'Insurance', 'Null']\n"
     ]
    }
   ],
   "source": [
    "\n",
    "df = pd.read_csv('data.csv')\n",
    "data_top = df.head()\n",
    "copy = df.copy() \n",
    "\n",
    "# 1 - Remove rows where the target column (Scope1) is NaN.\n",
    "\n",
    "copy = copy[copy['EmissionDataPoints.CO2EquivalentsEmissionDirectScope1'].notna()] # drop all rows with NaN in target column\n",
    "\n",
    "copy = copy.reset_index() \n",
    "\n",
    "\n",
    "\n",
    "# 2 - Replace all NaN from the attribute columns and replace for mean of that column\n",
    "\n",
    "#copy = copy.fillna(copy.mean())\n",
    "#col_names = copy.columns\n",
    "#sub2[col_names].fillna((sub2[col_names].mean()), inplace=True)\n",
    "\n",
    "# 3 - Group rows by organization ID\n",
    "\n",
    "# org_ids = list(copy['GTAP country'])\n",
    "# list_set = set(org_ids)\n",
    "# unique = list(list_set)\n",
    "\n",
    "# copy = copy.groupby(['GTAP country'])\n",
    "\n",
    "# dictionary = {} \n",
    "\n",
    "# for item in unique:\n",
    "#     df_id = copy.get_group(item)\n",
    "#     dictionary[item] = df_id\n",
    "\n",
    "\n",
    "def create_dict(target_var, df): \n",
    "    org_ids = list(df[target_var]) \n",
    "    list_set = set(org_ids) # get unique elements\n",
    "    unique = list(list_set) # place them in a list \n",
    "\n",
    "    df = df.groupby([target_var]) \n",
    "\n",
    "    dictionary = {} \n",
    "\n",
    "    for item in unique:\n",
    "        df_id = df.get_group(item)\n",
    "        dictionary[item] = df_id\n",
    "    \n",
    "    return dictionary\n",
    "    \n",
    "\n",
    "# dictionaries per target variable:\n",
    "\n",
    "GTAP_sector_dict = create_dict('GTAP sector', copy)\n",
    "\n",
    "GTAP_country_dict = create_dict('GTAP country', copy)\n",
    "\n",
    "\n",
    "\n",
    "key_list = list(GTAP_sector_dict.keys())\n",
    "\n",
    "print(key_list)\n",
    "\n",
    "#print(GTAP_sector_dict)\n",
    "\n",
    "# in the dictionary, we want to replace all the NaN of the values for the means of those columns.\n",
    "\n",
    "\n",
    "# # check missing values >> columns with lots of missing values are not useful. \n",
    "# missing_values_df = copy.isnull().sum().sort_values(ascending=False).head()\n",
    "# print(missing_values_df)\n",
    "\n",
    "# # replace NaN in column for mean of column with Imputer \n",
    "# imp = SimpleImputer(missing_values='NaN', strategy='mean')\n",
    "# imp = imp.fit(copy)\n",
    "\n",
    "\n",
    "\n",
    "#print(replace_NaN(GTAP_sector_dict))    \n",
    "\n"
   ]
  },
  {
   "cell_type": "code",
   "execution_count": 3,
   "id": "534e2985",
   "metadata": {},
   "outputs": [],
   "source": [
    "# function for filling NaN's\n",
    "def fill_nan(df, column_name):\n",
    "    mean_value=df[column_name].mean()\n",
    "    df[column_name].fillna(value=mean_value, inplace=True)\n",
    "    return df\n"
   ]
  },
  {
   "cell_type": "code",
   "execution_count": null,
   "id": "8f55f474",
   "metadata": {},
   "outputs": [],
   "source": [
    "copy.groupby(\"organization_id\")['EmissionDataPoints.CO2EquivalentsEmissionDirectScope1'].plot(x='StatementDetails.FinancialPeriodFiscalYear',y='EmissionDataPoints.CO2EquivalentsEmissionDirectScope1')\n",
    "# .mean()\n",
    "\n",
    "\n",
    "# org_dict = create_dict('organization_id', copy)\n",
    "\n",
    "\n",
    "\n",
    "# print(list(GTAP_country_dict))\n",
    "# print(org_dict.type)\n",
    "# print(list(copy.columns.values))\n",
    "\n"
   ]
  }
 ],
 "metadata": {
  "kernelspec": {
   "display_name": "Python 3 (ipykernel)",
   "language": "python",
   "name": "python3"
  },
  "language_info": {
   "codemirror_mode": {
    "name": "ipython",
    "version": 3
   },
   "file_extension": ".py",
   "mimetype": "text/x-python",
   "name": "python",
   "nbconvert_exporter": "python",
   "pygments_lexer": "ipython3",
   "version": "3.10.0"
  }
 },
 "nbformat": 4,
 "nbformat_minor": 5
}
