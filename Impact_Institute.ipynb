{
 "cells": [
  {
   "cell_type": "code",
   "execution_count": 35,
   "id": "3f0851ef",
   "metadata": {},
   "outputs": [
    {
     "ename": "SyntaxError",
     "evalue": "invalid syntax (3618001972.py, line 9)",
     "output_type": "error",
     "traceback": [
      "\u001b[0;36m  File \u001b[0;32m\"/var/folders/s_/qtbdy3px3m3_6k7xydrkhbsh0000gn/T/ipykernel_29496/3618001972.py\"\u001b[0;36m, line \u001b[0;32m9\u001b[0m\n\u001b[0;31m    from sklearn preprocessing import Imputer\u001b[0m\n\u001b[0m                 ^\u001b[0m\n\u001b[0;31mSyntaxError\u001b[0m\u001b[0;31m:\u001b[0m invalid syntax\n"
     ]
    }
   ],
   "source": [
    "# import TensorFlow as TF\n",
    "import pandas as pd\n",
    "import math\n",
    "import matplotlib.pylab as plt\n",
    "import numpy as np\n",
    "\n",
    "from sklearn import datasets\n",
    "from sklearn.impute import SimpleImputer # used for handling missing data\n",
    "from sklearn preprocessing import Imputer"
   ]
  },
  {
   "cell_type": "code",
   "execution_count": 47,
   "id": "a1ac2d5d",
   "metadata": {},
   "outputs": [
    {
     "name": "stdout",
     "output_type": "stream",
     "text": [
      "['Motor vehicles and parts', 'Beverages and tobacco products', 'Vegetables, fruit, nuts', 'Human health and social work activities', 'Forestry', 'Processed rice', 'Oil', 'Food products nec', 'Manufactures nec', 'Chemical products', 'Water', 'Machinery and equipment nec', 'Water transport', 'Trade', 'Animal products nec', 'Wearing apparel', 'Computer, electronic and optical products', 'Metals nec', 'Real estate activities', 'Education', 'Transport nec', 'Other Extraction', 'Rubber and plastic products', 'Financial services nec', 'Ferrous metals', 'Fishing', 'Insurance', 'Sugar cane, sugar beet', 'Null', 'Basic pharmaceutical products', 'Textiles', 'Construction', 'Recreational and other services', 'Petroleum, coal products', 'Coal', 'Warehousing and support activities', 'None', 'Crops nec', 'Accommodation, Food and service activities', 'Mineral products nec', 'Gas', 'Bovine cattle, sheep and goats, horses', 'Transport equipment nec', 'Electricity', 'Electrical equipment', 'Wood products', 'Paper products, publishing', 'Wheat', 'Air transport', 'Business services nec', 'Metal products', 'Communication']\n"
     ]
    }
   ],
   "source": [
    "\n",
    "df = pd.read_csv('data.csv')\n",
    "data_top = df.head()\n",
    "copy = df.copy() \n",
    "\n",
    "# 1 - Remove rows where the target column (Scope1) is NaN.\n",
    "\n",
    "copy = copy[copy['EmissionDataPoints.CO2EquivalentsEmissionDirectScope1'].notna()] # drop all rows with NaN in target column\n",
    "\n",
    "copy = copy.reset_index() \n",
    "\n",
    "\n",
    "\n",
    "# 2 - Replace all NaN from the attribute columns and replace for mean of that column\n",
    "\n",
    "#copy = copy.fillna(copy.mean())\n",
    "#col_names = copy.columns\n",
    "#sub2[col_names].fillna((sub2[col_names].mean()), inplace=True)\n",
    "\n",
    "# 3 - Group rows by organization ID\n",
    "\n",
    "# org_ids = list(copy['GTAP country'])\n",
    "# list_set = set(org_ids)\n",
    "# unique = list(list_set)\n",
    "\n",
    "# copy = copy.groupby(['GTAP country'])\n",
    "\n",
    "# dictionary = {} \n",
    "\n",
    "# for item in unique:\n",
    "#     df_id = copy.get_group(item)\n",
    "#     dictionary[item] = df_id\n",
    "\n",
    "\n",
    "def create_dict(target_var, df): \n",
    "    org_ids = list(df[target_var]) \n",
    "    list_set = set(org_ids) # get unique elements\n",
    "    unique = list(list_set) # place them in a list \n",
    "\n",
    "    df = df.groupby([target_var]) \n",
    "\n",
    "    dictionary = {} \n",
    "\n",
    "    for item in unique:\n",
    "        df_id = df.get_group(item)\n",
    "        dictionary[item] = df_id\n",
    "    \n",
    "    return dictionary\n",
    "    \n",
    "\n",
    "# dictionaries per target variable:\n",
    "\n",
    "GTAP_sector_dict = create_dict('GTAP sector', copy)\n",
    "\n",
    "GTAP_country_dict = create_dict('GTAP country', copy)\n",
    "\n",
    "\n",
    "\n",
    "key_list = list(GTAP_sector_dict.keys())\n",
    "\n",
    "print(key_list)\n",
    "\n",
    "#print(GTAP_sector_dict)\n",
    "\n",
    "# in the dictionary, we want to replace all the NaN of the values for the means of those columns.\n",
    "\n",
    "\n",
    "# # check missing values >> columns with lots of missing values are not useful. \n",
    "# missing_values_df = copy.isnull().sum().sort_values(ascending=False).head()\n",
    "# print(missing_values_df)\n",
    "\n",
    "# # replace NaN in column for mean of column with Imputer \n",
    "# imp = SimpleImputer(missing_values='NaN', strategy='mean')\n",
    "# imp = imp.fit(copy)\n",
    "\n",
    "\n",
    "\n",
    "#print(replace_NaN(GTAP_sector_dict))    \n",
    "\n"
   ]
  },
  {
   "cell_type": "code",
   "execution_count": null,
   "id": "a80a155f",
   "metadata": {},
   "outputs": [],
   "source": []
  },
  {
   "cell_type": "code",
   "execution_count": null,
   "id": "bf88890e",
   "metadata": {},
   "outputs": [],
   "source": []
  }
 ],
 "metadata": {
  "kernelspec": {
   "display_name": "Python 3 (ipykernel)",
   "language": "python",
   "name": "python3"
  },
  "language_info": {
   "codemirror_mode": {
    "name": "ipython",
    "version": 3
   },
   "file_extension": ".py",
   "mimetype": "text/x-python",
   "name": "python",
   "nbconvert_exporter": "python",
   "pygments_lexer": "ipython3",
   "version": "3.10.1"
  }
 },
 "nbformat": 4,
 "nbformat_minor": 5
}
