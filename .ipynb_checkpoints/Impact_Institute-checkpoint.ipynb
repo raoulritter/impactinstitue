{
 "cells": [
  {
   "cell_type": "code",
   "execution_count": 3,
   "metadata": {},
   "outputs": [],
   "source": [
    "# import TensorFlow as TF\n",
    "import pandas as pd\n",
    "import math\n",
    "import matplotlib.pylab as plt\n",
    "import numpy as np\n",
    "\n",
    "from sklearn import datasets\n",
    "from sklearn.impute import SimpleImputer # used for handling missing data\n"
   ]
  },
  {
   "cell_type": "code",
   "execution_count": 4,
   "metadata": {},
   "outputs": [
    {
     "name": "stdout",
     "output_type": "stream",
     "text": [
      "['Motor vehicles and parts', 'Ferrous metals', 'Recreational and other services', 'Human health and social work activities', 'Null', 'Electrical equipment', 'Electricity', 'Basic pharmaceutical products', 'Bovine cattle, sheep and goats, horses', 'Machinery and equipment nec', 'Beverages and tobacco products', 'Mineral products nec', 'Coal', 'Construction', 'Paper products, publishing', 'Wheat', 'Air transport', 'Business services nec', 'Animal products nec', 'Real estate activities', 'Chemical products', 'Insurance', 'Crops nec', 'Wearing apparel', 'Oil', 'Transport equipment nec', 'Warehousing and support activities', 'Metal products', 'Gas', 'None', 'Water transport', 'Metals nec', 'Rubber and plastic products', 'Petroleum, coal products', 'Communication', 'Transport nec', 'Wood products', 'Processed rice', 'Forestry', 'Sugar cane, sugar beet', 'Manufactures nec', 'Trade', 'Fishing', 'Vegetables, fruit, nuts', 'Textiles', 'Financial services nec', 'Computer, electronic and optical products', 'Other Extraction', 'Accommodation, Food and service activities', 'Education', 'Food products nec', 'Water']\n"
     ]
    }
   ],
   "source": [
    "\n",
    "df = pd.read_csv('data.csv')\n",
    "data_top = df.head()\n",
    "copy = df.copy() \n",
    "\n",
    "# 1 - Remove rows where the target column (Scope1) is NaN.\n",
    "\n",
    "copy = copy[copy['EmissionDataPoints.CO2EquivalentsEmissionDirectScope1'].notna()] # drop all rows with NaN in target column\n",
    "\n",
    "copy = copy.reset_index() \n",
    "\n",
    "\n",
    "\n",
    "# 2 - Replace all NaN from the attribute columns and replace for mean of that column\n",
    "\n",
    "#copy = copy.fillna(copy.mean())\n",
    "#col_names = copy.columns\n",
    "#sub2[col_names].fillna((sub2[col_names].mean()), inplace=True)\n",
    "\n",
    "# 3 - Group rows by organization ID\n",
    "\n",
    "# org_ids = list(copy['GTAP country'])\n",
    "# list_set = set(org_ids)\n",
    "# unique = list(list_set)\n",
    "\n",
    "# copy = copy.groupby(['GTAP country'])\n",
    "\n",
    "# dictionary = {} \n",
    "\n",
    "# for item in unique:\n",
    "#     df_id = copy.get_group(item)\n",
    "#     dictionary[item] = df_id\n",
    "\n",
    "\n",
    "def create_dict(target_var, df): \n",
    "    org_ids = list(df[target_var]) \n",
    "    list_set = set(org_ids) # get unique elements\n",
    "    unique = list(list_set) # place them in a list \n",
    "\n",
    "    df = df.groupby([target_var]) \n",
    "\n",
    "    dictionary = {} \n",
    "\n",
    "    for item in unique:\n",
    "        df_id = df.get_group(item)\n",
    "        dictionary[item] = df_id\n",
    "    \n",
    "    return dictionary\n",
    "    \n",
    "\n",
    "# dictionaries per target variable:\n",
    "\n",
    "GTAP_sector_dict = create_dict('GTAP sector', copy)\n",
    "\n",
    "GTAP_country_dict = create_dict('GTAP country', copy)\n",
    "\n",
    "\n",
    "\n",
    "key_list = list(GTAP_sector_dict.keys())\n",
    "\n",
    "print(key_list)\n",
    "\n",
    "#print(GTAP_sector_dict)\n",
    "\n",
    "# in the dictionary, we want to replace all the NaN of the values for the means of those columns.\n",
    "\n",
    "\n",
    "# # check missing values >> columns with lots of missing values are not useful. \n",
    "# missing_values_df = copy.isnull().sum().sort_values(ascending=False).head()\n",
    "# print(missing_values_df)\n",
    "\n",
    "# # replace NaN in column for mean of column with Imputer \n",
    "# imp = SimpleImputer(missing_values='NaN', strategy='mean')\n",
    "# imp = imp.fit(copy)\n",
    "\n",
    "\n",
    "\n",
    "#print(replace_NaN(GTAP_sector_dict))    \n",
    "\n"
   ]
  },
  {
   "cell_type": "code",
   "execution_count": 6,
   "metadata": {},
   "outputs": [
    {
     "name": "stdout",
     "output_type": "stream",
     "text": [
      "0        7.687916\n",
      "1        7.687916\n",
      "2        7.687916\n",
      "3        0.793000\n",
      "4        7.687916\n",
      "           ...   \n",
      "25081    7.687916\n",
      "25082    7.687916\n",
      "25083    7.687916\n",
      "25084    7.687916\n",
      "25085    7.687916\n",
      "Name: EmissionDataPoints.AccidentalSpills, Length: 25086, dtype: float64\n",
      "0        7.687916\n",
      "1        7.687916\n",
      "2        7.687916\n",
      "3        0.793000\n",
      "4        7.687916\n",
      "           ...   \n",
      "25081    7.687916\n",
      "25082    7.687916\n",
      "25083    7.687916\n",
      "25084    7.687916\n",
      "25085    7.687916\n",
      "Name: EmissionDataPoints.AccidentalSpills, Length: 25086, dtype: float64\n"
     ]
    }
   ],
   "source": [
    "# function for filling NaN's\n",
    "def fill_nan(df, column_name):\n",
    "    mean_value=df[column_name].mean()\n",
    "    df[column_name].fillna(value=mean_value, inplace=True)\n",
    "    return df\n"
   ]
  },
  {
   "cell_type": "code",
   "execution_count": null,
   "metadata": {},
   "outputs": [],
   "source": []
  }
 ],
 "metadata": {
  "kernelspec": {
   "display_name": "Python 3",
   "language": "python",
   "name": "python3"
  },
  "language_info": {
   "codemirror_mode": {
    "name": "ipython",
    "version": 3
   },
   "file_extension": ".py",
   "mimetype": "text/x-python",
   "name": "python",
   "nbconvert_exporter": "python",
   "pygments_lexer": "ipython3",
   "version": "3.8.5"
  }
 },
 "nbformat": 4,
 "nbformat_minor": 5
}
