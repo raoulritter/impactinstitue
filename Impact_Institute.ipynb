{
 "cells": [
  {
   "cell_type": "code",
   "execution_count": 1,
   "id": "8f3d1f82",
   "metadata": {},
   "outputs": [],
   "source": [
    "# import TensorFlow as TF\n",
    "import pandas as pd\n",
    "import math\n",
    "import matplotlib.pylab as plt\n",
    "import numpy as np\n",
    "\n",
    "from datetime import datetime\n",
    "\n",
    "from sklearn import datasets, linear_model\n",
    "from sklearn.linear_model import LinearRegression\n",
    "from sklearn.metrics import mean_squared_error, r2_score\n",
    "from sklearn.impute import SimpleImputer # used for handling missing data\n",
    "from sklearn.preprocessing import PolynomialFeatures\n",
    "from sklearn.pipeline import make_pipeline\n",
    "from sklearn.model_selection import train_test_split\n",
    "from sklearn.neural_network import MLPRegressor\n",
    "from sklearn.datasets import make_regression\n",
    "from sklearn.metrics import mean_absolute_error\n"
   ]
  },
  {
   "cell_type": "code",
   "execution_count": 3,
   "id": "e96fd237",
   "metadata": {},
   "outputs": [],
   "source": [
    "\n",
    "df = pd.read_csv('data.csv')\n",
    "data_top = df.head()\n",
    "copy = df.copy() \n",
    "\n",
    "\n",
    "def create_dict(target_var, df): \n",
    "    org_ids = list(df[target_var]) \n",
    "    list_set = set(org_ids) # get unique elements\n",
    "    unique = list(list_set) # place them in a list \n",
    "\n",
    "    df = df.groupby([target_var]) \n",
    "\n",
    "    dictionary = {} \n",
    "\n",
    "    for item in unique:\n",
    "        df_id = df.get_group(item)\n",
    "        dictionary[item] = df_id\n",
    "    \n",
    "    return dictionary\n",
    "\n",
    "def df_clean(df, column_name):\n",
    "    df = df.reset_index(drop=True)\n",
    "    \n",
    "    for i in range(1, len(df[column_name])-2):\n",
    "        if math.isnan(df.at[i, column_name]):\n",
    "            if not math.isnan(df.at[i-1, column_name]):\n",
    "                if not math.isnan(df.at[i+1, column_name]):\n",
    "                    mean = (df.at[i+1, column_name] + df.at[i-1, column_name])/2\n",
    "                    df.at[i, column_name] = mean\n",
    "    \n",
    "    df = df[df[column_name].notna()]\n",
    "    return df\n",
    "\n",
    "def dict_clean_final(dictionary, column_name):\n",
    "    dict_clean = {}\n",
    "    for key in dictionary:\n",
    "        dict_clean[key] = df_clean(dictionary[key], column_name)\n",
    "    return dict_clean"
   ]
  },
  {
   "cell_type": "code",
   "execution_count": 4,
   "id": "83c0fb82",
   "metadata": {},
   "outputs": [],
   "source": [
    "dict_id = create_dict('organization_id', copy)\n",
    "dict_id = dict_clean_final(dict_id, 'EmissionDataPoints.CO2EquivalentsEmissionDirectScope1')"
   ]
  },
  {
   "cell_type": "code",
   "execution_count": 12,
   "id": "24cfb277",
   "metadata": {},
   "outputs": [],
   "source": [
    "#Adds column to df which contains the scaled Emissions based on sector (Assuming sector input) \n",
    "def scale_emissions(df):\n",
    "    df.loc[:,'CO2toRevenue'] = df.loc[:,'EmissionDataPoints.CO2EquivalentsEmissionDirectScope1']*(df.loc[:,'EmissionIndicators.TotalCO2EquivalentsEmissionsToRevenues']/df.loc[:,'EmissionDataPoints.CO2EquivalentsEmissionTotal'])\n",
    "    return df\n",
    "\n",
    "#Takes threshold in order to determine if you want to use sector or org_id\n",
    "# returns true if you need to use sector\n",
    "\n",
    "def sector_or_orgid(orgid, df, threshold = 10):\n",
    "#     len(df[df['organization_id']==orgid])\n",
    "    return len(df[df.loc[:,'organization_id']==orgid]) >= threshold\n",
    "\n",
    "# func: makes predictions for a given org_id\n",
    "# params: a dict of all org_id's as keys with their corresponding df's as values, and a specific org_id\n",
    "# returns: the predictions and a plot of the predictions \n",
    "def predict(dictionary, orgid): \n",
    "    # decide wether to use sector or org_id for predictions:\n",
    "    if sector_or_orgid(orgid, dictionary[orgid]):      \n",
    "        print('predictions based on orgid')\n",
    "        df = dictionary[orgid]\n",
    "        df = df_clean(df, 'StatementDetails.FinancialPeriodFiscalYear')\n",
    "        df = df_clean(df, 'EmissionDataPoints.CO2EquivalentsEmissionDirectScope1')\n",
    "        X = df.loc[:, ['StatementDetails.FinancialPeriodFiscalYear']]\n",
    "        X = np.array(X)\n",
    "        Y = df.loc[:,'EmissionDataPoints.CO2EquivalentsEmissionDirectScope1']\n",
    "        title = 'Plot of emissions for company: ' + str(orgid)\n",
    "        y_label = \"CO2 emission\"\n",
    "    else: \n",
    "        print('predictions based on sector (using scaled data)')\n",
    "        sector = copy['GTAP sector'].loc[orgid]\n",
    "        sector_dict = create_dict('GTAP sector', copy)\n",
    "        # adding a column with scaled emissions\n",
    "        df_sector = scale_emissions(sector_dict[sector])\n",
    "        df_sector = df_clean(df_sector, 'CO2toRevenue')\n",
    "        X = df_sector.loc[:, ['StatementDetails.FinancialPeriodFiscalYear']]\n",
    "        # use scaled emissions as target instead of scope1\n",
    "        Y = df_sector.loc[:,'CO2toRevenue']\n",
    "        title = 'Emissions for all companies in the sector: ' + sector\n",
    "        y_label = 'CO2 emission per revenue'\n",
    "    \n",
    "    X_train, X_test, Y_train, Y_test = train_test_split(X,Y, test_size=0.33, random_state=42)\n",
    "    degree = 1\n",
    "    polyreg=make_pipeline(PolynomialFeatures(degree), LinearRegression())\n",
    "    polyreg.fit(X_train,Y_train)\n",
    "    predictions = polyreg.predict(X_test)\n",
    "    mean_abs_error = mean_absolute_error(Y_test, predictions)\n",
    "#     print(\"Mean absolute error: %.2f\" % mean_absolute_error(Y_test, predictions))\n",
    "    # The coefficient of determination: 1 is perfect prediction\n",
    "#     print(\"Coefficient of determination: %.2f\" % r2_score(Y_test, predictions))\n",
    "#     plt.plot(X_test, predictions, label='prediction')\n",
    "#     plt.scatter(X_test, Y_test, label='test data')\n",
    "#     #X_test[:, 0]\n",
    "#     plt.xlabel(\"year\")\n",
    "#     plt.ylabel(y_label)\n",
    "#     plt.title(title)\n",
    "#     plt.legend()\n",
    "#     plt.show()\n",
    "    return predictions, mean_abs_error\n"
   ]
  },
  {
   "cell_type": "code",
   "execution_count": 13,
   "id": "2f9aa14d",
   "metadata": {},
   "outputs": [
    {
     "name": "stdout",
     "output_type": "stream",
     "text": [
      "predictions based on orgid\n",
      "predictions based on sector (using scaled data)\n",
      "predictions based on sector (using scaled data)\n"
     ]
    },
    {
     "name": "stderr",
     "output_type": "stream",
     "text": [
      "/var/folders/s_/qtbdy3px3m3_6k7xydrkhbsh0000gn/T/ipykernel_7686/191058123.py:3: SettingWithCopyWarning: \n",
      "A value is trying to be set on a copy of a slice from a DataFrame.\n",
      "Try using .loc[row_indexer,col_indexer] = value instead\n",
      "\n",
      "See the caveats in the documentation: https://pandas.pydata.org/pandas-docs/stable/user_guide/indexing.html#returning-a-view-versus-a-copy\n",
      "  df.loc[:,'CO2toRevenue'] = df.loc[:,'EmissionDataPoints.CO2EquivalentsEmissionDirectScope1']*(df.loc[:,'EmissionIndicators.TotalCO2EquivalentsEmissionsToRevenues']/df.loc[:,'EmissionDataPoints.CO2EquivalentsEmissionTotal'])\n",
      "/var/folders/s_/qtbdy3px3m3_6k7xydrkhbsh0000gn/T/ipykernel_7686/191058123.py:3: SettingWithCopyWarning: \n",
      "A value is trying to be set on a copy of a slice from a DataFrame.\n",
      "Try using .loc[row_indexer,col_indexer] = value instead\n",
      "\n",
      "See the caveats in the documentation: https://pandas.pydata.org/pandas-docs/stable/user_guide/indexing.html#returning-a-view-versus-a-copy\n",
      "  df.loc[:,'CO2toRevenue'] = df.loc[:,'EmissionDataPoints.CO2EquivalentsEmissionDirectScope1']*(df.loc[:,'EmissionIndicators.TotalCO2EquivalentsEmissionsToRevenues']/df.loc[:,'EmissionDataPoints.CO2EquivalentsEmissionTotal'])\n"
     ]
    },
    {
     "name": "stdout",
     "output_type": "stream",
     "text": [
      "predictions based on sector (using scaled data)\n",
      "predictions based on sector (using scaled data)\n"
     ]
    },
    {
     "name": "stderr",
     "output_type": "stream",
     "text": [
      "/var/folders/s_/qtbdy3px3m3_6k7xydrkhbsh0000gn/T/ipykernel_7686/191058123.py:3: SettingWithCopyWarning: \n",
      "A value is trying to be set on a copy of a slice from a DataFrame.\n",
      "Try using .loc[row_indexer,col_indexer] = value instead\n",
      "\n",
      "See the caveats in the documentation: https://pandas.pydata.org/pandas-docs/stable/user_guide/indexing.html#returning-a-view-versus-a-copy\n",
      "  df.loc[:,'CO2toRevenue'] = df.loc[:,'EmissionDataPoints.CO2EquivalentsEmissionDirectScope1']*(df.loc[:,'EmissionIndicators.TotalCO2EquivalentsEmissionsToRevenues']/df.loc[:,'EmissionDataPoints.CO2EquivalentsEmissionTotal'])\n",
      "/var/folders/s_/qtbdy3px3m3_6k7xydrkhbsh0000gn/T/ipykernel_7686/191058123.py:3: SettingWithCopyWarning: \n",
      "A value is trying to be set on a copy of a slice from a DataFrame.\n",
      "Try using .loc[row_indexer,col_indexer] = value instead\n",
      "\n",
      "See the caveats in the documentation: https://pandas.pydata.org/pandas-docs/stable/user_guide/indexing.html#returning-a-view-versus-a-copy\n",
      "  df.loc[:,'CO2toRevenue'] = df.loc[:,'EmissionDataPoints.CO2EquivalentsEmissionDirectScope1']*(df.loc[:,'EmissionIndicators.TotalCO2EquivalentsEmissionsToRevenues']/df.loc[:,'EmissionDataPoints.CO2EquivalentsEmissionTotal'])\n"
     ]
    },
    {
     "name": "stdout",
     "output_type": "stream",
     "text": [
      "predictions based on sector (using scaled data)\n",
      "predictions based on sector (using scaled data)\n"
     ]
    },
    {
     "name": "stderr",
     "output_type": "stream",
     "text": [
      "/var/folders/s_/qtbdy3px3m3_6k7xydrkhbsh0000gn/T/ipykernel_7686/191058123.py:3: SettingWithCopyWarning: \n",
      "A value is trying to be set on a copy of a slice from a DataFrame.\n",
      "Try using .loc[row_indexer,col_indexer] = value instead\n",
      "\n",
      "See the caveats in the documentation: https://pandas.pydata.org/pandas-docs/stable/user_guide/indexing.html#returning-a-view-versus-a-copy\n",
      "  df.loc[:,'CO2toRevenue'] = df.loc[:,'EmissionDataPoints.CO2EquivalentsEmissionDirectScope1']*(df.loc[:,'EmissionIndicators.TotalCO2EquivalentsEmissionsToRevenues']/df.loc[:,'EmissionDataPoints.CO2EquivalentsEmissionTotal'])\n",
      "/var/folders/s_/qtbdy3px3m3_6k7xydrkhbsh0000gn/T/ipykernel_7686/191058123.py:3: SettingWithCopyWarning: \n",
      "A value is trying to be set on a copy of a slice from a DataFrame.\n",
      "Try using .loc[row_indexer,col_indexer] = value instead\n",
      "\n",
      "See the caveats in the documentation: https://pandas.pydata.org/pandas-docs/stable/user_guide/indexing.html#returning-a-view-versus-a-copy\n",
      "  df.loc[:,'CO2toRevenue'] = df.loc[:,'EmissionDataPoints.CO2EquivalentsEmissionDirectScope1']*(df.loc[:,'EmissionIndicators.TotalCO2EquivalentsEmissionsToRevenues']/df.loc[:,'EmissionDataPoints.CO2EquivalentsEmissionTotal'])\n"
     ]
    },
    {
     "name": "stdout",
     "output_type": "stream",
     "text": [
      "predictions based on sector (using scaled data)\n",
      "predictions based on sector (using scaled data)\n"
     ]
    },
    {
     "name": "stderr",
     "output_type": "stream",
     "text": [
      "/var/folders/s_/qtbdy3px3m3_6k7xydrkhbsh0000gn/T/ipykernel_7686/191058123.py:3: SettingWithCopyWarning: \n",
      "A value is trying to be set on a copy of a slice from a DataFrame.\n",
      "Try using .loc[row_indexer,col_indexer] = value instead\n",
      "\n",
      "See the caveats in the documentation: https://pandas.pydata.org/pandas-docs/stable/user_guide/indexing.html#returning-a-view-versus-a-copy\n",
      "  df.loc[:,'CO2toRevenue'] = df.loc[:,'EmissionDataPoints.CO2EquivalentsEmissionDirectScope1']*(df.loc[:,'EmissionIndicators.TotalCO2EquivalentsEmissionsToRevenues']/df.loc[:,'EmissionDataPoints.CO2EquivalentsEmissionTotal'])\n",
      "/var/folders/s_/qtbdy3px3m3_6k7xydrkhbsh0000gn/T/ipykernel_7686/191058123.py:3: SettingWithCopyWarning: \n",
      "A value is trying to be set on a copy of a slice from a DataFrame.\n",
      "Try using .loc[row_indexer,col_indexer] = value instead\n",
      "\n",
      "See the caveats in the documentation: https://pandas.pydata.org/pandas-docs/stable/user_guide/indexing.html#returning-a-view-versus-a-copy\n",
      "  df.loc[:,'CO2toRevenue'] = df.loc[:,'EmissionDataPoints.CO2EquivalentsEmissionDirectScope1']*(df.loc[:,'EmissionIndicators.TotalCO2EquivalentsEmissionsToRevenues']/df.loc[:,'EmissionDataPoints.CO2EquivalentsEmissionTotal'])\n"
     ]
    },
    {
     "name": "stdout",
     "output_type": "stream",
     "text": [
      "predictions based on sector (using scaled data)\n",
      "predictions based on sector (using scaled data)\n"
     ]
    },
    {
     "name": "stderr",
     "output_type": "stream",
     "text": [
      "/var/folders/s_/qtbdy3px3m3_6k7xydrkhbsh0000gn/T/ipykernel_7686/191058123.py:3: SettingWithCopyWarning: \n",
      "A value is trying to be set on a copy of a slice from a DataFrame.\n",
      "Try using .loc[row_indexer,col_indexer] = value instead\n",
      "\n",
      "See the caveats in the documentation: https://pandas.pydata.org/pandas-docs/stable/user_guide/indexing.html#returning-a-view-versus-a-copy\n",
      "  df.loc[:,'CO2toRevenue'] = df.loc[:,'EmissionDataPoints.CO2EquivalentsEmissionDirectScope1']*(df.loc[:,'EmissionIndicators.TotalCO2EquivalentsEmissionsToRevenues']/df.loc[:,'EmissionDataPoints.CO2EquivalentsEmissionTotal'])\n",
      "/var/folders/s_/qtbdy3px3m3_6k7xydrkhbsh0000gn/T/ipykernel_7686/191058123.py:3: SettingWithCopyWarning: \n",
      "A value is trying to be set on a copy of a slice from a DataFrame.\n",
      "Try using .loc[row_indexer,col_indexer] = value instead\n",
      "\n",
      "See the caveats in the documentation: https://pandas.pydata.org/pandas-docs/stable/user_guide/indexing.html#returning-a-view-versus-a-copy\n",
      "  df.loc[:,'CO2toRevenue'] = df.loc[:,'EmissionDataPoints.CO2EquivalentsEmissionDirectScope1']*(df.loc[:,'EmissionIndicators.TotalCO2EquivalentsEmissionsToRevenues']/df.loc[:,'EmissionDataPoints.CO2EquivalentsEmissionTotal'])\n"
     ]
    },
    {
     "name": "stdout",
     "output_type": "stream",
     "text": [
      "predictions based on sector (using scaled data)\n",
      "predictions based on sector (using scaled data)\n",
      "predictions based on sector (using scaled data)\n"
     ]
    },
    {
     "name": "stderr",
     "output_type": "stream",
     "text": [
      "/var/folders/s_/qtbdy3px3m3_6k7xydrkhbsh0000gn/T/ipykernel_7686/191058123.py:3: SettingWithCopyWarning: \n",
      "A value is trying to be set on a copy of a slice from a DataFrame.\n",
      "Try using .loc[row_indexer,col_indexer] = value instead\n",
      "\n",
      "See the caveats in the documentation: https://pandas.pydata.org/pandas-docs/stable/user_guide/indexing.html#returning-a-view-versus-a-copy\n",
      "  df.loc[:,'CO2toRevenue'] = df.loc[:,'EmissionDataPoints.CO2EquivalentsEmissionDirectScope1']*(df.loc[:,'EmissionIndicators.TotalCO2EquivalentsEmissionsToRevenues']/df.loc[:,'EmissionDataPoints.CO2EquivalentsEmissionTotal'])\n",
      "/var/folders/s_/qtbdy3px3m3_6k7xydrkhbsh0000gn/T/ipykernel_7686/191058123.py:3: SettingWithCopyWarning: \n",
      "A value is trying to be set on a copy of a slice from a DataFrame.\n",
      "Try using .loc[row_indexer,col_indexer] = value instead\n",
      "\n",
      "See the caveats in the documentation: https://pandas.pydata.org/pandas-docs/stable/user_guide/indexing.html#returning-a-view-versus-a-copy\n",
      "  df.loc[:,'CO2toRevenue'] = df.loc[:,'EmissionDataPoints.CO2EquivalentsEmissionDirectScope1']*(df.loc[:,'EmissionIndicators.TotalCO2EquivalentsEmissionsToRevenues']/df.loc[:,'EmissionDataPoints.CO2EquivalentsEmissionTotal'])\n",
      "/var/folders/s_/qtbdy3px3m3_6k7xydrkhbsh0000gn/T/ipykernel_7686/191058123.py:3: SettingWithCopyWarning: \n",
      "A value is trying to be set on a copy of a slice from a DataFrame.\n",
      "Try using .loc[row_indexer,col_indexer] = value instead\n",
      "\n",
      "See the caveats in the documentation: https://pandas.pydata.org/pandas-docs/stable/user_guide/indexing.html#returning-a-view-versus-a-copy\n",
      "  df.loc[:,'CO2toRevenue'] = df.loc[:,'EmissionDataPoints.CO2EquivalentsEmissionDirectScope1']*(df.loc[:,'EmissionIndicators.TotalCO2EquivalentsEmissionsToRevenues']/df.loc[:,'EmissionDataPoints.CO2EquivalentsEmissionTotal'])\n"
     ]
    },
    {
     "name": "stdout",
     "output_type": "stream",
     "text": [
      "predictions based on sector (using scaled data)\n",
      "predictions based on sector (using scaled data)\n"
     ]
    },
    {
     "name": "stderr",
     "output_type": "stream",
     "text": [
      "/var/folders/s_/qtbdy3px3m3_6k7xydrkhbsh0000gn/T/ipykernel_7686/191058123.py:3: SettingWithCopyWarning: \n",
      "A value is trying to be set on a copy of a slice from a DataFrame.\n",
      "Try using .loc[row_indexer,col_indexer] = value instead\n",
      "\n",
      "See the caveats in the documentation: https://pandas.pydata.org/pandas-docs/stable/user_guide/indexing.html#returning-a-view-versus-a-copy\n",
      "  df.loc[:,'CO2toRevenue'] = df.loc[:,'EmissionDataPoints.CO2EquivalentsEmissionDirectScope1']*(df.loc[:,'EmissionIndicators.TotalCO2EquivalentsEmissionsToRevenues']/df.loc[:,'EmissionDataPoints.CO2EquivalentsEmissionTotal'])\n",
      "/var/folders/s_/qtbdy3px3m3_6k7xydrkhbsh0000gn/T/ipykernel_7686/191058123.py:3: SettingWithCopyWarning: \n",
      "A value is trying to be set on a copy of a slice from a DataFrame.\n",
      "Try using .loc[row_indexer,col_indexer] = value instead\n",
      "\n",
      "See the caveats in the documentation: https://pandas.pydata.org/pandas-docs/stable/user_guide/indexing.html#returning-a-view-versus-a-copy\n",
      "  df.loc[:,'CO2toRevenue'] = df.loc[:,'EmissionDataPoints.CO2EquivalentsEmissionDirectScope1']*(df.loc[:,'EmissionIndicators.TotalCO2EquivalentsEmissionsToRevenues']/df.loc[:,'EmissionDataPoints.CO2EquivalentsEmissionTotal'])\n"
     ]
    },
    {
     "name": "stdout",
     "output_type": "stream",
     "text": [
      "predictions based on orgid\n",
      "predictions based on sector (using scaled data)\n",
      "predictions based on sector (using scaled data)\n"
     ]
    },
    {
     "name": "stderr",
     "output_type": "stream",
     "text": [
      "/var/folders/s_/qtbdy3px3m3_6k7xydrkhbsh0000gn/T/ipykernel_7686/191058123.py:3: SettingWithCopyWarning: \n",
      "A value is trying to be set on a copy of a slice from a DataFrame.\n",
      "Try using .loc[row_indexer,col_indexer] = value instead\n",
      "\n",
      "See the caveats in the documentation: https://pandas.pydata.org/pandas-docs/stable/user_guide/indexing.html#returning-a-view-versus-a-copy\n",
      "  df.loc[:,'CO2toRevenue'] = df.loc[:,'EmissionDataPoints.CO2EquivalentsEmissionDirectScope1']*(df.loc[:,'EmissionIndicators.TotalCO2EquivalentsEmissionsToRevenues']/df.loc[:,'EmissionDataPoints.CO2EquivalentsEmissionTotal'])\n",
      "/var/folders/s_/qtbdy3px3m3_6k7xydrkhbsh0000gn/T/ipykernel_7686/191058123.py:3: SettingWithCopyWarning: \n",
      "A value is trying to be set on a copy of a slice from a DataFrame.\n",
      "Try using .loc[row_indexer,col_indexer] = value instead\n",
      "\n",
      "See the caveats in the documentation: https://pandas.pydata.org/pandas-docs/stable/user_guide/indexing.html#returning-a-view-versus-a-copy\n",
      "  df.loc[:,'CO2toRevenue'] = df.loc[:,'EmissionDataPoints.CO2EquivalentsEmissionDirectScope1']*(df.loc[:,'EmissionIndicators.TotalCO2EquivalentsEmissionsToRevenues']/df.loc[:,'EmissionDataPoints.CO2EquivalentsEmissionTotal'])\n"
     ]
    },
    {
     "name": "stdout",
     "output_type": "stream",
     "text": [
      "predictions based on sector (using scaled data)\n",
      "predictions based on sector (using scaled data)\n"
     ]
    },
    {
     "name": "stderr",
     "output_type": "stream",
     "text": [
      "/var/folders/s_/qtbdy3px3m3_6k7xydrkhbsh0000gn/T/ipykernel_7686/191058123.py:3: SettingWithCopyWarning: \n",
      "A value is trying to be set on a copy of a slice from a DataFrame.\n",
      "Try using .loc[row_indexer,col_indexer] = value instead\n",
      "\n",
      "See the caveats in the documentation: https://pandas.pydata.org/pandas-docs/stable/user_guide/indexing.html#returning-a-view-versus-a-copy\n",
      "  df.loc[:,'CO2toRevenue'] = df.loc[:,'EmissionDataPoints.CO2EquivalentsEmissionDirectScope1']*(df.loc[:,'EmissionIndicators.TotalCO2EquivalentsEmissionsToRevenues']/df.loc[:,'EmissionDataPoints.CO2EquivalentsEmissionTotal'])\n",
      "/var/folders/s_/qtbdy3px3m3_6k7xydrkhbsh0000gn/T/ipykernel_7686/191058123.py:3: SettingWithCopyWarning: \n",
      "A value is trying to be set on a copy of a slice from a DataFrame.\n",
      "Try using .loc[row_indexer,col_indexer] = value instead\n",
      "\n",
      "See the caveats in the documentation: https://pandas.pydata.org/pandas-docs/stable/user_guide/indexing.html#returning-a-view-versus-a-copy\n",
      "  df.loc[:,'CO2toRevenue'] = df.loc[:,'EmissionDataPoints.CO2EquivalentsEmissionDirectScope1']*(df.loc[:,'EmissionIndicators.TotalCO2EquivalentsEmissionsToRevenues']/df.loc[:,'EmissionDataPoints.CO2EquivalentsEmissionTotal'])\n"
     ]
    },
    {
     "name": "stdout",
     "output_type": "stream",
     "text": [
      "predictions based on orgid\n",
      "predictions based on sector (using scaled data)\n",
      "predictions based on sector (using scaled data)\n"
     ]
    },
    {
     "name": "stderr",
     "output_type": "stream",
     "text": [
      "/var/folders/s_/qtbdy3px3m3_6k7xydrkhbsh0000gn/T/ipykernel_7686/191058123.py:3: SettingWithCopyWarning: \n",
      "A value is trying to be set on a copy of a slice from a DataFrame.\n",
      "Try using .loc[row_indexer,col_indexer] = value instead\n",
      "\n",
      "See the caveats in the documentation: https://pandas.pydata.org/pandas-docs/stable/user_guide/indexing.html#returning-a-view-versus-a-copy\n",
      "  df.loc[:,'CO2toRevenue'] = df.loc[:,'EmissionDataPoints.CO2EquivalentsEmissionDirectScope1']*(df.loc[:,'EmissionIndicators.TotalCO2EquivalentsEmissionsToRevenues']/df.loc[:,'EmissionDataPoints.CO2EquivalentsEmissionTotal'])\n",
      "/var/folders/s_/qtbdy3px3m3_6k7xydrkhbsh0000gn/T/ipykernel_7686/191058123.py:3: SettingWithCopyWarning: \n",
      "A value is trying to be set on a copy of a slice from a DataFrame.\n",
      "Try using .loc[row_indexer,col_indexer] = value instead\n",
      "\n",
      "See the caveats in the documentation: https://pandas.pydata.org/pandas-docs/stable/user_guide/indexing.html#returning-a-view-versus-a-copy\n",
      "  df.loc[:,'CO2toRevenue'] = df.loc[:,'EmissionDataPoints.CO2EquivalentsEmissionDirectScope1']*(df.loc[:,'EmissionIndicators.TotalCO2EquivalentsEmissionsToRevenues']/df.loc[:,'EmissionDataPoints.CO2EquivalentsEmissionTotal'])\n"
     ]
    },
    {
     "name": "stdout",
     "output_type": "stream",
     "text": [
      "predictions based on sector (using scaled data)\n",
      "predictions based on sector (using scaled data)\n"
     ]
    },
    {
     "name": "stderr",
     "output_type": "stream",
     "text": [
      "/var/folders/s_/qtbdy3px3m3_6k7xydrkhbsh0000gn/T/ipykernel_7686/191058123.py:3: SettingWithCopyWarning: \n",
      "A value is trying to be set on a copy of a slice from a DataFrame.\n",
      "Try using .loc[row_indexer,col_indexer] = value instead\n",
      "\n",
      "See the caveats in the documentation: https://pandas.pydata.org/pandas-docs/stable/user_guide/indexing.html#returning-a-view-versus-a-copy\n",
      "  df.loc[:,'CO2toRevenue'] = df.loc[:,'EmissionDataPoints.CO2EquivalentsEmissionDirectScope1']*(df.loc[:,'EmissionIndicators.TotalCO2EquivalentsEmissionsToRevenues']/df.loc[:,'EmissionDataPoints.CO2EquivalentsEmissionTotal'])\n",
      "/var/folders/s_/qtbdy3px3m3_6k7xydrkhbsh0000gn/T/ipykernel_7686/191058123.py:3: SettingWithCopyWarning: \n",
      "A value is trying to be set on a copy of a slice from a DataFrame.\n",
      "Try using .loc[row_indexer,col_indexer] = value instead\n",
      "\n",
      "See the caveats in the documentation: https://pandas.pydata.org/pandas-docs/stable/user_guide/indexing.html#returning-a-view-versus-a-copy\n",
      "  df.loc[:,'CO2toRevenue'] = df.loc[:,'EmissionDataPoints.CO2EquivalentsEmissionDirectScope1']*(df.loc[:,'EmissionIndicators.TotalCO2EquivalentsEmissionsToRevenues']/df.loc[:,'EmissionDataPoints.CO2EquivalentsEmissionTotal'])\n"
     ]
    },
    {
     "name": "stdout",
     "output_type": "stream",
     "text": [
      "predictions based on orgid\n",
      "predictions based on sector (using scaled data)\n",
      "predictions based on sector (using scaled data)\n"
     ]
    },
    {
     "name": "stderr",
     "output_type": "stream",
     "text": [
      "/var/folders/s_/qtbdy3px3m3_6k7xydrkhbsh0000gn/T/ipykernel_7686/191058123.py:3: SettingWithCopyWarning: \n",
      "A value is trying to be set on a copy of a slice from a DataFrame.\n",
      "Try using .loc[row_indexer,col_indexer] = value instead\n",
      "\n",
      "See the caveats in the documentation: https://pandas.pydata.org/pandas-docs/stable/user_guide/indexing.html#returning-a-view-versus-a-copy\n",
      "  df.loc[:,'CO2toRevenue'] = df.loc[:,'EmissionDataPoints.CO2EquivalentsEmissionDirectScope1']*(df.loc[:,'EmissionIndicators.TotalCO2EquivalentsEmissionsToRevenues']/df.loc[:,'EmissionDataPoints.CO2EquivalentsEmissionTotal'])\n",
      "/var/folders/s_/qtbdy3px3m3_6k7xydrkhbsh0000gn/T/ipykernel_7686/191058123.py:3: SettingWithCopyWarning: \n",
      "A value is trying to be set on a copy of a slice from a DataFrame.\n",
      "Try using .loc[row_indexer,col_indexer] = value instead\n",
      "\n",
      "See the caveats in the documentation: https://pandas.pydata.org/pandas-docs/stable/user_guide/indexing.html#returning-a-view-versus-a-copy\n",
      "  df.loc[:,'CO2toRevenue'] = df.loc[:,'EmissionDataPoints.CO2EquivalentsEmissionDirectScope1']*(df.loc[:,'EmissionIndicators.TotalCO2EquivalentsEmissionsToRevenues']/df.loc[:,'EmissionDataPoints.CO2EquivalentsEmissionTotal'])\n"
     ]
    },
    {
     "name": "stdout",
     "output_type": "stream",
     "text": [
      "predictions based on sector (using scaled data)\n",
      "predictions based on sector (using scaled data)\n"
     ]
    },
    {
     "name": "stderr",
     "output_type": "stream",
     "text": [
      "/var/folders/s_/qtbdy3px3m3_6k7xydrkhbsh0000gn/T/ipykernel_7686/191058123.py:3: SettingWithCopyWarning: \n",
      "A value is trying to be set on a copy of a slice from a DataFrame.\n",
      "Try using .loc[row_indexer,col_indexer] = value instead\n",
      "\n",
      "See the caveats in the documentation: https://pandas.pydata.org/pandas-docs/stable/user_guide/indexing.html#returning-a-view-versus-a-copy\n",
      "  df.loc[:,'CO2toRevenue'] = df.loc[:,'EmissionDataPoints.CO2EquivalentsEmissionDirectScope1']*(df.loc[:,'EmissionIndicators.TotalCO2EquivalentsEmissionsToRevenues']/df.loc[:,'EmissionDataPoints.CO2EquivalentsEmissionTotal'])\n",
      "/var/folders/s_/qtbdy3px3m3_6k7xydrkhbsh0000gn/T/ipykernel_7686/191058123.py:3: SettingWithCopyWarning: \n",
      "A value is trying to be set on a copy of a slice from a DataFrame.\n",
      "Try using .loc[row_indexer,col_indexer] = value instead\n",
      "\n",
      "See the caveats in the documentation: https://pandas.pydata.org/pandas-docs/stable/user_guide/indexing.html#returning-a-view-versus-a-copy\n",
      "  df.loc[:,'CO2toRevenue'] = df.loc[:,'EmissionDataPoints.CO2EquivalentsEmissionDirectScope1']*(df.loc[:,'EmissionIndicators.TotalCO2EquivalentsEmissionsToRevenues']/df.loc[:,'EmissionDataPoints.CO2EquivalentsEmissionTotal'])\n"
     ]
    },
    {
     "name": "stdout",
     "output_type": "stream",
     "text": [
      "predictions based on sector (using scaled data)\n",
      "predictions based on sector (using scaled data)\n"
     ]
    },
    {
     "name": "stderr",
     "output_type": "stream",
     "text": [
      "/var/folders/s_/qtbdy3px3m3_6k7xydrkhbsh0000gn/T/ipykernel_7686/191058123.py:3: SettingWithCopyWarning: \n",
      "A value is trying to be set on a copy of a slice from a DataFrame.\n",
      "Try using .loc[row_indexer,col_indexer] = value instead\n",
      "\n",
      "See the caveats in the documentation: https://pandas.pydata.org/pandas-docs/stable/user_guide/indexing.html#returning-a-view-versus-a-copy\n",
      "  df.loc[:,'CO2toRevenue'] = df.loc[:,'EmissionDataPoints.CO2EquivalentsEmissionDirectScope1']*(df.loc[:,'EmissionIndicators.TotalCO2EquivalentsEmissionsToRevenues']/df.loc[:,'EmissionDataPoints.CO2EquivalentsEmissionTotal'])\n",
      "/var/folders/s_/qtbdy3px3m3_6k7xydrkhbsh0000gn/T/ipykernel_7686/191058123.py:3: SettingWithCopyWarning: \n",
      "A value is trying to be set on a copy of a slice from a DataFrame.\n",
      "Try using .loc[row_indexer,col_indexer] = value instead\n",
      "\n",
      "See the caveats in the documentation: https://pandas.pydata.org/pandas-docs/stable/user_guide/indexing.html#returning-a-view-versus-a-copy\n",
      "  df.loc[:,'CO2toRevenue'] = df.loc[:,'EmissionDataPoints.CO2EquivalentsEmissionDirectScope1']*(df.loc[:,'EmissionIndicators.TotalCO2EquivalentsEmissionsToRevenues']/df.loc[:,'EmissionDataPoints.CO2EquivalentsEmissionTotal'])\n"
     ]
    },
    {
     "name": "stdout",
     "output_type": "stream",
     "text": [
      "predictions based on sector (using scaled data)\n",
      "predictions based on sector (using scaled data)\n"
     ]
    },
    {
     "name": "stderr",
     "output_type": "stream",
     "text": [
      "/var/folders/s_/qtbdy3px3m3_6k7xydrkhbsh0000gn/T/ipykernel_7686/191058123.py:3: SettingWithCopyWarning: \n",
      "A value is trying to be set on a copy of a slice from a DataFrame.\n",
      "Try using .loc[row_indexer,col_indexer] = value instead\n",
      "\n",
      "See the caveats in the documentation: https://pandas.pydata.org/pandas-docs/stable/user_guide/indexing.html#returning-a-view-versus-a-copy\n",
      "  df.loc[:,'CO2toRevenue'] = df.loc[:,'EmissionDataPoints.CO2EquivalentsEmissionDirectScope1']*(df.loc[:,'EmissionIndicators.TotalCO2EquivalentsEmissionsToRevenues']/df.loc[:,'EmissionDataPoints.CO2EquivalentsEmissionTotal'])\n",
      "/var/folders/s_/qtbdy3px3m3_6k7xydrkhbsh0000gn/T/ipykernel_7686/191058123.py:3: SettingWithCopyWarning: \n",
      "A value is trying to be set on a copy of a slice from a DataFrame.\n",
      "Try using .loc[row_indexer,col_indexer] = value instead\n",
      "\n",
      "See the caveats in the documentation: https://pandas.pydata.org/pandas-docs/stable/user_guide/indexing.html#returning-a-view-versus-a-copy\n",
      "  df.loc[:,'CO2toRevenue'] = df.loc[:,'EmissionDataPoints.CO2EquivalentsEmissionDirectScope1']*(df.loc[:,'EmissionIndicators.TotalCO2EquivalentsEmissionsToRevenues']/df.loc[:,'EmissionDataPoints.CO2EquivalentsEmissionTotal'])\n"
     ]
    },
    {
     "name": "stdout",
     "output_type": "stream",
     "text": [
      "predictions based on orgid\n",
      "predictions based on sector (using scaled data)\n",
      "predictions based on orgid\n",
      "predictions based on orgid\n",
      "predictions based on orgid\n",
      "predictions based on orgid\n",
      "predictions based on orgid\n",
      "predictions based on orgid\n",
      "predictions based on sector (using scaled data)\n",
      "predictions based on sector (using scaled data)\n"
     ]
    },
    {
     "name": "stderr",
     "output_type": "stream",
     "text": [
      "/var/folders/s_/qtbdy3px3m3_6k7xydrkhbsh0000gn/T/ipykernel_7686/191058123.py:3: SettingWithCopyWarning: \n",
      "A value is trying to be set on a copy of a slice from a DataFrame.\n",
      "Try using .loc[row_indexer,col_indexer] = value instead\n",
      "\n",
      "See the caveats in the documentation: https://pandas.pydata.org/pandas-docs/stable/user_guide/indexing.html#returning-a-view-versus-a-copy\n",
      "  df.loc[:,'CO2toRevenue'] = df.loc[:,'EmissionDataPoints.CO2EquivalentsEmissionDirectScope1']*(df.loc[:,'EmissionIndicators.TotalCO2EquivalentsEmissionsToRevenues']/df.loc[:,'EmissionDataPoints.CO2EquivalentsEmissionTotal'])\n",
      "/var/folders/s_/qtbdy3px3m3_6k7xydrkhbsh0000gn/T/ipykernel_7686/191058123.py:3: SettingWithCopyWarning: \n",
      "A value is trying to be set on a copy of a slice from a DataFrame.\n",
      "Try using .loc[row_indexer,col_indexer] = value instead\n",
      "\n",
      "See the caveats in the documentation: https://pandas.pydata.org/pandas-docs/stable/user_guide/indexing.html#returning-a-view-versus-a-copy\n",
      "  df.loc[:,'CO2toRevenue'] = df.loc[:,'EmissionDataPoints.CO2EquivalentsEmissionDirectScope1']*(df.loc[:,'EmissionIndicators.TotalCO2EquivalentsEmissionsToRevenues']/df.loc[:,'EmissionDataPoints.CO2EquivalentsEmissionTotal'])\n",
      "/var/folders/s_/qtbdy3px3m3_6k7xydrkhbsh0000gn/T/ipykernel_7686/191058123.py:3: SettingWithCopyWarning: \n",
      "A value is trying to be set on a copy of a slice from a DataFrame.\n",
      "Try using .loc[row_indexer,col_indexer] = value instead\n",
      "\n",
      "See the caveats in the documentation: https://pandas.pydata.org/pandas-docs/stable/user_guide/indexing.html#returning-a-view-versus-a-copy\n",
      "  df.loc[:,'CO2toRevenue'] = df.loc[:,'EmissionDataPoints.CO2EquivalentsEmissionDirectScope1']*(df.loc[:,'EmissionIndicators.TotalCO2EquivalentsEmissionsToRevenues']/df.loc[:,'EmissionDataPoints.CO2EquivalentsEmissionTotal'])\n"
     ]
    },
    {
     "name": "stdout",
     "output_type": "stream",
     "text": [
      "predictions based on sector (using scaled data)\n",
      "predictions based on orgid\n",
      "predictions based on sector (using scaled data)\n"
     ]
    },
    {
     "name": "stderr",
     "output_type": "stream",
     "text": [
      "/var/folders/s_/qtbdy3px3m3_6k7xydrkhbsh0000gn/T/ipykernel_7686/191058123.py:3: SettingWithCopyWarning: \n",
      "A value is trying to be set on a copy of a slice from a DataFrame.\n",
      "Try using .loc[row_indexer,col_indexer] = value instead\n",
      "\n",
      "See the caveats in the documentation: https://pandas.pydata.org/pandas-docs/stable/user_guide/indexing.html#returning-a-view-versus-a-copy\n",
      "  df.loc[:,'CO2toRevenue'] = df.loc[:,'EmissionDataPoints.CO2EquivalentsEmissionDirectScope1']*(df.loc[:,'EmissionIndicators.TotalCO2EquivalentsEmissionsToRevenues']/df.loc[:,'EmissionDataPoints.CO2EquivalentsEmissionTotal'])\n",
      "/var/folders/s_/qtbdy3px3m3_6k7xydrkhbsh0000gn/T/ipykernel_7686/191058123.py:3: SettingWithCopyWarning: \n",
      "A value is trying to be set on a copy of a slice from a DataFrame.\n",
      "Try using .loc[row_indexer,col_indexer] = value instead\n",
      "\n",
      "See the caveats in the documentation: https://pandas.pydata.org/pandas-docs/stable/user_guide/indexing.html#returning-a-view-versus-a-copy\n",
      "  df.loc[:,'CO2toRevenue'] = df.loc[:,'EmissionDataPoints.CO2EquivalentsEmissionDirectScope1']*(df.loc[:,'EmissionIndicators.TotalCO2EquivalentsEmissionsToRevenues']/df.loc[:,'EmissionDataPoints.CO2EquivalentsEmissionTotal'])\n"
     ]
    },
    {
     "name": "stdout",
     "output_type": "stream",
     "text": [
      "predictions based on sector (using scaled data)\n",
      "predictions based on sector (using scaled data)\n",
      "predictions based on sector (using scaled data)\n"
     ]
    },
    {
     "name": "stderr",
     "output_type": "stream",
     "text": [
      "/var/folders/s_/qtbdy3px3m3_6k7xydrkhbsh0000gn/T/ipykernel_7686/191058123.py:3: SettingWithCopyWarning: \n",
      "A value is trying to be set on a copy of a slice from a DataFrame.\n",
      "Try using .loc[row_indexer,col_indexer] = value instead\n",
      "\n",
      "See the caveats in the documentation: https://pandas.pydata.org/pandas-docs/stable/user_guide/indexing.html#returning-a-view-versus-a-copy\n",
      "  df.loc[:,'CO2toRevenue'] = df.loc[:,'EmissionDataPoints.CO2EquivalentsEmissionDirectScope1']*(df.loc[:,'EmissionIndicators.TotalCO2EquivalentsEmissionsToRevenues']/df.loc[:,'EmissionDataPoints.CO2EquivalentsEmissionTotal'])\n",
      "/var/folders/s_/qtbdy3px3m3_6k7xydrkhbsh0000gn/T/ipykernel_7686/191058123.py:3: SettingWithCopyWarning: \n",
      "A value is trying to be set on a copy of a slice from a DataFrame.\n",
      "Try using .loc[row_indexer,col_indexer] = value instead\n",
      "\n",
      "See the caveats in the documentation: https://pandas.pydata.org/pandas-docs/stable/user_guide/indexing.html#returning-a-view-versus-a-copy\n",
      "  df.loc[:,'CO2toRevenue'] = df.loc[:,'EmissionDataPoints.CO2EquivalentsEmissionDirectScope1']*(df.loc[:,'EmissionIndicators.TotalCO2EquivalentsEmissionsToRevenues']/df.loc[:,'EmissionDataPoints.CO2EquivalentsEmissionTotal'])\n",
      "/var/folders/s_/qtbdy3px3m3_6k7xydrkhbsh0000gn/T/ipykernel_7686/191058123.py:3: SettingWithCopyWarning: \n",
      "A value is trying to be set on a copy of a slice from a DataFrame.\n",
      "Try using .loc[row_indexer,col_indexer] = value instead\n",
      "\n",
      "See the caveats in the documentation: https://pandas.pydata.org/pandas-docs/stable/user_guide/indexing.html#returning-a-view-versus-a-copy\n",
      "  df.loc[:,'CO2toRevenue'] = df.loc[:,'EmissionDataPoints.CO2EquivalentsEmissionDirectScope1']*(df.loc[:,'EmissionIndicators.TotalCO2EquivalentsEmissionsToRevenues']/df.loc[:,'EmissionDataPoints.CO2EquivalentsEmissionTotal'])\n"
     ]
    },
    {
     "name": "stdout",
     "output_type": "stream",
     "text": [
      "predictions based on orgid\n",
      "predictions based on sector (using scaled data)\n",
      "predictions based on sector (using scaled data)\n",
      "predictions based on sector (using scaled data)\n"
     ]
    },
    {
     "name": "stderr",
     "output_type": "stream",
     "text": [
      "/var/folders/s_/qtbdy3px3m3_6k7xydrkhbsh0000gn/T/ipykernel_7686/191058123.py:3: SettingWithCopyWarning: \n",
      "A value is trying to be set on a copy of a slice from a DataFrame.\n",
      "Try using .loc[row_indexer,col_indexer] = value instead\n",
      "\n",
      "See the caveats in the documentation: https://pandas.pydata.org/pandas-docs/stable/user_guide/indexing.html#returning-a-view-versus-a-copy\n",
      "  df.loc[:,'CO2toRevenue'] = df.loc[:,'EmissionDataPoints.CO2EquivalentsEmissionDirectScope1']*(df.loc[:,'EmissionIndicators.TotalCO2EquivalentsEmissionsToRevenues']/df.loc[:,'EmissionDataPoints.CO2EquivalentsEmissionTotal'])\n",
      "/var/folders/s_/qtbdy3px3m3_6k7xydrkhbsh0000gn/T/ipykernel_7686/191058123.py:3: SettingWithCopyWarning: \n",
      "A value is trying to be set on a copy of a slice from a DataFrame.\n",
      "Try using .loc[row_indexer,col_indexer] = value instead\n",
      "\n",
      "See the caveats in the documentation: https://pandas.pydata.org/pandas-docs/stable/user_guide/indexing.html#returning-a-view-versus-a-copy\n",
      "  df.loc[:,'CO2toRevenue'] = df.loc[:,'EmissionDataPoints.CO2EquivalentsEmissionDirectScope1']*(df.loc[:,'EmissionIndicators.TotalCO2EquivalentsEmissionsToRevenues']/df.loc[:,'EmissionDataPoints.CO2EquivalentsEmissionTotal'])\n",
      "/var/folders/s_/qtbdy3px3m3_6k7xydrkhbsh0000gn/T/ipykernel_7686/191058123.py:3: SettingWithCopyWarning: \n",
      "A value is trying to be set on a copy of a slice from a DataFrame.\n",
      "Try using .loc[row_indexer,col_indexer] = value instead\n",
      "\n",
      "See the caveats in the documentation: https://pandas.pydata.org/pandas-docs/stable/user_guide/indexing.html#returning-a-view-versus-a-copy\n",
      "  df.loc[:,'CO2toRevenue'] = df.loc[:,'EmissionDataPoints.CO2EquivalentsEmissionDirectScope1']*(df.loc[:,'EmissionIndicators.TotalCO2EquivalentsEmissionsToRevenues']/df.loc[:,'EmissionDataPoints.CO2EquivalentsEmissionTotal'])\n",
      "/var/folders/s_/qtbdy3px3m3_6k7xydrkhbsh0000gn/T/ipykernel_7686/191058123.py:3: SettingWithCopyWarning: \n",
      "A value is trying to be set on a copy of a slice from a DataFrame.\n",
      "Try using .loc[row_indexer,col_indexer] = value instead\n",
      "\n",
      "See the caveats in the documentation: https://pandas.pydata.org/pandas-docs/stable/user_guide/indexing.html#returning-a-view-versus-a-copy\n",
      "  df.loc[:,'CO2toRevenue'] = df.loc[:,'EmissionDataPoints.CO2EquivalentsEmissionDirectScope1']*(df.loc[:,'EmissionIndicators.TotalCO2EquivalentsEmissionsToRevenues']/df.loc[:,'EmissionDataPoints.CO2EquivalentsEmissionTotal'])\n"
     ]
    },
    {
     "name": "stdout",
     "output_type": "stream",
     "text": [
      "predictions based on sector (using scaled data)\n",
      "predictions based on orgid\n",
      "predictions based on sector (using scaled data)\n",
      "predictions based on sector (using scaled data)\n"
     ]
    },
    {
     "name": "stderr",
     "output_type": "stream",
     "text": [
      "/var/folders/s_/qtbdy3px3m3_6k7xydrkhbsh0000gn/T/ipykernel_7686/191058123.py:3: SettingWithCopyWarning: \n",
      "A value is trying to be set on a copy of a slice from a DataFrame.\n",
      "Try using .loc[row_indexer,col_indexer] = value instead\n",
      "\n",
      "See the caveats in the documentation: https://pandas.pydata.org/pandas-docs/stable/user_guide/indexing.html#returning-a-view-versus-a-copy\n",
      "  df.loc[:,'CO2toRevenue'] = df.loc[:,'EmissionDataPoints.CO2EquivalentsEmissionDirectScope1']*(df.loc[:,'EmissionIndicators.TotalCO2EquivalentsEmissionsToRevenues']/df.loc[:,'EmissionDataPoints.CO2EquivalentsEmissionTotal'])\n",
      "/var/folders/s_/qtbdy3px3m3_6k7xydrkhbsh0000gn/T/ipykernel_7686/191058123.py:3: SettingWithCopyWarning: \n",
      "A value is trying to be set on a copy of a slice from a DataFrame.\n",
      "Try using .loc[row_indexer,col_indexer] = value instead\n",
      "\n",
      "See the caveats in the documentation: https://pandas.pydata.org/pandas-docs/stable/user_guide/indexing.html#returning-a-view-versus-a-copy\n",
      "  df.loc[:,'CO2toRevenue'] = df.loc[:,'EmissionDataPoints.CO2EquivalentsEmissionDirectScope1']*(df.loc[:,'EmissionIndicators.TotalCO2EquivalentsEmissionsToRevenues']/df.loc[:,'EmissionDataPoints.CO2EquivalentsEmissionTotal'])\n"
     ]
    },
    {
     "name": "stdout",
     "output_type": "stream",
     "text": [
      "predictions based on sector (using scaled data)\n",
      "predictions based on sector (using scaled data)\n",
      "predictions based on orgid\n",
      "predictions based on sector (using scaled data)\n"
     ]
    },
    {
     "name": "stderr",
     "output_type": "stream",
     "text": [
      "/var/folders/s_/qtbdy3px3m3_6k7xydrkhbsh0000gn/T/ipykernel_7686/191058123.py:3: SettingWithCopyWarning: \n",
      "A value is trying to be set on a copy of a slice from a DataFrame.\n",
      "Try using .loc[row_indexer,col_indexer] = value instead\n",
      "\n",
      "See the caveats in the documentation: https://pandas.pydata.org/pandas-docs/stable/user_guide/indexing.html#returning-a-view-versus-a-copy\n",
      "  df.loc[:,'CO2toRevenue'] = df.loc[:,'EmissionDataPoints.CO2EquivalentsEmissionDirectScope1']*(df.loc[:,'EmissionIndicators.TotalCO2EquivalentsEmissionsToRevenues']/df.loc[:,'EmissionDataPoints.CO2EquivalentsEmissionTotal'])\n",
      "/var/folders/s_/qtbdy3px3m3_6k7xydrkhbsh0000gn/T/ipykernel_7686/191058123.py:3: SettingWithCopyWarning: \n",
      "A value is trying to be set on a copy of a slice from a DataFrame.\n",
      "Try using .loc[row_indexer,col_indexer] = value instead\n",
      "\n",
      "See the caveats in the documentation: https://pandas.pydata.org/pandas-docs/stable/user_guide/indexing.html#returning-a-view-versus-a-copy\n",
      "  df.loc[:,'CO2toRevenue'] = df.loc[:,'EmissionDataPoints.CO2EquivalentsEmissionDirectScope1']*(df.loc[:,'EmissionIndicators.TotalCO2EquivalentsEmissionsToRevenues']/df.loc[:,'EmissionDataPoints.CO2EquivalentsEmissionTotal'])\n",
      "/var/folders/s_/qtbdy3px3m3_6k7xydrkhbsh0000gn/T/ipykernel_7686/191058123.py:3: SettingWithCopyWarning: \n",
      "A value is trying to be set on a copy of a slice from a DataFrame.\n",
      "Try using .loc[row_indexer,col_indexer] = value instead\n",
      "\n",
      "See the caveats in the documentation: https://pandas.pydata.org/pandas-docs/stable/user_guide/indexing.html#returning-a-view-versus-a-copy\n",
      "  df.loc[:,'CO2toRevenue'] = df.loc[:,'EmissionDataPoints.CO2EquivalentsEmissionDirectScope1']*(df.loc[:,'EmissionIndicators.TotalCO2EquivalentsEmissionsToRevenues']/df.loc[:,'EmissionDataPoints.CO2EquivalentsEmissionTotal'])\n"
     ]
    },
    {
     "name": "stdout",
     "output_type": "stream",
     "text": [
      "predictions based on orgid\n",
      "predictions based on sector (using scaled data)\n",
      "predictions based on sector (using scaled data)\n",
      "predictions based on sector (using scaled data)\n"
     ]
    },
    {
     "name": "stderr",
     "output_type": "stream",
     "text": [
      "/var/folders/s_/qtbdy3px3m3_6k7xydrkhbsh0000gn/T/ipykernel_7686/191058123.py:3: SettingWithCopyWarning: \n",
      "A value is trying to be set on a copy of a slice from a DataFrame.\n",
      "Try using .loc[row_indexer,col_indexer] = value instead\n",
      "\n",
      "See the caveats in the documentation: https://pandas.pydata.org/pandas-docs/stable/user_guide/indexing.html#returning-a-view-versus-a-copy\n",
      "  df.loc[:,'CO2toRevenue'] = df.loc[:,'EmissionDataPoints.CO2EquivalentsEmissionDirectScope1']*(df.loc[:,'EmissionIndicators.TotalCO2EquivalentsEmissionsToRevenues']/df.loc[:,'EmissionDataPoints.CO2EquivalentsEmissionTotal'])\n",
      "/var/folders/s_/qtbdy3px3m3_6k7xydrkhbsh0000gn/T/ipykernel_7686/191058123.py:3: SettingWithCopyWarning: \n",
      "A value is trying to be set on a copy of a slice from a DataFrame.\n",
      "Try using .loc[row_indexer,col_indexer] = value instead\n",
      "\n",
      "See the caveats in the documentation: https://pandas.pydata.org/pandas-docs/stable/user_guide/indexing.html#returning-a-view-versus-a-copy\n",
      "  df.loc[:,'CO2toRevenue'] = df.loc[:,'EmissionDataPoints.CO2EquivalentsEmissionDirectScope1']*(df.loc[:,'EmissionIndicators.TotalCO2EquivalentsEmissionsToRevenues']/df.loc[:,'EmissionDataPoints.CO2EquivalentsEmissionTotal'])\n",
      "/var/folders/s_/qtbdy3px3m3_6k7xydrkhbsh0000gn/T/ipykernel_7686/191058123.py:3: SettingWithCopyWarning: \n",
      "A value is trying to be set on a copy of a slice from a DataFrame.\n",
      "Try using .loc[row_indexer,col_indexer] = value instead\n",
      "\n",
      "See the caveats in the documentation: https://pandas.pydata.org/pandas-docs/stable/user_guide/indexing.html#returning-a-view-versus-a-copy\n",
      "  df.loc[:,'CO2toRevenue'] = df.loc[:,'EmissionDataPoints.CO2EquivalentsEmissionDirectScope1']*(df.loc[:,'EmissionIndicators.TotalCO2EquivalentsEmissionsToRevenues']/df.loc[:,'EmissionDataPoints.CO2EquivalentsEmissionTotal'])\n"
     ]
    },
    {
     "name": "stdout",
     "output_type": "stream",
     "text": [
      "predictions based on sector (using scaled data)\n",
      "predictions based on orgid\n",
      "predictions based on sector (using scaled data)\n"
     ]
    },
    {
     "name": "stderr",
     "output_type": "stream",
     "text": [
      "/var/folders/s_/qtbdy3px3m3_6k7xydrkhbsh0000gn/T/ipykernel_7686/191058123.py:3: SettingWithCopyWarning: \n",
      "A value is trying to be set on a copy of a slice from a DataFrame.\n",
      "Try using .loc[row_indexer,col_indexer] = value instead\n",
      "\n",
      "See the caveats in the documentation: https://pandas.pydata.org/pandas-docs/stable/user_guide/indexing.html#returning-a-view-versus-a-copy\n",
      "  df.loc[:,'CO2toRevenue'] = df.loc[:,'EmissionDataPoints.CO2EquivalentsEmissionDirectScope1']*(df.loc[:,'EmissionIndicators.TotalCO2EquivalentsEmissionsToRevenues']/df.loc[:,'EmissionDataPoints.CO2EquivalentsEmissionTotal'])\n",
      "/var/folders/s_/qtbdy3px3m3_6k7xydrkhbsh0000gn/T/ipykernel_7686/191058123.py:3: SettingWithCopyWarning: \n",
      "A value is trying to be set on a copy of a slice from a DataFrame.\n",
      "Try using .loc[row_indexer,col_indexer] = value instead\n",
      "\n",
      "See the caveats in the documentation: https://pandas.pydata.org/pandas-docs/stable/user_guide/indexing.html#returning-a-view-versus-a-copy\n",
      "  df.loc[:,'CO2toRevenue'] = df.loc[:,'EmissionDataPoints.CO2EquivalentsEmissionDirectScope1']*(df.loc[:,'EmissionIndicators.TotalCO2EquivalentsEmissionsToRevenues']/df.loc[:,'EmissionDataPoints.CO2EquivalentsEmissionTotal'])\n"
     ]
    },
    {
     "name": "stdout",
     "output_type": "stream",
     "text": [
      "predictions based on sector (using scaled data)\n",
      "predictions based on sector (using scaled data)\n"
     ]
    },
    {
     "name": "stderr",
     "output_type": "stream",
     "text": [
      "/var/folders/s_/qtbdy3px3m3_6k7xydrkhbsh0000gn/T/ipykernel_7686/191058123.py:3: SettingWithCopyWarning: \n",
      "A value is trying to be set on a copy of a slice from a DataFrame.\n",
      "Try using .loc[row_indexer,col_indexer] = value instead\n",
      "\n",
      "See the caveats in the documentation: https://pandas.pydata.org/pandas-docs/stable/user_guide/indexing.html#returning-a-view-versus-a-copy\n",
      "  df.loc[:,'CO2toRevenue'] = df.loc[:,'EmissionDataPoints.CO2EquivalentsEmissionDirectScope1']*(df.loc[:,'EmissionIndicators.TotalCO2EquivalentsEmissionsToRevenues']/df.loc[:,'EmissionDataPoints.CO2EquivalentsEmissionTotal'])\n",
      "/var/folders/s_/qtbdy3px3m3_6k7xydrkhbsh0000gn/T/ipykernel_7686/191058123.py:3: SettingWithCopyWarning: \n",
      "A value is trying to be set on a copy of a slice from a DataFrame.\n",
      "Try using .loc[row_indexer,col_indexer] = value instead\n",
      "\n",
      "See the caveats in the documentation: https://pandas.pydata.org/pandas-docs/stable/user_guide/indexing.html#returning-a-view-versus-a-copy\n",
      "  df.loc[:,'CO2toRevenue'] = df.loc[:,'EmissionDataPoints.CO2EquivalentsEmissionDirectScope1']*(df.loc[:,'EmissionIndicators.TotalCO2EquivalentsEmissionsToRevenues']/df.loc[:,'EmissionDataPoints.CO2EquivalentsEmissionTotal'])\n"
     ]
    },
    {
     "name": "stdout",
     "output_type": "stream",
     "text": [
      "predictions based on orgid\n",
      "predictions based on sector (using scaled data)\n",
      "predictions based on sector (using scaled data)\n"
     ]
    },
    {
     "name": "stderr",
     "output_type": "stream",
     "text": [
      "/var/folders/s_/qtbdy3px3m3_6k7xydrkhbsh0000gn/T/ipykernel_7686/191058123.py:3: SettingWithCopyWarning: \n",
      "A value is trying to be set on a copy of a slice from a DataFrame.\n",
      "Try using .loc[row_indexer,col_indexer] = value instead\n",
      "\n",
      "See the caveats in the documentation: https://pandas.pydata.org/pandas-docs/stable/user_guide/indexing.html#returning-a-view-versus-a-copy\n",
      "  df.loc[:,'CO2toRevenue'] = df.loc[:,'EmissionDataPoints.CO2EquivalentsEmissionDirectScope1']*(df.loc[:,'EmissionIndicators.TotalCO2EquivalentsEmissionsToRevenues']/df.loc[:,'EmissionDataPoints.CO2EquivalentsEmissionTotal'])\n",
      "/var/folders/s_/qtbdy3px3m3_6k7xydrkhbsh0000gn/T/ipykernel_7686/191058123.py:3: SettingWithCopyWarning: \n",
      "A value is trying to be set on a copy of a slice from a DataFrame.\n",
      "Try using .loc[row_indexer,col_indexer] = value instead\n",
      "\n",
      "See the caveats in the documentation: https://pandas.pydata.org/pandas-docs/stable/user_guide/indexing.html#returning-a-view-versus-a-copy\n",
      "  df.loc[:,'CO2toRevenue'] = df.loc[:,'EmissionDataPoints.CO2EquivalentsEmissionDirectScope1']*(df.loc[:,'EmissionIndicators.TotalCO2EquivalentsEmissionsToRevenues']/df.loc[:,'EmissionDataPoints.CO2EquivalentsEmissionTotal'])\n"
     ]
    },
    {
     "name": "stdout",
     "output_type": "stream",
     "text": [
      "predictions based on orgid\n",
      "predictions based on orgid\n",
      "predictions based on orgid\n",
      "predictions based on sector (using scaled data)\n",
      "predictions based on orgid\n",
      "predictions based on orgid\n",
      "predictions based on orgid\n",
      "predictions based on orgid\n",
      "predictions based on sector (using scaled data)\n",
      "predictions based on sector (using scaled data)\n"
     ]
    },
    {
     "name": "stderr",
     "output_type": "stream",
     "text": [
      "/var/folders/s_/qtbdy3px3m3_6k7xydrkhbsh0000gn/T/ipykernel_7686/191058123.py:3: SettingWithCopyWarning: \n",
      "A value is trying to be set on a copy of a slice from a DataFrame.\n",
      "Try using .loc[row_indexer,col_indexer] = value instead\n",
      "\n",
      "See the caveats in the documentation: https://pandas.pydata.org/pandas-docs/stable/user_guide/indexing.html#returning-a-view-versus-a-copy\n",
      "  df.loc[:,'CO2toRevenue'] = df.loc[:,'EmissionDataPoints.CO2EquivalentsEmissionDirectScope1']*(df.loc[:,'EmissionIndicators.TotalCO2EquivalentsEmissionsToRevenues']/df.loc[:,'EmissionDataPoints.CO2EquivalentsEmissionTotal'])\n",
      "/var/folders/s_/qtbdy3px3m3_6k7xydrkhbsh0000gn/T/ipykernel_7686/191058123.py:3: SettingWithCopyWarning: \n",
      "A value is trying to be set on a copy of a slice from a DataFrame.\n",
      "Try using .loc[row_indexer,col_indexer] = value instead\n",
      "\n",
      "See the caveats in the documentation: https://pandas.pydata.org/pandas-docs/stable/user_guide/indexing.html#returning-a-view-versus-a-copy\n",
      "  df.loc[:,'CO2toRevenue'] = df.loc[:,'EmissionDataPoints.CO2EquivalentsEmissionDirectScope1']*(df.loc[:,'EmissionIndicators.TotalCO2EquivalentsEmissionsToRevenues']/df.loc[:,'EmissionDataPoints.CO2EquivalentsEmissionTotal'])\n",
      "/var/folders/s_/qtbdy3px3m3_6k7xydrkhbsh0000gn/T/ipykernel_7686/191058123.py:3: SettingWithCopyWarning: \n",
      "A value is trying to be set on a copy of a slice from a DataFrame.\n",
      "Try using .loc[row_indexer,col_indexer] = value instead\n",
      "\n",
      "See the caveats in the documentation: https://pandas.pydata.org/pandas-docs/stable/user_guide/indexing.html#returning-a-view-versus-a-copy\n",
      "  df.loc[:,'CO2toRevenue'] = df.loc[:,'EmissionDataPoints.CO2EquivalentsEmissionDirectScope1']*(df.loc[:,'EmissionIndicators.TotalCO2EquivalentsEmissionsToRevenues']/df.loc[:,'EmissionDataPoints.CO2EquivalentsEmissionTotal'])\n"
     ]
    },
    {
     "name": "stdout",
     "output_type": "stream",
     "text": [
      "predictions based on sector (using scaled data)\n",
      "predictions based on orgid\n",
      "predictions based on sector (using scaled data)\n"
     ]
    },
    {
     "name": "stderr",
     "output_type": "stream",
     "text": [
      "/var/folders/s_/qtbdy3px3m3_6k7xydrkhbsh0000gn/T/ipykernel_7686/191058123.py:3: SettingWithCopyWarning: \n",
      "A value is trying to be set on a copy of a slice from a DataFrame.\n",
      "Try using .loc[row_indexer,col_indexer] = value instead\n",
      "\n",
      "See the caveats in the documentation: https://pandas.pydata.org/pandas-docs/stable/user_guide/indexing.html#returning-a-view-versus-a-copy\n",
      "  df.loc[:,'CO2toRevenue'] = df.loc[:,'EmissionDataPoints.CO2EquivalentsEmissionDirectScope1']*(df.loc[:,'EmissionIndicators.TotalCO2EquivalentsEmissionsToRevenues']/df.loc[:,'EmissionDataPoints.CO2EquivalentsEmissionTotal'])\n",
      "/var/folders/s_/qtbdy3px3m3_6k7xydrkhbsh0000gn/T/ipykernel_7686/191058123.py:3: SettingWithCopyWarning: \n",
      "A value is trying to be set on a copy of a slice from a DataFrame.\n",
      "Try using .loc[row_indexer,col_indexer] = value instead\n",
      "\n",
      "See the caveats in the documentation: https://pandas.pydata.org/pandas-docs/stable/user_guide/indexing.html#returning-a-view-versus-a-copy\n",
      "  df.loc[:,'CO2toRevenue'] = df.loc[:,'EmissionDataPoints.CO2EquivalentsEmissionDirectScope1']*(df.loc[:,'EmissionIndicators.TotalCO2EquivalentsEmissionsToRevenues']/df.loc[:,'EmissionDataPoints.CO2EquivalentsEmissionTotal'])\n"
     ]
    },
    {
     "name": "stdout",
     "output_type": "stream",
     "text": [
      "predictions based on sector (using scaled data)\n",
      "predictions based on sector (using scaled data)\n"
     ]
    },
    {
     "name": "stderr",
     "output_type": "stream",
     "text": [
      "/var/folders/s_/qtbdy3px3m3_6k7xydrkhbsh0000gn/T/ipykernel_7686/191058123.py:3: SettingWithCopyWarning: \n",
      "A value is trying to be set on a copy of a slice from a DataFrame.\n",
      "Try using .loc[row_indexer,col_indexer] = value instead\n",
      "\n",
      "See the caveats in the documentation: https://pandas.pydata.org/pandas-docs/stable/user_guide/indexing.html#returning-a-view-versus-a-copy\n",
      "  df.loc[:,'CO2toRevenue'] = df.loc[:,'EmissionDataPoints.CO2EquivalentsEmissionDirectScope1']*(df.loc[:,'EmissionIndicators.TotalCO2EquivalentsEmissionsToRevenues']/df.loc[:,'EmissionDataPoints.CO2EquivalentsEmissionTotal'])\n",
      "/var/folders/s_/qtbdy3px3m3_6k7xydrkhbsh0000gn/T/ipykernel_7686/191058123.py:3: SettingWithCopyWarning: \n",
      "A value is trying to be set on a copy of a slice from a DataFrame.\n",
      "Try using .loc[row_indexer,col_indexer] = value instead\n",
      "\n",
      "See the caveats in the documentation: https://pandas.pydata.org/pandas-docs/stable/user_guide/indexing.html#returning-a-view-versus-a-copy\n",
      "  df.loc[:,'CO2toRevenue'] = df.loc[:,'EmissionDataPoints.CO2EquivalentsEmissionDirectScope1']*(df.loc[:,'EmissionIndicators.TotalCO2EquivalentsEmissionsToRevenues']/df.loc[:,'EmissionDataPoints.CO2EquivalentsEmissionTotal'])\n"
     ]
    },
    {
     "name": "stdout",
     "output_type": "stream",
     "text": [
      "predictions based on orgid\n",
      "predictions based on sector (using scaled data)\n",
      "predictions based on sector (using scaled data)\n"
     ]
    },
    {
     "name": "stderr",
     "output_type": "stream",
     "text": [
      "/var/folders/s_/qtbdy3px3m3_6k7xydrkhbsh0000gn/T/ipykernel_7686/191058123.py:3: SettingWithCopyWarning: \n",
      "A value is trying to be set on a copy of a slice from a DataFrame.\n",
      "Try using .loc[row_indexer,col_indexer] = value instead\n",
      "\n",
      "See the caveats in the documentation: https://pandas.pydata.org/pandas-docs/stable/user_guide/indexing.html#returning-a-view-versus-a-copy\n",
      "  df.loc[:,'CO2toRevenue'] = df.loc[:,'EmissionDataPoints.CO2EquivalentsEmissionDirectScope1']*(df.loc[:,'EmissionIndicators.TotalCO2EquivalentsEmissionsToRevenues']/df.loc[:,'EmissionDataPoints.CO2EquivalentsEmissionTotal'])\n",
      "/var/folders/s_/qtbdy3px3m3_6k7xydrkhbsh0000gn/T/ipykernel_7686/191058123.py:3: SettingWithCopyWarning: \n",
      "A value is trying to be set on a copy of a slice from a DataFrame.\n",
      "Try using .loc[row_indexer,col_indexer] = value instead\n",
      "\n",
      "See the caveats in the documentation: https://pandas.pydata.org/pandas-docs/stable/user_guide/indexing.html#returning-a-view-versus-a-copy\n",
      "  df.loc[:,'CO2toRevenue'] = df.loc[:,'EmissionDataPoints.CO2EquivalentsEmissionDirectScope1']*(df.loc[:,'EmissionIndicators.TotalCO2EquivalentsEmissionsToRevenues']/df.loc[:,'EmissionDataPoints.CO2EquivalentsEmissionTotal'])\n"
     ]
    },
    {
     "name": "stdout",
     "output_type": "stream",
     "text": [
      "predictions based on sector (using scaled data)\n",
      "predictions based on sector (using scaled data)\n"
     ]
    },
    {
     "name": "stderr",
     "output_type": "stream",
     "text": [
      "/var/folders/s_/qtbdy3px3m3_6k7xydrkhbsh0000gn/T/ipykernel_7686/191058123.py:3: SettingWithCopyWarning: \n",
      "A value is trying to be set on a copy of a slice from a DataFrame.\n",
      "Try using .loc[row_indexer,col_indexer] = value instead\n",
      "\n",
      "See the caveats in the documentation: https://pandas.pydata.org/pandas-docs/stable/user_guide/indexing.html#returning-a-view-versus-a-copy\n",
      "  df.loc[:,'CO2toRevenue'] = df.loc[:,'EmissionDataPoints.CO2EquivalentsEmissionDirectScope1']*(df.loc[:,'EmissionIndicators.TotalCO2EquivalentsEmissionsToRevenues']/df.loc[:,'EmissionDataPoints.CO2EquivalentsEmissionTotal'])\n",
      "/var/folders/s_/qtbdy3px3m3_6k7xydrkhbsh0000gn/T/ipykernel_7686/191058123.py:3: SettingWithCopyWarning: \n",
      "A value is trying to be set on a copy of a slice from a DataFrame.\n",
      "Try using .loc[row_indexer,col_indexer] = value instead\n",
      "\n",
      "See the caveats in the documentation: https://pandas.pydata.org/pandas-docs/stable/user_guide/indexing.html#returning-a-view-versus-a-copy\n",
      "  df.loc[:,'CO2toRevenue'] = df.loc[:,'EmissionDataPoints.CO2EquivalentsEmissionDirectScope1']*(df.loc[:,'EmissionIndicators.TotalCO2EquivalentsEmissionsToRevenues']/df.loc[:,'EmissionDataPoints.CO2EquivalentsEmissionTotal'])\n"
     ]
    },
    {
     "name": "stdout",
     "output_type": "stream",
     "text": [
      "predictions based on sector (using scaled data)\n",
      "predictions based on sector (using scaled data)\n"
     ]
    },
    {
     "name": "stderr",
     "output_type": "stream",
     "text": [
      "/var/folders/s_/qtbdy3px3m3_6k7xydrkhbsh0000gn/T/ipykernel_7686/191058123.py:3: SettingWithCopyWarning: \n",
      "A value is trying to be set on a copy of a slice from a DataFrame.\n",
      "Try using .loc[row_indexer,col_indexer] = value instead\n",
      "\n",
      "See the caveats in the documentation: https://pandas.pydata.org/pandas-docs/stable/user_guide/indexing.html#returning-a-view-versus-a-copy\n",
      "  df.loc[:,'CO2toRevenue'] = df.loc[:,'EmissionDataPoints.CO2EquivalentsEmissionDirectScope1']*(df.loc[:,'EmissionIndicators.TotalCO2EquivalentsEmissionsToRevenues']/df.loc[:,'EmissionDataPoints.CO2EquivalentsEmissionTotal'])\n",
      "/var/folders/s_/qtbdy3px3m3_6k7xydrkhbsh0000gn/T/ipykernel_7686/191058123.py:3: SettingWithCopyWarning: \n",
      "A value is trying to be set on a copy of a slice from a DataFrame.\n",
      "Try using .loc[row_indexer,col_indexer] = value instead\n",
      "\n",
      "See the caveats in the documentation: https://pandas.pydata.org/pandas-docs/stable/user_guide/indexing.html#returning-a-view-versus-a-copy\n",
      "  df.loc[:,'CO2toRevenue'] = df.loc[:,'EmissionDataPoints.CO2EquivalentsEmissionDirectScope1']*(df.loc[:,'EmissionIndicators.TotalCO2EquivalentsEmissionsToRevenues']/df.loc[:,'EmissionDataPoints.CO2EquivalentsEmissionTotal'])\n"
     ]
    },
    {
     "name": "stdout",
     "output_type": "stream",
     "text": [
      "predictions based on sector (using scaled data)\n",
      "predictions based on sector (using scaled data)\n",
      "predictions based on sector (using scaled data)\n"
     ]
    },
    {
     "name": "stderr",
     "output_type": "stream",
     "text": [
      "/var/folders/s_/qtbdy3px3m3_6k7xydrkhbsh0000gn/T/ipykernel_7686/191058123.py:3: SettingWithCopyWarning: \n",
      "A value is trying to be set on a copy of a slice from a DataFrame.\n",
      "Try using .loc[row_indexer,col_indexer] = value instead\n",
      "\n",
      "See the caveats in the documentation: https://pandas.pydata.org/pandas-docs/stable/user_guide/indexing.html#returning-a-view-versus-a-copy\n",
      "  df.loc[:,'CO2toRevenue'] = df.loc[:,'EmissionDataPoints.CO2EquivalentsEmissionDirectScope1']*(df.loc[:,'EmissionIndicators.TotalCO2EquivalentsEmissionsToRevenues']/df.loc[:,'EmissionDataPoints.CO2EquivalentsEmissionTotal'])\n",
      "/var/folders/s_/qtbdy3px3m3_6k7xydrkhbsh0000gn/T/ipykernel_7686/191058123.py:3: SettingWithCopyWarning: \n",
      "A value is trying to be set on a copy of a slice from a DataFrame.\n",
      "Try using .loc[row_indexer,col_indexer] = value instead\n",
      "\n",
      "See the caveats in the documentation: https://pandas.pydata.org/pandas-docs/stable/user_guide/indexing.html#returning-a-view-versus-a-copy\n",
      "  df.loc[:,'CO2toRevenue'] = df.loc[:,'EmissionDataPoints.CO2EquivalentsEmissionDirectScope1']*(df.loc[:,'EmissionIndicators.TotalCO2EquivalentsEmissionsToRevenues']/df.loc[:,'EmissionDataPoints.CO2EquivalentsEmissionTotal'])\n",
      "/var/folders/s_/qtbdy3px3m3_6k7xydrkhbsh0000gn/T/ipykernel_7686/191058123.py:3: SettingWithCopyWarning: \n",
      "A value is trying to be set on a copy of a slice from a DataFrame.\n",
      "Try using .loc[row_indexer,col_indexer] = value instead\n",
      "\n",
      "See the caveats in the documentation: https://pandas.pydata.org/pandas-docs/stable/user_guide/indexing.html#returning-a-view-versus-a-copy\n",
      "  df.loc[:,'CO2toRevenue'] = df.loc[:,'EmissionDataPoints.CO2EquivalentsEmissionDirectScope1']*(df.loc[:,'EmissionIndicators.TotalCO2EquivalentsEmissionsToRevenues']/df.loc[:,'EmissionDataPoints.CO2EquivalentsEmissionTotal'])\n"
     ]
    },
    {
     "name": "stdout",
     "output_type": "stream",
     "text": [
      "predictions based on orgid\n",
      "predictions based on sector (using scaled data)\n",
      "predictions based on orgid\n",
      "predictions based on sector (using scaled data)\n"
     ]
    },
    {
     "name": "stderr",
     "output_type": "stream",
     "text": [
      "/var/folders/s_/qtbdy3px3m3_6k7xydrkhbsh0000gn/T/ipykernel_7686/191058123.py:3: SettingWithCopyWarning: \n",
      "A value is trying to be set on a copy of a slice from a DataFrame.\n",
      "Try using .loc[row_indexer,col_indexer] = value instead\n",
      "\n",
      "See the caveats in the documentation: https://pandas.pydata.org/pandas-docs/stable/user_guide/indexing.html#returning-a-view-versus-a-copy\n",
      "  df.loc[:,'CO2toRevenue'] = df.loc[:,'EmissionDataPoints.CO2EquivalentsEmissionDirectScope1']*(df.loc[:,'EmissionIndicators.TotalCO2EquivalentsEmissionsToRevenues']/df.loc[:,'EmissionDataPoints.CO2EquivalentsEmissionTotal'])\n",
      "/var/folders/s_/qtbdy3px3m3_6k7xydrkhbsh0000gn/T/ipykernel_7686/191058123.py:3: SettingWithCopyWarning: \n",
      "A value is trying to be set on a copy of a slice from a DataFrame.\n",
      "Try using .loc[row_indexer,col_indexer] = value instead\n",
      "\n",
      "See the caveats in the documentation: https://pandas.pydata.org/pandas-docs/stable/user_guide/indexing.html#returning-a-view-versus-a-copy\n",
      "  df.loc[:,'CO2toRevenue'] = df.loc[:,'EmissionDataPoints.CO2EquivalentsEmissionDirectScope1']*(df.loc[:,'EmissionIndicators.TotalCO2EquivalentsEmissionsToRevenues']/df.loc[:,'EmissionDataPoints.CO2EquivalentsEmissionTotal'])\n"
     ]
    },
    {
     "name": "stdout",
     "output_type": "stream",
     "text": [
      "predictions based on orgid\n",
      "predictions based on sector (using scaled data)\n",
      "predictions based on sector (using scaled data)\n"
     ]
    },
    {
     "name": "stderr",
     "output_type": "stream",
     "text": [
      "/var/folders/s_/qtbdy3px3m3_6k7xydrkhbsh0000gn/T/ipykernel_7686/191058123.py:3: SettingWithCopyWarning: \n",
      "A value is trying to be set on a copy of a slice from a DataFrame.\n",
      "Try using .loc[row_indexer,col_indexer] = value instead\n",
      "\n",
      "See the caveats in the documentation: https://pandas.pydata.org/pandas-docs/stable/user_guide/indexing.html#returning-a-view-versus-a-copy\n",
      "  df.loc[:,'CO2toRevenue'] = df.loc[:,'EmissionDataPoints.CO2EquivalentsEmissionDirectScope1']*(df.loc[:,'EmissionIndicators.TotalCO2EquivalentsEmissionsToRevenues']/df.loc[:,'EmissionDataPoints.CO2EquivalentsEmissionTotal'])\n",
      "/var/folders/s_/qtbdy3px3m3_6k7xydrkhbsh0000gn/T/ipykernel_7686/191058123.py:3: SettingWithCopyWarning: \n",
      "A value is trying to be set on a copy of a slice from a DataFrame.\n",
      "Try using .loc[row_indexer,col_indexer] = value instead\n",
      "\n",
      "See the caveats in the documentation: https://pandas.pydata.org/pandas-docs/stable/user_guide/indexing.html#returning-a-view-versus-a-copy\n",
      "  df.loc[:,'CO2toRevenue'] = df.loc[:,'EmissionDataPoints.CO2EquivalentsEmissionDirectScope1']*(df.loc[:,'EmissionIndicators.TotalCO2EquivalentsEmissionsToRevenues']/df.loc[:,'EmissionDataPoints.CO2EquivalentsEmissionTotal'])\n"
     ]
    },
    {
     "name": "stdout",
     "output_type": "stream",
     "text": [
      "predictions based on sector (using scaled data)\n",
      "predictions based on orgid\n",
      "predictions based on orgid\n",
      "predictions based on orgid\n",
      "predictions based on sector (using scaled data)\n",
      "predictions based on sector (using scaled data)\n"
     ]
    },
    {
     "name": "stderr",
     "output_type": "stream",
     "text": [
      "/var/folders/s_/qtbdy3px3m3_6k7xydrkhbsh0000gn/T/ipykernel_7686/191058123.py:3: SettingWithCopyWarning: \n",
      "A value is trying to be set on a copy of a slice from a DataFrame.\n",
      "Try using .loc[row_indexer,col_indexer] = value instead\n",
      "\n",
      "See the caveats in the documentation: https://pandas.pydata.org/pandas-docs/stable/user_guide/indexing.html#returning-a-view-versus-a-copy\n",
      "  df.loc[:,'CO2toRevenue'] = df.loc[:,'EmissionDataPoints.CO2EquivalentsEmissionDirectScope1']*(df.loc[:,'EmissionIndicators.TotalCO2EquivalentsEmissionsToRevenues']/df.loc[:,'EmissionDataPoints.CO2EquivalentsEmissionTotal'])\n",
      "/var/folders/s_/qtbdy3px3m3_6k7xydrkhbsh0000gn/T/ipykernel_7686/191058123.py:3: SettingWithCopyWarning: \n",
      "A value is trying to be set on a copy of a slice from a DataFrame.\n",
      "Try using .loc[row_indexer,col_indexer] = value instead\n",
      "\n",
      "See the caveats in the documentation: https://pandas.pydata.org/pandas-docs/stable/user_guide/indexing.html#returning-a-view-versus-a-copy\n",
      "  df.loc[:,'CO2toRevenue'] = df.loc[:,'EmissionDataPoints.CO2EquivalentsEmissionDirectScope1']*(df.loc[:,'EmissionIndicators.TotalCO2EquivalentsEmissionsToRevenues']/df.loc[:,'EmissionDataPoints.CO2EquivalentsEmissionTotal'])\n",
      "/var/folders/s_/qtbdy3px3m3_6k7xydrkhbsh0000gn/T/ipykernel_7686/191058123.py:3: SettingWithCopyWarning: \n",
      "A value is trying to be set on a copy of a slice from a DataFrame.\n",
      "Try using .loc[row_indexer,col_indexer] = value instead\n",
      "\n",
      "See the caveats in the documentation: https://pandas.pydata.org/pandas-docs/stable/user_guide/indexing.html#returning-a-view-versus-a-copy\n",
      "  df.loc[:,'CO2toRevenue'] = df.loc[:,'EmissionDataPoints.CO2EquivalentsEmissionDirectScope1']*(df.loc[:,'EmissionIndicators.TotalCO2EquivalentsEmissionsToRevenues']/df.loc[:,'EmissionDataPoints.CO2EquivalentsEmissionTotal'])\n"
     ]
    },
    {
     "name": "stdout",
     "output_type": "stream",
     "text": [
      "predictions based on sector (using scaled data)\n",
      "predictions based on sector (using scaled data)\n"
     ]
    },
    {
     "name": "stderr",
     "output_type": "stream",
     "text": [
      "/var/folders/s_/qtbdy3px3m3_6k7xydrkhbsh0000gn/T/ipykernel_7686/191058123.py:3: SettingWithCopyWarning: \n",
      "A value is trying to be set on a copy of a slice from a DataFrame.\n",
      "Try using .loc[row_indexer,col_indexer] = value instead\n",
      "\n",
      "See the caveats in the documentation: https://pandas.pydata.org/pandas-docs/stable/user_guide/indexing.html#returning-a-view-versus-a-copy\n",
      "  df.loc[:,'CO2toRevenue'] = df.loc[:,'EmissionDataPoints.CO2EquivalentsEmissionDirectScope1']*(df.loc[:,'EmissionIndicators.TotalCO2EquivalentsEmissionsToRevenues']/df.loc[:,'EmissionDataPoints.CO2EquivalentsEmissionTotal'])\n",
      "/var/folders/s_/qtbdy3px3m3_6k7xydrkhbsh0000gn/T/ipykernel_7686/191058123.py:3: SettingWithCopyWarning: \n",
      "A value is trying to be set on a copy of a slice from a DataFrame.\n",
      "Try using .loc[row_indexer,col_indexer] = value instead\n",
      "\n",
      "See the caveats in the documentation: https://pandas.pydata.org/pandas-docs/stable/user_guide/indexing.html#returning-a-view-versus-a-copy\n",
      "  df.loc[:,'CO2toRevenue'] = df.loc[:,'EmissionDataPoints.CO2EquivalentsEmissionDirectScope1']*(df.loc[:,'EmissionIndicators.TotalCO2EquivalentsEmissionsToRevenues']/df.loc[:,'EmissionDataPoints.CO2EquivalentsEmissionTotal'])\n"
     ]
    },
    {
     "name": "stdout",
     "output_type": "stream",
     "text": [
      "predictions based on sector (using scaled data)\n",
      "predictions based on orgid\n",
      "predictions based on sector (using scaled data)\n"
     ]
    },
    {
     "name": "stderr",
     "output_type": "stream",
     "text": [
      "/var/folders/s_/qtbdy3px3m3_6k7xydrkhbsh0000gn/T/ipykernel_7686/191058123.py:3: SettingWithCopyWarning: \n",
      "A value is trying to be set on a copy of a slice from a DataFrame.\n",
      "Try using .loc[row_indexer,col_indexer] = value instead\n",
      "\n",
      "See the caveats in the documentation: https://pandas.pydata.org/pandas-docs/stable/user_guide/indexing.html#returning-a-view-versus-a-copy\n",
      "  df.loc[:,'CO2toRevenue'] = df.loc[:,'EmissionDataPoints.CO2EquivalentsEmissionDirectScope1']*(df.loc[:,'EmissionIndicators.TotalCO2EquivalentsEmissionsToRevenues']/df.loc[:,'EmissionDataPoints.CO2EquivalentsEmissionTotal'])\n",
      "/var/folders/s_/qtbdy3px3m3_6k7xydrkhbsh0000gn/T/ipykernel_7686/191058123.py:3: SettingWithCopyWarning: \n",
      "A value is trying to be set on a copy of a slice from a DataFrame.\n",
      "Try using .loc[row_indexer,col_indexer] = value instead\n",
      "\n",
      "See the caveats in the documentation: https://pandas.pydata.org/pandas-docs/stable/user_guide/indexing.html#returning-a-view-versus-a-copy\n",
      "  df.loc[:,'CO2toRevenue'] = df.loc[:,'EmissionDataPoints.CO2EquivalentsEmissionDirectScope1']*(df.loc[:,'EmissionIndicators.TotalCO2EquivalentsEmissionsToRevenues']/df.loc[:,'EmissionDataPoints.CO2EquivalentsEmissionTotal'])\n"
     ]
    },
    {
     "name": "stdout",
     "output_type": "stream",
     "text": [
      "predictions based on sector (using scaled data)\n",
      "predictions based on sector (using scaled data)\n",
      "predictions based on sector (using scaled data)\n"
     ]
    },
    {
     "name": "stderr",
     "output_type": "stream",
     "text": [
      "/var/folders/s_/qtbdy3px3m3_6k7xydrkhbsh0000gn/T/ipykernel_7686/191058123.py:3: SettingWithCopyWarning: \n",
      "A value is trying to be set on a copy of a slice from a DataFrame.\n",
      "Try using .loc[row_indexer,col_indexer] = value instead\n",
      "\n",
      "See the caveats in the documentation: https://pandas.pydata.org/pandas-docs/stable/user_guide/indexing.html#returning-a-view-versus-a-copy\n",
      "  df.loc[:,'CO2toRevenue'] = df.loc[:,'EmissionDataPoints.CO2EquivalentsEmissionDirectScope1']*(df.loc[:,'EmissionIndicators.TotalCO2EquivalentsEmissionsToRevenues']/df.loc[:,'EmissionDataPoints.CO2EquivalentsEmissionTotal'])\n",
      "/var/folders/s_/qtbdy3px3m3_6k7xydrkhbsh0000gn/T/ipykernel_7686/191058123.py:3: SettingWithCopyWarning: \n",
      "A value is trying to be set on a copy of a slice from a DataFrame.\n",
      "Try using .loc[row_indexer,col_indexer] = value instead\n",
      "\n",
      "See the caveats in the documentation: https://pandas.pydata.org/pandas-docs/stable/user_guide/indexing.html#returning-a-view-versus-a-copy\n",
      "  df.loc[:,'CO2toRevenue'] = df.loc[:,'EmissionDataPoints.CO2EquivalentsEmissionDirectScope1']*(df.loc[:,'EmissionIndicators.TotalCO2EquivalentsEmissionsToRevenues']/df.loc[:,'EmissionDataPoints.CO2EquivalentsEmissionTotal'])\n",
      "/var/folders/s_/qtbdy3px3m3_6k7xydrkhbsh0000gn/T/ipykernel_7686/191058123.py:3: SettingWithCopyWarning: \n",
      "A value is trying to be set on a copy of a slice from a DataFrame.\n",
      "Try using .loc[row_indexer,col_indexer] = value instead\n",
      "\n",
      "See the caveats in the documentation: https://pandas.pydata.org/pandas-docs/stable/user_guide/indexing.html#returning-a-view-versus-a-copy\n",
      "  df.loc[:,'CO2toRevenue'] = df.loc[:,'EmissionDataPoints.CO2EquivalentsEmissionDirectScope1']*(df.loc[:,'EmissionIndicators.TotalCO2EquivalentsEmissionsToRevenues']/df.loc[:,'EmissionDataPoints.CO2EquivalentsEmissionTotal'])\n"
     ]
    },
    {
     "name": "stdout",
     "output_type": "stream",
     "text": [
      "predictions based on sector (using scaled data)\n",
      "predictions based on sector (using scaled data)\n",
      "predictions based on sector (using scaled data)\n"
     ]
    },
    {
     "name": "stderr",
     "output_type": "stream",
     "text": [
      "/var/folders/s_/qtbdy3px3m3_6k7xydrkhbsh0000gn/T/ipykernel_7686/191058123.py:3: SettingWithCopyWarning: \n",
      "A value is trying to be set on a copy of a slice from a DataFrame.\n",
      "Try using .loc[row_indexer,col_indexer] = value instead\n",
      "\n",
      "See the caveats in the documentation: https://pandas.pydata.org/pandas-docs/stable/user_guide/indexing.html#returning-a-view-versus-a-copy\n",
      "  df.loc[:,'CO2toRevenue'] = df.loc[:,'EmissionDataPoints.CO2EquivalentsEmissionDirectScope1']*(df.loc[:,'EmissionIndicators.TotalCO2EquivalentsEmissionsToRevenues']/df.loc[:,'EmissionDataPoints.CO2EquivalentsEmissionTotal'])\n",
      "/var/folders/s_/qtbdy3px3m3_6k7xydrkhbsh0000gn/T/ipykernel_7686/191058123.py:3: SettingWithCopyWarning: \n",
      "A value is trying to be set on a copy of a slice from a DataFrame.\n",
      "Try using .loc[row_indexer,col_indexer] = value instead\n",
      "\n",
      "See the caveats in the documentation: https://pandas.pydata.org/pandas-docs/stable/user_guide/indexing.html#returning-a-view-versus-a-copy\n",
      "  df.loc[:,'CO2toRevenue'] = df.loc[:,'EmissionDataPoints.CO2EquivalentsEmissionDirectScope1']*(df.loc[:,'EmissionIndicators.TotalCO2EquivalentsEmissionsToRevenues']/df.loc[:,'EmissionDataPoints.CO2EquivalentsEmissionTotal'])\n",
      "/var/folders/s_/qtbdy3px3m3_6k7xydrkhbsh0000gn/T/ipykernel_7686/191058123.py:3: SettingWithCopyWarning: \n",
      "A value is trying to be set on a copy of a slice from a DataFrame.\n",
      "Try using .loc[row_indexer,col_indexer] = value instead\n",
      "\n",
      "See the caveats in the documentation: https://pandas.pydata.org/pandas-docs/stable/user_guide/indexing.html#returning-a-view-versus-a-copy\n",
      "  df.loc[:,'CO2toRevenue'] = df.loc[:,'EmissionDataPoints.CO2EquivalentsEmissionDirectScope1']*(df.loc[:,'EmissionIndicators.TotalCO2EquivalentsEmissionsToRevenues']/df.loc[:,'EmissionDataPoints.CO2EquivalentsEmissionTotal'])\n"
     ]
    },
    {
     "name": "stdout",
     "output_type": "stream",
     "text": [
      "predictions based on sector (using scaled data)\n",
      "predictions based on sector (using scaled data)\n",
      "predictions based on sector (using scaled data)\n"
     ]
    },
    {
     "name": "stderr",
     "output_type": "stream",
     "text": [
      "/var/folders/s_/qtbdy3px3m3_6k7xydrkhbsh0000gn/T/ipykernel_7686/191058123.py:3: SettingWithCopyWarning: \n",
      "A value is trying to be set on a copy of a slice from a DataFrame.\n",
      "Try using .loc[row_indexer,col_indexer] = value instead\n",
      "\n",
      "See the caveats in the documentation: https://pandas.pydata.org/pandas-docs/stable/user_guide/indexing.html#returning-a-view-versus-a-copy\n",
      "  df.loc[:,'CO2toRevenue'] = df.loc[:,'EmissionDataPoints.CO2EquivalentsEmissionDirectScope1']*(df.loc[:,'EmissionIndicators.TotalCO2EquivalentsEmissionsToRevenues']/df.loc[:,'EmissionDataPoints.CO2EquivalentsEmissionTotal'])\n",
      "/var/folders/s_/qtbdy3px3m3_6k7xydrkhbsh0000gn/T/ipykernel_7686/191058123.py:3: SettingWithCopyWarning: \n",
      "A value is trying to be set on a copy of a slice from a DataFrame.\n",
      "Try using .loc[row_indexer,col_indexer] = value instead\n",
      "\n",
      "See the caveats in the documentation: https://pandas.pydata.org/pandas-docs/stable/user_guide/indexing.html#returning-a-view-versus-a-copy\n",
      "  df.loc[:,'CO2toRevenue'] = df.loc[:,'EmissionDataPoints.CO2EquivalentsEmissionDirectScope1']*(df.loc[:,'EmissionIndicators.TotalCO2EquivalentsEmissionsToRevenues']/df.loc[:,'EmissionDataPoints.CO2EquivalentsEmissionTotal'])\n",
      "/var/folders/s_/qtbdy3px3m3_6k7xydrkhbsh0000gn/T/ipykernel_7686/191058123.py:3: SettingWithCopyWarning: \n",
      "A value is trying to be set on a copy of a slice from a DataFrame.\n",
      "Try using .loc[row_indexer,col_indexer] = value instead\n",
      "\n",
      "See the caveats in the documentation: https://pandas.pydata.org/pandas-docs/stable/user_guide/indexing.html#returning-a-view-versus-a-copy\n",
      "  df.loc[:,'CO2toRevenue'] = df.loc[:,'EmissionDataPoints.CO2EquivalentsEmissionDirectScope1']*(df.loc[:,'EmissionIndicators.TotalCO2EquivalentsEmissionsToRevenues']/df.loc[:,'EmissionDataPoints.CO2EquivalentsEmissionTotal'])\n"
     ]
    },
    {
     "name": "stdout",
     "output_type": "stream",
     "text": [
      "predictions based on sector (using scaled data)\n",
      "predictions based on orgid\n",
      "predictions based on sector (using scaled data)\n"
     ]
    },
    {
     "name": "stderr",
     "output_type": "stream",
     "text": [
      "/var/folders/s_/qtbdy3px3m3_6k7xydrkhbsh0000gn/T/ipykernel_7686/191058123.py:3: SettingWithCopyWarning: \n",
      "A value is trying to be set on a copy of a slice from a DataFrame.\n",
      "Try using .loc[row_indexer,col_indexer] = value instead\n",
      "\n",
      "See the caveats in the documentation: https://pandas.pydata.org/pandas-docs/stable/user_guide/indexing.html#returning-a-view-versus-a-copy\n",
      "  df.loc[:,'CO2toRevenue'] = df.loc[:,'EmissionDataPoints.CO2EquivalentsEmissionDirectScope1']*(df.loc[:,'EmissionIndicators.TotalCO2EquivalentsEmissionsToRevenues']/df.loc[:,'EmissionDataPoints.CO2EquivalentsEmissionTotal'])\n",
      "/var/folders/s_/qtbdy3px3m3_6k7xydrkhbsh0000gn/T/ipykernel_7686/191058123.py:3: SettingWithCopyWarning: \n",
      "A value is trying to be set on a copy of a slice from a DataFrame.\n",
      "Try using .loc[row_indexer,col_indexer] = value instead\n",
      "\n",
      "See the caveats in the documentation: https://pandas.pydata.org/pandas-docs/stable/user_guide/indexing.html#returning-a-view-versus-a-copy\n",
      "  df.loc[:,'CO2toRevenue'] = df.loc[:,'EmissionDataPoints.CO2EquivalentsEmissionDirectScope1']*(df.loc[:,'EmissionIndicators.TotalCO2EquivalentsEmissionsToRevenues']/df.loc[:,'EmissionDataPoints.CO2EquivalentsEmissionTotal'])\n"
     ]
    },
    {
     "name": "stdout",
     "output_type": "stream",
     "text": [
      "predictions based on sector (using scaled data)\n",
      "predictions based on orgid\n",
      "predictions based on sector (using scaled data)\n",
      "predictions based on sector (using scaled data)\n"
     ]
    },
    {
     "name": "stderr",
     "output_type": "stream",
     "text": [
      "/var/folders/s_/qtbdy3px3m3_6k7xydrkhbsh0000gn/T/ipykernel_7686/191058123.py:3: SettingWithCopyWarning: \n",
      "A value is trying to be set on a copy of a slice from a DataFrame.\n",
      "Try using .loc[row_indexer,col_indexer] = value instead\n",
      "\n",
      "See the caveats in the documentation: https://pandas.pydata.org/pandas-docs/stable/user_guide/indexing.html#returning-a-view-versus-a-copy\n",
      "  df.loc[:,'CO2toRevenue'] = df.loc[:,'EmissionDataPoints.CO2EquivalentsEmissionDirectScope1']*(df.loc[:,'EmissionIndicators.TotalCO2EquivalentsEmissionsToRevenues']/df.loc[:,'EmissionDataPoints.CO2EquivalentsEmissionTotal'])\n",
      "/var/folders/s_/qtbdy3px3m3_6k7xydrkhbsh0000gn/T/ipykernel_7686/191058123.py:3: SettingWithCopyWarning: \n",
      "A value is trying to be set on a copy of a slice from a DataFrame.\n",
      "Try using .loc[row_indexer,col_indexer] = value instead\n",
      "\n",
      "See the caveats in the documentation: https://pandas.pydata.org/pandas-docs/stable/user_guide/indexing.html#returning-a-view-versus-a-copy\n",
      "  df.loc[:,'CO2toRevenue'] = df.loc[:,'EmissionDataPoints.CO2EquivalentsEmissionDirectScope1']*(df.loc[:,'EmissionIndicators.TotalCO2EquivalentsEmissionsToRevenues']/df.loc[:,'EmissionDataPoints.CO2EquivalentsEmissionTotal'])\n",
      "/var/folders/s_/qtbdy3px3m3_6k7xydrkhbsh0000gn/T/ipykernel_7686/191058123.py:3: SettingWithCopyWarning: \n",
      "A value is trying to be set on a copy of a slice from a DataFrame.\n",
      "Try using .loc[row_indexer,col_indexer] = value instead\n",
      "\n",
      "See the caveats in the documentation: https://pandas.pydata.org/pandas-docs/stable/user_guide/indexing.html#returning-a-view-versus-a-copy\n",
      "  df.loc[:,'CO2toRevenue'] = df.loc[:,'EmissionDataPoints.CO2EquivalentsEmissionDirectScope1']*(df.loc[:,'EmissionIndicators.TotalCO2EquivalentsEmissionsToRevenues']/df.loc[:,'EmissionDataPoints.CO2EquivalentsEmissionTotal'])\n"
     ]
    },
    {
     "name": "stdout",
     "output_type": "stream",
     "text": [
      "predictions based on sector (using scaled data)\n",
      "predictions based on sector (using scaled data)\n",
      "predictions based on sector (using scaled data)\n"
     ]
    },
    {
     "name": "stderr",
     "output_type": "stream",
     "text": [
      "/var/folders/s_/qtbdy3px3m3_6k7xydrkhbsh0000gn/T/ipykernel_7686/191058123.py:3: SettingWithCopyWarning: \n",
      "A value is trying to be set on a copy of a slice from a DataFrame.\n",
      "Try using .loc[row_indexer,col_indexer] = value instead\n",
      "\n",
      "See the caveats in the documentation: https://pandas.pydata.org/pandas-docs/stable/user_guide/indexing.html#returning-a-view-versus-a-copy\n",
      "  df.loc[:,'CO2toRevenue'] = df.loc[:,'EmissionDataPoints.CO2EquivalentsEmissionDirectScope1']*(df.loc[:,'EmissionIndicators.TotalCO2EquivalentsEmissionsToRevenues']/df.loc[:,'EmissionDataPoints.CO2EquivalentsEmissionTotal'])\n",
      "/var/folders/s_/qtbdy3px3m3_6k7xydrkhbsh0000gn/T/ipykernel_7686/191058123.py:3: SettingWithCopyWarning: \n",
      "A value is trying to be set on a copy of a slice from a DataFrame.\n",
      "Try using .loc[row_indexer,col_indexer] = value instead\n",
      "\n",
      "See the caveats in the documentation: https://pandas.pydata.org/pandas-docs/stable/user_guide/indexing.html#returning-a-view-versus-a-copy\n",
      "  df.loc[:,'CO2toRevenue'] = df.loc[:,'EmissionDataPoints.CO2EquivalentsEmissionDirectScope1']*(df.loc[:,'EmissionIndicators.TotalCO2EquivalentsEmissionsToRevenues']/df.loc[:,'EmissionDataPoints.CO2EquivalentsEmissionTotal'])\n",
      "/var/folders/s_/qtbdy3px3m3_6k7xydrkhbsh0000gn/T/ipykernel_7686/191058123.py:3: SettingWithCopyWarning: \n",
      "A value is trying to be set on a copy of a slice from a DataFrame.\n",
      "Try using .loc[row_indexer,col_indexer] = value instead\n",
      "\n",
      "See the caveats in the documentation: https://pandas.pydata.org/pandas-docs/stable/user_guide/indexing.html#returning-a-view-versus-a-copy\n",
      "  df.loc[:,'CO2toRevenue'] = df.loc[:,'EmissionDataPoints.CO2EquivalentsEmissionDirectScope1']*(df.loc[:,'EmissionIndicators.TotalCO2EquivalentsEmissionsToRevenues']/df.loc[:,'EmissionDataPoints.CO2EquivalentsEmissionTotal'])\n"
     ]
    },
    {
     "name": "stdout",
     "output_type": "stream",
     "text": [
      "predictions based on sector (using scaled data)\n",
      "predictions based on orgid\n",
      "predictions based on orgid\n",
      "predictions based on sector (using scaled data)\n",
      "predictions based on orgid\n",
      "predictions based on sector (using scaled data)\n"
     ]
    },
    {
     "name": "stderr",
     "output_type": "stream",
     "text": [
      "/var/folders/s_/qtbdy3px3m3_6k7xydrkhbsh0000gn/T/ipykernel_7686/191058123.py:3: SettingWithCopyWarning: \n",
      "A value is trying to be set on a copy of a slice from a DataFrame.\n",
      "Try using .loc[row_indexer,col_indexer] = value instead\n",
      "\n",
      "See the caveats in the documentation: https://pandas.pydata.org/pandas-docs/stable/user_guide/indexing.html#returning-a-view-versus-a-copy\n",
      "  df.loc[:,'CO2toRevenue'] = df.loc[:,'EmissionDataPoints.CO2EquivalentsEmissionDirectScope1']*(df.loc[:,'EmissionIndicators.TotalCO2EquivalentsEmissionsToRevenues']/df.loc[:,'EmissionDataPoints.CO2EquivalentsEmissionTotal'])\n",
      "/var/folders/s_/qtbdy3px3m3_6k7xydrkhbsh0000gn/T/ipykernel_7686/191058123.py:3: SettingWithCopyWarning: \n",
      "A value is trying to be set on a copy of a slice from a DataFrame.\n",
      "Try using .loc[row_indexer,col_indexer] = value instead\n",
      "\n",
      "See the caveats in the documentation: https://pandas.pydata.org/pandas-docs/stable/user_guide/indexing.html#returning-a-view-versus-a-copy\n",
      "  df.loc[:,'CO2toRevenue'] = df.loc[:,'EmissionDataPoints.CO2EquivalentsEmissionDirectScope1']*(df.loc[:,'EmissionIndicators.TotalCO2EquivalentsEmissionsToRevenues']/df.loc[:,'EmissionDataPoints.CO2EquivalentsEmissionTotal'])\n",
      "/var/folders/s_/qtbdy3px3m3_6k7xydrkhbsh0000gn/T/ipykernel_7686/191058123.py:3: SettingWithCopyWarning: \n",
      "A value is trying to be set on a copy of a slice from a DataFrame.\n",
      "Try using .loc[row_indexer,col_indexer] = value instead\n",
      "\n",
      "See the caveats in the documentation: https://pandas.pydata.org/pandas-docs/stable/user_guide/indexing.html#returning-a-view-versus-a-copy\n",
      "  df.loc[:,'CO2toRevenue'] = df.loc[:,'EmissionDataPoints.CO2EquivalentsEmissionDirectScope1']*(df.loc[:,'EmissionIndicators.TotalCO2EquivalentsEmissionsToRevenues']/df.loc[:,'EmissionDataPoints.CO2EquivalentsEmissionTotal'])\n"
     ]
    },
    {
     "name": "stdout",
     "output_type": "stream",
     "text": [
      "predictions based on orgid\n",
      "predictions based on sector (using scaled data)\n",
      "predictions based on sector (using scaled data)\n"
     ]
    },
    {
     "name": "stderr",
     "output_type": "stream",
     "text": [
      "/var/folders/s_/qtbdy3px3m3_6k7xydrkhbsh0000gn/T/ipykernel_7686/191058123.py:3: SettingWithCopyWarning: \n",
      "A value is trying to be set on a copy of a slice from a DataFrame.\n",
      "Try using .loc[row_indexer,col_indexer] = value instead\n",
      "\n",
      "See the caveats in the documentation: https://pandas.pydata.org/pandas-docs/stable/user_guide/indexing.html#returning-a-view-versus-a-copy\n",
      "  df.loc[:,'CO2toRevenue'] = df.loc[:,'EmissionDataPoints.CO2EquivalentsEmissionDirectScope1']*(df.loc[:,'EmissionIndicators.TotalCO2EquivalentsEmissionsToRevenues']/df.loc[:,'EmissionDataPoints.CO2EquivalentsEmissionTotal'])\n",
      "/var/folders/s_/qtbdy3px3m3_6k7xydrkhbsh0000gn/T/ipykernel_7686/191058123.py:3: SettingWithCopyWarning: \n",
      "A value is trying to be set on a copy of a slice from a DataFrame.\n",
      "Try using .loc[row_indexer,col_indexer] = value instead\n",
      "\n",
      "See the caveats in the documentation: https://pandas.pydata.org/pandas-docs/stable/user_guide/indexing.html#returning-a-view-versus-a-copy\n",
      "  df.loc[:,'CO2toRevenue'] = df.loc[:,'EmissionDataPoints.CO2EquivalentsEmissionDirectScope1']*(df.loc[:,'EmissionIndicators.TotalCO2EquivalentsEmissionsToRevenues']/df.loc[:,'EmissionDataPoints.CO2EquivalentsEmissionTotal'])\n"
     ]
    },
    {
     "name": "stdout",
     "output_type": "stream",
     "text": [
      "predictions based on sector (using scaled data)\n",
      "predictions based on sector (using scaled data)\n"
     ]
    },
    {
     "name": "stderr",
     "output_type": "stream",
     "text": [
      "/var/folders/s_/qtbdy3px3m3_6k7xydrkhbsh0000gn/T/ipykernel_7686/191058123.py:3: SettingWithCopyWarning: \n",
      "A value is trying to be set on a copy of a slice from a DataFrame.\n",
      "Try using .loc[row_indexer,col_indexer] = value instead\n",
      "\n",
      "See the caveats in the documentation: https://pandas.pydata.org/pandas-docs/stable/user_guide/indexing.html#returning-a-view-versus-a-copy\n",
      "  df.loc[:,'CO2toRevenue'] = df.loc[:,'EmissionDataPoints.CO2EquivalentsEmissionDirectScope1']*(df.loc[:,'EmissionIndicators.TotalCO2EquivalentsEmissionsToRevenues']/df.loc[:,'EmissionDataPoints.CO2EquivalentsEmissionTotal'])\n",
      "/var/folders/s_/qtbdy3px3m3_6k7xydrkhbsh0000gn/T/ipykernel_7686/191058123.py:3: SettingWithCopyWarning: \n",
      "A value is trying to be set on a copy of a slice from a DataFrame.\n",
      "Try using .loc[row_indexer,col_indexer] = value instead\n",
      "\n",
      "See the caveats in the documentation: https://pandas.pydata.org/pandas-docs/stable/user_guide/indexing.html#returning-a-view-versus-a-copy\n",
      "  df.loc[:,'CO2toRevenue'] = df.loc[:,'EmissionDataPoints.CO2EquivalentsEmissionDirectScope1']*(df.loc[:,'EmissionIndicators.TotalCO2EquivalentsEmissionsToRevenues']/df.loc[:,'EmissionDataPoints.CO2EquivalentsEmissionTotal'])\n"
     ]
    },
    {
     "name": "stdout",
     "output_type": "stream",
     "text": [
      "predictions based on sector (using scaled data)\n",
      "predictions based on sector (using scaled data)\n"
     ]
    },
    {
     "name": "stderr",
     "output_type": "stream",
     "text": [
      "/var/folders/s_/qtbdy3px3m3_6k7xydrkhbsh0000gn/T/ipykernel_7686/191058123.py:3: SettingWithCopyWarning: \n",
      "A value is trying to be set on a copy of a slice from a DataFrame.\n",
      "Try using .loc[row_indexer,col_indexer] = value instead\n",
      "\n",
      "See the caveats in the documentation: https://pandas.pydata.org/pandas-docs/stable/user_guide/indexing.html#returning-a-view-versus-a-copy\n",
      "  df.loc[:,'CO2toRevenue'] = df.loc[:,'EmissionDataPoints.CO2EquivalentsEmissionDirectScope1']*(df.loc[:,'EmissionIndicators.TotalCO2EquivalentsEmissionsToRevenues']/df.loc[:,'EmissionDataPoints.CO2EquivalentsEmissionTotal'])\n",
      "/var/folders/s_/qtbdy3px3m3_6k7xydrkhbsh0000gn/T/ipykernel_7686/191058123.py:3: SettingWithCopyWarning: \n",
      "A value is trying to be set on a copy of a slice from a DataFrame.\n",
      "Try using .loc[row_indexer,col_indexer] = value instead\n",
      "\n",
      "See the caveats in the documentation: https://pandas.pydata.org/pandas-docs/stable/user_guide/indexing.html#returning-a-view-versus-a-copy\n",
      "  df.loc[:,'CO2toRevenue'] = df.loc[:,'EmissionDataPoints.CO2EquivalentsEmissionDirectScope1']*(df.loc[:,'EmissionIndicators.TotalCO2EquivalentsEmissionsToRevenues']/df.loc[:,'EmissionDataPoints.CO2EquivalentsEmissionTotal'])\n"
     ]
    },
    {
     "name": "stdout",
     "output_type": "stream",
     "text": [
      "predictions based on sector (using scaled data)\n",
      "predictions based on orgid\n",
      "predictions based on orgid\n",
      "predictions based on orgid\n",
      "predictions based on orgid\n",
      "predictions based on sector (using scaled data)\n",
      "predictions based on sector (using scaled data)\n"
     ]
    },
    {
     "name": "stderr",
     "output_type": "stream",
     "text": [
      "/var/folders/s_/qtbdy3px3m3_6k7xydrkhbsh0000gn/T/ipykernel_7686/191058123.py:3: SettingWithCopyWarning: \n",
      "A value is trying to be set on a copy of a slice from a DataFrame.\n",
      "Try using .loc[row_indexer,col_indexer] = value instead\n",
      "\n",
      "See the caveats in the documentation: https://pandas.pydata.org/pandas-docs/stable/user_guide/indexing.html#returning-a-view-versus-a-copy\n",
      "  df.loc[:,'CO2toRevenue'] = df.loc[:,'EmissionDataPoints.CO2EquivalentsEmissionDirectScope1']*(df.loc[:,'EmissionIndicators.TotalCO2EquivalentsEmissionsToRevenues']/df.loc[:,'EmissionDataPoints.CO2EquivalentsEmissionTotal'])\n",
      "/var/folders/s_/qtbdy3px3m3_6k7xydrkhbsh0000gn/T/ipykernel_7686/191058123.py:3: SettingWithCopyWarning: \n",
      "A value is trying to be set on a copy of a slice from a DataFrame.\n",
      "Try using .loc[row_indexer,col_indexer] = value instead\n",
      "\n",
      "See the caveats in the documentation: https://pandas.pydata.org/pandas-docs/stable/user_guide/indexing.html#returning-a-view-versus-a-copy\n",
      "  df.loc[:,'CO2toRevenue'] = df.loc[:,'EmissionDataPoints.CO2EquivalentsEmissionDirectScope1']*(df.loc[:,'EmissionIndicators.TotalCO2EquivalentsEmissionsToRevenues']/df.loc[:,'EmissionDataPoints.CO2EquivalentsEmissionTotal'])\n",
      "/var/folders/s_/qtbdy3px3m3_6k7xydrkhbsh0000gn/T/ipykernel_7686/191058123.py:3: SettingWithCopyWarning: \n",
      "A value is trying to be set on a copy of a slice from a DataFrame.\n",
      "Try using .loc[row_indexer,col_indexer] = value instead\n",
      "\n",
      "See the caveats in the documentation: https://pandas.pydata.org/pandas-docs/stable/user_guide/indexing.html#returning-a-view-versus-a-copy\n",
      "  df.loc[:,'CO2toRevenue'] = df.loc[:,'EmissionDataPoints.CO2EquivalentsEmissionDirectScope1']*(df.loc[:,'EmissionIndicators.TotalCO2EquivalentsEmissionsToRevenues']/df.loc[:,'EmissionDataPoints.CO2EquivalentsEmissionTotal'])\n"
     ]
    },
    {
     "name": "stdout",
     "output_type": "stream",
     "text": [
      "predictions based on orgid\n",
      "predictions based on sector (using scaled data)\n",
      "predictions based on sector (using scaled data)\n",
      "predictions based on sector (using scaled data)\n"
     ]
    },
    {
     "name": "stderr",
     "output_type": "stream",
     "text": [
      "/var/folders/s_/qtbdy3px3m3_6k7xydrkhbsh0000gn/T/ipykernel_7686/191058123.py:3: SettingWithCopyWarning: \n",
      "A value is trying to be set on a copy of a slice from a DataFrame.\n",
      "Try using .loc[row_indexer,col_indexer] = value instead\n",
      "\n",
      "See the caveats in the documentation: https://pandas.pydata.org/pandas-docs/stable/user_guide/indexing.html#returning-a-view-versus-a-copy\n",
      "  df.loc[:,'CO2toRevenue'] = df.loc[:,'EmissionDataPoints.CO2EquivalentsEmissionDirectScope1']*(df.loc[:,'EmissionIndicators.TotalCO2EquivalentsEmissionsToRevenues']/df.loc[:,'EmissionDataPoints.CO2EquivalentsEmissionTotal'])\n",
      "/var/folders/s_/qtbdy3px3m3_6k7xydrkhbsh0000gn/T/ipykernel_7686/191058123.py:3: SettingWithCopyWarning: \n",
      "A value is trying to be set on a copy of a slice from a DataFrame.\n",
      "Try using .loc[row_indexer,col_indexer] = value instead\n",
      "\n",
      "See the caveats in the documentation: https://pandas.pydata.org/pandas-docs/stable/user_guide/indexing.html#returning-a-view-versus-a-copy\n",
      "  df.loc[:,'CO2toRevenue'] = df.loc[:,'EmissionDataPoints.CO2EquivalentsEmissionDirectScope1']*(df.loc[:,'EmissionIndicators.TotalCO2EquivalentsEmissionsToRevenues']/df.loc[:,'EmissionDataPoints.CO2EquivalentsEmissionTotal'])\n",
      "/var/folders/s_/qtbdy3px3m3_6k7xydrkhbsh0000gn/T/ipykernel_7686/191058123.py:3: SettingWithCopyWarning: \n",
      "A value is trying to be set on a copy of a slice from a DataFrame.\n",
      "Try using .loc[row_indexer,col_indexer] = value instead\n",
      "\n",
      "See the caveats in the documentation: https://pandas.pydata.org/pandas-docs/stable/user_guide/indexing.html#returning-a-view-versus-a-copy\n",
      "  df.loc[:,'CO2toRevenue'] = df.loc[:,'EmissionDataPoints.CO2EquivalentsEmissionDirectScope1']*(df.loc[:,'EmissionIndicators.TotalCO2EquivalentsEmissionsToRevenues']/df.loc[:,'EmissionDataPoints.CO2EquivalentsEmissionTotal'])\n"
     ]
    },
    {
     "name": "stdout",
     "output_type": "stream",
     "text": [
      "predictions based on sector (using scaled data)\n",
      "predictions based on sector (using scaled data)\n"
     ]
    },
    {
     "name": "stderr",
     "output_type": "stream",
     "text": [
      "/var/folders/s_/qtbdy3px3m3_6k7xydrkhbsh0000gn/T/ipykernel_7686/191058123.py:3: SettingWithCopyWarning: \n",
      "A value is trying to be set on a copy of a slice from a DataFrame.\n",
      "Try using .loc[row_indexer,col_indexer] = value instead\n",
      "\n",
      "See the caveats in the documentation: https://pandas.pydata.org/pandas-docs/stable/user_guide/indexing.html#returning-a-view-versus-a-copy\n",
      "  df.loc[:,'CO2toRevenue'] = df.loc[:,'EmissionDataPoints.CO2EquivalentsEmissionDirectScope1']*(df.loc[:,'EmissionIndicators.TotalCO2EquivalentsEmissionsToRevenues']/df.loc[:,'EmissionDataPoints.CO2EquivalentsEmissionTotal'])\n",
      "/var/folders/s_/qtbdy3px3m3_6k7xydrkhbsh0000gn/T/ipykernel_7686/191058123.py:3: SettingWithCopyWarning: \n",
      "A value is trying to be set on a copy of a slice from a DataFrame.\n",
      "Try using .loc[row_indexer,col_indexer] = value instead\n",
      "\n",
      "See the caveats in the documentation: https://pandas.pydata.org/pandas-docs/stable/user_guide/indexing.html#returning-a-view-versus-a-copy\n",
      "  df.loc[:,'CO2toRevenue'] = df.loc[:,'EmissionDataPoints.CO2EquivalentsEmissionDirectScope1']*(df.loc[:,'EmissionIndicators.TotalCO2EquivalentsEmissionsToRevenues']/df.loc[:,'EmissionDataPoints.CO2EquivalentsEmissionTotal'])\n"
     ]
    },
    {
     "name": "stdout",
     "output_type": "stream",
     "text": [
      "predictions based on orgid\n",
      "predictions based on sector (using scaled data)\n",
      "predictions based on sector (using scaled data)\n"
     ]
    },
    {
     "name": "stderr",
     "output_type": "stream",
     "text": [
      "/var/folders/s_/qtbdy3px3m3_6k7xydrkhbsh0000gn/T/ipykernel_7686/191058123.py:3: SettingWithCopyWarning: \n",
      "A value is trying to be set on a copy of a slice from a DataFrame.\n",
      "Try using .loc[row_indexer,col_indexer] = value instead\n",
      "\n",
      "See the caveats in the documentation: https://pandas.pydata.org/pandas-docs/stable/user_guide/indexing.html#returning-a-view-versus-a-copy\n",
      "  df.loc[:,'CO2toRevenue'] = df.loc[:,'EmissionDataPoints.CO2EquivalentsEmissionDirectScope1']*(df.loc[:,'EmissionIndicators.TotalCO2EquivalentsEmissionsToRevenues']/df.loc[:,'EmissionDataPoints.CO2EquivalentsEmissionTotal'])\n",
      "/var/folders/s_/qtbdy3px3m3_6k7xydrkhbsh0000gn/T/ipykernel_7686/191058123.py:3: SettingWithCopyWarning: \n",
      "A value is trying to be set on a copy of a slice from a DataFrame.\n",
      "Try using .loc[row_indexer,col_indexer] = value instead\n",
      "\n",
      "See the caveats in the documentation: https://pandas.pydata.org/pandas-docs/stable/user_guide/indexing.html#returning-a-view-versus-a-copy\n",
      "  df.loc[:,'CO2toRevenue'] = df.loc[:,'EmissionDataPoints.CO2EquivalentsEmissionDirectScope1']*(df.loc[:,'EmissionIndicators.TotalCO2EquivalentsEmissionsToRevenues']/df.loc[:,'EmissionDataPoints.CO2EquivalentsEmissionTotal'])\n"
     ]
    },
    {
     "name": "stdout",
     "output_type": "stream",
     "text": [
      "predictions based on sector (using scaled data)\n",
      "predictions based on sector (using scaled data)\n"
     ]
    },
    {
     "name": "stderr",
     "output_type": "stream",
     "text": [
      "/var/folders/s_/qtbdy3px3m3_6k7xydrkhbsh0000gn/T/ipykernel_7686/191058123.py:3: SettingWithCopyWarning: \n",
      "A value is trying to be set on a copy of a slice from a DataFrame.\n",
      "Try using .loc[row_indexer,col_indexer] = value instead\n",
      "\n",
      "See the caveats in the documentation: https://pandas.pydata.org/pandas-docs/stable/user_guide/indexing.html#returning-a-view-versus-a-copy\n",
      "  df.loc[:,'CO2toRevenue'] = df.loc[:,'EmissionDataPoints.CO2EquivalentsEmissionDirectScope1']*(df.loc[:,'EmissionIndicators.TotalCO2EquivalentsEmissionsToRevenues']/df.loc[:,'EmissionDataPoints.CO2EquivalentsEmissionTotal'])\n",
      "/var/folders/s_/qtbdy3px3m3_6k7xydrkhbsh0000gn/T/ipykernel_7686/191058123.py:3: SettingWithCopyWarning: \n",
      "A value is trying to be set on a copy of a slice from a DataFrame.\n",
      "Try using .loc[row_indexer,col_indexer] = value instead\n",
      "\n",
      "See the caveats in the documentation: https://pandas.pydata.org/pandas-docs/stable/user_guide/indexing.html#returning-a-view-versus-a-copy\n",
      "  df.loc[:,'CO2toRevenue'] = df.loc[:,'EmissionDataPoints.CO2EquivalentsEmissionDirectScope1']*(df.loc[:,'EmissionIndicators.TotalCO2EquivalentsEmissionsToRevenues']/df.loc[:,'EmissionDataPoints.CO2EquivalentsEmissionTotal'])\n"
     ]
    },
    {
     "name": "stdout",
     "output_type": "stream",
     "text": [
      "predictions based on sector (using scaled data)\n",
      "predictions based on sector (using scaled data)\n",
      "predictions based on orgid\n",
      "predictions based on sector (using scaled data)\n"
     ]
    },
    {
     "name": "stderr",
     "output_type": "stream",
     "text": [
      "/var/folders/s_/qtbdy3px3m3_6k7xydrkhbsh0000gn/T/ipykernel_7686/191058123.py:3: SettingWithCopyWarning: \n",
      "A value is trying to be set on a copy of a slice from a DataFrame.\n",
      "Try using .loc[row_indexer,col_indexer] = value instead\n",
      "\n",
      "See the caveats in the documentation: https://pandas.pydata.org/pandas-docs/stable/user_guide/indexing.html#returning-a-view-versus-a-copy\n",
      "  df.loc[:,'CO2toRevenue'] = df.loc[:,'EmissionDataPoints.CO2EquivalentsEmissionDirectScope1']*(df.loc[:,'EmissionIndicators.TotalCO2EquivalentsEmissionsToRevenues']/df.loc[:,'EmissionDataPoints.CO2EquivalentsEmissionTotal'])\n",
      "/var/folders/s_/qtbdy3px3m3_6k7xydrkhbsh0000gn/T/ipykernel_7686/191058123.py:3: SettingWithCopyWarning: \n",
      "A value is trying to be set on a copy of a slice from a DataFrame.\n",
      "Try using .loc[row_indexer,col_indexer] = value instead\n",
      "\n",
      "See the caveats in the documentation: https://pandas.pydata.org/pandas-docs/stable/user_guide/indexing.html#returning-a-view-versus-a-copy\n",
      "  df.loc[:,'CO2toRevenue'] = df.loc[:,'EmissionDataPoints.CO2EquivalentsEmissionDirectScope1']*(df.loc[:,'EmissionIndicators.TotalCO2EquivalentsEmissionsToRevenues']/df.loc[:,'EmissionDataPoints.CO2EquivalentsEmissionTotal'])\n",
      "/var/folders/s_/qtbdy3px3m3_6k7xydrkhbsh0000gn/T/ipykernel_7686/191058123.py:3: SettingWithCopyWarning: \n",
      "A value is trying to be set on a copy of a slice from a DataFrame.\n",
      "Try using .loc[row_indexer,col_indexer] = value instead\n",
      "\n",
      "See the caveats in the documentation: https://pandas.pydata.org/pandas-docs/stable/user_guide/indexing.html#returning-a-view-versus-a-copy\n",
      "  df.loc[:,'CO2toRevenue'] = df.loc[:,'EmissionDataPoints.CO2EquivalentsEmissionDirectScope1']*(df.loc[:,'EmissionIndicators.TotalCO2EquivalentsEmissionsToRevenues']/df.loc[:,'EmissionDataPoints.CO2EquivalentsEmissionTotal'])\n"
     ]
    },
    {
     "name": "stdout",
     "output_type": "stream",
     "text": [
      "predictions based on sector (using scaled data)\n",
      "predictions based on sector (using scaled data)\n"
     ]
    },
    {
     "name": "stderr",
     "output_type": "stream",
     "text": [
      "/var/folders/s_/qtbdy3px3m3_6k7xydrkhbsh0000gn/T/ipykernel_7686/191058123.py:3: SettingWithCopyWarning: \n",
      "A value is trying to be set on a copy of a slice from a DataFrame.\n",
      "Try using .loc[row_indexer,col_indexer] = value instead\n",
      "\n",
      "See the caveats in the documentation: https://pandas.pydata.org/pandas-docs/stable/user_guide/indexing.html#returning-a-view-versus-a-copy\n",
      "  df.loc[:,'CO2toRevenue'] = df.loc[:,'EmissionDataPoints.CO2EquivalentsEmissionDirectScope1']*(df.loc[:,'EmissionIndicators.TotalCO2EquivalentsEmissionsToRevenues']/df.loc[:,'EmissionDataPoints.CO2EquivalentsEmissionTotal'])\n",
      "/var/folders/s_/qtbdy3px3m3_6k7xydrkhbsh0000gn/T/ipykernel_7686/191058123.py:3: SettingWithCopyWarning: \n",
      "A value is trying to be set on a copy of a slice from a DataFrame.\n",
      "Try using .loc[row_indexer,col_indexer] = value instead\n",
      "\n",
      "See the caveats in the documentation: https://pandas.pydata.org/pandas-docs/stable/user_guide/indexing.html#returning-a-view-versus-a-copy\n",
      "  df.loc[:,'CO2toRevenue'] = df.loc[:,'EmissionDataPoints.CO2EquivalentsEmissionDirectScope1']*(df.loc[:,'EmissionIndicators.TotalCO2EquivalentsEmissionsToRevenues']/df.loc[:,'EmissionDataPoints.CO2EquivalentsEmissionTotal'])\n"
     ]
    },
    {
     "name": "stdout",
     "output_type": "stream",
     "text": [
      "predictions based on orgid\n",
      "predictions based on sector (using scaled data)\n",
      "predictions based on orgid\n",
      "predictions based on sector (using scaled data)\n"
     ]
    },
    {
     "name": "stderr",
     "output_type": "stream",
     "text": [
      "/var/folders/s_/qtbdy3px3m3_6k7xydrkhbsh0000gn/T/ipykernel_7686/191058123.py:3: SettingWithCopyWarning: \n",
      "A value is trying to be set on a copy of a slice from a DataFrame.\n",
      "Try using .loc[row_indexer,col_indexer] = value instead\n",
      "\n",
      "See the caveats in the documentation: https://pandas.pydata.org/pandas-docs/stable/user_guide/indexing.html#returning-a-view-versus-a-copy\n",
      "  df.loc[:,'CO2toRevenue'] = df.loc[:,'EmissionDataPoints.CO2EquivalentsEmissionDirectScope1']*(df.loc[:,'EmissionIndicators.TotalCO2EquivalentsEmissionsToRevenues']/df.loc[:,'EmissionDataPoints.CO2EquivalentsEmissionTotal'])\n",
      "/var/folders/s_/qtbdy3px3m3_6k7xydrkhbsh0000gn/T/ipykernel_7686/191058123.py:3: SettingWithCopyWarning: \n",
      "A value is trying to be set on a copy of a slice from a DataFrame.\n",
      "Try using .loc[row_indexer,col_indexer] = value instead\n",
      "\n",
      "See the caveats in the documentation: https://pandas.pydata.org/pandas-docs/stable/user_guide/indexing.html#returning-a-view-versus-a-copy\n",
      "  df.loc[:,'CO2toRevenue'] = df.loc[:,'EmissionDataPoints.CO2EquivalentsEmissionDirectScope1']*(df.loc[:,'EmissionIndicators.TotalCO2EquivalentsEmissionsToRevenues']/df.loc[:,'EmissionDataPoints.CO2EquivalentsEmissionTotal'])\n"
     ]
    },
    {
     "name": "stdout",
     "output_type": "stream",
     "text": [
      "predictions based on sector (using scaled data)\n",
      "predictions based on sector (using scaled data)\n",
      "predictions based on sector (using scaled data)\n"
     ]
    },
    {
     "name": "stderr",
     "output_type": "stream",
     "text": [
      "/var/folders/s_/qtbdy3px3m3_6k7xydrkhbsh0000gn/T/ipykernel_7686/191058123.py:3: SettingWithCopyWarning: \n",
      "A value is trying to be set on a copy of a slice from a DataFrame.\n",
      "Try using .loc[row_indexer,col_indexer] = value instead\n",
      "\n",
      "See the caveats in the documentation: https://pandas.pydata.org/pandas-docs/stable/user_guide/indexing.html#returning-a-view-versus-a-copy\n",
      "  df.loc[:,'CO2toRevenue'] = df.loc[:,'EmissionDataPoints.CO2EquivalentsEmissionDirectScope1']*(df.loc[:,'EmissionIndicators.TotalCO2EquivalentsEmissionsToRevenues']/df.loc[:,'EmissionDataPoints.CO2EquivalentsEmissionTotal'])\n",
      "/var/folders/s_/qtbdy3px3m3_6k7xydrkhbsh0000gn/T/ipykernel_7686/191058123.py:3: SettingWithCopyWarning: \n",
      "A value is trying to be set on a copy of a slice from a DataFrame.\n",
      "Try using .loc[row_indexer,col_indexer] = value instead\n",
      "\n",
      "See the caveats in the documentation: https://pandas.pydata.org/pandas-docs/stable/user_guide/indexing.html#returning-a-view-versus-a-copy\n",
      "  df.loc[:,'CO2toRevenue'] = df.loc[:,'EmissionDataPoints.CO2EquivalentsEmissionDirectScope1']*(df.loc[:,'EmissionIndicators.TotalCO2EquivalentsEmissionsToRevenues']/df.loc[:,'EmissionDataPoints.CO2EquivalentsEmissionTotal'])\n",
      "/var/folders/s_/qtbdy3px3m3_6k7xydrkhbsh0000gn/T/ipykernel_7686/191058123.py:3: SettingWithCopyWarning: \n",
      "A value is trying to be set on a copy of a slice from a DataFrame.\n",
      "Try using .loc[row_indexer,col_indexer] = value instead\n",
      "\n",
      "See the caveats in the documentation: https://pandas.pydata.org/pandas-docs/stable/user_guide/indexing.html#returning-a-view-versus-a-copy\n",
      "  df.loc[:,'CO2toRevenue'] = df.loc[:,'EmissionDataPoints.CO2EquivalentsEmissionDirectScope1']*(df.loc[:,'EmissionIndicators.TotalCO2EquivalentsEmissionsToRevenues']/df.loc[:,'EmissionDataPoints.CO2EquivalentsEmissionTotal'])\n"
     ]
    },
    {
     "name": "stdout",
     "output_type": "stream",
     "text": [
      "predictions based on orgid\n",
      "predictions based on sector (using scaled data)\n",
      "predictions based on orgid\n",
      "predictions based on orgid\n",
      "predictions based on sector (using scaled data)\n"
     ]
    },
    {
     "name": "stderr",
     "output_type": "stream",
     "text": [
      "/var/folders/s_/qtbdy3px3m3_6k7xydrkhbsh0000gn/T/ipykernel_7686/191058123.py:3: SettingWithCopyWarning: \n",
      "A value is trying to be set on a copy of a slice from a DataFrame.\n",
      "Try using .loc[row_indexer,col_indexer] = value instead\n",
      "\n",
      "See the caveats in the documentation: https://pandas.pydata.org/pandas-docs/stable/user_guide/indexing.html#returning-a-view-versus-a-copy\n",
      "  df.loc[:,'CO2toRevenue'] = df.loc[:,'EmissionDataPoints.CO2EquivalentsEmissionDirectScope1']*(df.loc[:,'EmissionIndicators.TotalCO2EquivalentsEmissionsToRevenues']/df.loc[:,'EmissionDataPoints.CO2EquivalentsEmissionTotal'])\n",
      "/var/folders/s_/qtbdy3px3m3_6k7xydrkhbsh0000gn/T/ipykernel_7686/191058123.py:3: SettingWithCopyWarning: \n",
      "A value is trying to be set on a copy of a slice from a DataFrame.\n",
      "Try using .loc[row_indexer,col_indexer] = value instead\n",
      "\n",
      "See the caveats in the documentation: https://pandas.pydata.org/pandas-docs/stable/user_guide/indexing.html#returning-a-view-versus-a-copy\n",
      "  df.loc[:,'CO2toRevenue'] = df.loc[:,'EmissionDataPoints.CO2EquivalentsEmissionDirectScope1']*(df.loc[:,'EmissionIndicators.TotalCO2EquivalentsEmissionsToRevenues']/df.loc[:,'EmissionDataPoints.CO2EquivalentsEmissionTotal'])\n"
     ]
    },
    {
     "name": "stdout",
     "output_type": "stream",
     "text": [
      "predictions based on sector (using scaled data)\n",
      "predictions based on orgid\n",
      "predictions based on sector (using scaled data)\n"
     ]
    },
    {
     "name": "stderr",
     "output_type": "stream",
     "text": [
      "/var/folders/s_/qtbdy3px3m3_6k7xydrkhbsh0000gn/T/ipykernel_7686/191058123.py:3: SettingWithCopyWarning: \n",
      "A value is trying to be set on a copy of a slice from a DataFrame.\n",
      "Try using .loc[row_indexer,col_indexer] = value instead\n",
      "\n",
      "See the caveats in the documentation: https://pandas.pydata.org/pandas-docs/stable/user_guide/indexing.html#returning-a-view-versus-a-copy\n",
      "  df.loc[:,'CO2toRevenue'] = df.loc[:,'EmissionDataPoints.CO2EquivalentsEmissionDirectScope1']*(df.loc[:,'EmissionIndicators.TotalCO2EquivalentsEmissionsToRevenues']/df.loc[:,'EmissionDataPoints.CO2EquivalentsEmissionTotal'])\n",
      "/var/folders/s_/qtbdy3px3m3_6k7xydrkhbsh0000gn/T/ipykernel_7686/191058123.py:3: SettingWithCopyWarning: \n",
      "A value is trying to be set on a copy of a slice from a DataFrame.\n",
      "Try using .loc[row_indexer,col_indexer] = value instead\n",
      "\n",
      "See the caveats in the documentation: https://pandas.pydata.org/pandas-docs/stable/user_guide/indexing.html#returning-a-view-versus-a-copy\n",
      "  df.loc[:,'CO2toRevenue'] = df.loc[:,'EmissionDataPoints.CO2EquivalentsEmissionDirectScope1']*(df.loc[:,'EmissionIndicators.TotalCO2EquivalentsEmissionsToRevenues']/df.loc[:,'EmissionDataPoints.CO2EquivalentsEmissionTotal'])\n"
     ]
    },
    {
     "name": "stdout",
     "output_type": "stream",
     "text": [
      "predictions based on orgid\n",
      "predictions based on orgid\n",
      "predictions based on orgid\n",
      "predictions based on sector (using scaled data)\n",
      "predictions based on sector (using scaled data)\n"
     ]
    },
    {
     "name": "stderr",
     "output_type": "stream",
     "text": [
      "/var/folders/s_/qtbdy3px3m3_6k7xydrkhbsh0000gn/T/ipykernel_7686/191058123.py:3: SettingWithCopyWarning: \n",
      "A value is trying to be set on a copy of a slice from a DataFrame.\n",
      "Try using .loc[row_indexer,col_indexer] = value instead\n",
      "\n",
      "See the caveats in the documentation: https://pandas.pydata.org/pandas-docs/stable/user_guide/indexing.html#returning-a-view-versus-a-copy\n",
      "  df.loc[:,'CO2toRevenue'] = df.loc[:,'EmissionDataPoints.CO2EquivalentsEmissionDirectScope1']*(df.loc[:,'EmissionIndicators.TotalCO2EquivalentsEmissionsToRevenues']/df.loc[:,'EmissionDataPoints.CO2EquivalentsEmissionTotal'])\n",
      "/var/folders/s_/qtbdy3px3m3_6k7xydrkhbsh0000gn/T/ipykernel_7686/191058123.py:3: SettingWithCopyWarning: \n",
      "A value is trying to be set on a copy of a slice from a DataFrame.\n",
      "Try using .loc[row_indexer,col_indexer] = value instead\n",
      "\n",
      "See the caveats in the documentation: https://pandas.pydata.org/pandas-docs/stable/user_guide/indexing.html#returning-a-view-versus-a-copy\n",
      "  df.loc[:,'CO2toRevenue'] = df.loc[:,'EmissionDataPoints.CO2EquivalentsEmissionDirectScope1']*(df.loc[:,'EmissionIndicators.TotalCO2EquivalentsEmissionsToRevenues']/df.loc[:,'EmissionDataPoints.CO2EquivalentsEmissionTotal'])\n"
     ]
    },
    {
     "name": "stdout",
     "output_type": "stream",
     "text": [
      "predictions based on orgid\n",
      "predictions based on sector (using scaled data)\n",
      "predictions based on sector (using scaled data)\n"
     ]
    },
    {
     "name": "stderr",
     "output_type": "stream",
     "text": [
      "/var/folders/s_/qtbdy3px3m3_6k7xydrkhbsh0000gn/T/ipykernel_7686/191058123.py:3: SettingWithCopyWarning: \n",
      "A value is trying to be set on a copy of a slice from a DataFrame.\n",
      "Try using .loc[row_indexer,col_indexer] = value instead\n",
      "\n",
      "See the caveats in the documentation: https://pandas.pydata.org/pandas-docs/stable/user_guide/indexing.html#returning-a-view-versus-a-copy\n",
      "  df.loc[:,'CO2toRevenue'] = df.loc[:,'EmissionDataPoints.CO2EquivalentsEmissionDirectScope1']*(df.loc[:,'EmissionIndicators.TotalCO2EquivalentsEmissionsToRevenues']/df.loc[:,'EmissionDataPoints.CO2EquivalentsEmissionTotal'])\n",
      "/var/folders/s_/qtbdy3px3m3_6k7xydrkhbsh0000gn/T/ipykernel_7686/191058123.py:3: SettingWithCopyWarning: \n",
      "A value is trying to be set on a copy of a slice from a DataFrame.\n",
      "Try using .loc[row_indexer,col_indexer] = value instead\n",
      "\n",
      "See the caveats in the documentation: https://pandas.pydata.org/pandas-docs/stable/user_guide/indexing.html#returning-a-view-versus-a-copy\n",
      "  df.loc[:,'CO2toRevenue'] = df.loc[:,'EmissionDataPoints.CO2EquivalentsEmissionDirectScope1']*(df.loc[:,'EmissionIndicators.TotalCO2EquivalentsEmissionsToRevenues']/df.loc[:,'EmissionDataPoints.CO2EquivalentsEmissionTotal'])\n"
     ]
    },
    {
     "name": "stdout",
     "output_type": "stream",
     "text": [
      "predictions based on sector (using scaled data)\n",
      "predictions based on orgid\n",
      "predictions based on orgid\n",
      "predictions based on sector (using scaled data)\n"
     ]
    },
    {
     "name": "stderr",
     "output_type": "stream",
     "text": [
      "/var/folders/s_/qtbdy3px3m3_6k7xydrkhbsh0000gn/T/ipykernel_7686/191058123.py:3: SettingWithCopyWarning: \n",
      "A value is trying to be set on a copy of a slice from a DataFrame.\n",
      "Try using .loc[row_indexer,col_indexer] = value instead\n",
      "\n",
      "See the caveats in the documentation: https://pandas.pydata.org/pandas-docs/stable/user_guide/indexing.html#returning-a-view-versus-a-copy\n",
      "  df.loc[:,'CO2toRevenue'] = df.loc[:,'EmissionDataPoints.CO2EquivalentsEmissionDirectScope1']*(df.loc[:,'EmissionIndicators.TotalCO2EquivalentsEmissionsToRevenues']/df.loc[:,'EmissionDataPoints.CO2EquivalentsEmissionTotal'])\n",
      "/var/folders/s_/qtbdy3px3m3_6k7xydrkhbsh0000gn/T/ipykernel_7686/191058123.py:3: SettingWithCopyWarning: \n",
      "A value is trying to be set on a copy of a slice from a DataFrame.\n",
      "Try using .loc[row_indexer,col_indexer] = value instead\n",
      "\n",
      "See the caveats in the documentation: https://pandas.pydata.org/pandas-docs/stable/user_guide/indexing.html#returning-a-view-versus-a-copy\n",
      "  df.loc[:,'CO2toRevenue'] = df.loc[:,'EmissionDataPoints.CO2EquivalentsEmissionDirectScope1']*(df.loc[:,'EmissionIndicators.TotalCO2EquivalentsEmissionsToRevenues']/df.loc[:,'EmissionDataPoints.CO2EquivalentsEmissionTotal'])\n"
     ]
    },
    {
     "name": "stdout",
     "output_type": "stream",
     "text": [
      "predictions based on sector (using scaled data)\n",
      "predictions based on sector (using scaled data)\n"
     ]
    },
    {
     "name": "stderr",
     "output_type": "stream",
     "text": [
      "/var/folders/s_/qtbdy3px3m3_6k7xydrkhbsh0000gn/T/ipykernel_7686/191058123.py:3: SettingWithCopyWarning: \n",
      "A value is trying to be set on a copy of a slice from a DataFrame.\n",
      "Try using .loc[row_indexer,col_indexer] = value instead\n",
      "\n",
      "See the caveats in the documentation: https://pandas.pydata.org/pandas-docs/stable/user_guide/indexing.html#returning-a-view-versus-a-copy\n",
      "  df.loc[:,'CO2toRevenue'] = df.loc[:,'EmissionDataPoints.CO2EquivalentsEmissionDirectScope1']*(df.loc[:,'EmissionIndicators.TotalCO2EquivalentsEmissionsToRevenues']/df.loc[:,'EmissionDataPoints.CO2EquivalentsEmissionTotal'])\n",
      "/var/folders/s_/qtbdy3px3m3_6k7xydrkhbsh0000gn/T/ipykernel_7686/191058123.py:3: SettingWithCopyWarning: \n",
      "A value is trying to be set on a copy of a slice from a DataFrame.\n",
      "Try using .loc[row_indexer,col_indexer] = value instead\n",
      "\n",
      "See the caveats in the documentation: https://pandas.pydata.org/pandas-docs/stable/user_guide/indexing.html#returning-a-view-versus-a-copy\n",
      "  df.loc[:,'CO2toRevenue'] = df.loc[:,'EmissionDataPoints.CO2EquivalentsEmissionDirectScope1']*(df.loc[:,'EmissionIndicators.TotalCO2EquivalentsEmissionsToRevenues']/df.loc[:,'EmissionDataPoints.CO2EquivalentsEmissionTotal'])\n"
     ]
    },
    {
     "name": "stdout",
     "output_type": "stream",
     "text": [
      "predictions based on sector (using scaled data)\n",
      "predictions based on sector (using scaled data)\n"
     ]
    },
    {
     "name": "stderr",
     "output_type": "stream",
     "text": [
      "/var/folders/s_/qtbdy3px3m3_6k7xydrkhbsh0000gn/T/ipykernel_7686/191058123.py:3: SettingWithCopyWarning: \n",
      "A value is trying to be set on a copy of a slice from a DataFrame.\n",
      "Try using .loc[row_indexer,col_indexer] = value instead\n",
      "\n",
      "See the caveats in the documentation: https://pandas.pydata.org/pandas-docs/stable/user_guide/indexing.html#returning-a-view-versus-a-copy\n",
      "  df.loc[:,'CO2toRevenue'] = df.loc[:,'EmissionDataPoints.CO2EquivalentsEmissionDirectScope1']*(df.loc[:,'EmissionIndicators.TotalCO2EquivalentsEmissionsToRevenues']/df.loc[:,'EmissionDataPoints.CO2EquivalentsEmissionTotal'])\n",
      "/var/folders/s_/qtbdy3px3m3_6k7xydrkhbsh0000gn/T/ipykernel_7686/191058123.py:3: SettingWithCopyWarning: \n",
      "A value is trying to be set on a copy of a slice from a DataFrame.\n",
      "Try using .loc[row_indexer,col_indexer] = value instead\n",
      "\n",
      "See the caveats in the documentation: https://pandas.pydata.org/pandas-docs/stable/user_guide/indexing.html#returning-a-view-versus-a-copy\n",
      "  df.loc[:,'CO2toRevenue'] = df.loc[:,'EmissionDataPoints.CO2EquivalentsEmissionDirectScope1']*(df.loc[:,'EmissionIndicators.TotalCO2EquivalentsEmissionsToRevenues']/df.loc[:,'EmissionDataPoints.CO2EquivalentsEmissionTotal'])\n"
     ]
    },
    {
     "name": "stdout",
     "output_type": "stream",
     "text": [
      "predictions based on sector (using scaled data)\n",
      "predictions based on sector (using scaled data)\n"
     ]
    },
    {
     "name": "stderr",
     "output_type": "stream",
     "text": [
      "/var/folders/s_/qtbdy3px3m3_6k7xydrkhbsh0000gn/T/ipykernel_7686/191058123.py:3: SettingWithCopyWarning: \n",
      "A value is trying to be set on a copy of a slice from a DataFrame.\n",
      "Try using .loc[row_indexer,col_indexer] = value instead\n",
      "\n",
      "See the caveats in the documentation: https://pandas.pydata.org/pandas-docs/stable/user_guide/indexing.html#returning-a-view-versus-a-copy\n",
      "  df.loc[:,'CO2toRevenue'] = df.loc[:,'EmissionDataPoints.CO2EquivalentsEmissionDirectScope1']*(df.loc[:,'EmissionIndicators.TotalCO2EquivalentsEmissionsToRevenues']/df.loc[:,'EmissionDataPoints.CO2EquivalentsEmissionTotal'])\n",
      "/var/folders/s_/qtbdy3px3m3_6k7xydrkhbsh0000gn/T/ipykernel_7686/191058123.py:3: SettingWithCopyWarning: \n",
      "A value is trying to be set on a copy of a slice from a DataFrame.\n",
      "Try using .loc[row_indexer,col_indexer] = value instead\n",
      "\n",
      "See the caveats in the documentation: https://pandas.pydata.org/pandas-docs/stable/user_guide/indexing.html#returning-a-view-versus-a-copy\n",
      "  df.loc[:,'CO2toRevenue'] = df.loc[:,'EmissionDataPoints.CO2EquivalentsEmissionDirectScope1']*(df.loc[:,'EmissionIndicators.TotalCO2EquivalentsEmissionsToRevenues']/df.loc[:,'EmissionDataPoints.CO2EquivalentsEmissionTotal'])\n"
     ]
    },
    {
     "name": "stdout",
     "output_type": "stream",
     "text": [
      "predictions based on sector (using scaled data)\n",
      "predictions based on sector (using scaled data)\n",
      "predictions based on sector (using scaled data)\n"
     ]
    },
    {
     "name": "stderr",
     "output_type": "stream",
     "text": [
      "/var/folders/s_/qtbdy3px3m3_6k7xydrkhbsh0000gn/T/ipykernel_7686/191058123.py:3: SettingWithCopyWarning: \n",
      "A value is trying to be set on a copy of a slice from a DataFrame.\n",
      "Try using .loc[row_indexer,col_indexer] = value instead\n",
      "\n",
      "See the caveats in the documentation: https://pandas.pydata.org/pandas-docs/stable/user_guide/indexing.html#returning-a-view-versus-a-copy\n",
      "  df.loc[:,'CO2toRevenue'] = df.loc[:,'EmissionDataPoints.CO2EquivalentsEmissionDirectScope1']*(df.loc[:,'EmissionIndicators.TotalCO2EquivalentsEmissionsToRevenues']/df.loc[:,'EmissionDataPoints.CO2EquivalentsEmissionTotal'])\n",
      "/var/folders/s_/qtbdy3px3m3_6k7xydrkhbsh0000gn/T/ipykernel_7686/191058123.py:3: SettingWithCopyWarning: \n",
      "A value is trying to be set on a copy of a slice from a DataFrame.\n",
      "Try using .loc[row_indexer,col_indexer] = value instead\n",
      "\n",
      "See the caveats in the documentation: https://pandas.pydata.org/pandas-docs/stable/user_guide/indexing.html#returning-a-view-versus-a-copy\n",
      "  df.loc[:,'CO2toRevenue'] = df.loc[:,'EmissionDataPoints.CO2EquivalentsEmissionDirectScope1']*(df.loc[:,'EmissionIndicators.TotalCO2EquivalentsEmissionsToRevenues']/df.loc[:,'EmissionDataPoints.CO2EquivalentsEmissionTotal'])\n",
      "/var/folders/s_/qtbdy3px3m3_6k7xydrkhbsh0000gn/T/ipykernel_7686/191058123.py:3: SettingWithCopyWarning: \n",
      "A value is trying to be set on a copy of a slice from a DataFrame.\n",
      "Try using .loc[row_indexer,col_indexer] = value instead\n",
      "\n",
      "See the caveats in the documentation: https://pandas.pydata.org/pandas-docs/stable/user_guide/indexing.html#returning-a-view-versus-a-copy\n",
      "  df.loc[:,'CO2toRevenue'] = df.loc[:,'EmissionDataPoints.CO2EquivalentsEmissionDirectScope1']*(df.loc[:,'EmissionIndicators.TotalCO2EquivalentsEmissionsToRevenues']/df.loc[:,'EmissionDataPoints.CO2EquivalentsEmissionTotal'])\n",
      "/var/folders/s_/qtbdy3px3m3_6k7xydrkhbsh0000gn/T/ipykernel_7686/191058123.py:3: SettingWithCopyWarning: \n",
      "A value is trying to be set on a copy of a slice from a DataFrame.\n",
      "Try using .loc[row_indexer,col_indexer] = value instead\n",
      "\n",
      "See the caveats in the documentation: https://pandas.pydata.org/pandas-docs/stable/user_guide/indexing.html#returning-a-view-versus-a-copy\n",
      "  df.loc[:,'CO2toRevenue'] = df.loc[:,'EmissionDataPoints.CO2EquivalentsEmissionDirectScope1']*(df.loc[:,'EmissionIndicators.TotalCO2EquivalentsEmissionsToRevenues']/df.loc[:,'EmissionDataPoints.CO2EquivalentsEmissionTotal'])\n"
     ]
    },
    {
     "name": "stdout",
     "output_type": "stream",
     "text": [
      "predictions based on sector (using scaled data)\n",
      "predictions based on sector (using scaled data)\n"
     ]
    },
    {
     "name": "stderr",
     "output_type": "stream",
     "text": [
      "/var/folders/s_/qtbdy3px3m3_6k7xydrkhbsh0000gn/T/ipykernel_7686/191058123.py:3: SettingWithCopyWarning: \n",
      "A value is trying to be set on a copy of a slice from a DataFrame.\n",
      "Try using .loc[row_indexer,col_indexer] = value instead\n",
      "\n",
      "See the caveats in the documentation: https://pandas.pydata.org/pandas-docs/stable/user_guide/indexing.html#returning-a-view-versus-a-copy\n",
      "  df.loc[:,'CO2toRevenue'] = df.loc[:,'EmissionDataPoints.CO2EquivalentsEmissionDirectScope1']*(df.loc[:,'EmissionIndicators.TotalCO2EquivalentsEmissionsToRevenues']/df.loc[:,'EmissionDataPoints.CO2EquivalentsEmissionTotal'])\n",
      "/var/folders/s_/qtbdy3px3m3_6k7xydrkhbsh0000gn/T/ipykernel_7686/191058123.py:3: SettingWithCopyWarning: \n",
      "A value is trying to be set on a copy of a slice from a DataFrame.\n",
      "Try using .loc[row_indexer,col_indexer] = value instead\n",
      "\n",
      "See the caveats in the documentation: https://pandas.pydata.org/pandas-docs/stable/user_guide/indexing.html#returning-a-view-versus-a-copy\n",
      "  df.loc[:,'CO2toRevenue'] = df.loc[:,'EmissionDataPoints.CO2EquivalentsEmissionDirectScope1']*(df.loc[:,'EmissionIndicators.TotalCO2EquivalentsEmissionsToRevenues']/df.loc[:,'EmissionDataPoints.CO2EquivalentsEmissionTotal'])\n"
     ]
    },
    {
     "name": "stdout",
     "output_type": "stream",
     "text": [
      "predictions based on sector (using scaled data)\n",
      "predictions based on sector (using scaled data)\n",
      "predictions based on orgid\n",
      "predictions based on orgid\n",
      "predictions based on orgid\n",
      "predictions based on orgid\n",
      "predictions based on sector (using scaled data)\n"
     ]
    },
    {
     "name": "stderr",
     "output_type": "stream",
     "text": [
      "/var/folders/s_/qtbdy3px3m3_6k7xydrkhbsh0000gn/T/ipykernel_7686/191058123.py:3: SettingWithCopyWarning: \n",
      "A value is trying to be set on a copy of a slice from a DataFrame.\n",
      "Try using .loc[row_indexer,col_indexer] = value instead\n",
      "\n",
      "See the caveats in the documentation: https://pandas.pydata.org/pandas-docs/stable/user_guide/indexing.html#returning-a-view-versus-a-copy\n",
      "  df.loc[:,'CO2toRevenue'] = df.loc[:,'EmissionDataPoints.CO2EquivalentsEmissionDirectScope1']*(df.loc[:,'EmissionIndicators.TotalCO2EquivalentsEmissionsToRevenues']/df.loc[:,'EmissionDataPoints.CO2EquivalentsEmissionTotal'])\n",
      "/var/folders/s_/qtbdy3px3m3_6k7xydrkhbsh0000gn/T/ipykernel_7686/191058123.py:3: SettingWithCopyWarning: \n",
      "A value is trying to be set on a copy of a slice from a DataFrame.\n",
      "Try using .loc[row_indexer,col_indexer] = value instead\n",
      "\n",
      "See the caveats in the documentation: https://pandas.pydata.org/pandas-docs/stable/user_guide/indexing.html#returning-a-view-versus-a-copy\n",
      "  df.loc[:,'CO2toRevenue'] = df.loc[:,'EmissionDataPoints.CO2EquivalentsEmissionDirectScope1']*(df.loc[:,'EmissionIndicators.TotalCO2EquivalentsEmissionsToRevenues']/df.loc[:,'EmissionDataPoints.CO2EquivalentsEmissionTotal'])\n"
     ]
    },
    {
     "name": "stdout",
     "output_type": "stream",
     "text": [
      "predictions based on orgid\n",
      "predictions based on orgid\n",
      "predictions based on orgid\n",
      "predictions based on orgid\n",
      "predictions based on orgid\n",
      "predictions based on orgid\n",
      "predictions based on orgid\n",
      "predictions based on orgid\n",
      "predictions based on sector (using scaled data)\n",
      "predictions based on sector (using scaled data)\n"
     ]
    },
    {
     "name": "stderr",
     "output_type": "stream",
     "text": [
      "/var/folders/s_/qtbdy3px3m3_6k7xydrkhbsh0000gn/T/ipykernel_7686/191058123.py:3: SettingWithCopyWarning: \n",
      "A value is trying to be set on a copy of a slice from a DataFrame.\n",
      "Try using .loc[row_indexer,col_indexer] = value instead\n",
      "\n",
      "See the caveats in the documentation: https://pandas.pydata.org/pandas-docs/stable/user_guide/indexing.html#returning-a-view-versus-a-copy\n",
      "  df.loc[:,'CO2toRevenue'] = df.loc[:,'EmissionDataPoints.CO2EquivalentsEmissionDirectScope1']*(df.loc[:,'EmissionIndicators.TotalCO2EquivalentsEmissionsToRevenues']/df.loc[:,'EmissionDataPoints.CO2EquivalentsEmissionTotal'])\n",
      "/var/folders/s_/qtbdy3px3m3_6k7xydrkhbsh0000gn/T/ipykernel_7686/191058123.py:3: SettingWithCopyWarning: \n",
      "A value is trying to be set on a copy of a slice from a DataFrame.\n",
      "Try using .loc[row_indexer,col_indexer] = value instead\n",
      "\n",
      "See the caveats in the documentation: https://pandas.pydata.org/pandas-docs/stable/user_guide/indexing.html#returning-a-view-versus-a-copy\n",
      "  df.loc[:,'CO2toRevenue'] = df.loc[:,'EmissionDataPoints.CO2EquivalentsEmissionDirectScope1']*(df.loc[:,'EmissionIndicators.TotalCO2EquivalentsEmissionsToRevenues']/df.loc[:,'EmissionDataPoints.CO2EquivalentsEmissionTotal'])\n",
      "/var/folders/s_/qtbdy3px3m3_6k7xydrkhbsh0000gn/T/ipykernel_7686/191058123.py:3: SettingWithCopyWarning: \n",
      "A value is trying to be set on a copy of a slice from a DataFrame.\n",
      "Try using .loc[row_indexer,col_indexer] = value instead\n",
      "\n",
      "See the caveats in the documentation: https://pandas.pydata.org/pandas-docs/stable/user_guide/indexing.html#returning-a-view-versus-a-copy\n",
      "  df.loc[:,'CO2toRevenue'] = df.loc[:,'EmissionDataPoints.CO2EquivalentsEmissionDirectScope1']*(df.loc[:,'EmissionIndicators.TotalCO2EquivalentsEmissionsToRevenues']/df.loc[:,'EmissionDataPoints.CO2EquivalentsEmissionTotal'])\n"
     ]
    },
    {
     "name": "stdout",
     "output_type": "stream",
     "text": [
      "predictions based on orgid\n",
      "predictions based on sector (using scaled data)\n",
      "predictions based on orgid\n",
      "predictions based on orgid\n",
      "predictions based on orgid\n",
      "predictions based on orgid\n",
      "predictions based on orgid\n",
      "predictions based on orgid\n",
      "predictions based on orgid\n",
      "predictions based on orgid\n",
      "predictions based on orgid\n",
      "predictions based on sector (using scaled data)\n"
     ]
    },
    {
     "name": "stderr",
     "output_type": "stream",
     "text": [
      "/var/folders/s_/qtbdy3px3m3_6k7xydrkhbsh0000gn/T/ipykernel_7686/191058123.py:3: SettingWithCopyWarning: \n",
      "A value is trying to be set on a copy of a slice from a DataFrame.\n",
      "Try using .loc[row_indexer,col_indexer] = value instead\n",
      "\n",
      "See the caveats in the documentation: https://pandas.pydata.org/pandas-docs/stable/user_guide/indexing.html#returning-a-view-versus-a-copy\n",
      "  df.loc[:,'CO2toRevenue'] = df.loc[:,'EmissionDataPoints.CO2EquivalentsEmissionDirectScope1']*(df.loc[:,'EmissionIndicators.TotalCO2EquivalentsEmissionsToRevenues']/df.loc[:,'EmissionDataPoints.CO2EquivalentsEmissionTotal'])\n",
      "/var/folders/s_/qtbdy3px3m3_6k7xydrkhbsh0000gn/T/ipykernel_7686/191058123.py:3: SettingWithCopyWarning: \n",
      "A value is trying to be set on a copy of a slice from a DataFrame.\n",
      "Try using .loc[row_indexer,col_indexer] = value instead\n",
      "\n",
      "See the caveats in the documentation: https://pandas.pydata.org/pandas-docs/stable/user_guide/indexing.html#returning-a-view-versus-a-copy\n",
      "  df.loc[:,'CO2toRevenue'] = df.loc[:,'EmissionDataPoints.CO2EquivalentsEmissionDirectScope1']*(df.loc[:,'EmissionIndicators.TotalCO2EquivalentsEmissionsToRevenues']/df.loc[:,'EmissionDataPoints.CO2EquivalentsEmissionTotal'])\n",
      "/var/folders/s_/qtbdy3px3m3_6k7xydrkhbsh0000gn/T/ipykernel_7686/191058123.py:3: SettingWithCopyWarning: \n",
      "A value is trying to be set on a copy of a slice from a DataFrame.\n",
      "Try using .loc[row_indexer,col_indexer] = value instead\n",
      "\n",
      "See the caveats in the documentation: https://pandas.pydata.org/pandas-docs/stable/user_guide/indexing.html#returning-a-view-versus-a-copy\n",
      "  df.loc[:,'CO2toRevenue'] = df.loc[:,'EmissionDataPoints.CO2EquivalentsEmissionDirectScope1']*(df.loc[:,'EmissionIndicators.TotalCO2EquivalentsEmissionsToRevenues']/df.loc[:,'EmissionDataPoints.CO2EquivalentsEmissionTotal'])\n"
     ]
    },
    {
     "name": "stdout",
     "output_type": "stream",
     "text": [
      "predictions based on sector (using scaled data)\n",
      "predictions based on orgid\n",
      "predictions based on orgid\n",
      "predictions based on sector (using scaled data)\n",
      "predictions based on sector (using scaled data)\n"
     ]
    },
    {
     "name": "stderr",
     "output_type": "stream",
     "text": [
      "/var/folders/s_/qtbdy3px3m3_6k7xydrkhbsh0000gn/T/ipykernel_7686/191058123.py:3: SettingWithCopyWarning: \n",
      "A value is trying to be set on a copy of a slice from a DataFrame.\n",
      "Try using .loc[row_indexer,col_indexer] = value instead\n",
      "\n",
      "See the caveats in the documentation: https://pandas.pydata.org/pandas-docs/stable/user_guide/indexing.html#returning-a-view-versus-a-copy\n",
      "  df.loc[:,'CO2toRevenue'] = df.loc[:,'EmissionDataPoints.CO2EquivalentsEmissionDirectScope1']*(df.loc[:,'EmissionIndicators.TotalCO2EquivalentsEmissionsToRevenues']/df.loc[:,'EmissionDataPoints.CO2EquivalentsEmissionTotal'])\n",
      "/var/folders/s_/qtbdy3px3m3_6k7xydrkhbsh0000gn/T/ipykernel_7686/191058123.py:3: SettingWithCopyWarning: \n",
      "A value is trying to be set on a copy of a slice from a DataFrame.\n",
      "Try using .loc[row_indexer,col_indexer] = value instead\n",
      "\n",
      "See the caveats in the documentation: https://pandas.pydata.org/pandas-docs/stable/user_guide/indexing.html#returning-a-view-versus-a-copy\n",
      "  df.loc[:,'CO2toRevenue'] = df.loc[:,'EmissionDataPoints.CO2EquivalentsEmissionDirectScope1']*(df.loc[:,'EmissionIndicators.TotalCO2EquivalentsEmissionsToRevenues']/df.loc[:,'EmissionDataPoints.CO2EquivalentsEmissionTotal'])\n"
     ]
    },
    {
     "name": "stdout",
     "output_type": "stream",
     "text": [
      "predictions based on orgid\n",
      "predictions based on sector (using scaled data)\n",
      "predictions based on sector (using scaled data)\n"
     ]
    },
    {
     "name": "stderr",
     "output_type": "stream",
     "text": [
      "/var/folders/s_/qtbdy3px3m3_6k7xydrkhbsh0000gn/T/ipykernel_7686/191058123.py:3: SettingWithCopyWarning: \n",
      "A value is trying to be set on a copy of a slice from a DataFrame.\n",
      "Try using .loc[row_indexer,col_indexer] = value instead\n",
      "\n",
      "See the caveats in the documentation: https://pandas.pydata.org/pandas-docs/stable/user_guide/indexing.html#returning-a-view-versus-a-copy\n",
      "  df.loc[:,'CO2toRevenue'] = df.loc[:,'EmissionDataPoints.CO2EquivalentsEmissionDirectScope1']*(df.loc[:,'EmissionIndicators.TotalCO2EquivalentsEmissionsToRevenues']/df.loc[:,'EmissionDataPoints.CO2EquivalentsEmissionTotal'])\n",
      "/var/folders/s_/qtbdy3px3m3_6k7xydrkhbsh0000gn/T/ipykernel_7686/191058123.py:3: SettingWithCopyWarning: \n",
      "A value is trying to be set on a copy of a slice from a DataFrame.\n",
      "Try using .loc[row_indexer,col_indexer] = value instead\n",
      "\n",
      "See the caveats in the documentation: https://pandas.pydata.org/pandas-docs/stable/user_guide/indexing.html#returning-a-view-versus-a-copy\n",
      "  df.loc[:,'CO2toRevenue'] = df.loc[:,'EmissionDataPoints.CO2EquivalentsEmissionDirectScope1']*(df.loc[:,'EmissionIndicators.TotalCO2EquivalentsEmissionsToRevenues']/df.loc[:,'EmissionDataPoints.CO2EquivalentsEmissionTotal'])\n"
     ]
    },
    {
     "name": "stdout",
     "output_type": "stream",
     "text": [
      "predictions based on sector (using scaled data)\n",
      "predictions based on sector (using scaled data)\n"
     ]
    },
    {
     "name": "stderr",
     "output_type": "stream",
     "text": [
      "/var/folders/s_/qtbdy3px3m3_6k7xydrkhbsh0000gn/T/ipykernel_7686/191058123.py:3: SettingWithCopyWarning: \n",
      "A value is trying to be set on a copy of a slice from a DataFrame.\n",
      "Try using .loc[row_indexer,col_indexer] = value instead\n",
      "\n",
      "See the caveats in the documentation: https://pandas.pydata.org/pandas-docs/stable/user_guide/indexing.html#returning-a-view-versus-a-copy\n",
      "  df.loc[:,'CO2toRevenue'] = df.loc[:,'EmissionDataPoints.CO2EquivalentsEmissionDirectScope1']*(df.loc[:,'EmissionIndicators.TotalCO2EquivalentsEmissionsToRevenues']/df.loc[:,'EmissionDataPoints.CO2EquivalentsEmissionTotal'])\n",
      "/var/folders/s_/qtbdy3px3m3_6k7xydrkhbsh0000gn/T/ipykernel_7686/191058123.py:3: SettingWithCopyWarning: \n",
      "A value is trying to be set on a copy of a slice from a DataFrame.\n",
      "Try using .loc[row_indexer,col_indexer] = value instead\n",
      "\n",
      "See the caveats in the documentation: https://pandas.pydata.org/pandas-docs/stable/user_guide/indexing.html#returning-a-view-versus-a-copy\n",
      "  df.loc[:,'CO2toRevenue'] = df.loc[:,'EmissionDataPoints.CO2EquivalentsEmissionDirectScope1']*(df.loc[:,'EmissionIndicators.TotalCO2EquivalentsEmissionsToRevenues']/df.loc[:,'EmissionDataPoints.CO2EquivalentsEmissionTotal'])\n",
      "/var/folders/s_/qtbdy3px3m3_6k7xydrkhbsh0000gn/T/ipykernel_7686/191058123.py:3: SettingWithCopyWarning: \n",
      "A value is trying to be set on a copy of a slice from a DataFrame.\n",
      "Try using .loc[row_indexer,col_indexer] = value instead\n",
      "\n",
      "See the caveats in the documentation: https://pandas.pydata.org/pandas-docs/stable/user_guide/indexing.html#returning-a-view-versus-a-copy\n",
      "  df.loc[:,'CO2toRevenue'] = df.loc[:,'EmissionDataPoints.CO2EquivalentsEmissionDirectScope1']*(df.loc[:,'EmissionIndicators.TotalCO2EquivalentsEmissionsToRevenues']/df.loc[:,'EmissionDataPoints.CO2EquivalentsEmissionTotal'])\n"
     ]
    },
    {
     "name": "stdout",
     "output_type": "stream",
     "text": [
      "predictions based on orgid\n",
      "predictions based on sector (using scaled data)\n",
      "predictions based on sector (using scaled data)\n",
      "predictions based on orgid\n",
      "predictions based on sector (using scaled data)\n"
     ]
    },
    {
     "name": "stderr",
     "output_type": "stream",
     "text": [
      "/var/folders/s_/qtbdy3px3m3_6k7xydrkhbsh0000gn/T/ipykernel_7686/191058123.py:3: SettingWithCopyWarning: \n",
      "A value is trying to be set on a copy of a slice from a DataFrame.\n",
      "Try using .loc[row_indexer,col_indexer] = value instead\n",
      "\n",
      "See the caveats in the documentation: https://pandas.pydata.org/pandas-docs/stable/user_guide/indexing.html#returning-a-view-versus-a-copy\n",
      "  df.loc[:,'CO2toRevenue'] = df.loc[:,'EmissionDataPoints.CO2EquivalentsEmissionDirectScope1']*(df.loc[:,'EmissionIndicators.TotalCO2EquivalentsEmissionsToRevenues']/df.loc[:,'EmissionDataPoints.CO2EquivalentsEmissionTotal'])\n",
      "/var/folders/s_/qtbdy3px3m3_6k7xydrkhbsh0000gn/T/ipykernel_7686/191058123.py:3: SettingWithCopyWarning: \n",
      "A value is trying to be set on a copy of a slice from a DataFrame.\n",
      "Try using .loc[row_indexer,col_indexer] = value instead\n",
      "\n",
      "See the caveats in the documentation: https://pandas.pydata.org/pandas-docs/stable/user_guide/indexing.html#returning-a-view-versus-a-copy\n",
      "  df.loc[:,'CO2toRevenue'] = df.loc[:,'EmissionDataPoints.CO2EquivalentsEmissionDirectScope1']*(df.loc[:,'EmissionIndicators.TotalCO2EquivalentsEmissionsToRevenues']/df.loc[:,'EmissionDataPoints.CO2EquivalentsEmissionTotal'])\n"
     ]
    },
    {
     "name": "stdout",
     "output_type": "stream",
     "text": [
      "predictions based on orgid\n",
      "predictions based on sector (using scaled data)\n",
      "predictions based on sector (using scaled data)\n"
     ]
    },
    {
     "name": "stderr",
     "output_type": "stream",
     "text": [
      "/var/folders/s_/qtbdy3px3m3_6k7xydrkhbsh0000gn/T/ipykernel_7686/191058123.py:3: SettingWithCopyWarning: \n",
      "A value is trying to be set on a copy of a slice from a DataFrame.\n",
      "Try using .loc[row_indexer,col_indexer] = value instead\n",
      "\n",
      "See the caveats in the documentation: https://pandas.pydata.org/pandas-docs/stable/user_guide/indexing.html#returning-a-view-versus-a-copy\n",
      "  df.loc[:,'CO2toRevenue'] = df.loc[:,'EmissionDataPoints.CO2EquivalentsEmissionDirectScope1']*(df.loc[:,'EmissionIndicators.TotalCO2EquivalentsEmissionsToRevenues']/df.loc[:,'EmissionDataPoints.CO2EquivalentsEmissionTotal'])\n",
      "/var/folders/s_/qtbdy3px3m3_6k7xydrkhbsh0000gn/T/ipykernel_7686/191058123.py:3: SettingWithCopyWarning: \n",
      "A value is trying to be set on a copy of a slice from a DataFrame.\n",
      "Try using .loc[row_indexer,col_indexer] = value instead\n",
      "\n",
      "See the caveats in the documentation: https://pandas.pydata.org/pandas-docs/stable/user_guide/indexing.html#returning-a-view-versus-a-copy\n",
      "  df.loc[:,'CO2toRevenue'] = df.loc[:,'EmissionDataPoints.CO2EquivalentsEmissionDirectScope1']*(df.loc[:,'EmissionIndicators.TotalCO2EquivalentsEmissionsToRevenues']/df.loc[:,'EmissionDataPoints.CO2EquivalentsEmissionTotal'])\n",
      "/var/folders/s_/qtbdy3px3m3_6k7xydrkhbsh0000gn/T/ipykernel_7686/191058123.py:3: SettingWithCopyWarning: \n",
      "A value is trying to be set on a copy of a slice from a DataFrame.\n",
      "Try using .loc[row_indexer,col_indexer] = value instead\n",
      "\n",
      "See the caveats in the documentation: https://pandas.pydata.org/pandas-docs/stable/user_guide/indexing.html#returning-a-view-versus-a-copy\n",
      "  df.loc[:,'CO2toRevenue'] = df.loc[:,'EmissionDataPoints.CO2EquivalentsEmissionDirectScope1']*(df.loc[:,'EmissionIndicators.TotalCO2EquivalentsEmissionsToRevenues']/df.loc[:,'EmissionDataPoints.CO2EquivalentsEmissionTotal'])\n"
     ]
    },
    {
     "name": "stdout",
     "output_type": "stream",
     "text": [
      "predictions based on sector (using scaled data)\n",
      "predictions based on sector (using scaled data)\n",
      "predictions based on sector (using scaled data)\n",
      "predictions based on sector (using scaled data)\n",
      "predictions based on sector (using scaled data)\n"
     ]
    },
    {
     "name": "stderr",
     "output_type": "stream",
     "text": [
      "/var/folders/s_/qtbdy3px3m3_6k7xydrkhbsh0000gn/T/ipykernel_7686/191058123.py:3: SettingWithCopyWarning: \n",
      "A value is trying to be set on a copy of a slice from a DataFrame.\n",
      "Try using .loc[row_indexer,col_indexer] = value instead\n",
      "\n",
      "See the caveats in the documentation: https://pandas.pydata.org/pandas-docs/stable/user_guide/indexing.html#returning-a-view-versus-a-copy\n",
      "  df.loc[:,'CO2toRevenue'] = df.loc[:,'EmissionDataPoints.CO2EquivalentsEmissionDirectScope1']*(df.loc[:,'EmissionIndicators.TotalCO2EquivalentsEmissionsToRevenues']/df.loc[:,'EmissionDataPoints.CO2EquivalentsEmissionTotal'])\n",
      "/var/folders/s_/qtbdy3px3m3_6k7xydrkhbsh0000gn/T/ipykernel_7686/191058123.py:3: SettingWithCopyWarning: \n",
      "A value is trying to be set on a copy of a slice from a DataFrame.\n",
      "Try using .loc[row_indexer,col_indexer] = value instead\n",
      "\n",
      "See the caveats in the documentation: https://pandas.pydata.org/pandas-docs/stable/user_guide/indexing.html#returning-a-view-versus-a-copy\n",
      "  df.loc[:,'CO2toRevenue'] = df.loc[:,'EmissionDataPoints.CO2EquivalentsEmissionDirectScope1']*(df.loc[:,'EmissionIndicators.TotalCO2EquivalentsEmissionsToRevenues']/df.loc[:,'EmissionDataPoints.CO2EquivalentsEmissionTotal'])\n",
      "/var/folders/s_/qtbdy3px3m3_6k7xydrkhbsh0000gn/T/ipykernel_7686/191058123.py:3: SettingWithCopyWarning: \n",
      "A value is trying to be set on a copy of a slice from a DataFrame.\n",
      "Try using .loc[row_indexer,col_indexer] = value instead\n",
      "\n",
      "See the caveats in the documentation: https://pandas.pydata.org/pandas-docs/stable/user_guide/indexing.html#returning-a-view-versus-a-copy\n",
      "  df.loc[:,'CO2toRevenue'] = df.loc[:,'EmissionDataPoints.CO2EquivalentsEmissionDirectScope1']*(df.loc[:,'EmissionIndicators.TotalCO2EquivalentsEmissionsToRevenues']/df.loc[:,'EmissionDataPoints.CO2EquivalentsEmissionTotal'])\n"
     ]
    },
    {
     "name": "stdout",
     "output_type": "stream",
     "text": [
      "predictions based on sector (using scaled data)\n",
      "predictions based on sector (using scaled data)\n",
      "predictions based on sector (using scaled data)\n"
     ]
    },
    {
     "name": "stderr",
     "output_type": "stream",
     "text": [
      "/var/folders/s_/qtbdy3px3m3_6k7xydrkhbsh0000gn/T/ipykernel_7686/191058123.py:3: SettingWithCopyWarning: \n",
      "A value is trying to be set on a copy of a slice from a DataFrame.\n",
      "Try using .loc[row_indexer,col_indexer] = value instead\n",
      "\n",
      "See the caveats in the documentation: https://pandas.pydata.org/pandas-docs/stable/user_guide/indexing.html#returning-a-view-versus-a-copy\n",
      "  df.loc[:,'CO2toRevenue'] = df.loc[:,'EmissionDataPoints.CO2EquivalentsEmissionDirectScope1']*(df.loc[:,'EmissionIndicators.TotalCO2EquivalentsEmissionsToRevenues']/df.loc[:,'EmissionDataPoints.CO2EquivalentsEmissionTotal'])\n",
      "/var/folders/s_/qtbdy3px3m3_6k7xydrkhbsh0000gn/T/ipykernel_7686/191058123.py:3: SettingWithCopyWarning: \n",
      "A value is trying to be set on a copy of a slice from a DataFrame.\n",
      "Try using .loc[row_indexer,col_indexer] = value instead\n",
      "\n",
      "See the caveats in the documentation: https://pandas.pydata.org/pandas-docs/stable/user_guide/indexing.html#returning-a-view-versus-a-copy\n",
      "  df.loc[:,'CO2toRevenue'] = df.loc[:,'EmissionDataPoints.CO2EquivalentsEmissionDirectScope1']*(df.loc[:,'EmissionIndicators.TotalCO2EquivalentsEmissionsToRevenues']/df.loc[:,'EmissionDataPoints.CO2EquivalentsEmissionTotal'])\n",
      "/var/folders/s_/qtbdy3px3m3_6k7xydrkhbsh0000gn/T/ipykernel_7686/191058123.py:3: SettingWithCopyWarning: \n",
      "A value is trying to be set on a copy of a slice from a DataFrame.\n",
      "Try using .loc[row_indexer,col_indexer] = value instead\n",
      "\n",
      "See the caveats in the documentation: https://pandas.pydata.org/pandas-docs/stable/user_guide/indexing.html#returning-a-view-versus-a-copy\n",
      "  df.loc[:,'CO2toRevenue'] = df.loc[:,'EmissionDataPoints.CO2EquivalentsEmissionDirectScope1']*(df.loc[:,'EmissionIndicators.TotalCO2EquivalentsEmissionsToRevenues']/df.loc[:,'EmissionDataPoints.CO2EquivalentsEmissionTotal'])\n"
     ]
    },
    {
     "name": "stdout",
     "output_type": "stream",
     "text": [
      "predictions based on sector (using scaled data)\n",
      "predictions based on sector (using scaled data)\n"
     ]
    },
    {
     "name": "stderr",
     "output_type": "stream",
     "text": [
      "/var/folders/s_/qtbdy3px3m3_6k7xydrkhbsh0000gn/T/ipykernel_7686/191058123.py:3: SettingWithCopyWarning: \n",
      "A value is trying to be set on a copy of a slice from a DataFrame.\n",
      "Try using .loc[row_indexer,col_indexer] = value instead\n",
      "\n",
      "See the caveats in the documentation: https://pandas.pydata.org/pandas-docs/stable/user_guide/indexing.html#returning-a-view-versus-a-copy\n",
      "  df.loc[:,'CO2toRevenue'] = df.loc[:,'EmissionDataPoints.CO2EquivalentsEmissionDirectScope1']*(df.loc[:,'EmissionIndicators.TotalCO2EquivalentsEmissionsToRevenues']/df.loc[:,'EmissionDataPoints.CO2EquivalentsEmissionTotal'])\n",
      "/var/folders/s_/qtbdy3px3m3_6k7xydrkhbsh0000gn/T/ipykernel_7686/191058123.py:3: SettingWithCopyWarning: \n",
      "A value is trying to be set on a copy of a slice from a DataFrame.\n",
      "Try using .loc[row_indexer,col_indexer] = value instead\n",
      "\n",
      "See the caveats in the documentation: https://pandas.pydata.org/pandas-docs/stable/user_guide/indexing.html#returning-a-view-versus-a-copy\n",
      "  df.loc[:,'CO2toRevenue'] = df.loc[:,'EmissionDataPoints.CO2EquivalentsEmissionDirectScope1']*(df.loc[:,'EmissionIndicators.TotalCO2EquivalentsEmissionsToRevenues']/df.loc[:,'EmissionDataPoints.CO2EquivalentsEmissionTotal'])\n"
     ]
    },
    {
     "name": "stdout",
     "output_type": "stream",
     "text": [
      "predictions based on sector (using scaled data)\n",
      "predictions based on sector (using scaled data)\n",
      "predictions based on sector (using scaled data)\n"
     ]
    },
    {
     "name": "stderr",
     "output_type": "stream",
     "text": [
      "/var/folders/s_/qtbdy3px3m3_6k7xydrkhbsh0000gn/T/ipykernel_7686/191058123.py:3: SettingWithCopyWarning: \n",
      "A value is trying to be set on a copy of a slice from a DataFrame.\n",
      "Try using .loc[row_indexer,col_indexer] = value instead\n",
      "\n",
      "See the caveats in the documentation: https://pandas.pydata.org/pandas-docs/stable/user_guide/indexing.html#returning-a-view-versus-a-copy\n",
      "  df.loc[:,'CO2toRevenue'] = df.loc[:,'EmissionDataPoints.CO2EquivalentsEmissionDirectScope1']*(df.loc[:,'EmissionIndicators.TotalCO2EquivalentsEmissionsToRevenues']/df.loc[:,'EmissionDataPoints.CO2EquivalentsEmissionTotal'])\n",
      "/var/folders/s_/qtbdy3px3m3_6k7xydrkhbsh0000gn/T/ipykernel_7686/191058123.py:3: SettingWithCopyWarning: \n",
      "A value is trying to be set on a copy of a slice from a DataFrame.\n",
      "Try using .loc[row_indexer,col_indexer] = value instead\n",
      "\n",
      "See the caveats in the documentation: https://pandas.pydata.org/pandas-docs/stable/user_guide/indexing.html#returning-a-view-versus-a-copy\n",
      "  df.loc[:,'CO2toRevenue'] = df.loc[:,'EmissionDataPoints.CO2EquivalentsEmissionDirectScope1']*(df.loc[:,'EmissionIndicators.TotalCO2EquivalentsEmissionsToRevenues']/df.loc[:,'EmissionDataPoints.CO2EquivalentsEmissionTotal'])\n",
      "/var/folders/s_/qtbdy3px3m3_6k7xydrkhbsh0000gn/T/ipykernel_7686/191058123.py:3: SettingWithCopyWarning: \n",
      "A value is trying to be set on a copy of a slice from a DataFrame.\n",
      "Try using .loc[row_indexer,col_indexer] = value instead\n",
      "\n",
      "See the caveats in the documentation: https://pandas.pydata.org/pandas-docs/stable/user_guide/indexing.html#returning-a-view-versus-a-copy\n",
      "  df.loc[:,'CO2toRevenue'] = df.loc[:,'EmissionDataPoints.CO2EquivalentsEmissionDirectScope1']*(df.loc[:,'EmissionIndicators.TotalCO2EquivalentsEmissionsToRevenues']/df.loc[:,'EmissionDataPoints.CO2EquivalentsEmissionTotal'])\n"
     ]
    },
    {
     "name": "stdout",
     "output_type": "stream",
     "text": [
      "predictions based on sector (using scaled data)\n",
      "predictions based on sector (using scaled data)\n",
      "predictions based on orgid\n",
      "predictions based on sector (using scaled data)\n"
     ]
    },
    {
     "name": "stderr",
     "output_type": "stream",
     "text": [
      "/var/folders/s_/qtbdy3px3m3_6k7xydrkhbsh0000gn/T/ipykernel_7686/191058123.py:3: SettingWithCopyWarning: \n",
      "A value is trying to be set on a copy of a slice from a DataFrame.\n",
      "Try using .loc[row_indexer,col_indexer] = value instead\n",
      "\n",
      "See the caveats in the documentation: https://pandas.pydata.org/pandas-docs/stable/user_guide/indexing.html#returning-a-view-versus-a-copy\n",
      "  df.loc[:,'CO2toRevenue'] = df.loc[:,'EmissionDataPoints.CO2EquivalentsEmissionDirectScope1']*(df.loc[:,'EmissionIndicators.TotalCO2EquivalentsEmissionsToRevenues']/df.loc[:,'EmissionDataPoints.CO2EquivalentsEmissionTotal'])\n",
      "/var/folders/s_/qtbdy3px3m3_6k7xydrkhbsh0000gn/T/ipykernel_7686/191058123.py:3: SettingWithCopyWarning: \n",
      "A value is trying to be set on a copy of a slice from a DataFrame.\n",
      "Try using .loc[row_indexer,col_indexer] = value instead\n",
      "\n",
      "See the caveats in the documentation: https://pandas.pydata.org/pandas-docs/stable/user_guide/indexing.html#returning-a-view-versus-a-copy\n",
      "  df.loc[:,'CO2toRevenue'] = df.loc[:,'EmissionDataPoints.CO2EquivalentsEmissionDirectScope1']*(df.loc[:,'EmissionIndicators.TotalCO2EquivalentsEmissionsToRevenues']/df.loc[:,'EmissionDataPoints.CO2EquivalentsEmissionTotal'])\n",
      "/var/folders/s_/qtbdy3px3m3_6k7xydrkhbsh0000gn/T/ipykernel_7686/191058123.py:3: SettingWithCopyWarning: \n",
      "A value is trying to be set on a copy of a slice from a DataFrame.\n",
      "Try using .loc[row_indexer,col_indexer] = value instead\n",
      "\n",
      "See the caveats in the documentation: https://pandas.pydata.org/pandas-docs/stable/user_guide/indexing.html#returning-a-view-versus-a-copy\n",
      "  df.loc[:,'CO2toRevenue'] = df.loc[:,'EmissionDataPoints.CO2EquivalentsEmissionDirectScope1']*(df.loc[:,'EmissionIndicators.TotalCO2EquivalentsEmissionsToRevenues']/df.loc[:,'EmissionDataPoints.CO2EquivalentsEmissionTotal'])\n"
     ]
    },
    {
     "name": "stdout",
     "output_type": "stream",
     "text": [
      "predictions based on sector (using scaled data)\n",
      "predictions based on sector (using scaled data)\n"
     ]
    },
    {
     "name": "stderr",
     "output_type": "stream",
     "text": [
      "/var/folders/s_/qtbdy3px3m3_6k7xydrkhbsh0000gn/T/ipykernel_7686/191058123.py:3: SettingWithCopyWarning: \n",
      "A value is trying to be set on a copy of a slice from a DataFrame.\n",
      "Try using .loc[row_indexer,col_indexer] = value instead\n",
      "\n",
      "See the caveats in the documentation: https://pandas.pydata.org/pandas-docs/stable/user_guide/indexing.html#returning-a-view-versus-a-copy\n",
      "  df.loc[:,'CO2toRevenue'] = df.loc[:,'EmissionDataPoints.CO2EquivalentsEmissionDirectScope1']*(df.loc[:,'EmissionIndicators.TotalCO2EquivalentsEmissionsToRevenues']/df.loc[:,'EmissionDataPoints.CO2EquivalentsEmissionTotal'])\n",
      "/var/folders/s_/qtbdy3px3m3_6k7xydrkhbsh0000gn/T/ipykernel_7686/191058123.py:3: SettingWithCopyWarning: \n",
      "A value is trying to be set on a copy of a slice from a DataFrame.\n",
      "Try using .loc[row_indexer,col_indexer] = value instead\n",
      "\n",
      "See the caveats in the documentation: https://pandas.pydata.org/pandas-docs/stable/user_guide/indexing.html#returning-a-view-versus-a-copy\n",
      "  df.loc[:,'CO2toRevenue'] = df.loc[:,'EmissionDataPoints.CO2EquivalentsEmissionDirectScope1']*(df.loc[:,'EmissionIndicators.TotalCO2EquivalentsEmissionsToRevenues']/df.loc[:,'EmissionDataPoints.CO2EquivalentsEmissionTotal'])\n"
     ]
    },
    {
     "name": "stdout",
     "output_type": "stream",
     "text": [
      "predictions based on sector (using scaled data)\n",
      "predictions based on sector (using scaled data)\n"
     ]
    },
    {
     "name": "stderr",
     "output_type": "stream",
     "text": [
      "/var/folders/s_/qtbdy3px3m3_6k7xydrkhbsh0000gn/T/ipykernel_7686/191058123.py:3: SettingWithCopyWarning: \n",
      "A value is trying to be set on a copy of a slice from a DataFrame.\n",
      "Try using .loc[row_indexer,col_indexer] = value instead\n",
      "\n",
      "See the caveats in the documentation: https://pandas.pydata.org/pandas-docs/stable/user_guide/indexing.html#returning-a-view-versus-a-copy\n",
      "  df.loc[:,'CO2toRevenue'] = df.loc[:,'EmissionDataPoints.CO2EquivalentsEmissionDirectScope1']*(df.loc[:,'EmissionIndicators.TotalCO2EquivalentsEmissionsToRevenues']/df.loc[:,'EmissionDataPoints.CO2EquivalentsEmissionTotal'])\n",
      "/var/folders/s_/qtbdy3px3m3_6k7xydrkhbsh0000gn/T/ipykernel_7686/191058123.py:3: SettingWithCopyWarning: \n",
      "A value is trying to be set on a copy of a slice from a DataFrame.\n",
      "Try using .loc[row_indexer,col_indexer] = value instead\n",
      "\n",
      "See the caveats in the documentation: https://pandas.pydata.org/pandas-docs/stable/user_guide/indexing.html#returning-a-view-versus-a-copy\n",
      "  df.loc[:,'CO2toRevenue'] = df.loc[:,'EmissionDataPoints.CO2EquivalentsEmissionDirectScope1']*(df.loc[:,'EmissionIndicators.TotalCO2EquivalentsEmissionsToRevenues']/df.loc[:,'EmissionDataPoints.CO2EquivalentsEmissionTotal'])\n"
     ]
    },
    {
     "name": "stdout",
     "output_type": "stream",
     "text": [
      "predictions based on sector (using scaled data)\n",
      "predictions based on orgid\n",
      "predictions based on orgid\n",
      "predictions based on orgid\n",
      "predictions based on sector (using scaled data)\n"
     ]
    },
    {
     "name": "stderr",
     "output_type": "stream",
     "text": [
      "/var/folders/s_/qtbdy3px3m3_6k7xydrkhbsh0000gn/T/ipykernel_7686/191058123.py:3: SettingWithCopyWarning: \n",
      "A value is trying to be set on a copy of a slice from a DataFrame.\n",
      "Try using .loc[row_indexer,col_indexer] = value instead\n",
      "\n",
      "See the caveats in the documentation: https://pandas.pydata.org/pandas-docs/stable/user_guide/indexing.html#returning-a-view-versus-a-copy\n",
      "  df.loc[:,'CO2toRevenue'] = df.loc[:,'EmissionDataPoints.CO2EquivalentsEmissionDirectScope1']*(df.loc[:,'EmissionIndicators.TotalCO2EquivalentsEmissionsToRevenues']/df.loc[:,'EmissionDataPoints.CO2EquivalentsEmissionTotal'])\n",
      "/var/folders/s_/qtbdy3px3m3_6k7xydrkhbsh0000gn/T/ipykernel_7686/191058123.py:3: SettingWithCopyWarning: \n",
      "A value is trying to be set on a copy of a slice from a DataFrame.\n",
      "Try using .loc[row_indexer,col_indexer] = value instead\n",
      "\n",
      "See the caveats in the documentation: https://pandas.pydata.org/pandas-docs/stable/user_guide/indexing.html#returning-a-view-versus-a-copy\n",
      "  df.loc[:,'CO2toRevenue'] = df.loc[:,'EmissionDataPoints.CO2EquivalentsEmissionDirectScope1']*(df.loc[:,'EmissionIndicators.TotalCO2EquivalentsEmissionsToRevenues']/df.loc[:,'EmissionDataPoints.CO2EquivalentsEmissionTotal'])\n"
     ]
    },
    {
     "name": "stdout",
     "output_type": "stream",
     "text": [
      "predictions based on sector (using scaled data)\n",
      "predictions based on orgid\n",
      "predictions based on orgid\n",
      "predictions based on orgid\n",
      "predictions based on orgid\n",
      "predictions based on orgid\n",
      "predictions based on sector (using scaled data)\n"
     ]
    },
    {
     "name": "stderr",
     "output_type": "stream",
     "text": [
      "/var/folders/s_/qtbdy3px3m3_6k7xydrkhbsh0000gn/T/ipykernel_7686/191058123.py:3: SettingWithCopyWarning: \n",
      "A value is trying to be set on a copy of a slice from a DataFrame.\n",
      "Try using .loc[row_indexer,col_indexer] = value instead\n",
      "\n",
      "See the caveats in the documentation: https://pandas.pydata.org/pandas-docs/stable/user_guide/indexing.html#returning-a-view-versus-a-copy\n",
      "  df.loc[:,'CO2toRevenue'] = df.loc[:,'EmissionDataPoints.CO2EquivalentsEmissionDirectScope1']*(df.loc[:,'EmissionIndicators.TotalCO2EquivalentsEmissionsToRevenues']/df.loc[:,'EmissionDataPoints.CO2EquivalentsEmissionTotal'])\n",
      "/var/folders/s_/qtbdy3px3m3_6k7xydrkhbsh0000gn/T/ipykernel_7686/191058123.py:3: SettingWithCopyWarning: \n",
      "A value is trying to be set on a copy of a slice from a DataFrame.\n",
      "Try using .loc[row_indexer,col_indexer] = value instead\n",
      "\n",
      "See the caveats in the documentation: https://pandas.pydata.org/pandas-docs/stable/user_guide/indexing.html#returning-a-view-versus-a-copy\n",
      "  df.loc[:,'CO2toRevenue'] = df.loc[:,'EmissionDataPoints.CO2EquivalentsEmissionDirectScope1']*(df.loc[:,'EmissionIndicators.TotalCO2EquivalentsEmissionsToRevenues']/df.loc[:,'EmissionDataPoints.CO2EquivalentsEmissionTotal'])\n"
     ]
    },
    {
     "name": "stdout",
     "output_type": "stream",
     "text": [
      "predictions based on sector (using scaled data)\n",
      "predictions based on sector (using scaled data)\n"
     ]
    },
    {
     "name": "stderr",
     "output_type": "stream",
     "text": [
      "/var/folders/s_/qtbdy3px3m3_6k7xydrkhbsh0000gn/T/ipykernel_7686/191058123.py:3: SettingWithCopyWarning: \n",
      "A value is trying to be set on a copy of a slice from a DataFrame.\n",
      "Try using .loc[row_indexer,col_indexer] = value instead\n",
      "\n",
      "See the caveats in the documentation: https://pandas.pydata.org/pandas-docs/stable/user_guide/indexing.html#returning-a-view-versus-a-copy\n",
      "  df.loc[:,'CO2toRevenue'] = df.loc[:,'EmissionDataPoints.CO2EquivalentsEmissionDirectScope1']*(df.loc[:,'EmissionIndicators.TotalCO2EquivalentsEmissionsToRevenues']/df.loc[:,'EmissionDataPoints.CO2EquivalentsEmissionTotal'])\n",
      "/var/folders/s_/qtbdy3px3m3_6k7xydrkhbsh0000gn/T/ipykernel_7686/191058123.py:3: SettingWithCopyWarning: \n",
      "A value is trying to be set on a copy of a slice from a DataFrame.\n",
      "Try using .loc[row_indexer,col_indexer] = value instead\n",
      "\n",
      "See the caveats in the documentation: https://pandas.pydata.org/pandas-docs/stable/user_guide/indexing.html#returning-a-view-versus-a-copy\n",
      "  df.loc[:,'CO2toRevenue'] = df.loc[:,'EmissionDataPoints.CO2EquivalentsEmissionDirectScope1']*(df.loc[:,'EmissionIndicators.TotalCO2EquivalentsEmissionsToRevenues']/df.loc[:,'EmissionDataPoints.CO2EquivalentsEmissionTotal'])\n"
     ]
    },
    {
     "name": "stdout",
     "output_type": "stream",
     "text": [
      "predictions based on sector (using scaled data)\n",
      "predictions based on sector (using scaled data)\n"
     ]
    },
    {
     "name": "stderr",
     "output_type": "stream",
     "text": [
      "/var/folders/s_/qtbdy3px3m3_6k7xydrkhbsh0000gn/T/ipykernel_7686/191058123.py:3: SettingWithCopyWarning: \n",
      "A value is trying to be set on a copy of a slice from a DataFrame.\n",
      "Try using .loc[row_indexer,col_indexer] = value instead\n",
      "\n",
      "See the caveats in the documentation: https://pandas.pydata.org/pandas-docs/stable/user_guide/indexing.html#returning-a-view-versus-a-copy\n",
      "  df.loc[:,'CO2toRevenue'] = df.loc[:,'EmissionDataPoints.CO2EquivalentsEmissionDirectScope1']*(df.loc[:,'EmissionIndicators.TotalCO2EquivalentsEmissionsToRevenues']/df.loc[:,'EmissionDataPoints.CO2EquivalentsEmissionTotal'])\n",
      "/var/folders/s_/qtbdy3px3m3_6k7xydrkhbsh0000gn/T/ipykernel_7686/191058123.py:3: SettingWithCopyWarning: \n",
      "A value is trying to be set on a copy of a slice from a DataFrame.\n",
      "Try using .loc[row_indexer,col_indexer] = value instead\n",
      "\n",
      "See the caveats in the documentation: https://pandas.pydata.org/pandas-docs/stable/user_guide/indexing.html#returning-a-view-versus-a-copy\n",
      "  df.loc[:,'CO2toRevenue'] = df.loc[:,'EmissionDataPoints.CO2EquivalentsEmissionDirectScope1']*(df.loc[:,'EmissionIndicators.TotalCO2EquivalentsEmissionsToRevenues']/df.loc[:,'EmissionDataPoints.CO2EquivalentsEmissionTotal'])\n"
     ]
    },
    {
     "name": "stdout",
     "output_type": "stream",
     "text": [
      "predictions based on orgid\n",
      "predictions based on orgid\n",
      "predictions based on sector (using scaled data)\n",
      "predictions based on orgid\n",
      "predictions based on sector (using scaled data)\n"
     ]
    },
    {
     "name": "stderr",
     "output_type": "stream",
     "text": [
      "/var/folders/s_/qtbdy3px3m3_6k7xydrkhbsh0000gn/T/ipykernel_7686/191058123.py:3: SettingWithCopyWarning: \n",
      "A value is trying to be set on a copy of a slice from a DataFrame.\n",
      "Try using .loc[row_indexer,col_indexer] = value instead\n",
      "\n",
      "See the caveats in the documentation: https://pandas.pydata.org/pandas-docs/stable/user_guide/indexing.html#returning-a-view-versus-a-copy\n",
      "  df.loc[:,'CO2toRevenue'] = df.loc[:,'EmissionDataPoints.CO2EquivalentsEmissionDirectScope1']*(df.loc[:,'EmissionIndicators.TotalCO2EquivalentsEmissionsToRevenues']/df.loc[:,'EmissionDataPoints.CO2EquivalentsEmissionTotal'])\n",
      "/var/folders/s_/qtbdy3px3m3_6k7xydrkhbsh0000gn/T/ipykernel_7686/191058123.py:3: SettingWithCopyWarning: \n",
      "A value is trying to be set on a copy of a slice from a DataFrame.\n",
      "Try using .loc[row_indexer,col_indexer] = value instead\n",
      "\n",
      "See the caveats in the documentation: https://pandas.pydata.org/pandas-docs/stable/user_guide/indexing.html#returning-a-view-versus-a-copy\n",
      "  df.loc[:,'CO2toRevenue'] = df.loc[:,'EmissionDataPoints.CO2EquivalentsEmissionDirectScope1']*(df.loc[:,'EmissionIndicators.TotalCO2EquivalentsEmissionsToRevenues']/df.loc[:,'EmissionDataPoints.CO2EquivalentsEmissionTotal'])\n"
     ]
    },
    {
     "name": "stdout",
     "output_type": "stream",
     "text": [
      "predictions based on orgid\n",
      "predictions based on orgid\n",
      "predictions based on orgid\n",
      "predictions based on sector (using scaled data)\n",
      "predictions based on sector (using scaled data)\n"
     ]
    },
    {
     "name": "stderr",
     "output_type": "stream",
     "text": [
      "/var/folders/s_/qtbdy3px3m3_6k7xydrkhbsh0000gn/T/ipykernel_7686/191058123.py:3: SettingWithCopyWarning: \n",
      "A value is trying to be set on a copy of a slice from a DataFrame.\n",
      "Try using .loc[row_indexer,col_indexer] = value instead\n",
      "\n",
      "See the caveats in the documentation: https://pandas.pydata.org/pandas-docs/stable/user_guide/indexing.html#returning-a-view-versus-a-copy\n",
      "  df.loc[:,'CO2toRevenue'] = df.loc[:,'EmissionDataPoints.CO2EquivalentsEmissionDirectScope1']*(df.loc[:,'EmissionIndicators.TotalCO2EquivalentsEmissionsToRevenues']/df.loc[:,'EmissionDataPoints.CO2EquivalentsEmissionTotal'])\n",
      "/var/folders/s_/qtbdy3px3m3_6k7xydrkhbsh0000gn/T/ipykernel_7686/191058123.py:3: SettingWithCopyWarning: \n",
      "A value is trying to be set on a copy of a slice from a DataFrame.\n",
      "Try using .loc[row_indexer,col_indexer] = value instead\n",
      "\n",
      "See the caveats in the documentation: https://pandas.pydata.org/pandas-docs/stable/user_guide/indexing.html#returning-a-view-versus-a-copy\n",
      "  df.loc[:,'CO2toRevenue'] = df.loc[:,'EmissionDataPoints.CO2EquivalentsEmissionDirectScope1']*(df.loc[:,'EmissionIndicators.TotalCO2EquivalentsEmissionsToRevenues']/df.loc[:,'EmissionDataPoints.CO2EquivalentsEmissionTotal'])\n"
     ]
    },
    {
     "name": "stdout",
     "output_type": "stream",
     "text": [
      "predictions based on orgid\n",
      "predictions based on orgid\n",
      "predictions based on orgid\n",
      "predictions based on sector (using scaled data)\n",
      "predictions based on sector (using scaled data)\n"
     ]
    },
    {
     "name": "stderr",
     "output_type": "stream",
     "text": [
      "/var/folders/s_/qtbdy3px3m3_6k7xydrkhbsh0000gn/T/ipykernel_7686/191058123.py:3: SettingWithCopyWarning: \n",
      "A value is trying to be set on a copy of a slice from a DataFrame.\n",
      "Try using .loc[row_indexer,col_indexer] = value instead\n",
      "\n",
      "See the caveats in the documentation: https://pandas.pydata.org/pandas-docs/stable/user_guide/indexing.html#returning-a-view-versus-a-copy\n",
      "  df.loc[:,'CO2toRevenue'] = df.loc[:,'EmissionDataPoints.CO2EquivalentsEmissionDirectScope1']*(df.loc[:,'EmissionIndicators.TotalCO2EquivalentsEmissionsToRevenues']/df.loc[:,'EmissionDataPoints.CO2EquivalentsEmissionTotal'])\n",
      "/var/folders/s_/qtbdy3px3m3_6k7xydrkhbsh0000gn/T/ipykernel_7686/191058123.py:3: SettingWithCopyWarning: \n",
      "A value is trying to be set on a copy of a slice from a DataFrame.\n",
      "Try using .loc[row_indexer,col_indexer] = value instead\n",
      "\n",
      "See the caveats in the documentation: https://pandas.pydata.org/pandas-docs/stable/user_guide/indexing.html#returning-a-view-versus-a-copy\n",
      "  df.loc[:,'CO2toRevenue'] = df.loc[:,'EmissionDataPoints.CO2EquivalentsEmissionDirectScope1']*(df.loc[:,'EmissionIndicators.TotalCO2EquivalentsEmissionsToRevenues']/df.loc[:,'EmissionDataPoints.CO2EquivalentsEmissionTotal'])\n"
     ]
    },
    {
     "name": "stdout",
     "output_type": "stream",
     "text": [
      "predictions based on orgid\n",
      "predictions based on sector (using scaled data)\n",
      "predictions based on sector (using scaled data)\n"
     ]
    },
    {
     "name": "stderr",
     "output_type": "stream",
     "text": [
      "/var/folders/s_/qtbdy3px3m3_6k7xydrkhbsh0000gn/T/ipykernel_7686/191058123.py:3: SettingWithCopyWarning: \n",
      "A value is trying to be set on a copy of a slice from a DataFrame.\n",
      "Try using .loc[row_indexer,col_indexer] = value instead\n",
      "\n",
      "See the caveats in the documentation: https://pandas.pydata.org/pandas-docs/stable/user_guide/indexing.html#returning-a-view-versus-a-copy\n",
      "  df.loc[:,'CO2toRevenue'] = df.loc[:,'EmissionDataPoints.CO2EquivalentsEmissionDirectScope1']*(df.loc[:,'EmissionIndicators.TotalCO2EquivalentsEmissionsToRevenues']/df.loc[:,'EmissionDataPoints.CO2EquivalentsEmissionTotal'])\n",
      "/var/folders/s_/qtbdy3px3m3_6k7xydrkhbsh0000gn/T/ipykernel_7686/191058123.py:3: SettingWithCopyWarning: \n",
      "A value is trying to be set on a copy of a slice from a DataFrame.\n",
      "Try using .loc[row_indexer,col_indexer] = value instead\n",
      "\n",
      "See the caveats in the documentation: https://pandas.pydata.org/pandas-docs/stable/user_guide/indexing.html#returning-a-view-versus-a-copy\n",
      "  df.loc[:,'CO2toRevenue'] = df.loc[:,'EmissionDataPoints.CO2EquivalentsEmissionDirectScope1']*(df.loc[:,'EmissionIndicators.TotalCO2EquivalentsEmissionsToRevenues']/df.loc[:,'EmissionDataPoints.CO2EquivalentsEmissionTotal'])\n",
      "/var/folders/s_/qtbdy3px3m3_6k7xydrkhbsh0000gn/T/ipykernel_7686/191058123.py:3: SettingWithCopyWarning: \n",
      "A value is trying to be set on a copy of a slice from a DataFrame.\n",
      "Try using .loc[row_indexer,col_indexer] = value instead\n",
      "\n",
      "See the caveats in the documentation: https://pandas.pydata.org/pandas-docs/stable/user_guide/indexing.html#returning-a-view-versus-a-copy\n",
      "  df.loc[:,'CO2toRevenue'] = df.loc[:,'EmissionDataPoints.CO2EquivalentsEmissionDirectScope1']*(df.loc[:,'EmissionIndicators.TotalCO2EquivalentsEmissionsToRevenues']/df.loc[:,'EmissionDataPoints.CO2EquivalentsEmissionTotal'])\n"
     ]
    },
    {
     "name": "stdout",
     "output_type": "stream",
     "text": [
      "predictions based on sector (using scaled data)\n",
      "predictions based on sector (using scaled data)\n",
      "predictions based on sector (using scaled data)\n"
     ]
    },
    {
     "name": "stderr",
     "output_type": "stream",
     "text": [
      "/var/folders/s_/qtbdy3px3m3_6k7xydrkhbsh0000gn/T/ipykernel_7686/191058123.py:3: SettingWithCopyWarning: \n",
      "A value is trying to be set on a copy of a slice from a DataFrame.\n",
      "Try using .loc[row_indexer,col_indexer] = value instead\n",
      "\n",
      "See the caveats in the documentation: https://pandas.pydata.org/pandas-docs/stable/user_guide/indexing.html#returning-a-view-versus-a-copy\n",
      "  df.loc[:,'CO2toRevenue'] = df.loc[:,'EmissionDataPoints.CO2EquivalentsEmissionDirectScope1']*(df.loc[:,'EmissionIndicators.TotalCO2EquivalentsEmissionsToRevenues']/df.loc[:,'EmissionDataPoints.CO2EquivalentsEmissionTotal'])\n",
      "/var/folders/s_/qtbdy3px3m3_6k7xydrkhbsh0000gn/T/ipykernel_7686/191058123.py:3: SettingWithCopyWarning: \n",
      "A value is trying to be set on a copy of a slice from a DataFrame.\n",
      "Try using .loc[row_indexer,col_indexer] = value instead\n",
      "\n",
      "See the caveats in the documentation: https://pandas.pydata.org/pandas-docs/stable/user_guide/indexing.html#returning-a-view-versus-a-copy\n",
      "  df.loc[:,'CO2toRevenue'] = df.loc[:,'EmissionDataPoints.CO2EquivalentsEmissionDirectScope1']*(df.loc[:,'EmissionIndicators.TotalCO2EquivalentsEmissionsToRevenues']/df.loc[:,'EmissionDataPoints.CO2EquivalentsEmissionTotal'])\n",
      "/var/folders/s_/qtbdy3px3m3_6k7xydrkhbsh0000gn/T/ipykernel_7686/191058123.py:3: SettingWithCopyWarning: \n",
      "A value is trying to be set on a copy of a slice from a DataFrame.\n",
      "Try using .loc[row_indexer,col_indexer] = value instead\n",
      "\n",
      "See the caveats in the documentation: https://pandas.pydata.org/pandas-docs/stable/user_guide/indexing.html#returning-a-view-versus-a-copy\n",
      "  df.loc[:,'CO2toRevenue'] = df.loc[:,'EmissionDataPoints.CO2EquivalentsEmissionDirectScope1']*(df.loc[:,'EmissionIndicators.TotalCO2EquivalentsEmissionsToRevenues']/df.loc[:,'EmissionDataPoints.CO2EquivalentsEmissionTotal'])\n"
     ]
    },
    {
     "name": "stdout",
     "output_type": "stream",
     "text": [
      "predictions based on sector (using scaled data)\n",
      "predictions based on orgid\n",
      "predictions based on sector (using scaled data)\n",
      "predictions based on orgid\n",
      "predictions based on sector (using scaled data)\n"
     ]
    },
    {
     "name": "stderr",
     "output_type": "stream",
     "text": [
      "/var/folders/s_/qtbdy3px3m3_6k7xydrkhbsh0000gn/T/ipykernel_7686/191058123.py:3: SettingWithCopyWarning: \n",
      "A value is trying to be set on a copy of a slice from a DataFrame.\n",
      "Try using .loc[row_indexer,col_indexer] = value instead\n",
      "\n",
      "See the caveats in the documentation: https://pandas.pydata.org/pandas-docs/stable/user_guide/indexing.html#returning-a-view-versus-a-copy\n",
      "  df.loc[:,'CO2toRevenue'] = df.loc[:,'EmissionDataPoints.CO2EquivalentsEmissionDirectScope1']*(df.loc[:,'EmissionIndicators.TotalCO2EquivalentsEmissionsToRevenues']/df.loc[:,'EmissionDataPoints.CO2EquivalentsEmissionTotal'])\n",
      "/var/folders/s_/qtbdy3px3m3_6k7xydrkhbsh0000gn/T/ipykernel_7686/191058123.py:3: SettingWithCopyWarning: \n",
      "A value is trying to be set on a copy of a slice from a DataFrame.\n",
      "Try using .loc[row_indexer,col_indexer] = value instead\n",
      "\n",
      "See the caveats in the documentation: https://pandas.pydata.org/pandas-docs/stable/user_guide/indexing.html#returning-a-view-versus-a-copy\n",
      "  df.loc[:,'CO2toRevenue'] = df.loc[:,'EmissionDataPoints.CO2EquivalentsEmissionDirectScope1']*(df.loc[:,'EmissionIndicators.TotalCO2EquivalentsEmissionsToRevenues']/df.loc[:,'EmissionDataPoints.CO2EquivalentsEmissionTotal'])\n",
      "/var/folders/s_/qtbdy3px3m3_6k7xydrkhbsh0000gn/T/ipykernel_7686/191058123.py:3: SettingWithCopyWarning: \n",
      "A value is trying to be set on a copy of a slice from a DataFrame.\n",
      "Try using .loc[row_indexer,col_indexer] = value instead\n",
      "\n",
      "See the caveats in the documentation: https://pandas.pydata.org/pandas-docs/stable/user_guide/indexing.html#returning-a-view-versus-a-copy\n",
      "  df.loc[:,'CO2toRevenue'] = df.loc[:,'EmissionDataPoints.CO2EquivalentsEmissionDirectScope1']*(df.loc[:,'EmissionIndicators.TotalCO2EquivalentsEmissionsToRevenues']/df.loc[:,'EmissionDataPoints.CO2EquivalentsEmissionTotal'])\n"
     ]
    },
    {
     "name": "stdout",
     "output_type": "stream",
     "text": [
      "predictions based on orgid\n",
      "predictions based on sector (using scaled data)\n",
      "predictions based on orgid\n",
      "predictions based on sector (using scaled data)\n",
      "predictions based on orgid\n",
      "predictions based on orgid\n",
      "predictions based on orgid\n",
      "predictions based on sector (using scaled data)"
     ]
    },
    {
     "name": "stderr",
     "output_type": "stream",
     "text": [
      "/var/folders/s_/qtbdy3px3m3_6k7xydrkhbsh0000gn/T/ipykernel_7686/191058123.py:3: SettingWithCopyWarning: \n",
      "A value is trying to be set on a copy of a slice from a DataFrame.\n",
      "Try using .loc[row_indexer,col_indexer] = value instead\n",
      "\n",
      "See the caveats in the documentation: https://pandas.pydata.org/pandas-docs/stable/user_guide/indexing.html#returning-a-view-versus-a-copy\n",
      "  df.loc[:,'CO2toRevenue'] = df.loc[:,'EmissionDataPoints.CO2EquivalentsEmissionDirectScope1']*(df.loc[:,'EmissionIndicators.TotalCO2EquivalentsEmissionsToRevenues']/df.loc[:,'EmissionDataPoints.CO2EquivalentsEmissionTotal'])\n",
      "/var/folders/s_/qtbdy3px3m3_6k7xydrkhbsh0000gn/T/ipykernel_7686/191058123.py:3: SettingWithCopyWarning: \n",
      "A value is trying to be set on a copy of a slice from a DataFrame.\n",
      "Try using .loc[row_indexer,col_indexer] = value instead\n",
      "\n",
      "See the caveats in the documentation: https://pandas.pydata.org/pandas-docs/stable/user_guide/indexing.html#returning-a-view-versus-a-copy\n",
      "  df.loc[:,'CO2toRevenue'] = df.loc[:,'EmissionDataPoints.CO2EquivalentsEmissionDirectScope1']*(df.loc[:,'EmissionIndicators.TotalCO2EquivalentsEmissionsToRevenues']/df.loc[:,'EmissionDataPoints.CO2EquivalentsEmissionTotal'])\n"
     ]
    },
    {
     "name": "stdout",
     "output_type": "stream",
     "text": [
      "\n",
      "predictions based on orgid\n",
      "predictions based on sector (using scaled data)\n"
     ]
    },
    {
     "name": "stderr",
     "output_type": "stream",
     "text": [
      "/var/folders/s_/qtbdy3px3m3_6k7xydrkhbsh0000gn/T/ipykernel_7686/191058123.py:3: SettingWithCopyWarning: \n",
      "A value is trying to be set on a copy of a slice from a DataFrame.\n",
      "Try using .loc[row_indexer,col_indexer] = value instead\n",
      "\n",
      "See the caveats in the documentation: https://pandas.pydata.org/pandas-docs/stable/user_guide/indexing.html#returning-a-view-versus-a-copy\n",
      "  df.loc[:,'CO2toRevenue'] = df.loc[:,'EmissionDataPoints.CO2EquivalentsEmissionDirectScope1']*(df.loc[:,'EmissionIndicators.TotalCO2EquivalentsEmissionsToRevenues']/df.loc[:,'EmissionDataPoints.CO2EquivalentsEmissionTotal'])\n",
      "/var/folders/s_/qtbdy3px3m3_6k7xydrkhbsh0000gn/T/ipykernel_7686/191058123.py:3: SettingWithCopyWarning: \n",
      "A value is trying to be set on a copy of a slice from a DataFrame.\n",
      "Try using .loc[row_indexer,col_indexer] = value instead\n",
      "\n",
      "See the caveats in the documentation: https://pandas.pydata.org/pandas-docs/stable/user_guide/indexing.html#returning-a-view-versus-a-copy\n",
      "  df.loc[:,'CO2toRevenue'] = df.loc[:,'EmissionDataPoints.CO2EquivalentsEmissionDirectScope1']*(df.loc[:,'EmissionIndicators.TotalCO2EquivalentsEmissionsToRevenues']/df.loc[:,'EmissionDataPoints.CO2EquivalentsEmissionTotal'])\n"
     ]
    },
    {
     "name": "stdout",
     "output_type": "stream",
     "text": [
      "predictions based on sector (using scaled data)\n",
      "predictions based on orgid\n",
      "predictions based on sector (using scaled data)\n"
     ]
    },
    {
     "name": "stderr",
     "output_type": "stream",
     "text": [
      "/var/folders/s_/qtbdy3px3m3_6k7xydrkhbsh0000gn/T/ipykernel_7686/191058123.py:3: SettingWithCopyWarning: \n",
      "A value is trying to be set on a copy of a slice from a DataFrame.\n",
      "Try using .loc[row_indexer,col_indexer] = value instead\n",
      "\n",
      "See the caveats in the documentation: https://pandas.pydata.org/pandas-docs/stable/user_guide/indexing.html#returning-a-view-versus-a-copy\n",
      "  df.loc[:,'CO2toRevenue'] = df.loc[:,'EmissionDataPoints.CO2EquivalentsEmissionDirectScope1']*(df.loc[:,'EmissionIndicators.TotalCO2EquivalentsEmissionsToRevenues']/df.loc[:,'EmissionDataPoints.CO2EquivalentsEmissionTotal'])\n",
      "/var/folders/s_/qtbdy3px3m3_6k7xydrkhbsh0000gn/T/ipykernel_7686/191058123.py:3: SettingWithCopyWarning: \n",
      "A value is trying to be set on a copy of a slice from a DataFrame.\n",
      "Try using .loc[row_indexer,col_indexer] = value instead\n",
      "\n",
      "See the caveats in the documentation: https://pandas.pydata.org/pandas-docs/stable/user_guide/indexing.html#returning-a-view-versus-a-copy\n",
      "  df.loc[:,'CO2toRevenue'] = df.loc[:,'EmissionDataPoints.CO2EquivalentsEmissionDirectScope1']*(df.loc[:,'EmissionIndicators.TotalCO2EquivalentsEmissionsToRevenues']/df.loc[:,'EmissionDataPoints.CO2EquivalentsEmissionTotal'])\n"
     ]
    },
    {
     "name": "stdout",
     "output_type": "stream",
     "text": [
      "predictions based on sector (using scaled data)\n",
      "predictions based on orgid\n",
      "predictions based on orgid\n",
      "predictions based on orgid\n",
      "predictions based on sector (using scaled data)\n"
     ]
    },
    {
     "name": "stderr",
     "output_type": "stream",
     "text": [
      "/var/folders/s_/qtbdy3px3m3_6k7xydrkhbsh0000gn/T/ipykernel_7686/191058123.py:3: SettingWithCopyWarning: \n",
      "A value is trying to be set on a copy of a slice from a DataFrame.\n",
      "Try using .loc[row_indexer,col_indexer] = value instead\n",
      "\n",
      "See the caveats in the documentation: https://pandas.pydata.org/pandas-docs/stable/user_guide/indexing.html#returning-a-view-versus-a-copy\n",
      "  df.loc[:,'CO2toRevenue'] = df.loc[:,'EmissionDataPoints.CO2EquivalentsEmissionDirectScope1']*(df.loc[:,'EmissionIndicators.TotalCO2EquivalentsEmissionsToRevenues']/df.loc[:,'EmissionDataPoints.CO2EquivalentsEmissionTotal'])\n",
      "/var/folders/s_/qtbdy3px3m3_6k7xydrkhbsh0000gn/T/ipykernel_7686/191058123.py:3: SettingWithCopyWarning: \n",
      "A value is trying to be set on a copy of a slice from a DataFrame.\n",
      "Try using .loc[row_indexer,col_indexer] = value instead\n",
      "\n",
      "See the caveats in the documentation: https://pandas.pydata.org/pandas-docs/stable/user_guide/indexing.html#returning-a-view-versus-a-copy\n",
      "  df.loc[:,'CO2toRevenue'] = df.loc[:,'EmissionDataPoints.CO2EquivalentsEmissionDirectScope1']*(df.loc[:,'EmissionIndicators.TotalCO2EquivalentsEmissionsToRevenues']/df.loc[:,'EmissionDataPoints.CO2EquivalentsEmissionTotal'])\n",
      "/var/folders/s_/qtbdy3px3m3_6k7xydrkhbsh0000gn/T/ipykernel_7686/191058123.py:3: SettingWithCopyWarning: \n",
      "A value is trying to be set on a copy of a slice from a DataFrame.\n",
      "Try using .loc[row_indexer,col_indexer] = value instead\n",
      "\n",
      "See the caveats in the documentation: https://pandas.pydata.org/pandas-docs/stable/user_guide/indexing.html#returning-a-view-versus-a-copy\n",
      "  df.loc[:,'CO2toRevenue'] = df.loc[:,'EmissionDataPoints.CO2EquivalentsEmissionDirectScope1']*(df.loc[:,'EmissionIndicators.TotalCO2EquivalentsEmissionsToRevenues']/df.loc[:,'EmissionDataPoints.CO2EquivalentsEmissionTotal'])\n"
     ]
    },
    {
     "name": "stdout",
     "output_type": "stream",
     "text": [
      "predictions based on sector (using scaled data)\n",
      "predictions based on sector (using scaled data)\n",
      "predictions based on orgid\n",
      "predictions based on orgid\n",
      "predictions based on sector (using scaled data)\n"
     ]
    },
    {
     "name": "stderr",
     "output_type": "stream",
     "text": [
      "/var/folders/s_/qtbdy3px3m3_6k7xydrkhbsh0000gn/T/ipykernel_7686/191058123.py:3: SettingWithCopyWarning: \n",
      "A value is trying to be set on a copy of a slice from a DataFrame.\n",
      "Try using .loc[row_indexer,col_indexer] = value instead\n",
      "\n",
      "See the caveats in the documentation: https://pandas.pydata.org/pandas-docs/stable/user_guide/indexing.html#returning-a-view-versus-a-copy\n",
      "  df.loc[:,'CO2toRevenue'] = df.loc[:,'EmissionDataPoints.CO2EquivalentsEmissionDirectScope1']*(df.loc[:,'EmissionIndicators.TotalCO2EquivalentsEmissionsToRevenues']/df.loc[:,'EmissionDataPoints.CO2EquivalentsEmissionTotal'])\n",
      "/var/folders/s_/qtbdy3px3m3_6k7xydrkhbsh0000gn/T/ipykernel_7686/191058123.py:3: SettingWithCopyWarning: \n",
      "A value is trying to be set on a copy of a slice from a DataFrame.\n",
      "Try using .loc[row_indexer,col_indexer] = value instead\n",
      "\n",
      "See the caveats in the documentation: https://pandas.pydata.org/pandas-docs/stable/user_guide/indexing.html#returning-a-view-versus-a-copy\n",
      "  df.loc[:,'CO2toRevenue'] = df.loc[:,'EmissionDataPoints.CO2EquivalentsEmissionDirectScope1']*(df.loc[:,'EmissionIndicators.TotalCO2EquivalentsEmissionsToRevenues']/df.loc[:,'EmissionDataPoints.CO2EquivalentsEmissionTotal'])\n",
      "/var/folders/s_/qtbdy3px3m3_6k7xydrkhbsh0000gn/T/ipykernel_7686/191058123.py:3: SettingWithCopyWarning: \n",
      "A value is trying to be set on a copy of a slice from a DataFrame.\n",
      "Try using .loc[row_indexer,col_indexer] = value instead\n",
      "\n",
      "See the caveats in the documentation: https://pandas.pydata.org/pandas-docs/stable/user_guide/indexing.html#returning-a-view-versus-a-copy\n",
      "  df.loc[:,'CO2toRevenue'] = df.loc[:,'EmissionDataPoints.CO2EquivalentsEmissionDirectScope1']*(df.loc[:,'EmissionIndicators.TotalCO2EquivalentsEmissionsToRevenues']/df.loc[:,'EmissionDataPoints.CO2EquivalentsEmissionTotal'])\n"
     ]
    },
    {
     "name": "stdout",
     "output_type": "stream",
     "text": [
      "predictions based on sector (using scaled data)\n",
      "predictions based on sector (using scaled data)\n",
      "predictions based on orgid\n",
      "predictions based on orgid\n",
      "predictions based on orgid\n",
      "predictions based on orgid\n",
      "predictions based on orgid\n",
      "predictions based on orgid\n",
      "predictions based on sector (using scaled data)\n",
      "predictions based on orgid\n",
      "predictions based on sector (using scaled data)\n",
      "predictions based on sector (using scaled data)\n"
     ]
    },
    {
     "name": "stderr",
     "output_type": "stream",
     "text": [
      "/var/folders/s_/qtbdy3px3m3_6k7xydrkhbsh0000gn/T/ipykernel_7686/191058123.py:3: SettingWithCopyWarning: \n",
      "A value is trying to be set on a copy of a slice from a DataFrame.\n",
      "Try using .loc[row_indexer,col_indexer] = value instead\n",
      "\n",
      "See the caveats in the documentation: https://pandas.pydata.org/pandas-docs/stable/user_guide/indexing.html#returning-a-view-versus-a-copy\n",
      "  df.loc[:,'CO2toRevenue'] = df.loc[:,'EmissionDataPoints.CO2EquivalentsEmissionDirectScope1']*(df.loc[:,'EmissionIndicators.TotalCO2EquivalentsEmissionsToRevenues']/df.loc[:,'EmissionDataPoints.CO2EquivalentsEmissionTotal'])\n",
      "/var/folders/s_/qtbdy3px3m3_6k7xydrkhbsh0000gn/T/ipykernel_7686/191058123.py:3: SettingWithCopyWarning: \n",
      "A value is trying to be set on a copy of a slice from a DataFrame.\n",
      "Try using .loc[row_indexer,col_indexer] = value instead\n",
      "\n",
      "See the caveats in the documentation: https://pandas.pydata.org/pandas-docs/stable/user_guide/indexing.html#returning-a-view-versus-a-copy\n",
      "  df.loc[:,'CO2toRevenue'] = df.loc[:,'EmissionDataPoints.CO2EquivalentsEmissionDirectScope1']*(df.loc[:,'EmissionIndicators.TotalCO2EquivalentsEmissionsToRevenues']/df.loc[:,'EmissionDataPoints.CO2EquivalentsEmissionTotal'])\n",
      "/var/folders/s_/qtbdy3px3m3_6k7xydrkhbsh0000gn/T/ipykernel_7686/191058123.py:3: SettingWithCopyWarning: \n",
      "A value is trying to be set on a copy of a slice from a DataFrame.\n",
      "Try using .loc[row_indexer,col_indexer] = value instead\n",
      "\n",
      "See the caveats in the documentation: https://pandas.pydata.org/pandas-docs/stable/user_guide/indexing.html#returning-a-view-versus-a-copy\n",
      "  df.loc[:,'CO2toRevenue'] = df.loc[:,'EmissionDataPoints.CO2EquivalentsEmissionDirectScope1']*(df.loc[:,'EmissionIndicators.TotalCO2EquivalentsEmissionsToRevenues']/df.loc[:,'EmissionDataPoints.CO2EquivalentsEmissionTotal'])\n"
     ]
    },
    {
     "name": "stdout",
     "output_type": "stream",
     "text": [
      "predictions based on sector (using scaled data)\n",
      "predictions based on sector (using scaled data)\n",
      "predictions based on sector (using scaled data)\n"
     ]
    },
    {
     "name": "stderr",
     "output_type": "stream",
     "text": [
      "/var/folders/s_/qtbdy3px3m3_6k7xydrkhbsh0000gn/T/ipykernel_7686/191058123.py:3: SettingWithCopyWarning: \n",
      "A value is trying to be set on a copy of a slice from a DataFrame.\n",
      "Try using .loc[row_indexer,col_indexer] = value instead\n",
      "\n",
      "See the caveats in the documentation: https://pandas.pydata.org/pandas-docs/stable/user_guide/indexing.html#returning-a-view-versus-a-copy\n",
      "  df.loc[:,'CO2toRevenue'] = df.loc[:,'EmissionDataPoints.CO2EquivalentsEmissionDirectScope1']*(df.loc[:,'EmissionIndicators.TotalCO2EquivalentsEmissionsToRevenues']/df.loc[:,'EmissionDataPoints.CO2EquivalentsEmissionTotal'])\n",
      "/var/folders/s_/qtbdy3px3m3_6k7xydrkhbsh0000gn/T/ipykernel_7686/191058123.py:3: SettingWithCopyWarning: \n",
      "A value is trying to be set on a copy of a slice from a DataFrame.\n",
      "Try using .loc[row_indexer,col_indexer] = value instead\n",
      "\n",
      "See the caveats in the documentation: https://pandas.pydata.org/pandas-docs/stable/user_guide/indexing.html#returning-a-view-versus-a-copy\n",
      "  df.loc[:,'CO2toRevenue'] = df.loc[:,'EmissionDataPoints.CO2EquivalentsEmissionDirectScope1']*(df.loc[:,'EmissionIndicators.TotalCO2EquivalentsEmissionsToRevenues']/df.loc[:,'EmissionDataPoints.CO2EquivalentsEmissionTotal'])\n",
      "/var/folders/s_/qtbdy3px3m3_6k7xydrkhbsh0000gn/T/ipykernel_7686/191058123.py:3: SettingWithCopyWarning: \n",
      "A value is trying to be set on a copy of a slice from a DataFrame.\n",
      "Try using .loc[row_indexer,col_indexer] = value instead\n",
      "\n",
      "See the caveats in the documentation: https://pandas.pydata.org/pandas-docs/stable/user_guide/indexing.html#returning-a-view-versus-a-copy\n",
      "  df.loc[:,'CO2toRevenue'] = df.loc[:,'EmissionDataPoints.CO2EquivalentsEmissionDirectScope1']*(df.loc[:,'EmissionIndicators.TotalCO2EquivalentsEmissionsToRevenues']/df.loc[:,'EmissionDataPoints.CO2EquivalentsEmissionTotal'])\n"
     ]
    },
    {
     "name": "stdout",
     "output_type": "stream",
     "text": [
      "predictions based on sector (using scaled data)\n",
      "predictions based on orgid\n",
      "predictions based on sector (using scaled data)\n"
     ]
    },
    {
     "name": "stderr",
     "output_type": "stream",
     "text": [
      "/var/folders/s_/qtbdy3px3m3_6k7xydrkhbsh0000gn/T/ipykernel_7686/191058123.py:3: SettingWithCopyWarning: \n",
      "A value is trying to be set on a copy of a slice from a DataFrame.\n",
      "Try using .loc[row_indexer,col_indexer] = value instead\n",
      "\n",
      "See the caveats in the documentation: https://pandas.pydata.org/pandas-docs/stable/user_guide/indexing.html#returning-a-view-versus-a-copy\n",
      "  df.loc[:,'CO2toRevenue'] = df.loc[:,'EmissionDataPoints.CO2EquivalentsEmissionDirectScope1']*(df.loc[:,'EmissionIndicators.TotalCO2EquivalentsEmissionsToRevenues']/df.loc[:,'EmissionDataPoints.CO2EquivalentsEmissionTotal'])\n",
      "/var/folders/s_/qtbdy3px3m3_6k7xydrkhbsh0000gn/T/ipykernel_7686/191058123.py:3: SettingWithCopyWarning: \n",
      "A value is trying to be set on a copy of a slice from a DataFrame.\n",
      "Try using .loc[row_indexer,col_indexer] = value instead\n",
      "\n",
      "See the caveats in the documentation: https://pandas.pydata.org/pandas-docs/stable/user_guide/indexing.html#returning-a-view-versus-a-copy\n",
      "  df.loc[:,'CO2toRevenue'] = df.loc[:,'EmissionDataPoints.CO2EquivalentsEmissionDirectScope1']*(df.loc[:,'EmissionIndicators.TotalCO2EquivalentsEmissionsToRevenues']/df.loc[:,'EmissionDataPoints.CO2EquivalentsEmissionTotal'])\n"
     ]
    },
    {
     "name": "stdout",
     "output_type": "stream",
     "text": [
      "predictions based on sector (using scaled data)\n",
      "predictions based on sector (using scaled data)\n"
     ]
    },
    {
     "name": "stderr",
     "output_type": "stream",
     "text": [
      "/var/folders/s_/qtbdy3px3m3_6k7xydrkhbsh0000gn/T/ipykernel_7686/191058123.py:3: SettingWithCopyWarning: \n",
      "A value is trying to be set on a copy of a slice from a DataFrame.\n",
      "Try using .loc[row_indexer,col_indexer] = value instead\n",
      "\n",
      "See the caveats in the documentation: https://pandas.pydata.org/pandas-docs/stable/user_guide/indexing.html#returning-a-view-versus-a-copy\n",
      "  df.loc[:,'CO2toRevenue'] = df.loc[:,'EmissionDataPoints.CO2EquivalentsEmissionDirectScope1']*(df.loc[:,'EmissionIndicators.TotalCO2EquivalentsEmissionsToRevenues']/df.loc[:,'EmissionDataPoints.CO2EquivalentsEmissionTotal'])\n",
      "/var/folders/s_/qtbdy3px3m3_6k7xydrkhbsh0000gn/T/ipykernel_7686/191058123.py:3: SettingWithCopyWarning: \n",
      "A value is trying to be set on a copy of a slice from a DataFrame.\n",
      "Try using .loc[row_indexer,col_indexer] = value instead\n",
      "\n",
      "See the caveats in the documentation: https://pandas.pydata.org/pandas-docs/stable/user_guide/indexing.html#returning-a-view-versus-a-copy\n",
      "  df.loc[:,'CO2toRevenue'] = df.loc[:,'EmissionDataPoints.CO2EquivalentsEmissionDirectScope1']*(df.loc[:,'EmissionIndicators.TotalCO2EquivalentsEmissionsToRevenues']/df.loc[:,'EmissionDataPoints.CO2EquivalentsEmissionTotal'])\n"
     ]
    },
    {
     "name": "stdout",
     "output_type": "stream",
     "text": [
      "predictions based on sector (using scaled data)\n",
      "predictions based on sector (using scaled data)\n"
     ]
    },
    {
     "name": "stderr",
     "output_type": "stream",
     "text": [
      "/var/folders/s_/qtbdy3px3m3_6k7xydrkhbsh0000gn/T/ipykernel_7686/191058123.py:3: SettingWithCopyWarning: \n",
      "A value is trying to be set on a copy of a slice from a DataFrame.\n",
      "Try using .loc[row_indexer,col_indexer] = value instead\n",
      "\n",
      "See the caveats in the documentation: https://pandas.pydata.org/pandas-docs/stable/user_guide/indexing.html#returning-a-view-versus-a-copy\n",
      "  df.loc[:,'CO2toRevenue'] = df.loc[:,'EmissionDataPoints.CO2EquivalentsEmissionDirectScope1']*(df.loc[:,'EmissionIndicators.TotalCO2EquivalentsEmissionsToRevenues']/df.loc[:,'EmissionDataPoints.CO2EquivalentsEmissionTotal'])\n",
      "/var/folders/s_/qtbdy3px3m3_6k7xydrkhbsh0000gn/T/ipykernel_7686/191058123.py:3: SettingWithCopyWarning: \n",
      "A value is trying to be set on a copy of a slice from a DataFrame.\n",
      "Try using .loc[row_indexer,col_indexer] = value instead\n",
      "\n",
      "See the caveats in the documentation: https://pandas.pydata.org/pandas-docs/stable/user_guide/indexing.html#returning-a-view-versus-a-copy\n",
      "  df.loc[:,'CO2toRevenue'] = df.loc[:,'EmissionDataPoints.CO2EquivalentsEmissionDirectScope1']*(df.loc[:,'EmissionIndicators.TotalCO2EquivalentsEmissionsToRevenues']/df.loc[:,'EmissionDataPoints.CO2EquivalentsEmissionTotal'])\n"
     ]
    },
    {
     "name": "stdout",
     "output_type": "stream",
     "text": [
      "predictions based on sector (using scaled data)\n",
      "predictions based on sector (using scaled data)\n",
      "predictions based on sector (using scaled data)\n"
     ]
    },
    {
     "name": "stderr",
     "output_type": "stream",
     "text": [
      "/var/folders/s_/qtbdy3px3m3_6k7xydrkhbsh0000gn/T/ipykernel_7686/191058123.py:3: SettingWithCopyWarning: \n",
      "A value is trying to be set on a copy of a slice from a DataFrame.\n",
      "Try using .loc[row_indexer,col_indexer] = value instead\n",
      "\n",
      "See the caveats in the documentation: https://pandas.pydata.org/pandas-docs/stable/user_guide/indexing.html#returning-a-view-versus-a-copy\n",
      "  df.loc[:,'CO2toRevenue'] = df.loc[:,'EmissionDataPoints.CO2EquivalentsEmissionDirectScope1']*(df.loc[:,'EmissionIndicators.TotalCO2EquivalentsEmissionsToRevenues']/df.loc[:,'EmissionDataPoints.CO2EquivalentsEmissionTotal'])\n",
      "/var/folders/s_/qtbdy3px3m3_6k7xydrkhbsh0000gn/T/ipykernel_7686/191058123.py:3: SettingWithCopyWarning: \n",
      "A value is trying to be set on a copy of a slice from a DataFrame.\n",
      "Try using .loc[row_indexer,col_indexer] = value instead\n",
      "\n",
      "See the caveats in the documentation: https://pandas.pydata.org/pandas-docs/stable/user_guide/indexing.html#returning-a-view-versus-a-copy\n",
      "  df.loc[:,'CO2toRevenue'] = df.loc[:,'EmissionDataPoints.CO2EquivalentsEmissionDirectScope1']*(df.loc[:,'EmissionIndicators.TotalCO2EquivalentsEmissionsToRevenues']/df.loc[:,'EmissionDataPoints.CO2EquivalentsEmissionTotal'])\n",
      "/var/folders/s_/qtbdy3px3m3_6k7xydrkhbsh0000gn/T/ipykernel_7686/191058123.py:3: SettingWithCopyWarning: \n",
      "A value is trying to be set on a copy of a slice from a DataFrame.\n",
      "Try using .loc[row_indexer,col_indexer] = value instead\n",
      "\n",
      "See the caveats in the documentation: https://pandas.pydata.org/pandas-docs/stable/user_guide/indexing.html#returning-a-view-versus-a-copy\n",
      "  df.loc[:,'CO2toRevenue'] = df.loc[:,'EmissionDataPoints.CO2EquivalentsEmissionDirectScope1']*(df.loc[:,'EmissionIndicators.TotalCO2EquivalentsEmissionsToRevenues']/df.loc[:,'EmissionDataPoints.CO2EquivalentsEmissionTotal'])\n"
     ]
    },
    {
     "name": "stdout",
     "output_type": "stream",
     "text": [
      "predictions based on sector (using scaled data)\n",
      "predictions based on orgid\n",
      "predictions based on orgid\n",
      "predictions based on sector (using scaled data)\n"
     ]
    },
    {
     "name": "stderr",
     "output_type": "stream",
     "text": [
      "/var/folders/s_/qtbdy3px3m3_6k7xydrkhbsh0000gn/T/ipykernel_7686/191058123.py:3: SettingWithCopyWarning: \n",
      "A value is trying to be set on a copy of a slice from a DataFrame.\n",
      "Try using .loc[row_indexer,col_indexer] = value instead\n",
      "\n",
      "See the caveats in the documentation: https://pandas.pydata.org/pandas-docs/stable/user_guide/indexing.html#returning-a-view-versus-a-copy\n",
      "  df.loc[:,'CO2toRevenue'] = df.loc[:,'EmissionDataPoints.CO2EquivalentsEmissionDirectScope1']*(df.loc[:,'EmissionIndicators.TotalCO2EquivalentsEmissionsToRevenues']/df.loc[:,'EmissionDataPoints.CO2EquivalentsEmissionTotal'])\n",
      "/var/folders/s_/qtbdy3px3m3_6k7xydrkhbsh0000gn/T/ipykernel_7686/191058123.py:3: SettingWithCopyWarning: \n",
      "A value is trying to be set on a copy of a slice from a DataFrame.\n",
      "Try using .loc[row_indexer,col_indexer] = value instead\n",
      "\n",
      "See the caveats in the documentation: https://pandas.pydata.org/pandas-docs/stable/user_guide/indexing.html#returning-a-view-versus-a-copy\n",
      "  df.loc[:,'CO2toRevenue'] = df.loc[:,'EmissionDataPoints.CO2EquivalentsEmissionDirectScope1']*(df.loc[:,'EmissionIndicators.TotalCO2EquivalentsEmissionsToRevenues']/df.loc[:,'EmissionDataPoints.CO2EquivalentsEmissionTotal'])\n"
     ]
    },
    {
     "name": "stdout",
     "output_type": "stream",
     "text": [
      "predictions based on sector (using scaled data)\n",
      "predictions based on sector (using scaled data)\n",
      "predictions based on sector (using scaled data)\n"
     ]
    },
    {
     "name": "stderr",
     "output_type": "stream",
     "text": [
      "/var/folders/s_/qtbdy3px3m3_6k7xydrkhbsh0000gn/T/ipykernel_7686/191058123.py:3: SettingWithCopyWarning: \n",
      "A value is trying to be set on a copy of a slice from a DataFrame.\n",
      "Try using .loc[row_indexer,col_indexer] = value instead\n",
      "\n",
      "See the caveats in the documentation: https://pandas.pydata.org/pandas-docs/stable/user_guide/indexing.html#returning-a-view-versus-a-copy\n",
      "  df.loc[:,'CO2toRevenue'] = df.loc[:,'EmissionDataPoints.CO2EquivalentsEmissionDirectScope1']*(df.loc[:,'EmissionIndicators.TotalCO2EquivalentsEmissionsToRevenues']/df.loc[:,'EmissionDataPoints.CO2EquivalentsEmissionTotal'])\n",
      "/var/folders/s_/qtbdy3px3m3_6k7xydrkhbsh0000gn/T/ipykernel_7686/191058123.py:3: SettingWithCopyWarning: \n",
      "A value is trying to be set on a copy of a slice from a DataFrame.\n",
      "Try using .loc[row_indexer,col_indexer] = value instead\n",
      "\n",
      "See the caveats in the documentation: https://pandas.pydata.org/pandas-docs/stable/user_guide/indexing.html#returning-a-view-versus-a-copy\n",
      "  df.loc[:,'CO2toRevenue'] = df.loc[:,'EmissionDataPoints.CO2EquivalentsEmissionDirectScope1']*(df.loc[:,'EmissionIndicators.TotalCO2EquivalentsEmissionsToRevenues']/df.loc[:,'EmissionDataPoints.CO2EquivalentsEmissionTotal'])\n",
      "/var/folders/s_/qtbdy3px3m3_6k7xydrkhbsh0000gn/T/ipykernel_7686/191058123.py:3: SettingWithCopyWarning: \n",
      "A value is trying to be set on a copy of a slice from a DataFrame.\n",
      "Try using .loc[row_indexer,col_indexer] = value instead\n",
      "\n",
      "See the caveats in the documentation: https://pandas.pydata.org/pandas-docs/stable/user_guide/indexing.html#returning-a-view-versus-a-copy\n",
      "  df.loc[:,'CO2toRevenue'] = df.loc[:,'EmissionDataPoints.CO2EquivalentsEmissionDirectScope1']*(df.loc[:,'EmissionIndicators.TotalCO2EquivalentsEmissionsToRevenues']/df.loc[:,'EmissionDataPoints.CO2EquivalentsEmissionTotal'])\n",
      "/var/folders/s_/qtbdy3px3m3_6k7xydrkhbsh0000gn/T/ipykernel_7686/191058123.py:3: SettingWithCopyWarning: \n",
      "A value is trying to be set on a copy of a slice from a DataFrame.\n",
      "Try using .loc[row_indexer,col_indexer] = value instead\n",
      "\n",
      "See the caveats in the documentation: https://pandas.pydata.org/pandas-docs/stable/user_guide/indexing.html#returning-a-view-versus-a-copy\n",
      "  df.loc[:,'CO2toRevenue'] = df.loc[:,'EmissionDataPoints.CO2EquivalentsEmissionDirectScope1']*(df.loc[:,'EmissionIndicators.TotalCO2EquivalentsEmissionsToRevenues']/df.loc[:,'EmissionDataPoints.CO2EquivalentsEmissionTotal'])\n"
     ]
    },
    {
     "name": "stdout",
     "output_type": "stream",
     "text": [
      "predictions based on sector (using scaled data)\n",
      "predictions based on sector (using scaled data)\n",
      "predictions based on orgid\n",
      "predictions based on orgid\n",
      "predictions based on sector (using scaled data)\n"
     ]
    },
    {
     "name": "stderr",
     "output_type": "stream",
     "text": [
      "/var/folders/s_/qtbdy3px3m3_6k7xydrkhbsh0000gn/T/ipykernel_7686/191058123.py:3: SettingWithCopyWarning: \n",
      "A value is trying to be set on a copy of a slice from a DataFrame.\n",
      "Try using .loc[row_indexer,col_indexer] = value instead\n",
      "\n",
      "See the caveats in the documentation: https://pandas.pydata.org/pandas-docs/stable/user_guide/indexing.html#returning-a-view-versus-a-copy\n",
      "  df.loc[:,'CO2toRevenue'] = df.loc[:,'EmissionDataPoints.CO2EquivalentsEmissionDirectScope1']*(df.loc[:,'EmissionIndicators.TotalCO2EquivalentsEmissionsToRevenues']/df.loc[:,'EmissionDataPoints.CO2EquivalentsEmissionTotal'])\n",
      "/var/folders/s_/qtbdy3px3m3_6k7xydrkhbsh0000gn/T/ipykernel_7686/191058123.py:3: SettingWithCopyWarning: \n",
      "A value is trying to be set on a copy of a slice from a DataFrame.\n",
      "Try using .loc[row_indexer,col_indexer] = value instead\n",
      "\n",
      "See the caveats in the documentation: https://pandas.pydata.org/pandas-docs/stable/user_guide/indexing.html#returning-a-view-versus-a-copy\n",
      "  df.loc[:,'CO2toRevenue'] = df.loc[:,'EmissionDataPoints.CO2EquivalentsEmissionDirectScope1']*(df.loc[:,'EmissionIndicators.TotalCO2EquivalentsEmissionsToRevenues']/df.loc[:,'EmissionDataPoints.CO2EquivalentsEmissionTotal'])\n"
     ]
    },
    {
     "name": "stdout",
     "output_type": "stream",
     "text": [
      "predictions based on sector (using scaled data)\n",
      "predictions based on sector (using scaled data)\n"
     ]
    },
    {
     "name": "stderr",
     "output_type": "stream",
     "text": [
      "/var/folders/s_/qtbdy3px3m3_6k7xydrkhbsh0000gn/T/ipykernel_7686/191058123.py:3: SettingWithCopyWarning: \n",
      "A value is trying to be set on a copy of a slice from a DataFrame.\n",
      "Try using .loc[row_indexer,col_indexer] = value instead\n",
      "\n",
      "See the caveats in the documentation: https://pandas.pydata.org/pandas-docs/stable/user_guide/indexing.html#returning-a-view-versus-a-copy\n",
      "  df.loc[:,'CO2toRevenue'] = df.loc[:,'EmissionDataPoints.CO2EquivalentsEmissionDirectScope1']*(df.loc[:,'EmissionIndicators.TotalCO2EquivalentsEmissionsToRevenues']/df.loc[:,'EmissionDataPoints.CO2EquivalentsEmissionTotal'])\n",
      "/var/folders/s_/qtbdy3px3m3_6k7xydrkhbsh0000gn/T/ipykernel_7686/191058123.py:3: SettingWithCopyWarning: \n",
      "A value is trying to be set on a copy of a slice from a DataFrame.\n",
      "Try using .loc[row_indexer,col_indexer] = value instead\n",
      "\n",
      "See the caveats in the documentation: https://pandas.pydata.org/pandas-docs/stable/user_guide/indexing.html#returning-a-view-versus-a-copy\n",
      "  df.loc[:,'CO2toRevenue'] = df.loc[:,'EmissionDataPoints.CO2EquivalentsEmissionDirectScope1']*(df.loc[:,'EmissionIndicators.TotalCO2EquivalentsEmissionsToRevenues']/df.loc[:,'EmissionDataPoints.CO2EquivalentsEmissionTotal'])\n"
     ]
    },
    {
     "name": "stdout",
     "output_type": "stream",
     "text": [
      "predictions based on sector (using scaled data)\n",
      "predictions based on sector (using scaled data)\n",
      "predictions based on sector (using scaled data)\n"
     ]
    },
    {
     "name": "stderr",
     "output_type": "stream",
     "text": [
      "/var/folders/s_/qtbdy3px3m3_6k7xydrkhbsh0000gn/T/ipykernel_7686/191058123.py:3: SettingWithCopyWarning: \n",
      "A value is trying to be set on a copy of a slice from a DataFrame.\n",
      "Try using .loc[row_indexer,col_indexer] = value instead\n",
      "\n",
      "See the caveats in the documentation: https://pandas.pydata.org/pandas-docs/stable/user_guide/indexing.html#returning-a-view-versus-a-copy\n",
      "  df.loc[:,'CO2toRevenue'] = df.loc[:,'EmissionDataPoints.CO2EquivalentsEmissionDirectScope1']*(df.loc[:,'EmissionIndicators.TotalCO2EquivalentsEmissionsToRevenues']/df.loc[:,'EmissionDataPoints.CO2EquivalentsEmissionTotal'])\n",
      "/var/folders/s_/qtbdy3px3m3_6k7xydrkhbsh0000gn/T/ipykernel_7686/191058123.py:3: SettingWithCopyWarning: \n",
      "A value is trying to be set on a copy of a slice from a DataFrame.\n",
      "Try using .loc[row_indexer,col_indexer] = value instead\n",
      "\n",
      "See the caveats in the documentation: https://pandas.pydata.org/pandas-docs/stable/user_guide/indexing.html#returning-a-view-versus-a-copy\n",
      "  df.loc[:,'CO2toRevenue'] = df.loc[:,'EmissionDataPoints.CO2EquivalentsEmissionDirectScope1']*(df.loc[:,'EmissionIndicators.TotalCO2EquivalentsEmissionsToRevenues']/df.loc[:,'EmissionDataPoints.CO2EquivalentsEmissionTotal'])\n",
      "/var/folders/s_/qtbdy3px3m3_6k7xydrkhbsh0000gn/T/ipykernel_7686/191058123.py:3: SettingWithCopyWarning: \n",
      "A value is trying to be set on a copy of a slice from a DataFrame.\n",
      "Try using .loc[row_indexer,col_indexer] = value instead\n",
      "\n",
      "See the caveats in the documentation: https://pandas.pydata.org/pandas-docs/stable/user_guide/indexing.html#returning-a-view-versus-a-copy\n",
      "  df.loc[:,'CO2toRevenue'] = df.loc[:,'EmissionDataPoints.CO2EquivalentsEmissionDirectScope1']*(df.loc[:,'EmissionIndicators.TotalCO2EquivalentsEmissionsToRevenues']/df.loc[:,'EmissionDataPoints.CO2EquivalentsEmissionTotal'])\n"
     ]
    },
    {
     "name": "stdout",
     "output_type": "stream",
     "text": [
      "predictions based on orgid\n",
      "predictions based on sector (using scaled data)\n",
      "predictions based on orgid\n",
      "predictions based on sector (using scaled data)\n"
     ]
    },
    {
     "name": "stderr",
     "output_type": "stream",
     "text": [
      "/var/folders/s_/qtbdy3px3m3_6k7xydrkhbsh0000gn/T/ipykernel_7686/191058123.py:3: SettingWithCopyWarning: \n",
      "A value is trying to be set on a copy of a slice from a DataFrame.\n",
      "Try using .loc[row_indexer,col_indexer] = value instead\n",
      "\n",
      "See the caveats in the documentation: https://pandas.pydata.org/pandas-docs/stable/user_guide/indexing.html#returning-a-view-versus-a-copy\n",
      "  df.loc[:,'CO2toRevenue'] = df.loc[:,'EmissionDataPoints.CO2EquivalentsEmissionDirectScope1']*(df.loc[:,'EmissionIndicators.TotalCO2EquivalentsEmissionsToRevenues']/df.loc[:,'EmissionDataPoints.CO2EquivalentsEmissionTotal'])\n",
      "/var/folders/s_/qtbdy3px3m3_6k7xydrkhbsh0000gn/T/ipykernel_7686/191058123.py:3: SettingWithCopyWarning: \n",
      "A value is trying to be set on a copy of a slice from a DataFrame.\n",
      "Try using .loc[row_indexer,col_indexer] = value instead\n",
      "\n",
      "See the caveats in the documentation: https://pandas.pydata.org/pandas-docs/stable/user_guide/indexing.html#returning-a-view-versus-a-copy\n",
      "  df.loc[:,'CO2toRevenue'] = df.loc[:,'EmissionDataPoints.CO2EquivalentsEmissionDirectScope1']*(df.loc[:,'EmissionIndicators.TotalCO2EquivalentsEmissionsToRevenues']/df.loc[:,'EmissionDataPoints.CO2EquivalentsEmissionTotal'])\n"
     ]
    },
    {
     "name": "stdout",
     "output_type": "stream",
     "text": [
      "predictions based on sector (using scaled data)\n",
      "predictions based on sector (using scaled data)\n"
     ]
    },
    {
     "name": "stderr",
     "output_type": "stream",
     "text": [
      "/var/folders/s_/qtbdy3px3m3_6k7xydrkhbsh0000gn/T/ipykernel_7686/191058123.py:3: SettingWithCopyWarning: \n",
      "A value is trying to be set on a copy of a slice from a DataFrame.\n",
      "Try using .loc[row_indexer,col_indexer] = value instead\n",
      "\n",
      "See the caveats in the documentation: https://pandas.pydata.org/pandas-docs/stable/user_guide/indexing.html#returning-a-view-versus-a-copy\n",
      "  df.loc[:,'CO2toRevenue'] = df.loc[:,'EmissionDataPoints.CO2EquivalentsEmissionDirectScope1']*(df.loc[:,'EmissionIndicators.TotalCO2EquivalentsEmissionsToRevenues']/df.loc[:,'EmissionDataPoints.CO2EquivalentsEmissionTotal'])\n",
      "/var/folders/s_/qtbdy3px3m3_6k7xydrkhbsh0000gn/T/ipykernel_7686/191058123.py:3: SettingWithCopyWarning: \n",
      "A value is trying to be set on a copy of a slice from a DataFrame.\n",
      "Try using .loc[row_indexer,col_indexer] = value instead\n",
      "\n",
      "See the caveats in the documentation: https://pandas.pydata.org/pandas-docs/stable/user_guide/indexing.html#returning-a-view-versus-a-copy\n",
      "  df.loc[:,'CO2toRevenue'] = df.loc[:,'EmissionDataPoints.CO2EquivalentsEmissionDirectScope1']*(df.loc[:,'EmissionIndicators.TotalCO2EquivalentsEmissionsToRevenues']/df.loc[:,'EmissionDataPoints.CO2EquivalentsEmissionTotal'])\n"
     ]
    },
    {
     "name": "stdout",
     "output_type": "stream",
     "text": [
      "predictions based on orgid\n",
      "predictions based on orgid\n",
      "predictions based on orgid\n",
      "predictions based on sector (using scaled data)\n",
      "predictions based on sector (using scaled data)\n"
     ]
    },
    {
     "name": "stderr",
     "output_type": "stream",
     "text": [
      "/var/folders/s_/qtbdy3px3m3_6k7xydrkhbsh0000gn/T/ipykernel_7686/191058123.py:3: SettingWithCopyWarning: \n",
      "A value is trying to be set on a copy of a slice from a DataFrame.\n",
      "Try using .loc[row_indexer,col_indexer] = value instead\n",
      "\n",
      "See the caveats in the documentation: https://pandas.pydata.org/pandas-docs/stable/user_guide/indexing.html#returning-a-view-versus-a-copy\n",
      "  df.loc[:,'CO2toRevenue'] = df.loc[:,'EmissionDataPoints.CO2EquivalentsEmissionDirectScope1']*(df.loc[:,'EmissionIndicators.TotalCO2EquivalentsEmissionsToRevenues']/df.loc[:,'EmissionDataPoints.CO2EquivalentsEmissionTotal'])\n",
      "/var/folders/s_/qtbdy3px3m3_6k7xydrkhbsh0000gn/T/ipykernel_7686/191058123.py:3: SettingWithCopyWarning: \n",
      "A value is trying to be set on a copy of a slice from a DataFrame.\n",
      "Try using .loc[row_indexer,col_indexer] = value instead\n",
      "\n",
      "See the caveats in the documentation: https://pandas.pydata.org/pandas-docs/stable/user_guide/indexing.html#returning-a-view-versus-a-copy\n",
      "  df.loc[:,'CO2toRevenue'] = df.loc[:,'EmissionDataPoints.CO2EquivalentsEmissionDirectScope1']*(df.loc[:,'EmissionIndicators.TotalCO2EquivalentsEmissionsToRevenues']/df.loc[:,'EmissionDataPoints.CO2EquivalentsEmissionTotal'])\n"
     ]
    },
    {
     "name": "stdout",
     "output_type": "stream",
     "text": [
      "predictions based on orgid\n",
      "predictions based on sector (using scaled data)\n",
      "predictions based on sector (using scaled data)\n"
     ]
    },
    {
     "name": "stderr",
     "output_type": "stream",
     "text": [
      "/var/folders/s_/qtbdy3px3m3_6k7xydrkhbsh0000gn/T/ipykernel_7686/191058123.py:3: SettingWithCopyWarning: \n",
      "A value is trying to be set on a copy of a slice from a DataFrame.\n",
      "Try using .loc[row_indexer,col_indexer] = value instead\n",
      "\n",
      "See the caveats in the documentation: https://pandas.pydata.org/pandas-docs/stable/user_guide/indexing.html#returning-a-view-versus-a-copy\n",
      "  df.loc[:,'CO2toRevenue'] = df.loc[:,'EmissionDataPoints.CO2EquivalentsEmissionDirectScope1']*(df.loc[:,'EmissionIndicators.TotalCO2EquivalentsEmissionsToRevenues']/df.loc[:,'EmissionDataPoints.CO2EquivalentsEmissionTotal'])\n",
      "/var/folders/s_/qtbdy3px3m3_6k7xydrkhbsh0000gn/T/ipykernel_7686/191058123.py:3: SettingWithCopyWarning: \n",
      "A value is trying to be set on a copy of a slice from a DataFrame.\n",
      "Try using .loc[row_indexer,col_indexer] = value instead\n",
      "\n",
      "See the caveats in the documentation: https://pandas.pydata.org/pandas-docs/stable/user_guide/indexing.html#returning-a-view-versus-a-copy\n",
      "  df.loc[:,'CO2toRevenue'] = df.loc[:,'EmissionDataPoints.CO2EquivalentsEmissionDirectScope1']*(df.loc[:,'EmissionIndicators.TotalCO2EquivalentsEmissionsToRevenues']/df.loc[:,'EmissionDataPoints.CO2EquivalentsEmissionTotal'])\n",
      "/var/folders/s_/qtbdy3px3m3_6k7xydrkhbsh0000gn/T/ipykernel_7686/191058123.py:3: SettingWithCopyWarning: \n",
      "A value is trying to be set on a copy of a slice from a DataFrame.\n",
      "Try using .loc[row_indexer,col_indexer] = value instead\n",
      "\n",
      "See the caveats in the documentation: https://pandas.pydata.org/pandas-docs/stable/user_guide/indexing.html#returning-a-view-versus-a-copy\n",
      "  df.loc[:,'CO2toRevenue'] = df.loc[:,'EmissionDataPoints.CO2EquivalentsEmissionDirectScope1']*(df.loc[:,'EmissionIndicators.TotalCO2EquivalentsEmissionsToRevenues']/df.loc[:,'EmissionDataPoints.CO2EquivalentsEmissionTotal'])\n"
     ]
    },
    {
     "name": "stdout",
     "output_type": "stream",
     "text": [
      "predictions based on sector (using scaled data)\n",
      "predictions based on sector (using scaled data)\n"
     ]
    },
    {
     "name": "stderr",
     "output_type": "stream",
     "text": [
      "/var/folders/s_/qtbdy3px3m3_6k7xydrkhbsh0000gn/T/ipykernel_7686/191058123.py:3: SettingWithCopyWarning: \n",
      "A value is trying to be set on a copy of a slice from a DataFrame.\n",
      "Try using .loc[row_indexer,col_indexer] = value instead\n",
      "\n",
      "See the caveats in the documentation: https://pandas.pydata.org/pandas-docs/stable/user_guide/indexing.html#returning-a-view-versus-a-copy\n",
      "  df.loc[:,'CO2toRevenue'] = df.loc[:,'EmissionDataPoints.CO2EquivalentsEmissionDirectScope1']*(df.loc[:,'EmissionIndicators.TotalCO2EquivalentsEmissionsToRevenues']/df.loc[:,'EmissionDataPoints.CO2EquivalentsEmissionTotal'])\n",
      "/var/folders/s_/qtbdy3px3m3_6k7xydrkhbsh0000gn/T/ipykernel_7686/191058123.py:3: SettingWithCopyWarning: \n",
      "A value is trying to be set on a copy of a slice from a DataFrame.\n",
      "Try using .loc[row_indexer,col_indexer] = value instead\n",
      "\n",
      "See the caveats in the documentation: https://pandas.pydata.org/pandas-docs/stable/user_guide/indexing.html#returning-a-view-versus-a-copy\n",
      "  df.loc[:,'CO2toRevenue'] = df.loc[:,'EmissionDataPoints.CO2EquivalentsEmissionDirectScope1']*(df.loc[:,'EmissionIndicators.TotalCO2EquivalentsEmissionsToRevenues']/df.loc[:,'EmissionDataPoints.CO2EquivalentsEmissionTotal'])\n"
     ]
    },
    {
     "name": "stdout",
     "output_type": "stream",
     "text": [
      "predictions based on sector (using scaled data)\n",
      "predictions based on sector (using scaled data)\n"
     ]
    },
    {
     "name": "stderr",
     "output_type": "stream",
     "text": [
      "/var/folders/s_/qtbdy3px3m3_6k7xydrkhbsh0000gn/T/ipykernel_7686/191058123.py:3: SettingWithCopyWarning: \n",
      "A value is trying to be set on a copy of a slice from a DataFrame.\n",
      "Try using .loc[row_indexer,col_indexer] = value instead\n",
      "\n",
      "See the caveats in the documentation: https://pandas.pydata.org/pandas-docs/stable/user_guide/indexing.html#returning-a-view-versus-a-copy\n",
      "  df.loc[:,'CO2toRevenue'] = df.loc[:,'EmissionDataPoints.CO2EquivalentsEmissionDirectScope1']*(df.loc[:,'EmissionIndicators.TotalCO2EquivalentsEmissionsToRevenues']/df.loc[:,'EmissionDataPoints.CO2EquivalentsEmissionTotal'])\n",
      "/var/folders/s_/qtbdy3px3m3_6k7xydrkhbsh0000gn/T/ipykernel_7686/191058123.py:3: SettingWithCopyWarning: \n",
      "A value is trying to be set on a copy of a slice from a DataFrame.\n",
      "Try using .loc[row_indexer,col_indexer] = value instead\n",
      "\n",
      "See the caveats in the documentation: https://pandas.pydata.org/pandas-docs/stable/user_guide/indexing.html#returning-a-view-versus-a-copy\n",
      "  df.loc[:,'CO2toRevenue'] = df.loc[:,'EmissionDataPoints.CO2EquivalentsEmissionDirectScope1']*(df.loc[:,'EmissionIndicators.TotalCO2EquivalentsEmissionsToRevenues']/df.loc[:,'EmissionDataPoints.CO2EquivalentsEmissionTotal'])\n"
     ]
    },
    {
     "name": "stdout",
     "output_type": "stream",
     "text": [
      "predictions based on sector (using scaled data)\n",
      "predictions based on sector (using scaled data)\n"
     ]
    },
    {
     "name": "stderr",
     "output_type": "stream",
     "text": [
      "/var/folders/s_/qtbdy3px3m3_6k7xydrkhbsh0000gn/T/ipykernel_7686/191058123.py:3: SettingWithCopyWarning: \n",
      "A value is trying to be set on a copy of a slice from a DataFrame.\n",
      "Try using .loc[row_indexer,col_indexer] = value instead\n",
      "\n",
      "See the caveats in the documentation: https://pandas.pydata.org/pandas-docs/stable/user_guide/indexing.html#returning-a-view-versus-a-copy\n",
      "  df.loc[:,'CO2toRevenue'] = df.loc[:,'EmissionDataPoints.CO2EquivalentsEmissionDirectScope1']*(df.loc[:,'EmissionIndicators.TotalCO2EquivalentsEmissionsToRevenues']/df.loc[:,'EmissionDataPoints.CO2EquivalentsEmissionTotal'])\n",
      "/var/folders/s_/qtbdy3px3m3_6k7xydrkhbsh0000gn/T/ipykernel_7686/191058123.py:3: SettingWithCopyWarning: \n",
      "A value is trying to be set on a copy of a slice from a DataFrame.\n",
      "Try using .loc[row_indexer,col_indexer] = value instead\n",
      "\n",
      "See the caveats in the documentation: https://pandas.pydata.org/pandas-docs/stable/user_guide/indexing.html#returning-a-view-versus-a-copy\n",
      "  df.loc[:,'CO2toRevenue'] = df.loc[:,'EmissionDataPoints.CO2EquivalentsEmissionDirectScope1']*(df.loc[:,'EmissionIndicators.TotalCO2EquivalentsEmissionsToRevenues']/df.loc[:,'EmissionDataPoints.CO2EquivalentsEmissionTotal'])\n"
     ]
    },
    {
     "name": "stdout",
     "output_type": "stream",
     "text": [
      "predictions based on orgid\n",
      "predictions based on sector (using scaled data)\n",
      "predictions based on sector (using scaled data)\n"
     ]
    },
    {
     "name": "stderr",
     "output_type": "stream",
     "text": [
      "/var/folders/s_/qtbdy3px3m3_6k7xydrkhbsh0000gn/T/ipykernel_7686/191058123.py:3: SettingWithCopyWarning: \n",
      "A value is trying to be set on a copy of a slice from a DataFrame.\n",
      "Try using .loc[row_indexer,col_indexer] = value instead\n",
      "\n",
      "See the caveats in the documentation: https://pandas.pydata.org/pandas-docs/stable/user_guide/indexing.html#returning-a-view-versus-a-copy\n",
      "  df.loc[:,'CO2toRevenue'] = df.loc[:,'EmissionDataPoints.CO2EquivalentsEmissionDirectScope1']*(df.loc[:,'EmissionIndicators.TotalCO2EquivalentsEmissionsToRevenues']/df.loc[:,'EmissionDataPoints.CO2EquivalentsEmissionTotal'])\n",
      "/var/folders/s_/qtbdy3px3m3_6k7xydrkhbsh0000gn/T/ipykernel_7686/191058123.py:3: SettingWithCopyWarning: \n",
      "A value is trying to be set on a copy of a slice from a DataFrame.\n",
      "Try using .loc[row_indexer,col_indexer] = value instead\n",
      "\n",
      "See the caveats in the documentation: https://pandas.pydata.org/pandas-docs/stable/user_guide/indexing.html#returning-a-view-versus-a-copy\n",
      "  df.loc[:,'CO2toRevenue'] = df.loc[:,'EmissionDataPoints.CO2EquivalentsEmissionDirectScope1']*(df.loc[:,'EmissionIndicators.TotalCO2EquivalentsEmissionsToRevenues']/df.loc[:,'EmissionDataPoints.CO2EquivalentsEmissionTotal'])\n",
      "/var/folders/s_/qtbdy3px3m3_6k7xydrkhbsh0000gn/T/ipykernel_7686/191058123.py:3: SettingWithCopyWarning: \n",
      "A value is trying to be set on a copy of a slice from a DataFrame.\n",
      "Try using .loc[row_indexer,col_indexer] = value instead\n",
      "\n",
      "See the caveats in the documentation: https://pandas.pydata.org/pandas-docs/stable/user_guide/indexing.html#returning-a-view-versus-a-copy\n",
      "  df.loc[:,'CO2toRevenue'] = df.loc[:,'EmissionDataPoints.CO2EquivalentsEmissionDirectScope1']*(df.loc[:,'EmissionIndicators.TotalCO2EquivalentsEmissionsToRevenues']/df.loc[:,'EmissionDataPoints.CO2EquivalentsEmissionTotal'])\n"
     ]
    },
    {
     "name": "stdout",
     "output_type": "stream",
     "text": [
      "predictions based on sector (using scaled data)\n",
      "predictions based on sector (using scaled data)\n",
      "predictions based on sector (using scaled data)\n"
     ]
    },
    {
     "name": "stderr",
     "output_type": "stream",
     "text": [
      "/var/folders/s_/qtbdy3px3m3_6k7xydrkhbsh0000gn/T/ipykernel_7686/191058123.py:3: SettingWithCopyWarning: \n",
      "A value is trying to be set on a copy of a slice from a DataFrame.\n",
      "Try using .loc[row_indexer,col_indexer] = value instead\n",
      "\n",
      "See the caveats in the documentation: https://pandas.pydata.org/pandas-docs/stable/user_guide/indexing.html#returning-a-view-versus-a-copy\n",
      "  df.loc[:,'CO2toRevenue'] = df.loc[:,'EmissionDataPoints.CO2EquivalentsEmissionDirectScope1']*(df.loc[:,'EmissionIndicators.TotalCO2EquivalentsEmissionsToRevenues']/df.loc[:,'EmissionDataPoints.CO2EquivalentsEmissionTotal'])\n",
      "/var/folders/s_/qtbdy3px3m3_6k7xydrkhbsh0000gn/T/ipykernel_7686/191058123.py:3: SettingWithCopyWarning: \n",
      "A value is trying to be set on a copy of a slice from a DataFrame.\n",
      "Try using .loc[row_indexer,col_indexer] = value instead\n",
      "\n",
      "See the caveats in the documentation: https://pandas.pydata.org/pandas-docs/stable/user_guide/indexing.html#returning-a-view-versus-a-copy\n",
      "  df.loc[:,'CO2toRevenue'] = df.loc[:,'EmissionDataPoints.CO2EquivalentsEmissionDirectScope1']*(df.loc[:,'EmissionIndicators.TotalCO2EquivalentsEmissionsToRevenues']/df.loc[:,'EmissionDataPoints.CO2EquivalentsEmissionTotal'])\n"
     ]
    },
    {
     "name": "stdout",
     "output_type": "stream",
     "text": [
      "predictions based on sector (using scaled data)\n",
      "predictions based on sector (using scaled data)\n"
     ]
    },
    {
     "name": "stderr",
     "output_type": "stream",
     "text": [
      "/var/folders/s_/qtbdy3px3m3_6k7xydrkhbsh0000gn/T/ipykernel_7686/191058123.py:3: SettingWithCopyWarning: \n",
      "A value is trying to be set on a copy of a slice from a DataFrame.\n",
      "Try using .loc[row_indexer,col_indexer] = value instead\n",
      "\n",
      "See the caveats in the documentation: https://pandas.pydata.org/pandas-docs/stable/user_guide/indexing.html#returning-a-view-versus-a-copy\n",
      "  df.loc[:,'CO2toRevenue'] = df.loc[:,'EmissionDataPoints.CO2EquivalentsEmissionDirectScope1']*(df.loc[:,'EmissionIndicators.TotalCO2EquivalentsEmissionsToRevenues']/df.loc[:,'EmissionDataPoints.CO2EquivalentsEmissionTotal'])\n",
      "/var/folders/s_/qtbdy3px3m3_6k7xydrkhbsh0000gn/T/ipykernel_7686/191058123.py:3: SettingWithCopyWarning: \n",
      "A value is trying to be set on a copy of a slice from a DataFrame.\n",
      "Try using .loc[row_indexer,col_indexer] = value instead\n",
      "\n",
      "See the caveats in the documentation: https://pandas.pydata.org/pandas-docs/stable/user_guide/indexing.html#returning-a-view-versus-a-copy\n",
      "  df.loc[:,'CO2toRevenue'] = df.loc[:,'EmissionDataPoints.CO2EquivalentsEmissionDirectScope1']*(df.loc[:,'EmissionIndicators.TotalCO2EquivalentsEmissionsToRevenues']/df.loc[:,'EmissionDataPoints.CO2EquivalentsEmissionTotal'])\n"
     ]
    },
    {
     "name": "stdout",
     "output_type": "stream",
     "text": [
      "predictions based on orgid\n",
      "predictions based on sector (using scaled data)\n",
      "predictions based on sector (using scaled data)\n"
     ]
    },
    {
     "name": "stderr",
     "output_type": "stream",
     "text": [
      "/var/folders/s_/qtbdy3px3m3_6k7xydrkhbsh0000gn/T/ipykernel_7686/191058123.py:3: SettingWithCopyWarning: \n",
      "A value is trying to be set on a copy of a slice from a DataFrame.\n",
      "Try using .loc[row_indexer,col_indexer] = value instead\n",
      "\n",
      "See the caveats in the documentation: https://pandas.pydata.org/pandas-docs/stable/user_guide/indexing.html#returning-a-view-versus-a-copy\n",
      "  df.loc[:,'CO2toRevenue'] = df.loc[:,'EmissionDataPoints.CO2EquivalentsEmissionDirectScope1']*(df.loc[:,'EmissionIndicators.TotalCO2EquivalentsEmissionsToRevenues']/df.loc[:,'EmissionDataPoints.CO2EquivalentsEmissionTotal'])\n",
      "/var/folders/s_/qtbdy3px3m3_6k7xydrkhbsh0000gn/T/ipykernel_7686/191058123.py:3: SettingWithCopyWarning: \n",
      "A value is trying to be set on a copy of a slice from a DataFrame.\n",
      "Try using .loc[row_indexer,col_indexer] = value instead\n",
      "\n",
      "See the caveats in the documentation: https://pandas.pydata.org/pandas-docs/stable/user_guide/indexing.html#returning-a-view-versus-a-copy\n",
      "  df.loc[:,'CO2toRevenue'] = df.loc[:,'EmissionDataPoints.CO2EquivalentsEmissionDirectScope1']*(df.loc[:,'EmissionIndicators.TotalCO2EquivalentsEmissionsToRevenues']/df.loc[:,'EmissionDataPoints.CO2EquivalentsEmissionTotal'])\n",
      "/var/folders/s_/qtbdy3px3m3_6k7xydrkhbsh0000gn/T/ipykernel_7686/191058123.py:3: SettingWithCopyWarning: \n",
      "A value is trying to be set on a copy of a slice from a DataFrame.\n",
      "Try using .loc[row_indexer,col_indexer] = value instead\n",
      "\n",
      "See the caveats in the documentation: https://pandas.pydata.org/pandas-docs/stable/user_guide/indexing.html#returning-a-view-versus-a-copy\n",
      "  df.loc[:,'CO2toRevenue'] = df.loc[:,'EmissionDataPoints.CO2EquivalentsEmissionDirectScope1']*(df.loc[:,'EmissionIndicators.TotalCO2EquivalentsEmissionsToRevenues']/df.loc[:,'EmissionDataPoints.CO2EquivalentsEmissionTotal'])\n"
     ]
    },
    {
     "name": "stdout",
     "output_type": "stream",
     "text": [
      "predictions based on sector (using scaled data)\n",
      "predictions based on sector (using scaled data)\n",
      "predictions based on orgid\n",
      "predictions based on sector (using scaled data)\n"
     ]
    },
    {
     "name": "stderr",
     "output_type": "stream",
     "text": [
      "/var/folders/s_/qtbdy3px3m3_6k7xydrkhbsh0000gn/T/ipykernel_7686/191058123.py:3: SettingWithCopyWarning: \n",
      "A value is trying to be set on a copy of a slice from a DataFrame.\n",
      "Try using .loc[row_indexer,col_indexer] = value instead\n",
      "\n",
      "See the caveats in the documentation: https://pandas.pydata.org/pandas-docs/stable/user_guide/indexing.html#returning-a-view-versus-a-copy\n",
      "  df.loc[:,'CO2toRevenue'] = df.loc[:,'EmissionDataPoints.CO2EquivalentsEmissionDirectScope1']*(df.loc[:,'EmissionIndicators.TotalCO2EquivalentsEmissionsToRevenues']/df.loc[:,'EmissionDataPoints.CO2EquivalentsEmissionTotal'])\n",
      "/var/folders/s_/qtbdy3px3m3_6k7xydrkhbsh0000gn/T/ipykernel_7686/191058123.py:3: SettingWithCopyWarning: \n",
      "A value is trying to be set on a copy of a slice from a DataFrame.\n",
      "Try using .loc[row_indexer,col_indexer] = value instead\n",
      "\n",
      "See the caveats in the documentation: https://pandas.pydata.org/pandas-docs/stable/user_guide/indexing.html#returning-a-view-versus-a-copy\n",
      "  df.loc[:,'CO2toRevenue'] = df.loc[:,'EmissionDataPoints.CO2EquivalentsEmissionDirectScope1']*(df.loc[:,'EmissionIndicators.TotalCO2EquivalentsEmissionsToRevenues']/df.loc[:,'EmissionDataPoints.CO2EquivalentsEmissionTotal'])\n",
      "/var/folders/s_/qtbdy3px3m3_6k7xydrkhbsh0000gn/T/ipykernel_7686/191058123.py:3: SettingWithCopyWarning: \n",
      "A value is trying to be set on a copy of a slice from a DataFrame.\n",
      "Try using .loc[row_indexer,col_indexer] = value instead\n",
      "\n",
      "See the caveats in the documentation: https://pandas.pydata.org/pandas-docs/stable/user_guide/indexing.html#returning-a-view-versus-a-copy\n",
      "  df.loc[:,'CO2toRevenue'] = df.loc[:,'EmissionDataPoints.CO2EquivalentsEmissionDirectScope1']*(df.loc[:,'EmissionIndicators.TotalCO2EquivalentsEmissionsToRevenues']/df.loc[:,'EmissionDataPoints.CO2EquivalentsEmissionTotal'])\n"
     ]
    },
    {
     "name": "stdout",
     "output_type": "stream",
     "text": [
      "predictions based on sector (using scaled data)\n",
      "predictions based on sector (using scaled data)\n",
      "predictions based on sector (using scaled data)\n"
     ]
    },
    {
     "name": "stderr",
     "output_type": "stream",
     "text": [
      "/var/folders/s_/qtbdy3px3m3_6k7xydrkhbsh0000gn/T/ipykernel_7686/191058123.py:3: SettingWithCopyWarning: \n",
      "A value is trying to be set on a copy of a slice from a DataFrame.\n",
      "Try using .loc[row_indexer,col_indexer] = value instead\n",
      "\n",
      "See the caveats in the documentation: https://pandas.pydata.org/pandas-docs/stable/user_guide/indexing.html#returning-a-view-versus-a-copy\n",
      "  df.loc[:,'CO2toRevenue'] = df.loc[:,'EmissionDataPoints.CO2EquivalentsEmissionDirectScope1']*(df.loc[:,'EmissionIndicators.TotalCO2EquivalentsEmissionsToRevenues']/df.loc[:,'EmissionDataPoints.CO2EquivalentsEmissionTotal'])\n",
      "/var/folders/s_/qtbdy3px3m3_6k7xydrkhbsh0000gn/T/ipykernel_7686/191058123.py:3: SettingWithCopyWarning: \n",
      "A value is trying to be set on a copy of a slice from a DataFrame.\n",
      "Try using .loc[row_indexer,col_indexer] = value instead\n",
      "\n",
      "See the caveats in the documentation: https://pandas.pydata.org/pandas-docs/stable/user_guide/indexing.html#returning-a-view-versus-a-copy\n",
      "  df.loc[:,'CO2toRevenue'] = df.loc[:,'EmissionDataPoints.CO2EquivalentsEmissionDirectScope1']*(df.loc[:,'EmissionIndicators.TotalCO2EquivalentsEmissionsToRevenues']/df.loc[:,'EmissionDataPoints.CO2EquivalentsEmissionTotal'])\n"
     ]
    },
    {
     "name": "stdout",
     "output_type": "stream",
     "text": [
      "predictions based on sector (using scaled data)\n",
      "predictions based on sector (using scaled data)\n",
      "predictions based on sector (using scaled data)\n"
     ]
    },
    {
     "name": "stderr",
     "output_type": "stream",
     "text": [
      "/var/folders/s_/qtbdy3px3m3_6k7xydrkhbsh0000gn/T/ipykernel_7686/191058123.py:3: SettingWithCopyWarning: \n",
      "A value is trying to be set on a copy of a slice from a DataFrame.\n",
      "Try using .loc[row_indexer,col_indexer] = value instead\n",
      "\n",
      "See the caveats in the documentation: https://pandas.pydata.org/pandas-docs/stable/user_guide/indexing.html#returning-a-view-versus-a-copy\n",
      "  df.loc[:,'CO2toRevenue'] = df.loc[:,'EmissionDataPoints.CO2EquivalentsEmissionDirectScope1']*(df.loc[:,'EmissionIndicators.TotalCO2EquivalentsEmissionsToRevenues']/df.loc[:,'EmissionDataPoints.CO2EquivalentsEmissionTotal'])\n",
      "/var/folders/s_/qtbdy3px3m3_6k7xydrkhbsh0000gn/T/ipykernel_7686/191058123.py:3: SettingWithCopyWarning: \n",
      "A value is trying to be set on a copy of a slice from a DataFrame.\n",
      "Try using .loc[row_indexer,col_indexer] = value instead\n",
      "\n",
      "See the caveats in the documentation: https://pandas.pydata.org/pandas-docs/stable/user_guide/indexing.html#returning-a-view-versus-a-copy\n",
      "  df.loc[:,'CO2toRevenue'] = df.loc[:,'EmissionDataPoints.CO2EquivalentsEmissionDirectScope1']*(df.loc[:,'EmissionIndicators.TotalCO2EquivalentsEmissionsToRevenues']/df.loc[:,'EmissionDataPoints.CO2EquivalentsEmissionTotal'])\n",
      "/var/folders/s_/qtbdy3px3m3_6k7xydrkhbsh0000gn/T/ipykernel_7686/191058123.py:3: SettingWithCopyWarning: \n",
      "A value is trying to be set on a copy of a slice from a DataFrame.\n",
      "Try using .loc[row_indexer,col_indexer] = value instead\n",
      "\n",
      "See the caveats in the documentation: https://pandas.pydata.org/pandas-docs/stable/user_guide/indexing.html#returning-a-view-versus-a-copy\n",
      "  df.loc[:,'CO2toRevenue'] = df.loc[:,'EmissionDataPoints.CO2EquivalentsEmissionDirectScope1']*(df.loc[:,'EmissionIndicators.TotalCO2EquivalentsEmissionsToRevenues']/df.loc[:,'EmissionDataPoints.CO2EquivalentsEmissionTotal'])\n"
     ]
    },
    {
     "name": "stdout",
     "output_type": "stream",
     "text": [
      "predictions based on sector (using scaled data)\n",
      "predictions based on sector (using scaled data)\n",
      "predictions based on sector (using scaled data)\n"
     ]
    },
    {
     "name": "stderr",
     "output_type": "stream",
     "text": [
      "/var/folders/s_/qtbdy3px3m3_6k7xydrkhbsh0000gn/T/ipykernel_7686/191058123.py:3: SettingWithCopyWarning: \n",
      "A value is trying to be set on a copy of a slice from a DataFrame.\n",
      "Try using .loc[row_indexer,col_indexer] = value instead\n",
      "\n",
      "See the caveats in the documentation: https://pandas.pydata.org/pandas-docs/stable/user_guide/indexing.html#returning-a-view-versus-a-copy\n",
      "  df.loc[:,'CO2toRevenue'] = df.loc[:,'EmissionDataPoints.CO2EquivalentsEmissionDirectScope1']*(df.loc[:,'EmissionIndicators.TotalCO2EquivalentsEmissionsToRevenues']/df.loc[:,'EmissionDataPoints.CO2EquivalentsEmissionTotal'])\n",
      "/var/folders/s_/qtbdy3px3m3_6k7xydrkhbsh0000gn/T/ipykernel_7686/191058123.py:3: SettingWithCopyWarning: \n",
      "A value is trying to be set on a copy of a slice from a DataFrame.\n",
      "Try using .loc[row_indexer,col_indexer] = value instead\n",
      "\n",
      "See the caveats in the documentation: https://pandas.pydata.org/pandas-docs/stable/user_guide/indexing.html#returning-a-view-versus-a-copy\n",
      "  df.loc[:,'CO2toRevenue'] = df.loc[:,'EmissionDataPoints.CO2EquivalentsEmissionDirectScope1']*(df.loc[:,'EmissionIndicators.TotalCO2EquivalentsEmissionsToRevenues']/df.loc[:,'EmissionDataPoints.CO2EquivalentsEmissionTotal'])\n",
      "/var/folders/s_/qtbdy3px3m3_6k7xydrkhbsh0000gn/T/ipykernel_7686/191058123.py:3: SettingWithCopyWarning: \n",
      "A value is trying to be set on a copy of a slice from a DataFrame.\n",
      "Try using .loc[row_indexer,col_indexer] = value instead\n",
      "\n",
      "See the caveats in the documentation: https://pandas.pydata.org/pandas-docs/stable/user_guide/indexing.html#returning-a-view-versus-a-copy\n",
      "  df.loc[:,'CO2toRevenue'] = df.loc[:,'EmissionDataPoints.CO2EquivalentsEmissionDirectScope1']*(df.loc[:,'EmissionIndicators.TotalCO2EquivalentsEmissionsToRevenues']/df.loc[:,'EmissionDataPoints.CO2EquivalentsEmissionTotal'])\n"
     ]
    },
    {
     "name": "stdout",
     "output_type": "stream",
     "text": [
      "predictions based on sector (using scaled data)\n",
      "predictions based on sector (using scaled data)\n",
      "predictions based on sector (using scaled data)\n"
     ]
    },
    {
     "name": "stderr",
     "output_type": "stream",
     "text": [
      "/var/folders/s_/qtbdy3px3m3_6k7xydrkhbsh0000gn/T/ipykernel_7686/191058123.py:3: SettingWithCopyWarning: \n",
      "A value is trying to be set on a copy of a slice from a DataFrame.\n",
      "Try using .loc[row_indexer,col_indexer] = value instead\n",
      "\n",
      "See the caveats in the documentation: https://pandas.pydata.org/pandas-docs/stable/user_guide/indexing.html#returning-a-view-versus-a-copy\n",
      "  df.loc[:,'CO2toRevenue'] = df.loc[:,'EmissionDataPoints.CO2EquivalentsEmissionDirectScope1']*(df.loc[:,'EmissionIndicators.TotalCO2EquivalentsEmissionsToRevenues']/df.loc[:,'EmissionDataPoints.CO2EquivalentsEmissionTotal'])\n",
      "/var/folders/s_/qtbdy3px3m3_6k7xydrkhbsh0000gn/T/ipykernel_7686/191058123.py:3: SettingWithCopyWarning: \n",
      "A value is trying to be set on a copy of a slice from a DataFrame.\n",
      "Try using .loc[row_indexer,col_indexer] = value instead\n",
      "\n",
      "See the caveats in the documentation: https://pandas.pydata.org/pandas-docs/stable/user_guide/indexing.html#returning-a-view-versus-a-copy\n",
      "  df.loc[:,'CO2toRevenue'] = df.loc[:,'EmissionDataPoints.CO2EquivalentsEmissionDirectScope1']*(df.loc[:,'EmissionIndicators.TotalCO2EquivalentsEmissionsToRevenues']/df.loc[:,'EmissionDataPoints.CO2EquivalentsEmissionTotal'])\n",
      "/var/folders/s_/qtbdy3px3m3_6k7xydrkhbsh0000gn/T/ipykernel_7686/191058123.py:3: SettingWithCopyWarning: \n",
      "A value is trying to be set on a copy of a slice from a DataFrame.\n",
      "Try using .loc[row_indexer,col_indexer] = value instead\n",
      "\n",
      "See the caveats in the documentation: https://pandas.pydata.org/pandas-docs/stable/user_guide/indexing.html#returning-a-view-versus-a-copy\n",
      "  df.loc[:,'CO2toRevenue'] = df.loc[:,'EmissionDataPoints.CO2EquivalentsEmissionDirectScope1']*(df.loc[:,'EmissionIndicators.TotalCO2EquivalentsEmissionsToRevenues']/df.loc[:,'EmissionDataPoints.CO2EquivalentsEmissionTotal'])\n"
     ]
    },
    {
     "name": "stdout",
     "output_type": "stream",
     "text": [
      "predictions based on sector (using scaled data)\n",
      "predictions based on sector (using scaled data)\n",
      "predictions based on sector (using scaled data)\n"
     ]
    },
    {
     "name": "stderr",
     "output_type": "stream",
     "text": [
      "/var/folders/s_/qtbdy3px3m3_6k7xydrkhbsh0000gn/T/ipykernel_7686/191058123.py:3: SettingWithCopyWarning: \n",
      "A value is trying to be set on a copy of a slice from a DataFrame.\n",
      "Try using .loc[row_indexer,col_indexer] = value instead\n",
      "\n",
      "See the caveats in the documentation: https://pandas.pydata.org/pandas-docs/stable/user_guide/indexing.html#returning-a-view-versus-a-copy\n",
      "  df.loc[:,'CO2toRevenue'] = df.loc[:,'EmissionDataPoints.CO2EquivalentsEmissionDirectScope1']*(df.loc[:,'EmissionIndicators.TotalCO2EquivalentsEmissionsToRevenues']/df.loc[:,'EmissionDataPoints.CO2EquivalentsEmissionTotal'])\n",
      "/var/folders/s_/qtbdy3px3m3_6k7xydrkhbsh0000gn/T/ipykernel_7686/191058123.py:3: SettingWithCopyWarning: \n",
      "A value is trying to be set on a copy of a slice from a DataFrame.\n",
      "Try using .loc[row_indexer,col_indexer] = value instead\n",
      "\n",
      "See the caveats in the documentation: https://pandas.pydata.org/pandas-docs/stable/user_guide/indexing.html#returning-a-view-versus-a-copy\n",
      "  df.loc[:,'CO2toRevenue'] = df.loc[:,'EmissionDataPoints.CO2EquivalentsEmissionDirectScope1']*(df.loc[:,'EmissionIndicators.TotalCO2EquivalentsEmissionsToRevenues']/df.loc[:,'EmissionDataPoints.CO2EquivalentsEmissionTotal'])\n"
     ]
    },
    {
     "name": "stdout",
     "output_type": "stream",
     "text": [
      "predictions based on sector (using scaled data)\n",
      "predictions based on sector (using scaled data)\n",
      "predictions based on sector (using scaled data)\n"
     ]
    },
    {
     "name": "stderr",
     "output_type": "stream",
     "text": [
      "/var/folders/s_/qtbdy3px3m3_6k7xydrkhbsh0000gn/T/ipykernel_7686/191058123.py:3: SettingWithCopyWarning: \n",
      "A value is trying to be set on a copy of a slice from a DataFrame.\n",
      "Try using .loc[row_indexer,col_indexer] = value instead\n",
      "\n",
      "See the caveats in the documentation: https://pandas.pydata.org/pandas-docs/stable/user_guide/indexing.html#returning-a-view-versus-a-copy\n",
      "  df.loc[:,'CO2toRevenue'] = df.loc[:,'EmissionDataPoints.CO2EquivalentsEmissionDirectScope1']*(df.loc[:,'EmissionIndicators.TotalCO2EquivalentsEmissionsToRevenues']/df.loc[:,'EmissionDataPoints.CO2EquivalentsEmissionTotal'])\n",
      "/var/folders/s_/qtbdy3px3m3_6k7xydrkhbsh0000gn/T/ipykernel_7686/191058123.py:3: SettingWithCopyWarning: \n",
      "A value is trying to be set on a copy of a slice from a DataFrame.\n",
      "Try using .loc[row_indexer,col_indexer] = value instead\n",
      "\n",
      "See the caveats in the documentation: https://pandas.pydata.org/pandas-docs/stable/user_guide/indexing.html#returning-a-view-versus-a-copy\n",
      "  df.loc[:,'CO2toRevenue'] = df.loc[:,'EmissionDataPoints.CO2EquivalentsEmissionDirectScope1']*(df.loc[:,'EmissionIndicators.TotalCO2EquivalentsEmissionsToRevenues']/df.loc[:,'EmissionDataPoints.CO2EquivalentsEmissionTotal'])\n",
      "/var/folders/s_/qtbdy3px3m3_6k7xydrkhbsh0000gn/T/ipykernel_7686/191058123.py:3: SettingWithCopyWarning: \n",
      "A value is trying to be set on a copy of a slice from a DataFrame.\n",
      "Try using .loc[row_indexer,col_indexer] = value instead\n",
      "\n",
      "See the caveats in the documentation: https://pandas.pydata.org/pandas-docs/stable/user_guide/indexing.html#returning-a-view-versus-a-copy\n",
      "  df.loc[:,'CO2toRevenue'] = df.loc[:,'EmissionDataPoints.CO2EquivalentsEmissionDirectScope1']*(df.loc[:,'EmissionIndicators.TotalCO2EquivalentsEmissionsToRevenues']/df.loc[:,'EmissionDataPoints.CO2EquivalentsEmissionTotal'])\n"
     ]
    },
    {
     "name": "stdout",
     "output_type": "stream",
     "text": [
      "predictions based on sector (using scaled data)\n",
      "predictions based on sector (using scaled data)\n",
      "predictions based on sector (using scaled data)\n"
     ]
    },
    {
     "name": "stderr",
     "output_type": "stream",
     "text": [
      "/var/folders/s_/qtbdy3px3m3_6k7xydrkhbsh0000gn/T/ipykernel_7686/191058123.py:3: SettingWithCopyWarning: \n",
      "A value is trying to be set on a copy of a slice from a DataFrame.\n",
      "Try using .loc[row_indexer,col_indexer] = value instead\n",
      "\n",
      "See the caveats in the documentation: https://pandas.pydata.org/pandas-docs/stable/user_guide/indexing.html#returning-a-view-versus-a-copy\n",
      "  df.loc[:,'CO2toRevenue'] = df.loc[:,'EmissionDataPoints.CO2EquivalentsEmissionDirectScope1']*(df.loc[:,'EmissionIndicators.TotalCO2EquivalentsEmissionsToRevenues']/df.loc[:,'EmissionDataPoints.CO2EquivalentsEmissionTotal'])\n",
      "/var/folders/s_/qtbdy3px3m3_6k7xydrkhbsh0000gn/T/ipykernel_7686/191058123.py:3: SettingWithCopyWarning: \n",
      "A value is trying to be set on a copy of a slice from a DataFrame.\n",
      "Try using .loc[row_indexer,col_indexer] = value instead\n",
      "\n",
      "See the caveats in the documentation: https://pandas.pydata.org/pandas-docs/stable/user_guide/indexing.html#returning-a-view-versus-a-copy\n",
      "  df.loc[:,'CO2toRevenue'] = df.loc[:,'EmissionDataPoints.CO2EquivalentsEmissionDirectScope1']*(df.loc[:,'EmissionIndicators.TotalCO2EquivalentsEmissionsToRevenues']/df.loc[:,'EmissionDataPoints.CO2EquivalentsEmissionTotal'])\n",
      "/var/folders/s_/qtbdy3px3m3_6k7xydrkhbsh0000gn/T/ipykernel_7686/191058123.py:3: SettingWithCopyWarning: \n",
      "A value is trying to be set on a copy of a slice from a DataFrame.\n",
      "Try using .loc[row_indexer,col_indexer] = value instead\n",
      "\n",
      "See the caveats in the documentation: https://pandas.pydata.org/pandas-docs/stable/user_guide/indexing.html#returning-a-view-versus-a-copy\n",
      "  df.loc[:,'CO2toRevenue'] = df.loc[:,'EmissionDataPoints.CO2EquivalentsEmissionDirectScope1']*(df.loc[:,'EmissionIndicators.TotalCO2EquivalentsEmissionsToRevenues']/df.loc[:,'EmissionDataPoints.CO2EquivalentsEmissionTotal'])\n"
     ]
    },
    {
     "name": "stdout",
     "output_type": "stream",
     "text": [
      "predictions based on sector (using scaled data)\n",
      "predictions based on sector (using scaled data)\n"
     ]
    },
    {
     "name": "stderr",
     "output_type": "stream",
     "text": [
      "/var/folders/s_/qtbdy3px3m3_6k7xydrkhbsh0000gn/T/ipykernel_7686/191058123.py:3: SettingWithCopyWarning: \n",
      "A value is trying to be set on a copy of a slice from a DataFrame.\n",
      "Try using .loc[row_indexer,col_indexer] = value instead\n",
      "\n",
      "See the caveats in the documentation: https://pandas.pydata.org/pandas-docs/stable/user_guide/indexing.html#returning-a-view-versus-a-copy\n",
      "  df.loc[:,'CO2toRevenue'] = df.loc[:,'EmissionDataPoints.CO2EquivalentsEmissionDirectScope1']*(df.loc[:,'EmissionIndicators.TotalCO2EquivalentsEmissionsToRevenues']/df.loc[:,'EmissionDataPoints.CO2EquivalentsEmissionTotal'])\n",
      "/var/folders/s_/qtbdy3px3m3_6k7xydrkhbsh0000gn/T/ipykernel_7686/191058123.py:3: SettingWithCopyWarning: \n",
      "A value is trying to be set on a copy of a slice from a DataFrame.\n",
      "Try using .loc[row_indexer,col_indexer] = value instead\n",
      "\n",
      "See the caveats in the documentation: https://pandas.pydata.org/pandas-docs/stable/user_guide/indexing.html#returning-a-view-versus-a-copy\n",
      "  df.loc[:,'CO2toRevenue'] = df.loc[:,'EmissionDataPoints.CO2EquivalentsEmissionDirectScope1']*(df.loc[:,'EmissionIndicators.TotalCO2EquivalentsEmissionsToRevenues']/df.loc[:,'EmissionDataPoints.CO2EquivalentsEmissionTotal'])\n"
     ]
    },
    {
     "name": "stdout",
     "output_type": "stream",
     "text": [
      "predictions based on sector (using scaled data)\n",
      "predictions based on sector (using scaled data)\n"
     ]
    },
    {
     "name": "stderr",
     "output_type": "stream",
     "text": [
      "/var/folders/s_/qtbdy3px3m3_6k7xydrkhbsh0000gn/T/ipykernel_7686/191058123.py:3: SettingWithCopyWarning: \n",
      "A value is trying to be set on a copy of a slice from a DataFrame.\n",
      "Try using .loc[row_indexer,col_indexer] = value instead\n",
      "\n",
      "See the caveats in the documentation: https://pandas.pydata.org/pandas-docs/stable/user_guide/indexing.html#returning-a-view-versus-a-copy\n",
      "  df.loc[:,'CO2toRevenue'] = df.loc[:,'EmissionDataPoints.CO2EquivalentsEmissionDirectScope1']*(df.loc[:,'EmissionIndicators.TotalCO2EquivalentsEmissionsToRevenues']/df.loc[:,'EmissionDataPoints.CO2EquivalentsEmissionTotal'])\n",
      "/var/folders/s_/qtbdy3px3m3_6k7xydrkhbsh0000gn/T/ipykernel_7686/191058123.py:3: SettingWithCopyWarning: \n",
      "A value is trying to be set on a copy of a slice from a DataFrame.\n",
      "Try using .loc[row_indexer,col_indexer] = value instead\n",
      "\n",
      "See the caveats in the documentation: https://pandas.pydata.org/pandas-docs/stable/user_guide/indexing.html#returning-a-view-versus-a-copy\n",
      "  df.loc[:,'CO2toRevenue'] = df.loc[:,'EmissionDataPoints.CO2EquivalentsEmissionDirectScope1']*(df.loc[:,'EmissionIndicators.TotalCO2EquivalentsEmissionsToRevenues']/df.loc[:,'EmissionDataPoints.CO2EquivalentsEmissionTotal'])\n"
     ]
    },
    {
     "name": "stdout",
     "output_type": "stream",
     "text": [
      "predictions based on sector (using scaled data)\n",
      "predictions based on sector (using scaled data)\n",
      "predictions based on sector (using scaled data)\n"
     ]
    },
    {
     "name": "stderr",
     "output_type": "stream",
     "text": [
      "/var/folders/s_/qtbdy3px3m3_6k7xydrkhbsh0000gn/T/ipykernel_7686/191058123.py:3: SettingWithCopyWarning: \n",
      "A value is trying to be set on a copy of a slice from a DataFrame.\n",
      "Try using .loc[row_indexer,col_indexer] = value instead\n",
      "\n",
      "See the caveats in the documentation: https://pandas.pydata.org/pandas-docs/stable/user_guide/indexing.html#returning-a-view-versus-a-copy\n",
      "  df.loc[:,'CO2toRevenue'] = df.loc[:,'EmissionDataPoints.CO2EquivalentsEmissionDirectScope1']*(df.loc[:,'EmissionIndicators.TotalCO2EquivalentsEmissionsToRevenues']/df.loc[:,'EmissionDataPoints.CO2EquivalentsEmissionTotal'])\n",
      "/var/folders/s_/qtbdy3px3m3_6k7xydrkhbsh0000gn/T/ipykernel_7686/191058123.py:3: SettingWithCopyWarning: \n",
      "A value is trying to be set on a copy of a slice from a DataFrame.\n",
      "Try using .loc[row_indexer,col_indexer] = value instead\n",
      "\n",
      "See the caveats in the documentation: https://pandas.pydata.org/pandas-docs/stable/user_guide/indexing.html#returning-a-view-versus-a-copy\n",
      "  df.loc[:,'CO2toRevenue'] = df.loc[:,'EmissionDataPoints.CO2EquivalentsEmissionDirectScope1']*(df.loc[:,'EmissionIndicators.TotalCO2EquivalentsEmissionsToRevenues']/df.loc[:,'EmissionDataPoints.CO2EquivalentsEmissionTotal'])\n",
      "/var/folders/s_/qtbdy3px3m3_6k7xydrkhbsh0000gn/T/ipykernel_7686/191058123.py:3: SettingWithCopyWarning: \n",
      "A value is trying to be set on a copy of a slice from a DataFrame.\n",
      "Try using .loc[row_indexer,col_indexer] = value instead\n",
      "\n",
      "See the caveats in the documentation: https://pandas.pydata.org/pandas-docs/stable/user_guide/indexing.html#returning-a-view-versus-a-copy\n",
      "  df.loc[:,'CO2toRevenue'] = df.loc[:,'EmissionDataPoints.CO2EquivalentsEmissionDirectScope1']*(df.loc[:,'EmissionIndicators.TotalCO2EquivalentsEmissionsToRevenues']/df.loc[:,'EmissionDataPoints.CO2EquivalentsEmissionTotal'])\n"
     ]
    },
    {
     "name": "stdout",
     "output_type": "stream",
     "text": [
      "predictions based on sector (using scaled data)\n",
      "predictions based on sector (using scaled data)\n"
     ]
    },
    {
     "name": "stderr",
     "output_type": "stream",
     "text": [
      "/var/folders/s_/qtbdy3px3m3_6k7xydrkhbsh0000gn/T/ipykernel_7686/191058123.py:3: SettingWithCopyWarning: \n",
      "A value is trying to be set on a copy of a slice from a DataFrame.\n",
      "Try using .loc[row_indexer,col_indexer] = value instead\n",
      "\n",
      "See the caveats in the documentation: https://pandas.pydata.org/pandas-docs/stable/user_guide/indexing.html#returning-a-view-versus-a-copy\n",
      "  df.loc[:,'CO2toRevenue'] = df.loc[:,'EmissionDataPoints.CO2EquivalentsEmissionDirectScope1']*(df.loc[:,'EmissionIndicators.TotalCO2EquivalentsEmissionsToRevenues']/df.loc[:,'EmissionDataPoints.CO2EquivalentsEmissionTotal'])\n",
      "/var/folders/s_/qtbdy3px3m3_6k7xydrkhbsh0000gn/T/ipykernel_7686/191058123.py:3: SettingWithCopyWarning: \n",
      "A value is trying to be set on a copy of a slice from a DataFrame.\n",
      "Try using .loc[row_indexer,col_indexer] = value instead\n",
      "\n",
      "See the caveats in the documentation: https://pandas.pydata.org/pandas-docs/stable/user_guide/indexing.html#returning-a-view-versus-a-copy\n",
      "  df.loc[:,'CO2toRevenue'] = df.loc[:,'EmissionDataPoints.CO2EquivalentsEmissionDirectScope1']*(df.loc[:,'EmissionIndicators.TotalCO2EquivalentsEmissionsToRevenues']/df.loc[:,'EmissionDataPoints.CO2EquivalentsEmissionTotal'])\n",
      "/var/folders/s_/qtbdy3px3m3_6k7xydrkhbsh0000gn/T/ipykernel_7686/191058123.py:3: SettingWithCopyWarning: \n",
      "A value is trying to be set on a copy of a slice from a DataFrame.\n",
      "Try using .loc[row_indexer,col_indexer] = value instead\n",
      "\n",
      "See the caveats in the documentation: https://pandas.pydata.org/pandas-docs/stable/user_guide/indexing.html#returning-a-view-versus-a-copy\n",
      "  df.loc[:,'CO2toRevenue'] = df.loc[:,'EmissionDataPoints.CO2EquivalentsEmissionDirectScope1']*(df.loc[:,'EmissionIndicators.TotalCO2EquivalentsEmissionsToRevenues']/df.loc[:,'EmissionDataPoints.CO2EquivalentsEmissionTotal'])\n"
     ]
    },
    {
     "name": "stdout",
     "output_type": "stream",
     "text": [
      "predictions based on sector (using scaled data)\n",
      "predictions based on sector (using scaled data)\n",
      "predictions based on sector (using scaled data)\n"
     ]
    },
    {
     "name": "stderr",
     "output_type": "stream",
     "text": [
      "/var/folders/s_/qtbdy3px3m3_6k7xydrkhbsh0000gn/T/ipykernel_7686/191058123.py:3: SettingWithCopyWarning: \n",
      "A value is trying to be set on a copy of a slice from a DataFrame.\n",
      "Try using .loc[row_indexer,col_indexer] = value instead\n",
      "\n",
      "See the caveats in the documentation: https://pandas.pydata.org/pandas-docs/stable/user_guide/indexing.html#returning-a-view-versus-a-copy\n",
      "  df.loc[:,'CO2toRevenue'] = df.loc[:,'EmissionDataPoints.CO2EquivalentsEmissionDirectScope1']*(df.loc[:,'EmissionIndicators.TotalCO2EquivalentsEmissionsToRevenues']/df.loc[:,'EmissionDataPoints.CO2EquivalentsEmissionTotal'])\n",
      "/var/folders/s_/qtbdy3px3m3_6k7xydrkhbsh0000gn/T/ipykernel_7686/191058123.py:3: SettingWithCopyWarning: \n",
      "A value is trying to be set on a copy of a slice from a DataFrame.\n",
      "Try using .loc[row_indexer,col_indexer] = value instead\n",
      "\n",
      "See the caveats in the documentation: https://pandas.pydata.org/pandas-docs/stable/user_guide/indexing.html#returning-a-view-versus-a-copy\n",
      "  df.loc[:,'CO2toRevenue'] = df.loc[:,'EmissionDataPoints.CO2EquivalentsEmissionDirectScope1']*(df.loc[:,'EmissionIndicators.TotalCO2EquivalentsEmissionsToRevenues']/df.loc[:,'EmissionDataPoints.CO2EquivalentsEmissionTotal'])\n",
      "/var/folders/s_/qtbdy3px3m3_6k7xydrkhbsh0000gn/T/ipykernel_7686/191058123.py:3: SettingWithCopyWarning: \n",
      "A value is trying to be set on a copy of a slice from a DataFrame.\n",
      "Try using .loc[row_indexer,col_indexer] = value instead\n",
      "\n",
      "See the caveats in the documentation: https://pandas.pydata.org/pandas-docs/stable/user_guide/indexing.html#returning-a-view-versus-a-copy\n",
      "  df.loc[:,'CO2toRevenue'] = df.loc[:,'EmissionDataPoints.CO2EquivalentsEmissionDirectScope1']*(df.loc[:,'EmissionIndicators.TotalCO2EquivalentsEmissionsToRevenues']/df.loc[:,'EmissionDataPoints.CO2EquivalentsEmissionTotal'])\n"
     ]
    },
    {
     "name": "stdout",
     "output_type": "stream",
     "text": [
      "predictions based on sector (using scaled data)\n",
      "predictions based on sector (using scaled data)\n",
      "predictions based on sector (using scaled data)\n"
     ]
    },
    {
     "name": "stderr",
     "output_type": "stream",
     "text": [
      "/var/folders/s_/qtbdy3px3m3_6k7xydrkhbsh0000gn/T/ipykernel_7686/191058123.py:3: SettingWithCopyWarning: \n",
      "A value is trying to be set on a copy of a slice from a DataFrame.\n",
      "Try using .loc[row_indexer,col_indexer] = value instead\n",
      "\n",
      "See the caveats in the documentation: https://pandas.pydata.org/pandas-docs/stable/user_guide/indexing.html#returning-a-view-versus-a-copy\n",
      "  df.loc[:,'CO2toRevenue'] = df.loc[:,'EmissionDataPoints.CO2EquivalentsEmissionDirectScope1']*(df.loc[:,'EmissionIndicators.TotalCO2EquivalentsEmissionsToRevenues']/df.loc[:,'EmissionDataPoints.CO2EquivalentsEmissionTotal'])\n",
      "/var/folders/s_/qtbdy3px3m3_6k7xydrkhbsh0000gn/T/ipykernel_7686/191058123.py:3: SettingWithCopyWarning: \n",
      "A value is trying to be set on a copy of a slice from a DataFrame.\n",
      "Try using .loc[row_indexer,col_indexer] = value instead\n",
      "\n",
      "See the caveats in the documentation: https://pandas.pydata.org/pandas-docs/stable/user_guide/indexing.html#returning-a-view-versus-a-copy\n",
      "  df.loc[:,'CO2toRevenue'] = df.loc[:,'EmissionDataPoints.CO2EquivalentsEmissionDirectScope1']*(df.loc[:,'EmissionIndicators.TotalCO2EquivalentsEmissionsToRevenues']/df.loc[:,'EmissionDataPoints.CO2EquivalentsEmissionTotal'])\n"
     ]
    },
    {
     "name": "stdout",
     "output_type": "stream",
     "text": [
      "predictions based on sector (using scaled data)\n",
      "predictions based on sector (using scaled data)\n"
     ]
    },
    {
     "name": "stderr",
     "output_type": "stream",
     "text": [
      "/var/folders/s_/qtbdy3px3m3_6k7xydrkhbsh0000gn/T/ipykernel_7686/191058123.py:3: SettingWithCopyWarning: \n",
      "A value is trying to be set on a copy of a slice from a DataFrame.\n",
      "Try using .loc[row_indexer,col_indexer] = value instead\n",
      "\n",
      "See the caveats in the documentation: https://pandas.pydata.org/pandas-docs/stable/user_guide/indexing.html#returning-a-view-versus-a-copy\n",
      "  df.loc[:,'CO2toRevenue'] = df.loc[:,'EmissionDataPoints.CO2EquivalentsEmissionDirectScope1']*(df.loc[:,'EmissionIndicators.TotalCO2EquivalentsEmissionsToRevenues']/df.loc[:,'EmissionDataPoints.CO2EquivalentsEmissionTotal'])\n",
      "/var/folders/s_/qtbdy3px3m3_6k7xydrkhbsh0000gn/T/ipykernel_7686/191058123.py:3: SettingWithCopyWarning: \n",
      "A value is trying to be set on a copy of a slice from a DataFrame.\n",
      "Try using .loc[row_indexer,col_indexer] = value instead\n",
      "\n",
      "See the caveats in the documentation: https://pandas.pydata.org/pandas-docs/stable/user_guide/indexing.html#returning-a-view-versus-a-copy\n",
      "  df.loc[:,'CO2toRevenue'] = df.loc[:,'EmissionDataPoints.CO2EquivalentsEmissionDirectScope1']*(df.loc[:,'EmissionIndicators.TotalCO2EquivalentsEmissionsToRevenues']/df.loc[:,'EmissionDataPoints.CO2EquivalentsEmissionTotal'])\n"
     ]
    },
    {
     "name": "stdout",
     "output_type": "stream",
     "text": [
      "predictions based on sector (using scaled data)\n",
      "predictions based on sector (using scaled data)\n",
      "predictions based on sector (using scaled data)\n"
     ]
    },
    {
     "name": "stderr",
     "output_type": "stream",
     "text": [
      "/var/folders/s_/qtbdy3px3m3_6k7xydrkhbsh0000gn/T/ipykernel_7686/191058123.py:3: SettingWithCopyWarning: \n",
      "A value is trying to be set on a copy of a slice from a DataFrame.\n",
      "Try using .loc[row_indexer,col_indexer] = value instead\n",
      "\n",
      "See the caveats in the documentation: https://pandas.pydata.org/pandas-docs/stable/user_guide/indexing.html#returning-a-view-versus-a-copy\n",
      "  df.loc[:,'CO2toRevenue'] = df.loc[:,'EmissionDataPoints.CO2EquivalentsEmissionDirectScope1']*(df.loc[:,'EmissionIndicators.TotalCO2EquivalentsEmissionsToRevenues']/df.loc[:,'EmissionDataPoints.CO2EquivalentsEmissionTotal'])\n",
      "/var/folders/s_/qtbdy3px3m3_6k7xydrkhbsh0000gn/T/ipykernel_7686/191058123.py:3: SettingWithCopyWarning: \n",
      "A value is trying to be set on a copy of a slice from a DataFrame.\n",
      "Try using .loc[row_indexer,col_indexer] = value instead\n",
      "\n",
      "See the caveats in the documentation: https://pandas.pydata.org/pandas-docs/stable/user_guide/indexing.html#returning-a-view-versus-a-copy\n",
      "  df.loc[:,'CO2toRevenue'] = df.loc[:,'EmissionDataPoints.CO2EquivalentsEmissionDirectScope1']*(df.loc[:,'EmissionIndicators.TotalCO2EquivalentsEmissionsToRevenues']/df.loc[:,'EmissionDataPoints.CO2EquivalentsEmissionTotal'])\n",
      "/var/folders/s_/qtbdy3px3m3_6k7xydrkhbsh0000gn/T/ipykernel_7686/191058123.py:3: SettingWithCopyWarning: \n",
      "A value is trying to be set on a copy of a slice from a DataFrame.\n",
      "Try using .loc[row_indexer,col_indexer] = value instead\n",
      "\n",
      "See the caveats in the documentation: https://pandas.pydata.org/pandas-docs/stable/user_guide/indexing.html#returning-a-view-versus-a-copy\n",
      "  df.loc[:,'CO2toRevenue'] = df.loc[:,'EmissionDataPoints.CO2EquivalentsEmissionDirectScope1']*(df.loc[:,'EmissionIndicators.TotalCO2EquivalentsEmissionsToRevenues']/df.loc[:,'EmissionDataPoints.CO2EquivalentsEmissionTotal'])\n"
     ]
    },
    {
     "name": "stdout",
     "output_type": "stream",
     "text": [
      "predictions based on sector (using scaled data)\n",
      "predictions based on sector (using scaled data)\n",
      "predictions based on sector (using scaled data)\n"
     ]
    },
    {
     "name": "stderr",
     "output_type": "stream",
     "text": [
      "/var/folders/s_/qtbdy3px3m3_6k7xydrkhbsh0000gn/T/ipykernel_7686/191058123.py:3: SettingWithCopyWarning: \n",
      "A value is trying to be set on a copy of a slice from a DataFrame.\n",
      "Try using .loc[row_indexer,col_indexer] = value instead\n",
      "\n",
      "See the caveats in the documentation: https://pandas.pydata.org/pandas-docs/stable/user_guide/indexing.html#returning-a-view-versus-a-copy\n",
      "  df.loc[:,'CO2toRevenue'] = df.loc[:,'EmissionDataPoints.CO2EquivalentsEmissionDirectScope1']*(df.loc[:,'EmissionIndicators.TotalCO2EquivalentsEmissionsToRevenues']/df.loc[:,'EmissionDataPoints.CO2EquivalentsEmissionTotal'])\n",
      "/var/folders/s_/qtbdy3px3m3_6k7xydrkhbsh0000gn/T/ipykernel_7686/191058123.py:3: SettingWithCopyWarning: \n",
      "A value is trying to be set on a copy of a slice from a DataFrame.\n",
      "Try using .loc[row_indexer,col_indexer] = value instead\n",
      "\n",
      "See the caveats in the documentation: https://pandas.pydata.org/pandas-docs/stable/user_guide/indexing.html#returning-a-view-versus-a-copy\n",
      "  df.loc[:,'CO2toRevenue'] = df.loc[:,'EmissionDataPoints.CO2EquivalentsEmissionDirectScope1']*(df.loc[:,'EmissionIndicators.TotalCO2EquivalentsEmissionsToRevenues']/df.loc[:,'EmissionDataPoints.CO2EquivalentsEmissionTotal'])\n",
      "/var/folders/s_/qtbdy3px3m3_6k7xydrkhbsh0000gn/T/ipykernel_7686/191058123.py:3: SettingWithCopyWarning: \n",
      "A value is trying to be set on a copy of a slice from a DataFrame.\n",
      "Try using .loc[row_indexer,col_indexer] = value instead\n",
      "\n",
      "See the caveats in the documentation: https://pandas.pydata.org/pandas-docs/stable/user_guide/indexing.html#returning-a-view-versus-a-copy\n",
      "  df.loc[:,'CO2toRevenue'] = df.loc[:,'EmissionDataPoints.CO2EquivalentsEmissionDirectScope1']*(df.loc[:,'EmissionIndicators.TotalCO2EquivalentsEmissionsToRevenues']/df.loc[:,'EmissionDataPoints.CO2EquivalentsEmissionTotal'])\n"
     ]
    },
    {
     "name": "stdout",
     "output_type": "stream",
     "text": [
      "predictions based on sector (using scaled data)\n",
      "predictions based on sector (using scaled data)\n"
     ]
    },
    {
     "name": "stderr",
     "output_type": "stream",
     "text": [
      "/var/folders/s_/qtbdy3px3m3_6k7xydrkhbsh0000gn/T/ipykernel_7686/191058123.py:3: SettingWithCopyWarning: \n",
      "A value is trying to be set on a copy of a slice from a DataFrame.\n",
      "Try using .loc[row_indexer,col_indexer] = value instead\n",
      "\n",
      "See the caveats in the documentation: https://pandas.pydata.org/pandas-docs/stable/user_guide/indexing.html#returning-a-view-versus-a-copy\n",
      "  df.loc[:,'CO2toRevenue'] = df.loc[:,'EmissionDataPoints.CO2EquivalentsEmissionDirectScope1']*(df.loc[:,'EmissionIndicators.TotalCO2EquivalentsEmissionsToRevenues']/df.loc[:,'EmissionDataPoints.CO2EquivalentsEmissionTotal'])\n",
      "/var/folders/s_/qtbdy3px3m3_6k7xydrkhbsh0000gn/T/ipykernel_7686/191058123.py:3: SettingWithCopyWarning: \n",
      "A value is trying to be set on a copy of a slice from a DataFrame.\n",
      "Try using .loc[row_indexer,col_indexer] = value instead\n",
      "\n",
      "See the caveats in the documentation: https://pandas.pydata.org/pandas-docs/stable/user_guide/indexing.html#returning-a-view-versus-a-copy\n",
      "  df.loc[:,'CO2toRevenue'] = df.loc[:,'EmissionDataPoints.CO2EquivalentsEmissionDirectScope1']*(df.loc[:,'EmissionIndicators.TotalCO2EquivalentsEmissionsToRevenues']/df.loc[:,'EmissionDataPoints.CO2EquivalentsEmissionTotal'])\n"
     ]
    },
    {
     "name": "stdout",
     "output_type": "stream",
     "text": [
      "predictions based on sector (using scaled data)\n",
      "predictions based on orgid\n",
      "predictions based on sector (using scaled data)\n"
     ]
    },
    {
     "name": "stderr",
     "output_type": "stream",
     "text": [
      "/var/folders/s_/qtbdy3px3m3_6k7xydrkhbsh0000gn/T/ipykernel_7686/191058123.py:3: SettingWithCopyWarning: \n",
      "A value is trying to be set on a copy of a slice from a DataFrame.\n",
      "Try using .loc[row_indexer,col_indexer] = value instead\n",
      "\n",
      "See the caveats in the documentation: https://pandas.pydata.org/pandas-docs/stable/user_guide/indexing.html#returning-a-view-versus-a-copy\n",
      "  df.loc[:,'CO2toRevenue'] = df.loc[:,'EmissionDataPoints.CO2EquivalentsEmissionDirectScope1']*(df.loc[:,'EmissionIndicators.TotalCO2EquivalentsEmissionsToRevenues']/df.loc[:,'EmissionDataPoints.CO2EquivalentsEmissionTotal'])\n",
      "/var/folders/s_/qtbdy3px3m3_6k7xydrkhbsh0000gn/T/ipykernel_7686/191058123.py:3: SettingWithCopyWarning: \n",
      "A value is trying to be set on a copy of a slice from a DataFrame.\n",
      "Try using .loc[row_indexer,col_indexer] = value instead\n",
      "\n",
      "See the caveats in the documentation: https://pandas.pydata.org/pandas-docs/stable/user_guide/indexing.html#returning-a-view-versus-a-copy\n",
      "  df.loc[:,'CO2toRevenue'] = df.loc[:,'EmissionDataPoints.CO2EquivalentsEmissionDirectScope1']*(df.loc[:,'EmissionIndicators.TotalCO2EquivalentsEmissionsToRevenues']/df.loc[:,'EmissionDataPoints.CO2EquivalentsEmissionTotal'])\n"
     ]
    },
    {
     "name": "stdout",
     "output_type": "stream",
     "text": [
      "predictions based on sector (using scaled data)\n",
      "predictions based on sector (using scaled data)\n"
     ]
    },
    {
     "name": "stderr",
     "output_type": "stream",
     "text": [
      "/var/folders/s_/qtbdy3px3m3_6k7xydrkhbsh0000gn/T/ipykernel_7686/191058123.py:3: SettingWithCopyWarning: \n",
      "A value is trying to be set on a copy of a slice from a DataFrame.\n",
      "Try using .loc[row_indexer,col_indexer] = value instead\n",
      "\n",
      "See the caveats in the documentation: https://pandas.pydata.org/pandas-docs/stable/user_guide/indexing.html#returning-a-view-versus-a-copy\n",
      "  df.loc[:,'CO2toRevenue'] = df.loc[:,'EmissionDataPoints.CO2EquivalentsEmissionDirectScope1']*(df.loc[:,'EmissionIndicators.TotalCO2EquivalentsEmissionsToRevenues']/df.loc[:,'EmissionDataPoints.CO2EquivalentsEmissionTotal'])\n",
      "/var/folders/s_/qtbdy3px3m3_6k7xydrkhbsh0000gn/T/ipykernel_7686/191058123.py:3: SettingWithCopyWarning: \n",
      "A value is trying to be set on a copy of a slice from a DataFrame.\n",
      "Try using .loc[row_indexer,col_indexer] = value instead\n",
      "\n",
      "See the caveats in the documentation: https://pandas.pydata.org/pandas-docs/stable/user_guide/indexing.html#returning-a-view-versus-a-copy\n",
      "  df.loc[:,'CO2toRevenue'] = df.loc[:,'EmissionDataPoints.CO2EquivalentsEmissionDirectScope1']*(df.loc[:,'EmissionIndicators.TotalCO2EquivalentsEmissionsToRevenues']/df.loc[:,'EmissionDataPoints.CO2EquivalentsEmissionTotal'])\n"
     ]
    },
    {
     "name": "stdout",
     "output_type": "stream",
     "text": [
      "predictions based on sector (using scaled data)\n",
      "predictions based on sector (using scaled data)\n",
      "predictions based on sector (using scaled data)\n"
     ]
    },
    {
     "name": "stderr",
     "output_type": "stream",
     "text": [
      "/var/folders/s_/qtbdy3px3m3_6k7xydrkhbsh0000gn/T/ipykernel_7686/191058123.py:3: SettingWithCopyWarning: \n",
      "A value is trying to be set on a copy of a slice from a DataFrame.\n",
      "Try using .loc[row_indexer,col_indexer] = value instead\n",
      "\n",
      "See the caveats in the documentation: https://pandas.pydata.org/pandas-docs/stable/user_guide/indexing.html#returning-a-view-versus-a-copy\n",
      "  df.loc[:,'CO2toRevenue'] = df.loc[:,'EmissionDataPoints.CO2EquivalentsEmissionDirectScope1']*(df.loc[:,'EmissionIndicators.TotalCO2EquivalentsEmissionsToRevenues']/df.loc[:,'EmissionDataPoints.CO2EquivalentsEmissionTotal'])\n",
      "/var/folders/s_/qtbdy3px3m3_6k7xydrkhbsh0000gn/T/ipykernel_7686/191058123.py:3: SettingWithCopyWarning: \n",
      "A value is trying to be set on a copy of a slice from a DataFrame.\n",
      "Try using .loc[row_indexer,col_indexer] = value instead\n",
      "\n",
      "See the caveats in the documentation: https://pandas.pydata.org/pandas-docs/stable/user_guide/indexing.html#returning-a-view-versus-a-copy\n",
      "  df.loc[:,'CO2toRevenue'] = df.loc[:,'EmissionDataPoints.CO2EquivalentsEmissionDirectScope1']*(df.loc[:,'EmissionIndicators.TotalCO2EquivalentsEmissionsToRevenues']/df.loc[:,'EmissionDataPoints.CO2EquivalentsEmissionTotal'])\n",
      "/var/folders/s_/qtbdy3px3m3_6k7xydrkhbsh0000gn/T/ipykernel_7686/191058123.py:3: SettingWithCopyWarning: \n",
      "A value is trying to be set on a copy of a slice from a DataFrame.\n",
      "Try using .loc[row_indexer,col_indexer] = value instead\n",
      "\n",
      "See the caveats in the documentation: https://pandas.pydata.org/pandas-docs/stable/user_guide/indexing.html#returning-a-view-versus-a-copy\n",
      "  df.loc[:,'CO2toRevenue'] = df.loc[:,'EmissionDataPoints.CO2EquivalentsEmissionDirectScope1']*(df.loc[:,'EmissionIndicators.TotalCO2EquivalentsEmissionsToRevenues']/df.loc[:,'EmissionDataPoints.CO2EquivalentsEmissionTotal'])\n",
      "/var/folders/s_/qtbdy3px3m3_6k7xydrkhbsh0000gn/T/ipykernel_7686/191058123.py:3: SettingWithCopyWarning: \n",
      "A value is trying to be set on a copy of a slice from a DataFrame.\n",
      "Try using .loc[row_indexer,col_indexer] = value instead\n",
      "\n",
      "See the caveats in the documentation: https://pandas.pydata.org/pandas-docs/stable/user_guide/indexing.html#returning-a-view-versus-a-copy\n",
      "  df.loc[:,'CO2toRevenue'] = df.loc[:,'EmissionDataPoints.CO2EquivalentsEmissionDirectScope1']*(df.loc[:,'EmissionIndicators.TotalCO2EquivalentsEmissionsToRevenues']/df.loc[:,'EmissionDataPoints.CO2EquivalentsEmissionTotal'])\n",
      "/var/folders/s_/qtbdy3px3m3_6k7xydrkhbsh0000gn/T/ipykernel_7686/191058123.py:3: SettingWithCopyWarning: \n",
      "A value is trying to be set on a copy of a slice from a DataFrame.\n",
      "Try using .loc[row_indexer,col_indexer] = value instead\n",
      "\n",
      "See the caveats in the documentation: https://pandas.pydata.org/pandas-docs/stable/user_guide/indexing.html#returning-a-view-versus-a-copy\n",
      "  df.loc[:,'CO2toRevenue'] = df.loc[:,'EmissionDataPoints.CO2EquivalentsEmissionDirectScope1']*(df.loc[:,'EmissionIndicators.TotalCO2EquivalentsEmissionsToRevenues']/df.loc[:,'EmissionDataPoints.CO2EquivalentsEmissionTotal'])\n"
     ]
    },
    {
     "name": "stdout",
     "output_type": "stream",
     "text": [
      "predictions based on sector (using scaled data)\n",
      "predictions based on sector (using scaled data)\n",
      "predictions based on sector (using scaled data)\n"
     ]
    },
    {
     "name": "stderr",
     "output_type": "stream",
     "text": [
      "/var/folders/s_/qtbdy3px3m3_6k7xydrkhbsh0000gn/T/ipykernel_7686/191058123.py:3: SettingWithCopyWarning: \n",
      "A value is trying to be set on a copy of a slice from a DataFrame.\n",
      "Try using .loc[row_indexer,col_indexer] = value instead\n",
      "\n",
      "See the caveats in the documentation: https://pandas.pydata.org/pandas-docs/stable/user_guide/indexing.html#returning-a-view-versus-a-copy\n",
      "  df.loc[:,'CO2toRevenue'] = df.loc[:,'EmissionDataPoints.CO2EquivalentsEmissionDirectScope1']*(df.loc[:,'EmissionIndicators.TotalCO2EquivalentsEmissionsToRevenues']/df.loc[:,'EmissionDataPoints.CO2EquivalentsEmissionTotal'])\n",
      "/var/folders/s_/qtbdy3px3m3_6k7xydrkhbsh0000gn/T/ipykernel_7686/191058123.py:3: SettingWithCopyWarning: \n",
      "A value is trying to be set on a copy of a slice from a DataFrame.\n",
      "Try using .loc[row_indexer,col_indexer] = value instead\n",
      "\n",
      "See the caveats in the documentation: https://pandas.pydata.org/pandas-docs/stable/user_guide/indexing.html#returning-a-view-versus-a-copy\n",
      "  df.loc[:,'CO2toRevenue'] = df.loc[:,'EmissionDataPoints.CO2EquivalentsEmissionDirectScope1']*(df.loc[:,'EmissionIndicators.TotalCO2EquivalentsEmissionsToRevenues']/df.loc[:,'EmissionDataPoints.CO2EquivalentsEmissionTotal'])\n",
      "/var/folders/s_/qtbdy3px3m3_6k7xydrkhbsh0000gn/T/ipykernel_7686/191058123.py:3: SettingWithCopyWarning: \n",
      "A value is trying to be set on a copy of a slice from a DataFrame.\n",
      "Try using .loc[row_indexer,col_indexer] = value instead\n",
      "\n",
      "See the caveats in the documentation: https://pandas.pydata.org/pandas-docs/stable/user_guide/indexing.html#returning-a-view-versus-a-copy\n",
      "  df.loc[:,'CO2toRevenue'] = df.loc[:,'EmissionDataPoints.CO2EquivalentsEmissionDirectScope1']*(df.loc[:,'EmissionIndicators.TotalCO2EquivalentsEmissionsToRevenues']/df.loc[:,'EmissionDataPoints.CO2EquivalentsEmissionTotal'])\n"
     ]
    },
    {
     "name": "stdout",
     "output_type": "stream",
     "text": [
      "predictions based on sector (using scaled data)\n",
      "predictions based on sector (using scaled data)\n",
      "predictions based on sector (using scaled data)\n"
     ]
    },
    {
     "name": "stderr",
     "output_type": "stream",
     "text": [
      "/var/folders/s_/qtbdy3px3m3_6k7xydrkhbsh0000gn/T/ipykernel_7686/191058123.py:3: SettingWithCopyWarning: \n",
      "A value is trying to be set on a copy of a slice from a DataFrame.\n",
      "Try using .loc[row_indexer,col_indexer] = value instead\n",
      "\n",
      "See the caveats in the documentation: https://pandas.pydata.org/pandas-docs/stable/user_guide/indexing.html#returning-a-view-versus-a-copy\n",
      "  df.loc[:,'CO2toRevenue'] = df.loc[:,'EmissionDataPoints.CO2EquivalentsEmissionDirectScope1']*(df.loc[:,'EmissionIndicators.TotalCO2EquivalentsEmissionsToRevenues']/df.loc[:,'EmissionDataPoints.CO2EquivalentsEmissionTotal'])\n",
      "/var/folders/s_/qtbdy3px3m3_6k7xydrkhbsh0000gn/T/ipykernel_7686/191058123.py:3: SettingWithCopyWarning: \n",
      "A value is trying to be set on a copy of a slice from a DataFrame.\n",
      "Try using .loc[row_indexer,col_indexer] = value instead\n",
      "\n",
      "See the caveats in the documentation: https://pandas.pydata.org/pandas-docs/stable/user_guide/indexing.html#returning-a-view-versus-a-copy\n",
      "  df.loc[:,'CO2toRevenue'] = df.loc[:,'EmissionDataPoints.CO2EquivalentsEmissionDirectScope1']*(df.loc[:,'EmissionIndicators.TotalCO2EquivalentsEmissionsToRevenues']/df.loc[:,'EmissionDataPoints.CO2EquivalentsEmissionTotal'])\n"
     ]
    },
    {
     "name": "stdout",
     "output_type": "stream",
     "text": [
      "predictions based on sector (using scaled data)\n",
      "predictions based on sector (using scaled data)\n",
      "predictions based on sector (using scaled data)\n"
     ]
    },
    {
     "name": "stderr",
     "output_type": "stream",
     "text": [
      "/var/folders/s_/qtbdy3px3m3_6k7xydrkhbsh0000gn/T/ipykernel_7686/191058123.py:3: SettingWithCopyWarning: \n",
      "A value is trying to be set on a copy of a slice from a DataFrame.\n",
      "Try using .loc[row_indexer,col_indexer] = value instead\n",
      "\n",
      "See the caveats in the documentation: https://pandas.pydata.org/pandas-docs/stable/user_guide/indexing.html#returning-a-view-versus-a-copy\n",
      "  df.loc[:,'CO2toRevenue'] = df.loc[:,'EmissionDataPoints.CO2EquivalentsEmissionDirectScope1']*(df.loc[:,'EmissionIndicators.TotalCO2EquivalentsEmissionsToRevenues']/df.loc[:,'EmissionDataPoints.CO2EquivalentsEmissionTotal'])\n",
      "/var/folders/s_/qtbdy3px3m3_6k7xydrkhbsh0000gn/T/ipykernel_7686/191058123.py:3: SettingWithCopyWarning: \n",
      "A value is trying to be set on a copy of a slice from a DataFrame.\n",
      "Try using .loc[row_indexer,col_indexer] = value instead\n",
      "\n",
      "See the caveats in the documentation: https://pandas.pydata.org/pandas-docs/stable/user_guide/indexing.html#returning-a-view-versus-a-copy\n",
      "  df.loc[:,'CO2toRevenue'] = df.loc[:,'EmissionDataPoints.CO2EquivalentsEmissionDirectScope1']*(df.loc[:,'EmissionIndicators.TotalCO2EquivalentsEmissionsToRevenues']/df.loc[:,'EmissionDataPoints.CO2EquivalentsEmissionTotal'])\n"
     ]
    },
    {
     "name": "stdout",
     "output_type": "stream",
     "text": [
      "predictions based on sector (using scaled data)\n",
      "predictions based on sector (using scaled data)\n",
      "predictions based on sector (using scaled data)\n"
     ]
    },
    {
     "name": "stderr",
     "output_type": "stream",
     "text": [
      "/var/folders/s_/qtbdy3px3m3_6k7xydrkhbsh0000gn/T/ipykernel_7686/191058123.py:3: SettingWithCopyWarning: \n",
      "A value is trying to be set on a copy of a slice from a DataFrame.\n",
      "Try using .loc[row_indexer,col_indexer] = value instead\n",
      "\n",
      "See the caveats in the documentation: https://pandas.pydata.org/pandas-docs/stable/user_guide/indexing.html#returning-a-view-versus-a-copy\n",
      "  df.loc[:,'CO2toRevenue'] = df.loc[:,'EmissionDataPoints.CO2EquivalentsEmissionDirectScope1']*(df.loc[:,'EmissionIndicators.TotalCO2EquivalentsEmissionsToRevenues']/df.loc[:,'EmissionDataPoints.CO2EquivalentsEmissionTotal'])\n",
      "/var/folders/s_/qtbdy3px3m3_6k7xydrkhbsh0000gn/T/ipykernel_7686/191058123.py:3: SettingWithCopyWarning: \n",
      "A value is trying to be set on a copy of a slice from a DataFrame.\n",
      "Try using .loc[row_indexer,col_indexer] = value instead\n",
      "\n",
      "See the caveats in the documentation: https://pandas.pydata.org/pandas-docs/stable/user_guide/indexing.html#returning-a-view-versus-a-copy\n",
      "  df.loc[:,'CO2toRevenue'] = df.loc[:,'EmissionDataPoints.CO2EquivalentsEmissionDirectScope1']*(df.loc[:,'EmissionIndicators.TotalCO2EquivalentsEmissionsToRevenues']/df.loc[:,'EmissionDataPoints.CO2EquivalentsEmissionTotal'])\n",
      "/var/folders/s_/qtbdy3px3m3_6k7xydrkhbsh0000gn/T/ipykernel_7686/191058123.py:3: SettingWithCopyWarning: \n",
      "A value is trying to be set on a copy of a slice from a DataFrame.\n",
      "Try using .loc[row_indexer,col_indexer] = value instead\n",
      "\n",
      "See the caveats in the documentation: https://pandas.pydata.org/pandas-docs/stable/user_guide/indexing.html#returning-a-view-versus-a-copy\n",
      "  df.loc[:,'CO2toRevenue'] = df.loc[:,'EmissionDataPoints.CO2EquivalentsEmissionDirectScope1']*(df.loc[:,'EmissionIndicators.TotalCO2EquivalentsEmissionsToRevenues']/df.loc[:,'EmissionDataPoints.CO2EquivalentsEmissionTotal'])\n",
      "/var/folders/s_/qtbdy3px3m3_6k7xydrkhbsh0000gn/T/ipykernel_7686/191058123.py:3: SettingWithCopyWarning: \n",
      "A value is trying to be set on a copy of a slice from a DataFrame.\n",
      "Try using .loc[row_indexer,col_indexer] = value instead\n",
      "\n",
      "See the caveats in the documentation: https://pandas.pydata.org/pandas-docs/stable/user_guide/indexing.html#returning-a-view-versus-a-copy\n",
      "  df.loc[:,'CO2toRevenue'] = df.loc[:,'EmissionDataPoints.CO2EquivalentsEmissionDirectScope1']*(df.loc[:,'EmissionIndicators.TotalCO2EquivalentsEmissionsToRevenues']/df.loc[:,'EmissionDataPoints.CO2EquivalentsEmissionTotal'])\n"
     ]
    },
    {
     "name": "stdout",
     "output_type": "stream",
     "text": [
      "predictions based on sector (using scaled data)\n",
      "predictions based on sector (using scaled data)\n"
     ]
    },
    {
     "name": "stderr",
     "output_type": "stream",
     "text": [
      "/var/folders/s_/qtbdy3px3m3_6k7xydrkhbsh0000gn/T/ipykernel_7686/191058123.py:3: SettingWithCopyWarning: \n",
      "A value is trying to be set on a copy of a slice from a DataFrame.\n",
      "Try using .loc[row_indexer,col_indexer] = value instead\n",
      "\n",
      "See the caveats in the documentation: https://pandas.pydata.org/pandas-docs/stable/user_guide/indexing.html#returning-a-view-versus-a-copy\n",
      "  df.loc[:,'CO2toRevenue'] = df.loc[:,'EmissionDataPoints.CO2EquivalentsEmissionDirectScope1']*(df.loc[:,'EmissionIndicators.TotalCO2EquivalentsEmissionsToRevenues']/df.loc[:,'EmissionDataPoints.CO2EquivalentsEmissionTotal'])\n",
      "/var/folders/s_/qtbdy3px3m3_6k7xydrkhbsh0000gn/T/ipykernel_7686/191058123.py:3: SettingWithCopyWarning: \n",
      "A value is trying to be set on a copy of a slice from a DataFrame.\n",
      "Try using .loc[row_indexer,col_indexer] = value instead\n",
      "\n",
      "See the caveats in the documentation: https://pandas.pydata.org/pandas-docs/stable/user_guide/indexing.html#returning-a-view-versus-a-copy\n",
      "  df.loc[:,'CO2toRevenue'] = df.loc[:,'EmissionDataPoints.CO2EquivalentsEmissionDirectScope1']*(df.loc[:,'EmissionIndicators.TotalCO2EquivalentsEmissionsToRevenues']/df.loc[:,'EmissionDataPoints.CO2EquivalentsEmissionTotal'])\n"
     ]
    },
    {
     "name": "stdout",
     "output_type": "stream",
     "text": [
      "predictions based on sector (using scaled data)\n",
      "predictions based on sector (using scaled data)\n"
     ]
    },
    {
     "name": "stderr",
     "output_type": "stream",
     "text": [
      "/var/folders/s_/qtbdy3px3m3_6k7xydrkhbsh0000gn/T/ipykernel_7686/191058123.py:3: SettingWithCopyWarning: \n",
      "A value is trying to be set on a copy of a slice from a DataFrame.\n",
      "Try using .loc[row_indexer,col_indexer] = value instead\n",
      "\n",
      "See the caveats in the documentation: https://pandas.pydata.org/pandas-docs/stable/user_guide/indexing.html#returning-a-view-versus-a-copy\n",
      "  df.loc[:,'CO2toRevenue'] = df.loc[:,'EmissionDataPoints.CO2EquivalentsEmissionDirectScope1']*(df.loc[:,'EmissionIndicators.TotalCO2EquivalentsEmissionsToRevenues']/df.loc[:,'EmissionDataPoints.CO2EquivalentsEmissionTotal'])\n",
      "/var/folders/s_/qtbdy3px3m3_6k7xydrkhbsh0000gn/T/ipykernel_7686/191058123.py:3: SettingWithCopyWarning: \n",
      "A value is trying to be set on a copy of a slice from a DataFrame.\n",
      "Try using .loc[row_indexer,col_indexer] = value instead\n",
      "\n",
      "See the caveats in the documentation: https://pandas.pydata.org/pandas-docs/stable/user_guide/indexing.html#returning-a-view-versus-a-copy\n",
      "  df.loc[:,'CO2toRevenue'] = df.loc[:,'EmissionDataPoints.CO2EquivalentsEmissionDirectScope1']*(df.loc[:,'EmissionIndicators.TotalCO2EquivalentsEmissionsToRevenues']/df.loc[:,'EmissionDataPoints.CO2EquivalentsEmissionTotal'])\n",
      "/var/folders/s_/qtbdy3px3m3_6k7xydrkhbsh0000gn/T/ipykernel_7686/191058123.py:3: SettingWithCopyWarning: \n",
      "A value is trying to be set on a copy of a slice from a DataFrame.\n",
      "Try using .loc[row_indexer,col_indexer] = value instead\n",
      "\n",
      "See the caveats in the documentation: https://pandas.pydata.org/pandas-docs/stable/user_guide/indexing.html#returning-a-view-versus-a-copy\n",
      "  df.loc[:,'CO2toRevenue'] = df.loc[:,'EmissionDataPoints.CO2EquivalentsEmissionDirectScope1']*(df.loc[:,'EmissionIndicators.TotalCO2EquivalentsEmissionsToRevenues']/df.loc[:,'EmissionDataPoints.CO2EquivalentsEmissionTotal'])\n"
     ]
    },
    {
     "name": "stdout",
     "output_type": "stream",
     "text": [
      "predictions based on sector (using scaled data)\n",
      "predictions based on sector (using scaled data)\n",
      "predictions based on sector (using scaled data)\n"
     ]
    },
    {
     "name": "stderr",
     "output_type": "stream",
     "text": [
      "/var/folders/s_/qtbdy3px3m3_6k7xydrkhbsh0000gn/T/ipykernel_7686/191058123.py:3: SettingWithCopyWarning: \n",
      "A value is trying to be set on a copy of a slice from a DataFrame.\n",
      "Try using .loc[row_indexer,col_indexer] = value instead\n",
      "\n",
      "See the caveats in the documentation: https://pandas.pydata.org/pandas-docs/stable/user_guide/indexing.html#returning-a-view-versus-a-copy\n",
      "  df.loc[:,'CO2toRevenue'] = df.loc[:,'EmissionDataPoints.CO2EquivalentsEmissionDirectScope1']*(df.loc[:,'EmissionIndicators.TotalCO2EquivalentsEmissionsToRevenues']/df.loc[:,'EmissionDataPoints.CO2EquivalentsEmissionTotal'])\n",
      "/var/folders/s_/qtbdy3px3m3_6k7xydrkhbsh0000gn/T/ipykernel_7686/191058123.py:3: SettingWithCopyWarning: \n",
      "A value is trying to be set on a copy of a slice from a DataFrame.\n",
      "Try using .loc[row_indexer,col_indexer] = value instead\n",
      "\n",
      "See the caveats in the documentation: https://pandas.pydata.org/pandas-docs/stable/user_guide/indexing.html#returning-a-view-versus-a-copy\n",
      "  df.loc[:,'CO2toRevenue'] = df.loc[:,'EmissionDataPoints.CO2EquivalentsEmissionDirectScope1']*(df.loc[:,'EmissionIndicators.TotalCO2EquivalentsEmissionsToRevenues']/df.loc[:,'EmissionDataPoints.CO2EquivalentsEmissionTotal'])\n"
     ]
    },
    {
     "name": "stdout",
     "output_type": "stream",
     "text": [
      "predictions based on sector (using scaled data)\n",
      "predictions based on sector (using scaled data)\n"
     ]
    },
    {
     "name": "stderr",
     "output_type": "stream",
     "text": [
      "/var/folders/s_/qtbdy3px3m3_6k7xydrkhbsh0000gn/T/ipykernel_7686/191058123.py:3: SettingWithCopyWarning: \n",
      "A value is trying to be set on a copy of a slice from a DataFrame.\n",
      "Try using .loc[row_indexer,col_indexer] = value instead\n",
      "\n",
      "See the caveats in the documentation: https://pandas.pydata.org/pandas-docs/stable/user_guide/indexing.html#returning-a-view-versus-a-copy\n",
      "  df.loc[:,'CO2toRevenue'] = df.loc[:,'EmissionDataPoints.CO2EquivalentsEmissionDirectScope1']*(df.loc[:,'EmissionIndicators.TotalCO2EquivalentsEmissionsToRevenues']/df.loc[:,'EmissionDataPoints.CO2EquivalentsEmissionTotal'])\n",
      "/var/folders/s_/qtbdy3px3m3_6k7xydrkhbsh0000gn/T/ipykernel_7686/191058123.py:3: SettingWithCopyWarning: \n",
      "A value is trying to be set on a copy of a slice from a DataFrame.\n",
      "Try using .loc[row_indexer,col_indexer] = value instead\n",
      "\n",
      "See the caveats in the documentation: https://pandas.pydata.org/pandas-docs/stable/user_guide/indexing.html#returning-a-view-versus-a-copy\n",
      "  df.loc[:,'CO2toRevenue'] = df.loc[:,'EmissionDataPoints.CO2EquivalentsEmissionDirectScope1']*(df.loc[:,'EmissionIndicators.TotalCO2EquivalentsEmissionsToRevenues']/df.loc[:,'EmissionDataPoints.CO2EquivalentsEmissionTotal'])\n"
     ]
    },
    {
     "name": "stdout",
     "output_type": "stream",
     "text": [
      "predictions based on sector (using scaled data)\n",
      "predictions based on sector (using scaled data)\n",
      "predictions based on sector (using scaled data)\n"
     ]
    },
    {
     "name": "stderr",
     "output_type": "stream",
     "text": [
      "/var/folders/s_/qtbdy3px3m3_6k7xydrkhbsh0000gn/T/ipykernel_7686/191058123.py:3: SettingWithCopyWarning: \n",
      "A value is trying to be set on a copy of a slice from a DataFrame.\n",
      "Try using .loc[row_indexer,col_indexer] = value instead\n",
      "\n",
      "See the caveats in the documentation: https://pandas.pydata.org/pandas-docs/stable/user_guide/indexing.html#returning-a-view-versus-a-copy\n",
      "  df.loc[:,'CO2toRevenue'] = df.loc[:,'EmissionDataPoints.CO2EquivalentsEmissionDirectScope1']*(df.loc[:,'EmissionIndicators.TotalCO2EquivalentsEmissionsToRevenues']/df.loc[:,'EmissionDataPoints.CO2EquivalentsEmissionTotal'])\n",
      "/var/folders/s_/qtbdy3px3m3_6k7xydrkhbsh0000gn/T/ipykernel_7686/191058123.py:3: SettingWithCopyWarning: \n",
      "A value is trying to be set on a copy of a slice from a DataFrame.\n",
      "Try using .loc[row_indexer,col_indexer] = value instead\n",
      "\n",
      "See the caveats in the documentation: https://pandas.pydata.org/pandas-docs/stable/user_guide/indexing.html#returning-a-view-versus-a-copy\n",
      "  df.loc[:,'CO2toRevenue'] = df.loc[:,'EmissionDataPoints.CO2EquivalentsEmissionDirectScope1']*(df.loc[:,'EmissionIndicators.TotalCO2EquivalentsEmissionsToRevenues']/df.loc[:,'EmissionDataPoints.CO2EquivalentsEmissionTotal'])\n"
     ]
    },
    {
     "name": "stdout",
     "output_type": "stream",
     "text": [
      "predictions based on sector (using scaled data)\n",
      "predictions based on sector (using scaled data)\n"
     ]
    },
    {
     "name": "stderr",
     "output_type": "stream",
     "text": [
      "/var/folders/s_/qtbdy3px3m3_6k7xydrkhbsh0000gn/T/ipykernel_7686/191058123.py:3: SettingWithCopyWarning: \n",
      "A value is trying to be set on a copy of a slice from a DataFrame.\n",
      "Try using .loc[row_indexer,col_indexer] = value instead\n",
      "\n",
      "See the caveats in the documentation: https://pandas.pydata.org/pandas-docs/stable/user_guide/indexing.html#returning-a-view-versus-a-copy\n",
      "  df.loc[:,'CO2toRevenue'] = df.loc[:,'EmissionDataPoints.CO2EquivalentsEmissionDirectScope1']*(df.loc[:,'EmissionIndicators.TotalCO2EquivalentsEmissionsToRevenues']/df.loc[:,'EmissionDataPoints.CO2EquivalentsEmissionTotal'])\n",
      "/var/folders/s_/qtbdy3px3m3_6k7xydrkhbsh0000gn/T/ipykernel_7686/191058123.py:3: SettingWithCopyWarning: \n",
      "A value is trying to be set on a copy of a slice from a DataFrame.\n",
      "Try using .loc[row_indexer,col_indexer] = value instead\n",
      "\n",
      "See the caveats in the documentation: https://pandas.pydata.org/pandas-docs/stable/user_guide/indexing.html#returning-a-view-versus-a-copy\n",
      "  df.loc[:,'CO2toRevenue'] = df.loc[:,'EmissionDataPoints.CO2EquivalentsEmissionDirectScope1']*(df.loc[:,'EmissionIndicators.TotalCO2EquivalentsEmissionsToRevenues']/df.loc[:,'EmissionDataPoints.CO2EquivalentsEmissionTotal'])\n"
     ]
    },
    {
     "name": "stdout",
     "output_type": "stream",
     "text": [
      "predictions based on sector (using scaled data)\n",
      "predictions based on sector (using scaled data)\n"
     ]
    },
    {
     "name": "stderr",
     "output_type": "stream",
     "text": [
      "/var/folders/s_/qtbdy3px3m3_6k7xydrkhbsh0000gn/T/ipykernel_7686/191058123.py:3: SettingWithCopyWarning: \n",
      "A value is trying to be set on a copy of a slice from a DataFrame.\n",
      "Try using .loc[row_indexer,col_indexer] = value instead\n",
      "\n",
      "See the caveats in the documentation: https://pandas.pydata.org/pandas-docs/stable/user_guide/indexing.html#returning-a-view-versus-a-copy\n",
      "  df.loc[:,'CO2toRevenue'] = df.loc[:,'EmissionDataPoints.CO2EquivalentsEmissionDirectScope1']*(df.loc[:,'EmissionIndicators.TotalCO2EquivalentsEmissionsToRevenues']/df.loc[:,'EmissionDataPoints.CO2EquivalentsEmissionTotal'])\n",
      "/var/folders/s_/qtbdy3px3m3_6k7xydrkhbsh0000gn/T/ipykernel_7686/191058123.py:3: SettingWithCopyWarning: \n",
      "A value is trying to be set on a copy of a slice from a DataFrame.\n",
      "Try using .loc[row_indexer,col_indexer] = value instead\n",
      "\n",
      "See the caveats in the documentation: https://pandas.pydata.org/pandas-docs/stable/user_guide/indexing.html#returning-a-view-versus-a-copy\n",
      "  df.loc[:,'CO2toRevenue'] = df.loc[:,'EmissionDataPoints.CO2EquivalentsEmissionDirectScope1']*(df.loc[:,'EmissionIndicators.TotalCO2EquivalentsEmissionsToRevenues']/df.loc[:,'EmissionDataPoints.CO2EquivalentsEmissionTotal'])\n"
     ]
    },
    {
     "name": "stdout",
     "output_type": "stream",
     "text": [
      "predictions based on sector (using scaled data)\n",
      "predictions based on sector (using scaled data)\n"
     ]
    },
    {
     "name": "stderr",
     "output_type": "stream",
     "text": [
      "/var/folders/s_/qtbdy3px3m3_6k7xydrkhbsh0000gn/T/ipykernel_7686/191058123.py:3: SettingWithCopyWarning: \n",
      "A value is trying to be set on a copy of a slice from a DataFrame.\n",
      "Try using .loc[row_indexer,col_indexer] = value instead\n",
      "\n",
      "See the caveats in the documentation: https://pandas.pydata.org/pandas-docs/stable/user_guide/indexing.html#returning-a-view-versus-a-copy\n",
      "  df.loc[:,'CO2toRevenue'] = df.loc[:,'EmissionDataPoints.CO2EquivalentsEmissionDirectScope1']*(df.loc[:,'EmissionIndicators.TotalCO2EquivalentsEmissionsToRevenues']/df.loc[:,'EmissionDataPoints.CO2EquivalentsEmissionTotal'])\n",
      "/var/folders/s_/qtbdy3px3m3_6k7xydrkhbsh0000gn/T/ipykernel_7686/191058123.py:3: SettingWithCopyWarning: \n",
      "A value is trying to be set on a copy of a slice from a DataFrame.\n",
      "Try using .loc[row_indexer,col_indexer] = value instead\n",
      "\n",
      "See the caveats in the documentation: https://pandas.pydata.org/pandas-docs/stable/user_guide/indexing.html#returning-a-view-versus-a-copy\n",
      "  df.loc[:,'CO2toRevenue'] = df.loc[:,'EmissionDataPoints.CO2EquivalentsEmissionDirectScope1']*(df.loc[:,'EmissionIndicators.TotalCO2EquivalentsEmissionsToRevenues']/df.loc[:,'EmissionDataPoints.CO2EquivalentsEmissionTotal'])\n"
     ]
    },
    {
     "name": "stdout",
     "output_type": "stream",
     "text": [
      "predictions based on sector (using scaled data)\n",
      "predictions based on sector (using scaled data)\n"
     ]
    },
    {
     "name": "stderr",
     "output_type": "stream",
     "text": [
      "/var/folders/s_/qtbdy3px3m3_6k7xydrkhbsh0000gn/T/ipykernel_7686/191058123.py:3: SettingWithCopyWarning: \n",
      "A value is trying to be set on a copy of a slice from a DataFrame.\n",
      "Try using .loc[row_indexer,col_indexer] = value instead\n",
      "\n",
      "See the caveats in the documentation: https://pandas.pydata.org/pandas-docs/stable/user_guide/indexing.html#returning-a-view-versus-a-copy\n",
      "  df.loc[:,'CO2toRevenue'] = df.loc[:,'EmissionDataPoints.CO2EquivalentsEmissionDirectScope1']*(df.loc[:,'EmissionIndicators.TotalCO2EquivalentsEmissionsToRevenues']/df.loc[:,'EmissionDataPoints.CO2EquivalentsEmissionTotal'])\n",
      "/var/folders/s_/qtbdy3px3m3_6k7xydrkhbsh0000gn/T/ipykernel_7686/191058123.py:3: SettingWithCopyWarning: \n",
      "A value is trying to be set on a copy of a slice from a DataFrame.\n",
      "Try using .loc[row_indexer,col_indexer] = value instead\n",
      "\n",
      "See the caveats in the documentation: https://pandas.pydata.org/pandas-docs/stable/user_guide/indexing.html#returning-a-view-versus-a-copy\n",
      "  df.loc[:,'CO2toRevenue'] = df.loc[:,'EmissionDataPoints.CO2EquivalentsEmissionDirectScope1']*(df.loc[:,'EmissionIndicators.TotalCO2EquivalentsEmissionsToRevenues']/df.loc[:,'EmissionDataPoints.CO2EquivalentsEmissionTotal'])\n"
     ]
    },
    {
     "name": "stdout",
     "output_type": "stream",
     "text": [
      "predictions based on sector (using scaled data)\n",
      "predictions based on sector (using scaled data)\n"
     ]
    },
    {
     "name": "stderr",
     "output_type": "stream",
     "text": [
      "/var/folders/s_/qtbdy3px3m3_6k7xydrkhbsh0000gn/T/ipykernel_7686/191058123.py:3: SettingWithCopyWarning: \n",
      "A value is trying to be set on a copy of a slice from a DataFrame.\n",
      "Try using .loc[row_indexer,col_indexer] = value instead\n",
      "\n",
      "See the caveats in the documentation: https://pandas.pydata.org/pandas-docs/stable/user_guide/indexing.html#returning-a-view-versus-a-copy\n",
      "  df.loc[:,'CO2toRevenue'] = df.loc[:,'EmissionDataPoints.CO2EquivalentsEmissionDirectScope1']*(df.loc[:,'EmissionIndicators.TotalCO2EquivalentsEmissionsToRevenues']/df.loc[:,'EmissionDataPoints.CO2EquivalentsEmissionTotal'])\n",
      "/var/folders/s_/qtbdy3px3m3_6k7xydrkhbsh0000gn/T/ipykernel_7686/191058123.py:3: SettingWithCopyWarning: \n",
      "A value is trying to be set on a copy of a slice from a DataFrame.\n",
      "Try using .loc[row_indexer,col_indexer] = value instead\n",
      "\n",
      "See the caveats in the documentation: https://pandas.pydata.org/pandas-docs/stable/user_guide/indexing.html#returning-a-view-versus-a-copy\n",
      "  df.loc[:,'CO2toRevenue'] = df.loc[:,'EmissionDataPoints.CO2EquivalentsEmissionDirectScope1']*(df.loc[:,'EmissionIndicators.TotalCO2EquivalentsEmissionsToRevenues']/df.loc[:,'EmissionDataPoints.CO2EquivalentsEmissionTotal'])\n"
     ]
    },
    {
     "name": "stdout",
     "output_type": "stream",
     "text": [
      "predictions based on sector (using scaled data)\n",
      "predictions based on sector (using scaled data)\n"
     ]
    },
    {
     "name": "stderr",
     "output_type": "stream",
     "text": [
      "/var/folders/s_/qtbdy3px3m3_6k7xydrkhbsh0000gn/T/ipykernel_7686/191058123.py:3: SettingWithCopyWarning: \n",
      "A value is trying to be set on a copy of a slice from a DataFrame.\n",
      "Try using .loc[row_indexer,col_indexer] = value instead\n",
      "\n",
      "See the caveats in the documentation: https://pandas.pydata.org/pandas-docs/stable/user_guide/indexing.html#returning-a-view-versus-a-copy\n",
      "  df.loc[:,'CO2toRevenue'] = df.loc[:,'EmissionDataPoints.CO2EquivalentsEmissionDirectScope1']*(df.loc[:,'EmissionIndicators.TotalCO2EquivalentsEmissionsToRevenues']/df.loc[:,'EmissionDataPoints.CO2EquivalentsEmissionTotal'])\n",
      "/var/folders/s_/qtbdy3px3m3_6k7xydrkhbsh0000gn/T/ipykernel_7686/191058123.py:3: SettingWithCopyWarning: \n",
      "A value is trying to be set on a copy of a slice from a DataFrame.\n",
      "Try using .loc[row_indexer,col_indexer] = value instead\n",
      "\n",
      "See the caveats in the documentation: https://pandas.pydata.org/pandas-docs/stable/user_guide/indexing.html#returning-a-view-versus-a-copy\n",
      "  df.loc[:,'CO2toRevenue'] = df.loc[:,'EmissionDataPoints.CO2EquivalentsEmissionDirectScope1']*(df.loc[:,'EmissionIndicators.TotalCO2EquivalentsEmissionsToRevenues']/df.loc[:,'EmissionDataPoints.CO2EquivalentsEmissionTotal'])\n"
     ]
    },
    {
     "name": "stdout",
     "output_type": "stream",
     "text": [
      "predictions based on sector (using scaled data)\n",
      "predictions based on sector (using scaled data)\n"
     ]
    },
    {
     "name": "stderr",
     "output_type": "stream",
     "text": [
      "/var/folders/s_/qtbdy3px3m3_6k7xydrkhbsh0000gn/T/ipykernel_7686/191058123.py:3: SettingWithCopyWarning: \n",
      "A value is trying to be set on a copy of a slice from a DataFrame.\n",
      "Try using .loc[row_indexer,col_indexer] = value instead\n",
      "\n",
      "See the caveats in the documentation: https://pandas.pydata.org/pandas-docs/stable/user_guide/indexing.html#returning-a-view-versus-a-copy\n",
      "  df.loc[:,'CO2toRevenue'] = df.loc[:,'EmissionDataPoints.CO2EquivalentsEmissionDirectScope1']*(df.loc[:,'EmissionIndicators.TotalCO2EquivalentsEmissionsToRevenues']/df.loc[:,'EmissionDataPoints.CO2EquivalentsEmissionTotal'])\n",
      "/var/folders/s_/qtbdy3px3m3_6k7xydrkhbsh0000gn/T/ipykernel_7686/191058123.py:3: SettingWithCopyWarning: \n",
      "A value is trying to be set on a copy of a slice from a DataFrame.\n",
      "Try using .loc[row_indexer,col_indexer] = value instead\n",
      "\n",
      "See the caveats in the documentation: https://pandas.pydata.org/pandas-docs/stable/user_guide/indexing.html#returning-a-view-versus-a-copy\n",
      "  df.loc[:,'CO2toRevenue'] = df.loc[:,'EmissionDataPoints.CO2EquivalentsEmissionDirectScope1']*(df.loc[:,'EmissionIndicators.TotalCO2EquivalentsEmissionsToRevenues']/df.loc[:,'EmissionDataPoints.CO2EquivalentsEmissionTotal'])\n"
     ]
    },
    {
     "name": "stdout",
     "output_type": "stream",
     "text": [
      "predictions based on sector (using scaled data)\n",
      "predictions based on sector (using scaled data)\n"
     ]
    },
    {
     "name": "stderr",
     "output_type": "stream",
     "text": [
      "/var/folders/s_/qtbdy3px3m3_6k7xydrkhbsh0000gn/T/ipykernel_7686/191058123.py:3: SettingWithCopyWarning: \n",
      "A value is trying to be set on a copy of a slice from a DataFrame.\n",
      "Try using .loc[row_indexer,col_indexer] = value instead\n",
      "\n",
      "See the caveats in the documentation: https://pandas.pydata.org/pandas-docs/stable/user_guide/indexing.html#returning-a-view-versus-a-copy\n",
      "  df.loc[:,'CO2toRevenue'] = df.loc[:,'EmissionDataPoints.CO2EquivalentsEmissionDirectScope1']*(df.loc[:,'EmissionIndicators.TotalCO2EquivalentsEmissionsToRevenues']/df.loc[:,'EmissionDataPoints.CO2EquivalentsEmissionTotal'])\n",
      "/var/folders/s_/qtbdy3px3m3_6k7xydrkhbsh0000gn/T/ipykernel_7686/191058123.py:3: SettingWithCopyWarning: \n",
      "A value is trying to be set on a copy of a slice from a DataFrame.\n",
      "Try using .loc[row_indexer,col_indexer] = value instead\n",
      "\n",
      "See the caveats in the documentation: https://pandas.pydata.org/pandas-docs/stable/user_guide/indexing.html#returning-a-view-versus-a-copy\n",
      "  df.loc[:,'CO2toRevenue'] = df.loc[:,'EmissionDataPoints.CO2EquivalentsEmissionDirectScope1']*(df.loc[:,'EmissionIndicators.TotalCO2EquivalentsEmissionsToRevenues']/df.loc[:,'EmissionDataPoints.CO2EquivalentsEmissionTotal'])\n"
     ]
    },
    {
     "name": "stdout",
     "output_type": "stream",
     "text": [
      "predictions based on orgid\n",
      "predictions based on sector (using scaled data)\n",
      "predictions based on orgid\n",
      "predictions based on sector (using scaled data)\n"
     ]
    },
    {
     "name": "stderr",
     "output_type": "stream",
     "text": [
      "/var/folders/s_/qtbdy3px3m3_6k7xydrkhbsh0000gn/T/ipykernel_7686/191058123.py:3: SettingWithCopyWarning: \n",
      "A value is trying to be set on a copy of a slice from a DataFrame.\n",
      "Try using .loc[row_indexer,col_indexer] = value instead\n",
      "\n",
      "See the caveats in the documentation: https://pandas.pydata.org/pandas-docs/stable/user_guide/indexing.html#returning-a-view-versus-a-copy\n",
      "  df.loc[:,'CO2toRevenue'] = df.loc[:,'EmissionDataPoints.CO2EquivalentsEmissionDirectScope1']*(df.loc[:,'EmissionIndicators.TotalCO2EquivalentsEmissionsToRevenues']/df.loc[:,'EmissionDataPoints.CO2EquivalentsEmissionTotal'])\n",
      "/var/folders/s_/qtbdy3px3m3_6k7xydrkhbsh0000gn/T/ipykernel_7686/191058123.py:3: SettingWithCopyWarning: \n",
      "A value is trying to be set on a copy of a slice from a DataFrame.\n",
      "Try using .loc[row_indexer,col_indexer] = value instead\n",
      "\n",
      "See the caveats in the documentation: https://pandas.pydata.org/pandas-docs/stable/user_guide/indexing.html#returning-a-view-versus-a-copy\n",
      "  df.loc[:,'CO2toRevenue'] = df.loc[:,'EmissionDataPoints.CO2EquivalentsEmissionDirectScope1']*(df.loc[:,'EmissionIndicators.TotalCO2EquivalentsEmissionsToRevenues']/df.loc[:,'EmissionDataPoints.CO2EquivalentsEmissionTotal'])\n"
     ]
    },
    {
     "name": "stdout",
     "output_type": "stream",
     "text": [
      "predictions based on sector (using scaled data)\n",
      "predictions based on sector (using scaled data)\n"
     ]
    },
    {
     "name": "stderr",
     "output_type": "stream",
     "text": [
      "/var/folders/s_/qtbdy3px3m3_6k7xydrkhbsh0000gn/T/ipykernel_7686/191058123.py:3: SettingWithCopyWarning: \n",
      "A value is trying to be set on a copy of a slice from a DataFrame.\n",
      "Try using .loc[row_indexer,col_indexer] = value instead\n",
      "\n",
      "See the caveats in the documentation: https://pandas.pydata.org/pandas-docs/stable/user_guide/indexing.html#returning-a-view-versus-a-copy\n",
      "  df.loc[:,'CO2toRevenue'] = df.loc[:,'EmissionDataPoints.CO2EquivalentsEmissionDirectScope1']*(df.loc[:,'EmissionIndicators.TotalCO2EquivalentsEmissionsToRevenues']/df.loc[:,'EmissionDataPoints.CO2EquivalentsEmissionTotal'])\n",
      "/var/folders/s_/qtbdy3px3m3_6k7xydrkhbsh0000gn/T/ipykernel_7686/191058123.py:3: SettingWithCopyWarning: \n",
      "A value is trying to be set on a copy of a slice from a DataFrame.\n",
      "Try using .loc[row_indexer,col_indexer] = value instead\n",
      "\n",
      "See the caveats in the documentation: https://pandas.pydata.org/pandas-docs/stable/user_guide/indexing.html#returning-a-view-versus-a-copy\n",
      "  df.loc[:,'CO2toRevenue'] = df.loc[:,'EmissionDataPoints.CO2EquivalentsEmissionDirectScope1']*(df.loc[:,'EmissionIndicators.TotalCO2EquivalentsEmissionsToRevenues']/df.loc[:,'EmissionDataPoints.CO2EquivalentsEmissionTotal'])\n"
     ]
    },
    {
     "name": "stdout",
     "output_type": "stream",
     "text": [
      "predictions based on sector (using scaled data)\n",
      "predictions based on sector (using scaled data)\n"
     ]
    },
    {
     "name": "stderr",
     "output_type": "stream",
     "text": [
      "/var/folders/s_/qtbdy3px3m3_6k7xydrkhbsh0000gn/T/ipykernel_7686/191058123.py:3: SettingWithCopyWarning: \n",
      "A value is trying to be set on a copy of a slice from a DataFrame.\n",
      "Try using .loc[row_indexer,col_indexer] = value instead\n",
      "\n",
      "See the caveats in the documentation: https://pandas.pydata.org/pandas-docs/stable/user_guide/indexing.html#returning-a-view-versus-a-copy\n",
      "  df.loc[:,'CO2toRevenue'] = df.loc[:,'EmissionDataPoints.CO2EquivalentsEmissionDirectScope1']*(df.loc[:,'EmissionIndicators.TotalCO2EquivalentsEmissionsToRevenues']/df.loc[:,'EmissionDataPoints.CO2EquivalentsEmissionTotal'])\n",
      "/var/folders/s_/qtbdy3px3m3_6k7xydrkhbsh0000gn/T/ipykernel_7686/191058123.py:3: SettingWithCopyWarning: \n",
      "A value is trying to be set on a copy of a slice from a DataFrame.\n",
      "Try using .loc[row_indexer,col_indexer] = value instead\n",
      "\n",
      "See the caveats in the documentation: https://pandas.pydata.org/pandas-docs/stable/user_guide/indexing.html#returning-a-view-versus-a-copy\n",
      "  df.loc[:,'CO2toRevenue'] = df.loc[:,'EmissionDataPoints.CO2EquivalentsEmissionDirectScope1']*(df.loc[:,'EmissionIndicators.TotalCO2EquivalentsEmissionsToRevenues']/df.loc[:,'EmissionDataPoints.CO2EquivalentsEmissionTotal'])\n"
     ]
    },
    {
     "name": "stdout",
     "output_type": "stream",
     "text": [
      "predictions based on orgid\n",
      "predictions based on sector (using scaled data)\n",
      "predictions based on sector (using scaled data)\n",
      "predictions based on orgid\n",
      "predictions based on sector (using scaled data)\n"
     ]
    },
    {
     "name": "stderr",
     "output_type": "stream",
     "text": [
      "/var/folders/s_/qtbdy3px3m3_6k7xydrkhbsh0000gn/T/ipykernel_7686/191058123.py:3: SettingWithCopyWarning: \n",
      "A value is trying to be set on a copy of a slice from a DataFrame.\n",
      "Try using .loc[row_indexer,col_indexer] = value instead\n",
      "\n",
      "See the caveats in the documentation: https://pandas.pydata.org/pandas-docs/stable/user_guide/indexing.html#returning-a-view-versus-a-copy\n",
      "  df.loc[:,'CO2toRevenue'] = df.loc[:,'EmissionDataPoints.CO2EquivalentsEmissionDirectScope1']*(df.loc[:,'EmissionIndicators.TotalCO2EquivalentsEmissionsToRevenues']/df.loc[:,'EmissionDataPoints.CO2EquivalentsEmissionTotal'])\n",
      "/var/folders/s_/qtbdy3px3m3_6k7xydrkhbsh0000gn/T/ipykernel_7686/191058123.py:3: SettingWithCopyWarning: \n",
      "A value is trying to be set on a copy of a slice from a DataFrame.\n",
      "Try using .loc[row_indexer,col_indexer] = value instead\n",
      "\n",
      "See the caveats in the documentation: https://pandas.pydata.org/pandas-docs/stable/user_guide/indexing.html#returning-a-view-versus-a-copy\n",
      "  df.loc[:,'CO2toRevenue'] = df.loc[:,'EmissionDataPoints.CO2EquivalentsEmissionDirectScope1']*(df.loc[:,'EmissionIndicators.TotalCO2EquivalentsEmissionsToRevenues']/df.loc[:,'EmissionDataPoints.CO2EquivalentsEmissionTotal'])\n",
      "/var/folders/s_/qtbdy3px3m3_6k7xydrkhbsh0000gn/T/ipykernel_7686/191058123.py:3: SettingWithCopyWarning: \n",
      "A value is trying to be set on a copy of a slice from a DataFrame.\n",
      "Try using .loc[row_indexer,col_indexer] = value instead\n",
      "\n",
      "See the caveats in the documentation: https://pandas.pydata.org/pandas-docs/stable/user_guide/indexing.html#returning-a-view-versus-a-copy\n",
      "  df.loc[:,'CO2toRevenue'] = df.loc[:,'EmissionDataPoints.CO2EquivalentsEmissionDirectScope1']*(df.loc[:,'EmissionIndicators.TotalCO2EquivalentsEmissionsToRevenues']/df.loc[:,'EmissionDataPoints.CO2EquivalentsEmissionTotal'])\n"
     ]
    },
    {
     "name": "stdout",
     "output_type": "stream",
     "text": [
      "predictions based on orgid\n",
      "predictions based on sector (using scaled data)\n",
      "predictions based on sector (using scaled data)\n"
     ]
    },
    {
     "name": "stderr",
     "output_type": "stream",
     "text": [
      "/var/folders/s_/qtbdy3px3m3_6k7xydrkhbsh0000gn/T/ipykernel_7686/191058123.py:3: SettingWithCopyWarning: \n",
      "A value is trying to be set on a copy of a slice from a DataFrame.\n",
      "Try using .loc[row_indexer,col_indexer] = value instead\n",
      "\n",
      "See the caveats in the documentation: https://pandas.pydata.org/pandas-docs/stable/user_guide/indexing.html#returning-a-view-versus-a-copy\n",
      "  df.loc[:,'CO2toRevenue'] = df.loc[:,'EmissionDataPoints.CO2EquivalentsEmissionDirectScope1']*(df.loc[:,'EmissionIndicators.TotalCO2EquivalentsEmissionsToRevenues']/df.loc[:,'EmissionDataPoints.CO2EquivalentsEmissionTotal'])\n",
      "/var/folders/s_/qtbdy3px3m3_6k7xydrkhbsh0000gn/T/ipykernel_7686/191058123.py:3: SettingWithCopyWarning: \n",
      "A value is trying to be set on a copy of a slice from a DataFrame.\n",
      "Try using .loc[row_indexer,col_indexer] = value instead\n",
      "\n",
      "See the caveats in the documentation: https://pandas.pydata.org/pandas-docs/stable/user_guide/indexing.html#returning-a-view-versus-a-copy\n",
      "  df.loc[:,'CO2toRevenue'] = df.loc[:,'EmissionDataPoints.CO2EquivalentsEmissionDirectScope1']*(df.loc[:,'EmissionIndicators.TotalCO2EquivalentsEmissionsToRevenues']/df.loc[:,'EmissionDataPoints.CO2EquivalentsEmissionTotal'])\n"
     ]
    },
    {
     "name": "stdout",
     "output_type": "stream",
     "text": [
      "predictions based on orgid\n",
      "predictions based on sector (using scaled data)\n",
      "predictions based on orgid\n",
      "predictions based on orgid\n",
      "predictions based on orgid\n",
      "predictions based on orgid\n",
      "predictions based on sector (using scaled data)\n"
     ]
    },
    {
     "name": "stderr",
     "output_type": "stream",
     "text": [
      "/var/folders/s_/qtbdy3px3m3_6k7xydrkhbsh0000gn/T/ipykernel_7686/191058123.py:3: SettingWithCopyWarning: \n",
      "A value is trying to be set on a copy of a slice from a DataFrame.\n",
      "Try using .loc[row_indexer,col_indexer] = value instead\n",
      "\n",
      "See the caveats in the documentation: https://pandas.pydata.org/pandas-docs/stable/user_guide/indexing.html#returning-a-view-versus-a-copy\n",
      "  df.loc[:,'CO2toRevenue'] = df.loc[:,'EmissionDataPoints.CO2EquivalentsEmissionDirectScope1']*(df.loc[:,'EmissionIndicators.TotalCO2EquivalentsEmissionsToRevenues']/df.loc[:,'EmissionDataPoints.CO2EquivalentsEmissionTotal'])\n",
      "/var/folders/s_/qtbdy3px3m3_6k7xydrkhbsh0000gn/T/ipykernel_7686/191058123.py:3: SettingWithCopyWarning: \n",
      "A value is trying to be set on a copy of a slice from a DataFrame.\n",
      "Try using .loc[row_indexer,col_indexer] = value instead\n",
      "\n",
      "See the caveats in the documentation: https://pandas.pydata.org/pandas-docs/stable/user_guide/indexing.html#returning-a-view-versus-a-copy\n",
      "  df.loc[:,'CO2toRevenue'] = df.loc[:,'EmissionDataPoints.CO2EquivalentsEmissionDirectScope1']*(df.loc[:,'EmissionIndicators.TotalCO2EquivalentsEmissionsToRevenues']/df.loc[:,'EmissionDataPoints.CO2EquivalentsEmissionTotal'])\n"
     ]
    },
    {
     "name": "stdout",
     "output_type": "stream",
     "text": [
      "predictions based on sector (using scaled data)\n",
      "predictions based on orgid\n",
      "predictions based on orgid\n",
      "predictions based on sector (using scaled data)\n"
     ]
    },
    {
     "name": "stderr",
     "output_type": "stream",
     "text": [
      "/var/folders/s_/qtbdy3px3m3_6k7xydrkhbsh0000gn/T/ipykernel_7686/191058123.py:3: SettingWithCopyWarning: \n",
      "A value is trying to be set on a copy of a slice from a DataFrame.\n",
      "Try using .loc[row_indexer,col_indexer] = value instead\n",
      "\n",
      "See the caveats in the documentation: https://pandas.pydata.org/pandas-docs/stable/user_guide/indexing.html#returning-a-view-versus-a-copy\n",
      "  df.loc[:,'CO2toRevenue'] = df.loc[:,'EmissionDataPoints.CO2EquivalentsEmissionDirectScope1']*(df.loc[:,'EmissionIndicators.TotalCO2EquivalentsEmissionsToRevenues']/df.loc[:,'EmissionDataPoints.CO2EquivalentsEmissionTotal'])\n",
      "/var/folders/s_/qtbdy3px3m3_6k7xydrkhbsh0000gn/T/ipykernel_7686/191058123.py:3: SettingWithCopyWarning: \n",
      "A value is trying to be set on a copy of a slice from a DataFrame.\n",
      "Try using .loc[row_indexer,col_indexer] = value instead\n",
      "\n",
      "See the caveats in the documentation: https://pandas.pydata.org/pandas-docs/stable/user_guide/indexing.html#returning-a-view-versus-a-copy\n",
      "  df.loc[:,'CO2toRevenue'] = df.loc[:,'EmissionDataPoints.CO2EquivalentsEmissionDirectScope1']*(df.loc[:,'EmissionIndicators.TotalCO2EquivalentsEmissionsToRevenues']/df.loc[:,'EmissionDataPoints.CO2EquivalentsEmissionTotal'])\n"
     ]
    },
    {
     "name": "stdout",
     "output_type": "stream",
     "text": [
      "predictions based on sector (using scaled data)\n",
      "predictions based on orgid\n",
      "predictions based on sector (using scaled data)\n"
     ]
    },
    {
     "name": "stderr",
     "output_type": "stream",
     "text": [
      "/var/folders/s_/qtbdy3px3m3_6k7xydrkhbsh0000gn/T/ipykernel_7686/191058123.py:3: SettingWithCopyWarning: \n",
      "A value is trying to be set on a copy of a slice from a DataFrame.\n",
      "Try using .loc[row_indexer,col_indexer] = value instead\n",
      "\n",
      "See the caveats in the documentation: https://pandas.pydata.org/pandas-docs/stable/user_guide/indexing.html#returning-a-view-versus-a-copy\n",
      "  df.loc[:,'CO2toRevenue'] = df.loc[:,'EmissionDataPoints.CO2EquivalentsEmissionDirectScope1']*(df.loc[:,'EmissionIndicators.TotalCO2EquivalentsEmissionsToRevenues']/df.loc[:,'EmissionDataPoints.CO2EquivalentsEmissionTotal'])\n",
      "/var/folders/s_/qtbdy3px3m3_6k7xydrkhbsh0000gn/T/ipykernel_7686/191058123.py:3: SettingWithCopyWarning: \n",
      "A value is trying to be set on a copy of a slice from a DataFrame.\n",
      "Try using .loc[row_indexer,col_indexer] = value instead\n",
      "\n",
      "See the caveats in the documentation: https://pandas.pydata.org/pandas-docs/stable/user_guide/indexing.html#returning-a-view-versus-a-copy\n",
      "  df.loc[:,'CO2toRevenue'] = df.loc[:,'EmissionDataPoints.CO2EquivalentsEmissionDirectScope1']*(df.loc[:,'EmissionIndicators.TotalCO2EquivalentsEmissionsToRevenues']/df.loc[:,'EmissionDataPoints.CO2EquivalentsEmissionTotal'])\n"
     ]
    },
    {
     "name": "stdout",
     "output_type": "stream",
     "text": [
      "predictions based on sector (using scaled data)\n",
      "predictions based on sector (using scaled data)\n"
     ]
    },
    {
     "name": "stderr",
     "output_type": "stream",
     "text": [
      "/var/folders/s_/qtbdy3px3m3_6k7xydrkhbsh0000gn/T/ipykernel_7686/191058123.py:3: SettingWithCopyWarning: \n",
      "A value is trying to be set on a copy of a slice from a DataFrame.\n",
      "Try using .loc[row_indexer,col_indexer] = value instead\n",
      "\n",
      "See the caveats in the documentation: https://pandas.pydata.org/pandas-docs/stable/user_guide/indexing.html#returning-a-view-versus-a-copy\n",
      "  df.loc[:,'CO2toRevenue'] = df.loc[:,'EmissionDataPoints.CO2EquivalentsEmissionDirectScope1']*(df.loc[:,'EmissionIndicators.TotalCO2EquivalentsEmissionsToRevenues']/df.loc[:,'EmissionDataPoints.CO2EquivalentsEmissionTotal'])\n",
      "/var/folders/s_/qtbdy3px3m3_6k7xydrkhbsh0000gn/T/ipykernel_7686/191058123.py:3: SettingWithCopyWarning: \n",
      "A value is trying to be set on a copy of a slice from a DataFrame.\n",
      "Try using .loc[row_indexer,col_indexer] = value instead\n",
      "\n",
      "See the caveats in the documentation: https://pandas.pydata.org/pandas-docs/stable/user_guide/indexing.html#returning-a-view-versus-a-copy\n",
      "  df.loc[:,'CO2toRevenue'] = df.loc[:,'EmissionDataPoints.CO2EquivalentsEmissionDirectScope1']*(df.loc[:,'EmissionIndicators.TotalCO2EquivalentsEmissionsToRevenues']/df.loc[:,'EmissionDataPoints.CO2EquivalentsEmissionTotal'])\n"
     ]
    },
    {
     "name": "stdout",
     "output_type": "stream",
     "text": [
      "predictions based on sector (using scaled data)\n",
      "predictions based on orgid\n",
      "predictions based on orgid\n",
      "predictions based on sector (using scaled data)\n"
     ]
    },
    {
     "name": "stderr",
     "output_type": "stream",
     "text": [
      "/var/folders/s_/qtbdy3px3m3_6k7xydrkhbsh0000gn/T/ipykernel_7686/191058123.py:3: SettingWithCopyWarning: \n",
      "A value is trying to be set on a copy of a slice from a DataFrame.\n",
      "Try using .loc[row_indexer,col_indexer] = value instead\n",
      "\n",
      "See the caveats in the documentation: https://pandas.pydata.org/pandas-docs/stable/user_guide/indexing.html#returning-a-view-versus-a-copy\n",
      "  df.loc[:,'CO2toRevenue'] = df.loc[:,'EmissionDataPoints.CO2EquivalentsEmissionDirectScope1']*(df.loc[:,'EmissionIndicators.TotalCO2EquivalentsEmissionsToRevenues']/df.loc[:,'EmissionDataPoints.CO2EquivalentsEmissionTotal'])\n",
      "/var/folders/s_/qtbdy3px3m3_6k7xydrkhbsh0000gn/T/ipykernel_7686/191058123.py:3: SettingWithCopyWarning: \n",
      "A value is trying to be set on a copy of a slice from a DataFrame.\n",
      "Try using .loc[row_indexer,col_indexer] = value instead\n",
      "\n",
      "See the caveats in the documentation: https://pandas.pydata.org/pandas-docs/stable/user_guide/indexing.html#returning-a-view-versus-a-copy\n",
      "  df.loc[:,'CO2toRevenue'] = df.loc[:,'EmissionDataPoints.CO2EquivalentsEmissionDirectScope1']*(df.loc[:,'EmissionIndicators.TotalCO2EquivalentsEmissionsToRevenues']/df.loc[:,'EmissionDataPoints.CO2EquivalentsEmissionTotal'])\n"
     ]
    },
    {
     "name": "stdout",
     "output_type": "stream",
     "text": [
      "predictions based on orgid\n",
      "predictions based on orgid\n",
      "predictions based on orgid\n",
      "predictions based on sector (using scaled data)\n",
      "predictions based on orgid\n",
      "predictions based on orgid\n",
      "predictions based on sector (using scaled data)\n"
     ]
    },
    {
     "name": "stderr",
     "output_type": "stream",
     "text": [
      "/var/folders/s_/qtbdy3px3m3_6k7xydrkhbsh0000gn/T/ipykernel_7686/191058123.py:3: SettingWithCopyWarning: \n",
      "A value is trying to be set on a copy of a slice from a DataFrame.\n",
      "Try using .loc[row_indexer,col_indexer] = value instead\n",
      "\n",
      "See the caveats in the documentation: https://pandas.pydata.org/pandas-docs/stable/user_guide/indexing.html#returning-a-view-versus-a-copy\n",
      "  df.loc[:,'CO2toRevenue'] = df.loc[:,'EmissionDataPoints.CO2EquivalentsEmissionDirectScope1']*(df.loc[:,'EmissionIndicators.TotalCO2EquivalentsEmissionsToRevenues']/df.loc[:,'EmissionDataPoints.CO2EquivalentsEmissionTotal'])\n",
      "/var/folders/s_/qtbdy3px3m3_6k7xydrkhbsh0000gn/T/ipykernel_7686/191058123.py:3: SettingWithCopyWarning: \n",
      "A value is trying to be set on a copy of a slice from a DataFrame.\n",
      "Try using .loc[row_indexer,col_indexer] = value instead\n",
      "\n",
      "See the caveats in the documentation: https://pandas.pydata.org/pandas-docs/stable/user_guide/indexing.html#returning-a-view-versus-a-copy\n",
      "  df.loc[:,'CO2toRevenue'] = df.loc[:,'EmissionDataPoints.CO2EquivalentsEmissionDirectScope1']*(df.loc[:,'EmissionIndicators.TotalCO2EquivalentsEmissionsToRevenues']/df.loc[:,'EmissionDataPoints.CO2EquivalentsEmissionTotal'])\n"
     ]
    },
    {
     "name": "stdout",
     "output_type": "stream",
     "text": [
      "predictions based on orgid\n",
      "predictions based on orgid\n",
      "predictions based on sector (using scaled data)\n",
      "predictions based on sector (using scaled data)\n"
     ]
    },
    {
     "name": "stderr",
     "output_type": "stream",
     "text": [
      "/var/folders/s_/qtbdy3px3m3_6k7xydrkhbsh0000gn/T/ipykernel_7686/191058123.py:3: SettingWithCopyWarning: \n",
      "A value is trying to be set on a copy of a slice from a DataFrame.\n",
      "Try using .loc[row_indexer,col_indexer] = value instead\n",
      "\n",
      "See the caveats in the documentation: https://pandas.pydata.org/pandas-docs/stable/user_guide/indexing.html#returning-a-view-versus-a-copy\n",
      "  df.loc[:,'CO2toRevenue'] = df.loc[:,'EmissionDataPoints.CO2EquivalentsEmissionDirectScope1']*(df.loc[:,'EmissionIndicators.TotalCO2EquivalentsEmissionsToRevenues']/df.loc[:,'EmissionDataPoints.CO2EquivalentsEmissionTotal'])\n",
      "/var/folders/s_/qtbdy3px3m3_6k7xydrkhbsh0000gn/T/ipykernel_7686/191058123.py:3: SettingWithCopyWarning: \n",
      "A value is trying to be set on a copy of a slice from a DataFrame.\n",
      "Try using .loc[row_indexer,col_indexer] = value instead\n",
      "\n",
      "See the caveats in the documentation: https://pandas.pydata.org/pandas-docs/stable/user_guide/indexing.html#returning-a-view-versus-a-copy\n",
      "  df.loc[:,'CO2toRevenue'] = df.loc[:,'EmissionDataPoints.CO2EquivalentsEmissionDirectScope1']*(df.loc[:,'EmissionIndicators.TotalCO2EquivalentsEmissionsToRevenues']/df.loc[:,'EmissionDataPoints.CO2EquivalentsEmissionTotal'])\n",
      "/var/folders/s_/qtbdy3px3m3_6k7xydrkhbsh0000gn/T/ipykernel_7686/191058123.py:3: SettingWithCopyWarning: \n",
      "A value is trying to be set on a copy of a slice from a DataFrame.\n",
      "Try using .loc[row_indexer,col_indexer] = value instead\n",
      "\n",
      "See the caveats in the documentation: https://pandas.pydata.org/pandas-docs/stable/user_guide/indexing.html#returning-a-view-versus-a-copy\n",
      "  df.loc[:,'CO2toRevenue'] = df.loc[:,'EmissionDataPoints.CO2EquivalentsEmissionDirectScope1']*(df.loc[:,'EmissionIndicators.TotalCO2EquivalentsEmissionsToRevenues']/df.loc[:,'EmissionDataPoints.CO2EquivalentsEmissionTotal'])\n"
     ]
    },
    {
     "name": "stdout",
     "output_type": "stream",
     "text": [
      "predictions based on sector (using scaled data)\n",
      "predictions based on orgid\n",
      "predictions based on orgid\n",
      "predictions based on orgid\n",
      "predictions based on sector (using scaled data)\n"
     ]
    },
    {
     "name": "stderr",
     "output_type": "stream",
     "text": [
      "/var/folders/s_/qtbdy3px3m3_6k7xydrkhbsh0000gn/T/ipykernel_7686/191058123.py:3: SettingWithCopyWarning: \n",
      "A value is trying to be set on a copy of a slice from a DataFrame.\n",
      "Try using .loc[row_indexer,col_indexer] = value instead\n",
      "\n",
      "See the caveats in the documentation: https://pandas.pydata.org/pandas-docs/stable/user_guide/indexing.html#returning-a-view-versus-a-copy\n",
      "  df.loc[:,'CO2toRevenue'] = df.loc[:,'EmissionDataPoints.CO2EquivalentsEmissionDirectScope1']*(df.loc[:,'EmissionIndicators.TotalCO2EquivalentsEmissionsToRevenues']/df.loc[:,'EmissionDataPoints.CO2EquivalentsEmissionTotal'])\n",
      "/var/folders/s_/qtbdy3px3m3_6k7xydrkhbsh0000gn/T/ipykernel_7686/191058123.py:3: SettingWithCopyWarning: \n",
      "A value is trying to be set on a copy of a slice from a DataFrame.\n",
      "Try using .loc[row_indexer,col_indexer] = value instead\n",
      "\n",
      "See the caveats in the documentation: https://pandas.pydata.org/pandas-docs/stable/user_guide/indexing.html#returning-a-view-versus-a-copy\n",
      "  df.loc[:,'CO2toRevenue'] = df.loc[:,'EmissionDataPoints.CO2EquivalentsEmissionDirectScope1']*(df.loc[:,'EmissionIndicators.TotalCO2EquivalentsEmissionsToRevenues']/df.loc[:,'EmissionDataPoints.CO2EquivalentsEmissionTotal'])\n"
     ]
    },
    {
     "name": "stdout",
     "output_type": "stream",
     "text": [
      "predictions based on orgid\n",
      "predictions based on orgid\n",
      "predictions based on sector (using scaled data)\n",
      "predictions based on orgid\n",
      "predictions based on sector (using scaled data)\n"
     ]
    },
    {
     "name": "stderr",
     "output_type": "stream",
     "text": [
      "/var/folders/s_/qtbdy3px3m3_6k7xydrkhbsh0000gn/T/ipykernel_7686/191058123.py:3: SettingWithCopyWarning: \n",
      "A value is trying to be set on a copy of a slice from a DataFrame.\n",
      "Try using .loc[row_indexer,col_indexer] = value instead\n",
      "\n",
      "See the caveats in the documentation: https://pandas.pydata.org/pandas-docs/stable/user_guide/indexing.html#returning-a-view-versus-a-copy\n",
      "  df.loc[:,'CO2toRevenue'] = df.loc[:,'EmissionDataPoints.CO2EquivalentsEmissionDirectScope1']*(df.loc[:,'EmissionIndicators.TotalCO2EquivalentsEmissionsToRevenues']/df.loc[:,'EmissionDataPoints.CO2EquivalentsEmissionTotal'])\n",
      "/var/folders/s_/qtbdy3px3m3_6k7xydrkhbsh0000gn/T/ipykernel_7686/191058123.py:3: SettingWithCopyWarning: \n",
      "A value is trying to be set on a copy of a slice from a DataFrame.\n",
      "Try using .loc[row_indexer,col_indexer] = value instead\n",
      "\n",
      "See the caveats in the documentation: https://pandas.pydata.org/pandas-docs/stable/user_guide/indexing.html#returning-a-view-versus-a-copy\n",
      "  df.loc[:,'CO2toRevenue'] = df.loc[:,'EmissionDataPoints.CO2EquivalentsEmissionDirectScope1']*(df.loc[:,'EmissionIndicators.TotalCO2EquivalentsEmissionsToRevenues']/df.loc[:,'EmissionDataPoints.CO2EquivalentsEmissionTotal'])\n"
     ]
    },
    {
     "name": "stdout",
     "output_type": "stream",
     "text": [
      "predictions based on orgid\n",
      "predictions based on orgid\n",
      "predictions based on orgid\n",
      "predictions based on orgid\n",
      "predictions based on orgid\n",
      "predictions based on sector (using scaled data)\n",
      "predictions based on orgid\n",
      "predictions based on orgid\n",
      "predictions based on orgid\n",
      "predictions based on orgid\n",
      "predictions based on sector (using scaled data)\n"
     ]
    },
    {
     "name": "stderr",
     "output_type": "stream",
     "text": [
      "/var/folders/s_/qtbdy3px3m3_6k7xydrkhbsh0000gn/T/ipykernel_7686/191058123.py:3: SettingWithCopyWarning: \n",
      "A value is trying to be set on a copy of a slice from a DataFrame.\n",
      "Try using .loc[row_indexer,col_indexer] = value instead\n",
      "\n",
      "See the caveats in the documentation: https://pandas.pydata.org/pandas-docs/stable/user_guide/indexing.html#returning-a-view-versus-a-copy\n",
      "  df.loc[:,'CO2toRevenue'] = df.loc[:,'EmissionDataPoints.CO2EquivalentsEmissionDirectScope1']*(df.loc[:,'EmissionIndicators.TotalCO2EquivalentsEmissionsToRevenues']/df.loc[:,'EmissionDataPoints.CO2EquivalentsEmissionTotal'])\n",
      "/var/folders/s_/qtbdy3px3m3_6k7xydrkhbsh0000gn/T/ipykernel_7686/191058123.py:3: SettingWithCopyWarning: \n",
      "A value is trying to be set on a copy of a slice from a DataFrame.\n",
      "Try using .loc[row_indexer,col_indexer] = value instead\n",
      "\n",
      "See the caveats in the documentation: https://pandas.pydata.org/pandas-docs/stable/user_guide/indexing.html#returning-a-view-versus-a-copy\n",
      "  df.loc[:,'CO2toRevenue'] = df.loc[:,'EmissionDataPoints.CO2EquivalentsEmissionDirectScope1']*(df.loc[:,'EmissionIndicators.TotalCO2EquivalentsEmissionsToRevenues']/df.loc[:,'EmissionDataPoints.CO2EquivalentsEmissionTotal'])\n"
     ]
    },
    {
     "name": "stdout",
     "output_type": "stream",
     "text": [
      "predictions based on orgid\n",
      "predictions based on sector (using scaled data)\n",
      "predictions based on sector (using scaled data)\n"
     ]
    },
    {
     "name": "stderr",
     "output_type": "stream",
     "text": [
      "/var/folders/s_/qtbdy3px3m3_6k7xydrkhbsh0000gn/T/ipykernel_7686/191058123.py:3: SettingWithCopyWarning: \n",
      "A value is trying to be set on a copy of a slice from a DataFrame.\n",
      "Try using .loc[row_indexer,col_indexer] = value instead\n",
      "\n",
      "See the caveats in the documentation: https://pandas.pydata.org/pandas-docs/stable/user_guide/indexing.html#returning-a-view-versus-a-copy\n",
      "  df.loc[:,'CO2toRevenue'] = df.loc[:,'EmissionDataPoints.CO2EquivalentsEmissionDirectScope1']*(df.loc[:,'EmissionIndicators.TotalCO2EquivalentsEmissionsToRevenues']/df.loc[:,'EmissionDataPoints.CO2EquivalentsEmissionTotal'])\n",
      "/var/folders/s_/qtbdy3px3m3_6k7xydrkhbsh0000gn/T/ipykernel_7686/191058123.py:3: SettingWithCopyWarning: \n",
      "A value is trying to be set on a copy of a slice from a DataFrame.\n",
      "Try using .loc[row_indexer,col_indexer] = value instead\n",
      "\n",
      "See the caveats in the documentation: https://pandas.pydata.org/pandas-docs/stable/user_guide/indexing.html#returning-a-view-versus-a-copy\n",
      "  df.loc[:,'CO2toRevenue'] = df.loc[:,'EmissionDataPoints.CO2EquivalentsEmissionDirectScope1']*(df.loc[:,'EmissionIndicators.TotalCO2EquivalentsEmissionsToRevenues']/df.loc[:,'EmissionDataPoints.CO2EquivalentsEmissionTotal'])\n"
     ]
    },
    {
     "name": "stdout",
     "output_type": "stream",
     "text": [
      "predictions based on sector (using scaled data)\n",
      "predictions based on orgid\n",
      "predictions based on sector (using scaled data)\n"
     ]
    },
    {
     "name": "stderr",
     "output_type": "stream",
     "text": [
      "/var/folders/s_/qtbdy3px3m3_6k7xydrkhbsh0000gn/T/ipykernel_7686/191058123.py:3: SettingWithCopyWarning: \n",
      "A value is trying to be set on a copy of a slice from a DataFrame.\n",
      "Try using .loc[row_indexer,col_indexer] = value instead\n",
      "\n",
      "See the caveats in the documentation: https://pandas.pydata.org/pandas-docs/stable/user_guide/indexing.html#returning-a-view-versus-a-copy\n",
      "  df.loc[:,'CO2toRevenue'] = df.loc[:,'EmissionDataPoints.CO2EquivalentsEmissionDirectScope1']*(df.loc[:,'EmissionIndicators.TotalCO2EquivalentsEmissionsToRevenues']/df.loc[:,'EmissionDataPoints.CO2EquivalentsEmissionTotal'])\n",
      "/var/folders/s_/qtbdy3px3m3_6k7xydrkhbsh0000gn/T/ipykernel_7686/191058123.py:3: SettingWithCopyWarning: \n",
      "A value is trying to be set on a copy of a slice from a DataFrame.\n",
      "Try using .loc[row_indexer,col_indexer] = value instead\n",
      "\n",
      "See the caveats in the documentation: https://pandas.pydata.org/pandas-docs/stable/user_guide/indexing.html#returning-a-view-versus-a-copy\n",
      "  df.loc[:,'CO2toRevenue'] = df.loc[:,'EmissionDataPoints.CO2EquivalentsEmissionDirectScope1']*(df.loc[:,'EmissionIndicators.TotalCO2EquivalentsEmissionsToRevenues']/df.loc[:,'EmissionDataPoints.CO2EquivalentsEmissionTotal'])\n"
     ]
    },
    {
     "name": "stdout",
     "output_type": "stream",
     "text": [
      "predictions based on orgid\n",
      "predictions based on orgid\n",
      "predictions based on sector (using scaled data)\n",
      "predictions based on orgid\n",
      "predictions based on sector (using scaled data)\n"
     ]
    },
    {
     "name": "stderr",
     "output_type": "stream",
     "text": [
      "/var/folders/s_/qtbdy3px3m3_6k7xydrkhbsh0000gn/T/ipykernel_7686/191058123.py:3: SettingWithCopyWarning: \n",
      "A value is trying to be set on a copy of a slice from a DataFrame.\n",
      "Try using .loc[row_indexer,col_indexer] = value instead\n",
      "\n",
      "See the caveats in the documentation: https://pandas.pydata.org/pandas-docs/stable/user_guide/indexing.html#returning-a-view-versus-a-copy\n",
      "  df.loc[:,'CO2toRevenue'] = df.loc[:,'EmissionDataPoints.CO2EquivalentsEmissionDirectScope1']*(df.loc[:,'EmissionIndicators.TotalCO2EquivalentsEmissionsToRevenues']/df.loc[:,'EmissionDataPoints.CO2EquivalentsEmissionTotal'])\n",
      "/var/folders/s_/qtbdy3px3m3_6k7xydrkhbsh0000gn/T/ipykernel_7686/191058123.py:3: SettingWithCopyWarning: \n",
      "A value is trying to be set on a copy of a slice from a DataFrame.\n",
      "Try using .loc[row_indexer,col_indexer] = value instead\n",
      "\n",
      "See the caveats in the documentation: https://pandas.pydata.org/pandas-docs/stable/user_guide/indexing.html#returning-a-view-versus-a-copy\n",
      "  df.loc[:,'CO2toRevenue'] = df.loc[:,'EmissionDataPoints.CO2EquivalentsEmissionDirectScope1']*(df.loc[:,'EmissionIndicators.TotalCO2EquivalentsEmissionsToRevenues']/df.loc[:,'EmissionDataPoints.CO2EquivalentsEmissionTotal'])\n"
     ]
    },
    {
     "name": "stdout",
     "output_type": "stream",
     "text": [
      "predictions based on orgid\n",
      "predictions based on orgid\n",
      "predictions based on orgid\n",
      "predictions based on orgid\n",
      "predictions based on sector (using scaled data)\n",
      "predictions based on orgid\n",
      "predictions based on orgid\n",
      "predictions based on orgid\n",
      "predictions based on sector (using scaled data)\n"
     ]
    },
    {
     "name": "stderr",
     "output_type": "stream",
     "text": [
      "/var/folders/s_/qtbdy3px3m3_6k7xydrkhbsh0000gn/T/ipykernel_7686/191058123.py:3: SettingWithCopyWarning: \n",
      "A value is trying to be set on a copy of a slice from a DataFrame.\n",
      "Try using .loc[row_indexer,col_indexer] = value instead\n",
      "\n",
      "See the caveats in the documentation: https://pandas.pydata.org/pandas-docs/stable/user_guide/indexing.html#returning-a-view-versus-a-copy\n",
      "  df.loc[:,'CO2toRevenue'] = df.loc[:,'EmissionDataPoints.CO2EquivalentsEmissionDirectScope1']*(df.loc[:,'EmissionIndicators.TotalCO2EquivalentsEmissionsToRevenues']/df.loc[:,'EmissionDataPoints.CO2EquivalentsEmissionTotal'])\n",
      "/var/folders/s_/qtbdy3px3m3_6k7xydrkhbsh0000gn/T/ipykernel_7686/191058123.py:3: SettingWithCopyWarning: \n",
      "A value is trying to be set on a copy of a slice from a DataFrame.\n",
      "Try using .loc[row_indexer,col_indexer] = value instead\n",
      "\n",
      "See the caveats in the documentation: https://pandas.pydata.org/pandas-docs/stable/user_guide/indexing.html#returning-a-view-versus-a-copy\n",
      "  df.loc[:,'CO2toRevenue'] = df.loc[:,'EmissionDataPoints.CO2EquivalentsEmissionDirectScope1']*(df.loc[:,'EmissionIndicators.TotalCO2EquivalentsEmissionsToRevenues']/df.loc[:,'EmissionDataPoints.CO2EquivalentsEmissionTotal'])\n"
     ]
    },
    {
     "name": "stdout",
     "output_type": "stream",
     "text": [
      "predictions based on orgid\n",
      "predictions based on orgid\n",
      "predictions based on sector (using scaled data)\n",
      "predictions based on orgid\n",
      "predictions based on sector (using scaled data)\n"
     ]
    },
    {
     "name": "stderr",
     "output_type": "stream",
     "text": [
      "/var/folders/s_/qtbdy3px3m3_6k7xydrkhbsh0000gn/T/ipykernel_7686/191058123.py:3: SettingWithCopyWarning: \n",
      "A value is trying to be set on a copy of a slice from a DataFrame.\n",
      "Try using .loc[row_indexer,col_indexer] = value instead\n",
      "\n",
      "See the caveats in the documentation: https://pandas.pydata.org/pandas-docs/stable/user_guide/indexing.html#returning-a-view-versus-a-copy\n",
      "  df.loc[:,'CO2toRevenue'] = df.loc[:,'EmissionDataPoints.CO2EquivalentsEmissionDirectScope1']*(df.loc[:,'EmissionIndicators.TotalCO2EquivalentsEmissionsToRevenues']/df.loc[:,'EmissionDataPoints.CO2EquivalentsEmissionTotal'])\n",
      "/var/folders/s_/qtbdy3px3m3_6k7xydrkhbsh0000gn/T/ipykernel_7686/191058123.py:3: SettingWithCopyWarning: \n",
      "A value is trying to be set on a copy of a slice from a DataFrame.\n",
      "Try using .loc[row_indexer,col_indexer] = value instead\n",
      "\n",
      "See the caveats in the documentation: https://pandas.pydata.org/pandas-docs/stable/user_guide/indexing.html#returning-a-view-versus-a-copy\n",
      "  df.loc[:,'CO2toRevenue'] = df.loc[:,'EmissionDataPoints.CO2EquivalentsEmissionDirectScope1']*(df.loc[:,'EmissionIndicators.TotalCO2EquivalentsEmissionsToRevenues']/df.loc[:,'EmissionDataPoints.CO2EquivalentsEmissionTotal'])\n"
     ]
    },
    {
     "name": "stdout",
     "output_type": "stream",
     "text": [
      "predictions based on orgid\n",
      "predictions based on sector (using scaled data)\n",
      "predictions based on orgid\n",
      "predictions based on orgid\n",
      "predictions based on orgid\n",
      "predictions based on sector (using scaled data)\n"
     ]
    },
    {
     "name": "stderr",
     "output_type": "stream",
     "text": [
      "/var/folders/s_/qtbdy3px3m3_6k7xydrkhbsh0000gn/T/ipykernel_7686/191058123.py:3: SettingWithCopyWarning: \n",
      "A value is trying to be set on a copy of a slice from a DataFrame.\n",
      "Try using .loc[row_indexer,col_indexer] = value instead\n",
      "\n",
      "See the caveats in the documentation: https://pandas.pydata.org/pandas-docs/stable/user_guide/indexing.html#returning-a-view-versus-a-copy\n",
      "  df.loc[:,'CO2toRevenue'] = df.loc[:,'EmissionDataPoints.CO2EquivalentsEmissionDirectScope1']*(df.loc[:,'EmissionIndicators.TotalCO2EquivalentsEmissionsToRevenues']/df.loc[:,'EmissionDataPoints.CO2EquivalentsEmissionTotal'])\n",
      "/var/folders/s_/qtbdy3px3m3_6k7xydrkhbsh0000gn/T/ipykernel_7686/191058123.py:3: SettingWithCopyWarning: \n",
      "A value is trying to be set on a copy of a slice from a DataFrame.\n",
      "Try using .loc[row_indexer,col_indexer] = value instead\n",
      "\n",
      "See the caveats in the documentation: https://pandas.pydata.org/pandas-docs/stable/user_guide/indexing.html#returning-a-view-versus-a-copy\n",
      "  df.loc[:,'CO2toRevenue'] = df.loc[:,'EmissionDataPoints.CO2EquivalentsEmissionDirectScope1']*(df.loc[:,'EmissionIndicators.TotalCO2EquivalentsEmissionsToRevenues']/df.loc[:,'EmissionDataPoints.CO2EquivalentsEmissionTotal'])\n"
     ]
    },
    {
     "name": "stdout",
     "output_type": "stream",
     "text": [
      "predictions based on orgid\n",
      "predictions based on sector (using scaled data)\n",
      "predictions based on sector (using scaled data)\n"
     ]
    },
    {
     "name": "stderr",
     "output_type": "stream",
     "text": [
      "/var/folders/s_/qtbdy3px3m3_6k7xydrkhbsh0000gn/T/ipykernel_7686/191058123.py:3: SettingWithCopyWarning: \n",
      "A value is trying to be set on a copy of a slice from a DataFrame.\n",
      "Try using .loc[row_indexer,col_indexer] = value instead\n",
      "\n",
      "See the caveats in the documentation: https://pandas.pydata.org/pandas-docs/stable/user_guide/indexing.html#returning-a-view-versus-a-copy\n",
      "  df.loc[:,'CO2toRevenue'] = df.loc[:,'EmissionDataPoints.CO2EquivalentsEmissionDirectScope1']*(df.loc[:,'EmissionIndicators.TotalCO2EquivalentsEmissionsToRevenues']/df.loc[:,'EmissionDataPoints.CO2EquivalentsEmissionTotal'])\n",
      "/var/folders/s_/qtbdy3px3m3_6k7xydrkhbsh0000gn/T/ipykernel_7686/191058123.py:3: SettingWithCopyWarning: \n",
      "A value is trying to be set on a copy of a slice from a DataFrame.\n",
      "Try using .loc[row_indexer,col_indexer] = value instead\n",
      "\n",
      "See the caveats in the documentation: https://pandas.pydata.org/pandas-docs/stable/user_guide/indexing.html#returning-a-view-versus-a-copy\n",
      "  df.loc[:,'CO2toRevenue'] = df.loc[:,'EmissionDataPoints.CO2EquivalentsEmissionDirectScope1']*(df.loc[:,'EmissionIndicators.TotalCO2EquivalentsEmissionsToRevenues']/df.loc[:,'EmissionDataPoints.CO2EquivalentsEmissionTotal'])\n",
      "/var/folders/s_/qtbdy3px3m3_6k7xydrkhbsh0000gn/T/ipykernel_7686/191058123.py:3: SettingWithCopyWarning: \n",
      "A value is trying to be set on a copy of a slice from a DataFrame.\n",
      "Try using .loc[row_indexer,col_indexer] = value instead\n",
      "\n",
      "See the caveats in the documentation: https://pandas.pydata.org/pandas-docs/stable/user_guide/indexing.html#returning-a-view-versus-a-copy\n",
      "  df.loc[:,'CO2toRevenue'] = df.loc[:,'EmissionDataPoints.CO2EquivalentsEmissionDirectScope1']*(df.loc[:,'EmissionIndicators.TotalCO2EquivalentsEmissionsToRevenues']/df.loc[:,'EmissionDataPoints.CO2EquivalentsEmissionTotal'])\n"
     ]
    },
    {
     "name": "stdout",
     "output_type": "stream",
     "text": [
      "predictions based on sector (using scaled data)\n",
      "predictions based on sector (using scaled data)\n",
      "predictions based on orgid\n",
      "predictions based on orgid\n",
      "predictions based on orgid\n",
      "predictions based on orgid\n",
      "predictions based on orgid\n",
      "predictions based on orgid\n",
      "predictions based on sector (using scaled data)\n"
     ]
    },
    {
     "name": "stderr",
     "output_type": "stream",
     "text": [
      "/var/folders/s_/qtbdy3px3m3_6k7xydrkhbsh0000gn/T/ipykernel_7686/191058123.py:3: SettingWithCopyWarning: \n",
      "A value is trying to be set on a copy of a slice from a DataFrame.\n",
      "Try using .loc[row_indexer,col_indexer] = value instead\n",
      "\n",
      "See the caveats in the documentation: https://pandas.pydata.org/pandas-docs/stable/user_guide/indexing.html#returning-a-view-versus-a-copy\n",
      "  df.loc[:,'CO2toRevenue'] = df.loc[:,'EmissionDataPoints.CO2EquivalentsEmissionDirectScope1']*(df.loc[:,'EmissionIndicators.TotalCO2EquivalentsEmissionsToRevenues']/df.loc[:,'EmissionDataPoints.CO2EquivalentsEmissionTotal'])\n",
      "/var/folders/s_/qtbdy3px3m3_6k7xydrkhbsh0000gn/T/ipykernel_7686/191058123.py:3: SettingWithCopyWarning: \n",
      "A value is trying to be set on a copy of a slice from a DataFrame.\n",
      "Try using .loc[row_indexer,col_indexer] = value instead\n",
      "\n",
      "See the caveats in the documentation: https://pandas.pydata.org/pandas-docs/stable/user_guide/indexing.html#returning-a-view-versus-a-copy\n",
      "  df.loc[:,'CO2toRevenue'] = df.loc[:,'EmissionDataPoints.CO2EquivalentsEmissionDirectScope1']*(df.loc[:,'EmissionIndicators.TotalCO2EquivalentsEmissionsToRevenues']/df.loc[:,'EmissionDataPoints.CO2EquivalentsEmissionTotal'])\n"
     ]
    },
    {
     "name": "stdout",
     "output_type": "stream",
     "text": [
      "predictions based on orgid\n",
      "predictions based on orgid\n",
      "predictions based on sector (using scaled data)\n",
      "predictions based on orgid\n",
      "predictions based on orgid\n",
      "predictions based on orgid\n",
      "predictions based on orgid\n",
      "predictions based on orgid\n",
      "predictions based on orgid\n",
      "predictions based on orgid\n",
      "predictions based on orgid\n",
      "predictions based on sector (using scaled data)\n"
     ]
    },
    {
     "name": "stderr",
     "output_type": "stream",
     "text": [
      "/var/folders/s_/qtbdy3px3m3_6k7xydrkhbsh0000gn/T/ipykernel_7686/191058123.py:3: SettingWithCopyWarning: \n",
      "A value is trying to be set on a copy of a slice from a DataFrame.\n",
      "Try using .loc[row_indexer,col_indexer] = value instead\n",
      "\n",
      "See the caveats in the documentation: https://pandas.pydata.org/pandas-docs/stable/user_guide/indexing.html#returning-a-view-versus-a-copy\n",
      "  df.loc[:,'CO2toRevenue'] = df.loc[:,'EmissionDataPoints.CO2EquivalentsEmissionDirectScope1']*(df.loc[:,'EmissionIndicators.TotalCO2EquivalentsEmissionsToRevenues']/df.loc[:,'EmissionDataPoints.CO2EquivalentsEmissionTotal'])\n",
      "/var/folders/s_/qtbdy3px3m3_6k7xydrkhbsh0000gn/T/ipykernel_7686/191058123.py:3: SettingWithCopyWarning: \n",
      "A value is trying to be set on a copy of a slice from a DataFrame.\n",
      "Try using .loc[row_indexer,col_indexer] = value instead\n",
      "\n",
      "See the caveats in the documentation: https://pandas.pydata.org/pandas-docs/stable/user_guide/indexing.html#returning-a-view-versus-a-copy\n",
      "  df.loc[:,'CO2toRevenue'] = df.loc[:,'EmissionDataPoints.CO2EquivalentsEmissionDirectScope1']*(df.loc[:,'EmissionIndicators.TotalCO2EquivalentsEmissionsToRevenues']/df.loc[:,'EmissionDataPoints.CO2EquivalentsEmissionTotal'])\n",
      "/var/folders/s_/qtbdy3px3m3_6k7xydrkhbsh0000gn/T/ipykernel_7686/191058123.py:3: SettingWithCopyWarning: \n",
      "A value is trying to be set on a copy of a slice from a DataFrame.\n",
      "Try using .loc[row_indexer,col_indexer] = value instead\n",
      "\n",
      "See the caveats in the documentation: https://pandas.pydata.org/pandas-docs/stable/user_guide/indexing.html#returning-a-view-versus-a-copy\n",
      "  df.loc[:,'CO2toRevenue'] = df.loc[:,'EmissionDataPoints.CO2EquivalentsEmissionDirectScope1']*(df.loc[:,'EmissionIndicators.TotalCO2EquivalentsEmissionsToRevenues']/df.loc[:,'EmissionDataPoints.CO2EquivalentsEmissionTotal'])\n"
     ]
    },
    {
     "name": "stdout",
     "output_type": "stream",
     "text": [
      "predictions based on sector (using scaled data)\n",
      "predictions based on sector (using scaled data)\n",
      "predictions based on sector (using scaled data)\n",
      "predictions based on orgid\n",
      "predictions based on orgid\n",
      "predictions based on orgid\n",
      "predictions based on sector (using scaled data)\n"
     ]
    },
    {
     "name": "stderr",
     "output_type": "stream",
     "text": [
      "/var/folders/s_/qtbdy3px3m3_6k7xydrkhbsh0000gn/T/ipykernel_7686/191058123.py:3: SettingWithCopyWarning: \n",
      "A value is trying to be set on a copy of a slice from a DataFrame.\n",
      "Try using .loc[row_indexer,col_indexer] = value instead\n",
      "\n",
      "See the caveats in the documentation: https://pandas.pydata.org/pandas-docs/stable/user_guide/indexing.html#returning-a-view-versus-a-copy\n",
      "  df.loc[:,'CO2toRevenue'] = df.loc[:,'EmissionDataPoints.CO2EquivalentsEmissionDirectScope1']*(df.loc[:,'EmissionIndicators.TotalCO2EquivalentsEmissionsToRevenues']/df.loc[:,'EmissionDataPoints.CO2EquivalentsEmissionTotal'])\n",
      "/var/folders/s_/qtbdy3px3m3_6k7xydrkhbsh0000gn/T/ipykernel_7686/191058123.py:3: SettingWithCopyWarning: \n",
      "A value is trying to be set on a copy of a slice from a DataFrame.\n",
      "Try using .loc[row_indexer,col_indexer] = value instead\n",
      "\n",
      "See the caveats in the documentation: https://pandas.pydata.org/pandas-docs/stable/user_guide/indexing.html#returning-a-view-versus-a-copy\n",
      "  df.loc[:,'CO2toRevenue'] = df.loc[:,'EmissionDataPoints.CO2EquivalentsEmissionDirectScope1']*(df.loc[:,'EmissionIndicators.TotalCO2EquivalentsEmissionsToRevenues']/df.loc[:,'EmissionDataPoints.CO2EquivalentsEmissionTotal'])\n"
     ]
    },
    {
     "name": "stdout",
     "output_type": "stream",
     "text": [
      "predictions based on sector (using scaled data)\n",
      "predictions based on sector (using scaled data)\n"
     ]
    },
    {
     "name": "stderr",
     "output_type": "stream",
     "text": [
      "/var/folders/s_/qtbdy3px3m3_6k7xydrkhbsh0000gn/T/ipykernel_7686/191058123.py:3: SettingWithCopyWarning: \n",
      "A value is trying to be set on a copy of a slice from a DataFrame.\n",
      "Try using .loc[row_indexer,col_indexer] = value instead\n",
      "\n",
      "See the caveats in the documentation: https://pandas.pydata.org/pandas-docs/stable/user_guide/indexing.html#returning-a-view-versus-a-copy\n",
      "  df.loc[:,'CO2toRevenue'] = df.loc[:,'EmissionDataPoints.CO2EquivalentsEmissionDirectScope1']*(df.loc[:,'EmissionIndicators.TotalCO2EquivalentsEmissionsToRevenues']/df.loc[:,'EmissionDataPoints.CO2EquivalentsEmissionTotal'])\n",
      "/var/folders/s_/qtbdy3px3m3_6k7xydrkhbsh0000gn/T/ipykernel_7686/191058123.py:3: SettingWithCopyWarning: \n",
      "A value is trying to be set on a copy of a slice from a DataFrame.\n",
      "Try using .loc[row_indexer,col_indexer] = value instead\n",
      "\n",
      "See the caveats in the documentation: https://pandas.pydata.org/pandas-docs/stable/user_guide/indexing.html#returning-a-view-versus-a-copy\n",
      "  df.loc[:,'CO2toRevenue'] = df.loc[:,'EmissionDataPoints.CO2EquivalentsEmissionDirectScope1']*(df.loc[:,'EmissionIndicators.TotalCO2EquivalentsEmissionsToRevenues']/df.loc[:,'EmissionDataPoints.CO2EquivalentsEmissionTotal'])\n"
     ]
    },
    {
     "name": "stdout",
     "output_type": "stream",
     "text": [
      "predictions based on sector (using scaled data)\n",
      "predictions based on orgid\n",
      "predictions based on orgid\n",
      "predictions based on sector (using scaled data)\n"
     ]
    },
    {
     "name": "stderr",
     "output_type": "stream",
     "text": [
      "/var/folders/s_/qtbdy3px3m3_6k7xydrkhbsh0000gn/T/ipykernel_7686/191058123.py:3: SettingWithCopyWarning: \n",
      "A value is trying to be set on a copy of a slice from a DataFrame.\n",
      "Try using .loc[row_indexer,col_indexer] = value instead\n",
      "\n",
      "See the caveats in the documentation: https://pandas.pydata.org/pandas-docs/stable/user_guide/indexing.html#returning-a-view-versus-a-copy\n",
      "  df.loc[:,'CO2toRevenue'] = df.loc[:,'EmissionDataPoints.CO2EquivalentsEmissionDirectScope1']*(df.loc[:,'EmissionIndicators.TotalCO2EquivalentsEmissionsToRevenues']/df.loc[:,'EmissionDataPoints.CO2EquivalentsEmissionTotal'])\n",
      "/var/folders/s_/qtbdy3px3m3_6k7xydrkhbsh0000gn/T/ipykernel_7686/191058123.py:3: SettingWithCopyWarning: \n",
      "A value is trying to be set on a copy of a slice from a DataFrame.\n",
      "Try using .loc[row_indexer,col_indexer] = value instead\n",
      "\n",
      "See the caveats in the documentation: https://pandas.pydata.org/pandas-docs/stable/user_guide/indexing.html#returning-a-view-versus-a-copy\n",
      "  df.loc[:,'CO2toRevenue'] = df.loc[:,'EmissionDataPoints.CO2EquivalentsEmissionDirectScope1']*(df.loc[:,'EmissionIndicators.TotalCO2EquivalentsEmissionsToRevenues']/df.loc[:,'EmissionDataPoints.CO2EquivalentsEmissionTotal'])\n"
     ]
    },
    {
     "name": "stdout",
     "output_type": "stream",
     "text": [
      "predictions based on sector (using scaled data)\n",
      "predictions based on sector (using scaled data)\n",
      "predictions based on sector (using scaled data)\n"
     ]
    },
    {
     "name": "stderr",
     "output_type": "stream",
     "text": [
      "/var/folders/s_/qtbdy3px3m3_6k7xydrkhbsh0000gn/T/ipykernel_7686/191058123.py:3: SettingWithCopyWarning: \n",
      "A value is trying to be set on a copy of a slice from a DataFrame.\n",
      "Try using .loc[row_indexer,col_indexer] = value instead\n",
      "\n",
      "See the caveats in the documentation: https://pandas.pydata.org/pandas-docs/stable/user_guide/indexing.html#returning-a-view-versus-a-copy\n",
      "  df.loc[:,'CO2toRevenue'] = df.loc[:,'EmissionDataPoints.CO2EquivalentsEmissionDirectScope1']*(df.loc[:,'EmissionIndicators.TotalCO2EquivalentsEmissionsToRevenues']/df.loc[:,'EmissionDataPoints.CO2EquivalentsEmissionTotal'])\n",
      "/var/folders/s_/qtbdy3px3m3_6k7xydrkhbsh0000gn/T/ipykernel_7686/191058123.py:3: SettingWithCopyWarning: \n",
      "A value is trying to be set on a copy of a slice from a DataFrame.\n",
      "Try using .loc[row_indexer,col_indexer] = value instead\n",
      "\n",
      "See the caveats in the documentation: https://pandas.pydata.org/pandas-docs/stable/user_guide/indexing.html#returning-a-view-versus-a-copy\n",
      "  df.loc[:,'CO2toRevenue'] = df.loc[:,'EmissionDataPoints.CO2EquivalentsEmissionDirectScope1']*(df.loc[:,'EmissionIndicators.TotalCO2EquivalentsEmissionsToRevenues']/df.loc[:,'EmissionDataPoints.CO2EquivalentsEmissionTotal'])\n",
      "/var/folders/s_/qtbdy3px3m3_6k7xydrkhbsh0000gn/T/ipykernel_7686/191058123.py:3: SettingWithCopyWarning: \n",
      "A value is trying to be set on a copy of a slice from a DataFrame.\n",
      "Try using .loc[row_indexer,col_indexer] = value instead\n",
      "\n",
      "See the caveats in the documentation: https://pandas.pydata.org/pandas-docs/stable/user_guide/indexing.html#returning-a-view-versus-a-copy\n",
      "  df.loc[:,'CO2toRevenue'] = df.loc[:,'EmissionDataPoints.CO2EquivalentsEmissionDirectScope1']*(df.loc[:,'EmissionIndicators.TotalCO2EquivalentsEmissionsToRevenues']/df.loc[:,'EmissionDataPoints.CO2EquivalentsEmissionTotal'])\n"
     ]
    },
    {
     "name": "stdout",
     "output_type": "stream",
     "text": [
      "predictions based on sector (using scaled data)\n",
      "predictions based on orgid\n",
      "predictions based on orgid\n",
      "predictions based on orgid\n",
      "predictions based on orgid\n",
      "predictions based on sector (using scaled data)\n"
     ]
    },
    {
     "name": "stderr",
     "output_type": "stream",
     "text": [
      "/var/folders/s_/qtbdy3px3m3_6k7xydrkhbsh0000gn/T/ipykernel_7686/191058123.py:3: SettingWithCopyWarning: \n",
      "A value is trying to be set on a copy of a slice from a DataFrame.\n",
      "Try using .loc[row_indexer,col_indexer] = value instead\n",
      "\n",
      "See the caveats in the documentation: https://pandas.pydata.org/pandas-docs/stable/user_guide/indexing.html#returning-a-view-versus-a-copy\n",
      "  df.loc[:,'CO2toRevenue'] = df.loc[:,'EmissionDataPoints.CO2EquivalentsEmissionDirectScope1']*(df.loc[:,'EmissionIndicators.TotalCO2EquivalentsEmissionsToRevenues']/df.loc[:,'EmissionDataPoints.CO2EquivalentsEmissionTotal'])\n",
      "/var/folders/s_/qtbdy3px3m3_6k7xydrkhbsh0000gn/T/ipykernel_7686/191058123.py:3: SettingWithCopyWarning: \n",
      "A value is trying to be set on a copy of a slice from a DataFrame.\n",
      "Try using .loc[row_indexer,col_indexer] = value instead\n",
      "\n",
      "See the caveats in the documentation: https://pandas.pydata.org/pandas-docs/stable/user_guide/indexing.html#returning-a-view-versus-a-copy\n",
      "  df.loc[:,'CO2toRevenue'] = df.loc[:,'EmissionDataPoints.CO2EquivalentsEmissionDirectScope1']*(df.loc[:,'EmissionIndicators.TotalCO2EquivalentsEmissionsToRevenues']/df.loc[:,'EmissionDataPoints.CO2EquivalentsEmissionTotal'])\n"
     ]
    },
    {
     "name": "stdout",
     "output_type": "stream",
     "text": [
      "predictions based on sector (using scaled data)\n",
      "predictions based on sector (using scaled data)\n"
     ]
    },
    {
     "name": "stderr",
     "output_type": "stream",
     "text": [
      "/var/folders/s_/qtbdy3px3m3_6k7xydrkhbsh0000gn/T/ipykernel_7686/191058123.py:3: SettingWithCopyWarning: \n",
      "A value is trying to be set on a copy of a slice from a DataFrame.\n",
      "Try using .loc[row_indexer,col_indexer] = value instead\n",
      "\n",
      "See the caveats in the documentation: https://pandas.pydata.org/pandas-docs/stable/user_guide/indexing.html#returning-a-view-versus-a-copy\n",
      "  df.loc[:,'CO2toRevenue'] = df.loc[:,'EmissionDataPoints.CO2EquivalentsEmissionDirectScope1']*(df.loc[:,'EmissionIndicators.TotalCO2EquivalentsEmissionsToRevenues']/df.loc[:,'EmissionDataPoints.CO2EquivalentsEmissionTotal'])\n",
      "/var/folders/s_/qtbdy3px3m3_6k7xydrkhbsh0000gn/T/ipykernel_7686/191058123.py:3: SettingWithCopyWarning: \n",
      "A value is trying to be set on a copy of a slice from a DataFrame.\n",
      "Try using .loc[row_indexer,col_indexer] = value instead\n",
      "\n",
      "See the caveats in the documentation: https://pandas.pydata.org/pandas-docs/stable/user_guide/indexing.html#returning-a-view-versus-a-copy\n",
      "  df.loc[:,'CO2toRevenue'] = df.loc[:,'EmissionDataPoints.CO2EquivalentsEmissionDirectScope1']*(df.loc[:,'EmissionIndicators.TotalCO2EquivalentsEmissionsToRevenues']/df.loc[:,'EmissionDataPoints.CO2EquivalentsEmissionTotal'])\n"
     ]
    },
    {
     "name": "stdout",
     "output_type": "stream",
     "text": [
      "predictions based on sector (using scaled data)\n",
      "predictions based on orgid\n",
      "predictions based on sector (using scaled data)\n"
     ]
    },
    {
     "name": "stderr",
     "output_type": "stream",
     "text": [
      "/var/folders/s_/qtbdy3px3m3_6k7xydrkhbsh0000gn/T/ipykernel_7686/191058123.py:3: SettingWithCopyWarning: \n",
      "A value is trying to be set on a copy of a slice from a DataFrame.\n",
      "Try using .loc[row_indexer,col_indexer] = value instead\n",
      "\n",
      "See the caveats in the documentation: https://pandas.pydata.org/pandas-docs/stable/user_guide/indexing.html#returning-a-view-versus-a-copy\n",
      "  df.loc[:,'CO2toRevenue'] = df.loc[:,'EmissionDataPoints.CO2EquivalentsEmissionDirectScope1']*(df.loc[:,'EmissionIndicators.TotalCO2EquivalentsEmissionsToRevenues']/df.loc[:,'EmissionDataPoints.CO2EquivalentsEmissionTotal'])\n",
      "/var/folders/s_/qtbdy3px3m3_6k7xydrkhbsh0000gn/T/ipykernel_7686/191058123.py:3: SettingWithCopyWarning: \n",
      "A value is trying to be set on a copy of a slice from a DataFrame.\n",
      "Try using .loc[row_indexer,col_indexer] = value instead\n",
      "\n",
      "See the caveats in the documentation: https://pandas.pydata.org/pandas-docs/stable/user_guide/indexing.html#returning-a-view-versus-a-copy\n",
      "  df.loc[:,'CO2toRevenue'] = df.loc[:,'EmissionDataPoints.CO2EquivalentsEmissionDirectScope1']*(df.loc[:,'EmissionIndicators.TotalCO2EquivalentsEmissionsToRevenues']/df.loc[:,'EmissionDataPoints.CO2EquivalentsEmissionTotal'])\n"
     ]
    },
    {
     "name": "stdout",
     "output_type": "stream",
     "text": [
      "predictions based on orgid\n",
      "predictions based on orgid\n",
      "predictions based on sector (using scaled data)\n",
      "predictions based on sector (using scaled data)\n",
      "predictions based on orgid\n",
      "predictions based on orgid\n",
      "predictions based on sector (using scaled data)\n"
     ]
    },
    {
     "name": "stderr",
     "output_type": "stream",
     "text": [
      "/var/folders/s_/qtbdy3px3m3_6k7xydrkhbsh0000gn/T/ipykernel_7686/191058123.py:3: SettingWithCopyWarning: \n",
      "A value is trying to be set on a copy of a slice from a DataFrame.\n",
      "Try using .loc[row_indexer,col_indexer] = value instead\n",
      "\n",
      "See the caveats in the documentation: https://pandas.pydata.org/pandas-docs/stable/user_guide/indexing.html#returning-a-view-versus-a-copy\n",
      "  df.loc[:,'CO2toRevenue'] = df.loc[:,'EmissionDataPoints.CO2EquivalentsEmissionDirectScope1']*(df.loc[:,'EmissionIndicators.TotalCO2EquivalentsEmissionsToRevenues']/df.loc[:,'EmissionDataPoints.CO2EquivalentsEmissionTotal'])\n",
      "/var/folders/s_/qtbdy3px3m3_6k7xydrkhbsh0000gn/T/ipykernel_7686/191058123.py:3: SettingWithCopyWarning: \n",
      "A value is trying to be set on a copy of a slice from a DataFrame.\n",
      "Try using .loc[row_indexer,col_indexer] = value instead\n",
      "\n",
      "See the caveats in the documentation: https://pandas.pydata.org/pandas-docs/stable/user_guide/indexing.html#returning-a-view-versus-a-copy\n",
      "  df.loc[:,'CO2toRevenue'] = df.loc[:,'EmissionDataPoints.CO2EquivalentsEmissionDirectScope1']*(df.loc[:,'EmissionIndicators.TotalCO2EquivalentsEmissionsToRevenues']/df.loc[:,'EmissionDataPoints.CO2EquivalentsEmissionTotal'])\n",
      "/var/folders/s_/qtbdy3px3m3_6k7xydrkhbsh0000gn/T/ipykernel_7686/191058123.py:3: SettingWithCopyWarning: \n",
      "A value is trying to be set on a copy of a slice from a DataFrame.\n",
      "Try using .loc[row_indexer,col_indexer] = value instead\n",
      "\n",
      "See the caveats in the documentation: https://pandas.pydata.org/pandas-docs/stable/user_guide/indexing.html#returning-a-view-versus-a-copy\n",
      "  df.loc[:,'CO2toRevenue'] = df.loc[:,'EmissionDataPoints.CO2EquivalentsEmissionDirectScope1']*(df.loc[:,'EmissionIndicators.TotalCO2EquivalentsEmissionsToRevenues']/df.loc[:,'EmissionDataPoints.CO2EquivalentsEmissionTotal'])\n"
     ]
    },
    {
     "name": "stdout",
     "output_type": "stream",
     "text": [
      "predictions based on sector (using scaled data)\n",
      "predictions based on orgid\n",
      "predictions based on sector (using scaled data)\n",
      "predictions based on sector (using scaled data)\n"
     ]
    },
    {
     "name": "stderr",
     "output_type": "stream",
     "text": [
      "/var/folders/s_/qtbdy3px3m3_6k7xydrkhbsh0000gn/T/ipykernel_7686/191058123.py:3: SettingWithCopyWarning: \n",
      "A value is trying to be set on a copy of a slice from a DataFrame.\n",
      "Try using .loc[row_indexer,col_indexer] = value instead\n",
      "\n",
      "See the caveats in the documentation: https://pandas.pydata.org/pandas-docs/stable/user_guide/indexing.html#returning-a-view-versus-a-copy\n",
      "  df.loc[:,'CO2toRevenue'] = df.loc[:,'EmissionDataPoints.CO2EquivalentsEmissionDirectScope1']*(df.loc[:,'EmissionIndicators.TotalCO2EquivalentsEmissionsToRevenues']/df.loc[:,'EmissionDataPoints.CO2EquivalentsEmissionTotal'])\n",
      "/var/folders/s_/qtbdy3px3m3_6k7xydrkhbsh0000gn/T/ipykernel_7686/191058123.py:3: SettingWithCopyWarning: \n",
      "A value is trying to be set on a copy of a slice from a DataFrame.\n",
      "Try using .loc[row_indexer,col_indexer] = value instead\n",
      "\n",
      "See the caveats in the documentation: https://pandas.pydata.org/pandas-docs/stable/user_guide/indexing.html#returning-a-view-versus-a-copy\n",
      "  df.loc[:,'CO2toRevenue'] = df.loc[:,'EmissionDataPoints.CO2EquivalentsEmissionDirectScope1']*(df.loc[:,'EmissionIndicators.TotalCO2EquivalentsEmissionsToRevenues']/df.loc[:,'EmissionDataPoints.CO2EquivalentsEmissionTotal'])\n",
      "/var/folders/s_/qtbdy3px3m3_6k7xydrkhbsh0000gn/T/ipykernel_7686/191058123.py:3: SettingWithCopyWarning: \n",
      "A value is trying to be set on a copy of a slice from a DataFrame.\n",
      "Try using .loc[row_indexer,col_indexer] = value instead\n",
      "\n",
      "See the caveats in the documentation: https://pandas.pydata.org/pandas-docs/stable/user_guide/indexing.html#returning-a-view-versus-a-copy\n",
      "  df.loc[:,'CO2toRevenue'] = df.loc[:,'EmissionDataPoints.CO2EquivalentsEmissionDirectScope1']*(df.loc[:,'EmissionIndicators.TotalCO2EquivalentsEmissionsToRevenues']/df.loc[:,'EmissionDataPoints.CO2EquivalentsEmissionTotal'])\n"
     ]
    },
    {
     "name": "stdout",
     "output_type": "stream",
     "text": [
      "predictions based on sector (using scaled data)\n",
      "predictions based on orgid\n",
      "predictions based on sector (using scaled data)\n"
     ]
    },
    {
     "name": "stderr",
     "output_type": "stream",
     "text": [
      "/var/folders/s_/qtbdy3px3m3_6k7xydrkhbsh0000gn/T/ipykernel_7686/191058123.py:3: SettingWithCopyWarning: \n",
      "A value is trying to be set on a copy of a slice from a DataFrame.\n",
      "Try using .loc[row_indexer,col_indexer] = value instead\n",
      "\n",
      "See the caveats in the documentation: https://pandas.pydata.org/pandas-docs/stable/user_guide/indexing.html#returning-a-view-versus-a-copy\n",
      "  df.loc[:,'CO2toRevenue'] = df.loc[:,'EmissionDataPoints.CO2EquivalentsEmissionDirectScope1']*(df.loc[:,'EmissionIndicators.TotalCO2EquivalentsEmissionsToRevenues']/df.loc[:,'EmissionDataPoints.CO2EquivalentsEmissionTotal'])\n",
      "/var/folders/s_/qtbdy3px3m3_6k7xydrkhbsh0000gn/T/ipykernel_7686/191058123.py:3: SettingWithCopyWarning: \n",
      "A value is trying to be set on a copy of a slice from a DataFrame.\n",
      "Try using .loc[row_indexer,col_indexer] = value instead\n",
      "\n",
      "See the caveats in the documentation: https://pandas.pydata.org/pandas-docs/stable/user_guide/indexing.html#returning-a-view-versus-a-copy\n",
      "  df.loc[:,'CO2toRevenue'] = df.loc[:,'EmissionDataPoints.CO2EquivalentsEmissionDirectScope1']*(df.loc[:,'EmissionIndicators.TotalCO2EquivalentsEmissionsToRevenues']/df.loc[:,'EmissionDataPoints.CO2EquivalentsEmissionTotal'])\n"
     ]
    },
    {
     "name": "stdout",
     "output_type": "stream",
     "text": [
      "predictions based on sector (using scaled data)\n",
      "predictions based on sector (using scaled data)\n",
      "predictions based on orgid\n",
      "predictions based on sector (using scaled data)\n"
     ]
    },
    {
     "name": "stderr",
     "output_type": "stream",
     "text": [
      "/var/folders/s_/qtbdy3px3m3_6k7xydrkhbsh0000gn/T/ipykernel_7686/191058123.py:3: SettingWithCopyWarning: \n",
      "A value is trying to be set on a copy of a slice from a DataFrame.\n",
      "Try using .loc[row_indexer,col_indexer] = value instead\n",
      "\n",
      "See the caveats in the documentation: https://pandas.pydata.org/pandas-docs/stable/user_guide/indexing.html#returning-a-view-versus-a-copy\n",
      "  df.loc[:,'CO2toRevenue'] = df.loc[:,'EmissionDataPoints.CO2EquivalentsEmissionDirectScope1']*(df.loc[:,'EmissionIndicators.TotalCO2EquivalentsEmissionsToRevenues']/df.loc[:,'EmissionDataPoints.CO2EquivalentsEmissionTotal'])\n",
      "/var/folders/s_/qtbdy3px3m3_6k7xydrkhbsh0000gn/T/ipykernel_7686/191058123.py:3: SettingWithCopyWarning: \n",
      "A value is trying to be set on a copy of a slice from a DataFrame.\n",
      "Try using .loc[row_indexer,col_indexer] = value instead\n",
      "\n",
      "See the caveats in the documentation: https://pandas.pydata.org/pandas-docs/stable/user_guide/indexing.html#returning-a-view-versus-a-copy\n",
      "  df.loc[:,'CO2toRevenue'] = df.loc[:,'EmissionDataPoints.CO2EquivalentsEmissionDirectScope1']*(df.loc[:,'EmissionIndicators.TotalCO2EquivalentsEmissionsToRevenues']/df.loc[:,'EmissionDataPoints.CO2EquivalentsEmissionTotal'])\n",
      "/var/folders/s_/qtbdy3px3m3_6k7xydrkhbsh0000gn/T/ipykernel_7686/191058123.py:3: SettingWithCopyWarning: \n",
      "A value is trying to be set on a copy of a slice from a DataFrame.\n",
      "Try using .loc[row_indexer,col_indexer] = value instead\n",
      "\n",
      "See the caveats in the documentation: https://pandas.pydata.org/pandas-docs/stable/user_guide/indexing.html#returning-a-view-versus-a-copy\n",
      "  df.loc[:,'CO2toRevenue'] = df.loc[:,'EmissionDataPoints.CO2EquivalentsEmissionDirectScope1']*(df.loc[:,'EmissionIndicators.TotalCO2EquivalentsEmissionsToRevenues']/df.loc[:,'EmissionDataPoints.CO2EquivalentsEmissionTotal'])\n"
     ]
    },
    {
     "name": "stdout",
     "output_type": "stream",
     "text": [
      "predictions based on orgid\n",
      "predictions based on sector (using scaled data)\n",
      "predictions based on sector (using scaled data)\n"
     ]
    },
    {
     "name": "stderr",
     "output_type": "stream",
     "text": [
      "/var/folders/s_/qtbdy3px3m3_6k7xydrkhbsh0000gn/T/ipykernel_7686/191058123.py:3: SettingWithCopyWarning: \n",
      "A value is trying to be set on a copy of a slice from a DataFrame.\n",
      "Try using .loc[row_indexer,col_indexer] = value instead\n",
      "\n",
      "See the caveats in the documentation: https://pandas.pydata.org/pandas-docs/stable/user_guide/indexing.html#returning-a-view-versus-a-copy\n",
      "  df.loc[:,'CO2toRevenue'] = df.loc[:,'EmissionDataPoints.CO2EquivalentsEmissionDirectScope1']*(df.loc[:,'EmissionIndicators.TotalCO2EquivalentsEmissionsToRevenues']/df.loc[:,'EmissionDataPoints.CO2EquivalentsEmissionTotal'])\n",
      "/var/folders/s_/qtbdy3px3m3_6k7xydrkhbsh0000gn/T/ipykernel_7686/191058123.py:3: SettingWithCopyWarning: \n",
      "A value is trying to be set on a copy of a slice from a DataFrame.\n",
      "Try using .loc[row_indexer,col_indexer] = value instead\n",
      "\n",
      "See the caveats in the documentation: https://pandas.pydata.org/pandas-docs/stable/user_guide/indexing.html#returning-a-view-versus-a-copy\n",
      "  df.loc[:,'CO2toRevenue'] = df.loc[:,'EmissionDataPoints.CO2EquivalentsEmissionDirectScope1']*(df.loc[:,'EmissionIndicators.TotalCO2EquivalentsEmissionsToRevenues']/df.loc[:,'EmissionDataPoints.CO2EquivalentsEmissionTotal'])\n"
     ]
    },
    {
     "name": "stdout",
     "output_type": "stream",
     "text": [
      "predictions based on sector (using scaled data)\n",
      "predictions based on sector (using scaled data)\n",
      "predictions based on sector (using scaled data)\n"
     ]
    },
    {
     "name": "stderr",
     "output_type": "stream",
     "text": [
      "/var/folders/s_/qtbdy3px3m3_6k7xydrkhbsh0000gn/T/ipykernel_7686/191058123.py:3: SettingWithCopyWarning: \n",
      "A value is trying to be set on a copy of a slice from a DataFrame.\n",
      "Try using .loc[row_indexer,col_indexer] = value instead\n",
      "\n",
      "See the caveats in the documentation: https://pandas.pydata.org/pandas-docs/stable/user_guide/indexing.html#returning-a-view-versus-a-copy\n",
      "  df.loc[:,'CO2toRevenue'] = df.loc[:,'EmissionDataPoints.CO2EquivalentsEmissionDirectScope1']*(df.loc[:,'EmissionIndicators.TotalCO2EquivalentsEmissionsToRevenues']/df.loc[:,'EmissionDataPoints.CO2EquivalentsEmissionTotal'])\n",
      "/var/folders/s_/qtbdy3px3m3_6k7xydrkhbsh0000gn/T/ipykernel_7686/191058123.py:3: SettingWithCopyWarning: \n",
      "A value is trying to be set on a copy of a slice from a DataFrame.\n",
      "Try using .loc[row_indexer,col_indexer] = value instead\n",
      "\n",
      "See the caveats in the documentation: https://pandas.pydata.org/pandas-docs/stable/user_guide/indexing.html#returning-a-view-versus-a-copy\n",
      "  df.loc[:,'CO2toRevenue'] = df.loc[:,'EmissionDataPoints.CO2EquivalentsEmissionDirectScope1']*(df.loc[:,'EmissionIndicators.TotalCO2EquivalentsEmissionsToRevenues']/df.loc[:,'EmissionDataPoints.CO2EquivalentsEmissionTotal'])\n",
      "/var/folders/s_/qtbdy3px3m3_6k7xydrkhbsh0000gn/T/ipykernel_7686/191058123.py:3: SettingWithCopyWarning: \n",
      "A value is trying to be set on a copy of a slice from a DataFrame.\n",
      "Try using .loc[row_indexer,col_indexer] = value instead\n",
      "\n",
      "See the caveats in the documentation: https://pandas.pydata.org/pandas-docs/stable/user_guide/indexing.html#returning-a-view-versus-a-copy\n",
      "  df.loc[:,'CO2toRevenue'] = df.loc[:,'EmissionDataPoints.CO2EquivalentsEmissionDirectScope1']*(df.loc[:,'EmissionIndicators.TotalCO2EquivalentsEmissionsToRevenues']/df.loc[:,'EmissionDataPoints.CO2EquivalentsEmissionTotal'])\n"
     ]
    },
    {
     "name": "stdout",
     "output_type": "stream",
     "text": [
      "predictions based on orgid\n",
      "predictions based on sector (using scaled data)\n",
      "predictions based on sector (using scaled data)\n"
     ]
    },
    {
     "name": "stderr",
     "output_type": "stream",
     "text": [
      "/var/folders/s_/qtbdy3px3m3_6k7xydrkhbsh0000gn/T/ipykernel_7686/191058123.py:3: SettingWithCopyWarning: \n",
      "A value is trying to be set on a copy of a slice from a DataFrame.\n",
      "Try using .loc[row_indexer,col_indexer] = value instead\n",
      "\n",
      "See the caveats in the documentation: https://pandas.pydata.org/pandas-docs/stable/user_guide/indexing.html#returning-a-view-versus-a-copy\n",
      "  df.loc[:,'CO2toRevenue'] = df.loc[:,'EmissionDataPoints.CO2EquivalentsEmissionDirectScope1']*(df.loc[:,'EmissionIndicators.TotalCO2EquivalentsEmissionsToRevenues']/df.loc[:,'EmissionDataPoints.CO2EquivalentsEmissionTotal'])\n",
      "/var/folders/s_/qtbdy3px3m3_6k7xydrkhbsh0000gn/T/ipykernel_7686/191058123.py:3: SettingWithCopyWarning: \n",
      "A value is trying to be set on a copy of a slice from a DataFrame.\n",
      "Try using .loc[row_indexer,col_indexer] = value instead\n",
      "\n",
      "See the caveats in the documentation: https://pandas.pydata.org/pandas-docs/stable/user_guide/indexing.html#returning-a-view-versus-a-copy\n",
      "  df.loc[:,'CO2toRevenue'] = df.loc[:,'EmissionDataPoints.CO2EquivalentsEmissionDirectScope1']*(df.loc[:,'EmissionIndicators.TotalCO2EquivalentsEmissionsToRevenues']/df.loc[:,'EmissionDataPoints.CO2EquivalentsEmissionTotal'])\n"
     ]
    },
    {
     "name": "stdout",
     "output_type": "stream",
     "text": [
      "predictions based on sector (using scaled data)\n",
      "predictions based on orgid\n",
      "predictions based on orgid\n",
      "predictions based on orgid\n",
      "predictions based on sector (using scaled data)\n"
     ]
    },
    {
     "name": "stderr",
     "output_type": "stream",
     "text": [
      "/var/folders/s_/qtbdy3px3m3_6k7xydrkhbsh0000gn/T/ipykernel_7686/191058123.py:3: SettingWithCopyWarning: \n",
      "A value is trying to be set on a copy of a slice from a DataFrame.\n",
      "Try using .loc[row_indexer,col_indexer] = value instead\n",
      "\n",
      "See the caveats in the documentation: https://pandas.pydata.org/pandas-docs/stable/user_guide/indexing.html#returning-a-view-versus-a-copy\n",
      "  df.loc[:,'CO2toRevenue'] = df.loc[:,'EmissionDataPoints.CO2EquivalentsEmissionDirectScope1']*(df.loc[:,'EmissionIndicators.TotalCO2EquivalentsEmissionsToRevenues']/df.loc[:,'EmissionDataPoints.CO2EquivalentsEmissionTotal'])\n",
      "/var/folders/s_/qtbdy3px3m3_6k7xydrkhbsh0000gn/T/ipykernel_7686/191058123.py:3: SettingWithCopyWarning: \n",
      "A value is trying to be set on a copy of a slice from a DataFrame.\n",
      "Try using .loc[row_indexer,col_indexer] = value instead\n",
      "\n",
      "See the caveats in the documentation: https://pandas.pydata.org/pandas-docs/stable/user_guide/indexing.html#returning-a-view-versus-a-copy\n",
      "  df.loc[:,'CO2toRevenue'] = df.loc[:,'EmissionDataPoints.CO2EquivalentsEmissionDirectScope1']*(df.loc[:,'EmissionIndicators.TotalCO2EquivalentsEmissionsToRevenues']/df.loc[:,'EmissionDataPoints.CO2EquivalentsEmissionTotal'])\n"
     ]
    },
    {
     "name": "stdout",
     "output_type": "stream",
     "text": [
      "predictions based on orgid\n",
      "predictions based on sector (using scaled data)\n",
      "predictions based on sector (using scaled data)\n"
     ]
    },
    {
     "name": "stderr",
     "output_type": "stream",
     "text": [
      "/var/folders/s_/qtbdy3px3m3_6k7xydrkhbsh0000gn/T/ipykernel_7686/191058123.py:3: SettingWithCopyWarning: \n",
      "A value is trying to be set on a copy of a slice from a DataFrame.\n",
      "Try using .loc[row_indexer,col_indexer] = value instead\n",
      "\n",
      "See the caveats in the documentation: https://pandas.pydata.org/pandas-docs/stable/user_guide/indexing.html#returning-a-view-versus-a-copy\n",
      "  df.loc[:,'CO2toRevenue'] = df.loc[:,'EmissionDataPoints.CO2EquivalentsEmissionDirectScope1']*(df.loc[:,'EmissionIndicators.TotalCO2EquivalentsEmissionsToRevenues']/df.loc[:,'EmissionDataPoints.CO2EquivalentsEmissionTotal'])\n",
      "/var/folders/s_/qtbdy3px3m3_6k7xydrkhbsh0000gn/T/ipykernel_7686/191058123.py:3: SettingWithCopyWarning: \n",
      "A value is trying to be set on a copy of a slice from a DataFrame.\n",
      "Try using .loc[row_indexer,col_indexer] = value instead\n",
      "\n",
      "See the caveats in the documentation: https://pandas.pydata.org/pandas-docs/stable/user_guide/indexing.html#returning-a-view-versus-a-copy\n",
      "  df.loc[:,'CO2toRevenue'] = df.loc[:,'EmissionDataPoints.CO2EquivalentsEmissionDirectScope1']*(df.loc[:,'EmissionIndicators.TotalCO2EquivalentsEmissionsToRevenues']/df.loc[:,'EmissionDataPoints.CO2EquivalentsEmissionTotal'])\n"
     ]
    },
    {
     "name": "stdout",
     "output_type": "stream",
     "text": [
      "predictions based on orgid\n",
      "predictions based on sector (using scaled data)\n",
      "predictions based on orgid\n",
      "predictions based on sector (using scaled data)\n"
     ]
    },
    {
     "name": "stderr",
     "output_type": "stream",
     "text": [
      "/var/folders/s_/qtbdy3px3m3_6k7xydrkhbsh0000gn/T/ipykernel_7686/191058123.py:3: SettingWithCopyWarning: \n",
      "A value is trying to be set on a copy of a slice from a DataFrame.\n",
      "Try using .loc[row_indexer,col_indexer] = value instead\n",
      "\n",
      "See the caveats in the documentation: https://pandas.pydata.org/pandas-docs/stable/user_guide/indexing.html#returning-a-view-versus-a-copy\n",
      "  df.loc[:,'CO2toRevenue'] = df.loc[:,'EmissionDataPoints.CO2EquivalentsEmissionDirectScope1']*(df.loc[:,'EmissionIndicators.TotalCO2EquivalentsEmissionsToRevenues']/df.loc[:,'EmissionDataPoints.CO2EquivalentsEmissionTotal'])\n",
      "/var/folders/s_/qtbdy3px3m3_6k7xydrkhbsh0000gn/T/ipykernel_7686/191058123.py:3: SettingWithCopyWarning: \n",
      "A value is trying to be set on a copy of a slice from a DataFrame.\n",
      "Try using .loc[row_indexer,col_indexer] = value instead\n",
      "\n",
      "See the caveats in the documentation: https://pandas.pydata.org/pandas-docs/stable/user_guide/indexing.html#returning-a-view-versus-a-copy\n",
      "  df.loc[:,'CO2toRevenue'] = df.loc[:,'EmissionDataPoints.CO2EquivalentsEmissionDirectScope1']*(df.loc[:,'EmissionIndicators.TotalCO2EquivalentsEmissionsToRevenues']/df.loc[:,'EmissionDataPoints.CO2EquivalentsEmissionTotal'])\n"
     ]
    },
    {
     "name": "stdout",
     "output_type": "stream",
     "text": [
      "predictions based on orgid\n",
      "predictions based on orgid\n",
      "predictions based on sector (using scaled data)\n",
      "predictions based on sector (using scaled data)\n"
     ]
    },
    {
     "name": "stderr",
     "output_type": "stream",
     "text": [
      "/var/folders/s_/qtbdy3px3m3_6k7xydrkhbsh0000gn/T/ipykernel_7686/191058123.py:3: SettingWithCopyWarning: \n",
      "A value is trying to be set on a copy of a slice from a DataFrame.\n",
      "Try using .loc[row_indexer,col_indexer] = value instead\n",
      "\n",
      "See the caveats in the documentation: https://pandas.pydata.org/pandas-docs/stable/user_guide/indexing.html#returning-a-view-versus-a-copy\n",
      "  df.loc[:,'CO2toRevenue'] = df.loc[:,'EmissionDataPoints.CO2EquivalentsEmissionDirectScope1']*(df.loc[:,'EmissionIndicators.TotalCO2EquivalentsEmissionsToRevenues']/df.loc[:,'EmissionDataPoints.CO2EquivalentsEmissionTotal'])\n",
      "/var/folders/s_/qtbdy3px3m3_6k7xydrkhbsh0000gn/T/ipykernel_7686/191058123.py:3: SettingWithCopyWarning: \n",
      "A value is trying to be set on a copy of a slice from a DataFrame.\n",
      "Try using .loc[row_indexer,col_indexer] = value instead\n",
      "\n",
      "See the caveats in the documentation: https://pandas.pydata.org/pandas-docs/stable/user_guide/indexing.html#returning-a-view-versus-a-copy\n",
      "  df.loc[:,'CO2toRevenue'] = df.loc[:,'EmissionDataPoints.CO2EquivalentsEmissionDirectScope1']*(df.loc[:,'EmissionIndicators.TotalCO2EquivalentsEmissionsToRevenues']/df.loc[:,'EmissionDataPoints.CO2EquivalentsEmissionTotal'])\n"
     ]
    },
    {
     "name": "stdout",
     "output_type": "stream",
     "text": [
      "predictions based on sector (using scaled data)\n",
      "predictions based on orgid\n",
      "predictions based on orgid\n",
      "predictions based on sector (using scaled data)\n"
     ]
    },
    {
     "name": "stderr",
     "output_type": "stream",
     "text": [
      "/var/folders/s_/qtbdy3px3m3_6k7xydrkhbsh0000gn/T/ipykernel_7686/191058123.py:3: SettingWithCopyWarning: \n",
      "A value is trying to be set on a copy of a slice from a DataFrame.\n",
      "Try using .loc[row_indexer,col_indexer] = value instead\n",
      "\n",
      "See the caveats in the documentation: https://pandas.pydata.org/pandas-docs/stable/user_guide/indexing.html#returning-a-view-versus-a-copy\n",
      "  df.loc[:,'CO2toRevenue'] = df.loc[:,'EmissionDataPoints.CO2EquivalentsEmissionDirectScope1']*(df.loc[:,'EmissionIndicators.TotalCO2EquivalentsEmissionsToRevenues']/df.loc[:,'EmissionDataPoints.CO2EquivalentsEmissionTotal'])\n",
      "/var/folders/s_/qtbdy3px3m3_6k7xydrkhbsh0000gn/T/ipykernel_7686/191058123.py:3: SettingWithCopyWarning: \n",
      "A value is trying to be set on a copy of a slice from a DataFrame.\n",
      "Try using .loc[row_indexer,col_indexer] = value instead\n",
      "\n",
      "See the caveats in the documentation: https://pandas.pydata.org/pandas-docs/stable/user_guide/indexing.html#returning-a-view-versus-a-copy\n",
      "  df.loc[:,'CO2toRevenue'] = df.loc[:,'EmissionDataPoints.CO2EquivalentsEmissionDirectScope1']*(df.loc[:,'EmissionIndicators.TotalCO2EquivalentsEmissionsToRevenues']/df.loc[:,'EmissionDataPoints.CO2EquivalentsEmissionTotal'])\n"
     ]
    },
    {
     "name": "stdout",
     "output_type": "stream",
     "text": [
      "predictions based on sector (using scaled data)\n",
      "predictions based on sector (using scaled data)\n"
     ]
    },
    {
     "name": "stderr",
     "output_type": "stream",
     "text": [
      "/var/folders/s_/qtbdy3px3m3_6k7xydrkhbsh0000gn/T/ipykernel_7686/191058123.py:3: SettingWithCopyWarning: \n",
      "A value is trying to be set on a copy of a slice from a DataFrame.\n",
      "Try using .loc[row_indexer,col_indexer] = value instead\n",
      "\n",
      "See the caveats in the documentation: https://pandas.pydata.org/pandas-docs/stable/user_guide/indexing.html#returning-a-view-versus-a-copy\n",
      "  df.loc[:,'CO2toRevenue'] = df.loc[:,'EmissionDataPoints.CO2EquivalentsEmissionDirectScope1']*(df.loc[:,'EmissionIndicators.TotalCO2EquivalentsEmissionsToRevenues']/df.loc[:,'EmissionDataPoints.CO2EquivalentsEmissionTotal'])\n",
      "/var/folders/s_/qtbdy3px3m3_6k7xydrkhbsh0000gn/T/ipykernel_7686/191058123.py:3: SettingWithCopyWarning: \n",
      "A value is trying to be set on a copy of a slice from a DataFrame.\n",
      "Try using .loc[row_indexer,col_indexer] = value instead\n",
      "\n",
      "See the caveats in the documentation: https://pandas.pydata.org/pandas-docs/stable/user_guide/indexing.html#returning-a-view-versus-a-copy\n",
      "  df.loc[:,'CO2toRevenue'] = df.loc[:,'EmissionDataPoints.CO2EquivalentsEmissionDirectScope1']*(df.loc[:,'EmissionIndicators.TotalCO2EquivalentsEmissionsToRevenues']/df.loc[:,'EmissionDataPoints.CO2EquivalentsEmissionTotal'])\n"
     ]
    },
    {
     "name": "stdout",
     "output_type": "stream",
     "text": [
      "predictions based on sector (using scaled data)\n",
      "predictions based on sector (using scaled data)\n"
     ]
    },
    {
     "name": "stderr",
     "output_type": "stream",
     "text": [
      "/var/folders/s_/qtbdy3px3m3_6k7xydrkhbsh0000gn/T/ipykernel_7686/191058123.py:3: SettingWithCopyWarning: \n",
      "A value is trying to be set on a copy of a slice from a DataFrame.\n",
      "Try using .loc[row_indexer,col_indexer] = value instead\n",
      "\n",
      "See the caveats in the documentation: https://pandas.pydata.org/pandas-docs/stable/user_guide/indexing.html#returning-a-view-versus-a-copy\n",
      "  df.loc[:,'CO2toRevenue'] = df.loc[:,'EmissionDataPoints.CO2EquivalentsEmissionDirectScope1']*(df.loc[:,'EmissionIndicators.TotalCO2EquivalentsEmissionsToRevenues']/df.loc[:,'EmissionDataPoints.CO2EquivalentsEmissionTotal'])\n",
      "/var/folders/s_/qtbdy3px3m3_6k7xydrkhbsh0000gn/T/ipykernel_7686/191058123.py:3: SettingWithCopyWarning: \n",
      "A value is trying to be set on a copy of a slice from a DataFrame.\n",
      "Try using .loc[row_indexer,col_indexer] = value instead\n",
      "\n",
      "See the caveats in the documentation: https://pandas.pydata.org/pandas-docs/stable/user_guide/indexing.html#returning-a-view-versus-a-copy\n",
      "  df.loc[:,'CO2toRevenue'] = df.loc[:,'EmissionDataPoints.CO2EquivalentsEmissionDirectScope1']*(df.loc[:,'EmissionIndicators.TotalCO2EquivalentsEmissionsToRevenues']/df.loc[:,'EmissionDataPoints.CO2EquivalentsEmissionTotal'])\n"
     ]
    },
    {
     "name": "stdout",
     "output_type": "stream",
     "text": [
      "predictions based on sector (using scaled data)\n",
      "predictions based on orgid\n",
      "predictions based on orgid\n",
      "predictions based on sector (using scaled data)\n"
     ]
    },
    {
     "name": "stderr",
     "output_type": "stream",
     "text": [
      "/var/folders/s_/qtbdy3px3m3_6k7xydrkhbsh0000gn/T/ipykernel_7686/191058123.py:3: SettingWithCopyWarning: \n",
      "A value is trying to be set on a copy of a slice from a DataFrame.\n",
      "Try using .loc[row_indexer,col_indexer] = value instead\n",
      "\n",
      "See the caveats in the documentation: https://pandas.pydata.org/pandas-docs/stable/user_guide/indexing.html#returning-a-view-versus-a-copy\n",
      "  df.loc[:,'CO2toRevenue'] = df.loc[:,'EmissionDataPoints.CO2EquivalentsEmissionDirectScope1']*(df.loc[:,'EmissionIndicators.TotalCO2EquivalentsEmissionsToRevenues']/df.loc[:,'EmissionDataPoints.CO2EquivalentsEmissionTotal'])\n",
      "/var/folders/s_/qtbdy3px3m3_6k7xydrkhbsh0000gn/T/ipykernel_7686/191058123.py:3: SettingWithCopyWarning: \n",
      "A value is trying to be set on a copy of a slice from a DataFrame.\n",
      "Try using .loc[row_indexer,col_indexer] = value instead\n",
      "\n",
      "See the caveats in the documentation: https://pandas.pydata.org/pandas-docs/stable/user_guide/indexing.html#returning-a-view-versus-a-copy\n",
      "  df.loc[:,'CO2toRevenue'] = df.loc[:,'EmissionDataPoints.CO2EquivalentsEmissionDirectScope1']*(df.loc[:,'EmissionIndicators.TotalCO2EquivalentsEmissionsToRevenues']/df.loc[:,'EmissionDataPoints.CO2EquivalentsEmissionTotal'])\n"
     ]
    },
    {
     "name": "stdout",
     "output_type": "stream",
     "text": [
      "predictions based on orgid\n",
      "predictions based on orgid\n",
      "predictions based on sector (using scaled data)\n",
      "predictions based on orgid\n",
      "predictions based on orgid\n",
      "predictions based on orgid\n",
      "predictions based on orgid\n",
      "predictions based on orgid\n",
      "predictions based on orgid\n",
      "predictions based on orgid\n",
      "predictions based on orgid\n",
      "predictions based on sector (using scaled data)\n",
      "predictions based on sector (using scaled data)\n"
     ]
    },
    {
     "name": "stderr",
     "output_type": "stream",
     "text": [
      "/var/folders/s_/qtbdy3px3m3_6k7xydrkhbsh0000gn/T/ipykernel_7686/191058123.py:3: SettingWithCopyWarning: \n",
      "A value is trying to be set on a copy of a slice from a DataFrame.\n",
      "Try using .loc[row_indexer,col_indexer] = value instead\n",
      "\n",
      "See the caveats in the documentation: https://pandas.pydata.org/pandas-docs/stable/user_guide/indexing.html#returning-a-view-versus-a-copy\n",
      "  df.loc[:,'CO2toRevenue'] = df.loc[:,'EmissionDataPoints.CO2EquivalentsEmissionDirectScope1']*(df.loc[:,'EmissionIndicators.TotalCO2EquivalentsEmissionsToRevenues']/df.loc[:,'EmissionDataPoints.CO2EquivalentsEmissionTotal'])\n",
      "/var/folders/s_/qtbdy3px3m3_6k7xydrkhbsh0000gn/T/ipykernel_7686/191058123.py:3: SettingWithCopyWarning: \n",
      "A value is trying to be set on a copy of a slice from a DataFrame.\n",
      "Try using .loc[row_indexer,col_indexer] = value instead\n",
      "\n",
      "See the caveats in the documentation: https://pandas.pydata.org/pandas-docs/stable/user_guide/indexing.html#returning-a-view-versus-a-copy\n",
      "  df.loc[:,'CO2toRevenue'] = df.loc[:,'EmissionDataPoints.CO2EquivalentsEmissionDirectScope1']*(df.loc[:,'EmissionIndicators.TotalCO2EquivalentsEmissionsToRevenues']/df.loc[:,'EmissionDataPoints.CO2EquivalentsEmissionTotal'])\n",
      "/var/folders/s_/qtbdy3px3m3_6k7xydrkhbsh0000gn/T/ipykernel_7686/191058123.py:3: SettingWithCopyWarning: \n",
      "A value is trying to be set on a copy of a slice from a DataFrame.\n",
      "Try using .loc[row_indexer,col_indexer] = value instead\n",
      "\n",
      "See the caveats in the documentation: https://pandas.pydata.org/pandas-docs/stable/user_guide/indexing.html#returning-a-view-versus-a-copy\n",
      "  df.loc[:,'CO2toRevenue'] = df.loc[:,'EmissionDataPoints.CO2EquivalentsEmissionDirectScope1']*(df.loc[:,'EmissionIndicators.TotalCO2EquivalentsEmissionsToRevenues']/df.loc[:,'EmissionDataPoints.CO2EquivalentsEmissionTotal'])\n"
     ]
    },
    {
     "name": "stdout",
     "output_type": "stream",
     "text": [
      "predictions based on sector (using scaled data)\n",
      "predictions based on sector (using scaled data)\n"
     ]
    },
    {
     "name": "stderr",
     "output_type": "stream",
     "text": [
      "/var/folders/s_/qtbdy3px3m3_6k7xydrkhbsh0000gn/T/ipykernel_7686/191058123.py:3: SettingWithCopyWarning: \n",
      "A value is trying to be set on a copy of a slice from a DataFrame.\n",
      "Try using .loc[row_indexer,col_indexer] = value instead\n",
      "\n",
      "See the caveats in the documentation: https://pandas.pydata.org/pandas-docs/stable/user_guide/indexing.html#returning-a-view-versus-a-copy\n",
      "  df.loc[:,'CO2toRevenue'] = df.loc[:,'EmissionDataPoints.CO2EquivalentsEmissionDirectScope1']*(df.loc[:,'EmissionIndicators.TotalCO2EquivalentsEmissionsToRevenues']/df.loc[:,'EmissionDataPoints.CO2EquivalentsEmissionTotal'])\n",
      "/var/folders/s_/qtbdy3px3m3_6k7xydrkhbsh0000gn/T/ipykernel_7686/191058123.py:3: SettingWithCopyWarning: \n",
      "A value is trying to be set on a copy of a slice from a DataFrame.\n",
      "Try using .loc[row_indexer,col_indexer] = value instead\n",
      "\n",
      "See the caveats in the documentation: https://pandas.pydata.org/pandas-docs/stable/user_guide/indexing.html#returning-a-view-versus-a-copy\n",
      "  df.loc[:,'CO2toRevenue'] = df.loc[:,'EmissionDataPoints.CO2EquivalentsEmissionDirectScope1']*(df.loc[:,'EmissionIndicators.TotalCO2EquivalentsEmissionsToRevenues']/df.loc[:,'EmissionDataPoints.CO2EquivalentsEmissionTotal'])\n"
     ]
    },
    {
     "name": "stdout",
     "output_type": "stream",
     "text": [
      "predictions based on sector (using scaled data)\n",
      "predictions based on sector (using scaled data)\n",
      "predictions based on orgid\n",
      "predictions based on sector (using scaled data)\n"
     ]
    },
    {
     "name": "stderr",
     "output_type": "stream",
     "text": [
      "/var/folders/s_/qtbdy3px3m3_6k7xydrkhbsh0000gn/T/ipykernel_7686/191058123.py:3: SettingWithCopyWarning: \n",
      "A value is trying to be set on a copy of a slice from a DataFrame.\n",
      "Try using .loc[row_indexer,col_indexer] = value instead\n",
      "\n",
      "See the caveats in the documentation: https://pandas.pydata.org/pandas-docs/stable/user_guide/indexing.html#returning-a-view-versus-a-copy\n",
      "  df.loc[:,'CO2toRevenue'] = df.loc[:,'EmissionDataPoints.CO2EquivalentsEmissionDirectScope1']*(df.loc[:,'EmissionIndicators.TotalCO2EquivalentsEmissionsToRevenues']/df.loc[:,'EmissionDataPoints.CO2EquivalentsEmissionTotal'])\n",
      "/var/folders/s_/qtbdy3px3m3_6k7xydrkhbsh0000gn/T/ipykernel_7686/191058123.py:3: SettingWithCopyWarning: \n",
      "A value is trying to be set on a copy of a slice from a DataFrame.\n",
      "Try using .loc[row_indexer,col_indexer] = value instead\n",
      "\n",
      "See the caveats in the documentation: https://pandas.pydata.org/pandas-docs/stable/user_guide/indexing.html#returning-a-view-versus-a-copy\n",
      "  df.loc[:,'CO2toRevenue'] = df.loc[:,'EmissionDataPoints.CO2EquivalentsEmissionDirectScope1']*(df.loc[:,'EmissionIndicators.TotalCO2EquivalentsEmissionsToRevenues']/df.loc[:,'EmissionDataPoints.CO2EquivalentsEmissionTotal'])\n",
      "/var/folders/s_/qtbdy3px3m3_6k7xydrkhbsh0000gn/T/ipykernel_7686/191058123.py:3: SettingWithCopyWarning: \n",
      "A value is trying to be set on a copy of a slice from a DataFrame.\n",
      "Try using .loc[row_indexer,col_indexer] = value instead\n",
      "\n",
      "See the caveats in the documentation: https://pandas.pydata.org/pandas-docs/stable/user_guide/indexing.html#returning-a-view-versus-a-copy\n",
      "  df.loc[:,'CO2toRevenue'] = df.loc[:,'EmissionDataPoints.CO2EquivalentsEmissionDirectScope1']*(df.loc[:,'EmissionIndicators.TotalCO2EquivalentsEmissionsToRevenues']/df.loc[:,'EmissionDataPoints.CO2EquivalentsEmissionTotal'])\n",
      "/var/folders/s_/qtbdy3px3m3_6k7xydrkhbsh0000gn/T/ipykernel_7686/191058123.py:3: SettingWithCopyWarning: \n",
      "A value is trying to be set on a copy of a slice from a DataFrame.\n",
      "Try using .loc[row_indexer,col_indexer] = value instead\n",
      "\n",
      "See the caveats in the documentation: https://pandas.pydata.org/pandas-docs/stable/user_guide/indexing.html#returning-a-view-versus-a-copy\n",
      "  df.loc[:,'CO2toRevenue'] = df.loc[:,'EmissionDataPoints.CO2EquivalentsEmissionDirectScope1']*(df.loc[:,'EmissionIndicators.TotalCO2EquivalentsEmissionsToRevenues']/df.loc[:,'EmissionDataPoints.CO2EquivalentsEmissionTotal'])\n",
      "/var/folders/s_/qtbdy3px3m3_6k7xydrkhbsh0000gn/T/ipykernel_7686/191058123.py:3: SettingWithCopyWarning: \n",
      "A value is trying to be set on a copy of a slice from a DataFrame.\n",
      "Try using .loc[row_indexer,col_indexer] = value instead\n",
      "\n",
      "See the caveats in the documentation: https://pandas.pydata.org/pandas-docs/stable/user_guide/indexing.html#returning-a-view-versus-a-copy\n",
      "  df.loc[:,'CO2toRevenue'] = df.loc[:,'EmissionDataPoints.CO2EquivalentsEmissionDirectScope1']*(df.loc[:,'EmissionIndicators.TotalCO2EquivalentsEmissionsToRevenues']/df.loc[:,'EmissionDataPoints.CO2EquivalentsEmissionTotal'])\n"
     ]
    },
    {
     "name": "stdout",
     "output_type": "stream",
     "text": [
      "predictions based on sector (using scaled data)\n",
      "predictions based on sector (using scaled data)\n",
      "predictions based on orgid\n",
      "predictions based on orgid\n",
      "predictions based on sector (using scaled data)\n"
     ]
    },
    {
     "name": "stderr",
     "output_type": "stream",
     "text": [
      "/var/folders/s_/qtbdy3px3m3_6k7xydrkhbsh0000gn/T/ipykernel_7686/191058123.py:3: SettingWithCopyWarning: \n",
      "A value is trying to be set on a copy of a slice from a DataFrame.\n",
      "Try using .loc[row_indexer,col_indexer] = value instead\n",
      "\n",
      "See the caveats in the documentation: https://pandas.pydata.org/pandas-docs/stable/user_guide/indexing.html#returning-a-view-versus-a-copy\n",
      "  df.loc[:,'CO2toRevenue'] = df.loc[:,'EmissionDataPoints.CO2EquivalentsEmissionDirectScope1']*(df.loc[:,'EmissionIndicators.TotalCO2EquivalentsEmissionsToRevenues']/df.loc[:,'EmissionDataPoints.CO2EquivalentsEmissionTotal'])\n",
      "/var/folders/s_/qtbdy3px3m3_6k7xydrkhbsh0000gn/T/ipykernel_7686/191058123.py:3: SettingWithCopyWarning: \n",
      "A value is trying to be set on a copy of a slice from a DataFrame.\n",
      "Try using .loc[row_indexer,col_indexer] = value instead\n",
      "\n",
      "See the caveats in the documentation: https://pandas.pydata.org/pandas-docs/stable/user_guide/indexing.html#returning-a-view-versus-a-copy\n",
      "  df.loc[:,'CO2toRevenue'] = df.loc[:,'EmissionDataPoints.CO2EquivalentsEmissionDirectScope1']*(df.loc[:,'EmissionIndicators.TotalCO2EquivalentsEmissionsToRevenues']/df.loc[:,'EmissionDataPoints.CO2EquivalentsEmissionTotal'])\n"
     ]
    },
    {
     "name": "stdout",
     "output_type": "stream",
     "text": [
      "predictions based on sector (using scaled data)\n",
      "predictions based on orgid\n",
      "predictions based on sector (using scaled data)\n"
     ]
    },
    {
     "name": "stderr",
     "output_type": "stream",
     "text": [
      "/var/folders/s_/qtbdy3px3m3_6k7xydrkhbsh0000gn/T/ipykernel_7686/191058123.py:3: SettingWithCopyWarning: \n",
      "A value is trying to be set on a copy of a slice from a DataFrame.\n",
      "Try using .loc[row_indexer,col_indexer] = value instead\n",
      "\n",
      "See the caveats in the documentation: https://pandas.pydata.org/pandas-docs/stable/user_guide/indexing.html#returning-a-view-versus-a-copy\n",
      "  df.loc[:,'CO2toRevenue'] = df.loc[:,'EmissionDataPoints.CO2EquivalentsEmissionDirectScope1']*(df.loc[:,'EmissionIndicators.TotalCO2EquivalentsEmissionsToRevenues']/df.loc[:,'EmissionDataPoints.CO2EquivalentsEmissionTotal'])\n",
      "/var/folders/s_/qtbdy3px3m3_6k7xydrkhbsh0000gn/T/ipykernel_7686/191058123.py:3: SettingWithCopyWarning: \n",
      "A value is trying to be set on a copy of a slice from a DataFrame.\n",
      "Try using .loc[row_indexer,col_indexer] = value instead\n",
      "\n",
      "See the caveats in the documentation: https://pandas.pydata.org/pandas-docs/stable/user_guide/indexing.html#returning-a-view-versus-a-copy\n",
      "  df.loc[:,'CO2toRevenue'] = df.loc[:,'EmissionDataPoints.CO2EquivalentsEmissionDirectScope1']*(df.loc[:,'EmissionIndicators.TotalCO2EquivalentsEmissionsToRevenues']/df.loc[:,'EmissionDataPoints.CO2EquivalentsEmissionTotal'])\n"
     ]
    },
    {
     "name": "stdout",
     "output_type": "stream",
     "text": [
      "predictions based on orgid\n",
      "predictions based on orgid\n",
      "predictions based on orgid\n",
      "predictions based on sector (using scaled data)\n",
      "predictions based on sector (using scaled data)\n"
     ]
    },
    {
     "name": "stderr",
     "output_type": "stream",
     "text": [
      "/var/folders/s_/qtbdy3px3m3_6k7xydrkhbsh0000gn/T/ipykernel_7686/191058123.py:3: SettingWithCopyWarning: \n",
      "A value is trying to be set on a copy of a slice from a DataFrame.\n",
      "Try using .loc[row_indexer,col_indexer] = value instead\n",
      "\n",
      "See the caveats in the documentation: https://pandas.pydata.org/pandas-docs/stable/user_guide/indexing.html#returning-a-view-versus-a-copy\n",
      "  df.loc[:,'CO2toRevenue'] = df.loc[:,'EmissionDataPoints.CO2EquivalentsEmissionDirectScope1']*(df.loc[:,'EmissionIndicators.TotalCO2EquivalentsEmissionsToRevenues']/df.loc[:,'EmissionDataPoints.CO2EquivalentsEmissionTotal'])\n",
      "/var/folders/s_/qtbdy3px3m3_6k7xydrkhbsh0000gn/T/ipykernel_7686/191058123.py:3: SettingWithCopyWarning: \n",
      "A value is trying to be set on a copy of a slice from a DataFrame.\n",
      "Try using .loc[row_indexer,col_indexer] = value instead\n",
      "\n",
      "See the caveats in the documentation: https://pandas.pydata.org/pandas-docs/stable/user_guide/indexing.html#returning-a-view-versus-a-copy\n",
      "  df.loc[:,'CO2toRevenue'] = df.loc[:,'EmissionDataPoints.CO2EquivalentsEmissionDirectScope1']*(df.loc[:,'EmissionIndicators.TotalCO2EquivalentsEmissionsToRevenues']/df.loc[:,'EmissionDataPoints.CO2EquivalentsEmissionTotal'])\n"
     ]
    },
    {
     "name": "stdout",
     "output_type": "stream",
     "text": [
      "predictions based on sector (using scaled data)\n",
      "predictions based on sector (using scaled data)\n"
     ]
    },
    {
     "name": "stderr",
     "output_type": "stream",
     "text": [
      "/var/folders/s_/qtbdy3px3m3_6k7xydrkhbsh0000gn/T/ipykernel_7686/191058123.py:3: SettingWithCopyWarning: \n",
      "A value is trying to be set on a copy of a slice from a DataFrame.\n",
      "Try using .loc[row_indexer,col_indexer] = value instead\n",
      "\n",
      "See the caveats in the documentation: https://pandas.pydata.org/pandas-docs/stable/user_guide/indexing.html#returning-a-view-versus-a-copy\n",
      "  df.loc[:,'CO2toRevenue'] = df.loc[:,'EmissionDataPoints.CO2EquivalentsEmissionDirectScope1']*(df.loc[:,'EmissionIndicators.TotalCO2EquivalentsEmissionsToRevenues']/df.loc[:,'EmissionDataPoints.CO2EquivalentsEmissionTotal'])\n",
      "/var/folders/s_/qtbdy3px3m3_6k7xydrkhbsh0000gn/T/ipykernel_7686/191058123.py:3: SettingWithCopyWarning: \n",
      "A value is trying to be set on a copy of a slice from a DataFrame.\n",
      "Try using .loc[row_indexer,col_indexer] = value instead\n",
      "\n",
      "See the caveats in the documentation: https://pandas.pydata.org/pandas-docs/stable/user_guide/indexing.html#returning-a-view-versus-a-copy\n",
      "  df.loc[:,'CO2toRevenue'] = df.loc[:,'EmissionDataPoints.CO2EquivalentsEmissionDirectScope1']*(df.loc[:,'EmissionIndicators.TotalCO2EquivalentsEmissionsToRevenues']/df.loc[:,'EmissionDataPoints.CO2EquivalentsEmissionTotal'])\n"
     ]
    },
    {
     "name": "stdout",
     "output_type": "stream",
     "text": [
      "predictions based on orgid\n",
      "predictions based on orgid\n",
      "predictions based on orgid\n",
      "predictions based on sector (using scaled data)\n",
      "predictions based on sector (using scaled data)\n"
     ]
    },
    {
     "name": "stderr",
     "output_type": "stream",
     "text": [
      "/var/folders/s_/qtbdy3px3m3_6k7xydrkhbsh0000gn/T/ipykernel_7686/191058123.py:3: SettingWithCopyWarning: \n",
      "A value is trying to be set on a copy of a slice from a DataFrame.\n",
      "Try using .loc[row_indexer,col_indexer] = value instead\n",
      "\n",
      "See the caveats in the documentation: https://pandas.pydata.org/pandas-docs/stable/user_guide/indexing.html#returning-a-view-versus-a-copy\n",
      "  df.loc[:,'CO2toRevenue'] = df.loc[:,'EmissionDataPoints.CO2EquivalentsEmissionDirectScope1']*(df.loc[:,'EmissionIndicators.TotalCO2EquivalentsEmissionsToRevenues']/df.loc[:,'EmissionDataPoints.CO2EquivalentsEmissionTotal'])\n",
      "/var/folders/s_/qtbdy3px3m3_6k7xydrkhbsh0000gn/T/ipykernel_7686/191058123.py:3: SettingWithCopyWarning: \n",
      "A value is trying to be set on a copy of a slice from a DataFrame.\n",
      "Try using .loc[row_indexer,col_indexer] = value instead\n",
      "\n",
      "See the caveats in the documentation: https://pandas.pydata.org/pandas-docs/stable/user_guide/indexing.html#returning-a-view-versus-a-copy\n",
      "  df.loc[:,'CO2toRevenue'] = df.loc[:,'EmissionDataPoints.CO2EquivalentsEmissionDirectScope1']*(df.loc[:,'EmissionIndicators.TotalCO2EquivalentsEmissionsToRevenues']/df.loc[:,'EmissionDataPoints.CO2EquivalentsEmissionTotal'])\n"
     ]
    },
    {
     "name": "stdout",
     "output_type": "stream",
     "text": [
      "predictions based on orgid\n",
      "predictions based on sector (using scaled data)\n",
      "predictions based on orgid\n",
      "predictions based on orgid\n",
      "predictions based on sector (using scaled data)\n"
     ]
    },
    {
     "name": "stderr",
     "output_type": "stream",
     "text": [
      "/var/folders/s_/qtbdy3px3m3_6k7xydrkhbsh0000gn/T/ipykernel_7686/191058123.py:3: SettingWithCopyWarning: \n",
      "A value is trying to be set on a copy of a slice from a DataFrame.\n",
      "Try using .loc[row_indexer,col_indexer] = value instead\n",
      "\n",
      "See the caveats in the documentation: https://pandas.pydata.org/pandas-docs/stable/user_guide/indexing.html#returning-a-view-versus-a-copy\n",
      "  df.loc[:,'CO2toRevenue'] = df.loc[:,'EmissionDataPoints.CO2EquivalentsEmissionDirectScope1']*(df.loc[:,'EmissionIndicators.TotalCO2EquivalentsEmissionsToRevenues']/df.loc[:,'EmissionDataPoints.CO2EquivalentsEmissionTotal'])\n",
      "/var/folders/s_/qtbdy3px3m3_6k7xydrkhbsh0000gn/T/ipykernel_7686/191058123.py:3: SettingWithCopyWarning: \n",
      "A value is trying to be set on a copy of a slice from a DataFrame.\n",
      "Try using .loc[row_indexer,col_indexer] = value instead\n",
      "\n",
      "See the caveats in the documentation: https://pandas.pydata.org/pandas-docs/stable/user_guide/indexing.html#returning-a-view-versus-a-copy\n",
      "  df.loc[:,'CO2toRevenue'] = df.loc[:,'EmissionDataPoints.CO2EquivalentsEmissionDirectScope1']*(df.loc[:,'EmissionIndicators.TotalCO2EquivalentsEmissionsToRevenues']/df.loc[:,'EmissionDataPoints.CO2EquivalentsEmissionTotal'])\n"
     ]
    },
    {
     "name": "stdout",
     "output_type": "stream",
     "text": [
      "predictions based on sector (using scaled data)\n",
      "predictions based on sector (using scaled data)\n",
      "predictions based on orgid\n",
      "predictions based on sector (using scaled data)\n",
      "predictions based on orgid\n",
      "predictions based on orgid\n",
      "predictions based on sector (using scaled data)\n",
      "predictions based on sector (using scaled data)\n"
     ]
    },
    {
     "name": "stderr",
     "output_type": "stream",
     "text": [
      "/var/folders/s_/qtbdy3px3m3_6k7xydrkhbsh0000gn/T/ipykernel_7686/191058123.py:3: SettingWithCopyWarning: \n",
      "A value is trying to be set on a copy of a slice from a DataFrame.\n",
      "Try using .loc[row_indexer,col_indexer] = value instead\n",
      "\n",
      "See the caveats in the documentation: https://pandas.pydata.org/pandas-docs/stable/user_guide/indexing.html#returning-a-view-versus-a-copy\n",
      "  df.loc[:,'CO2toRevenue'] = df.loc[:,'EmissionDataPoints.CO2EquivalentsEmissionDirectScope1']*(df.loc[:,'EmissionIndicators.TotalCO2EquivalentsEmissionsToRevenues']/df.loc[:,'EmissionDataPoints.CO2EquivalentsEmissionTotal'])\n",
      "/var/folders/s_/qtbdy3px3m3_6k7xydrkhbsh0000gn/T/ipykernel_7686/191058123.py:3: SettingWithCopyWarning: \n",
      "A value is trying to be set on a copy of a slice from a DataFrame.\n",
      "Try using .loc[row_indexer,col_indexer] = value instead\n",
      "\n",
      "See the caveats in the documentation: https://pandas.pydata.org/pandas-docs/stable/user_guide/indexing.html#returning-a-view-versus-a-copy\n",
      "  df.loc[:,'CO2toRevenue'] = df.loc[:,'EmissionDataPoints.CO2EquivalentsEmissionDirectScope1']*(df.loc[:,'EmissionIndicators.TotalCO2EquivalentsEmissionsToRevenues']/df.loc[:,'EmissionDataPoints.CO2EquivalentsEmissionTotal'])\n",
      "/var/folders/s_/qtbdy3px3m3_6k7xydrkhbsh0000gn/T/ipykernel_7686/191058123.py:3: SettingWithCopyWarning: \n",
      "A value is trying to be set on a copy of a slice from a DataFrame.\n",
      "Try using .loc[row_indexer,col_indexer] = value instead\n",
      "\n",
      "See the caveats in the documentation: https://pandas.pydata.org/pandas-docs/stable/user_guide/indexing.html#returning-a-view-versus-a-copy\n",
      "  df.loc[:,'CO2toRevenue'] = df.loc[:,'EmissionDataPoints.CO2EquivalentsEmissionDirectScope1']*(df.loc[:,'EmissionIndicators.TotalCO2EquivalentsEmissionsToRevenues']/df.loc[:,'EmissionDataPoints.CO2EquivalentsEmissionTotal'])\n",
      "/var/folders/s_/qtbdy3px3m3_6k7xydrkhbsh0000gn/T/ipykernel_7686/191058123.py:3: SettingWithCopyWarning: \n",
      "A value is trying to be set on a copy of a slice from a DataFrame.\n",
      "Try using .loc[row_indexer,col_indexer] = value instead\n",
      "\n",
      "See the caveats in the documentation: https://pandas.pydata.org/pandas-docs/stable/user_guide/indexing.html#returning-a-view-versus-a-copy\n",
      "  df.loc[:,'CO2toRevenue'] = df.loc[:,'EmissionDataPoints.CO2EquivalentsEmissionDirectScope1']*(df.loc[:,'EmissionIndicators.TotalCO2EquivalentsEmissionsToRevenues']/df.loc[:,'EmissionDataPoints.CO2EquivalentsEmissionTotal'])\n",
      "/var/folders/s_/qtbdy3px3m3_6k7xydrkhbsh0000gn/T/ipykernel_7686/191058123.py:3: SettingWithCopyWarning: \n",
      "A value is trying to be set on a copy of a slice from a DataFrame.\n",
      "Try using .loc[row_indexer,col_indexer] = value instead\n",
      "\n",
      "See the caveats in the documentation: https://pandas.pydata.org/pandas-docs/stable/user_guide/indexing.html#returning-a-view-versus-a-copy\n",
      "  df.loc[:,'CO2toRevenue'] = df.loc[:,'EmissionDataPoints.CO2EquivalentsEmissionDirectScope1']*(df.loc[:,'EmissionIndicators.TotalCO2EquivalentsEmissionsToRevenues']/df.loc[:,'EmissionDataPoints.CO2EquivalentsEmissionTotal'])\n",
      "/var/folders/s_/qtbdy3px3m3_6k7xydrkhbsh0000gn/T/ipykernel_7686/191058123.py:3: SettingWithCopyWarning: \n",
      "A value is trying to be set on a copy of a slice from a DataFrame.\n",
      "Try using .loc[row_indexer,col_indexer] = value instead\n",
      "\n",
      "See the caveats in the documentation: https://pandas.pydata.org/pandas-docs/stable/user_guide/indexing.html#returning-a-view-versus-a-copy\n",
      "  df.loc[:,'CO2toRevenue'] = df.loc[:,'EmissionDataPoints.CO2EquivalentsEmissionDirectScope1']*(df.loc[:,'EmissionIndicators.TotalCO2EquivalentsEmissionsToRevenues']/df.loc[:,'EmissionDataPoints.CO2EquivalentsEmissionTotal'])\n"
     ]
    },
    {
     "name": "stdout",
     "output_type": "stream",
     "text": [
      "predictions based on sector (using scaled data)\n",
      "predictions based on sector (using scaled data)\n",
      "predictions based on sector (using scaled data)\n"
     ]
    },
    {
     "name": "stderr",
     "output_type": "stream",
     "text": [
      "/var/folders/s_/qtbdy3px3m3_6k7xydrkhbsh0000gn/T/ipykernel_7686/191058123.py:3: SettingWithCopyWarning: \n",
      "A value is trying to be set on a copy of a slice from a DataFrame.\n",
      "Try using .loc[row_indexer,col_indexer] = value instead\n",
      "\n",
      "See the caveats in the documentation: https://pandas.pydata.org/pandas-docs/stable/user_guide/indexing.html#returning-a-view-versus-a-copy\n",
      "  df.loc[:,'CO2toRevenue'] = df.loc[:,'EmissionDataPoints.CO2EquivalentsEmissionDirectScope1']*(df.loc[:,'EmissionIndicators.TotalCO2EquivalentsEmissionsToRevenues']/df.loc[:,'EmissionDataPoints.CO2EquivalentsEmissionTotal'])\n",
      "/var/folders/s_/qtbdy3px3m3_6k7xydrkhbsh0000gn/T/ipykernel_7686/191058123.py:3: SettingWithCopyWarning: \n",
      "A value is trying to be set on a copy of a slice from a DataFrame.\n",
      "Try using .loc[row_indexer,col_indexer] = value instead\n",
      "\n",
      "See the caveats in the documentation: https://pandas.pydata.org/pandas-docs/stable/user_guide/indexing.html#returning-a-view-versus-a-copy\n",
      "  df.loc[:,'CO2toRevenue'] = df.loc[:,'EmissionDataPoints.CO2EquivalentsEmissionDirectScope1']*(df.loc[:,'EmissionIndicators.TotalCO2EquivalentsEmissionsToRevenues']/df.loc[:,'EmissionDataPoints.CO2EquivalentsEmissionTotal'])\n",
      "/var/folders/s_/qtbdy3px3m3_6k7xydrkhbsh0000gn/T/ipykernel_7686/191058123.py:3: SettingWithCopyWarning: \n",
      "A value is trying to be set on a copy of a slice from a DataFrame.\n",
      "Try using .loc[row_indexer,col_indexer] = value instead\n",
      "\n",
      "See the caveats in the documentation: https://pandas.pydata.org/pandas-docs/stable/user_guide/indexing.html#returning-a-view-versus-a-copy\n",
      "  df.loc[:,'CO2toRevenue'] = df.loc[:,'EmissionDataPoints.CO2EquivalentsEmissionDirectScope1']*(df.loc[:,'EmissionIndicators.TotalCO2EquivalentsEmissionsToRevenues']/df.loc[:,'EmissionDataPoints.CO2EquivalentsEmissionTotal'])\n"
     ]
    },
    {
     "name": "stdout",
     "output_type": "stream",
     "text": [
      "predictions based on sector (using scaled data)\n",
      "predictions based on orgid\n",
      "predictions based on sector (using scaled data)\n",
      "predictions based on orgid\n",
      "predictions based on orgid\n",
      "predictions based on sector (using scaled data)\n",
      "predictions based on sector (using scaled data)\n"
     ]
    },
    {
     "name": "stderr",
     "output_type": "stream",
     "text": [
      "/var/folders/s_/qtbdy3px3m3_6k7xydrkhbsh0000gn/T/ipykernel_7686/191058123.py:3: SettingWithCopyWarning: \n",
      "A value is trying to be set on a copy of a slice from a DataFrame.\n",
      "Try using .loc[row_indexer,col_indexer] = value instead\n",
      "\n",
      "See the caveats in the documentation: https://pandas.pydata.org/pandas-docs/stable/user_guide/indexing.html#returning-a-view-versus-a-copy\n",
      "  df.loc[:,'CO2toRevenue'] = df.loc[:,'EmissionDataPoints.CO2EquivalentsEmissionDirectScope1']*(df.loc[:,'EmissionIndicators.TotalCO2EquivalentsEmissionsToRevenues']/df.loc[:,'EmissionDataPoints.CO2EquivalentsEmissionTotal'])\n",
      "/var/folders/s_/qtbdy3px3m3_6k7xydrkhbsh0000gn/T/ipykernel_7686/191058123.py:3: SettingWithCopyWarning: \n",
      "A value is trying to be set on a copy of a slice from a DataFrame.\n",
      "Try using .loc[row_indexer,col_indexer] = value instead\n",
      "\n",
      "See the caveats in the documentation: https://pandas.pydata.org/pandas-docs/stable/user_guide/indexing.html#returning-a-view-versus-a-copy\n",
      "  df.loc[:,'CO2toRevenue'] = df.loc[:,'EmissionDataPoints.CO2EquivalentsEmissionDirectScope1']*(df.loc[:,'EmissionIndicators.TotalCO2EquivalentsEmissionsToRevenues']/df.loc[:,'EmissionDataPoints.CO2EquivalentsEmissionTotal'])\n"
     ]
    },
    {
     "name": "stdout",
     "output_type": "stream",
     "text": [
      "predictions based on sector (using scaled data)\n",
      "predictions based on sector (using scaled data)\n"
     ]
    },
    {
     "name": "stderr",
     "output_type": "stream",
     "text": [
      "/var/folders/s_/qtbdy3px3m3_6k7xydrkhbsh0000gn/T/ipykernel_7686/191058123.py:3: SettingWithCopyWarning: \n",
      "A value is trying to be set on a copy of a slice from a DataFrame.\n",
      "Try using .loc[row_indexer,col_indexer] = value instead\n",
      "\n",
      "See the caveats in the documentation: https://pandas.pydata.org/pandas-docs/stable/user_guide/indexing.html#returning-a-view-versus-a-copy\n",
      "  df.loc[:,'CO2toRevenue'] = df.loc[:,'EmissionDataPoints.CO2EquivalentsEmissionDirectScope1']*(df.loc[:,'EmissionIndicators.TotalCO2EquivalentsEmissionsToRevenues']/df.loc[:,'EmissionDataPoints.CO2EquivalentsEmissionTotal'])\n",
      "/var/folders/s_/qtbdy3px3m3_6k7xydrkhbsh0000gn/T/ipykernel_7686/191058123.py:3: SettingWithCopyWarning: \n",
      "A value is trying to be set on a copy of a slice from a DataFrame.\n",
      "Try using .loc[row_indexer,col_indexer] = value instead\n",
      "\n",
      "See the caveats in the documentation: https://pandas.pydata.org/pandas-docs/stable/user_guide/indexing.html#returning-a-view-versus-a-copy\n",
      "  df.loc[:,'CO2toRevenue'] = df.loc[:,'EmissionDataPoints.CO2EquivalentsEmissionDirectScope1']*(df.loc[:,'EmissionIndicators.TotalCO2EquivalentsEmissionsToRevenues']/df.loc[:,'EmissionDataPoints.CO2EquivalentsEmissionTotal'])\n"
     ]
    },
    {
     "name": "stdout",
     "output_type": "stream",
     "text": [
      "predictions based on sector (using scaled data)\n",
      "predictions based on sector (using scaled data)\n",
      "predictions based on sector (using scaled data)\n"
     ]
    },
    {
     "name": "stderr",
     "output_type": "stream",
     "text": [
      "/var/folders/s_/qtbdy3px3m3_6k7xydrkhbsh0000gn/T/ipykernel_7686/191058123.py:3: SettingWithCopyWarning: \n",
      "A value is trying to be set on a copy of a slice from a DataFrame.\n",
      "Try using .loc[row_indexer,col_indexer] = value instead\n",
      "\n",
      "See the caveats in the documentation: https://pandas.pydata.org/pandas-docs/stable/user_guide/indexing.html#returning-a-view-versus-a-copy\n",
      "  df.loc[:,'CO2toRevenue'] = df.loc[:,'EmissionDataPoints.CO2EquivalentsEmissionDirectScope1']*(df.loc[:,'EmissionIndicators.TotalCO2EquivalentsEmissionsToRevenues']/df.loc[:,'EmissionDataPoints.CO2EquivalentsEmissionTotal'])\n",
      "/var/folders/s_/qtbdy3px3m3_6k7xydrkhbsh0000gn/T/ipykernel_7686/191058123.py:3: SettingWithCopyWarning: \n",
      "A value is trying to be set on a copy of a slice from a DataFrame.\n",
      "Try using .loc[row_indexer,col_indexer] = value instead\n",
      "\n",
      "See the caveats in the documentation: https://pandas.pydata.org/pandas-docs/stable/user_guide/indexing.html#returning-a-view-versus-a-copy\n",
      "  df.loc[:,'CO2toRevenue'] = df.loc[:,'EmissionDataPoints.CO2EquivalentsEmissionDirectScope1']*(df.loc[:,'EmissionIndicators.TotalCO2EquivalentsEmissionsToRevenues']/df.loc[:,'EmissionDataPoints.CO2EquivalentsEmissionTotal'])\n"
     ]
    },
    {
     "name": "stdout",
     "output_type": "stream",
     "text": [
      "predictions based on sector (using scaled data)\n",
      "predictions based on sector (using scaled data)\n"
     ]
    },
    {
     "name": "stderr",
     "output_type": "stream",
     "text": [
      "/var/folders/s_/qtbdy3px3m3_6k7xydrkhbsh0000gn/T/ipykernel_7686/191058123.py:3: SettingWithCopyWarning: \n",
      "A value is trying to be set on a copy of a slice from a DataFrame.\n",
      "Try using .loc[row_indexer,col_indexer] = value instead\n",
      "\n",
      "See the caveats in the documentation: https://pandas.pydata.org/pandas-docs/stable/user_guide/indexing.html#returning-a-view-versus-a-copy\n",
      "  df.loc[:,'CO2toRevenue'] = df.loc[:,'EmissionDataPoints.CO2EquivalentsEmissionDirectScope1']*(df.loc[:,'EmissionIndicators.TotalCO2EquivalentsEmissionsToRevenues']/df.loc[:,'EmissionDataPoints.CO2EquivalentsEmissionTotal'])\n",
      "/var/folders/s_/qtbdy3px3m3_6k7xydrkhbsh0000gn/T/ipykernel_7686/191058123.py:3: SettingWithCopyWarning: \n",
      "A value is trying to be set on a copy of a slice from a DataFrame.\n",
      "Try using .loc[row_indexer,col_indexer] = value instead\n",
      "\n",
      "See the caveats in the documentation: https://pandas.pydata.org/pandas-docs/stable/user_guide/indexing.html#returning-a-view-versus-a-copy\n",
      "  df.loc[:,'CO2toRevenue'] = df.loc[:,'EmissionDataPoints.CO2EquivalentsEmissionDirectScope1']*(df.loc[:,'EmissionIndicators.TotalCO2EquivalentsEmissionsToRevenues']/df.loc[:,'EmissionDataPoints.CO2EquivalentsEmissionTotal'])\n",
      "/var/folders/s_/qtbdy3px3m3_6k7xydrkhbsh0000gn/T/ipykernel_7686/191058123.py:3: SettingWithCopyWarning: \n",
      "A value is trying to be set on a copy of a slice from a DataFrame.\n",
      "Try using .loc[row_indexer,col_indexer] = value instead\n",
      "\n",
      "See the caveats in the documentation: https://pandas.pydata.org/pandas-docs/stable/user_guide/indexing.html#returning-a-view-versus-a-copy\n",
      "  df.loc[:,'CO2toRevenue'] = df.loc[:,'EmissionDataPoints.CO2EquivalentsEmissionDirectScope1']*(df.loc[:,'EmissionIndicators.TotalCO2EquivalentsEmissionsToRevenues']/df.loc[:,'EmissionDataPoints.CO2EquivalentsEmissionTotal'])\n"
     ]
    },
    {
     "name": "stdout",
     "output_type": "stream",
     "text": [
      "predictions based on sector (using scaled data)\n",
      "predictions based on sector (using scaled data)\n"
     ]
    },
    {
     "name": "stderr",
     "output_type": "stream",
     "text": [
      "/var/folders/s_/qtbdy3px3m3_6k7xydrkhbsh0000gn/T/ipykernel_7686/191058123.py:3: SettingWithCopyWarning: \n",
      "A value is trying to be set on a copy of a slice from a DataFrame.\n",
      "Try using .loc[row_indexer,col_indexer] = value instead\n",
      "\n",
      "See the caveats in the documentation: https://pandas.pydata.org/pandas-docs/stable/user_guide/indexing.html#returning-a-view-versus-a-copy\n",
      "  df.loc[:,'CO2toRevenue'] = df.loc[:,'EmissionDataPoints.CO2EquivalentsEmissionDirectScope1']*(df.loc[:,'EmissionIndicators.TotalCO2EquivalentsEmissionsToRevenues']/df.loc[:,'EmissionDataPoints.CO2EquivalentsEmissionTotal'])\n",
      "/var/folders/s_/qtbdy3px3m3_6k7xydrkhbsh0000gn/T/ipykernel_7686/191058123.py:3: SettingWithCopyWarning: \n",
      "A value is trying to be set on a copy of a slice from a DataFrame.\n",
      "Try using .loc[row_indexer,col_indexer] = value instead\n",
      "\n",
      "See the caveats in the documentation: https://pandas.pydata.org/pandas-docs/stable/user_guide/indexing.html#returning-a-view-versus-a-copy\n",
      "  df.loc[:,'CO2toRevenue'] = df.loc[:,'EmissionDataPoints.CO2EquivalentsEmissionDirectScope1']*(df.loc[:,'EmissionIndicators.TotalCO2EquivalentsEmissionsToRevenues']/df.loc[:,'EmissionDataPoints.CO2EquivalentsEmissionTotal'])\n"
     ]
    },
    {
     "name": "stdout",
     "output_type": "stream",
     "text": [
      "predictions based on sector (using scaled data)\n",
      "predictions based on sector (using scaled data)\n"
     ]
    },
    {
     "name": "stderr",
     "output_type": "stream",
     "text": [
      "/var/folders/s_/qtbdy3px3m3_6k7xydrkhbsh0000gn/T/ipykernel_7686/191058123.py:3: SettingWithCopyWarning: \n",
      "A value is trying to be set on a copy of a slice from a DataFrame.\n",
      "Try using .loc[row_indexer,col_indexer] = value instead\n",
      "\n",
      "See the caveats in the documentation: https://pandas.pydata.org/pandas-docs/stable/user_guide/indexing.html#returning-a-view-versus-a-copy\n",
      "  df.loc[:,'CO2toRevenue'] = df.loc[:,'EmissionDataPoints.CO2EquivalentsEmissionDirectScope1']*(df.loc[:,'EmissionIndicators.TotalCO2EquivalentsEmissionsToRevenues']/df.loc[:,'EmissionDataPoints.CO2EquivalentsEmissionTotal'])\n",
      "/var/folders/s_/qtbdy3px3m3_6k7xydrkhbsh0000gn/T/ipykernel_7686/191058123.py:3: SettingWithCopyWarning: \n",
      "A value is trying to be set on a copy of a slice from a DataFrame.\n",
      "Try using .loc[row_indexer,col_indexer] = value instead\n",
      "\n",
      "See the caveats in the documentation: https://pandas.pydata.org/pandas-docs/stable/user_guide/indexing.html#returning-a-view-versus-a-copy\n",
      "  df.loc[:,'CO2toRevenue'] = df.loc[:,'EmissionDataPoints.CO2EquivalentsEmissionDirectScope1']*(df.loc[:,'EmissionIndicators.TotalCO2EquivalentsEmissionsToRevenues']/df.loc[:,'EmissionDataPoints.CO2EquivalentsEmissionTotal'])\n"
     ]
    },
    {
     "name": "stdout",
     "output_type": "stream",
     "text": [
      "predictions based on sector (using scaled data)\n",
      "predictions based on sector (using scaled data)\n"
     ]
    },
    {
     "name": "stderr",
     "output_type": "stream",
     "text": [
      "/var/folders/s_/qtbdy3px3m3_6k7xydrkhbsh0000gn/T/ipykernel_7686/191058123.py:3: SettingWithCopyWarning: \n",
      "A value is trying to be set on a copy of a slice from a DataFrame.\n",
      "Try using .loc[row_indexer,col_indexer] = value instead\n",
      "\n",
      "See the caveats in the documentation: https://pandas.pydata.org/pandas-docs/stable/user_guide/indexing.html#returning-a-view-versus-a-copy\n",
      "  df.loc[:,'CO2toRevenue'] = df.loc[:,'EmissionDataPoints.CO2EquivalentsEmissionDirectScope1']*(df.loc[:,'EmissionIndicators.TotalCO2EquivalentsEmissionsToRevenues']/df.loc[:,'EmissionDataPoints.CO2EquivalentsEmissionTotal'])\n",
      "/var/folders/s_/qtbdy3px3m3_6k7xydrkhbsh0000gn/T/ipykernel_7686/191058123.py:3: SettingWithCopyWarning: \n",
      "A value is trying to be set on a copy of a slice from a DataFrame.\n",
      "Try using .loc[row_indexer,col_indexer] = value instead\n",
      "\n",
      "See the caveats in the documentation: https://pandas.pydata.org/pandas-docs/stable/user_guide/indexing.html#returning-a-view-versus-a-copy\n",
      "  df.loc[:,'CO2toRevenue'] = df.loc[:,'EmissionDataPoints.CO2EquivalentsEmissionDirectScope1']*(df.loc[:,'EmissionIndicators.TotalCO2EquivalentsEmissionsToRevenues']/df.loc[:,'EmissionDataPoints.CO2EquivalentsEmissionTotal'])\n"
     ]
    },
    {
     "name": "stdout",
     "output_type": "stream",
     "text": [
      "predictions based on sector (using scaled data)\n",
      "predictions based on sector (using scaled data)\n"
     ]
    },
    {
     "name": "stderr",
     "output_type": "stream",
     "text": [
      "/var/folders/s_/qtbdy3px3m3_6k7xydrkhbsh0000gn/T/ipykernel_7686/191058123.py:3: SettingWithCopyWarning: \n",
      "A value is trying to be set on a copy of a slice from a DataFrame.\n",
      "Try using .loc[row_indexer,col_indexer] = value instead\n",
      "\n",
      "See the caveats in the documentation: https://pandas.pydata.org/pandas-docs/stable/user_guide/indexing.html#returning-a-view-versus-a-copy\n",
      "  df.loc[:,'CO2toRevenue'] = df.loc[:,'EmissionDataPoints.CO2EquivalentsEmissionDirectScope1']*(df.loc[:,'EmissionIndicators.TotalCO2EquivalentsEmissionsToRevenues']/df.loc[:,'EmissionDataPoints.CO2EquivalentsEmissionTotal'])\n",
      "/var/folders/s_/qtbdy3px3m3_6k7xydrkhbsh0000gn/T/ipykernel_7686/191058123.py:3: SettingWithCopyWarning: \n",
      "A value is trying to be set on a copy of a slice from a DataFrame.\n",
      "Try using .loc[row_indexer,col_indexer] = value instead\n",
      "\n",
      "See the caveats in the documentation: https://pandas.pydata.org/pandas-docs/stable/user_guide/indexing.html#returning-a-view-versus-a-copy\n",
      "  df.loc[:,'CO2toRevenue'] = df.loc[:,'EmissionDataPoints.CO2EquivalentsEmissionDirectScope1']*(df.loc[:,'EmissionIndicators.TotalCO2EquivalentsEmissionsToRevenues']/df.loc[:,'EmissionDataPoints.CO2EquivalentsEmissionTotal'])\n"
     ]
    },
    {
     "name": "stdout",
     "output_type": "stream",
     "text": [
      "predictions based on sector (using scaled data)\n",
      "predictions based on sector (using scaled data)\n",
      "predictions based on sector (using scaled data)\n"
     ]
    },
    {
     "name": "stderr",
     "output_type": "stream",
     "text": [
      "/var/folders/s_/qtbdy3px3m3_6k7xydrkhbsh0000gn/T/ipykernel_7686/191058123.py:3: SettingWithCopyWarning: \n",
      "A value is trying to be set on a copy of a slice from a DataFrame.\n",
      "Try using .loc[row_indexer,col_indexer] = value instead\n",
      "\n",
      "See the caveats in the documentation: https://pandas.pydata.org/pandas-docs/stable/user_guide/indexing.html#returning-a-view-versus-a-copy\n",
      "  df.loc[:,'CO2toRevenue'] = df.loc[:,'EmissionDataPoints.CO2EquivalentsEmissionDirectScope1']*(df.loc[:,'EmissionIndicators.TotalCO2EquivalentsEmissionsToRevenues']/df.loc[:,'EmissionDataPoints.CO2EquivalentsEmissionTotal'])\n",
      "/var/folders/s_/qtbdy3px3m3_6k7xydrkhbsh0000gn/T/ipykernel_7686/191058123.py:3: SettingWithCopyWarning: \n",
      "A value is trying to be set on a copy of a slice from a DataFrame.\n",
      "Try using .loc[row_indexer,col_indexer] = value instead\n",
      "\n",
      "See the caveats in the documentation: https://pandas.pydata.org/pandas-docs/stable/user_guide/indexing.html#returning-a-view-versus-a-copy\n",
      "  df.loc[:,'CO2toRevenue'] = df.loc[:,'EmissionDataPoints.CO2EquivalentsEmissionDirectScope1']*(df.loc[:,'EmissionIndicators.TotalCO2EquivalentsEmissionsToRevenues']/df.loc[:,'EmissionDataPoints.CO2EquivalentsEmissionTotal'])\n",
      "/var/folders/s_/qtbdy3px3m3_6k7xydrkhbsh0000gn/T/ipykernel_7686/191058123.py:3: SettingWithCopyWarning: \n",
      "A value is trying to be set on a copy of a slice from a DataFrame.\n",
      "Try using .loc[row_indexer,col_indexer] = value instead\n",
      "\n",
      "See the caveats in the documentation: https://pandas.pydata.org/pandas-docs/stable/user_guide/indexing.html#returning-a-view-versus-a-copy\n",
      "  df.loc[:,'CO2toRevenue'] = df.loc[:,'EmissionDataPoints.CO2EquivalentsEmissionDirectScope1']*(df.loc[:,'EmissionIndicators.TotalCO2EquivalentsEmissionsToRevenues']/df.loc[:,'EmissionDataPoints.CO2EquivalentsEmissionTotal'])\n"
     ]
    },
    {
     "name": "stdout",
     "output_type": "stream",
     "text": [
      "predictions based on sector (using scaled data)\n",
      "predictions based on orgid\n",
      "predictions based on sector (using scaled data)\n",
      "predictions based on orgid\n",
      "predictions based on sector (using scaled data)\n"
     ]
    },
    {
     "name": "stderr",
     "output_type": "stream",
     "text": [
      "/var/folders/s_/qtbdy3px3m3_6k7xydrkhbsh0000gn/T/ipykernel_7686/191058123.py:3: SettingWithCopyWarning: \n",
      "A value is trying to be set on a copy of a slice from a DataFrame.\n",
      "Try using .loc[row_indexer,col_indexer] = value instead\n",
      "\n",
      "See the caveats in the documentation: https://pandas.pydata.org/pandas-docs/stable/user_guide/indexing.html#returning-a-view-versus-a-copy\n",
      "  df.loc[:,'CO2toRevenue'] = df.loc[:,'EmissionDataPoints.CO2EquivalentsEmissionDirectScope1']*(df.loc[:,'EmissionIndicators.TotalCO2EquivalentsEmissionsToRevenues']/df.loc[:,'EmissionDataPoints.CO2EquivalentsEmissionTotal'])\n",
      "/var/folders/s_/qtbdy3px3m3_6k7xydrkhbsh0000gn/T/ipykernel_7686/191058123.py:3: SettingWithCopyWarning: \n",
      "A value is trying to be set on a copy of a slice from a DataFrame.\n",
      "Try using .loc[row_indexer,col_indexer] = value instead\n",
      "\n",
      "See the caveats in the documentation: https://pandas.pydata.org/pandas-docs/stable/user_guide/indexing.html#returning-a-view-versus-a-copy\n",
      "  df.loc[:,'CO2toRevenue'] = df.loc[:,'EmissionDataPoints.CO2EquivalentsEmissionDirectScope1']*(df.loc[:,'EmissionIndicators.TotalCO2EquivalentsEmissionsToRevenues']/df.loc[:,'EmissionDataPoints.CO2EquivalentsEmissionTotal'])\n",
      "/var/folders/s_/qtbdy3px3m3_6k7xydrkhbsh0000gn/T/ipykernel_7686/191058123.py:3: SettingWithCopyWarning: \n",
      "A value is trying to be set on a copy of a slice from a DataFrame.\n",
      "Try using .loc[row_indexer,col_indexer] = value instead\n",
      "\n",
      "See the caveats in the documentation: https://pandas.pydata.org/pandas-docs/stable/user_guide/indexing.html#returning-a-view-versus-a-copy\n",
      "  df.loc[:,'CO2toRevenue'] = df.loc[:,'EmissionDataPoints.CO2EquivalentsEmissionDirectScope1']*(df.loc[:,'EmissionIndicators.TotalCO2EquivalentsEmissionsToRevenues']/df.loc[:,'EmissionDataPoints.CO2EquivalentsEmissionTotal'])\n"
     ]
    },
    {
     "name": "stdout",
     "output_type": "stream",
     "text": [
      "predictions based on sector (using scaled data)\n",
      "predictions based on sector (using scaled data)\n"
     ]
    },
    {
     "name": "stderr",
     "output_type": "stream",
     "text": [
      "/var/folders/s_/qtbdy3px3m3_6k7xydrkhbsh0000gn/T/ipykernel_7686/191058123.py:3: SettingWithCopyWarning: \n",
      "A value is trying to be set on a copy of a slice from a DataFrame.\n",
      "Try using .loc[row_indexer,col_indexer] = value instead\n",
      "\n",
      "See the caveats in the documentation: https://pandas.pydata.org/pandas-docs/stable/user_guide/indexing.html#returning-a-view-versus-a-copy\n",
      "  df.loc[:,'CO2toRevenue'] = df.loc[:,'EmissionDataPoints.CO2EquivalentsEmissionDirectScope1']*(df.loc[:,'EmissionIndicators.TotalCO2EquivalentsEmissionsToRevenues']/df.loc[:,'EmissionDataPoints.CO2EquivalentsEmissionTotal'])\n",
      "/var/folders/s_/qtbdy3px3m3_6k7xydrkhbsh0000gn/T/ipykernel_7686/191058123.py:3: SettingWithCopyWarning: \n",
      "A value is trying to be set on a copy of a slice from a DataFrame.\n",
      "Try using .loc[row_indexer,col_indexer] = value instead\n",
      "\n",
      "See the caveats in the documentation: https://pandas.pydata.org/pandas-docs/stable/user_guide/indexing.html#returning-a-view-versus-a-copy\n",
      "  df.loc[:,'CO2toRevenue'] = df.loc[:,'EmissionDataPoints.CO2EquivalentsEmissionDirectScope1']*(df.loc[:,'EmissionIndicators.TotalCO2EquivalentsEmissionsToRevenues']/df.loc[:,'EmissionDataPoints.CO2EquivalentsEmissionTotal'])\n"
     ]
    },
    {
     "name": "stdout",
     "output_type": "stream",
     "text": [
      "predictions based on sector (using scaled data)\n",
      "predictions based on sector (using scaled data)\n"
     ]
    },
    {
     "name": "stderr",
     "output_type": "stream",
     "text": [
      "/var/folders/s_/qtbdy3px3m3_6k7xydrkhbsh0000gn/T/ipykernel_7686/191058123.py:3: SettingWithCopyWarning: \n",
      "A value is trying to be set on a copy of a slice from a DataFrame.\n",
      "Try using .loc[row_indexer,col_indexer] = value instead\n",
      "\n",
      "See the caveats in the documentation: https://pandas.pydata.org/pandas-docs/stable/user_guide/indexing.html#returning-a-view-versus-a-copy\n",
      "  df.loc[:,'CO2toRevenue'] = df.loc[:,'EmissionDataPoints.CO2EquivalentsEmissionDirectScope1']*(df.loc[:,'EmissionIndicators.TotalCO2EquivalentsEmissionsToRevenues']/df.loc[:,'EmissionDataPoints.CO2EquivalentsEmissionTotal'])\n",
      "/var/folders/s_/qtbdy3px3m3_6k7xydrkhbsh0000gn/T/ipykernel_7686/191058123.py:3: SettingWithCopyWarning: \n",
      "A value is trying to be set on a copy of a slice from a DataFrame.\n",
      "Try using .loc[row_indexer,col_indexer] = value instead\n",
      "\n",
      "See the caveats in the documentation: https://pandas.pydata.org/pandas-docs/stable/user_guide/indexing.html#returning-a-view-versus-a-copy\n",
      "  df.loc[:,'CO2toRevenue'] = df.loc[:,'EmissionDataPoints.CO2EquivalentsEmissionDirectScope1']*(df.loc[:,'EmissionIndicators.TotalCO2EquivalentsEmissionsToRevenues']/df.loc[:,'EmissionDataPoints.CO2EquivalentsEmissionTotal'])\n"
     ]
    },
    {
     "name": "stdout",
     "output_type": "stream",
     "text": [
      "predictions based on sector (using scaled data)\n",
      "predictions based on sector (using scaled data)\n"
     ]
    },
    {
     "name": "stderr",
     "output_type": "stream",
     "text": [
      "/var/folders/s_/qtbdy3px3m3_6k7xydrkhbsh0000gn/T/ipykernel_7686/191058123.py:3: SettingWithCopyWarning: \n",
      "A value is trying to be set on a copy of a slice from a DataFrame.\n",
      "Try using .loc[row_indexer,col_indexer] = value instead\n",
      "\n",
      "See the caveats in the documentation: https://pandas.pydata.org/pandas-docs/stable/user_guide/indexing.html#returning-a-view-versus-a-copy\n",
      "  df.loc[:,'CO2toRevenue'] = df.loc[:,'EmissionDataPoints.CO2EquivalentsEmissionDirectScope1']*(df.loc[:,'EmissionIndicators.TotalCO2EquivalentsEmissionsToRevenues']/df.loc[:,'EmissionDataPoints.CO2EquivalentsEmissionTotal'])\n",
      "/var/folders/s_/qtbdy3px3m3_6k7xydrkhbsh0000gn/T/ipykernel_7686/191058123.py:3: SettingWithCopyWarning: \n",
      "A value is trying to be set on a copy of a slice from a DataFrame.\n",
      "Try using .loc[row_indexer,col_indexer] = value instead\n",
      "\n",
      "See the caveats in the documentation: https://pandas.pydata.org/pandas-docs/stable/user_guide/indexing.html#returning-a-view-versus-a-copy\n",
      "  df.loc[:,'CO2toRevenue'] = df.loc[:,'EmissionDataPoints.CO2EquivalentsEmissionDirectScope1']*(df.loc[:,'EmissionIndicators.TotalCO2EquivalentsEmissionsToRevenues']/df.loc[:,'EmissionDataPoints.CO2EquivalentsEmissionTotal'])\n"
     ]
    },
    {
     "name": "stdout",
     "output_type": "stream",
     "text": [
      "predictions based on sector (using scaled data)\n",
      "predictions based on sector (using scaled data)\n",
      "predictions based on sector (using scaled data)\n"
     ]
    },
    {
     "name": "stderr",
     "output_type": "stream",
     "text": [
      "/var/folders/s_/qtbdy3px3m3_6k7xydrkhbsh0000gn/T/ipykernel_7686/191058123.py:3: SettingWithCopyWarning: \n",
      "A value is trying to be set on a copy of a slice from a DataFrame.\n",
      "Try using .loc[row_indexer,col_indexer] = value instead\n",
      "\n",
      "See the caveats in the documentation: https://pandas.pydata.org/pandas-docs/stable/user_guide/indexing.html#returning-a-view-versus-a-copy\n",
      "  df.loc[:,'CO2toRevenue'] = df.loc[:,'EmissionDataPoints.CO2EquivalentsEmissionDirectScope1']*(df.loc[:,'EmissionIndicators.TotalCO2EquivalentsEmissionsToRevenues']/df.loc[:,'EmissionDataPoints.CO2EquivalentsEmissionTotal'])\n",
      "/var/folders/s_/qtbdy3px3m3_6k7xydrkhbsh0000gn/T/ipykernel_7686/191058123.py:3: SettingWithCopyWarning: \n",
      "A value is trying to be set on a copy of a slice from a DataFrame.\n",
      "Try using .loc[row_indexer,col_indexer] = value instead\n",
      "\n",
      "See the caveats in the documentation: https://pandas.pydata.org/pandas-docs/stable/user_guide/indexing.html#returning-a-view-versus-a-copy\n",
      "  df.loc[:,'CO2toRevenue'] = df.loc[:,'EmissionDataPoints.CO2EquivalentsEmissionDirectScope1']*(df.loc[:,'EmissionIndicators.TotalCO2EquivalentsEmissionsToRevenues']/df.loc[:,'EmissionDataPoints.CO2EquivalentsEmissionTotal'])\n",
      "/var/folders/s_/qtbdy3px3m3_6k7xydrkhbsh0000gn/T/ipykernel_7686/191058123.py:3: SettingWithCopyWarning: \n",
      "A value is trying to be set on a copy of a slice from a DataFrame.\n",
      "Try using .loc[row_indexer,col_indexer] = value instead\n",
      "\n",
      "See the caveats in the documentation: https://pandas.pydata.org/pandas-docs/stable/user_guide/indexing.html#returning-a-view-versus-a-copy\n",
      "  df.loc[:,'CO2toRevenue'] = df.loc[:,'EmissionDataPoints.CO2EquivalentsEmissionDirectScope1']*(df.loc[:,'EmissionIndicators.TotalCO2EquivalentsEmissionsToRevenues']/df.loc[:,'EmissionDataPoints.CO2EquivalentsEmissionTotal'])\n"
     ]
    },
    {
     "name": "stdout",
     "output_type": "stream",
     "text": [
      "predictions based on orgid\n",
      "predictions based on sector (using scaled data)\n",
      "predictions based on sector (using scaled data)\n",
      "predictions based on sector (using scaled data)\n"
     ]
    },
    {
     "name": "stderr",
     "output_type": "stream",
     "text": [
      "/var/folders/s_/qtbdy3px3m3_6k7xydrkhbsh0000gn/T/ipykernel_7686/191058123.py:3: SettingWithCopyWarning: \n",
      "A value is trying to be set on a copy of a slice from a DataFrame.\n",
      "Try using .loc[row_indexer,col_indexer] = value instead\n",
      "\n",
      "See the caveats in the documentation: https://pandas.pydata.org/pandas-docs/stable/user_guide/indexing.html#returning-a-view-versus-a-copy\n",
      "  df.loc[:,'CO2toRevenue'] = df.loc[:,'EmissionDataPoints.CO2EquivalentsEmissionDirectScope1']*(df.loc[:,'EmissionIndicators.TotalCO2EquivalentsEmissionsToRevenues']/df.loc[:,'EmissionDataPoints.CO2EquivalentsEmissionTotal'])\n",
      "/var/folders/s_/qtbdy3px3m3_6k7xydrkhbsh0000gn/T/ipykernel_7686/191058123.py:3: SettingWithCopyWarning: \n",
      "A value is trying to be set on a copy of a slice from a DataFrame.\n",
      "Try using .loc[row_indexer,col_indexer] = value instead\n",
      "\n",
      "See the caveats in the documentation: https://pandas.pydata.org/pandas-docs/stable/user_guide/indexing.html#returning-a-view-versus-a-copy\n",
      "  df.loc[:,'CO2toRevenue'] = df.loc[:,'EmissionDataPoints.CO2EquivalentsEmissionDirectScope1']*(df.loc[:,'EmissionIndicators.TotalCO2EquivalentsEmissionsToRevenues']/df.loc[:,'EmissionDataPoints.CO2EquivalentsEmissionTotal'])\n",
      "/var/folders/s_/qtbdy3px3m3_6k7xydrkhbsh0000gn/T/ipykernel_7686/191058123.py:3: SettingWithCopyWarning: \n",
      "A value is trying to be set on a copy of a slice from a DataFrame.\n",
      "Try using .loc[row_indexer,col_indexer] = value instead\n",
      "\n",
      "See the caveats in the documentation: https://pandas.pydata.org/pandas-docs/stable/user_guide/indexing.html#returning-a-view-versus-a-copy\n",
      "  df.loc[:,'CO2toRevenue'] = df.loc[:,'EmissionDataPoints.CO2EquivalentsEmissionDirectScope1']*(df.loc[:,'EmissionIndicators.TotalCO2EquivalentsEmissionsToRevenues']/df.loc[:,'EmissionDataPoints.CO2EquivalentsEmissionTotal'])\n"
     ]
    },
    {
     "name": "stdout",
     "output_type": "stream",
     "text": [
      "predictions based on sector (using scaled data)\n",
      "predictions based on sector (using scaled data)\n",
      "predictions based on orgid\n",
      "predictions based on sector (using scaled data)\n"
     ]
    },
    {
     "name": "stderr",
     "output_type": "stream",
     "text": [
      "/var/folders/s_/qtbdy3px3m3_6k7xydrkhbsh0000gn/T/ipykernel_7686/191058123.py:3: SettingWithCopyWarning: \n",
      "A value is trying to be set on a copy of a slice from a DataFrame.\n",
      "Try using .loc[row_indexer,col_indexer] = value instead\n",
      "\n",
      "See the caveats in the documentation: https://pandas.pydata.org/pandas-docs/stable/user_guide/indexing.html#returning-a-view-versus-a-copy\n",
      "  df.loc[:,'CO2toRevenue'] = df.loc[:,'EmissionDataPoints.CO2EquivalentsEmissionDirectScope1']*(df.loc[:,'EmissionIndicators.TotalCO2EquivalentsEmissionsToRevenues']/df.loc[:,'EmissionDataPoints.CO2EquivalentsEmissionTotal'])\n",
      "/var/folders/s_/qtbdy3px3m3_6k7xydrkhbsh0000gn/T/ipykernel_7686/191058123.py:3: SettingWithCopyWarning: \n",
      "A value is trying to be set on a copy of a slice from a DataFrame.\n",
      "Try using .loc[row_indexer,col_indexer] = value instead\n",
      "\n",
      "See the caveats in the documentation: https://pandas.pydata.org/pandas-docs/stable/user_guide/indexing.html#returning-a-view-versus-a-copy\n",
      "  df.loc[:,'CO2toRevenue'] = df.loc[:,'EmissionDataPoints.CO2EquivalentsEmissionDirectScope1']*(df.loc[:,'EmissionIndicators.TotalCO2EquivalentsEmissionsToRevenues']/df.loc[:,'EmissionDataPoints.CO2EquivalentsEmissionTotal'])\n",
      "/var/folders/s_/qtbdy3px3m3_6k7xydrkhbsh0000gn/T/ipykernel_7686/191058123.py:3: SettingWithCopyWarning: \n",
      "A value is trying to be set on a copy of a slice from a DataFrame.\n",
      "Try using .loc[row_indexer,col_indexer] = value instead\n",
      "\n",
      "See the caveats in the documentation: https://pandas.pydata.org/pandas-docs/stable/user_guide/indexing.html#returning-a-view-versus-a-copy\n",
      "  df.loc[:,'CO2toRevenue'] = df.loc[:,'EmissionDataPoints.CO2EquivalentsEmissionDirectScope1']*(df.loc[:,'EmissionIndicators.TotalCO2EquivalentsEmissionsToRevenues']/df.loc[:,'EmissionDataPoints.CO2EquivalentsEmissionTotal'])\n"
     ]
    },
    {
     "name": "stdout",
     "output_type": "stream",
     "text": [
      "predictions based on sector (using scaled data)\n",
      "predictions based on sector (using scaled data)\n",
      "predictions based on sector (using scaled data)\n"
     ]
    },
    {
     "name": "stderr",
     "output_type": "stream",
     "text": [
      "/var/folders/s_/qtbdy3px3m3_6k7xydrkhbsh0000gn/T/ipykernel_7686/191058123.py:3: SettingWithCopyWarning: \n",
      "A value is trying to be set on a copy of a slice from a DataFrame.\n",
      "Try using .loc[row_indexer,col_indexer] = value instead\n",
      "\n",
      "See the caveats in the documentation: https://pandas.pydata.org/pandas-docs/stable/user_guide/indexing.html#returning-a-view-versus-a-copy\n",
      "  df.loc[:,'CO2toRevenue'] = df.loc[:,'EmissionDataPoints.CO2EquivalentsEmissionDirectScope1']*(df.loc[:,'EmissionIndicators.TotalCO2EquivalentsEmissionsToRevenues']/df.loc[:,'EmissionDataPoints.CO2EquivalentsEmissionTotal'])\n",
      "/var/folders/s_/qtbdy3px3m3_6k7xydrkhbsh0000gn/T/ipykernel_7686/191058123.py:3: SettingWithCopyWarning: \n",
      "A value is trying to be set on a copy of a slice from a DataFrame.\n",
      "Try using .loc[row_indexer,col_indexer] = value instead\n",
      "\n",
      "See the caveats in the documentation: https://pandas.pydata.org/pandas-docs/stable/user_guide/indexing.html#returning-a-view-versus-a-copy\n",
      "  df.loc[:,'CO2toRevenue'] = df.loc[:,'EmissionDataPoints.CO2EquivalentsEmissionDirectScope1']*(df.loc[:,'EmissionIndicators.TotalCO2EquivalentsEmissionsToRevenues']/df.loc[:,'EmissionDataPoints.CO2EquivalentsEmissionTotal'])\n",
      "/var/folders/s_/qtbdy3px3m3_6k7xydrkhbsh0000gn/T/ipykernel_7686/191058123.py:3: SettingWithCopyWarning: \n",
      "A value is trying to be set on a copy of a slice from a DataFrame.\n",
      "Try using .loc[row_indexer,col_indexer] = value instead\n",
      "\n",
      "See the caveats in the documentation: https://pandas.pydata.org/pandas-docs/stable/user_guide/indexing.html#returning-a-view-versus-a-copy\n",
      "  df.loc[:,'CO2toRevenue'] = df.loc[:,'EmissionDataPoints.CO2EquivalentsEmissionDirectScope1']*(df.loc[:,'EmissionIndicators.TotalCO2EquivalentsEmissionsToRevenues']/df.loc[:,'EmissionDataPoints.CO2EquivalentsEmissionTotal'])\n"
     ]
    },
    {
     "name": "stdout",
     "output_type": "stream",
     "text": [
      "predictions based on orgid\n",
      "predictions based on sector (using scaled data)\n",
      "predictions based on sector (using scaled data)\n",
      "predictions based on sector (using scaled data)\n"
     ]
    },
    {
     "name": "stderr",
     "output_type": "stream",
     "text": [
      "/var/folders/s_/qtbdy3px3m3_6k7xydrkhbsh0000gn/T/ipykernel_7686/191058123.py:3: SettingWithCopyWarning: \n",
      "A value is trying to be set on a copy of a slice from a DataFrame.\n",
      "Try using .loc[row_indexer,col_indexer] = value instead\n",
      "\n",
      "See the caveats in the documentation: https://pandas.pydata.org/pandas-docs/stable/user_guide/indexing.html#returning-a-view-versus-a-copy\n",
      "  df.loc[:,'CO2toRevenue'] = df.loc[:,'EmissionDataPoints.CO2EquivalentsEmissionDirectScope1']*(df.loc[:,'EmissionIndicators.TotalCO2EquivalentsEmissionsToRevenues']/df.loc[:,'EmissionDataPoints.CO2EquivalentsEmissionTotal'])\n",
      "/var/folders/s_/qtbdy3px3m3_6k7xydrkhbsh0000gn/T/ipykernel_7686/191058123.py:3: SettingWithCopyWarning: \n",
      "A value is trying to be set on a copy of a slice from a DataFrame.\n",
      "Try using .loc[row_indexer,col_indexer] = value instead\n",
      "\n",
      "See the caveats in the documentation: https://pandas.pydata.org/pandas-docs/stable/user_guide/indexing.html#returning-a-view-versus-a-copy\n",
      "  df.loc[:,'CO2toRevenue'] = df.loc[:,'EmissionDataPoints.CO2EquivalentsEmissionDirectScope1']*(df.loc[:,'EmissionIndicators.TotalCO2EquivalentsEmissionsToRevenues']/df.loc[:,'EmissionDataPoints.CO2EquivalentsEmissionTotal'])\n",
      "/var/folders/s_/qtbdy3px3m3_6k7xydrkhbsh0000gn/T/ipykernel_7686/191058123.py:3: SettingWithCopyWarning: \n",
      "A value is trying to be set on a copy of a slice from a DataFrame.\n",
      "Try using .loc[row_indexer,col_indexer] = value instead\n",
      "\n",
      "See the caveats in the documentation: https://pandas.pydata.org/pandas-docs/stable/user_guide/indexing.html#returning-a-view-versus-a-copy\n",
      "  df.loc[:,'CO2toRevenue'] = df.loc[:,'EmissionDataPoints.CO2EquivalentsEmissionDirectScope1']*(df.loc[:,'EmissionIndicators.TotalCO2EquivalentsEmissionsToRevenues']/df.loc[:,'EmissionDataPoints.CO2EquivalentsEmissionTotal'])\n"
     ]
    },
    {
     "name": "stdout",
     "output_type": "stream",
     "text": [
      "predictions based on sector (using scaled data)\n",
      "predictions based on orgid\n",
      "predictions based on orgid\n",
      "predictions based on sector (using scaled data)\n"
     ]
    },
    {
     "name": "stderr",
     "output_type": "stream",
     "text": [
      "/var/folders/s_/qtbdy3px3m3_6k7xydrkhbsh0000gn/T/ipykernel_7686/191058123.py:3: SettingWithCopyWarning: \n",
      "A value is trying to be set on a copy of a slice from a DataFrame.\n",
      "Try using .loc[row_indexer,col_indexer] = value instead\n",
      "\n",
      "See the caveats in the documentation: https://pandas.pydata.org/pandas-docs/stable/user_guide/indexing.html#returning-a-view-versus-a-copy\n",
      "  df.loc[:,'CO2toRevenue'] = df.loc[:,'EmissionDataPoints.CO2EquivalentsEmissionDirectScope1']*(df.loc[:,'EmissionIndicators.TotalCO2EquivalentsEmissionsToRevenues']/df.loc[:,'EmissionDataPoints.CO2EquivalentsEmissionTotal'])\n",
      "/var/folders/s_/qtbdy3px3m3_6k7xydrkhbsh0000gn/T/ipykernel_7686/191058123.py:3: SettingWithCopyWarning: \n",
      "A value is trying to be set on a copy of a slice from a DataFrame.\n",
      "Try using .loc[row_indexer,col_indexer] = value instead\n",
      "\n",
      "See the caveats in the documentation: https://pandas.pydata.org/pandas-docs/stable/user_guide/indexing.html#returning-a-view-versus-a-copy\n",
      "  df.loc[:,'CO2toRevenue'] = df.loc[:,'EmissionDataPoints.CO2EquivalentsEmissionDirectScope1']*(df.loc[:,'EmissionIndicators.TotalCO2EquivalentsEmissionsToRevenues']/df.loc[:,'EmissionDataPoints.CO2EquivalentsEmissionTotal'])\n"
     ]
    },
    {
     "name": "stdout",
     "output_type": "stream",
     "text": [
      "predictions based on sector (using scaled data)\n",
      "predictions based on sector (using scaled data)\n"
     ]
    },
    {
     "name": "stderr",
     "output_type": "stream",
     "text": [
      "/var/folders/s_/qtbdy3px3m3_6k7xydrkhbsh0000gn/T/ipykernel_7686/191058123.py:3: SettingWithCopyWarning: \n",
      "A value is trying to be set on a copy of a slice from a DataFrame.\n",
      "Try using .loc[row_indexer,col_indexer] = value instead\n",
      "\n",
      "See the caveats in the documentation: https://pandas.pydata.org/pandas-docs/stable/user_guide/indexing.html#returning-a-view-versus-a-copy\n",
      "  df.loc[:,'CO2toRevenue'] = df.loc[:,'EmissionDataPoints.CO2EquivalentsEmissionDirectScope1']*(df.loc[:,'EmissionIndicators.TotalCO2EquivalentsEmissionsToRevenues']/df.loc[:,'EmissionDataPoints.CO2EquivalentsEmissionTotal'])\n",
      "/var/folders/s_/qtbdy3px3m3_6k7xydrkhbsh0000gn/T/ipykernel_7686/191058123.py:3: SettingWithCopyWarning: \n",
      "A value is trying to be set on a copy of a slice from a DataFrame.\n",
      "Try using .loc[row_indexer,col_indexer] = value instead\n",
      "\n",
      "See the caveats in the documentation: https://pandas.pydata.org/pandas-docs/stable/user_guide/indexing.html#returning-a-view-versus-a-copy\n",
      "  df.loc[:,'CO2toRevenue'] = df.loc[:,'EmissionDataPoints.CO2EquivalentsEmissionDirectScope1']*(df.loc[:,'EmissionIndicators.TotalCO2EquivalentsEmissionsToRevenues']/df.loc[:,'EmissionDataPoints.CO2EquivalentsEmissionTotal'])\n"
     ]
    },
    {
     "name": "stdout",
     "output_type": "stream",
     "text": [
      "predictions based on sector (using scaled data)\n",
      "predictions based on orgid\n",
      "predictions based on orgid\n",
      "predictions based on sector (using scaled data)\n"
     ]
    },
    {
     "name": "stderr",
     "output_type": "stream",
     "text": [
      "/var/folders/s_/qtbdy3px3m3_6k7xydrkhbsh0000gn/T/ipykernel_7686/191058123.py:3: SettingWithCopyWarning: \n",
      "A value is trying to be set on a copy of a slice from a DataFrame.\n",
      "Try using .loc[row_indexer,col_indexer] = value instead\n",
      "\n",
      "See the caveats in the documentation: https://pandas.pydata.org/pandas-docs/stable/user_guide/indexing.html#returning-a-view-versus-a-copy\n",
      "  df.loc[:,'CO2toRevenue'] = df.loc[:,'EmissionDataPoints.CO2EquivalentsEmissionDirectScope1']*(df.loc[:,'EmissionIndicators.TotalCO2EquivalentsEmissionsToRevenues']/df.loc[:,'EmissionDataPoints.CO2EquivalentsEmissionTotal'])\n",
      "/var/folders/s_/qtbdy3px3m3_6k7xydrkhbsh0000gn/T/ipykernel_7686/191058123.py:3: SettingWithCopyWarning: \n",
      "A value is trying to be set on a copy of a slice from a DataFrame.\n",
      "Try using .loc[row_indexer,col_indexer] = value instead\n",
      "\n",
      "See the caveats in the documentation: https://pandas.pydata.org/pandas-docs/stable/user_guide/indexing.html#returning-a-view-versus-a-copy\n",
      "  df.loc[:,'CO2toRevenue'] = df.loc[:,'EmissionDataPoints.CO2EquivalentsEmissionDirectScope1']*(df.loc[:,'EmissionIndicators.TotalCO2EquivalentsEmissionsToRevenues']/df.loc[:,'EmissionDataPoints.CO2EquivalentsEmissionTotal'])\n"
     ]
    },
    {
     "name": "stdout",
     "output_type": "stream",
     "text": [
      "predictions based on sector (using scaled data)\n",
      "predictions based on orgid\n",
      "predictions based on sector (using scaled data)\n",
      "predictions based on orgid\n",
      "predictions based on sector (using scaled data)\n"
     ]
    },
    {
     "name": "stderr",
     "output_type": "stream",
     "text": [
      "/var/folders/s_/qtbdy3px3m3_6k7xydrkhbsh0000gn/T/ipykernel_7686/191058123.py:3: SettingWithCopyWarning: \n",
      "A value is trying to be set on a copy of a slice from a DataFrame.\n",
      "Try using .loc[row_indexer,col_indexer] = value instead\n",
      "\n",
      "See the caveats in the documentation: https://pandas.pydata.org/pandas-docs/stable/user_guide/indexing.html#returning-a-view-versus-a-copy\n",
      "  df.loc[:,'CO2toRevenue'] = df.loc[:,'EmissionDataPoints.CO2EquivalentsEmissionDirectScope1']*(df.loc[:,'EmissionIndicators.TotalCO2EquivalentsEmissionsToRevenues']/df.loc[:,'EmissionDataPoints.CO2EquivalentsEmissionTotal'])\n",
      "/var/folders/s_/qtbdy3px3m3_6k7xydrkhbsh0000gn/T/ipykernel_7686/191058123.py:3: SettingWithCopyWarning: \n",
      "A value is trying to be set on a copy of a slice from a DataFrame.\n",
      "Try using .loc[row_indexer,col_indexer] = value instead\n",
      "\n",
      "See the caveats in the documentation: https://pandas.pydata.org/pandas-docs/stable/user_guide/indexing.html#returning-a-view-versus-a-copy\n",
      "  df.loc[:,'CO2toRevenue'] = df.loc[:,'EmissionDataPoints.CO2EquivalentsEmissionDirectScope1']*(df.loc[:,'EmissionIndicators.TotalCO2EquivalentsEmissionsToRevenues']/df.loc[:,'EmissionDataPoints.CO2EquivalentsEmissionTotal'])\n",
      "/var/folders/s_/qtbdy3px3m3_6k7xydrkhbsh0000gn/T/ipykernel_7686/191058123.py:3: SettingWithCopyWarning: \n",
      "A value is trying to be set on a copy of a slice from a DataFrame.\n",
      "Try using .loc[row_indexer,col_indexer] = value instead\n",
      "\n",
      "See the caveats in the documentation: https://pandas.pydata.org/pandas-docs/stable/user_guide/indexing.html#returning-a-view-versus-a-copy\n",
      "  df.loc[:,'CO2toRevenue'] = df.loc[:,'EmissionDataPoints.CO2EquivalentsEmissionDirectScope1']*(df.loc[:,'EmissionIndicators.TotalCO2EquivalentsEmissionsToRevenues']/df.loc[:,'EmissionDataPoints.CO2EquivalentsEmissionTotal'])\n"
     ]
    },
    {
     "name": "stdout",
     "output_type": "stream",
     "text": [
      "predictions based on orgid\n",
      "predictions based on orgid\n",
      "predictions based on sector (using scaled data)\n",
      "predictions based on sector (using scaled data)\n",
      "predictions based on sector (using scaled data)\n"
     ]
    },
    {
     "name": "stderr",
     "output_type": "stream",
     "text": [
      "/var/folders/s_/qtbdy3px3m3_6k7xydrkhbsh0000gn/T/ipykernel_7686/191058123.py:3: SettingWithCopyWarning: \n",
      "A value is trying to be set on a copy of a slice from a DataFrame.\n",
      "Try using .loc[row_indexer,col_indexer] = value instead\n",
      "\n",
      "See the caveats in the documentation: https://pandas.pydata.org/pandas-docs/stable/user_guide/indexing.html#returning-a-view-versus-a-copy\n",
      "  df.loc[:,'CO2toRevenue'] = df.loc[:,'EmissionDataPoints.CO2EquivalentsEmissionDirectScope1']*(df.loc[:,'EmissionIndicators.TotalCO2EquivalentsEmissionsToRevenues']/df.loc[:,'EmissionDataPoints.CO2EquivalentsEmissionTotal'])\n",
      "/var/folders/s_/qtbdy3px3m3_6k7xydrkhbsh0000gn/T/ipykernel_7686/191058123.py:3: SettingWithCopyWarning: \n",
      "A value is trying to be set on a copy of a slice from a DataFrame.\n",
      "Try using .loc[row_indexer,col_indexer] = value instead\n",
      "\n",
      "See the caveats in the documentation: https://pandas.pydata.org/pandas-docs/stable/user_guide/indexing.html#returning-a-view-versus-a-copy\n",
      "  df.loc[:,'CO2toRevenue'] = df.loc[:,'EmissionDataPoints.CO2EquivalentsEmissionDirectScope1']*(df.loc[:,'EmissionIndicators.TotalCO2EquivalentsEmissionsToRevenues']/df.loc[:,'EmissionDataPoints.CO2EquivalentsEmissionTotal'])\n",
      "/var/folders/s_/qtbdy3px3m3_6k7xydrkhbsh0000gn/T/ipykernel_7686/191058123.py:3: SettingWithCopyWarning: \n",
      "A value is trying to be set on a copy of a slice from a DataFrame.\n",
      "Try using .loc[row_indexer,col_indexer] = value instead\n",
      "\n",
      "See the caveats in the documentation: https://pandas.pydata.org/pandas-docs/stable/user_guide/indexing.html#returning-a-view-versus-a-copy\n",
      "  df.loc[:,'CO2toRevenue'] = df.loc[:,'EmissionDataPoints.CO2EquivalentsEmissionDirectScope1']*(df.loc[:,'EmissionIndicators.TotalCO2EquivalentsEmissionsToRevenues']/df.loc[:,'EmissionDataPoints.CO2EquivalentsEmissionTotal'])\n",
      "/var/folders/s_/qtbdy3px3m3_6k7xydrkhbsh0000gn/T/ipykernel_7686/191058123.py:3: SettingWithCopyWarning: \n",
      "A value is trying to be set on a copy of a slice from a DataFrame.\n",
      "Try using .loc[row_indexer,col_indexer] = value instead\n",
      "\n",
      "See the caveats in the documentation: https://pandas.pydata.org/pandas-docs/stable/user_guide/indexing.html#returning-a-view-versus-a-copy\n",
      "  df.loc[:,'CO2toRevenue'] = df.loc[:,'EmissionDataPoints.CO2EquivalentsEmissionDirectScope1']*(df.loc[:,'EmissionIndicators.TotalCO2EquivalentsEmissionsToRevenues']/df.loc[:,'EmissionDataPoints.CO2EquivalentsEmissionTotal'])\n"
     ]
    },
    {
     "name": "stdout",
     "output_type": "stream",
     "text": [
      "predictions based on sector (using scaled data)\n",
      "predictions based on sector (using scaled data)\n"
     ]
    },
    {
     "name": "stderr",
     "output_type": "stream",
     "text": [
      "/var/folders/s_/qtbdy3px3m3_6k7xydrkhbsh0000gn/T/ipykernel_7686/191058123.py:3: SettingWithCopyWarning: \n",
      "A value is trying to be set on a copy of a slice from a DataFrame.\n",
      "Try using .loc[row_indexer,col_indexer] = value instead\n",
      "\n",
      "See the caveats in the documentation: https://pandas.pydata.org/pandas-docs/stable/user_guide/indexing.html#returning-a-view-versus-a-copy\n",
      "  df.loc[:,'CO2toRevenue'] = df.loc[:,'EmissionDataPoints.CO2EquivalentsEmissionDirectScope1']*(df.loc[:,'EmissionIndicators.TotalCO2EquivalentsEmissionsToRevenues']/df.loc[:,'EmissionDataPoints.CO2EquivalentsEmissionTotal'])\n",
      "/var/folders/s_/qtbdy3px3m3_6k7xydrkhbsh0000gn/T/ipykernel_7686/191058123.py:3: SettingWithCopyWarning: \n",
      "A value is trying to be set on a copy of a slice from a DataFrame.\n",
      "Try using .loc[row_indexer,col_indexer] = value instead\n",
      "\n",
      "See the caveats in the documentation: https://pandas.pydata.org/pandas-docs/stable/user_guide/indexing.html#returning-a-view-versus-a-copy\n",
      "  df.loc[:,'CO2toRevenue'] = df.loc[:,'EmissionDataPoints.CO2EquivalentsEmissionDirectScope1']*(df.loc[:,'EmissionIndicators.TotalCO2EquivalentsEmissionsToRevenues']/df.loc[:,'EmissionDataPoints.CO2EquivalentsEmissionTotal'])\n",
      "/var/folders/s_/qtbdy3px3m3_6k7xydrkhbsh0000gn/T/ipykernel_7686/191058123.py:3: SettingWithCopyWarning: \n",
      "A value is trying to be set on a copy of a slice from a DataFrame.\n",
      "Try using .loc[row_indexer,col_indexer] = value instead\n",
      "\n",
      "See the caveats in the documentation: https://pandas.pydata.org/pandas-docs/stable/user_guide/indexing.html#returning-a-view-versus-a-copy\n",
      "  df.loc[:,'CO2toRevenue'] = df.loc[:,'EmissionDataPoints.CO2EquivalentsEmissionDirectScope1']*(df.loc[:,'EmissionIndicators.TotalCO2EquivalentsEmissionsToRevenues']/df.loc[:,'EmissionDataPoints.CO2EquivalentsEmissionTotal'])\n"
     ]
    },
    {
     "name": "stdout",
     "output_type": "stream",
     "text": [
      "predictions based on sector (using scaled data)\n",
      "predictions based on sector (using scaled data)\n",
      "predictions based on sector (using scaled data)\n",
      "predictions based on sector (using scaled data)\n"
     ]
    },
    {
     "name": "stderr",
     "output_type": "stream",
     "text": [
      "/var/folders/s_/qtbdy3px3m3_6k7xydrkhbsh0000gn/T/ipykernel_7686/191058123.py:3: SettingWithCopyWarning: \n",
      "A value is trying to be set on a copy of a slice from a DataFrame.\n",
      "Try using .loc[row_indexer,col_indexer] = value instead\n",
      "\n",
      "See the caveats in the documentation: https://pandas.pydata.org/pandas-docs/stable/user_guide/indexing.html#returning-a-view-versus-a-copy\n",
      "  df.loc[:,'CO2toRevenue'] = df.loc[:,'EmissionDataPoints.CO2EquivalentsEmissionDirectScope1']*(df.loc[:,'EmissionIndicators.TotalCO2EquivalentsEmissionsToRevenues']/df.loc[:,'EmissionDataPoints.CO2EquivalentsEmissionTotal'])\n",
      "/var/folders/s_/qtbdy3px3m3_6k7xydrkhbsh0000gn/T/ipykernel_7686/191058123.py:3: SettingWithCopyWarning: \n",
      "A value is trying to be set on a copy of a slice from a DataFrame.\n",
      "Try using .loc[row_indexer,col_indexer] = value instead\n",
      "\n",
      "See the caveats in the documentation: https://pandas.pydata.org/pandas-docs/stable/user_guide/indexing.html#returning-a-view-versus-a-copy\n",
      "  df.loc[:,'CO2toRevenue'] = df.loc[:,'EmissionDataPoints.CO2EquivalentsEmissionDirectScope1']*(df.loc[:,'EmissionIndicators.TotalCO2EquivalentsEmissionsToRevenues']/df.loc[:,'EmissionDataPoints.CO2EquivalentsEmissionTotal'])\n"
     ]
    },
    {
     "name": "stdout",
     "output_type": "stream",
     "text": [
      "predictions based on sector (using scaled data)\n",
      "predictions based on sector (using scaled data)\n"
     ]
    },
    {
     "name": "stderr",
     "output_type": "stream",
     "text": [
      "/var/folders/s_/qtbdy3px3m3_6k7xydrkhbsh0000gn/T/ipykernel_7686/191058123.py:3: SettingWithCopyWarning: \n",
      "A value is trying to be set on a copy of a slice from a DataFrame.\n",
      "Try using .loc[row_indexer,col_indexer] = value instead\n",
      "\n",
      "See the caveats in the documentation: https://pandas.pydata.org/pandas-docs/stable/user_guide/indexing.html#returning-a-view-versus-a-copy\n",
      "  df.loc[:,'CO2toRevenue'] = df.loc[:,'EmissionDataPoints.CO2EquivalentsEmissionDirectScope1']*(df.loc[:,'EmissionIndicators.TotalCO2EquivalentsEmissionsToRevenues']/df.loc[:,'EmissionDataPoints.CO2EquivalentsEmissionTotal'])\n",
      "/var/folders/s_/qtbdy3px3m3_6k7xydrkhbsh0000gn/T/ipykernel_7686/191058123.py:3: SettingWithCopyWarning: \n",
      "A value is trying to be set on a copy of a slice from a DataFrame.\n",
      "Try using .loc[row_indexer,col_indexer] = value instead\n",
      "\n",
      "See the caveats in the documentation: https://pandas.pydata.org/pandas-docs/stable/user_guide/indexing.html#returning-a-view-versus-a-copy\n",
      "  df.loc[:,'CO2toRevenue'] = df.loc[:,'EmissionDataPoints.CO2EquivalentsEmissionDirectScope1']*(df.loc[:,'EmissionIndicators.TotalCO2EquivalentsEmissionsToRevenues']/df.loc[:,'EmissionDataPoints.CO2EquivalentsEmissionTotal'])\n"
     ]
    },
    {
     "name": "stdout",
     "output_type": "stream",
     "text": [
      "predictions based on sector (using scaled data)\n",
      "predictions based on sector (using scaled data)\n"
     ]
    },
    {
     "name": "stderr",
     "output_type": "stream",
     "text": [
      "/var/folders/s_/qtbdy3px3m3_6k7xydrkhbsh0000gn/T/ipykernel_7686/191058123.py:3: SettingWithCopyWarning: \n",
      "A value is trying to be set on a copy of a slice from a DataFrame.\n",
      "Try using .loc[row_indexer,col_indexer] = value instead\n",
      "\n",
      "See the caveats in the documentation: https://pandas.pydata.org/pandas-docs/stable/user_guide/indexing.html#returning-a-view-versus-a-copy\n",
      "  df.loc[:,'CO2toRevenue'] = df.loc[:,'EmissionDataPoints.CO2EquivalentsEmissionDirectScope1']*(df.loc[:,'EmissionIndicators.TotalCO2EquivalentsEmissionsToRevenues']/df.loc[:,'EmissionDataPoints.CO2EquivalentsEmissionTotal'])\n",
      "/var/folders/s_/qtbdy3px3m3_6k7xydrkhbsh0000gn/T/ipykernel_7686/191058123.py:3: SettingWithCopyWarning: \n",
      "A value is trying to be set on a copy of a slice from a DataFrame.\n",
      "Try using .loc[row_indexer,col_indexer] = value instead\n",
      "\n",
      "See the caveats in the documentation: https://pandas.pydata.org/pandas-docs/stable/user_guide/indexing.html#returning-a-view-versus-a-copy\n",
      "  df.loc[:,'CO2toRevenue'] = df.loc[:,'EmissionDataPoints.CO2EquivalentsEmissionDirectScope1']*(df.loc[:,'EmissionIndicators.TotalCO2EquivalentsEmissionsToRevenues']/df.loc[:,'EmissionDataPoints.CO2EquivalentsEmissionTotal'])\n"
     ]
    },
    {
     "name": "stdout",
     "output_type": "stream",
     "text": [
      "predictions based on sector (using scaled data)\n",
      "predictions based on orgid\n",
      "predictions based on sector (using scaled data)\n",
      "predictions based on sector (using scaled data)\n"
     ]
    },
    {
     "name": "stderr",
     "output_type": "stream",
     "text": [
      "/var/folders/s_/qtbdy3px3m3_6k7xydrkhbsh0000gn/T/ipykernel_7686/191058123.py:3: SettingWithCopyWarning: \n",
      "A value is trying to be set on a copy of a slice from a DataFrame.\n",
      "Try using .loc[row_indexer,col_indexer] = value instead\n",
      "\n",
      "See the caveats in the documentation: https://pandas.pydata.org/pandas-docs/stable/user_guide/indexing.html#returning-a-view-versus-a-copy\n",
      "  df.loc[:,'CO2toRevenue'] = df.loc[:,'EmissionDataPoints.CO2EquivalentsEmissionDirectScope1']*(df.loc[:,'EmissionIndicators.TotalCO2EquivalentsEmissionsToRevenues']/df.loc[:,'EmissionDataPoints.CO2EquivalentsEmissionTotal'])\n",
      "/var/folders/s_/qtbdy3px3m3_6k7xydrkhbsh0000gn/T/ipykernel_7686/191058123.py:3: SettingWithCopyWarning: \n",
      "A value is trying to be set on a copy of a slice from a DataFrame.\n",
      "Try using .loc[row_indexer,col_indexer] = value instead\n",
      "\n",
      "See the caveats in the documentation: https://pandas.pydata.org/pandas-docs/stable/user_guide/indexing.html#returning-a-view-versus-a-copy\n",
      "  df.loc[:,'CO2toRevenue'] = df.loc[:,'EmissionDataPoints.CO2EquivalentsEmissionDirectScope1']*(df.loc[:,'EmissionIndicators.TotalCO2EquivalentsEmissionsToRevenues']/df.loc[:,'EmissionDataPoints.CO2EquivalentsEmissionTotal'])\n",
      "/var/folders/s_/qtbdy3px3m3_6k7xydrkhbsh0000gn/T/ipykernel_7686/191058123.py:3: SettingWithCopyWarning: \n",
      "A value is trying to be set on a copy of a slice from a DataFrame.\n",
      "Try using .loc[row_indexer,col_indexer] = value instead\n",
      "\n",
      "See the caveats in the documentation: https://pandas.pydata.org/pandas-docs/stable/user_guide/indexing.html#returning-a-view-versus-a-copy\n",
      "  df.loc[:,'CO2toRevenue'] = df.loc[:,'EmissionDataPoints.CO2EquivalentsEmissionDirectScope1']*(df.loc[:,'EmissionIndicators.TotalCO2EquivalentsEmissionsToRevenues']/df.loc[:,'EmissionDataPoints.CO2EquivalentsEmissionTotal'])\n"
     ]
    },
    {
     "name": "stdout",
     "output_type": "stream",
     "text": [
      "predictions based on sector (using scaled data)\n",
      "predictions based on sector (using scaled data)\n"
     ]
    },
    {
     "name": "stderr",
     "output_type": "stream",
     "text": [
      "/var/folders/s_/qtbdy3px3m3_6k7xydrkhbsh0000gn/T/ipykernel_7686/191058123.py:3: SettingWithCopyWarning: \n",
      "A value is trying to be set on a copy of a slice from a DataFrame.\n",
      "Try using .loc[row_indexer,col_indexer] = value instead\n",
      "\n",
      "See the caveats in the documentation: https://pandas.pydata.org/pandas-docs/stable/user_guide/indexing.html#returning-a-view-versus-a-copy\n",
      "  df.loc[:,'CO2toRevenue'] = df.loc[:,'EmissionDataPoints.CO2EquivalentsEmissionDirectScope1']*(df.loc[:,'EmissionIndicators.TotalCO2EquivalentsEmissionsToRevenues']/df.loc[:,'EmissionDataPoints.CO2EquivalentsEmissionTotal'])\n",
      "/var/folders/s_/qtbdy3px3m3_6k7xydrkhbsh0000gn/T/ipykernel_7686/191058123.py:3: SettingWithCopyWarning: \n",
      "A value is trying to be set on a copy of a slice from a DataFrame.\n",
      "Try using .loc[row_indexer,col_indexer] = value instead\n",
      "\n",
      "See the caveats in the documentation: https://pandas.pydata.org/pandas-docs/stable/user_guide/indexing.html#returning-a-view-versus-a-copy\n",
      "  df.loc[:,'CO2toRevenue'] = df.loc[:,'EmissionDataPoints.CO2EquivalentsEmissionDirectScope1']*(df.loc[:,'EmissionIndicators.TotalCO2EquivalentsEmissionsToRevenues']/df.loc[:,'EmissionDataPoints.CO2EquivalentsEmissionTotal'])\n"
     ]
    },
    {
     "name": "stdout",
     "output_type": "stream",
     "text": [
      "predictions based on sector (using scaled data)\n",
      "predictions based on sector (using scaled data)\n"
     ]
    },
    {
     "name": "stderr",
     "output_type": "stream",
     "text": [
      "/var/folders/s_/qtbdy3px3m3_6k7xydrkhbsh0000gn/T/ipykernel_7686/191058123.py:3: SettingWithCopyWarning: \n",
      "A value is trying to be set on a copy of a slice from a DataFrame.\n",
      "Try using .loc[row_indexer,col_indexer] = value instead\n",
      "\n",
      "See the caveats in the documentation: https://pandas.pydata.org/pandas-docs/stable/user_guide/indexing.html#returning-a-view-versus-a-copy\n",
      "  df.loc[:,'CO2toRevenue'] = df.loc[:,'EmissionDataPoints.CO2EquivalentsEmissionDirectScope1']*(df.loc[:,'EmissionIndicators.TotalCO2EquivalentsEmissionsToRevenues']/df.loc[:,'EmissionDataPoints.CO2EquivalentsEmissionTotal'])\n",
      "/var/folders/s_/qtbdy3px3m3_6k7xydrkhbsh0000gn/T/ipykernel_7686/191058123.py:3: SettingWithCopyWarning: \n",
      "A value is trying to be set on a copy of a slice from a DataFrame.\n",
      "Try using .loc[row_indexer,col_indexer] = value instead\n",
      "\n",
      "See the caveats in the documentation: https://pandas.pydata.org/pandas-docs/stable/user_guide/indexing.html#returning-a-view-versus-a-copy\n",
      "  df.loc[:,'CO2toRevenue'] = df.loc[:,'EmissionDataPoints.CO2EquivalentsEmissionDirectScope1']*(df.loc[:,'EmissionIndicators.TotalCO2EquivalentsEmissionsToRevenues']/df.loc[:,'EmissionDataPoints.CO2EquivalentsEmissionTotal'])\n"
     ]
    },
    {
     "name": "stdout",
     "output_type": "stream",
     "text": [
      "predictions based on orgid\n",
      "predictions based on sector (using scaled data)\n",
      "predictions based on sector (using scaled data)\n"
     ]
    },
    {
     "name": "stderr",
     "output_type": "stream",
     "text": [
      "/var/folders/s_/qtbdy3px3m3_6k7xydrkhbsh0000gn/T/ipykernel_7686/191058123.py:3: SettingWithCopyWarning: \n",
      "A value is trying to be set on a copy of a slice from a DataFrame.\n",
      "Try using .loc[row_indexer,col_indexer] = value instead\n",
      "\n",
      "See the caveats in the documentation: https://pandas.pydata.org/pandas-docs/stable/user_guide/indexing.html#returning-a-view-versus-a-copy\n",
      "  df.loc[:,'CO2toRevenue'] = df.loc[:,'EmissionDataPoints.CO2EquivalentsEmissionDirectScope1']*(df.loc[:,'EmissionIndicators.TotalCO2EquivalentsEmissionsToRevenues']/df.loc[:,'EmissionDataPoints.CO2EquivalentsEmissionTotal'])\n",
      "/var/folders/s_/qtbdy3px3m3_6k7xydrkhbsh0000gn/T/ipykernel_7686/191058123.py:3: SettingWithCopyWarning: \n",
      "A value is trying to be set on a copy of a slice from a DataFrame.\n",
      "Try using .loc[row_indexer,col_indexer] = value instead\n",
      "\n",
      "See the caveats in the documentation: https://pandas.pydata.org/pandas-docs/stable/user_guide/indexing.html#returning-a-view-versus-a-copy\n",
      "  df.loc[:,'CO2toRevenue'] = df.loc[:,'EmissionDataPoints.CO2EquivalentsEmissionDirectScope1']*(df.loc[:,'EmissionIndicators.TotalCO2EquivalentsEmissionsToRevenues']/df.loc[:,'EmissionDataPoints.CO2EquivalentsEmissionTotal'])\n"
     ]
    },
    {
     "name": "stdout",
     "output_type": "stream",
     "text": [
      "predictions based on sector (using scaled data)\n",
      "predictions based on sector (using scaled data)\n"
     ]
    },
    {
     "name": "stderr",
     "output_type": "stream",
     "text": [
      "/var/folders/s_/qtbdy3px3m3_6k7xydrkhbsh0000gn/T/ipykernel_7686/191058123.py:3: SettingWithCopyWarning: \n",
      "A value is trying to be set on a copy of a slice from a DataFrame.\n",
      "Try using .loc[row_indexer,col_indexer] = value instead\n",
      "\n",
      "See the caveats in the documentation: https://pandas.pydata.org/pandas-docs/stable/user_guide/indexing.html#returning-a-view-versus-a-copy\n",
      "  df.loc[:,'CO2toRevenue'] = df.loc[:,'EmissionDataPoints.CO2EquivalentsEmissionDirectScope1']*(df.loc[:,'EmissionIndicators.TotalCO2EquivalentsEmissionsToRevenues']/df.loc[:,'EmissionDataPoints.CO2EquivalentsEmissionTotal'])\n",
      "/var/folders/s_/qtbdy3px3m3_6k7xydrkhbsh0000gn/T/ipykernel_7686/191058123.py:3: SettingWithCopyWarning: \n",
      "A value is trying to be set on a copy of a slice from a DataFrame.\n",
      "Try using .loc[row_indexer,col_indexer] = value instead\n",
      "\n",
      "See the caveats in the documentation: https://pandas.pydata.org/pandas-docs/stable/user_guide/indexing.html#returning-a-view-versus-a-copy\n",
      "  df.loc[:,'CO2toRevenue'] = df.loc[:,'EmissionDataPoints.CO2EquivalentsEmissionDirectScope1']*(df.loc[:,'EmissionIndicators.TotalCO2EquivalentsEmissionsToRevenues']/df.loc[:,'EmissionDataPoints.CO2EquivalentsEmissionTotal'])\n"
     ]
    },
    {
     "name": "stdout",
     "output_type": "stream",
     "text": [
      "predictions based on sector (using scaled data)\n",
      "predictions based on sector (using scaled data)\n",
      "predictions based on sector (using scaled data)\n"
     ]
    },
    {
     "name": "stderr",
     "output_type": "stream",
     "text": [
      "/var/folders/s_/qtbdy3px3m3_6k7xydrkhbsh0000gn/T/ipykernel_7686/191058123.py:3: SettingWithCopyWarning: \n",
      "A value is trying to be set on a copy of a slice from a DataFrame.\n",
      "Try using .loc[row_indexer,col_indexer] = value instead\n",
      "\n",
      "See the caveats in the documentation: https://pandas.pydata.org/pandas-docs/stable/user_guide/indexing.html#returning-a-view-versus-a-copy\n",
      "  df.loc[:,'CO2toRevenue'] = df.loc[:,'EmissionDataPoints.CO2EquivalentsEmissionDirectScope1']*(df.loc[:,'EmissionIndicators.TotalCO2EquivalentsEmissionsToRevenues']/df.loc[:,'EmissionDataPoints.CO2EquivalentsEmissionTotal'])\n",
      "/var/folders/s_/qtbdy3px3m3_6k7xydrkhbsh0000gn/T/ipykernel_7686/191058123.py:3: SettingWithCopyWarning: \n",
      "A value is trying to be set on a copy of a slice from a DataFrame.\n",
      "Try using .loc[row_indexer,col_indexer] = value instead\n",
      "\n",
      "See the caveats in the documentation: https://pandas.pydata.org/pandas-docs/stable/user_guide/indexing.html#returning-a-view-versus-a-copy\n",
      "  df.loc[:,'CO2toRevenue'] = df.loc[:,'EmissionDataPoints.CO2EquivalentsEmissionDirectScope1']*(df.loc[:,'EmissionIndicators.TotalCO2EquivalentsEmissionsToRevenues']/df.loc[:,'EmissionDataPoints.CO2EquivalentsEmissionTotal'])\n",
      "/var/folders/s_/qtbdy3px3m3_6k7xydrkhbsh0000gn/T/ipykernel_7686/191058123.py:3: SettingWithCopyWarning: \n",
      "A value is trying to be set on a copy of a slice from a DataFrame.\n",
      "Try using .loc[row_indexer,col_indexer] = value instead\n",
      "\n",
      "See the caveats in the documentation: https://pandas.pydata.org/pandas-docs/stable/user_guide/indexing.html#returning-a-view-versus-a-copy\n",
      "  df.loc[:,'CO2toRevenue'] = df.loc[:,'EmissionDataPoints.CO2EquivalentsEmissionDirectScope1']*(df.loc[:,'EmissionIndicators.TotalCO2EquivalentsEmissionsToRevenues']/df.loc[:,'EmissionDataPoints.CO2EquivalentsEmissionTotal'])\n"
     ]
    },
    {
     "name": "stdout",
     "output_type": "stream",
     "text": [
      "predictions based on orgid\n",
      "predictions based on orgid\n",
      "predictions based on orgid\n",
      "predictions based on sector (using scaled data)\n",
      "predictions based on orgid\n",
      "predictions based on orgid\n",
      "predictions based on sector (using scaled data)\n",
      "predictions based on orgid\n",
      "predictions based on sector (using scaled data)\n"
     ]
    },
    {
     "name": "stderr",
     "output_type": "stream",
     "text": [
      "/var/folders/s_/qtbdy3px3m3_6k7xydrkhbsh0000gn/T/ipykernel_7686/191058123.py:3: SettingWithCopyWarning: \n",
      "A value is trying to be set on a copy of a slice from a DataFrame.\n",
      "Try using .loc[row_indexer,col_indexer] = value instead\n",
      "\n",
      "See the caveats in the documentation: https://pandas.pydata.org/pandas-docs/stable/user_guide/indexing.html#returning-a-view-versus-a-copy\n",
      "  df.loc[:,'CO2toRevenue'] = df.loc[:,'EmissionDataPoints.CO2EquivalentsEmissionDirectScope1']*(df.loc[:,'EmissionIndicators.TotalCO2EquivalentsEmissionsToRevenues']/df.loc[:,'EmissionDataPoints.CO2EquivalentsEmissionTotal'])\n",
      "/var/folders/s_/qtbdy3px3m3_6k7xydrkhbsh0000gn/T/ipykernel_7686/191058123.py:3: SettingWithCopyWarning: \n",
      "A value is trying to be set on a copy of a slice from a DataFrame.\n",
      "Try using .loc[row_indexer,col_indexer] = value instead\n",
      "\n",
      "See the caveats in the documentation: https://pandas.pydata.org/pandas-docs/stable/user_guide/indexing.html#returning-a-view-versus-a-copy\n",
      "  df.loc[:,'CO2toRevenue'] = df.loc[:,'EmissionDataPoints.CO2EquivalentsEmissionDirectScope1']*(df.loc[:,'EmissionIndicators.TotalCO2EquivalentsEmissionsToRevenues']/df.loc[:,'EmissionDataPoints.CO2EquivalentsEmissionTotal'])\n",
      "/var/folders/s_/qtbdy3px3m3_6k7xydrkhbsh0000gn/T/ipykernel_7686/191058123.py:3: SettingWithCopyWarning: \n",
      "A value is trying to be set on a copy of a slice from a DataFrame.\n",
      "Try using .loc[row_indexer,col_indexer] = value instead\n",
      "\n",
      "See the caveats in the documentation: https://pandas.pydata.org/pandas-docs/stable/user_guide/indexing.html#returning-a-view-versus-a-copy\n",
      "  df.loc[:,'CO2toRevenue'] = df.loc[:,'EmissionDataPoints.CO2EquivalentsEmissionDirectScope1']*(df.loc[:,'EmissionIndicators.TotalCO2EquivalentsEmissionsToRevenues']/df.loc[:,'EmissionDataPoints.CO2EquivalentsEmissionTotal'])\n"
     ]
    },
    {
     "name": "stdout",
     "output_type": "stream",
     "text": [
      "predictions based on orgid\n",
      "predictions based on sector (using scaled data)\n",
      "predictions based on sector (using scaled data)\n",
      "predictions based on orgid\n",
      "predictions based on sector (using scaled data)\n"
     ]
    },
    {
     "name": "stderr",
     "output_type": "stream",
     "text": [
      "/var/folders/s_/qtbdy3px3m3_6k7xydrkhbsh0000gn/T/ipykernel_7686/191058123.py:3: SettingWithCopyWarning: \n",
      "A value is trying to be set on a copy of a slice from a DataFrame.\n",
      "Try using .loc[row_indexer,col_indexer] = value instead\n",
      "\n",
      "See the caveats in the documentation: https://pandas.pydata.org/pandas-docs/stable/user_guide/indexing.html#returning-a-view-versus-a-copy\n",
      "  df.loc[:,'CO2toRevenue'] = df.loc[:,'EmissionDataPoints.CO2EquivalentsEmissionDirectScope1']*(df.loc[:,'EmissionIndicators.TotalCO2EquivalentsEmissionsToRevenues']/df.loc[:,'EmissionDataPoints.CO2EquivalentsEmissionTotal'])\n",
      "/var/folders/s_/qtbdy3px3m3_6k7xydrkhbsh0000gn/T/ipykernel_7686/191058123.py:3: SettingWithCopyWarning: \n",
      "A value is trying to be set on a copy of a slice from a DataFrame.\n",
      "Try using .loc[row_indexer,col_indexer] = value instead\n",
      "\n",
      "See the caveats in the documentation: https://pandas.pydata.org/pandas-docs/stable/user_guide/indexing.html#returning-a-view-versus-a-copy\n",
      "  df.loc[:,'CO2toRevenue'] = df.loc[:,'EmissionDataPoints.CO2EquivalentsEmissionDirectScope1']*(df.loc[:,'EmissionIndicators.TotalCO2EquivalentsEmissionsToRevenues']/df.loc[:,'EmissionDataPoints.CO2EquivalentsEmissionTotal'])\n",
      "/var/folders/s_/qtbdy3px3m3_6k7xydrkhbsh0000gn/T/ipykernel_7686/191058123.py:3: SettingWithCopyWarning: \n",
      "A value is trying to be set on a copy of a slice from a DataFrame.\n",
      "Try using .loc[row_indexer,col_indexer] = value instead\n",
      "\n",
      "See the caveats in the documentation: https://pandas.pydata.org/pandas-docs/stable/user_guide/indexing.html#returning-a-view-versus-a-copy\n",
      "  df.loc[:,'CO2toRevenue'] = df.loc[:,'EmissionDataPoints.CO2EquivalentsEmissionDirectScope1']*(df.loc[:,'EmissionIndicators.TotalCO2EquivalentsEmissionsToRevenues']/df.loc[:,'EmissionDataPoints.CO2EquivalentsEmissionTotal'])\n"
     ]
    },
    {
     "name": "stdout",
     "output_type": "stream",
     "text": [
      "predictions based on sector (using scaled data)\n",
      "predictions based on sector (using scaled data)\n",
      "predictions based on sector (using scaled data)\n"
     ]
    },
    {
     "name": "stderr",
     "output_type": "stream",
     "text": [
      "/var/folders/s_/qtbdy3px3m3_6k7xydrkhbsh0000gn/T/ipykernel_7686/191058123.py:3: SettingWithCopyWarning: \n",
      "A value is trying to be set on a copy of a slice from a DataFrame.\n",
      "Try using .loc[row_indexer,col_indexer] = value instead\n",
      "\n",
      "See the caveats in the documentation: https://pandas.pydata.org/pandas-docs/stable/user_guide/indexing.html#returning-a-view-versus-a-copy\n",
      "  df.loc[:,'CO2toRevenue'] = df.loc[:,'EmissionDataPoints.CO2EquivalentsEmissionDirectScope1']*(df.loc[:,'EmissionIndicators.TotalCO2EquivalentsEmissionsToRevenues']/df.loc[:,'EmissionDataPoints.CO2EquivalentsEmissionTotal'])\n",
      "/var/folders/s_/qtbdy3px3m3_6k7xydrkhbsh0000gn/T/ipykernel_7686/191058123.py:3: SettingWithCopyWarning: \n",
      "A value is trying to be set on a copy of a slice from a DataFrame.\n",
      "Try using .loc[row_indexer,col_indexer] = value instead\n",
      "\n",
      "See the caveats in the documentation: https://pandas.pydata.org/pandas-docs/stable/user_guide/indexing.html#returning-a-view-versus-a-copy\n",
      "  df.loc[:,'CO2toRevenue'] = df.loc[:,'EmissionDataPoints.CO2EquivalentsEmissionDirectScope1']*(df.loc[:,'EmissionIndicators.TotalCO2EquivalentsEmissionsToRevenues']/df.loc[:,'EmissionDataPoints.CO2EquivalentsEmissionTotal'])\n",
      "/var/folders/s_/qtbdy3px3m3_6k7xydrkhbsh0000gn/T/ipykernel_7686/191058123.py:3: SettingWithCopyWarning: \n",
      "A value is trying to be set on a copy of a slice from a DataFrame.\n",
      "Try using .loc[row_indexer,col_indexer] = value instead\n",
      "\n",
      "See the caveats in the documentation: https://pandas.pydata.org/pandas-docs/stable/user_guide/indexing.html#returning-a-view-versus-a-copy\n",
      "  df.loc[:,'CO2toRevenue'] = df.loc[:,'EmissionDataPoints.CO2EquivalentsEmissionDirectScope1']*(df.loc[:,'EmissionIndicators.TotalCO2EquivalentsEmissionsToRevenues']/df.loc[:,'EmissionDataPoints.CO2EquivalentsEmissionTotal'])\n"
     ]
    },
    {
     "name": "stdout",
     "output_type": "stream",
     "text": [
      "predictions based on orgid\n",
      "predictions based on sector (using scaled data)\n",
      "predictions based on orgid\n",
      "predictions based on sector (using scaled data)\n",
      "predictions based on orgid\n",
      "predictions based on orgid\n",
      "predictions based on orgid\n",
      "predictions based on sector (using scaled data)"
     ]
    },
    {
     "name": "stderr",
     "output_type": "stream",
     "text": [
      "/var/folders/s_/qtbdy3px3m3_6k7xydrkhbsh0000gn/T/ipykernel_7686/191058123.py:3: SettingWithCopyWarning: \n",
      "A value is trying to be set on a copy of a slice from a DataFrame.\n",
      "Try using .loc[row_indexer,col_indexer] = value instead\n",
      "\n",
      "See the caveats in the documentation: https://pandas.pydata.org/pandas-docs/stable/user_guide/indexing.html#returning-a-view-versus-a-copy\n",
      "  df.loc[:,'CO2toRevenue'] = df.loc[:,'EmissionDataPoints.CO2EquivalentsEmissionDirectScope1']*(df.loc[:,'EmissionIndicators.TotalCO2EquivalentsEmissionsToRevenues']/df.loc[:,'EmissionDataPoints.CO2EquivalentsEmissionTotal'])\n",
      "/var/folders/s_/qtbdy3px3m3_6k7xydrkhbsh0000gn/T/ipykernel_7686/191058123.py:3: SettingWithCopyWarning: \n",
      "A value is trying to be set on a copy of a slice from a DataFrame.\n",
      "Try using .loc[row_indexer,col_indexer] = value instead\n",
      "\n",
      "See the caveats in the documentation: https://pandas.pydata.org/pandas-docs/stable/user_guide/indexing.html#returning-a-view-versus-a-copy\n",
      "  df.loc[:,'CO2toRevenue'] = df.loc[:,'EmissionDataPoints.CO2EquivalentsEmissionDirectScope1']*(df.loc[:,'EmissionIndicators.TotalCO2EquivalentsEmissionsToRevenues']/df.loc[:,'EmissionDataPoints.CO2EquivalentsEmissionTotal'])\n",
      "/var/folders/s_/qtbdy3px3m3_6k7xydrkhbsh0000gn/T/ipykernel_7686/191058123.py:3: SettingWithCopyWarning: \n",
      "A value is trying to be set on a copy of a slice from a DataFrame.\n",
      "Try using .loc[row_indexer,col_indexer] = value instead\n",
      "\n",
      "See the caveats in the documentation: https://pandas.pydata.org/pandas-docs/stable/user_guide/indexing.html#returning-a-view-versus-a-copy\n",
      "  df.loc[:,'CO2toRevenue'] = df.loc[:,'EmissionDataPoints.CO2EquivalentsEmissionDirectScope1']*(df.loc[:,'EmissionIndicators.TotalCO2EquivalentsEmissionsToRevenues']/df.loc[:,'EmissionDataPoints.CO2EquivalentsEmissionTotal'])\n"
     ]
    },
    {
     "name": "stdout",
     "output_type": "stream",
     "text": [
      "\n",
      "predictions based on sector (using scaled data)\n"
     ]
    },
    {
     "name": "stderr",
     "output_type": "stream",
     "text": [
      "/var/folders/s_/qtbdy3px3m3_6k7xydrkhbsh0000gn/T/ipykernel_7686/191058123.py:3: SettingWithCopyWarning: \n",
      "A value is trying to be set on a copy of a slice from a DataFrame.\n",
      "Try using .loc[row_indexer,col_indexer] = value instead\n",
      "\n",
      "See the caveats in the documentation: https://pandas.pydata.org/pandas-docs/stable/user_guide/indexing.html#returning-a-view-versus-a-copy\n",
      "  df.loc[:,'CO2toRevenue'] = df.loc[:,'EmissionDataPoints.CO2EquivalentsEmissionDirectScope1']*(df.loc[:,'EmissionIndicators.TotalCO2EquivalentsEmissionsToRevenues']/df.loc[:,'EmissionDataPoints.CO2EquivalentsEmissionTotal'])\n",
      "/var/folders/s_/qtbdy3px3m3_6k7xydrkhbsh0000gn/T/ipykernel_7686/191058123.py:3: SettingWithCopyWarning: \n",
      "A value is trying to be set on a copy of a slice from a DataFrame.\n",
      "Try using .loc[row_indexer,col_indexer] = value instead\n",
      "\n",
      "See the caveats in the documentation: https://pandas.pydata.org/pandas-docs/stable/user_guide/indexing.html#returning-a-view-versus-a-copy\n",
      "  df.loc[:,'CO2toRevenue'] = df.loc[:,'EmissionDataPoints.CO2EquivalentsEmissionDirectScope1']*(df.loc[:,'EmissionIndicators.TotalCO2EquivalentsEmissionsToRevenues']/df.loc[:,'EmissionDataPoints.CO2EquivalentsEmissionTotal'])\n",
      "/var/folders/s_/qtbdy3px3m3_6k7xydrkhbsh0000gn/T/ipykernel_7686/191058123.py:3: SettingWithCopyWarning: \n",
      "A value is trying to be set on a copy of a slice from a DataFrame.\n",
      "Try using .loc[row_indexer,col_indexer] = value instead\n",
      "\n",
      "See the caveats in the documentation: https://pandas.pydata.org/pandas-docs/stable/user_guide/indexing.html#returning-a-view-versus-a-copy\n",
      "  df.loc[:,'CO2toRevenue'] = df.loc[:,'EmissionDataPoints.CO2EquivalentsEmissionDirectScope1']*(df.loc[:,'EmissionIndicators.TotalCO2EquivalentsEmissionsToRevenues']/df.loc[:,'EmissionDataPoints.CO2EquivalentsEmissionTotal'])\n"
     ]
    },
    {
     "name": "stdout",
     "output_type": "stream",
     "text": [
      "predictions based on sector (using scaled data)\n",
      "predictions based on sector (using scaled data)\n",
      "predictions based on orgid\n",
      "predictions based on sector (using scaled data)\n",
      "predictions based on sector (using scaled data)\n",
      "predictions based on orgid\n",
      "predictions based on sector (using scaled data)\n"
     ]
    },
    {
     "name": "stderr",
     "output_type": "stream",
     "text": [
      "/var/folders/s_/qtbdy3px3m3_6k7xydrkhbsh0000gn/T/ipykernel_7686/191058123.py:3: SettingWithCopyWarning: \n",
      "A value is trying to be set on a copy of a slice from a DataFrame.\n",
      "Try using .loc[row_indexer,col_indexer] = value instead\n",
      "\n",
      "See the caveats in the documentation: https://pandas.pydata.org/pandas-docs/stable/user_guide/indexing.html#returning-a-view-versus-a-copy\n",
      "  df.loc[:,'CO2toRevenue'] = df.loc[:,'EmissionDataPoints.CO2EquivalentsEmissionDirectScope1']*(df.loc[:,'EmissionIndicators.TotalCO2EquivalentsEmissionsToRevenues']/df.loc[:,'EmissionDataPoints.CO2EquivalentsEmissionTotal'])\n",
      "/var/folders/s_/qtbdy3px3m3_6k7xydrkhbsh0000gn/T/ipykernel_7686/191058123.py:3: SettingWithCopyWarning: \n",
      "A value is trying to be set on a copy of a slice from a DataFrame.\n",
      "Try using .loc[row_indexer,col_indexer] = value instead\n",
      "\n",
      "See the caveats in the documentation: https://pandas.pydata.org/pandas-docs/stable/user_guide/indexing.html#returning-a-view-versus-a-copy\n",
      "  df.loc[:,'CO2toRevenue'] = df.loc[:,'EmissionDataPoints.CO2EquivalentsEmissionDirectScope1']*(df.loc[:,'EmissionIndicators.TotalCO2EquivalentsEmissionsToRevenues']/df.loc[:,'EmissionDataPoints.CO2EquivalentsEmissionTotal'])\n",
      "/var/folders/s_/qtbdy3px3m3_6k7xydrkhbsh0000gn/T/ipykernel_7686/191058123.py:3: SettingWithCopyWarning: \n",
      "A value is trying to be set on a copy of a slice from a DataFrame.\n",
      "Try using .loc[row_indexer,col_indexer] = value instead\n",
      "\n",
      "See the caveats in the documentation: https://pandas.pydata.org/pandas-docs/stable/user_guide/indexing.html#returning-a-view-versus-a-copy\n",
      "  df.loc[:,'CO2toRevenue'] = df.loc[:,'EmissionDataPoints.CO2EquivalentsEmissionDirectScope1']*(df.loc[:,'EmissionIndicators.TotalCO2EquivalentsEmissionsToRevenues']/df.loc[:,'EmissionDataPoints.CO2EquivalentsEmissionTotal'])\n"
     ]
    },
    {
     "name": "stdout",
     "output_type": "stream",
     "text": [
      "predictions based on orgid\n",
      "predictions based on sector (using scaled data)\n",
      "predictions based on sector (using scaled data)\n",
      "predictions based on sector (using scaled data)\n"
     ]
    },
    {
     "name": "stderr",
     "output_type": "stream",
     "text": [
      "/var/folders/s_/qtbdy3px3m3_6k7xydrkhbsh0000gn/T/ipykernel_7686/191058123.py:3: SettingWithCopyWarning: \n",
      "A value is trying to be set on a copy of a slice from a DataFrame.\n",
      "Try using .loc[row_indexer,col_indexer] = value instead\n",
      "\n",
      "See the caveats in the documentation: https://pandas.pydata.org/pandas-docs/stable/user_guide/indexing.html#returning-a-view-versus-a-copy\n",
      "  df.loc[:,'CO2toRevenue'] = df.loc[:,'EmissionDataPoints.CO2EquivalentsEmissionDirectScope1']*(df.loc[:,'EmissionIndicators.TotalCO2EquivalentsEmissionsToRevenues']/df.loc[:,'EmissionDataPoints.CO2EquivalentsEmissionTotal'])\n",
      "/var/folders/s_/qtbdy3px3m3_6k7xydrkhbsh0000gn/T/ipykernel_7686/191058123.py:3: SettingWithCopyWarning: \n",
      "A value is trying to be set on a copy of a slice from a DataFrame.\n",
      "Try using .loc[row_indexer,col_indexer] = value instead\n",
      "\n",
      "See the caveats in the documentation: https://pandas.pydata.org/pandas-docs/stable/user_guide/indexing.html#returning-a-view-versus-a-copy\n",
      "  df.loc[:,'CO2toRevenue'] = df.loc[:,'EmissionDataPoints.CO2EquivalentsEmissionDirectScope1']*(df.loc[:,'EmissionIndicators.TotalCO2EquivalentsEmissionsToRevenues']/df.loc[:,'EmissionDataPoints.CO2EquivalentsEmissionTotal'])\n",
      "/var/folders/s_/qtbdy3px3m3_6k7xydrkhbsh0000gn/T/ipykernel_7686/191058123.py:3: SettingWithCopyWarning: \n",
      "A value is trying to be set on a copy of a slice from a DataFrame.\n",
      "Try using .loc[row_indexer,col_indexer] = value instead\n",
      "\n",
      "See the caveats in the documentation: https://pandas.pydata.org/pandas-docs/stable/user_guide/indexing.html#returning-a-view-versus-a-copy\n",
      "  df.loc[:,'CO2toRevenue'] = df.loc[:,'EmissionDataPoints.CO2EquivalentsEmissionDirectScope1']*(df.loc[:,'EmissionIndicators.TotalCO2EquivalentsEmissionsToRevenues']/df.loc[:,'EmissionDataPoints.CO2EquivalentsEmissionTotal'])\n"
     ]
    },
    {
     "name": "stdout",
     "output_type": "stream",
     "text": [
      "predictions based on sector (using scaled data)\n",
      "predictions based on sector (using scaled data)\n"
     ]
    },
    {
     "name": "stderr",
     "output_type": "stream",
     "text": [
      "/var/folders/s_/qtbdy3px3m3_6k7xydrkhbsh0000gn/T/ipykernel_7686/191058123.py:3: SettingWithCopyWarning: \n",
      "A value is trying to be set on a copy of a slice from a DataFrame.\n",
      "Try using .loc[row_indexer,col_indexer] = value instead\n",
      "\n",
      "See the caveats in the documentation: https://pandas.pydata.org/pandas-docs/stable/user_guide/indexing.html#returning-a-view-versus-a-copy\n",
      "  df.loc[:,'CO2toRevenue'] = df.loc[:,'EmissionDataPoints.CO2EquivalentsEmissionDirectScope1']*(df.loc[:,'EmissionIndicators.TotalCO2EquivalentsEmissionsToRevenues']/df.loc[:,'EmissionDataPoints.CO2EquivalentsEmissionTotal'])\n",
      "/var/folders/s_/qtbdy3px3m3_6k7xydrkhbsh0000gn/T/ipykernel_7686/191058123.py:3: SettingWithCopyWarning: \n",
      "A value is trying to be set on a copy of a slice from a DataFrame.\n",
      "Try using .loc[row_indexer,col_indexer] = value instead\n",
      "\n",
      "See the caveats in the documentation: https://pandas.pydata.org/pandas-docs/stable/user_guide/indexing.html#returning-a-view-versus-a-copy\n",
      "  df.loc[:,'CO2toRevenue'] = df.loc[:,'EmissionDataPoints.CO2EquivalentsEmissionDirectScope1']*(df.loc[:,'EmissionIndicators.TotalCO2EquivalentsEmissionsToRevenues']/df.loc[:,'EmissionDataPoints.CO2EquivalentsEmissionTotal'])\n"
     ]
    },
    {
     "name": "stdout",
     "output_type": "stream",
     "text": [
      "predictions based on orgid\n",
      "predictions based on orgid\n",
      "predictions based on orgid\n",
      "predictions based on sector (using scaled data)\n",
      "predictions based on sector (using scaled data)\n",
      "predictions based on sector (using scaled data)\n"
     ]
    },
    {
     "name": "stderr",
     "output_type": "stream",
     "text": [
      "/var/folders/s_/qtbdy3px3m3_6k7xydrkhbsh0000gn/T/ipykernel_7686/191058123.py:3: SettingWithCopyWarning: \n",
      "A value is trying to be set on a copy of a slice from a DataFrame.\n",
      "Try using .loc[row_indexer,col_indexer] = value instead\n",
      "\n",
      "See the caveats in the documentation: https://pandas.pydata.org/pandas-docs/stable/user_guide/indexing.html#returning-a-view-versus-a-copy\n",
      "  df.loc[:,'CO2toRevenue'] = df.loc[:,'EmissionDataPoints.CO2EquivalentsEmissionDirectScope1']*(df.loc[:,'EmissionIndicators.TotalCO2EquivalentsEmissionsToRevenues']/df.loc[:,'EmissionDataPoints.CO2EquivalentsEmissionTotal'])\n",
      "/var/folders/s_/qtbdy3px3m3_6k7xydrkhbsh0000gn/T/ipykernel_7686/191058123.py:3: SettingWithCopyWarning: \n",
      "A value is trying to be set on a copy of a slice from a DataFrame.\n",
      "Try using .loc[row_indexer,col_indexer] = value instead\n",
      "\n",
      "See the caveats in the documentation: https://pandas.pydata.org/pandas-docs/stable/user_guide/indexing.html#returning-a-view-versus-a-copy\n",
      "  df.loc[:,'CO2toRevenue'] = df.loc[:,'EmissionDataPoints.CO2EquivalentsEmissionDirectScope1']*(df.loc[:,'EmissionIndicators.TotalCO2EquivalentsEmissionsToRevenues']/df.loc[:,'EmissionDataPoints.CO2EquivalentsEmissionTotal'])\n",
      "/var/folders/s_/qtbdy3px3m3_6k7xydrkhbsh0000gn/T/ipykernel_7686/191058123.py:3: SettingWithCopyWarning: \n",
      "A value is trying to be set on a copy of a slice from a DataFrame.\n",
      "Try using .loc[row_indexer,col_indexer] = value instead\n",
      "\n",
      "See the caveats in the documentation: https://pandas.pydata.org/pandas-docs/stable/user_guide/indexing.html#returning-a-view-versus-a-copy\n",
      "  df.loc[:,'CO2toRevenue'] = df.loc[:,'EmissionDataPoints.CO2EquivalentsEmissionDirectScope1']*(df.loc[:,'EmissionIndicators.TotalCO2EquivalentsEmissionsToRevenues']/df.loc[:,'EmissionDataPoints.CO2EquivalentsEmissionTotal'])\n"
     ]
    },
    {
     "name": "stdout",
     "output_type": "stream",
     "text": [
      "predictions based on sector (using scaled data)\n",
      "predictions based on orgid\n",
      "predictions based on sector (using scaled data)\n"
     ]
    },
    {
     "name": "stderr",
     "output_type": "stream",
     "text": [
      "/var/folders/s_/qtbdy3px3m3_6k7xydrkhbsh0000gn/T/ipykernel_7686/191058123.py:3: SettingWithCopyWarning: \n",
      "A value is trying to be set on a copy of a slice from a DataFrame.\n",
      "Try using .loc[row_indexer,col_indexer] = value instead\n",
      "\n",
      "See the caveats in the documentation: https://pandas.pydata.org/pandas-docs/stable/user_guide/indexing.html#returning-a-view-versus-a-copy\n",
      "  df.loc[:,'CO2toRevenue'] = df.loc[:,'EmissionDataPoints.CO2EquivalentsEmissionDirectScope1']*(df.loc[:,'EmissionIndicators.TotalCO2EquivalentsEmissionsToRevenues']/df.loc[:,'EmissionDataPoints.CO2EquivalentsEmissionTotal'])\n",
      "/var/folders/s_/qtbdy3px3m3_6k7xydrkhbsh0000gn/T/ipykernel_7686/191058123.py:3: SettingWithCopyWarning: \n",
      "A value is trying to be set on a copy of a slice from a DataFrame.\n",
      "Try using .loc[row_indexer,col_indexer] = value instead\n",
      "\n",
      "See the caveats in the documentation: https://pandas.pydata.org/pandas-docs/stable/user_guide/indexing.html#returning-a-view-versus-a-copy\n",
      "  df.loc[:,'CO2toRevenue'] = df.loc[:,'EmissionDataPoints.CO2EquivalentsEmissionDirectScope1']*(df.loc[:,'EmissionIndicators.TotalCO2EquivalentsEmissionsToRevenues']/df.loc[:,'EmissionDataPoints.CO2EquivalentsEmissionTotal'])\n"
     ]
    },
    {
     "name": "stdout",
     "output_type": "stream",
     "text": [
      "predictions based on sector (using scaled data)\n",
      "predictions based on sector (using scaled data)\n",
      "predictions based on sector (using scaled data)\n"
     ]
    },
    {
     "name": "stderr",
     "output_type": "stream",
     "text": [
      "/var/folders/s_/qtbdy3px3m3_6k7xydrkhbsh0000gn/T/ipykernel_7686/191058123.py:3: SettingWithCopyWarning: \n",
      "A value is trying to be set on a copy of a slice from a DataFrame.\n",
      "Try using .loc[row_indexer,col_indexer] = value instead\n",
      "\n",
      "See the caveats in the documentation: https://pandas.pydata.org/pandas-docs/stable/user_guide/indexing.html#returning-a-view-versus-a-copy\n",
      "  df.loc[:,'CO2toRevenue'] = df.loc[:,'EmissionDataPoints.CO2EquivalentsEmissionDirectScope1']*(df.loc[:,'EmissionIndicators.TotalCO2EquivalentsEmissionsToRevenues']/df.loc[:,'EmissionDataPoints.CO2EquivalentsEmissionTotal'])\n",
      "/var/folders/s_/qtbdy3px3m3_6k7xydrkhbsh0000gn/T/ipykernel_7686/191058123.py:3: SettingWithCopyWarning: \n",
      "A value is trying to be set on a copy of a slice from a DataFrame.\n",
      "Try using .loc[row_indexer,col_indexer] = value instead\n",
      "\n",
      "See the caveats in the documentation: https://pandas.pydata.org/pandas-docs/stable/user_guide/indexing.html#returning-a-view-versus-a-copy\n",
      "  df.loc[:,'CO2toRevenue'] = df.loc[:,'EmissionDataPoints.CO2EquivalentsEmissionDirectScope1']*(df.loc[:,'EmissionIndicators.TotalCO2EquivalentsEmissionsToRevenues']/df.loc[:,'EmissionDataPoints.CO2EquivalentsEmissionTotal'])\n",
      "/var/folders/s_/qtbdy3px3m3_6k7xydrkhbsh0000gn/T/ipykernel_7686/191058123.py:3: SettingWithCopyWarning: \n",
      "A value is trying to be set on a copy of a slice from a DataFrame.\n",
      "Try using .loc[row_indexer,col_indexer] = value instead\n",
      "\n",
      "See the caveats in the documentation: https://pandas.pydata.org/pandas-docs/stable/user_guide/indexing.html#returning-a-view-versus-a-copy\n",
      "  df.loc[:,'CO2toRevenue'] = df.loc[:,'EmissionDataPoints.CO2EquivalentsEmissionDirectScope1']*(df.loc[:,'EmissionIndicators.TotalCO2EquivalentsEmissionsToRevenues']/df.loc[:,'EmissionDataPoints.CO2EquivalentsEmissionTotal'])\n"
     ]
    },
    {
     "name": "stdout",
     "output_type": "stream",
     "text": [
      "predictions based on sector (using scaled data)\n",
      "predictions based on sector (using scaled data)\n"
     ]
    },
    {
     "name": "stderr",
     "output_type": "stream",
     "text": [
      "/var/folders/s_/qtbdy3px3m3_6k7xydrkhbsh0000gn/T/ipykernel_7686/191058123.py:3: SettingWithCopyWarning: \n",
      "A value is trying to be set on a copy of a slice from a DataFrame.\n",
      "Try using .loc[row_indexer,col_indexer] = value instead\n",
      "\n",
      "See the caveats in the documentation: https://pandas.pydata.org/pandas-docs/stable/user_guide/indexing.html#returning-a-view-versus-a-copy\n",
      "  df.loc[:,'CO2toRevenue'] = df.loc[:,'EmissionDataPoints.CO2EquivalentsEmissionDirectScope1']*(df.loc[:,'EmissionIndicators.TotalCO2EquivalentsEmissionsToRevenues']/df.loc[:,'EmissionDataPoints.CO2EquivalentsEmissionTotal'])\n",
      "/var/folders/s_/qtbdy3px3m3_6k7xydrkhbsh0000gn/T/ipykernel_7686/191058123.py:3: SettingWithCopyWarning: \n",
      "A value is trying to be set on a copy of a slice from a DataFrame.\n",
      "Try using .loc[row_indexer,col_indexer] = value instead\n",
      "\n",
      "See the caveats in the documentation: https://pandas.pydata.org/pandas-docs/stable/user_guide/indexing.html#returning-a-view-versus-a-copy\n",
      "  df.loc[:,'CO2toRevenue'] = df.loc[:,'EmissionDataPoints.CO2EquivalentsEmissionDirectScope1']*(df.loc[:,'EmissionIndicators.TotalCO2EquivalentsEmissionsToRevenues']/df.loc[:,'EmissionDataPoints.CO2EquivalentsEmissionTotal'])\n"
     ]
    },
    {
     "name": "stdout",
     "output_type": "stream",
     "text": [
      "predictions based on orgid\n",
      "predictions based on orgid\n",
      "predictions based on orgid\n",
      "predictions based on sector (using scaled data)\n",
      "predictions based on sector (using scaled data)\n"
     ]
    },
    {
     "name": "stderr",
     "output_type": "stream",
     "text": [
      "/var/folders/s_/qtbdy3px3m3_6k7xydrkhbsh0000gn/T/ipykernel_7686/191058123.py:3: SettingWithCopyWarning: \n",
      "A value is trying to be set on a copy of a slice from a DataFrame.\n",
      "Try using .loc[row_indexer,col_indexer] = value instead\n",
      "\n",
      "See the caveats in the documentation: https://pandas.pydata.org/pandas-docs/stable/user_guide/indexing.html#returning-a-view-versus-a-copy\n",
      "  df.loc[:,'CO2toRevenue'] = df.loc[:,'EmissionDataPoints.CO2EquivalentsEmissionDirectScope1']*(df.loc[:,'EmissionIndicators.TotalCO2EquivalentsEmissionsToRevenues']/df.loc[:,'EmissionDataPoints.CO2EquivalentsEmissionTotal'])\n",
      "/var/folders/s_/qtbdy3px3m3_6k7xydrkhbsh0000gn/T/ipykernel_7686/191058123.py:3: SettingWithCopyWarning: \n",
      "A value is trying to be set on a copy of a slice from a DataFrame.\n",
      "Try using .loc[row_indexer,col_indexer] = value instead\n",
      "\n",
      "See the caveats in the documentation: https://pandas.pydata.org/pandas-docs/stable/user_guide/indexing.html#returning-a-view-versus-a-copy\n",
      "  df.loc[:,'CO2toRevenue'] = df.loc[:,'EmissionDataPoints.CO2EquivalentsEmissionDirectScope1']*(df.loc[:,'EmissionIndicators.TotalCO2EquivalentsEmissionsToRevenues']/df.loc[:,'EmissionDataPoints.CO2EquivalentsEmissionTotal'])\n"
     ]
    },
    {
     "name": "stdout",
     "output_type": "stream",
     "text": [
      "predictions based on sector (using scaled data)\n",
      "predictions based on sector (using scaled data)\n"
     ]
    },
    {
     "name": "stderr",
     "output_type": "stream",
     "text": [
      "/var/folders/s_/qtbdy3px3m3_6k7xydrkhbsh0000gn/T/ipykernel_7686/191058123.py:3: SettingWithCopyWarning: \n",
      "A value is trying to be set on a copy of a slice from a DataFrame.\n",
      "Try using .loc[row_indexer,col_indexer] = value instead\n",
      "\n",
      "See the caveats in the documentation: https://pandas.pydata.org/pandas-docs/stable/user_guide/indexing.html#returning-a-view-versus-a-copy\n",
      "  df.loc[:,'CO2toRevenue'] = df.loc[:,'EmissionDataPoints.CO2EquivalentsEmissionDirectScope1']*(df.loc[:,'EmissionIndicators.TotalCO2EquivalentsEmissionsToRevenues']/df.loc[:,'EmissionDataPoints.CO2EquivalentsEmissionTotal'])\n",
      "/var/folders/s_/qtbdy3px3m3_6k7xydrkhbsh0000gn/T/ipykernel_7686/191058123.py:3: SettingWithCopyWarning: \n",
      "A value is trying to be set on a copy of a slice from a DataFrame.\n",
      "Try using .loc[row_indexer,col_indexer] = value instead\n",
      "\n",
      "See the caveats in the documentation: https://pandas.pydata.org/pandas-docs/stable/user_guide/indexing.html#returning-a-view-versus-a-copy\n",
      "  df.loc[:,'CO2toRevenue'] = df.loc[:,'EmissionDataPoints.CO2EquivalentsEmissionDirectScope1']*(df.loc[:,'EmissionIndicators.TotalCO2EquivalentsEmissionsToRevenues']/df.loc[:,'EmissionDataPoints.CO2EquivalentsEmissionTotal'])\n"
     ]
    },
    {
     "name": "stdout",
     "output_type": "stream",
     "text": [
      "predictions based on sector (using scaled data)\n",
      "predictions based on sector (using scaled data)\n"
     ]
    },
    {
     "name": "stderr",
     "output_type": "stream",
     "text": [
      "/var/folders/s_/qtbdy3px3m3_6k7xydrkhbsh0000gn/T/ipykernel_7686/191058123.py:3: SettingWithCopyWarning: \n",
      "A value is trying to be set on a copy of a slice from a DataFrame.\n",
      "Try using .loc[row_indexer,col_indexer] = value instead\n",
      "\n",
      "See the caveats in the documentation: https://pandas.pydata.org/pandas-docs/stable/user_guide/indexing.html#returning-a-view-versus-a-copy\n",
      "  df.loc[:,'CO2toRevenue'] = df.loc[:,'EmissionDataPoints.CO2EquivalentsEmissionDirectScope1']*(df.loc[:,'EmissionIndicators.TotalCO2EquivalentsEmissionsToRevenues']/df.loc[:,'EmissionDataPoints.CO2EquivalentsEmissionTotal'])\n",
      "/var/folders/s_/qtbdy3px3m3_6k7xydrkhbsh0000gn/T/ipykernel_7686/191058123.py:3: SettingWithCopyWarning: \n",
      "A value is trying to be set on a copy of a slice from a DataFrame.\n",
      "Try using .loc[row_indexer,col_indexer] = value instead\n",
      "\n",
      "See the caveats in the documentation: https://pandas.pydata.org/pandas-docs/stable/user_guide/indexing.html#returning-a-view-versus-a-copy\n",
      "  df.loc[:,'CO2toRevenue'] = df.loc[:,'EmissionDataPoints.CO2EquivalentsEmissionDirectScope1']*(df.loc[:,'EmissionIndicators.TotalCO2EquivalentsEmissionsToRevenues']/df.loc[:,'EmissionDataPoints.CO2EquivalentsEmissionTotal'])\n"
     ]
    },
    {
     "name": "stdout",
     "output_type": "stream",
     "text": [
      "predictions based on sector (using scaled data)\n",
      "predictions based on sector (using scaled data)\n"
     ]
    },
    {
     "name": "stderr",
     "output_type": "stream",
     "text": [
      "/var/folders/s_/qtbdy3px3m3_6k7xydrkhbsh0000gn/T/ipykernel_7686/191058123.py:3: SettingWithCopyWarning: \n",
      "A value is trying to be set on a copy of a slice from a DataFrame.\n",
      "Try using .loc[row_indexer,col_indexer] = value instead\n",
      "\n",
      "See the caveats in the documentation: https://pandas.pydata.org/pandas-docs/stable/user_guide/indexing.html#returning-a-view-versus-a-copy\n",
      "  df.loc[:,'CO2toRevenue'] = df.loc[:,'EmissionDataPoints.CO2EquivalentsEmissionDirectScope1']*(df.loc[:,'EmissionIndicators.TotalCO2EquivalentsEmissionsToRevenues']/df.loc[:,'EmissionDataPoints.CO2EquivalentsEmissionTotal'])\n",
      "/var/folders/s_/qtbdy3px3m3_6k7xydrkhbsh0000gn/T/ipykernel_7686/191058123.py:3: SettingWithCopyWarning: \n",
      "A value is trying to be set on a copy of a slice from a DataFrame.\n",
      "Try using .loc[row_indexer,col_indexer] = value instead\n",
      "\n",
      "See the caveats in the documentation: https://pandas.pydata.org/pandas-docs/stable/user_guide/indexing.html#returning-a-view-versus-a-copy\n",
      "  df.loc[:,'CO2toRevenue'] = df.loc[:,'EmissionDataPoints.CO2EquivalentsEmissionDirectScope1']*(df.loc[:,'EmissionIndicators.TotalCO2EquivalentsEmissionsToRevenues']/df.loc[:,'EmissionDataPoints.CO2EquivalentsEmissionTotal'])\n"
     ]
    },
    {
     "name": "stdout",
     "output_type": "stream",
     "text": [
      "predictions based on sector (using scaled data)\n",
      "predictions based on sector (using scaled data)\n"
     ]
    },
    {
     "name": "stderr",
     "output_type": "stream",
     "text": [
      "/var/folders/s_/qtbdy3px3m3_6k7xydrkhbsh0000gn/T/ipykernel_7686/191058123.py:3: SettingWithCopyWarning: \n",
      "A value is trying to be set on a copy of a slice from a DataFrame.\n",
      "Try using .loc[row_indexer,col_indexer] = value instead\n",
      "\n",
      "See the caveats in the documentation: https://pandas.pydata.org/pandas-docs/stable/user_guide/indexing.html#returning-a-view-versus-a-copy\n",
      "  df.loc[:,'CO2toRevenue'] = df.loc[:,'EmissionDataPoints.CO2EquivalentsEmissionDirectScope1']*(df.loc[:,'EmissionIndicators.TotalCO2EquivalentsEmissionsToRevenues']/df.loc[:,'EmissionDataPoints.CO2EquivalentsEmissionTotal'])\n",
      "/var/folders/s_/qtbdy3px3m3_6k7xydrkhbsh0000gn/T/ipykernel_7686/191058123.py:3: SettingWithCopyWarning: \n",
      "A value is trying to be set on a copy of a slice from a DataFrame.\n",
      "Try using .loc[row_indexer,col_indexer] = value instead\n",
      "\n",
      "See the caveats in the documentation: https://pandas.pydata.org/pandas-docs/stable/user_guide/indexing.html#returning-a-view-versus-a-copy\n",
      "  df.loc[:,'CO2toRevenue'] = df.loc[:,'EmissionDataPoints.CO2EquivalentsEmissionDirectScope1']*(df.loc[:,'EmissionIndicators.TotalCO2EquivalentsEmissionsToRevenues']/df.loc[:,'EmissionDataPoints.CO2EquivalentsEmissionTotal'])\n"
     ]
    },
    {
     "name": "stdout",
     "output_type": "stream",
     "text": [
      "predictions based on sector (using scaled data)\n",
      "predictions based on sector (using scaled data)\n",
      "predictions based on sector (using scaled data)\n"
     ]
    },
    {
     "name": "stderr",
     "output_type": "stream",
     "text": [
      "/var/folders/s_/qtbdy3px3m3_6k7xydrkhbsh0000gn/T/ipykernel_7686/191058123.py:3: SettingWithCopyWarning: \n",
      "A value is trying to be set on a copy of a slice from a DataFrame.\n",
      "Try using .loc[row_indexer,col_indexer] = value instead\n",
      "\n",
      "See the caveats in the documentation: https://pandas.pydata.org/pandas-docs/stable/user_guide/indexing.html#returning-a-view-versus-a-copy\n",
      "  df.loc[:,'CO2toRevenue'] = df.loc[:,'EmissionDataPoints.CO2EquivalentsEmissionDirectScope1']*(df.loc[:,'EmissionIndicators.TotalCO2EquivalentsEmissionsToRevenues']/df.loc[:,'EmissionDataPoints.CO2EquivalentsEmissionTotal'])\n",
      "/var/folders/s_/qtbdy3px3m3_6k7xydrkhbsh0000gn/T/ipykernel_7686/191058123.py:3: SettingWithCopyWarning: \n",
      "A value is trying to be set on a copy of a slice from a DataFrame.\n",
      "Try using .loc[row_indexer,col_indexer] = value instead\n",
      "\n",
      "See the caveats in the documentation: https://pandas.pydata.org/pandas-docs/stable/user_guide/indexing.html#returning-a-view-versus-a-copy\n",
      "  df.loc[:,'CO2toRevenue'] = df.loc[:,'EmissionDataPoints.CO2EquivalentsEmissionDirectScope1']*(df.loc[:,'EmissionIndicators.TotalCO2EquivalentsEmissionsToRevenues']/df.loc[:,'EmissionDataPoints.CO2EquivalentsEmissionTotal'])\n",
      "/var/folders/s_/qtbdy3px3m3_6k7xydrkhbsh0000gn/T/ipykernel_7686/191058123.py:3: SettingWithCopyWarning: \n",
      "A value is trying to be set on a copy of a slice from a DataFrame.\n",
      "Try using .loc[row_indexer,col_indexer] = value instead\n",
      "\n",
      "See the caveats in the documentation: https://pandas.pydata.org/pandas-docs/stable/user_guide/indexing.html#returning-a-view-versus-a-copy\n",
      "  df.loc[:,'CO2toRevenue'] = df.loc[:,'EmissionDataPoints.CO2EquivalentsEmissionDirectScope1']*(df.loc[:,'EmissionIndicators.TotalCO2EquivalentsEmissionsToRevenues']/df.loc[:,'EmissionDataPoints.CO2EquivalentsEmissionTotal'])\n"
     ]
    },
    {
     "name": "stdout",
     "output_type": "stream",
     "text": [
      "predictions based on orgid\n",
      "predictions based on sector (using scaled data)\n",
      "predictions based on orgid\n",
      "predictions based on sector (using scaled data)\n"
     ]
    },
    {
     "name": "stderr",
     "output_type": "stream",
     "text": [
      "/var/folders/s_/qtbdy3px3m3_6k7xydrkhbsh0000gn/T/ipykernel_7686/191058123.py:3: SettingWithCopyWarning: \n",
      "A value is trying to be set on a copy of a slice from a DataFrame.\n",
      "Try using .loc[row_indexer,col_indexer] = value instead\n",
      "\n",
      "See the caveats in the documentation: https://pandas.pydata.org/pandas-docs/stable/user_guide/indexing.html#returning-a-view-versus-a-copy\n",
      "  df.loc[:,'CO2toRevenue'] = df.loc[:,'EmissionDataPoints.CO2EquivalentsEmissionDirectScope1']*(df.loc[:,'EmissionIndicators.TotalCO2EquivalentsEmissionsToRevenues']/df.loc[:,'EmissionDataPoints.CO2EquivalentsEmissionTotal'])\n",
      "/var/folders/s_/qtbdy3px3m3_6k7xydrkhbsh0000gn/T/ipykernel_7686/191058123.py:3: SettingWithCopyWarning: \n",
      "A value is trying to be set on a copy of a slice from a DataFrame.\n",
      "Try using .loc[row_indexer,col_indexer] = value instead\n",
      "\n",
      "See the caveats in the documentation: https://pandas.pydata.org/pandas-docs/stable/user_guide/indexing.html#returning-a-view-versus-a-copy\n",
      "  df.loc[:,'CO2toRevenue'] = df.loc[:,'EmissionDataPoints.CO2EquivalentsEmissionDirectScope1']*(df.loc[:,'EmissionIndicators.TotalCO2EquivalentsEmissionsToRevenues']/df.loc[:,'EmissionDataPoints.CO2EquivalentsEmissionTotal'])\n"
     ]
    },
    {
     "name": "stdout",
     "output_type": "stream",
     "text": [
      "predictions based on sector (using scaled data)\n",
      "predictions based on sector (using scaled data)\n"
     ]
    },
    {
     "name": "stderr",
     "output_type": "stream",
     "text": [
      "/var/folders/s_/qtbdy3px3m3_6k7xydrkhbsh0000gn/T/ipykernel_7686/191058123.py:3: SettingWithCopyWarning: \n",
      "A value is trying to be set on a copy of a slice from a DataFrame.\n",
      "Try using .loc[row_indexer,col_indexer] = value instead\n",
      "\n",
      "See the caveats in the documentation: https://pandas.pydata.org/pandas-docs/stable/user_guide/indexing.html#returning-a-view-versus-a-copy\n",
      "  df.loc[:,'CO2toRevenue'] = df.loc[:,'EmissionDataPoints.CO2EquivalentsEmissionDirectScope1']*(df.loc[:,'EmissionIndicators.TotalCO2EquivalentsEmissionsToRevenues']/df.loc[:,'EmissionDataPoints.CO2EquivalentsEmissionTotal'])\n",
      "/var/folders/s_/qtbdy3px3m3_6k7xydrkhbsh0000gn/T/ipykernel_7686/191058123.py:3: SettingWithCopyWarning: \n",
      "A value is trying to be set on a copy of a slice from a DataFrame.\n",
      "Try using .loc[row_indexer,col_indexer] = value instead\n",
      "\n",
      "See the caveats in the documentation: https://pandas.pydata.org/pandas-docs/stable/user_guide/indexing.html#returning-a-view-versus-a-copy\n",
      "  df.loc[:,'CO2toRevenue'] = df.loc[:,'EmissionDataPoints.CO2EquivalentsEmissionDirectScope1']*(df.loc[:,'EmissionIndicators.TotalCO2EquivalentsEmissionsToRevenues']/df.loc[:,'EmissionDataPoints.CO2EquivalentsEmissionTotal'])\n"
     ]
    },
    {
     "name": "stdout",
     "output_type": "stream",
     "text": [
      "predictions based on sector (using scaled data)\n",
      "predictions based on sector (using scaled data)\n"
     ]
    },
    {
     "name": "stderr",
     "output_type": "stream",
     "text": [
      "/var/folders/s_/qtbdy3px3m3_6k7xydrkhbsh0000gn/T/ipykernel_7686/191058123.py:3: SettingWithCopyWarning: \n",
      "A value is trying to be set on a copy of a slice from a DataFrame.\n",
      "Try using .loc[row_indexer,col_indexer] = value instead\n",
      "\n",
      "See the caveats in the documentation: https://pandas.pydata.org/pandas-docs/stable/user_guide/indexing.html#returning-a-view-versus-a-copy\n",
      "  df.loc[:,'CO2toRevenue'] = df.loc[:,'EmissionDataPoints.CO2EquivalentsEmissionDirectScope1']*(df.loc[:,'EmissionIndicators.TotalCO2EquivalentsEmissionsToRevenues']/df.loc[:,'EmissionDataPoints.CO2EquivalentsEmissionTotal'])\n",
      "/var/folders/s_/qtbdy3px3m3_6k7xydrkhbsh0000gn/T/ipykernel_7686/191058123.py:3: SettingWithCopyWarning: \n",
      "A value is trying to be set on a copy of a slice from a DataFrame.\n",
      "Try using .loc[row_indexer,col_indexer] = value instead\n",
      "\n",
      "See the caveats in the documentation: https://pandas.pydata.org/pandas-docs/stable/user_guide/indexing.html#returning-a-view-versus-a-copy\n",
      "  df.loc[:,'CO2toRevenue'] = df.loc[:,'EmissionDataPoints.CO2EquivalentsEmissionDirectScope1']*(df.loc[:,'EmissionIndicators.TotalCO2EquivalentsEmissionsToRevenues']/df.loc[:,'EmissionDataPoints.CO2EquivalentsEmissionTotal'])\n"
     ]
    },
    {
     "name": "stdout",
     "output_type": "stream",
     "text": [
      "predictions based on sector (using scaled data)\n",
      "predictions based on sector (using scaled data)\n"
     ]
    },
    {
     "name": "stderr",
     "output_type": "stream",
     "text": [
      "/var/folders/s_/qtbdy3px3m3_6k7xydrkhbsh0000gn/T/ipykernel_7686/191058123.py:3: SettingWithCopyWarning: \n",
      "A value is trying to be set on a copy of a slice from a DataFrame.\n",
      "Try using .loc[row_indexer,col_indexer] = value instead\n",
      "\n",
      "See the caveats in the documentation: https://pandas.pydata.org/pandas-docs/stable/user_guide/indexing.html#returning-a-view-versus-a-copy\n",
      "  df.loc[:,'CO2toRevenue'] = df.loc[:,'EmissionDataPoints.CO2EquivalentsEmissionDirectScope1']*(df.loc[:,'EmissionIndicators.TotalCO2EquivalentsEmissionsToRevenues']/df.loc[:,'EmissionDataPoints.CO2EquivalentsEmissionTotal'])\n",
      "/var/folders/s_/qtbdy3px3m3_6k7xydrkhbsh0000gn/T/ipykernel_7686/191058123.py:3: SettingWithCopyWarning: \n",
      "A value is trying to be set on a copy of a slice from a DataFrame.\n",
      "Try using .loc[row_indexer,col_indexer] = value instead\n",
      "\n",
      "See the caveats in the documentation: https://pandas.pydata.org/pandas-docs/stable/user_guide/indexing.html#returning-a-view-versus-a-copy\n",
      "  df.loc[:,'CO2toRevenue'] = df.loc[:,'EmissionDataPoints.CO2EquivalentsEmissionDirectScope1']*(df.loc[:,'EmissionIndicators.TotalCO2EquivalentsEmissionsToRevenues']/df.loc[:,'EmissionDataPoints.CO2EquivalentsEmissionTotal'])\n"
     ]
    },
    {
     "name": "stdout",
     "output_type": "stream",
     "text": [
      "predictions based on sector (using scaled data)\n",
      "predictions based on sector (using scaled data)\n",
      "predictions based on orgid\n",
      "predictions based on sector (using scaled data)"
     ]
    },
    {
     "name": "stderr",
     "output_type": "stream",
     "text": [
      "/var/folders/s_/qtbdy3px3m3_6k7xydrkhbsh0000gn/T/ipykernel_7686/191058123.py:3: SettingWithCopyWarning: \n",
      "A value is trying to be set on a copy of a slice from a DataFrame.\n",
      "Try using .loc[row_indexer,col_indexer] = value instead\n",
      "\n",
      "See the caveats in the documentation: https://pandas.pydata.org/pandas-docs/stable/user_guide/indexing.html#returning-a-view-versus-a-copy\n",
      "  df.loc[:,'CO2toRevenue'] = df.loc[:,'EmissionDataPoints.CO2EquivalentsEmissionDirectScope1']*(df.loc[:,'EmissionIndicators.TotalCO2EquivalentsEmissionsToRevenues']/df.loc[:,'EmissionDataPoints.CO2EquivalentsEmissionTotal'])\n",
      "/var/folders/s_/qtbdy3px3m3_6k7xydrkhbsh0000gn/T/ipykernel_7686/191058123.py:3: SettingWithCopyWarning: \n",
      "A value is trying to be set on a copy of a slice from a DataFrame.\n",
      "Try using .loc[row_indexer,col_indexer] = value instead\n",
      "\n",
      "See the caveats in the documentation: https://pandas.pydata.org/pandas-docs/stable/user_guide/indexing.html#returning-a-view-versus-a-copy\n",
      "  df.loc[:,'CO2toRevenue'] = df.loc[:,'EmissionDataPoints.CO2EquivalentsEmissionDirectScope1']*(df.loc[:,'EmissionIndicators.TotalCO2EquivalentsEmissionsToRevenues']/df.loc[:,'EmissionDataPoints.CO2EquivalentsEmissionTotal'])\n"
     ]
    },
    {
     "name": "stdout",
     "output_type": "stream",
     "text": [
      "\n",
      "predictions based on sector (using scaled data)\n"
     ]
    },
    {
     "name": "stderr",
     "output_type": "stream",
     "text": [
      "/var/folders/s_/qtbdy3px3m3_6k7xydrkhbsh0000gn/T/ipykernel_7686/191058123.py:3: SettingWithCopyWarning: \n",
      "A value is trying to be set on a copy of a slice from a DataFrame.\n",
      "Try using .loc[row_indexer,col_indexer] = value instead\n",
      "\n",
      "See the caveats in the documentation: https://pandas.pydata.org/pandas-docs/stable/user_guide/indexing.html#returning-a-view-versus-a-copy\n",
      "  df.loc[:,'CO2toRevenue'] = df.loc[:,'EmissionDataPoints.CO2EquivalentsEmissionDirectScope1']*(df.loc[:,'EmissionIndicators.TotalCO2EquivalentsEmissionsToRevenues']/df.loc[:,'EmissionDataPoints.CO2EquivalentsEmissionTotal'])\n",
      "/var/folders/s_/qtbdy3px3m3_6k7xydrkhbsh0000gn/T/ipykernel_7686/191058123.py:3: SettingWithCopyWarning: \n",
      "A value is trying to be set on a copy of a slice from a DataFrame.\n",
      "Try using .loc[row_indexer,col_indexer] = value instead\n",
      "\n",
      "See the caveats in the documentation: https://pandas.pydata.org/pandas-docs/stable/user_guide/indexing.html#returning-a-view-versus-a-copy\n",
      "  df.loc[:,'CO2toRevenue'] = df.loc[:,'EmissionDataPoints.CO2EquivalentsEmissionDirectScope1']*(df.loc[:,'EmissionIndicators.TotalCO2EquivalentsEmissionsToRevenues']/df.loc[:,'EmissionDataPoints.CO2EquivalentsEmissionTotal'])\n"
     ]
    },
    {
     "name": "stdout",
     "output_type": "stream",
     "text": [
      "predictions based on sector (using scaled data)\n",
      "predictions based on sector (using scaled data)\n"
     ]
    },
    {
     "name": "stderr",
     "output_type": "stream",
     "text": [
      "/var/folders/s_/qtbdy3px3m3_6k7xydrkhbsh0000gn/T/ipykernel_7686/191058123.py:3: SettingWithCopyWarning: \n",
      "A value is trying to be set on a copy of a slice from a DataFrame.\n",
      "Try using .loc[row_indexer,col_indexer] = value instead\n",
      "\n",
      "See the caveats in the documentation: https://pandas.pydata.org/pandas-docs/stable/user_guide/indexing.html#returning-a-view-versus-a-copy\n",
      "  df.loc[:,'CO2toRevenue'] = df.loc[:,'EmissionDataPoints.CO2EquivalentsEmissionDirectScope1']*(df.loc[:,'EmissionIndicators.TotalCO2EquivalentsEmissionsToRevenues']/df.loc[:,'EmissionDataPoints.CO2EquivalentsEmissionTotal'])\n",
      "/var/folders/s_/qtbdy3px3m3_6k7xydrkhbsh0000gn/T/ipykernel_7686/191058123.py:3: SettingWithCopyWarning: \n",
      "A value is trying to be set on a copy of a slice from a DataFrame.\n",
      "Try using .loc[row_indexer,col_indexer] = value instead\n",
      "\n",
      "See the caveats in the documentation: https://pandas.pydata.org/pandas-docs/stable/user_guide/indexing.html#returning-a-view-versus-a-copy\n",
      "  df.loc[:,'CO2toRevenue'] = df.loc[:,'EmissionDataPoints.CO2EquivalentsEmissionDirectScope1']*(df.loc[:,'EmissionIndicators.TotalCO2EquivalentsEmissionsToRevenues']/df.loc[:,'EmissionDataPoints.CO2EquivalentsEmissionTotal'])\n"
     ]
    },
    {
     "name": "stdout",
     "output_type": "stream",
     "text": [
      "predictions based on sector (using scaled data)\n",
      "predictions based on sector (using scaled data)\n",
      "predictions based on sector (using scaled data)\n"
     ]
    },
    {
     "name": "stderr",
     "output_type": "stream",
     "text": [
      "/var/folders/s_/qtbdy3px3m3_6k7xydrkhbsh0000gn/T/ipykernel_7686/191058123.py:3: SettingWithCopyWarning: \n",
      "A value is trying to be set on a copy of a slice from a DataFrame.\n",
      "Try using .loc[row_indexer,col_indexer] = value instead\n",
      "\n",
      "See the caveats in the documentation: https://pandas.pydata.org/pandas-docs/stable/user_guide/indexing.html#returning-a-view-versus-a-copy\n",
      "  df.loc[:,'CO2toRevenue'] = df.loc[:,'EmissionDataPoints.CO2EquivalentsEmissionDirectScope1']*(df.loc[:,'EmissionIndicators.TotalCO2EquivalentsEmissionsToRevenues']/df.loc[:,'EmissionDataPoints.CO2EquivalentsEmissionTotal'])\n",
      "/var/folders/s_/qtbdy3px3m3_6k7xydrkhbsh0000gn/T/ipykernel_7686/191058123.py:3: SettingWithCopyWarning: \n",
      "A value is trying to be set on a copy of a slice from a DataFrame.\n",
      "Try using .loc[row_indexer,col_indexer] = value instead\n",
      "\n",
      "See the caveats in the documentation: https://pandas.pydata.org/pandas-docs/stable/user_guide/indexing.html#returning-a-view-versus-a-copy\n",
      "  df.loc[:,'CO2toRevenue'] = df.loc[:,'EmissionDataPoints.CO2EquivalentsEmissionDirectScope1']*(df.loc[:,'EmissionIndicators.TotalCO2EquivalentsEmissionsToRevenues']/df.loc[:,'EmissionDataPoints.CO2EquivalentsEmissionTotal'])\n",
      "/var/folders/s_/qtbdy3px3m3_6k7xydrkhbsh0000gn/T/ipykernel_7686/191058123.py:3: SettingWithCopyWarning: \n",
      "A value is trying to be set on a copy of a slice from a DataFrame.\n",
      "Try using .loc[row_indexer,col_indexer] = value instead\n",
      "\n",
      "See the caveats in the documentation: https://pandas.pydata.org/pandas-docs/stable/user_guide/indexing.html#returning-a-view-versus-a-copy\n",
      "  df.loc[:,'CO2toRevenue'] = df.loc[:,'EmissionDataPoints.CO2EquivalentsEmissionDirectScope1']*(df.loc[:,'EmissionIndicators.TotalCO2EquivalentsEmissionsToRevenues']/df.loc[:,'EmissionDataPoints.CO2EquivalentsEmissionTotal'])\n"
     ]
    },
    {
     "name": "stdout",
     "output_type": "stream",
     "text": [
      "predictions based on orgid\n",
      "predictions based on orgid\n",
      "predictions based on sector (using scaled data)\n",
      "predictions based on sector (using scaled data)\n",
      "predictions based on orgid\n",
      "predictions based on sector (using scaled data)\n"
     ]
    },
    {
     "name": "stderr",
     "output_type": "stream",
     "text": [
      "/var/folders/s_/qtbdy3px3m3_6k7xydrkhbsh0000gn/T/ipykernel_7686/191058123.py:3: SettingWithCopyWarning: \n",
      "A value is trying to be set on a copy of a slice from a DataFrame.\n",
      "Try using .loc[row_indexer,col_indexer] = value instead\n",
      "\n",
      "See the caveats in the documentation: https://pandas.pydata.org/pandas-docs/stable/user_guide/indexing.html#returning-a-view-versus-a-copy\n",
      "  df.loc[:,'CO2toRevenue'] = df.loc[:,'EmissionDataPoints.CO2EquivalentsEmissionDirectScope1']*(df.loc[:,'EmissionIndicators.TotalCO2EquivalentsEmissionsToRevenues']/df.loc[:,'EmissionDataPoints.CO2EquivalentsEmissionTotal'])\n",
      "/var/folders/s_/qtbdy3px3m3_6k7xydrkhbsh0000gn/T/ipykernel_7686/191058123.py:3: SettingWithCopyWarning: \n",
      "A value is trying to be set on a copy of a slice from a DataFrame.\n",
      "Try using .loc[row_indexer,col_indexer] = value instead\n",
      "\n",
      "See the caveats in the documentation: https://pandas.pydata.org/pandas-docs/stable/user_guide/indexing.html#returning-a-view-versus-a-copy\n",
      "  df.loc[:,'CO2toRevenue'] = df.loc[:,'EmissionDataPoints.CO2EquivalentsEmissionDirectScope1']*(df.loc[:,'EmissionIndicators.TotalCO2EquivalentsEmissionsToRevenues']/df.loc[:,'EmissionDataPoints.CO2EquivalentsEmissionTotal'])\n",
      "/var/folders/s_/qtbdy3px3m3_6k7xydrkhbsh0000gn/T/ipykernel_7686/191058123.py:3: SettingWithCopyWarning: \n",
      "A value is trying to be set on a copy of a slice from a DataFrame.\n",
      "Try using .loc[row_indexer,col_indexer] = value instead\n",
      "\n",
      "See the caveats in the documentation: https://pandas.pydata.org/pandas-docs/stable/user_guide/indexing.html#returning-a-view-versus-a-copy\n",
      "  df.loc[:,'CO2toRevenue'] = df.loc[:,'EmissionDataPoints.CO2EquivalentsEmissionDirectScope1']*(df.loc[:,'EmissionIndicators.TotalCO2EquivalentsEmissionsToRevenues']/df.loc[:,'EmissionDataPoints.CO2EquivalentsEmissionTotal'])\n"
     ]
    },
    {
     "name": "stdout",
     "output_type": "stream",
     "text": [
      "predictions based on sector (using scaled data)\n",
      "predictions based on orgid\n",
      "predictions based on sector (using scaled data)\n"
     ]
    },
    {
     "name": "stderr",
     "output_type": "stream",
     "text": [
      "/var/folders/s_/qtbdy3px3m3_6k7xydrkhbsh0000gn/T/ipykernel_7686/191058123.py:3: SettingWithCopyWarning: \n",
      "A value is trying to be set on a copy of a slice from a DataFrame.\n",
      "Try using .loc[row_indexer,col_indexer] = value instead\n",
      "\n",
      "See the caveats in the documentation: https://pandas.pydata.org/pandas-docs/stable/user_guide/indexing.html#returning-a-view-versus-a-copy\n",
      "  df.loc[:,'CO2toRevenue'] = df.loc[:,'EmissionDataPoints.CO2EquivalentsEmissionDirectScope1']*(df.loc[:,'EmissionIndicators.TotalCO2EquivalentsEmissionsToRevenues']/df.loc[:,'EmissionDataPoints.CO2EquivalentsEmissionTotal'])\n",
      "/var/folders/s_/qtbdy3px3m3_6k7xydrkhbsh0000gn/T/ipykernel_7686/191058123.py:3: SettingWithCopyWarning: \n",
      "A value is trying to be set on a copy of a slice from a DataFrame.\n",
      "Try using .loc[row_indexer,col_indexer] = value instead\n",
      "\n",
      "See the caveats in the documentation: https://pandas.pydata.org/pandas-docs/stable/user_guide/indexing.html#returning-a-view-versus-a-copy\n",
      "  df.loc[:,'CO2toRevenue'] = df.loc[:,'EmissionDataPoints.CO2EquivalentsEmissionDirectScope1']*(df.loc[:,'EmissionIndicators.TotalCO2EquivalentsEmissionsToRevenues']/df.loc[:,'EmissionDataPoints.CO2EquivalentsEmissionTotal'])\n"
     ]
    },
    {
     "name": "stdout",
     "output_type": "stream",
     "text": [
      "predictions based on orgid\n",
      "predictions based on sector (using scaled data)\n",
      "predictions based on orgid\n",
      "predictions based on sector (using scaled data)\n"
     ]
    },
    {
     "name": "stderr",
     "output_type": "stream",
     "text": [
      "/var/folders/s_/qtbdy3px3m3_6k7xydrkhbsh0000gn/T/ipykernel_7686/191058123.py:3: SettingWithCopyWarning: \n",
      "A value is trying to be set on a copy of a slice from a DataFrame.\n",
      "Try using .loc[row_indexer,col_indexer] = value instead\n",
      "\n",
      "See the caveats in the documentation: https://pandas.pydata.org/pandas-docs/stable/user_guide/indexing.html#returning-a-view-versus-a-copy\n",
      "  df.loc[:,'CO2toRevenue'] = df.loc[:,'EmissionDataPoints.CO2EquivalentsEmissionDirectScope1']*(df.loc[:,'EmissionIndicators.TotalCO2EquivalentsEmissionsToRevenues']/df.loc[:,'EmissionDataPoints.CO2EquivalentsEmissionTotal'])\n",
      "/var/folders/s_/qtbdy3px3m3_6k7xydrkhbsh0000gn/T/ipykernel_7686/191058123.py:3: SettingWithCopyWarning: \n",
      "A value is trying to be set on a copy of a slice from a DataFrame.\n",
      "Try using .loc[row_indexer,col_indexer] = value instead\n",
      "\n",
      "See the caveats in the documentation: https://pandas.pydata.org/pandas-docs/stable/user_guide/indexing.html#returning-a-view-versus-a-copy\n",
      "  df.loc[:,'CO2toRevenue'] = df.loc[:,'EmissionDataPoints.CO2EquivalentsEmissionDirectScope1']*(df.loc[:,'EmissionIndicators.TotalCO2EquivalentsEmissionsToRevenues']/df.loc[:,'EmissionDataPoints.CO2EquivalentsEmissionTotal'])\n"
     ]
    },
    {
     "name": "stdout",
     "output_type": "stream",
     "text": [
      "predictions based on orgid\n",
      "predictions based on sector (using scaled data)\n",
      "predictions based on sector (using scaled data)\n"
     ]
    },
    {
     "name": "stderr",
     "output_type": "stream",
     "text": [
      "/var/folders/s_/qtbdy3px3m3_6k7xydrkhbsh0000gn/T/ipykernel_7686/191058123.py:3: SettingWithCopyWarning: \n",
      "A value is trying to be set on a copy of a slice from a DataFrame.\n",
      "Try using .loc[row_indexer,col_indexer] = value instead\n",
      "\n",
      "See the caveats in the documentation: https://pandas.pydata.org/pandas-docs/stable/user_guide/indexing.html#returning-a-view-versus-a-copy\n",
      "  df.loc[:,'CO2toRevenue'] = df.loc[:,'EmissionDataPoints.CO2EquivalentsEmissionDirectScope1']*(df.loc[:,'EmissionIndicators.TotalCO2EquivalentsEmissionsToRevenues']/df.loc[:,'EmissionDataPoints.CO2EquivalentsEmissionTotal'])\n",
      "/var/folders/s_/qtbdy3px3m3_6k7xydrkhbsh0000gn/T/ipykernel_7686/191058123.py:3: SettingWithCopyWarning: \n",
      "A value is trying to be set on a copy of a slice from a DataFrame.\n",
      "Try using .loc[row_indexer,col_indexer] = value instead\n",
      "\n",
      "See the caveats in the documentation: https://pandas.pydata.org/pandas-docs/stable/user_guide/indexing.html#returning-a-view-versus-a-copy\n",
      "  df.loc[:,'CO2toRevenue'] = df.loc[:,'EmissionDataPoints.CO2EquivalentsEmissionDirectScope1']*(df.loc[:,'EmissionIndicators.TotalCO2EquivalentsEmissionsToRevenues']/df.loc[:,'EmissionDataPoints.CO2EquivalentsEmissionTotal'])\n"
     ]
    },
    {
     "name": "stdout",
     "output_type": "stream",
     "text": [
      "predictions based on orgid\n",
      "predictions based on orgid\n",
      "predictions based on orgid\n",
      "predictions based on sector (using scaled data)\n",
      "predictions based on sector (using scaled data)\n"
     ]
    },
    {
     "name": "stderr",
     "output_type": "stream",
     "text": [
      "/var/folders/s_/qtbdy3px3m3_6k7xydrkhbsh0000gn/T/ipykernel_7686/191058123.py:3: SettingWithCopyWarning: \n",
      "A value is trying to be set on a copy of a slice from a DataFrame.\n",
      "Try using .loc[row_indexer,col_indexer] = value instead\n",
      "\n",
      "See the caveats in the documentation: https://pandas.pydata.org/pandas-docs/stable/user_guide/indexing.html#returning-a-view-versus-a-copy\n",
      "  df.loc[:,'CO2toRevenue'] = df.loc[:,'EmissionDataPoints.CO2EquivalentsEmissionDirectScope1']*(df.loc[:,'EmissionIndicators.TotalCO2EquivalentsEmissionsToRevenues']/df.loc[:,'EmissionDataPoints.CO2EquivalentsEmissionTotal'])\n",
      "/var/folders/s_/qtbdy3px3m3_6k7xydrkhbsh0000gn/T/ipykernel_7686/191058123.py:3: SettingWithCopyWarning: \n",
      "A value is trying to be set on a copy of a slice from a DataFrame.\n",
      "Try using .loc[row_indexer,col_indexer] = value instead\n",
      "\n",
      "See the caveats in the documentation: https://pandas.pydata.org/pandas-docs/stable/user_guide/indexing.html#returning-a-view-versus-a-copy\n",
      "  df.loc[:,'CO2toRevenue'] = df.loc[:,'EmissionDataPoints.CO2EquivalentsEmissionDirectScope1']*(df.loc[:,'EmissionIndicators.TotalCO2EquivalentsEmissionsToRevenues']/df.loc[:,'EmissionDataPoints.CO2EquivalentsEmissionTotal'])\n"
     ]
    },
    {
     "name": "stdout",
     "output_type": "stream",
     "text": [
      "predictions based on orgid\n",
      "predictions based on sector (using scaled data)\n",
      "predictions based on sector (using scaled data)\n",
      "predictions based on orgid\n",
      "predictions based on sector (using scaled data)\n"
     ]
    },
    {
     "name": "stderr",
     "output_type": "stream",
     "text": [
      "/var/folders/s_/qtbdy3px3m3_6k7xydrkhbsh0000gn/T/ipykernel_7686/191058123.py:3: SettingWithCopyWarning: \n",
      "A value is trying to be set on a copy of a slice from a DataFrame.\n",
      "Try using .loc[row_indexer,col_indexer] = value instead\n",
      "\n",
      "See the caveats in the documentation: https://pandas.pydata.org/pandas-docs/stable/user_guide/indexing.html#returning-a-view-versus-a-copy\n",
      "  df.loc[:,'CO2toRevenue'] = df.loc[:,'EmissionDataPoints.CO2EquivalentsEmissionDirectScope1']*(df.loc[:,'EmissionIndicators.TotalCO2EquivalentsEmissionsToRevenues']/df.loc[:,'EmissionDataPoints.CO2EquivalentsEmissionTotal'])\n",
      "/var/folders/s_/qtbdy3px3m3_6k7xydrkhbsh0000gn/T/ipykernel_7686/191058123.py:3: SettingWithCopyWarning: \n",
      "A value is trying to be set on a copy of a slice from a DataFrame.\n",
      "Try using .loc[row_indexer,col_indexer] = value instead\n",
      "\n",
      "See the caveats in the documentation: https://pandas.pydata.org/pandas-docs/stable/user_guide/indexing.html#returning-a-view-versus-a-copy\n",
      "  df.loc[:,'CO2toRevenue'] = df.loc[:,'EmissionDataPoints.CO2EquivalentsEmissionDirectScope1']*(df.loc[:,'EmissionIndicators.TotalCO2EquivalentsEmissionsToRevenues']/df.loc[:,'EmissionDataPoints.CO2EquivalentsEmissionTotal'])\n",
      "/var/folders/s_/qtbdy3px3m3_6k7xydrkhbsh0000gn/T/ipykernel_7686/191058123.py:3: SettingWithCopyWarning: \n",
      "A value is trying to be set on a copy of a slice from a DataFrame.\n",
      "Try using .loc[row_indexer,col_indexer] = value instead\n",
      "\n",
      "See the caveats in the documentation: https://pandas.pydata.org/pandas-docs/stable/user_guide/indexing.html#returning-a-view-versus-a-copy\n",
      "  df.loc[:,'CO2toRevenue'] = df.loc[:,'EmissionDataPoints.CO2EquivalentsEmissionDirectScope1']*(df.loc[:,'EmissionIndicators.TotalCO2EquivalentsEmissionsToRevenues']/df.loc[:,'EmissionDataPoints.CO2EquivalentsEmissionTotal'])\n"
     ]
    },
    {
     "name": "stdout",
     "output_type": "stream",
     "text": [
      "predictions based on sector (using scaled data)\n",
      "predictions based on orgid\n",
      "predictions based on sector (using scaled data)\n"
     ]
    },
    {
     "name": "stderr",
     "output_type": "stream",
     "text": [
      "/var/folders/s_/qtbdy3px3m3_6k7xydrkhbsh0000gn/T/ipykernel_7686/191058123.py:3: SettingWithCopyWarning: \n",
      "A value is trying to be set on a copy of a slice from a DataFrame.\n",
      "Try using .loc[row_indexer,col_indexer] = value instead\n",
      "\n",
      "See the caveats in the documentation: https://pandas.pydata.org/pandas-docs/stable/user_guide/indexing.html#returning-a-view-versus-a-copy\n",
      "  df.loc[:,'CO2toRevenue'] = df.loc[:,'EmissionDataPoints.CO2EquivalentsEmissionDirectScope1']*(df.loc[:,'EmissionIndicators.TotalCO2EquivalentsEmissionsToRevenues']/df.loc[:,'EmissionDataPoints.CO2EquivalentsEmissionTotal'])\n",
      "/var/folders/s_/qtbdy3px3m3_6k7xydrkhbsh0000gn/T/ipykernel_7686/191058123.py:3: SettingWithCopyWarning: \n",
      "A value is trying to be set on a copy of a slice from a DataFrame.\n",
      "Try using .loc[row_indexer,col_indexer] = value instead\n",
      "\n",
      "See the caveats in the documentation: https://pandas.pydata.org/pandas-docs/stable/user_guide/indexing.html#returning-a-view-versus-a-copy\n",
      "  df.loc[:,'CO2toRevenue'] = df.loc[:,'EmissionDataPoints.CO2EquivalentsEmissionDirectScope1']*(df.loc[:,'EmissionIndicators.TotalCO2EquivalentsEmissionsToRevenues']/df.loc[:,'EmissionDataPoints.CO2EquivalentsEmissionTotal'])\n"
     ]
    },
    {
     "name": "stdout",
     "output_type": "stream",
     "text": [
      "predictions based on sector (using scaled data)\n",
      "predictions based on sector (using scaled data)\n",
      "predictions based on sector (using scaled data)\n"
     ]
    },
    {
     "name": "stderr",
     "output_type": "stream",
     "text": [
      "/var/folders/s_/qtbdy3px3m3_6k7xydrkhbsh0000gn/T/ipykernel_7686/191058123.py:3: SettingWithCopyWarning: \n",
      "A value is trying to be set on a copy of a slice from a DataFrame.\n",
      "Try using .loc[row_indexer,col_indexer] = value instead\n",
      "\n",
      "See the caveats in the documentation: https://pandas.pydata.org/pandas-docs/stable/user_guide/indexing.html#returning-a-view-versus-a-copy\n",
      "  df.loc[:,'CO2toRevenue'] = df.loc[:,'EmissionDataPoints.CO2EquivalentsEmissionDirectScope1']*(df.loc[:,'EmissionIndicators.TotalCO2EquivalentsEmissionsToRevenues']/df.loc[:,'EmissionDataPoints.CO2EquivalentsEmissionTotal'])\n",
      "/var/folders/s_/qtbdy3px3m3_6k7xydrkhbsh0000gn/T/ipykernel_7686/191058123.py:3: SettingWithCopyWarning: \n",
      "A value is trying to be set on a copy of a slice from a DataFrame.\n",
      "Try using .loc[row_indexer,col_indexer] = value instead\n",
      "\n",
      "See the caveats in the documentation: https://pandas.pydata.org/pandas-docs/stable/user_guide/indexing.html#returning-a-view-versus-a-copy\n",
      "  df.loc[:,'CO2toRevenue'] = df.loc[:,'EmissionDataPoints.CO2EquivalentsEmissionDirectScope1']*(df.loc[:,'EmissionIndicators.TotalCO2EquivalentsEmissionsToRevenues']/df.loc[:,'EmissionDataPoints.CO2EquivalentsEmissionTotal'])\n",
      "/var/folders/s_/qtbdy3px3m3_6k7xydrkhbsh0000gn/T/ipykernel_7686/191058123.py:3: SettingWithCopyWarning: \n",
      "A value is trying to be set on a copy of a slice from a DataFrame.\n",
      "Try using .loc[row_indexer,col_indexer] = value instead\n",
      "\n",
      "See the caveats in the documentation: https://pandas.pydata.org/pandas-docs/stable/user_guide/indexing.html#returning-a-view-versus-a-copy\n",
      "  df.loc[:,'CO2toRevenue'] = df.loc[:,'EmissionDataPoints.CO2EquivalentsEmissionDirectScope1']*(df.loc[:,'EmissionIndicators.TotalCO2EquivalentsEmissionsToRevenues']/df.loc[:,'EmissionDataPoints.CO2EquivalentsEmissionTotal'])\n"
     ]
    },
    {
     "name": "stdout",
     "output_type": "stream",
     "text": [
      "predictions based on orgid\n",
      "predictions based on sector (using scaled data)\n",
      "predictions based on sector (using scaled data)\n",
      "predictions based on sector (using scaled data)\n"
     ]
    },
    {
     "name": "stderr",
     "output_type": "stream",
     "text": [
      "/var/folders/s_/qtbdy3px3m3_6k7xydrkhbsh0000gn/T/ipykernel_7686/191058123.py:3: SettingWithCopyWarning: \n",
      "A value is trying to be set on a copy of a slice from a DataFrame.\n",
      "Try using .loc[row_indexer,col_indexer] = value instead\n",
      "\n",
      "See the caveats in the documentation: https://pandas.pydata.org/pandas-docs/stable/user_guide/indexing.html#returning-a-view-versus-a-copy\n",
      "  df.loc[:,'CO2toRevenue'] = df.loc[:,'EmissionDataPoints.CO2EquivalentsEmissionDirectScope1']*(df.loc[:,'EmissionIndicators.TotalCO2EquivalentsEmissionsToRevenues']/df.loc[:,'EmissionDataPoints.CO2EquivalentsEmissionTotal'])\n",
      "/var/folders/s_/qtbdy3px3m3_6k7xydrkhbsh0000gn/T/ipykernel_7686/191058123.py:3: SettingWithCopyWarning: \n",
      "A value is trying to be set on a copy of a slice from a DataFrame.\n",
      "Try using .loc[row_indexer,col_indexer] = value instead\n",
      "\n",
      "See the caveats in the documentation: https://pandas.pydata.org/pandas-docs/stable/user_guide/indexing.html#returning-a-view-versus-a-copy\n",
      "  df.loc[:,'CO2toRevenue'] = df.loc[:,'EmissionDataPoints.CO2EquivalentsEmissionDirectScope1']*(df.loc[:,'EmissionIndicators.TotalCO2EquivalentsEmissionsToRevenues']/df.loc[:,'EmissionDataPoints.CO2EquivalentsEmissionTotal'])\n",
      "/var/folders/s_/qtbdy3px3m3_6k7xydrkhbsh0000gn/T/ipykernel_7686/191058123.py:3: SettingWithCopyWarning: \n",
      "A value is trying to be set on a copy of a slice from a DataFrame.\n",
      "Try using .loc[row_indexer,col_indexer] = value instead\n",
      "\n",
      "See the caveats in the documentation: https://pandas.pydata.org/pandas-docs/stable/user_guide/indexing.html#returning-a-view-versus-a-copy\n",
      "  df.loc[:,'CO2toRevenue'] = df.loc[:,'EmissionDataPoints.CO2EquivalentsEmissionDirectScope1']*(df.loc[:,'EmissionIndicators.TotalCO2EquivalentsEmissionsToRevenues']/df.loc[:,'EmissionDataPoints.CO2EquivalentsEmissionTotal'])\n"
     ]
    },
    {
     "name": "stdout",
     "output_type": "stream",
     "text": [
      "predictions based on sector (using scaled data)\n",
      "predictions based on sector (using scaled data)\n"
     ]
    },
    {
     "name": "stderr",
     "output_type": "stream",
     "text": [
      "/var/folders/s_/qtbdy3px3m3_6k7xydrkhbsh0000gn/T/ipykernel_7686/191058123.py:3: SettingWithCopyWarning: \n",
      "A value is trying to be set on a copy of a slice from a DataFrame.\n",
      "Try using .loc[row_indexer,col_indexer] = value instead\n",
      "\n",
      "See the caveats in the documentation: https://pandas.pydata.org/pandas-docs/stable/user_guide/indexing.html#returning-a-view-versus-a-copy\n",
      "  df.loc[:,'CO2toRevenue'] = df.loc[:,'EmissionDataPoints.CO2EquivalentsEmissionDirectScope1']*(df.loc[:,'EmissionIndicators.TotalCO2EquivalentsEmissionsToRevenues']/df.loc[:,'EmissionDataPoints.CO2EquivalentsEmissionTotal'])\n",
      "/var/folders/s_/qtbdy3px3m3_6k7xydrkhbsh0000gn/T/ipykernel_7686/191058123.py:3: SettingWithCopyWarning: \n",
      "A value is trying to be set on a copy of a slice from a DataFrame.\n",
      "Try using .loc[row_indexer,col_indexer] = value instead\n",
      "\n",
      "See the caveats in the documentation: https://pandas.pydata.org/pandas-docs/stable/user_guide/indexing.html#returning-a-view-versus-a-copy\n",
      "  df.loc[:,'CO2toRevenue'] = df.loc[:,'EmissionDataPoints.CO2EquivalentsEmissionDirectScope1']*(df.loc[:,'EmissionIndicators.TotalCO2EquivalentsEmissionsToRevenues']/df.loc[:,'EmissionDataPoints.CO2EquivalentsEmissionTotal'])\n"
     ]
    },
    {
     "name": "stdout",
     "output_type": "stream",
     "text": [
      "predictions based on sector (using scaled data)\n",
      "predictions based on sector (using scaled data)\n"
     ]
    },
    {
     "name": "stderr",
     "output_type": "stream",
     "text": [
      "/var/folders/s_/qtbdy3px3m3_6k7xydrkhbsh0000gn/T/ipykernel_7686/191058123.py:3: SettingWithCopyWarning: \n",
      "A value is trying to be set on a copy of a slice from a DataFrame.\n",
      "Try using .loc[row_indexer,col_indexer] = value instead\n",
      "\n",
      "See the caveats in the documentation: https://pandas.pydata.org/pandas-docs/stable/user_guide/indexing.html#returning-a-view-versus-a-copy\n",
      "  df.loc[:,'CO2toRevenue'] = df.loc[:,'EmissionDataPoints.CO2EquivalentsEmissionDirectScope1']*(df.loc[:,'EmissionIndicators.TotalCO2EquivalentsEmissionsToRevenues']/df.loc[:,'EmissionDataPoints.CO2EquivalentsEmissionTotal'])\n",
      "/var/folders/s_/qtbdy3px3m3_6k7xydrkhbsh0000gn/T/ipykernel_7686/191058123.py:3: SettingWithCopyWarning: \n",
      "A value is trying to be set on a copy of a slice from a DataFrame.\n",
      "Try using .loc[row_indexer,col_indexer] = value instead\n",
      "\n",
      "See the caveats in the documentation: https://pandas.pydata.org/pandas-docs/stable/user_guide/indexing.html#returning-a-view-versus-a-copy\n",
      "  df.loc[:,'CO2toRevenue'] = df.loc[:,'EmissionDataPoints.CO2EquivalentsEmissionDirectScope1']*(df.loc[:,'EmissionIndicators.TotalCO2EquivalentsEmissionsToRevenues']/df.loc[:,'EmissionDataPoints.CO2EquivalentsEmissionTotal'])\n"
     ]
    },
    {
     "name": "stdout",
     "output_type": "stream",
     "text": [
      "predictions based on sector (using scaled data)\n",
      "predictions based on sector (using scaled data)\n"
     ]
    },
    {
     "name": "stderr",
     "output_type": "stream",
     "text": [
      "/var/folders/s_/qtbdy3px3m3_6k7xydrkhbsh0000gn/T/ipykernel_7686/191058123.py:3: SettingWithCopyWarning: \n",
      "A value is trying to be set on a copy of a slice from a DataFrame.\n",
      "Try using .loc[row_indexer,col_indexer] = value instead\n",
      "\n",
      "See the caveats in the documentation: https://pandas.pydata.org/pandas-docs/stable/user_guide/indexing.html#returning-a-view-versus-a-copy\n",
      "  df.loc[:,'CO2toRevenue'] = df.loc[:,'EmissionDataPoints.CO2EquivalentsEmissionDirectScope1']*(df.loc[:,'EmissionIndicators.TotalCO2EquivalentsEmissionsToRevenues']/df.loc[:,'EmissionDataPoints.CO2EquivalentsEmissionTotal'])\n",
      "/var/folders/s_/qtbdy3px3m3_6k7xydrkhbsh0000gn/T/ipykernel_7686/191058123.py:3: SettingWithCopyWarning: \n",
      "A value is trying to be set on a copy of a slice from a DataFrame.\n",
      "Try using .loc[row_indexer,col_indexer] = value instead\n",
      "\n",
      "See the caveats in the documentation: https://pandas.pydata.org/pandas-docs/stable/user_guide/indexing.html#returning-a-view-versus-a-copy\n",
      "  df.loc[:,'CO2toRevenue'] = df.loc[:,'EmissionDataPoints.CO2EquivalentsEmissionDirectScope1']*(df.loc[:,'EmissionIndicators.TotalCO2EquivalentsEmissionsToRevenues']/df.loc[:,'EmissionDataPoints.CO2EquivalentsEmissionTotal'])\n"
     ]
    },
    {
     "name": "stdout",
     "output_type": "stream",
     "text": [
      "predictions based on sector (using scaled data)\n",
      "predictions based on orgid\n",
      "predictions based on orgid\n",
      "predictions based on orgid\n",
      "predictions based on sector (using scaled data)\n",
      "predictions based on sector (using scaled data)\n"
     ]
    },
    {
     "name": "stderr",
     "output_type": "stream",
     "text": [
      "/var/folders/s_/qtbdy3px3m3_6k7xydrkhbsh0000gn/T/ipykernel_7686/191058123.py:3: SettingWithCopyWarning: \n",
      "A value is trying to be set on a copy of a slice from a DataFrame.\n",
      "Try using .loc[row_indexer,col_indexer] = value instead\n",
      "\n",
      "See the caveats in the documentation: https://pandas.pydata.org/pandas-docs/stable/user_guide/indexing.html#returning-a-view-versus-a-copy\n",
      "  df.loc[:,'CO2toRevenue'] = df.loc[:,'EmissionDataPoints.CO2EquivalentsEmissionDirectScope1']*(df.loc[:,'EmissionIndicators.TotalCO2EquivalentsEmissionsToRevenues']/df.loc[:,'EmissionDataPoints.CO2EquivalentsEmissionTotal'])\n",
      "/var/folders/s_/qtbdy3px3m3_6k7xydrkhbsh0000gn/T/ipykernel_7686/191058123.py:3: SettingWithCopyWarning: \n",
      "A value is trying to be set on a copy of a slice from a DataFrame.\n",
      "Try using .loc[row_indexer,col_indexer] = value instead\n",
      "\n",
      "See the caveats in the documentation: https://pandas.pydata.org/pandas-docs/stable/user_guide/indexing.html#returning-a-view-versus-a-copy\n",
      "  df.loc[:,'CO2toRevenue'] = df.loc[:,'EmissionDataPoints.CO2EquivalentsEmissionDirectScope1']*(df.loc[:,'EmissionIndicators.TotalCO2EquivalentsEmissionsToRevenues']/df.loc[:,'EmissionDataPoints.CO2EquivalentsEmissionTotal'])\n",
      "/var/folders/s_/qtbdy3px3m3_6k7xydrkhbsh0000gn/T/ipykernel_7686/191058123.py:3: SettingWithCopyWarning: \n",
      "A value is trying to be set on a copy of a slice from a DataFrame.\n",
      "Try using .loc[row_indexer,col_indexer] = value instead\n",
      "\n",
      "See the caveats in the documentation: https://pandas.pydata.org/pandas-docs/stable/user_guide/indexing.html#returning-a-view-versus-a-copy\n",
      "  df.loc[:,'CO2toRevenue'] = df.loc[:,'EmissionDataPoints.CO2EquivalentsEmissionDirectScope1']*(df.loc[:,'EmissionIndicators.TotalCO2EquivalentsEmissionsToRevenues']/df.loc[:,'EmissionDataPoints.CO2EquivalentsEmissionTotal'])\n"
     ]
    },
    {
     "name": "stdout",
     "output_type": "stream",
     "text": [
      "predictions based on sector (using scaled data)\n",
      "predictions based on sector (using scaled data)\n"
     ]
    },
    {
     "name": "stderr",
     "output_type": "stream",
     "text": [
      "/var/folders/s_/qtbdy3px3m3_6k7xydrkhbsh0000gn/T/ipykernel_7686/191058123.py:3: SettingWithCopyWarning: \n",
      "A value is trying to be set on a copy of a slice from a DataFrame.\n",
      "Try using .loc[row_indexer,col_indexer] = value instead\n",
      "\n",
      "See the caveats in the documentation: https://pandas.pydata.org/pandas-docs/stable/user_guide/indexing.html#returning-a-view-versus-a-copy\n",
      "  df.loc[:,'CO2toRevenue'] = df.loc[:,'EmissionDataPoints.CO2EquivalentsEmissionDirectScope1']*(df.loc[:,'EmissionIndicators.TotalCO2EquivalentsEmissionsToRevenues']/df.loc[:,'EmissionDataPoints.CO2EquivalentsEmissionTotal'])\n",
      "/var/folders/s_/qtbdy3px3m3_6k7xydrkhbsh0000gn/T/ipykernel_7686/191058123.py:3: SettingWithCopyWarning: \n",
      "A value is trying to be set on a copy of a slice from a DataFrame.\n",
      "Try using .loc[row_indexer,col_indexer] = value instead\n",
      "\n",
      "See the caveats in the documentation: https://pandas.pydata.org/pandas-docs/stable/user_guide/indexing.html#returning-a-view-versus-a-copy\n",
      "  df.loc[:,'CO2toRevenue'] = df.loc[:,'EmissionDataPoints.CO2EquivalentsEmissionDirectScope1']*(df.loc[:,'EmissionIndicators.TotalCO2EquivalentsEmissionsToRevenues']/df.loc[:,'EmissionDataPoints.CO2EquivalentsEmissionTotal'])\n"
     ]
    },
    {
     "name": "stdout",
     "output_type": "stream",
     "text": [
      "predictions based on sector (using scaled data)\n",
      "predictions based on orgid\n",
      "predictions based on sector (using scaled data)\n",
      "predictions based on sector (using scaled data)\n"
     ]
    },
    {
     "name": "stderr",
     "output_type": "stream",
     "text": [
      "/var/folders/s_/qtbdy3px3m3_6k7xydrkhbsh0000gn/T/ipykernel_7686/191058123.py:3: SettingWithCopyWarning: \n",
      "A value is trying to be set on a copy of a slice from a DataFrame.\n",
      "Try using .loc[row_indexer,col_indexer] = value instead\n",
      "\n",
      "See the caveats in the documentation: https://pandas.pydata.org/pandas-docs/stable/user_guide/indexing.html#returning-a-view-versus-a-copy\n",
      "  df.loc[:,'CO2toRevenue'] = df.loc[:,'EmissionDataPoints.CO2EquivalentsEmissionDirectScope1']*(df.loc[:,'EmissionIndicators.TotalCO2EquivalentsEmissionsToRevenues']/df.loc[:,'EmissionDataPoints.CO2EquivalentsEmissionTotal'])\n",
      "/var/folders/s_/qtbdy3px3m3_6k7xydrkhbsh0000gn/T/ipykernel_7686/191058123.py:3: SettingWithCopyWarning: \n",
      "A value is trying to be set on a copy of a slice from a DataFrame.\n",
      "Try using .loc[row_indexer,col_indexer] = value instead\n",
      "\n",
      "See the caveats in the documentation: https://pandas.pydata.org/pandas-docs/stable/user_guide/indexing.html#returning-a-view-versus-a-copy\n",
      "  df.loc[:,'CO2toRevenue'] = df.loc[:,'EmissionDataPoints.CO2EquivalentsEmissionDirectScope1']*(df.loc[:,'EmissionIndicators.TotalCO2EquivalentsEmissionsToRevenues']/df.loc[:,'EmissionDataPoints.CO2EquivalentsEmissionTotal'])\n",
      "/var/folders/s_/qtbdy3px3m3_6k7xydrkhbsh0000gn/T/ipykernel_7686/191058123.py:3: SettingWithCopyWarning: \n",
      "A value is trying to be set on a copy of a slice from a DataFrame.\n",
      "Try using .loc[row_indexer,col_indexer] = value instead\n",
      "\n",
      "See the caveats in the documentation: https://pandas.pydata.org/pandas-docs/stable/user_guide/indexing.html#returning-a-view-versus-a-copy\n",
      "  df.loc[:,'CO2toRevenue'] = df.loc[:,'EmissionDataPoints.CO2EquivalentsEmissionDirectScope1']*(df.loc[:,'EmissionIndicators.TotalCO2EquivalentsEmissionsToRevenues']/df.loc[:,'EmissionDataPoints.CO2EquivalentsEmissionTotal'])\n"
     ]
    },
    {
     "name": "stdout",
     "output_type": "stream",
     "text": [
      "predictions based on orgid\n",
      "predictions based on sector (using scaled data)\n",
      "predictions based on sector (using scaled data)\n"
     ]
    },
    {
     "name": "stderr",
     "output_type": "stream",
     "text": [
      "/var/folders/s_/qtbdy3px3m3_6k7xydrkhbsh0000gn/T/ipykernel_7686/191058123.py:3: SettingWithCopyWarning: \n",
      "A value is trying to be set on a copy of a slice from a DataFrame.\n",
      "Try using .loc[row_indexer,col_indexer] = value instead\n",
      "\n",
      "See the caveats in the documentation: https://pandas.pydata.org/pandas-docs/stable/user_guide/indexing.html#returning-a-view-versus-a-copy\n",
      "  df.loc[:,'CO2toRevenue'] = df.loc[:,'EmissionDataPoints.CO2EquivalentsEmissionDirectScope1']*(df.loc[:,'EmissionIndicators.TotalCO2EquivalentsEmissionsToRevenues']/df.loc[:,'EmissionDataPoints.CO2EquivalentsEmissionTotal'])\n",
      "/var/folders/s_/qtbdy3px3m3_6k7xydrkhbsh0000gn/T/ipykernel_7686/191058123.py:3: SettingWithCopyWarning: \n",
      "A value is trying to be set on a copy of a slice from a DataFrame.\n",
      "Try using .loc[row_indexer,col_indexer] = value instead\n",
      "\n",
      "See the caveats in the documentation: https://pandas.pydata.org/pandas-docs/stable/user_guide/indexing.html#returning-a-view-versus-a-copy\n",
      "  df.loc[:,'CO2toRevenue'] = df.loc[:,'EmissionDataPoints.CO2EquivalentsEmissionDirectScope1']*(df.loc[:,'EmissionIndicators.TotalCO2EquivalentsEmissionsToRevenues']/df.loc[:,'EmissionDataPoints.CO2EquivalentsEmissionTotal'])\n"
     ]
    },
    {
     "name": "stdout",
     "output_type": "stream",
     "text": [
      "predictions based on sector (using scaled data)\n",
      "predictions based on orgid\n",
      "predictions based on sector (using scaled data)\n"
     ]
    },
    {
     "name": "stderr",
     "output_type": "stream",
     "text": [
      "/var/folders/s_/qtbdy3px3m3_6k7xydrkhbsh0000gn/T/ipykernel_7686/191058123.py:3: SettingWithCopyWarning: \n",
      "A value is trying to be set on a copy of a slice from a DataFrame.\n",
      "Try using .loc[row_indexer,col_indexer] = value instead\n",
      "\n",
      "See the caveats in the documentation: https://pandas.pydata.org/pandas-docs/stable/user_guide/indexing.html#returning-a-view-versus-a-copy\n",
      "  df.loc[:,'CO2toRevenue'] = df.loc[:,'EmissionDataPoints.CO2EquivalentsEmissionDirectScope1']*(df.loc[:,'EmissionIndicators.TotalCO2EquivalentsEmissionsToRevenues']/df.loc[:,'EmissionDataPoints.CO2EquivalentsEmissionTotal'])\n",
      "/var/folders/s_/qtbdy3px3m3_6k7xydrkhbsh0000gn/T/ipykernel_7686/191058123.py:3: SettingWithCopyWarning: \n",
      "A value is trying to be set on a copy of a slice from a DataFrame.\n",
      "Try using .loc[row_indexer,col_indexer] = value instead\n",
      "\n",
      "See the caveats in the documentation: https://pandas.pydata.org/pandas-docs/stable/user_guide/indexing.html#returning-a-view-versus-a-copy\n",
      "  df.loc[:,'CO2toRevenue'] = df.loc[:,'EmissionDataPoints.CO2EquivalentsEmissionDirectScope1']*(df.loc[:,'EmissionIndicators.TotalCO2EquivalentsEmissionsToRevenues']/df.loc[:,'EmissionDataPoints.CO2EquivalentsEmissionTotal'])\n",
      "/var/folders/s_/qtbdy3px3m3_6k7xydrkhbsh0000gn/T/ipykernel_7686/191058123.py:3: SettingWithCopyWarning: \n",
      "A value is trying to be set on a copy of a slice from a DataFrame.\n",
      "Try using .loc[row_indexer,col_indexer] = value instead\n",
      "\n",
      "See the caveats in the documentation: https://pandas.pydata.org/pandas-docs/stable/user_guide/indexing.html#returning-a-view-versus-a-copy\n",
      "  df.loc[:,'CO2toRevenue'] = df.loc[:,'EmissionDataPoints.CO2EquivalentsEmissionDirectScope1']*(df.loc[:,'EmissionIndicators.TotalCO2EquivalentsEmissionsToRevenues']/df.loc[:,'EmissionDataPoints.CO2EquivalentsEmissionTotal'])\n",
      "/var/folders/s_/qtbdy3px3m3_6k7xydrkhbsh0000gn/T/ipykernel_7686/191058123.py:3: SettingWithCopyWarning: \n",
      "A value is trying to be set on a copy of a slice from a DataFrame.\n",
      "Try using .loc[row_indexer,col_indexer] = value instead\n",
      "\n",
      "See the caveats in the documentation: https://pandas.pydata.org/pandas-docs/stable/user_guide/indexing.html#returning-a-view-versus-a-copy\n",
      "  df.loc[:,'CO2toRevenue'] = df.loc[:,'EmissionDataPoints.CO2EquivalentsEmissionDirectScope1']*(df.loc[:,'EmissionIndicators.TotalCO2EquivalentsEmissionsToRevenues']/df.loc[:,'EmissionDataPoints.CO2EquivalentsEmissionTotal'])\n"
     ]
    },
    {
     "name": "stdout",
     "output_type": "stream",
     "text": [
      "predictions based on orgid\n",
      "predictions based on sector (using scaled data)\n",
      "predictions based on orgid\n",
      "predictions based on sector (using scaled data)\n",
      "predictions based on orgid\n",
      "predictions based on sector (using scaled data)\n"
     ]
    },
    {
     "name": "stderr",
     "output_type": "stream",
     "text": [
      "/var/folders/s_/qtbdy3px3m3_6k7xydrkhbsh0000gn/T/ipykernel_7686/191058123.py:3: SettingWithCopyWarning: \n",
      "A value is trying to be set on a copy of a slice from a DataFrame.\n",
      "Try using .loc[row_indexer,col_indexer] = value instead\n",
      "\n",
      "See the caveats in the documentation: https://pandas.pydata.org/pandas-docs/stable/user_guide/indexing.html#returning-a-view-versus-a-copy\n",
      "  df.loc[:,'CO2toRevenue'] = df.loc[:,'EmissionDataPoints.CO2EquivalentsEmissionDirectScope1']*(df.loc[:,'EmissionIndicators.TotalCO2EquivalentsEmissionsToRevenues']/df.loc[:,'EmissionDataPoints.CO2EquivalentsEmissionTotal'])\n",
      "/var/folders/s_/qtbdy3px3m3_6k7xydrkhbsh0000gn/T/ipykernel_7686/191058123.py:3: SettingWithCopyWarning: \n",
      "A value is trying to be set on a copy of a slice from a DataFrame.\n",
      "Try using .loc[row_indexer,col_indexer] = value instead\n",
      "\n",
      "See the caveats in the documentation: https://pandas.pydata.org/pandas-docs/stable/user_guide/indexing.html#returning-a-view-versus-a-copy\n",
      "  df.loc[:,'CO2toRevenue'] = df.loc[:,'EmissionDataPoints.CO2EquivalentsEmissionDirectScope1']*(df.loc[:,'EmissionIndicators.TotalCO2EquivalentsEmissionsToRevenues']/df.loc[:,'EmissionDataPoints.CO2EquivalentsEmissionTotal'])\n"
     ]
    },
    {
     "name": "stdout",
     "output_type": "stream",
     "text": [
      "predictions based on orgid\n",
      "predictions based on sector (using scaled data)\n",
      "predictions based on orgid\n",
      "predictions based on orgid\n",
      "predictions based on orgid\n",
      "predictions based on orgid\n",
      "predictions based on sector (using scaled data)\n",
      "predictions based on orgid\n",
      "predictions based on sector (using scaled data)\n"
     ]
    },
    {
     "name": "stderr",
     "output_type": "stream",
     "text": [
      "/var/folders/s_/qtbdy3px3m3_6k7xydrkhbsh0000gn/T/ipykernel_7686/191058123.py:3: SettingWithCopyWarning: \n",
      "A value is trying to be set on a copy of a slice from a DataFrame.\n",
      "Try using .loc[row_indexer,col_indexer] = value instead\n",
      "\n",
      "See the caveats in the documentation: https://pandas.pydata.org/pandas-docs/stable/user_guide/indexing.html#returning-a-view-versus-a-copy\n",
      "  df.loc[:,'CO2toRevenue'] = df.loc[:,'EmissionDataPoints.CO2EquivalentsEmissionDirectScope1']*(df.loc[:,'EmissionIndicators.TotalCO2EquivalentsEmissionsToRevenues']/df.loc[:,'EmissionDataPoints.CO2EquivalentsEmissionTotal'])\n",
      "/var/folders/s_/qtbdy3px3m3_6k7xydrkhbsh0000gn/T/ipykernel_7686/191058123.py:3: SettingWithCopyWarning: \n",
      "A value is trying to be set on a copy of a slice from a DataFrame.\n",
      "Try using .loc[row_indexer,col_indexer] = value instead\n",
      "\n",
      "See the caveats in the documentation: https://pandas.pydata.org/pandas-docs/stable/user_guide/indexing.html#returning-a-view-versus-a-copy\n",
      "  df.loc[:,'CO2toRevenue'] = df.loc[:,'EmissionDataPoints.CO2EquivalentsEmissionDirectScope1']*(df.loc[:,'EmissionIndicators.TotalCO2EquivalentsEmissionsToRevenues']/df.loc[:,'EmissionDataPoints.CO2EquivalentsEmissionTotal'])\n"
     ]
    },
    {
     "name": "stdout",
     "output_type": "stream",
     "text": [
      "predictions based on sector (using scaled data)\n",
      "predictions based on sector (using scaled data)\n"
     ]
    },
    {
     "name": "stderr",
     "output_type": "stream",
     "text": [
      "/var/folders/s_/qtbdy3px3m3_6k7xydrkhbsh0000gn/T/ipykernel_7686/191058123.py:3: SettingWithCopyWarning: \n",
      "A value is trying to be set on a copy of a slice from a DataFrame.\n",
      "Try using .loc[row_indexer,col_indexer] = value instead\n",
      "\n",
      "See the caveats in the documentation: https://pandas.pydata.org/pandas-docs/stable/user_guide/indexing.html#returning-a-view-versus-a-copy\n",
      "  df.loc[:,'CO2toRevenue'] = df.loc[:,'EmissionDataPoints.CO2EquivalentsEmissionDirectScope1']*(df.loc[:,'EmissionIndicators.TotalCO2EquivalentsEmissionsToRevenues']/df.loc[:,'EmissionDataPoints.CO2EquivalentsEmissionTotal'])\n",
      "/var/folders/s_/qtbdy3px3m3_6k7xydrkhbsh0000gn/T/ipykernel_7686/191058123.py:3: SettingWithCopyWarning: \n",
      "A value is trying to be set on a copy of a slice from a DataFrame.\n",
      "Try using .loc[row_indexer,col_indexer] = value instead\n",
      "\n",
      "See the caveats in the documentation: https://pandas.pydata.org/pandas-docs/stable/user_guide/indexing.html#returning-a-view-versus-a-copy\n",
      "  df.loc[:,'CO2toRevenue'] = df.loc[:,'EmissionDataPoints.CO2EquivalentsEmissionDirectScope1']*(df.loc[:,'EmissionIndicators.TotalCO2EquivalentsEmissionsToRevenues']/df.loc[:,'EmissionDataPoints.CO2EquivalentsEmissionTotal'])\n"
     ]
    },
    {
     "name": "stdout",
     "output_type": "stream",
     "text": [
      "predictions based on sector (using scaled data)\n",
      "predictions based on sector (using scaled data)\n"
     ]
    },
    {
     "name": "stderr",
     "output_type": "stream",
     "text": [
      "/var/folders/s_/qtbdy3px3m3_6k7xydrkhbsh0000gn/T/ipykernel_7686/191058123.py:3: SettingWithCopyWarning: \n",
      "A value is trying to be set on a copy of a slice from a DataFrame.\n",
      "Try using .loc[row_indexer,col_indexer] = value instead\n",
      "\n",
      "See the caveats in the documentation: https://pandas.pydata.org/pandas-docs/stable/user_guide/indexing.html#returning-a-view-versus-a-copy\n",
      "  df.loc[:,'CO2toRevenue'] = df.loc[:,'EmissionDataPoints.CO2EquivalentsEmissionDirectScope1']*(df.loc[:,'EmissionIndicators.TotalCO2EquivalentsEmissionsToRevenues']/df.loc[:,'EmissionDataPoints.CO2EquivalentsEmissionTotal'])\n",
      "/var/folders/s_/qtbdy3px3m3_6k7xydrkhbsh0000gn/T/ipykernel_7686/191058123.py:3: SettingWithCopyWarning: \n",
      "A value is trying to be set on a copy of a slice from a DataFrame.\n",
      "Try using .loc[row_indexer,col_indexer] = value instead\n",
      "\n",
      "See the caveats in the documentation: https://pandas.pydata.org/pandas-docs/stable/user_guide/indexing.html#returning-a-view-versus-a-copy\n",
      "  df.loc[:,'CO2toRevenue'] = df.loc[:,'EmissionDataPoints.CO2EquivalentsEmissionDirectScope1']*(df.loc[:,'EmissionIndicators.TotalCO2EquivalentsEmissionsToRevenues']/df.loc[:,'EmissionDataPoints.CO2EquivalentsEmissionTotal'])\n"
     ]
    },
    {
     "name": "stdout",
     "output_type": "stream",
     "text": [
      "predictions based on sector (using scaled data)\n",
      "predictions based on sector (using scaled data)\n"
     ]
    },
    {
     "name": "stderr",
     "output_type": "stream",
     "text": [
      "/var/folders/s_/qtbdy3px3m3_6k7xydrkhbsh0000gn/T/ipykernel_7686/191058123.py:3: SettingWithCopyWarning: \n",
      "A value is trying to be set on a copy of a slice from a DataFrame.\n",
      "Try using .loc[row_indexer,col_indexer] = value instead\n",
      "\n",
      "See the caveats in the documentation: https://pandas.pydata.org/pandas-docs/stable/user_guide/indexing.html#returning-a-view-versus-a-copy\n",
      "  df.loc[:,'CO2toRevenue'] = df.loc[:,'EmissionDataPoints.CO2EquivalentsEmissionDirectScope1']*(df.loc[:,'EmissionIndicators.TotalCO2EquivalentsEmissionsToRevenues']/df.loc[:,'EmissionDataPoints.CO2EquivalentsEmissionTotal'])\n",
      "/var/folders/s_/qtbdy3px3m3_6k7xydrkhbsh0000gn/T/ipykernel_7686/191058123.py:3: SettingWithCopyWarning: \n",
      "A value is trying to be set on a copy of a slice from a DataFrame.\n",
      "Try using .loc[row_indexer,col_indexer] = value instead\n",
      "\n",
      "See the caveats in the documentation: https://pandas.pydata.org/pandas-docs/stable/user_guide/indexing.html#returning-a-view-versus-a-copy\n",
      "  df.loc[:,'CO2toRevenue'] = df.loc[:,'EmissionDataPoints.CO2EquivalentsEmissionDirectScope1']*(df.loc[:,'EmissionIndicators.TotalCO2EquivalentsEmissionsToRevenues']/df.loc[:,'EmissionDataPoints.CO2EquivalentsEmissionTotal'])\n"
     ]
    },
    {
     "name": "stdout",
     "output_type": "stream",
     "text": [
      "predictions based on sector (using scaled data)\n",
      "predictions based on sector (using scaled data)\n"
     ]
    },
    {
     "name": "stderr",
     "output_type": "stream",
     "text": [
      "/var/folders/s_/qtbdy3px3m3_6k7xydrkhbsh0000gn/T/ipykernel_7686/191058123.py:3: SettingWithCopyWarning: \n",
      "A value is trying to be set on a copy of a slice from a DataFrame.\n",
      "Try using .loc[row_indexer,col_indexer] = value instead\n",
      "\n",
      "See the caveats in the documentation: https://pandas.pydata.org/pandas-docs/stable/user_guide/indexing.html#returning-a-view-versus-a-copy\n",
      "  df.loc[:,'CO2toRevenue'] = df.loc[:,'EmissionDataPoints.CO2EquivalentsEmissionDirectScope1']*(df.loc[:,'EmissionIndicators.TotalCO2EquivalentsEmissionsToRevenues']/df.loc[:,'EmissionDataPoints.CO2EquivalentsEmissionTotal'])\n",
      "/var/folders/s_/qtbdy3px3m3_6k7xydrkhbsh0000gn/T/ipykernel_7686/191058123.py:3: SettingWithCopyWarning: \n",
      "A value is trying to be set on a copy of a slice from a DataFrame.\n",
      "Try using .loc[row_indexer,col_indexer] = value instead\n",
      "\n",
      "See the caveats in the documentation: https://pandas.pydata.org/pandas-docs/stable/user_guide/indexing.html#returning-a-view-versus-a-copy\n",
      "  df.loc[:,'CO2toRevenue'] = df.loc[:,'EmissionDataPoints.CO2EquivalentsEmissionDirectScope1']*(df.loc[:,'EmissionIndicators.TotalCO2EquivalentsEmissionsToRevenues']/df.loc[:,'EmissionDataPoints.CO2EquivalentsEmissionTotal'])\n"
     ]
    },
    {
     "name": "stdout",
     "output_type": "stream",
     "text": [
      "predictions based on sector (using scaled data)\n",
      "predictions based on sector (using scaled data)\n",
      "predictions based on sector (using scaled data)\n"
     ]
    },
    {
     "name": "stderr",
     "output_type": "stream",
     "text": [
      "/var/folders/s_/qtbdy3px3m3_6k7xydrkhbsh0000gn/T/ipykernel_7686/191058123.py:3: SettingWithCopyWarning: \n",
      "A value is trying to be set on a copy of a slice from a DataFrame.\n",
      "Try using .loc[row_indexer,col_indexer] = value instead\n",
      "\n",
      "See the caveats in the documentation: https://pandas.pydata.org/pandas-docs/stable/user_guide/indexing.html#returning-a-view-versus-a-copy\n",
      "  df.loc[:,'CO2toRevenue'] = df.loc[:,'EmissionDataPoints.CO2EquivalentsEmissionDirectScope1']*(df.loc[:,'EmissionIndicators.TotalCO2EquivalentsEmissionsToRevenues']/df.loc[:,'EmissionDataPoints.CO2EquivalentsEmissionTotal'])\n",
      "/var/folders/s_/qtbdy3px3m3_6k7xydrkhbsh0000gn/T/ipykernel_7686/191058123.py:3: SettingWithCopyWarning: \n",
      "A value is trying to be set on a copy of a slice from a DataFrame.\n",
      "Try using .loc[row_indexer,col_indexer] = value instead\n",
      "\n",
      "See the caveats in the documentation: https://pandas.pydata.org/pandas-docs/stable/user_guide/indexing.html#returning-a-view-versus-a-copy\n",
      "  df.loc[:,'CO2toRevenue'] = df.loc[:,'EmissionDataPoints.CO2EquivalentsEmissionDirectScope1']*(df.loc[:,'EmissionIndicators.TotalCO2EquivalentsEmissionsToRevenues']/df.loc[:,'EmissionDataPoints.CO2EquivalentsEmissionTotal'])\n",
      "/var/folders/s_/qtbdy3px3m3_6k7xydrkhbsh0000gn/T/ipykernel_7686/191058123.py:3: SettingWithCopyWarning: \n",
      "A value is trying to be set on a copy of a slice from a DataFrame.\n",
      "Try using .loc[row_indexer,col_indexer] = value instead\n",
      "\n",
      "See the caveats in the documentation: https://pandas.pydata.org/pandas-docs/stable/user_guide/indexing.html#returning-a-view-versus-a-copy\n",
      "  df.loc[:,'CO2toRevenue'] = df.loc[:,'EmissionDataPoints.CO2EquivalentsEmissionDirectScope1']*(df.loc[:,'EmissionIndicators.TotalCO2EquivalentsEmissionsToRevenues']/df.loc[:,'EmissionDataPoints.CO2EquivalentsEmissionTotal'])\n"
     ]
    },
    {
     "name": "stdout",
     "output_type": "stream",
     "text": [
      "predictions based on sector (using scaled data)\n",
      "predictions based on sector (using scaled data)\n"
     ]
    },
    {
     "name": "stderr",
     "output_type": "stream",
     "text": [
      "/var/folders/s_/qtbdy3px3m3_6k7xydrkhbsh0000gn/T/ipykernel_7686/191058123.py:3: SettingWithCopyWarning: \n",
      "A value is trying to be set on a copy of a slice from a DataFrame.\n",
      "Try using .loc[row_indexer,col_indexer] = value instead\n",
      "\n",
      "See the caveats in the documentation: https://pandas.pydata.org/pandas-docs/stable/user_guide/indexing.html#returning-a-view-versus-a-copy\n",
      "  df.loc[:,'CO2toRevenue'] = df.loc[:,'EmissionDataPoints.CO2EquivalentsEmissionDirectScope1']*(df.loc[:,'EmissionIndicators.TotalCO2EquivalentsEmissionsToRevenues']/df.loc[:,'EmissionDataPoints.CO2EquivalentsEmissionTotal'])\n",
      "/var/folders/s_/qtbdy3px3m3_6k7xydrkhbsh0000gn/T/ipykernel_7686/191058123.py:3: SettingWithCopyWarning: \n",
      "A value is trying to be set on a copy of a slice from a DataFrame.\n",
      "Try using .loc[row_indexer,col_indexer] = value instead\n",
      "\n",
      "See the caveats in the documentation: https://pandas.pydata.org/pandas-docs/stable/user_guide/indexing.html#returning-a-view-versus-a-copy\n",
      "  df.loc[:,'CO2toRevenue'] = df.loc[:,'EmissionDataPoints.CO2EquivalentsEmissionDirectScope1']*(df.loc[:,'EmissionIndicators.TotalCO2EquivalentsEmissionsToRevenues']/df.loc[:,'EmissionDataPoints.CO2EquivalentsEmissionTotal'])\n"
     ]
    },
    {
     "name": "stdout",
     "output_type": "stream",
     "text": [
      "predictions based on sector (using scaled data)\n",
      "predictions based on orgid\n",
      "predictions based on orgid\n",
      "predictions based on sector (using scaled data)\n"
     ]
    },
    {
     "name": "stderr",
     "output_type": "stream",
     "text": [
      "/var/folders/s_/qtbdy3px3m3_6k7xydrkhbsh0000gn/T/ipykernel_7686/191058123.py:3: SettingWithCopyWarning: \n",
      "A value is trying to be set on a copy of a slice from a DataFrame.\n",
      "Try using .loc[row_indexer,col_indexer] = value instead\n",
      "\n",
      "See the caveats in the documentation: https://pandas.pydata.org/pandas-docs/stable/user_guide/indexing.html#returning-a-view-versus-a-copy\n",
      "  df.loc[:,'CO2toRevenue'] = df.loc[:,'EmissionDataPoints.CO2EquivalentsEmissionDirectScope1']*(df.loc[:,'EmissionIndicators.TotalCO2EquivalentsEmissionsToRevenues']/df.loc[:,'EmissionDataPoints.CO2EquivalentsEmissionTotal'])\n",
      "/var/folders/s_/qtbdy3px3m3_6k7xydrkhbsh0000gn/T/ipykernel_7686/191058123.py:3: SettingWithCopyWarning: \n",
      "A value is trying to be set on a copy of a slice from a DataFrame.\n",
      "Try using .loc[row_indexer,col_indexer] = value instead\n",
      "\n",
      "See the caveats in the documentation: https://pandas.pydata.org/pandas-docs/stable/user_guide/indexing.html#returning-a-view-versus-a-copy\n",
      "  df.loc[:,'CO2toRevenue'] = df.loc[:,'EmissionDataPoints.CO2EquivalentsEmissionDirectScope1']*(df.loc[:,'EmissionIndicators.TotalCO2EquivalentsEmissionsToRevenues']/df.loc[:,'EmissionDataPoints.CO2EquivalentsEmissionTotal'])\n"
     ]
    },
    {
     "name": "stdout",
     "output_type": "stream",
     "text": [
      "predictions based on orgid\n",
      "predictions based on sector (using scaled data)\n",
      "predictions based on orgid\n",
      "predictions based on orgid\n",
      "predictions based on orgid\n",
      "predictions based on sector (using scaled data)\n"
     ]
    },
    {
     "name": "stderr",
     "output_type": "stream",
     "text": [
      "/var/folders/s_/qtbdy3px3m3_6k7xydrkhbsh0000gn/T/ipykernel_7686/191058123.py:3: SettingWithCopyWarning: \n",
      "A value is trying to be set on a copy of a slice from a DataFrame.\n",
      "Try using .loc[row_indexer,col_indexer] = value instead\n",
      "\n",
      "See the caveats in the documentation: https://pandas.pydata.org/pandas-docs/stable/user_guide/indexing.html#returning-a-view-versus-a-copy\n",
      "  df.loc[:,'CO2toRevenue'] = df.loc[:,'EmissionDataPoints.CO2EquivalentsEmissionDirectScope1']*(df.loc[:,'EmissionIndicators.TotalCO2EquivalentsEmissionsToRevenues']/df.loc[:,'EmissionDataPoints.CO2EquivalentsEmissionTotal'])\n",
      "/var/folders/s_/qtbdy3px3m3_6k7xydrkhbsh0000gn/T/ipykernel_7686/191058123.py:3: SettingWithCopyWarning: \n",
      "A value is trying to be set on a copy of a slice from a DataFrame.\n",
      "Try using .loc[row_indexer,col_indexer] = value instead\n",
      "\n",
      "See the caveats in the documentation: https://pandas.pydata.org/pandas-docs/stable/user_guide/indexing.html#returning-a-view-versus-a-copy\n",
      "  df.loc[:,'CO2toRevenue'] = df.loc[:,'EmissionDataPoints.CO2EquivalentsEmissionDirectScope1']*(df.loc[:,'EmissionIndicators.TotalCO2EquivalentsEmissionsToRevenues']/df.loc[:,'EmissionDataPoints.CO2EquivalentsEmissionTotal'])\n"
     ]
    },
    {
     "name": "stdout",
     "output_type": "stream",
     "text": [
      "predictions based on orgid\n",
      "predictions based on sector (using scaled data)\n",
      "predictions based on sector (using scaled data)\n"
     ]
    },
    {
     "name": "stderr",
     "output_type": "stream",
     "text": [
      "/var/folders/s_/qtbdy3px3m3_6k7xydrkhbsh0000gn/T/ipykernel_7686/191058123.py:3: SettingWithCopyWarning: \n",
      "A value is trying to be set on a copy of a slice from a DataFrame.\n",
      "Try using .loc[row_indexer,col_indexer] = value instead\n",
      "\n",
      "See the caveats in the documentation: https://pandas.pydata.org/pandas-docs/stable/user_guide/indexing.html#returning-a-view-versus-a-copy\n",
      "  df.loc[:,'CO2toRevenue'] = df.loc[:,'EmissionDataPoints.CO2EquivalentsEmissionDirectScope1']*(df.loc[:,'EmissionIndicators.TotalCO2EquivalentsEmissionsToRevenues']/df.loc[:,'EmissionDataPoints.CO2EquivalentsEmissionTotal'])\n",
      "/var/folders/s_/qtbdy3px3m3_6k7xydrkhbsh0000gn/T/ipykernel_7686/191058123.py:3: SettingWithCopyWarning: \n",
      "A value is trying to be set on a copy of a slice from a DataFrame.\n",
      "Try using .loc[row_indexer,col_indexer] = value instead\n",
      "\n",
      "See the caveats in the documentation: https://pandas.pydata.org/pandas-docs/stable/user_guide/indexing.html#returning-a-view-versus-a-copy\n",
      "  df.loc[:,'CO2toRevenue'] = df.loc[:,'EmissionDataPoints.CO2EquivalentsEmissionDirectScope1']*(df.loc[:,'EmissionIndicators.TotalCO2EquivalentsEmissionsToRevenues']/df.loc[:,'EmissionDataPoints.CO2EquivalentsEmissionTotal'])\n"
     ]
    },
    {
     "name": "stdout",
     "output_type": "stream",
     "text": [
      "predictions based on orgid\n",
      "predictions based on sector (using scaled data)\n",
      "predictions based on orgid\n",
      "predictions based on sector (using scaled data)\n"
     ]
    },
    {
     "name": "stderr",
     "output_type": "stream",
     "text": [
      "/var/folders/s_/qtbdy3px3m3_6k7xydrkhbsh0000gn/T/ipykernel_7686/191058123.py:3: SettingWithCopyWarning: \n",
      "A value is trying to be set on a copy of a slice from a DataFrame.\n",
      "Try using .loc[row_indexer,col_indexer] = value instead\n",
      "\n",
      "See the caveats in the documentation: https://pandas.pydata.org/pandas-docs/stable/user_guide/indexing.html#returning-a-view-versus-a-copy\n",
      "  df.loc[:,'CO2toRevenue'] = df.loc[:,'EmissionDataPoints.CO2EquivalentsEmissionDirectScope1']*(df.loc[:,'EmissionIndicators.TotalCO2EquivalentsEmissionsToRevenues']/df.loc[:,'EmissionDataPoints.CO2EquivalentsEmissionTotal'])\n",
      "/var/folders/s_/qtbdy3px3m3_6k7xydrkhbsh0000gn/T/ipykernel_7686/191058123.py:3: SettingWithCopyWarning: \n",
      "A value is trying to be set on a copy of a slice from a DataFrame.\n",
      "Try using .loc[row_indexer,col_indexer] = value instead\n",
      "\n",
      "See the caveats in the documentation: https://pandas.pydata.org/pandas-docs/stable/user_guide/indexing.html#returning-a-view-versus-a-copy\n",
      "  df.loc[:,'CO2toRevenue'] = df.loc[:,'EmissionDataPoints.CO2EquivalentsEmissionDirectScope1']*(df.loc[:,'EmissionIndicators.TotalCO2EquivalentsEmissionsToRevenues']/df.loc[:,'EmissionDataPoints.CO2EquivalentsEmissionTotal'])\n"
     ]
    },
    {
     "name": "stdout",
     "output_type": "stream",
     "text": [
      "predictions based on sector (using scaled data)\n",
      "predictions based on sector (using scaled data)\n"
     ]
    },
    {
     "name": "stderr",
     "output_type": "stream",
     "text": [
      "/var/folders/s_/qtbdy3px3m3_6k7xydrkhbsh0000gn/T/ipykernel_7686/191058123.py:3: SettingWithCopyWarning: \n",
      "A value is trying to be set on a copy of a slice from a DataFrame.\n",
      "Try using .loc[row_indexer,col_indexer] = value instead\n",
      "\n",
      "See the caveats in the documentation: https://pandas.pydata.org/pandas-docs/stable/user_guide/indexing.html#returning-a-view-versus-a-copy\n",
      "  df.loc[:,'CO2toRevenue'] = df.loc[:,'EmissionDataPoints.CO2EquivalentsEmissionDirectScope1']*(df.loc[:,'EmissionIndicators.TotalCO2EquivalentsEmissionsToRevenues']/df.loc[:,'EmissionDataPoints.CO2EquivalentsEmissionTotal'])\n",
      "/var/folders/s_/qtbdy3px3m3_6k7xydrkhbsh0000gn/T/ipykernel_7686/191058123.py:3: SettingWithCopyWarning: \n",
      "A value is trying to be set on a copy of a slice from a DataFrame.\n",
      "Try using .loc[row_indexer,col_indexer] = value instead\n",
      "\n",
      "See the caveats in the documentation: https://pandas.pydata.org/pandas-docs/stable/user_guide/indexing.html#returning-a-view-versus-a-copy\n",
      "  df.loc[:,'CO2toRevenue'] = df.loc[:,'EmissionDataPoints.CO2EquivalentsEmissionDirectScope1']*(df.loc[:,'EmissionIndicators.TotalCO2EquivalentsEmissionsToRevenues']/df.loc[:,'EmissionDataPoints.CO2EquivalentsEmissionTotal'])\n"
     ]
    },
    {
     "name": "stdout",
     "output_type": "stream",
     "text": [
      "predictions based on sector (using scaled data)\n",
      "predictions based on sector (using scaled data)\n"
     ]
    },
    {
     "name": "stderr",
     "output_type": "stream",
     "text": [
      "/var/folders/s_/qtbdy3px3m3_6k7xydrkhbsh0000gn/T/ipykernel_7686/191058123.py:3: SettingWithCopyWarning: \n",
      "A value is trying to be set on a copy of a slice from a DataFrame.\n",
      "Try using .loc[row_indexer,col_indexer] = value instead\n",
      "\n",
      "See the caveats in the documentation: https://pandas.pydata.org/pandas-docs/stable/user_guide/indexing.html#returning-a-view-versus-a-copy\n",
      "  df.loc[:,'CO2toRevenue'] = df.loc[:,'EmissionDataPoints.CO2EquivalentsEmissionDirectScope1']*(df.loc[:,'EmissionIndicators.TotalCO2EquivalentsEmissionsToRevenues']/df.loc[:,'EmissionDataPoints.CO2EquivalentsEmissionTotal'])\n",
      "/var/folders/s_/qtbdy3px3m3_6k7xydrkhbsh0000gn/T/ipykernel_7686/191058123.py:3: SettingWithCopyWarning: \n",
      "A value is trying to be set on a copy of a slice from a DataFrame.\n",
      "Try using .loc[row_indexer,col_indexer] = value instead\n",
      "\n",
      "See the caveats in the documentation: https://pandas.pydata.org/pandas-docs/stable/user_guide/indexing.html#returning-a-view-versus-a-copy\n",
      "  df.loc[:,'CO2toRevenue'] = df.loc[:,'EmissionDataPoints.CO2EquivalentsEmissionDirectScope1']*(df.loc[:,'EmissionIndicators.TotalCO2EquivalentsEmissionsToRevenues']/df.loc[:,'EmissionDataPoints.CO2EquivalentsEmissionTotal'])\n"
     ]
    },
    {
     "name": "stdout",
     "output_type": "stream",
     "text": [
      "predictions based on sector (using scaled data)\n",
      "predictions based on sector (using scaled data)\n"
     ]
    },
    {
     "name": "stderr",
     "output_type": "stream",
     "text": [
      "/var/folders/s_/qtbdy3px3m3_6k7xydrkhbsh0000gn/T/ipykernel_7686/191058123.py:3: SettingWithCopyWarning: \n",
      "A value is trying to be set on a copy of a slice from a DataFrame.\n",
      "Try using .loc[row_indexer,col_indexer] = value instead\n",
      "\n",
      "See the caveats in the documentation: https://pandas.pydata.org/pandas-docs/stable/user_guide/indexing.html#returning-a-view-versus-a-copy\n",
      "  df.loc[:,'CO2toRevenue'] = df.loc[:,'EmissionDataPoints.CO2EquivalentsEmissionDirectScope1']*(df.loc[:,'EmissionIndicators.TotalCO2EquivalentsEmissionsToRevenues']/df.loc[:,'EmissionDataPoints.CO2EquivalentsEmissionTotal'])\n",
      "/var/folders/s_/qtbdy3px3m3_6k7xydrkhbsh0000gn/T/ipykernel_7686/191058123.py:3: SettingWithCopyWarning: \n",
      "A value is trying to be set on a copy of a slice from a DataFrame.\n",
      "Try using .loc[row_indexer,col_indexer] = value instead\n",
      "\n",
      "See the caveats in the documentation: https://pandas.pydata.org/pandas-docs/stable/user_guide/indexing.html#returning-a-view-versus-a-copy\n",
      "  df.loc[:,'CO2toRevenue'] = df.loc[:,'EmissionDataPoints.CO2EquivalentsEmissionDirectScope1']*(df.loc[:,'EmissionIndicators.TotalCO2EquivalentsEmissionsToRevenues']/df.loc[:,'EmissionDataPoints.CO2EquivalentsEmissionTotal'])\n"
     ]
    },
    {
     "name": "stdout",
     "output_type": "stream",
     "text": [
      "predictions based on sector (using scaled data)\n",
      "predictions based on orgid\n",
      "predictions based on sector (using scaled data)\n"
     ]
    },
    {
     "name": "stderr",
     "output_type": "stream",
     "text": [
      "/var/folders/s_/qtbdy3px3m3_6k7xydrkhbsh0000gn/T/ipykernel_7686/191058123.py:3: SettingWithCopyWarning: \n",
      "A value is trying to be set on a copy of a slice from a DataFrame.\n",
      "Try using .loc[row_indexer,col_indexer] = value instead\n",
      "\n",
      "See the caveats in the documentation: https://pandas.pydata.org/pandas-docs/stable/user_guide/indexing.html#returning-a-view-versus-a-copy\n",
      "  df.loc[:,'CO2toRevenue'] = df.loc[:,'EmissionDataPoints.CO2EquivalentsEmissionDirectScope1']*(df.loc[:,'EmissionIndicators.TotalCO2EquivalentsEmissionsToRevenues']/df.loc[:,'EmissionDataPoints.CO2EquivalentsEmissionTotal'])\n",
      "/var/folders/s_/qtbdy3px3m3_6k7xydrkhbsh0000gn/T/ipykernel_7686/191058123.py:3: SettingWithCopyWarning: \n",
      "A value is trying to be set on a copy of a slice from a DataFrame.\n",
      "Try using .loc[row_indexer,col_indexer] = value instead\n",
      "\n",
      "See the caveats in the documentation: https://pandas.pydata.org/pandas-docs/stable/user_guide/indexing.html#returning-a-view-versus-a-copy\n",
      "  df.loc[:,'CO2toRevenue'] = df.loc[:,'EmissionDataPoints.CO2EquivalentsEmissionDirectScope1']*(df.loc[:,'EmissionIndicators.TotalCO2EquivalentsEmissionsToRevenues']/df.loc[:,'EmissionDataPoints.CO2EquivalentsEmissionTotal'])\n"
     ]
    },
    {
     "name": "stdout",
     "output_type": "stream",
     "text": [
      "predictions based on orgid\n",
      "predictions based on orgid\n",
      "predictions based on orgid\n",
      "predictions based on orgid\n",
      "predictions based on sector (using scaled data)\n",
      "predictions based on sector (using scaled data)\n"
     ]
    },
    {
     "name": "stderr",
     "output_type": "stream",
     "text": [
      "/var/folders/s_/qtbdy3px3m3_6k7xydrkhbsh0000gn/T/ipykernel_7686/191058123.py:3: SettingWithCopyWarning: \n",
      "A value is trying to be set on a copy of a slice from a DataFrame.\n",
      "Try using .loc[row_indexer,col_indexer] = value instead\n",
      "\n",
      "See the caveats in the documentation: https://pandas.pydata.org/pandas-docs/stable/user_guide/indexing.html#returning-a-view-versus-a-copy\n",
      "  df.loc[:,'CO2toRevenue'] = df.loc[:,'EmissionDataPoints.CO2EquivalentsEmissionDirectScope1']*(df.loc[:,'EmissionIndicators.TotalCO2EquivalentsEmissionsToRevenues']/df.loc[:,'EmissionDataPoints.CO2EquivalentsEmissionTotal'])\n",
      "/var/folders/s_/qtbdy3px3m3_6k7xydrkhbsh0000gn/T/ipykernel_7686/191058123.py:3: SettingWithCopyWarning: \n",
      "A value is trying to be set on a copy of a slice from a DataFrame.\n",
      "Try using .loc[row_indexer,col_indexer] = value instead\n",
      "\n",
      "See the caveats in the documentation: https://pandas.pydata.org/pandas-docs/stable/user_guide/indexing.html#returning-a-view-versus-a-copy\n",
      "  df.loc[:,'CO2toRevenue'] = df.loc[:,'EmissionDataPoints.CO2EquivalentsEmissionDirectScope1']*(df.loc[:,'EmissionIndicators.TotalCO2EquivalentsEmissionsToRevenues']/df.loc[:,'EmissionDataPoints.CO2EquivalentsEmissionTotal'])\n"
     ]
    },
    {
     "name": "stdout",
     "output_type": "stream",
     "text": [
      "predictions based on sector (using scaled data)\n",
      "predictions based on orgid\n",
      "predictions based on orgid\n",
      "predictions based on orgid\n",
      "predictions based on sector (using scaled data)\n"
     ]
    },
    {
     "name": "stderr",
     "output_type": "stream",
     "text": [
      "/var/folders/s_/qtbdy3px3m3_6k7xydrkhbsh0000gn/T/ipykernel_7686/191058123.py:3: SettingWithCopyWarning: \n",
      "A value is trying to be set on a copy of a slice from a DataFrame.\n",
      "Try using .loc[row_indexer,col_indexer] = value instead\n",
      "\n",
      "See the caveats in the documentation: https://pandas.pydata.org/pandas-docs/stable/user_guide/indexing.html#returning-a-view-versus-a-copy\n",
      "  df.loc[:,'CO2toRevenue'] = df.loc[:,'EmissionDataPoints.CO2EquivalentsEmissionDirectScope1']*(df.loc[:,'EmissionIndicators.TotalCO2EquivalentsEmissionsToRevenues']/df.loc[:,'EmissionDataPoints.CO2EquivalentsEmissionTotal'])\n",
      "/var/folders/s_/qtbdy3px3m3_6k7xydrkhbsh0000gn/T/ipykernel_7686/191058123.py:3: SettingWithCopyWarning: \n",
      "A value is trying to be set on a copy of a slice from a DataFrame.\n",
      "Try using .loc[row_indexer,col_indexer] = value instead\n",
      "\n",
      "See the caveats in the documentation: https://pandas.pydata.org/pandas-docs/stable/user_guide/indexing.html#returning-a-view-versus-a-copy\n",
      "  df.loc[:,'CO2toRevenue'] = df.loc[:,'EmissionDataPoints.CO2EquivalentsEmissionDirectScope1']*(df.loc[:,'EmissionIndicators.TotalCO2EquivalentsEmissionsToRevenues']/df.loc[:,'EmissionDataPoints.CO2EquivalentsEmissionTotal'])\n"
     ]
    },
    {
     "name": "stdout",
     "output_type": "stream",
     "text": [
      "predictions based on sector (using scaled data)\n",
      "predictions based on sector (using scaled data)\n"
     ]
    },
    {
     "name": "stderr",
     "output_type": "stream",
     "text": [
      "/var/folders/s_/qtbdy3px3m3_6k7xydrkhbsh0000gn/T/ipykernel_7686/191058123.py:3: SettingWithCopyWarning: \n",
      "A value is trying to be set on a copy of a slice from a DataFrame.\n",
      "Try using .loc[row_indexer,col_indexer] = value instead\n",
      "\n",
      "See the caveats in the documentation: https://pandas.pydata.org/pandas-docs/stable/user_guide/indexing.html#returning-a-view-versus-a-copy\n",
      "  df.loc[:,'CO2toRevenue'] = df.loc[:,'EmissionDataPoints.CO2EquivalentsEmissionDirectScope1']*(df.loc[:,'EmissionIndicators.TotalCO2EquivalentsEmissionsToRevenues']/df.loc[:,'EmissionDataPoints.CO2EquivalentsEmissionTotal'])\n",
      "/var/folders/s_/qtbdy3px3m3_6k7xydrkhbsh0000gn/T/ipykernel_7686/191058123.py:3: SettingWithCopyWarning: \n",
      "A value is trying to be set on a copy of a slice from a DataFrame.\n",
      "Try using .loc[row_indexer,col_indexer] = value instead\n",
      "\n",
      "See the caveats in the documentation: https://pandas.pydata.org/pandas-docs/stable/user_guide/indexing.html#returning-a-view-versus-a-copy\n",
      "  df.loc[:,'CO2toRevenue'] = df.loc[:,'EmissionDataPoints.CO2EquivalentsEmissionDirectScope1']*(df.loc[:,'EmissionIndicators.TotalCO2EquivalentsEmissionsToRevenues']/df.loc[:,'EmissionDataPoints.CO2EquivalentsEmissionTotal'])\n"
     ]
    },
    {
     "name": "stdout",
     "output_type": "stream",
     "text": [
      "predictions based on sector (using scaled data)\n",
      "predictions based on sector (using scaled data)\n"
     ]
    },
    {
     "name": "stderr",
     "output_type": "stream",
     "text": [
      "/var/folders/s_/qtbdy3px3m3_6k7xydrkhbsh0000gn/T/ipykernel_7686/191058123.py:3: SettingWithCopyWarning: \n",
      "A value is trying to be set on a copy of a slice from a DataFrame.\n",
      "Try using .loc[row_indexer,col_indexer] = value instead\n",
      "\n",
      "See the caveats in the documentation: https://pandas.pydata.org/pandas-docs/stable/user_guide/indexing.html#returning-a-view-versus-a-copy\n",
      "  df.loc[:,'CO2toRevenue'] = df.loc[:,'EmissionDataPoints.CO2EquivalentsEmissionDirectScope1']*(df.loc[:,'EmissionIndicators.TotalCO2EquivalentsEmissionsToRevenues']/df.loc[:,'EmissionDataPoints.CO2EquivalentsEmissionTotal'])\n",
      "/var/folders/s_/qtbdy3px3m3_6k7xydrkhbsh0000gn/T/ipykernel_7686/191058123.py:3: SettingWithCopyWarning: \n",
      "A value is trying to be set on a copy of a slice from a DataFrame.\n",
      "Try using .loc[row_indexer,col_indexer] = value instead\n",
      "\n",
      "See the caveats in the documentation: https://pandas.pydata.org/pandas-docs/stable/user_guide/indexing.html#returning-a-view-versus-a-copy\n",
      "  df.loc[:,'CO2toRevenue'] = df.loc[:,'EmissionDataPoints.CO2EquivalentsEmissionDirectScope1']*(df.loc[:,'EmissionIndicators.TotalCO2EquivalentsEmissionsToRevenues']/df.loc[:,'EmissionDataPoints.CO2EquivalentsEmissionTotal'])\n"
     ]
    },
    {
     "name": "stdout",
     "output_type": "stream",
     "text": [
      "predictions based on sector (using scaled data)\n",
      "predictions based on sector (using scaled data)\n"
     ]
    },
    {
     "name": "stderr",
     "output_type": "stream",
     "text": [
      "/var/folders/s_/qtbdy3px3m3_6k7xydrkhbsh0000gn/T/ipykernel_7686/191058123.py:3: SettingWithCopyWarning: \n",
      "A value is trying to be set on a copy of a slice from a DataFrame.\n",
      "Try using .loc[row_indexer,col_indexer] = value instead\n",
      "\n",
      "See the caveats in the documentation: https://pandas.pydata.org/pandas-docs/stable/user_guide/indexing.html#returning-a-view-versus-a-copy\n",
      "  df.loc[:,'CO2toRevenue'] = df.loc[:,'EmissionDataPoints.CO2EquivalentsEmissionDirectScope1']*(df.loc[:,'EmissionIndicators.TotalCO2EquivalentsEmissionsToRevenues']/df.loc[:,'EmissionDataPoints.CO2EquivalentsEmissionTotal'])\n",
      "/var/folders/s_/qtbdy3px3m3_6k7xydrkhbsh0000gn/T/ipykernel_7686/191058123.py:3: SettingWithCopyWarning: \n",
      "A value is trying to be set on a copy of a slice from a DataFrame.\n",
      "Try using .loc[row_indexer,col_indexer] = value instead\n",
      "\n",
      "See the caveats in the documentation: https://pandas.pydata.org/pandas-docs/stable/user_guide/indexing.html#returning-a-view-versus-a-copy\n",
      "  df.loc[:,'CO2toRevenue'] = df.loc[:,'EmissionDataPoints.CO2EquivalentsEmissionDirectScope1']*(df.loc[:,'EmissionIndicators.TotalCO2EquivalentsEmissionsToRevenues']/df.loc[:,'EmissionDataPoints.CO2EquivalentsEmissionTotal'])\n"
     ]
    },
    {
     "name": "stdout",
     "output_type": "stream",
     "text": [
      "predictions based on orgid\n",
      "predictions based on orgid\n",
      "predictions based on orgid\n",
      "predictions based on sector (using scaled data)\n",
      "predictions based on sector (using scaled data)\n",
      "predictions based on orgid\n",
      "predictions based on orgid\n",
      "predictions based on sector (using scaled data)\n"
     ]
    },
    {
     "name": "stderr",
     "output_type": "stream",
     "text": [
      "/var/folders/s_/qtbdy3px3m3_6k7xydrkhbsh0000gn/T/ipykernel_7686/191058123.py:3: SettingWithCopyWarning: \n",
      "A value is trying to be set on a copy of a slice from a DataFrame.\n",
      "Try using .loc[row_indexer,col_indexer] = value instead\n",
      "\n",
      "See the caveats in the documentation: https://pandas.pydata.org/pandas-docs/stable/user_guide/indexing.html#returning-a-view-versus-a-copy\n",
      "  df.loc[:,'CO2toRevenue'] = df.loc[:,'EmissionDataPoints.CO2EquivalentsEmissionDirectScope1']*(df.loc[:,'EmissionIndicators.TotalCO2EquivalentsEmissionsToRevenues']/df.loc[:,'EmissionDataPoints.CO2EquivalentsEmissionTotal'])\n",
      "/var/folders/s_/qtbdy3px3m3_6k7xydrkhbsh0000gn/T/ipykernel_7686/191058123.py:3: SettingWithCopyWarning: \n",
      "A value is trying to be set on a copy of a slice from a DataFrame.\n",
      "Try using .loc[row_indexer,col_indexer] = value instead\n",
      "\n",
      "See the caveats in the documentation: https://pandas.pydata.org/pandas-docs/stable/user_guide/indexing.html#returning-a-view-versus-a-copy\n",
      "  df.loc[:,'CO2toRevenue'] = df.loc[:,'EmissionDataPoints.CO2EquivalentsEmissionDirectScope1']*(df.loc[:,'EmissionIndicators.TotalCO2EquivalentsEmissionsToRevenues']/df.loc[:,'EmissionDataPoints.CO2EquivalentsEmissionTotal'])\n",
      "/var/folders/s_/qtbdy3px3m3_6k7xydrkhbsh0000gn/T/ipykernel_7686/191058123.py:3: SettingWithCopyWarning: \n",
      "A value is trying to be set on a copy of a slice from a DataFrame.\n",
      "Try using .loc[row_indexer,col_indexer] = value instead\n",
      "\n",
      "See the caveats in the documentation: https://pandas.pydata.org/pandas-docs/stable/user_guide/indexing.html#returning-a-view-versus-a-copy\n",
      "  df.loc[:,'CO2toRevenue'] = df.loc[:,'EmissionDataPoints.CO2EquivalentsEmissionDirectScope1']*(df.loc[:,'EmissionIndicators.TotalCO2EquivalentsEmissionsToRevenues']/df.loc[:,'EmissionDataPoints.CO2EquivalentsEmissionTotal'])\n"
     ]
    },
    {
     "name": "stdout",
     "output_type": "stream",
     "text": [
      "predictions based on orgid\n",
      "predictions based on orgid\n",
      "predictions based on sector (using scaled data)\n",
      "predictions based on orgid\n",
      "predictions based on sector (using scaled data)\n"
     ]
    },
    {
     "name": "stderr",
     "output_type": "stream",
     "text": [
      "/var/folders/s_/qtbdy3px3m3_6k7xydrkhbsh0000gn/T/ipykernel_7686/191058123.py:3: SettingWithCopyWarning: \n",
      "A value is trying to be set on a copy of a slice from a DataFrame.\n",
      "Try using .loc[row_indexer,col_indexer] = value instead\n",
      "\n",
      "See the caveats in the documentation: https://pandas.pydata.org/pandas-docs/stable/user_guide/indexing.html#returning-a-view-versus-a-copy\n",
      "  df.loc[:,'CO2toRevenue'] = df.loc[:,'EmissionDataPoints.CO2EquivalentsEmissionDirectScope1']*(df.loc[:,'EmissionIndicators.TotalCO2EquivalentsEmissionsToRevenues']/df.loc[:,'EmissionDataPoints.CO2EquivalentsEmissionTotal'])\n",
      "/var/folders/s_/qtbdy3px3m3_6k7xydrkhbsh0000gn/T/ipykernel_7686/191058123.py:3: SettingWithCopyWarning: \n",
      "A value is trying to be set on a copy of a slice from a DataFrame.\n",
      "Try using .loc[row_indexer,col_indexer] = value instead\n",
      "\n",
      "See the caveats in the documentation: https://pandas.pydata.org/pandas-docs/stable/user_guide/indexing.html#returning-a-view-versus-a-copy\n",
      "  df.loc[:,'CO2toRevenue'] = df.loc[:,'EmissionDataPoints.CO2EquivalentsEmissionDirectScope1']*(df.loc[:,'EmissionIndicators.TotalCO2EquivalentsEmissionsToRevenues']/df.loc[:,'EmissionDataPoints.CO2EquivalentsEmissionTotal'])\n"
     ]
    },
    {
     "name": "stdout",
     "output_type": "stream",
     "text": [
      "predictions based on sector (using scaled data)\n",
      "predictions based on orgid\n",
      "predictions based on sector (using scaled data)\n"
     ]
    },
    {
     "name": "stderr",
     "output_type": "stream",
     "text": [
      "/var/folders/s_/qtbdy3px3m3_6k7xydrkhbsh0000gn/T/ipykernel_7686/191058123.py:3: SettingWithCopyWarning: \n",
      "A value is trying to be set on a copy of a slice from a DataFrame.\n",
      "Try using .loc[row_indexer,col_indexer] = value instead\n",
      "\n",
      "See the caveats in the documentation: https://pandas.pydata.org/pandas-docs/stable/user_guide/indexing.html#returning-a-view-versus-a-copy\n",
      "  df.loc[:,'CO2toRevenue'] = df.loc[:,'EmissionDataPoints.CO2EquivalentsEmissionDirectScope1']*(df.loc[:,'EmissionIndicators.TotalCO2EquivalentsEmissionsToRevenues']/df.loc[:,'EmissionDataPoints.CO2EquivalentsEmissionTotal'])\n",
      "/var/folders/s_/qtbdy3px3m3_6k7xydrkhbsh0000gn/T/ipykernel_7686/191058123.py:3: SettingWithCopyWarning: \n",
      "A value is trying to be set on a copy of a slice from a DataFrame.\n",
      "Try using .loc[row_indexer,col_indexer] = value instead\n",
      "\n",
      "See the caveats in the documentation: https://pandas.pydata.org/pandas-docs/stable/user_guide/indexing.html#returning-a-view-versus-a-copy\n",
      "  df.loc[:,'CO2toRevenue'] = df.loc[:,'EmissionDataPoints.CO2EquivalentsEmissionDirectScope1']*(df.loc[:,'EmissionIndicators.TotalCO2EquivalentsEmissionsToRevenues']/df.loc[:,'EmissionDataPoints.CO2EquivalentsEmissionTotal'])\n"
     ]
    },
    {
     "name": "stdout",
     "output_type": "stream",
     "text": [
      "predictions based on orgid\n",
      "predictions based on orgid\n",
      "predictions based on orgid\n",
      "predictions based on sector (using scaled data)\n",
      "predictions based on sector (using scaled data)\n"
     ]
    },
    {
     "name": "stderr",
     "output_type": "stream",
     "text": [
      "/var/folders/s_/qtbdy3px3m3_6k7xydrkhbsh0000gn/T/ipykernel_7686/191058123.py:3: SettingWithCopyWarning: \n",
      "A value is trying to be set on a copy of a slice from a DataFrame.\n",
      "Try using .loc[row_indexer,col_indexer] = value instead\n",
      "\n",
      "See the caveats in the documentation: https://pandas.pydata.org/pandas-docs/stable/user_guide/indexing.html#returning-a-view-versus-a-copy\n",
      "  df.loc[:,'CO2toRevenue'] = df.loc[:,'EmissionDataPoints.CO2EquivalentsEmissionDirectScope1']*(df.loc[:,'EmissionIndicators.TotalCO2EquivalentsEmissionsToRevenues']/df.loc[:,'EmissionDataPoints.CO2EquivalentsEmissionTotal'])\n",
      "/var/folders/s_/qtbdy3px3m3_6k7xydrkhbsh0000gn/T/ipykernel_7686/191058123.py:3: SettingWithCopyWarning: \n",
      "A value is trying to be set on a copy of a slice from a DataFrame.\n",
      "Try using .loc[row_indexer,col_indexer] = value instead\n",
      "\n",
      "See the caveats in the documentation: https://pandas.pydata.org/pandas-docs/stable/user_guide/indexing.html#returning-a-view-versus-a-copy\n",
      "  df.loc[:,'CO2toRevenue'] = df.loc[:,'EmissionDataPoints.CO2EquivalentsEmissionDirectScope1']*(df.loc[:,'EmissionIndicators.TotalCO2EquivalentsEmissionsToRevenues']/df.loc[:,'EmissionDataPoints.CO2EquivalentsEmissionTotal'])\n"
     ]
    },
    {
     "name": "stdout",
     "output_type": "stream",
     "text": [
      "predictions based on orgid\n",
      "predictions based on sector (using scaled data)\n",
      "predictions based on sector (using scaled data)\n"
     ]
    },
    {
     "name": "stderr",
     "output_type": "stream",
     "text": [
      "/var/folders/s_/qtbdy3px3m3_6k7xydrkhbsh0000gn/T/ipykernel_7686/191058123.py:3: SettingWithCopyWarning: \n",
      "A value is trying to be set on a copy of a slice from a DataFrame.\n",
      "Try using .loc[row_indexer,col_indexer] = value instead\n",
      "\n",
      "See the caveats in the documentation: https://pandas.pydata.org/pandas-docs/stable/user_guide/indexing.html#returning-a-view-versus-a-copy\n",
      "  df.loc[:,'CO2toRevenue'] = df.loc[:,'EmissionDataPoints.CO2EquivalentsEmissionDirectScope1']*(df.loc[:,'EmissionIndicators.TotalCO2EquivalentsEmissionsToRevenues']/df.loc[:,'EmissionDataPoints.CO2EquivalentsEmissionTotal'])\n",
      "/var/folders/s_/qtbdy3px3m3_6k7xydrkhbsh0000gn/T/ipykernel_7686/191058123.py:3: SettingWithCopyWarning: \n",
      "A value is trying to be set on a copy of a slice from a DataFrame.\n",
      "Try using .loc[row_indexer,col_indexer] = value instead\n",
      "\n",
      "See the caveats in the documentation: https://pandas.pydata.org/pandas-docs/stable/user_guide/indexing.html#returning-a-view-versus-a-copy\n",
      "  df.loc[:,'CO2toRevenue'] = df.loc[:,'EmissionDataPoints.CO2EquivalentsEmissionDirectScope1']*(df.loc[:,'EmissionIndicators.TotalCO2EquivalentsEmissionsToRevenues']/df.loc[:,'EmissionDataPoints.CO2EquivalentsEmissionTotal'])\n",
      "/var/folders/s_/qtbdy3px3m3_6k7xydrkhbsh0000gn/T/ipykernel_7686/191058123.py:3: SettingWithCopyWarning: \n",
      "A value is trying to be set on a copy of a slice from a DataFrame.\n",
      "Try using .loc[row_indexer,col_indexer] = value instead\n",
      "\n",
      "See the caveats in the documentation: https://pandas.pydata.org/pandas-docs/stable/user_guide/indexing.html#returning-a-view-versus-a-copy\n",
      "  df.loc[:,'CO2toRevenue'] = df.loc[:,'EmissionDataPoints.CO2EquivalentsEmissionDirectScope1']*(df.loc[:,'EmissionIndicators.TotalCO2EquivalentsEmissionsToRevenues']/df.loc[:,'EmissionDataPoints.CO2EquivalentsEmissionTotal'])\n"
     ]
    },
    {
     "name": "stdout",
     "output_type": "stream",
     "text": [
      "predictions based on orgid\n",
      "predictions based on sector (using scaled data)\n",
      "predictions based on sector (using scaled data)\n"
     ]
    },
    {
     "name": "stderr",
     "output_type": "stream",
     "text": [
      "/var/folders/s_/qtbdy3px3m3_6k7xydrkhbsh0000gn/T/ipykernel_7686/191058123.py:3: SettingWithCopyWarning: \n",
      "A value is trying to be set on a copy of a slice from a DataFrame.\n",
      "Try using .loc[row_indexer,col_indexer] = value instead\n",
      "\n",
      "See the caveats in the documentation: https://pandas.pydata.org/pandas-docs/stable/user_guide/indexing.html#returning-a-view-versus-a-copy\n",
      "  df.loc[:,'CO2toRevenue'] = df.loc[:,'EmissionDataPoints.CO2EquivalentsEmissionDirectScope1']*(df.loc[:,'EmissionIndicators.TotalCO2EquivalentsEmissionsToRevenues']/df.loc[:,'EmissionDataPoints.CO2EquivalentsEmissionTotal'])\n",
      "/var/folders/s_/qtbdy3px3m3_6k7xydrkhbsh0000gn/T/ipykernel_7686/191058123.py:3: SettingWithCopyWarning: \n",
      "A value is trying to be set on a copy of a slice from a DataFrame.\n",
      "Try using .loc[row_indexer,col_indexer] = value instead\n",
      "\n",
      "See the caveats in the documentation: https://pandas.pydata.org/pandas-docs/stable/user_guide/indexing.html#returning-a-view-versus-a-copy\n",
      "  df.loc[:,'CO2toRevenue'] = df.loc[:,'EmissionDataPoints.CO2EquivalentsEmissionDirectScope1']*(df.loc[:,'EmissionIndicators.TotalCO2EquivalentsEmissionsToRevenues']/df.loc[:,'EmissionDataPoints.CO2EquivalentsEmissionTotal'])\n"
     ]
    },
    {
     "name": "stdout",
     "output_type": "stream",
     "text": [
      "predictions based on sector (using scaled data)\n",
      "predictions based on orgid\n",
      "predictions based on sector (using scaled data)\n"
     ]
    },
    {
     "name": "stderr",
     "output_type": "stream",
     "text": [
      "/var/folders/s_/qtbdy3px3m3_6k7xydrkhbsh0000gn/T/ipykernel_7686/191058123.py:3: SettingWithCopyWarning: \n",
      "A value is trying to be set on a copy of a slice from a DataFrame.\n",
      "Try using .loc[row_indexer,col_indexer] = value instead\n",
      "\n",
      "See the caveats in the documentation: https://pandas.pydata.org/pandas-docs/stable/user_guide/indexing.html#returning-a-view-versus-a-copy\n",
      "  df.loc[:,'CO2toRevenue'] = df.loc[:,'EmissionDataPoints.CO2EquivalentsEmissionDirectScope1']*(df.loc[:,'EmissionIndicators.TotalCO2EquivalentsEmissionsToRevenues']/df.loc[:,'EmissionDataPoints.CO2EquivalentsEmissionTotal'])\n",
      "/var/folders/s_/qtbdy3px3m3_6k7xydrkhbsh0000gn/T/ipykernel_7686/191058123.py:3: SettingWithCopyWarning: \n",
      "A value is trying to be set on a copy of a slice from a DataFrame.\n",
      "Try using .loc[row_indexer,col_indexer] = value instead\n",
      "\n",
      "See the caveats in the documentation: https://pandas.pydata.org/pandas-docs/stable/user_guide/indexing.html#returning-a-view-versus-a-copy\n",
      "  df.loc[:,'CO2toRevenue'] = df.loc[:,'EmissionDataPoints.CO2EquivalentsEmissionDirectScope1']*(df.loc[:,'EmissionIndicators.TotalCO2EquivalentsEmissionsToRevenues']/df.loc[:,'EmissionDataPoints.CO2EquivalentsEmissionTotal'])\n"
     ]
    },
    {
     "name": "stdout",
     "output_type": "stream",
     "text": [
      "predictions based on orgid\n",
      "predictions based on orgid\n",
      "predictions based on sector (using scaled data)\n",
      "predictions based on sector (using scaled data)\n"
     ]
    },
    {
     "name": "stderr",
     "output_type": "stream",
     "text": [
      "/var/folders/s_/qtbdy3px3m3_6k7xydrkhbsh0000gn/T/ipykernel_7686/191058123.py:3: SettingWithCopyWarning: \n",
      "A value is trying to be set on a copy of a slice from a DataFrame.\n",
      "Try using .loc[row_indexer,col_indexer] = value instead\n",
      "\n",
      "See the caveats in the documentation: https://pandas.pydata.org/pandas-docs/stable/user_guide/indexing.html#returning-a-view-versus-a-copy\n",
      "  df.loc[:,'CO2toRevenue'] = df.loc[:,'EmissionDataPoints.CO2EquivalentsEmissionDirectScope1']*(df.loc[:,'EmissionIndicators.TotalCO2EquivalentsEmissionsToRevenues']/df.loc[:,'EmissionDataPoints.CO2EquivalentsEmissionTotal'])\n",
      "/var/folders/s_/qtbdy3px3m3_6k7xydrkhbsh0000gn/T/ipykernel_7686/191058123.py:3: SettingWithCopyWarning: \n",
      "A value is trying to be set on a copy of a slice from a DataFrame.\n",
      "Try using .loc[row_indexer,col_indexer] = value instead\n",
      "\n",
      "See the caveats in the documentation: https://pandas.pydata.org/pandas-docs/stable/user_guide/indexing.html#returning-a-view-versus-a-copy\n",
      "  df.loc[:,'CO2toRevenue'] = df.loc[:,'EmissionDataPoints.CO2EquivalentsEmissionDirectScope1']*(df.loc[:,'EmissionIndicators.TotalCO2EquivalentsEmissionsToRevenues']/df.loc[:,'EmissionDataPoints.CO2EquivalentsEmissionTotal'])\n"
     ]
    },
    {
     "name": "stdout",
     "output_type": "stream",
     "text": [
      "predictions based on sector (using scaled data)\n",
      "predictions based on orgid\n",
      "predictions based on orgid\n",
      "predictions based on orgid\n",
      "predictions based on sector (using scaled data)\n"
     ]
    },
    {
     "name": "stderr",
     "output_type": "stream",
     "text": [
      "/var/folders/s_/qtbdy3px3m3_6k7xydrkhbsh0000gn/T/ipykernel_7686/191058123.py:3: SettingWithCopyWarning: \n",
      "A value is trying to be set on a copy of a slice from a DataFrame.\n",
      "Try using .loc[row_indexer,col_indexer] = value instead\n",
      "\n",
      "See the caveats in the documentation: https://pandas.pydata.org/pandas-docs/stable/user_guide/indexing.html#returning-a-view-versus-a-copy\n",
      "  df.loc[:,'CO2toRevenue'] = df.loc[:,'EmissionDataPoints.CO2EquivalentsEmissionDirectScope1']*(df.loc[:,'EmissionIndicators.TotalCO2EquivalentsEmissionsToRevenues']/df.loc[:,'EmissionDataPoints.CO2EquivalentsEmissionTotal'])\n",
      "/var/folders/s_/qtbdy3px3m3_6k7xydrkhbsh0000gn/T/ipykernel_7686/191058123.py:3: SettingWithCopyWarning: \n",
      "A value is trying to be set on a copy of a slice from a DataFrame.\n",
      "Try using .loc[row_indexer,col_indexer] = value instead\n",
      "\n",
      "See the caveats in the documentation: https://pandas.pydata.org/pandas-docs/stable/user_guide/indexing.html#returning-a-view-versus-a-copy\n",
      "  df.loc[:,'CO2toRevenue'] = df.loc[:,'EmissionDataPoints.CO2EquivalentsEmissionDirectScope1']*(df.loc[:,'EmissionIndicators.TotalCO2EquivalentsEmissionsToRevenues']/df.loc[:,'EmissionDataPoints.CO2EquivalentsEmissionTotal'])\n"
     ]
    },
    {
     "name": "stdout",
     "output_type": "stream",
     "text": [
      "predictions based on sector (using scaled data)\n",
      "predictions based on sector (using scaled data)\n"
     ]
    },
    {
     "name": "stderr",
     "output_type": "stream",
     "text": [
      "/var/folders/s_/qtbdy3px3m3_6k7xydrkhbsh0000gn/T/ipykernel_7686/191058123.py:3: SettingWithCopyWarning: \n",
      "A value is trying to be set on a copy of a slice from a DataFrame.\n",
      "Try using .loc[row_indexer,col_indexer] = value instead\n",
      "\n",
      "See the caveats in the documentation: https://pandas.pydata.org/pandas-docs/stable/user_guide/indexing.html#returning-a-view-versus-a-copy\n",
      "  df.loc[:,'CO2toRevenue'] = df.loc[:,'EmissionDataPoints.CO2EquivalentsEmissionDirectScope1']*(df.loc[:,'EmissionIndicators.TotalCO2EquivalentsEmissionsToRevenues']/df.loc[:,'EmissionDataPoints.CO2EquivalentsEmissionTotal'])\n",
      "/var/folders/s_/qtbdy3px3m3_6k7xydrkhbsh0000gn/T/ipykernel_7686/191058123.py:3: SettingWithCopyWarning: \n",
      "A value is trying to be set on a copy of a slice from a DataFrame.\n",
      "Try using .loc[row_indexer,col_indexer] = value instead\n",
      "\n",
      "See the caveats in the documentation: https://pandas.pydata.org/pandas-docs/stable/user_guide/indexing.html#returning-a-view-versus-a-copy\n",
      "  df.loc[:,'CO2toRevenue'] = df.loc[:,'EmissionDataPoints.CO2EquivalentsEmissionDirectScope1']*(df.loc[:,'EmissionIndicators.TotalCO2EquivalentsEmissionsToRevenues']/df.loc[:,'EmissionDataPoints.CO2EquivalentsEmissionTotal'])\n",
      "/var/folders/s_/qtbdy3px3m3_6k7xydrkhbsh0000gn/T/ipykernel_7686/191058123.py:3: SettingWithCopyWarning: \n",
      "A value is trying to be set on a copy of a slice from a DataFrame.\n",
      "Try using .loc[row_indexer,col_indexer] = value instead\n",
      "\n",
      "See the caveats in the documentation: https://pandas.pydata.org/pandas-docs/stable/user_guide/indexing.html#returning-a-view-versus-a-copy\n",
      "  df.loc[:,'CO2toRevenue'] = df.loc[:,'EmissionDataPoints.CO2EquivalentsEmissionDirectScope1']*(df.loc[:,'EmissionIndicators.TotalCO2EquivalentsEmissionsToRevenues']/df.loc[:,'EmissionDataPoints.CO2EquivalentsEmissionTotal'])\n"
     ]
    },
    {
     "name": "stdout",
     "output_type": "stream",
     "text": [
      "predictions based on orgid\n",
      "predictions based on sector (using scaled data)\n",
      "predictions based on orgid\n",
      "predictions based on sector (using scaled data)\n",
      "predictions based on sector (using scaled data)\n",
      "predictions based on sector (using scaled data)\n",
      "predictions based on orgid\n",
      "predictions based on sector (using scaled data)\n"
     ]
    },
    {
     "name": "stderr",
     "output_type": "stream",
     "text": [
      "/var/folders/s_/qtbdy3px3m3_6k7xydrkhbsh0000gn/T/ipykernel_7686/191058123.py:3: SettingWithCopyWarning: \n",
      "A value is trying to be set on a copy of a slice from a DataFrame.\n",
      "Try using .loc[row_indexer,col_indexer] = value instead\n",
      "\n",
      "See the caveats in the documentation: https://pandas.pydata.org/pandas-docs/stable/user_guide/indexing.html#returning-a-view-versus-a-copy\n",
      "  df.loc[:,'CO2toRevenue'] = df.loc[:,'EmissionDataPoints.CO2EquivalentsEmissionDirectScope1']*(df.loc[:,'EmissionIndicators.TotalCO2EquivalentsEmissionsToRevenues']/df.loc[:,'EmissionDataPoints.CO2EquivalentsEmissionTotal'])\n",
      "/var/folders/s_/qtbdy3px3m3_6k7xydrkhbsh0000gn/T/ipykernel_7686/191058123.py:3: SettingWithCopyWarning: \n",
      "A value is trying to be set on a copy of a slice from a DataFrame.\n",
      "Try using .loc[row_indexer,col_indexer] = value instead\n",
      "\n",
      "See the caveats in the documentation: https://pandas.pydata.org/pandas-docs/stable/user_guide/indexing.html#returning-a-view-versus-a-copy\n",
      "  df.loc[:,'CO2toRevenue'] = df.loc[:,'EmissionDataPoints.CO2EquivalentsEmissionDirectScope1']*(df.loc[:,'EmissionIndicators.TotalCO2EquivalentsEmissionsToRevenues']/df.loc[:,'EmissionDataPoints.CO2EquivalentsEmissionTotal'])\n",
      "/var/folders/s_/qtbdy3px3m3_6k7xydrkhbsh0000gn/T/ipykernel_7686/191058123.py:3: SettingWithCopyWarning: \n",
      "A value is trying to be set on a copy of a slice from a DataFrame.\n",
      "Try using .loc[row_indexer,col_indexer] = value instead\n",
      "\n",
      "See the caveats in the documentation: https://pandas.pydata.org/pandas-docs/stable/user_guide/indexing.html#returning-a-view-versus-a-copy\n",
      "  df.loc[:,'CO2toRevenue'] = df.loc[:,'EmissionDataPoints.CO2EquivalentsEmissionDirectScope1']*(df.loc[:,'EmissionIndicators.TotalCO2EquivalentsEmissionsToRevenues']/df.loc[:,'EmissionDataPoints.CO2EquivalentsEmissionTotal'])\n",
      "/var/folders/s_/qtbdy3px3m3_6k7xydrkhbsh0000gn/T/ipykernel_7686/191058123.py:3: SettingWithCopyWarning: \n",
      "A value is trying to be set on a copy of a slice from a DataFrame.\n",
      "Try using .loc[row_indexer,col_indexer] = value instead\n",
      "\n",
      "See the caveats in the documentation: https://pandas.pydata.org/pandas-docs/stable/user_guide/indexing.html#returning-a-view-versus-a-copy\n",
      "  df.loc[:,'CO2toRevenue'] = df.loc[:,'EmissionDataPoints.CO2EquivalentsEmissionDirectScope1']*(df.loc[:,'EmissionIndicators.TotalCO2EquivalentsEmissionsToRevenues']/df.loc[:,'EmissionDataPoints.CO2EquivalentsEmissionTotal'])\n",
      "/var/folders/s_/qtbdy3px3m3_6k7xydrkhbsh0000gn/T/ipykernel_7686/191058123.py:3: SettingWithCopyWarning: \n",
      "A value is trying to be set on a copy of a slice from a DataFrame.\n",
      "Try using .loc[row_indexer,col_indexer] = value instead\n",
      "\n",
      "See the caveats in the documentation: https://pandas.pydata.org/pandas-docs/stable/user_guide/indexing.html#returning-a-view-versus-a-copy\n",
      "  df.loc[:,'CO2toRevenue'] = df.loc[:,'EmissionDataPoints.CO2EquivalentsEmissionDirectScope1']*(df.loc[:,'EmissionIndicators.TotalCO2EquivalentsEmissionsToRevenues']/df.loc[:,'EmissionDataPoints.CO2EquivalentsEmissionTotal'])\n"
     ]
    },
    {
     "name": "stdout",
     "output_type": "stream",
     "text": [
      "predictions based on orgid\n",
      "predictions based on sector (using scaled data)\n",
      "predictions based on orgid\n",
      "predictions based on orgid\n",
      "predictions based on orgid\n",
      "predictions based on orgid\n",
      "predictions based on orgid\n",
      "predictions based on orgid\n",
      "predictions based on sector (using scaled data)\n",
      "predictions based on orgid\n",
      "predictions based on orgid\n",
      "predictions based on orgid\n",
      "predictions based on orgid\n",
      "predictions based on sector (using scaled data)\n",
      "predictions based on sector (using scaled data)\n"
     ]
    },
    {
     "name": "stderr",
     "output_type": "stream",
     "text": [
      "/var/folders/s_/qtbdy3px3m3_6k7xydrkhbsh0000gn/T/ipykernel_7686/191058123.py:3: SettingWithCopyWarning: \n",
      "A value is trying to be set on a copy of a slice from a DataFrame.\n",
      "Try using .loc[row_indexer,col_indexer] = value instead\n",
      "\n",
      "See the caveats in the documentation: https://pandas.pydata.org/pandas-docs/stable/user_guide/indexing.html#returning-a-view-versus-a-copy\n",
      "  df.loc[:,'CO2toRevenue'] = df.loc[:,'EmissionDataPoints.CO2EquivalentsEmissionDirectScope1']*(df.loc[:,'EmissionIndicators.TotalCO2EquivalentsEmissionsToRevenues']/df.loc[:,'EmissionDataPoints.CO2EquivalentsEmissionTotal'])\n",
      "/var/folders/s_/qtbdy3px3m3_6k7xydrkhbsh0000gn/T/ipykernel_7686/191058123.py:3: SettingWithCopyWarning: \n",
      "A value is trying to be set on a copy of a slice from a DataFrame.\n",
      "Try using .loc[row_indexer,col_indexer] = value instead\n",
      "\n",
      "See the caveats in the documentation: https://pandas.pydata.org/pandas-docs/stable/user_guide/indexing.html#returning-a-view-versus-a-copy\n",
      "  df.loc[:,'CO2toRevenue'] = df.loc[:,'EmissionDataPoints.CO2EquivalentsEmissionDirectScope1']*(df.loc[:,'EmissionIndicators.TotalCO2EquivalentsEmissionsToRevenues']/df.loc[:,'EmissionDataPoints.CO2EquivalentsEmissionTotal'])\n",
      "/var/folders/s_/qtbdy3px3m3_6k7xydrkhbsh0000gn/T/ipykernel_7686/191058123.py:3: SettingWithCopyWarning: \n",
      "A value is trying to be set on a copy of a slice from a DataFrame.\n",
      "Try using .loc[row_indexer,col_indexer] = value instead\n",
      "\n",
      "See the caveats in the documentation: https://pandas.pydata.org/pandas-docs/stable/user_guide/indexing.html#returning-a-view-versus-a-copy\n",
      "  df.loc[:,'CO2toRevenue'] = df.loc[:,'EmissionDataPoints.CO2EquivalentsEmissionDirectScope1']*(df.loc[:,'EmissionIndicators.TotalCO2EquivalentsEmissionsToRevenues']/df.loc[:,'EmissionDataPoints.CO2EquivalentsEmissionTotal'])\n"
     ]
    },
    {
     "name": "stdout",
     "output_type": "stream",
     "text": [
      "predictions based on orgid\n",
      "predictions based on orgid\n",
      "predictions based on sector (using scaled data)\n",
      "predictions based on orgid\n",
      "predictions based on sector (using scaled data)\n"
     ]
    },
    {
     "name": "stderr",
     "output_type": "stream",
     "text": [
      "/var/folders/s_/qtbdy3px3m3_6k7xydrkhbsh0000gn/T/ipykernel_7686/191058123.py:3: SettingWithCopyWarning: \n",
      "A value is trying to be set on a copy of a slice from a DataFrame.\n",
      "Try using .loc[row_indexer,col_indexer] = value instead\n",
      "\n",
      "See the caveats in the documentation: https://pandas.pydata.org/pandas-docs/stable/user_guide/indexing.html#returning-a-view-versus-a-copy\n",
      "  df.loc[:,'CO2toRevenue'] = df.loc[:,'EmissionDataPoints.CO2EquivalentsEmissionDirectScope1']*(df.loc[:,'EmissionIndicators.TotalCO2EquivalentsEmissionsToRevenues']/df.loc[:,'EmissionDataPoints.CO2EquivalentsEmissionTotal'])\n",
      "/var/folders/s_/qtbdy3px3m3_6k7xydrkhbsh0000gn/T/ipykernel_7686/191058123.py:3: SettingWithCopyWarning: \n",
      "A value is trying to be set on a copy of a slice from a DataFrame.\n",
      "Try using .loc[row_indexer,col_indexer] = value instead\n",
      "\n",
      "See the caveats in the documentation: https://pandas.pydata.org/pandas-docs/stable/user_guide/indexing.html#returning-a-view-versus-a-copy\n",
      "  df.loc[:,'CO2toRevenue'] = df.loc[:,'EmissionDataPoints.CO2EquivalentsEmissionDirectScope1']*(df.loc[:,'EmissionIndicators.TotalCO2EquivalentsEmissionsToRevenues']/df.loc[:,'EmissionDataPoints.CO2EquivalentsEmissionTotal'])\n"
     ]
    },
    {
     "name": "stdout",
     "output_type": "stream",
     "text": [
      "predictions based on sector (using scaled data)\n",
      "predictions based on orgid\n",
      "predictions based on sector (using scaled data)\n"
     ]
    },
    {
     "name": "stderr",
     "output_type": "stream",
     "text": [
      "/var/folders/s_/qtbdy3px3m3_6k7xydrkhbsh0000gn/T/ipykernel_7686/191058123.py:3: SettingWithCopyWarning: \n",
      "A value is trying to be set on a copy of a slice from a DataFrame.\n",
      "Try using .loc[row_indexer,col_indexer] = value instead\n",
      "\n",
      "See the caveats in the documentation: https://pandas.pydata.org/pandas-docs/stable/user_guide/indexing.html#returning-a-view-versus-a-copy\n",
      "  df.loc[:,'CO2toRevenue'] = df.loc[:,'EmissionDataPoints.CO2EquivalentsEmissionDirectScope1']*(df.loc[:,'EmissionIndicators.TotalCO2EquivalentsEmissionsToRevenues']/df.loc[:,'EmissionDataPoints.CO2EquivalentsEmissionTotal'])\n",
      "/var/folders/s_/qtbdy3px3m3_6k7xydrkhbsh0000gn/T/ipykernel_7686/191058123.py:3: SettingWithCopyWarning: \n",
      "A value is trying to be set on a copy of a slice from a DataFrame.\n",
      "Try using .loc[row_indexer,col_indexer] = value instead\n",
      "\n",
      "See the caveats in the documentation: https://pandas.pydata.org/pandas-docs/stable/user_guide/indexing.html#returning-a-view-versus-a-copy\n",
      "  df.loc[:,'CO2toRevenue'] = df.loc[:,'EmissionDataPoints.CO2EquivalentsEmissionDirectScope1']*(df.loc[:,'EmissionIndicators.TotalCO2EquivalentsEmissionsToRevenues']/df.loc[:,'EmissionDataPoints.CO2EquivalentsEmissionTotal'])\n"
     ]
    },
    {
     "name": "stdout",
     "output_type": "stream",
     "text": [
      "predictions based on sector (using scaled data)\n",
      "predictions based on sector (using scaled data)\n"
     ]
    },
    {
     "name": "stderr",
     "output_type": "stream",
     "text": [
      "/var/folders/s_/qtbdy3px3m3_6k7xydrkhbsh0000gn/T/ipykernel_7686/191058123.py:3: SettingWithCopyWarning: \n",
      "A value is trying to be set on a copy of a slice from a DataFrame.\n",
      "Try using .loc[row_indexer,col_indexer] = value instead\n",
      "\n",
      "See the caveats in the documentation: https://pandas.pydata.org/pandas-docs/stable/user_guide/indexing.html#returning-a-view-versus-a-copy\n",
      "  df.loc[:,'CO2toRevenue'] = df.loc[:,'EmissionDataPoints.CO2EquivalentsEmissionDirectScope1']*(df.loc[:,'EmissionIndicators.TotalCO2EquivalentsEmissionsToRevenues']/df.loc[:,'EmissionDataPoints.CO2EquivalentsEmissionTotal'])\n",
      "/var/folders/s_/qtbdy3px3m3_6k7xydrkhbsh0000gn/T/ipykernel_7686/191058123.py:3: SettingWithCopyWarning: \n",
      "A value is trying to be set on a copy of a slice from a DataFrame.\n",
      "Try using .loc[row_indexer,col_indexer] = value instead\n",
      "\n",
      "See the caveats in the documentation: https://pandas.pydata.org/pandas-docs/stable/user_guide/indexing.html#returning-a-view-versus-a-copy\n",
      "  df.loc[:,'CO2toRevenue'] = df.loc[:,'EmissionDataPoints.CO2EquivalentsEmissionDirectScope1']*(df.loc[:,'EmissionIndicators.TotalCO2EquivalentsEmissionsToRevenues']/df.loc[:,'EmissionDataPoints.CO2EquivalentsEmissionTotal'])\n"
     ]
    },
    {
     "name": "stdout",
     "output_type": "stream",
     "text": [
      "predictions based on sector (using scaled data)\n",
      "predictions based on sector (using scaled data)\n"
     ]
    },
    {
     "name": "stderr",
     "output_type": "stream",
     "text": [
      "/var/folders/s_/qtbdy3px3m3_6k7xydrkhbsh0000gn/T/ipykernel_7686/191058123.py:3: SettingWithCopyWarning: \n",
      "A value is trying to be set on a copy of a slice from a DataFrame.\n",
      "Try using .loc[row_indexer,col_indexer] = value instead\n",
      "\n",
      "See the caveats in the documentation: https://pandas.pydata.org/pandas-docs/stable/user_guide/indexing.html#returning-a-view-versus-a-copy\n",
      "  df.loc[:,'CO2toRevenue'] = df.loc[:,'EmissionDataPoints.CO2EquivalentsEmissionDirectScope1']*(df.loc[:,'EmissionIndicators.TotalCO2EquivalentsEmissionsToRevenues']/df.loc[:,'EmissionDataPoints.CO2EquivalentsEmissionTotal'])\n",
      "/var/folders/s_/qtbdy3px3m3_6k7xydrkhbsh0000gn/T/ipykernel_7686/191058123.py:3: SettingWithCopyWarning: \n",
      "A value is trying to be set on a copy of a slice from a DataFrame.\n",
      "Try using .loc[row_indexer,col_indexer] = value instead\n",
      "\n",
      "See the caveats in the documentation: https://pandas.pydata.org/pandas-docs/stable/user_guide/indexing.html#returning-a-view-versus-a-copy\n",
      "  df.loc[:,'CO2toRevenue'] = df.loc[:,'EmissionDataPoints.CO2EquivalentsEmissionDirectScope1']*(df.loc[:,'EmissionIndicators.TotalCO2EquivalentsEmissionsToRevenues']/df.loc[:,'EmissionDataPoints.CO2EquivalentsEmissionTotal'])\n",
      "/var/folders/s_/qtbdy3px3m3_6k7xydrkhbsh0000gn/T/ipykernel_7686/191058123.py:3: SettingWithCopyWarning: \n",
      "A value is trying to be set on a copy of a slice from a DataFrame.\n",
      "Try using .loc[row_indexer,col_indexer] = value instead\n",
      "\n",
      "See the caveats in the documentation: https://pandas.pydata.org/pandas-docs/stable/user_guide/indexing.html#returning-a-view-versus-a-copy\n",
      "  df.loc[:,'CO2toRevenue'] = df.loc[:,'EmissionDataPoints.CO2EquivalentsEmissionDirectScope1']*(df.loc[:,'EmissionIndicators.TotalCO2EquivalentsEmissionsToRevenues']/df.loc[:,'EmissionDataPoints.CO2EquivalentsEmissionTotal'])\n"
     ]
    },
    {
     "name": "stdout",
     "output_type": "stream",
     "text": [
      "predictions based on sector (using scaled data)\n",
      "predictions based on sector (using scaled data)\n",
      "predictions based on sector (using scaled data)\n"
     ]
    },
    {
     "name": "stderr",
     "output_type": "stream",
     "text": [
      "/var/folders/s_/qtbdy3px3m3_6k7xydrkhbsh0000gn/T/ipykernel_7686/191058123.py:3: SettingWithCopyWarning: \n",
      "A value is trying to be set on a copy of a slice from a DataFrame.\n",
      "Try using .loc[row_indexer,col_indexer] = value instead\n",
      "\n",
      "See the caveats in the documentation: https://pandas.pydata.org/pandas-docs/stable/user_guide/indexing.html#returning-a-view-versus-a-copy\n",
      "  df.loc[:,'CO2toRevenue'] = df.loc[:,'EmissionDataPoints.CO2EquivalentsEmissionDirectScope1']*(df.loc[:,'EmissionIndicators.TotalCO2EquivalentsEmissionsToRevenues']/df.loc[:,'EmissionDataPoints.CO2EquivalentsEmissionTotal'])\n",
      "/var/folders/s_/qtbdy3px3m3_6k7xydrkhbsh0000gn/T/ipykernel_7686/191058123.py:3: SettingWithCopyWarning: \n",
      "A value is trying to be set on a copy of a slice from a DataFrame.\n",
      "Try using .loc[row_indexer,col_indexer] = value instead\n",
      "\n",
      "See the caveats in the documentation: https://pandas.pydata.org/pandas-docs/stable/user_guide/indexing.html#returning-a-view-versus-a-copy\n",
      "  df.loc[:,'CO2toRevenue'] = df.loc[:,'EmissionDataPoints.CO2EquivalentsEmissionDirectScope1']*(df.loc[:,'EmissionIndicators.TotalCO2EquivalentsEmissionsToRevenues']/df.loc[:,'EmissionDataPoints.CO2EquivalentsEmissionTotal'])\n"
     ]
    },
    {
     "name": "stdout",
     "output_type": "stream",
     "text": [
      "predictions based on sector (using scaled data)\n",
      "predictions based on sector (using scaled data)\n",
      "predictions based on orgid\n",
      "predictions based on sector (using scaled data)\n"
     ]
    },
    {
     "name": "stderr",
     "output_type": "stream",
     "text": [
      "/var/folders/s_/qtbdy3px3m3_6k7xydrkhbsh0000gn/T/ipykernel_7686/191058123.py:3: SettingWithCopyWarning: \n",
      "A value is trying to be set on a copy of a slice from a DataFrame.\n",
      "Try using .loc[row_indexer,col_indexer] = value instead\n",
      "\n",
      "See the caveats in the documentation: https://pandas.pydata.org/pandas-docs/stable/user_guide/indexing.html#returning-a-view-versus-a-copy\n",
      "  df.loc[:,'CO2toRevenue'] = df.loc[:,'EmissionDataPoints.CO2EquivalentsEmissionDirectScope1']*(df.loc[:,'EmissionIndicators.TotalCO2EquivalentsEmissionsToRevenues']/df.loc[:,'EmissionDataPoints.CO2EquivalentsEmissionTotal'])\n",
      "/var/folders/s_/qtbdy3px3m3_6k7xydrkhbsh0000gn/T/ipykernel_7686/191058123.py:3: SettingWithCopyWarning: \n",
      "A value is trying to be set on a copy of a slice from a DataFrame.\n",
      "Try using .loc[row_indexer,col_indexer] = value instead\n",
      "\n",
      "See the caveats in the documentation: https://pandas.pydata.org/pandas-docs/stable/user_guide/indexing.html#returning-a-view-versus-a-copy\n",
      "  df.loc[:,'CO2toRevenue'] = df.loc[:,'EmissionDataPoints.CO2EquivalentsEmissionDirectScope1']*(df.loc[:,'EmissionIndicators.TotalCO2EquivalentsEmissionsToRevenues']/df.loc[:,'EmissionDataPoints.CO2EquivalentsEmissionTotal'])\n"
     ]
    },
    {
     "name": "stdout",
     "output_type": "stream",
     "text": [
      "predictions based on orgid\n",
      "predictions based on sector (using scaled data)\n",
      "predictions based on sector (using scaled data)\n"
     ]
    },
    {
     "name": "stderr",
     "output_type": "stream",
     "text": [
      "/var/folders/s_/qtbdy3px3m3_6k7xydrkhbsh0000gn/T/ipykernel_7686/191058123.py:3: SettingWithCopyWarning: \n",
      "A value is trying to be set on a copy of a slice from a DataFrame.\n",
      "Try using .loc[row_indexer,col_indexer] = value instead\n",
      "\n",
      "See the caveats in the documentation: https://pandas.pydata.org/pandas-docs/stable/user_guide/indexing.html#returning-a-view-versus-a-copy\n",
      "  df.loc[:,'CO2toRevenue'] = df.loc[:,'EmissionDataPoints.CO2EquivalentsEmissionDirectScope1']*(df.loc[:,'EmissionIndicators.TotalCO2EquivalentsEmissionsToRevenues']/df.loc[:,'EmissionDataPoints.CO2EquivalentsEmissionTotal'])\n",
      "/var/folders/s_/qtbdy3px3m3_6k7xydrkhbsh0000gn/T/ipykernel_7686/191058123.py:3: SettingWithCopyWarning: \n",
      "A value is trying to be set on a copy of a slice from a DataFrame.\n",
      "Try using .loc[row_indexer,col_indexer] = value instead\n",
      "\n",
      "See the caveats in the documentation: https://pandas.pydata.org/pandas-docs/stable/user_guide/indexing.html#returning-a-view-versus-a-copy\n",
      "  df.loc[:,'CO2toRevenue'] = df.loc[:,'EmissionDataPoints.CO2EquivalentsEmissionDirectScope1']*(df.loc[:,'EmissionIndicators.TotalCO2EquivalentsEmissionsToRevenues']/df.loc[:,'EmissionDataPoints.CO2EquivalentsEmissionTotal'])\n"
     ]
    },
    {
     "name": "stdout",
     "output_type": "stream",
     "text": [
      "predictions based on sector (using scaled data)\n",
      "predictions based on sector (using scaled data)\n",
      "predictions based on sector (using scaled data)\n"
     ]
    },
    {
     "name": "stderr",
     "output_type": "stream",
     "text": [
      "/var/folders/s_/qtbdy3px3m3_6k7xydrkhbsh0000gn/T/ipykernel_7686/191058123.py:3: SettingWithCopyWarning: \n",
      "A value is trying to be set on a copy of a slice from a DataFrame.\n",
      "Try using .loc[row_indexer,col_indexer] = value instead\n",
      "\n",
      "See the caveats in the documentation: https://pandas.pydata.org/pandas-docs/stable/user_guide/indexing.html#returning-a-view-versus-a-copy\n",
      "  df.loc[:,'CO2toRevenue'] = df.loc[:,'EmissionDataPoints.CO2EquivalentsEmissionDirectScope1']*(df.loc[:,'EmissionIndicators.TotalCO2EquivalentsEmissionsToRevenues']/df.loc[:,'EmissionDataPoints.CO2EquivalentsEmissionTotal'])\n",
      "/var/folders/s_/qtbdy3px3m3_6k7xydrkhbsh0000gn/T/ipykernel_7686/191058123.py:3: SettingWithCopyWarning: \n",
      "A value is trying to be set on a copy of a slice from a DataFrame.\n",
      "Try using .loc[row_indexer,col_indexer] = value instead\n",
      "\n",
      "See the caveats in the documentation: https://pandas.pydata.org/pandas-docs/stable/user_guide/indexing.html#returning-a-view-versus-a-copy\n",
      "  df.loc[:,'CO2toRevenue'] = df.loc[:,'EmissionDataPoints.CO2EquivalentsEmissionDirectScope1']*(df.loc[:,'EmissionIndicators.TotalCO2EquivalentsEmissionsToRevenues']/df.loc[:,'EmissionDataPoints.CO2EquivalentsEmissionTotal'])\n",
      "/var/folders/s_/qtbdy3px3m3_6k7xydrkhbsh0000gn/T/ipykernel_7686/191058123.py:3: SettingWithCopyWarning: \n",
      "A value is trying to be set on a copy of a slice from a DataFrame.\n",
      "Try using .loc[row_indexer,col_indexer] = value instead\n",
      "\n",
      "See the caveats in the documentation: https://pandas.pydata.org/pandas-docs/stable/user_guide/indexing.html#returning-a-view-versus-a-copy\n",
      "  df.loc[:,'CO2toRevenue'] = df.loc[:,'EmissionDataPoints.CO2EquivalentsEmissionDirectScope1']*(df.loc[:,'EmissionIndicators.TotalCO2EquivalentsEmissionsToRevenues']/df.loc[:,'EmissionDataPoints.CO2EquivalentsEmissionTotal'])\n"
     ]
    },
    {
     "name": "stdout",
     "output_type": "stream",
     "text": [
      "predictions based on sector (using scaled data)\n",
      "predictions based on sector (using scaled data)\n",
      "predictions based on sector (using scaled data)\n"
     ]
    },
    {
     "name": "stderr",
     "output_type": "stream",
     "text": [
      "/var/folders/s_/qtbdy3px3m3_6k7xydrkhbsh0000gn/T/ipykernel_7686/191058123.py:3: SettingWithCopyWarning: \n",
      "A value is trying to be set on a copy of a slice from a DataFrame.\n",
      "Try using .loc[row_indexer,col_indexer] = value instead\n",
      "\n",
      "See the caveats in the documentation: https://pandas.pydata.org/pandas-docs/stable/user_guide/indexing.html#returning-a-view-versus-a-copy\n",
      "  df.loc[:,'CO2toRevenue'] = df.loc[:,'EmissionDataPoints.CO2EquivalentsEmissionDirectScope1']*(df.loc[:,'EmissionIndicators.TotalCO2EquivalentsEmissionsToRevenues']/df.loc[:,'EmissionDataPoints.CO2EquivalentsEmissionTotal'])\n",
      "/var/folders/s_/qtbdy3px3m3_6k7xydrkhbsh0000gn/T/ipykernel_7686/191058123.py:3: SettingWithCopyWarning: \n",
      "A value is trying to be set on a copy of a slice from a DataFrame.\n",
      "Try using .loc[row_indexer,col_indexer] = value instead\n",
      "\n",
      "See the caveats in the documentation: https://pandas.pydata.org/pandas-docs/stable/user_guide/indexing.html#returning-a-view-versus-a-copy\n",
      "  df.loc[:,'CO2toRevenue'] = df.loc[:,'EmissionDataPoints.CO2EquivalentsEmissionDirectScope1']*(df.loc[:,'EmissionIndicators.TotalCO2EquivalentsEmissionsToRevenues']/df.loc[:,'EmissionDataPoints.CO2EquivalentsEmissionTotal'])\n",
      "/var/folders/s_/qtbdy3px3m3_6k7xydrkhbsh0000gn/T/ipykernel_7686/191058123.py:3: SettingWithCopyWarning: \n",
      "A value is trying to be set on a copy of a slice from a DataFrame.\n",
      "Try using .loc[row_indexer,col_indexer] = value instead\n",
      "\n",
      "See the caveats in the documentation: https://pandas.pydata.org/pandas-docs/stable/user_guide/indexing.html#returning-a-view-versus-a-copy\n",
      "  df.loc[:,'CO2toRevenue'] = df.loc[:,'EmissionDataPoints.CO2EquivalentsEmissionDirectScope1']*(df.loc[:,'EmissionIndicators.TotalCO2EquivalentsEmissionsToRevenues']/df.loc[:,'EmissionDataPoints.CO2EquivalentsEmissionTotal'])\n",
      "/var/folders/s_/qtbdy3px3m3_6k7xydrkhbsh0000gn/T/ipykernel_7686/191058123.py:3: SettingWithCopyWarning: \n",
      "A value is trying to be set on a copy of a slice from a DataFrame.\n",
      "Try using .loc[row_indexer,col_indexer] = value instead\n",
      "\n",
      "See the caveats in the documentation: https://pandas.pydata.org/pandas-docs/stable/user_guide/indexing.html#returning-a-view-versus-a-copy\n",
      "  df.loc[:,'CO2toRevenue'] = df.loc[:,'EmissionDataPoints.CO2EquivalentsEmissionDirectScope1']*(df.loc[:,'EmissionIndicators.TotalCO2EquivalentsEmissionsToRevenues']/df.loc[:,'EmissionDataPoints.CO2EquivalentsEmissionTotal'])\n"
     ]
    },
    {
     "name": "stdout",
     "output_type": "stream",
     "text": [
      "predictions based on sector (using scaled data)\n",
      "predictions based on sector (using scaled data)\n"
     ]
    },
    {
     "name": "stderr",
     "output_type": "stream",
     "text": [
      "/var/folders/s_/qtbdy3px3m3_6k7xydrkhbsh0000gn/T/ipykernel_7686/191058123.py:3: SettingWithCopyWarning: \n",
      "A value is trying to be set on a copy of a slice from a DataFrame.\n",
      "Try using .loc[row_indexer,col_indexer] = value instead\n",
      "\n",
      "See the caveats in the documentation: https://pandas.pydata.org/pandas-docs/stable/user_guide/indexing.html#returning-a-view-versus-a-copy\n",
      "  df.loc[:,'CO2toRevenue'] = df.loc[:,'EmissionDataPoints.CO2EquivalentsEmissionDirectScope1']*(df.loc[:,'EmissionIndicators.TotalCO2EquivalentsEmissionsToRevenues']/df.loc[:,'EmissionDataPoints.CO2EquivalentsEmissionTotal'])\n",
      "/var/folders/s_/qtbdy3px3m3_6k7xydrkhbsh0000gn/T/ipykernel_7686/191058123.py:3: SettingWithCopyWarning: \n",
      "A value is trying to be set on a copy of a slice from a DataFrame.\n",
      "Try using .loc[row_indexer,col_indexer] = value instead\n",
      "\n",
      "See the caveats in the documentation: https://pandas.pydata.org/pandas-docs/stable/user_guide/indexing.html#returning-a-view-versus-a-copy\n",
      "  df.loc[:,'CO2toRevenue'] = df.loc[:,'EmissionDataPoints.CO2EquivalentsEmissionDirectScope1']*(df.loc[:,'EmissionIndicators.TotalCO2EquivalentsEmissionsToRevenues']/df.loc[:,'EmissionDataPoints.CO2EquivalentsEmissionTotal'])\n",
      "/var/folders/s_/qtbdy3px3m3_6k7xydrkhbsh0000gn/T/ipykernel_7686/191058123.py:3: SettingWithCopyWarning: \n",
      "A value is trying to be set on a copy of a slice from a DataFrame.\n",
      "Try using .loc[row_indexer,col_indexer] = value instead\n",
      "\n",
      "See the caveats in the documentation: https://pandas.pydata.org/pandas-docs/stable/user_guide/indexing.html#returning-a-view-versus-a-copy\n",
      "  df.loc[:,'CO2toRevenue'] = df.loc[:,'EmissionDataPoints.CO2EquivalentsEmissionDirectScope1']*(df.loc[:,'EmissionIndicators.TotalCO2EquivalentsEmissionsToRevenues']/df.loc[:,'EmissionDataPoints.CO2EquivalentsEmissionTotal'])\n"
     ]
    },
    {
     "name": "stdout",
     "output_type": "stream",
     "text": [
      "predictions based on orgid\n",
      "predictions based on sector (using scaled data)\n",
      "predictions based on sector (using scaled data)\n",
      "predictions based on sector (using scaled data)\n"
     ]
    },
    {
     "name": "stderr",
     "output_type": "stream",
     "text": [
      "/var/folders/s_/qtbdy3px3m3_6k7xydrkhbsh0000gn/T/ipykernel_7686/191058123.py:3: SettingWithCopyWarning: \n",
      "A value is trying to be set on a copy of a slice from a DataFrame.\n",
      "Try using .loc[row_indexer,col_indexer] = value instead\n",
      "\n",
      "See the caveats in the documentation: https://pandas.pydata.org/pandas-docs/stable/user_guide/indexing.html#returning-a-view-versus-a-copy\n",
      "  df.loc[:,'CO2toRevenue'] = df.loc[:,'EmissionDataPoints.CO2EquivalentsEmissionDirectScope1']*(df.loc[:,'EmissionIndicators.TotalCO2EquivalentsEmissionsToRevenues']/df.loc[:,'EmissionDataPoints.CO2EquivalentsEmissionTotal'])\n",
      "/var/folders/s_/qtbdy3px3m3_6k7xydrkhbsh0000gn/T/ipykernel_7686/191058123.py:3: SettingWithCopyWarning: \n",
      "A value is trying to be set on a copy of a slice from a DataFrame.\n",
      "Try using .loc[row_indexer,col_indexer] = value instead\n",
      "\n",
      "See the caveats in the documentation: https://pandas.pydata.org/pandas-docs/stable/user_guide/indexing.html#returning-a-view-versus-a-copy\n",
      "  df.loc[:,'CO2toRevenue'] = df.loc[:,'EmissionDataPoints.CO2EquivalentsEmissionDirectScope1']*(df.loc[:,'EmissionIndicators.TotalCO2EquivalentsEmissionsToRevenues']/df.loc[:,'EmissionDataPoints.CO2EquivalentsEmissionTotal'])\n",
      "/var/folders/s_/qtbdy3px3m3_6k7xydrkhbsh0000gn/T/ipykernel_7686/191058123.py:3: SettingWithCopyWarning: \n",
      "A value is trying to be set on a copy of a slice from a DataFrame.\n",
      "Try using .loc[row_indexer,col_indexer] = value instead\n",
      "\n",
      "See the caveats in the documentation: https://pandas.pydata.org/pandas-docs/stable/user_guide/indexing.html#returning-a-view-versus-a-copy\n",
      "  df.loc[:,'CO2toRevenue'] = df.loc[:,'EmissionDataPoints.CO2EquivalentsEmissionDirectScope1']*(df.loc[:,'EmissionIndicators.TotalCO2EquivalentsEmissionsToRevenues']/df.loc[:,'EmissionDataPoints.CO2EquivalentsEmissionTotal'])\n"
     ]
    },
    {
     "name": "stdout",
     "output_type": "stream",
     "text": [
      "predictions based on orgid\n",
      "predictions based on sector (using scaled data)\n",
      "predictions based on sector (using scaled data)\n",
      "predictions based on orgid\n",
      "predictions based on sector (using scaled data)\n",
      "predictions based on sector (using scaled data)\n"
     ]
    },
    {
     "name": "stderr",
     "output_type": "stream",
     "text": [
      "/var/folders/s_/qtbdy3px3m3_6k7xydrkhbsh0000gn/T/ipykernel_7686/191058123.py:3: SettingWithCopyWarning: \n",
      "A value is trying to be set on a copy of a slice from a DataFrame.\n",
      "Try using .loc[row_indexer,col_indexer] = value instead\n",
      "\n",
      "See the caveats in the documentation: https://pandas.pydata.org/pandas-docs/stable/user_guide/indexing.html#returning-a-view-versus-a-copy\n",
      "  df.loc[:,'CO2toRevenue'] = df.loc[:,'EmissionDataPoints.CO2EquivalentsEmissionDirectScope1']*(df.loc[:,'EmissionIndicators.TotalCO2EquivalentsEmissionsToRevenues']/df.loc[:,'EmissionDataPoints.CO2EquivalentsEmissionTotal'])\n",
      "/var/folders/s_/qtbdy3px3m3_6k7xydrkhbsh0000gn/T/ipykernel_7686/191058123.py:3: SettingWithCopyWarning: \n",
      "A value is trying to be set on a copy of a slice from a DataFrame.\n",
      "Try using .loc[row_indexer,col_indexer] = value instead\n",
      "\n",
      "See the caveats in the documentation: https://pandas.pydata.org/pandas-docs/stable/user_guide/indexing.html#returning-a-view-versus-a-copy\n",
      "  df.loc[:,'CO2toRevenue'] = df.loc[:,'EmissionDataPoints.CO2EquivalentsEmissionDirectScope1']*(df.loc[:,'EmissionIndicators.TotalCO2EquivalentsEmissionsToRevenues']/df.loc[:,'EmissionDataPoints.CO2EquivalentsEmissionTotal'])\n"
     ]
    },
    {
     "name": "stdout",
     "output_type": "stream",
     "text": [
      "predictions based on sector (using scaled data)\n"
     ]
    },
    {
     "name": "stderr",
     "output_type": "stream",
     "text": [
      "/var/folders/s_/qtbdy3px3m3_6k7xydrkhbsh0000gn/T/ipykernel_7686/191058123.py:3: SettingWithCopyWarning: \n",
      "A value is trying to be set on a copy of a slice from a DataFrame.\n",
      "Try using .loc[row_indexer,col_indexer] = value instead\n",
      "\n",
      "See the caveats in the documentation: https://pandas.pydata.org/pandas-docs/stable/user_guide/indexing.html#returning-a-view-versus-a-copy\n",
      "  df.loc[:,'CO2toRevenue'] = df.loc[:,'EmissionDataPoints.CO2EquivalentsEmissionDirectScope1']*(df.loc[:,'EmissionIndicators.TotalCO2EquivalentsEmissionsToRevenues']/df.loc[:,'EmissionDataPoints.CO2EquivalentsEmissionTotal'])\n"
     ]
    },
    {
     "ename": "ValueError",
     "evalue": "With n_samples=0, test_size=0.33 and train_size=None, the resulting train set will be empty. Adjust any of the aforementioned parameters.",
     "output_type": "error",
     "traceback": [
      "\u001b[0;31m---------------------------------------------------------------------------\u001b[0m",
      "\u001b[0;31mValueError\u001b[0m                                Traceback (most recent call last)",
      "\u001b[0;32m/var/folders/s_/qtbdy3px3m3_6k7xydrkhbsh0000gn/T/ipykernel_7686/3937248969.py\u001b[0m in \u001b[0;36m<module>\u001b[0;34m\u001b[0m\n\u001b[1;32m      2\u001b[0m \u001b[0;32mfor\u001b[0m \u001b[0mkey\u001b[0m \u001b[0;32min\u001b[0m \u001b[0mdict_id\u001b[0m\u001b[0;34m:\u001b[0m\u001b[0;34m\u001b[0m\u001b[0;34m\u001b[0m\u001b[0m\n\u001b[1;32m      3\u001b[0m     \u001b[0;32mif\u001b[0m \u001b[0mlen\u001b[0m\u001b[0;34m(\u001b[0m\u001b[0mdict_id\u001b[0m\u001b[0;34m[\u001b[0m\u001b[0mkey\u001b[0m\u001b[0;34m]\u001b[0m\u001b[0;34m)\u001b[0m \u001b[0;34m>\u001b[0m \u001b[0;36m0\u001b[0m\u001b[0;34m:\u001b[0m\u001b[0;34m\u001b[0m\u001b[0;34m\u001b[0m\u001b[0m\n\u001b[0;32m----> 4\u001b[0;31m         \u001b[0mabs_error_list\u001b[0m\u001b[0;34m.\u001b[0m\u001b[0mappend\u001b[0m\u001b[0;34m(\u001b[0m\u001b[0mpredict\u001b[0m\u001b[0;34m(\u001b[0m\u001b[0mdict_id\u001b[0m\u001b[0;34m,\u001b[0m \u001b[0mkey\u001b[0m\u001b[0;34m)\u001b[0m\u001b[0;34m[\u001b[0m\u001b[0;36m1\u001b[0m\u001b[0;34m]\u001b[0m\u001b[0;34m)\u001b[0m\u001b[0;34m\u001b[0m\u001b[0;34m\u001b[0m\u001b[0m\n\u001b[0m\u001b[1;32m      5\u001b[0m \u001b[0;34m\u001b[0m\u001b[0m\n\u001b[1;32m      6\u001b[0m \u001b[0mprint\u001b[0m\u001b[0;34m(\u001b[0m\u001b[0mabs_error_list\u001b[0m\u001b[0;34m)\u001b[0m\u001b[0;34m\u001b[0m\u001b[0;34m\u001b[0m\u001b[0m\n",
      "\u001b[0;32m/var/folders/s_/qtbdy3px3m3_6k7xydrkhbsh0000gn/T/ipykernel_7686/191058123.py\u001b[0m in \u001b[0;36mpredict\u001b[0;34m(dictionary, orgid)\u001b[0m\n\u001b[1;32m     39\u001b[0m         \u001b[0my_label\u001b[0m \u001b[0;34m=\u001b[0m \u001b[0;34m'CO2 emission per revenue'\u001b[0m\u001b[0;34m\u001b[0m\u001b[0;34m\u001b[0m\u001b[0m\n\u001b[1;32m     40\u001b[0m \u001b[0;34m\u001b[0m\u001b[0m\n\u001b[0;32m---> 41\u001b[0;31m     \u001b[0mX_train\u001b[0m\u001b[0;34m,\u001b[0m \u001b[0mX_test\u001b[0m\u001b[0;34m,\u001b[0m \u001b[0mY_train\u001b[0m\u001b[0;34m,\u001b[0m \u001b[0mY_test\u001b[0m \u001b[0;34m=\u001b[0m \u001b[0mtrain_test_split\u001b[0m\u001b[0;34m(\u001b[0m\u001b[0mX\u001b[0m\u001b[0;34m,\u001b[0m\u001b[0mY\u001b[0m\u001b[0;34m,\u001b[0m \u001b[0mtest_size\u001b[0m\u001b[0;34m=\u001b[0m\u001b[0;36m0.33\u001b[0m\u001b[0;34m,\u001b[0m \u001b[0mrandom_state\u001b[0m\u001b[0;34m=\u001b[0m\u001b[0;36m42\u001b[0m\u001b[0;34m)\u001b[0m\u001b[0;34m\u001b[0m\u001b[0;34m\u001b[0m\u001b[0m\n\u001b[0m\u001b[1;32m     42\u001b[0m     \u001b[0mdegree\u001b[0m \u001b[0;34m=\u001b[0m \u001b[0;36m1\u001b[0m\u001b[0;34m\u001b[0m\u001b[0;34m\u001b[0m\u001b[0m\n\u001b[1;32m     43\u001b[0m     \u001b[0mpolyreg\u001b[0m\u001b[0;34m=\u001b[0m\u001b[0mmake_pipeline\u001b[0m\u001b[0;34m(\u001b[0m\u001b[0mPolynomialFeatures\u001b[0m\u001b[0;34m(\u001b[0m\u001b[0mdegree\u001b[0m\u001b[0;34m)\u001b[0m\u001b[0;34m,\u001b[0m \u001b[0mLinearRegression\u001b[0m\u001b[0;34m(\u001b[0m\u001b[0;34m)\u001b[0m\u001b[0;34m)\u001b[0m\u001b[0;34m\u001b[0m\u001b[0;34m\u001b[0m\u001b[0m\n",
      "\u001b[0;32m~/miniforge3/envs/.venv/lib/python3.10/site-packages/sklearn/model_selection/_split.py\u001b[0m in \u001b[0;36mtrain_test_split\u001b[0;34m(test_size, train_size, random_state, shuffle, stratify, *arrays)\u001b[0m\n\u001b[1;32m   2418\u001b[0m \u001b[0;34m\u001b[0m\u001b[0m\n\u001b[1;32m   2419\u001b[0m     \u001b[0mn_samples\u001b[0m \u001b[0;34m=\u001b[0m \u001b[0m_num_samples\u001b[0m\u001b[0;34m(\u001b[0m\u001b[0marrays\u001b[0m\u001b[0;34m[\u001b[0m\u001b[0;36m0\u001b[0m\u001b[0;34m]\u001b[0m\u001b[0;34m)\u001b[0m\u001b[0;34m\u001b[0m\u001b[0;34m\u001b[0m\u001b[0m\n\u001b[0;32m-> 2420\u001b[0;31m     n_train, n_test = _validate_shuffle_split(\n\u001b[0m\u001b[1;32m   2421\u001b[0m         \u001b[0mn_samples\u001b[0m\u001b[0;34m,\u001b[0m \u001b[0mtest_size\u001b[0m\u001b[0;34m,\u001b[0m \u001b[0mtrain_size\u001b[0m\u001b[0;34m,\u001b[0m \u001b[0mdefault_test_size\u001b[0m\u001b[0;34m=\u001b[0m\u001b[0;36m0.25\u001b[0m\u001b[0;34m\u001b[0m\u001b[0;34m\u001b[0m\u001b[0m\n\u001b[1;32m   2422\u001b[0m     )\n",
      "\u001b[0;32m~/miniforge3/envs/.venv/lib/python3.10/site-packages/sklearn/model_selection/_split.py\u001b[0m in \u001b[0;36m_validate_shuffle_split\u001b[0;34m(n_samples, test_size, train_size, default_test_size)\u001b[0m\n\u001b[1;32m   2096\u001b[0m \u001b[0;34m\u001b[0m\u001b[0m\n\u001b[1;32m   2097\u001b[0m     \u001b[0;32mif\u001b[0m \u001b[0mn_train\u001b[0m \u001b[0;34m==\u001b[0m \u001b[0;36m0\u001b[0m\u001b[0;34m:\u001b[0m\u001b[0;34m\u001b[0m\u001b[0;34m\u001b[0m\u001b[0m\n\u001b[0;32m-> 2098\u001b[0;31m         raise ValueError(\n\u001b[0m\u001b[1;32m   2099\u001b[0m             \u001b[0;34m\"With n_samples={}, test_size={} and train_size={}, the \"\u001b[0m\u001b[0;34m\u001b[0m\u001b[0;34m\u001b[0m\u001b[0m\n\u001b[1;32m   2100\u001b[0m             \u001b[0;34m\"resulting train set will be empty. Adjust any of the \"\u001b[0m\u001b[0;34m\u001b[0m\u001b[0;34m\u001b[0m\u001b[0m\n",
      "\u001b[0;31mValueError\u001b[0m: With n_samples=0, test_size=0.33 and train_size=None, the resulting train set will be empty. Adjust any of the aforementioned parameters."
     ]
    }
   ],
   "source": [
    "abs_error_list = []\n",
    "for key in dict_id:\n",
    "    if len(dict_id[key]) > 0:\n",
    "        abs_error_list.append(predict(dict_id, key)[1])\n",
    "    \n",
    "print(abs_error_list)"
   ]
  },
  {
   "cell_type": "code",
   "execution_count": 15,
   "id": "dfe18310",
   "metadata": {},
   "outputs": [
    {
     "ename": "AttributeError",
     "evalue": "'list' object has no attribute 'mean'",
     "output_type": "error",
     "traceback": [
      "\u001b[0;31m---------------------------------------------------------------------------\u001b[0m",
      "\u001b[0;31mAttributeError\u001b[0m                            Traceback (most recent call last)",
      "\u001b[0;32m/var/folders/s_/qtbdy3px3m3_6k7xydrkhbsh0000gn/T/ipykernel_7686/4119170197.py\u001b[0m in \u001b[0;36m<module>\u001b[0;34m\u001b[0m\n\u001b[0;32m----> 1\u001b[0;31m \u001b[0mprint\u001b[0m\u001b[0;34m(\u001b[0m\u001b[0mabs_error_list\u001b[0m\u001b[0;34m.\u001b[0m\u001b[0mmean\u001b[0m\u001b[0;34m(\u001b[0m\u001b[0;34m)\u001b[0m\u001b[0;34m)\u001b[0m\u001b[0;34m\u001b[0m\u001b[0;34m\u001b[0m\u001b[0m\n\u001b[0m",
      "\u001b[0;31mAttributeError\u001b[0m: 'list' object has no attribute 'mean'"
     ]
    }
   ],
   "source": [
    "print(abs_error_list.mean())"
   ]
  },
  {
   "cell_type": "code",
   "execution_count": null,
   "id": "515519fc",
   "metadata": {},
   "outputs": [],
   "source": []
  },
  {
   "cell_type": "code",
   "execution_count": null,
   "id": "80846162",
   "metadata": {},
   "outputs": [],
   "source": []
  },
  {
   "cell_type": "code",
   "execution_count": null,
   "id": "5a78e090",
   "metadata": {},
   "outputs": [],
   "source": []
  },
  {
   "cell_type": "code",
   "execution_count": null,
   "id": "0a08ab32",
   "metadata": {},
   "outputs": [],
   "source": []
  },
  {
   "cell_type": "code",
   "execution_count": null,
   "id": "66031618",
   "metadata": {},
   "outputs": [],
   "source": []
  },
  {
   "cell_type": "code",
   "execution_count": null,
   "id": "aa85dc25",
   "metadata": {},
   "outputs": [],
   "source": []
  },
  {
   "cell_type": "code",
   "execution_count": null,
   "id": "d4ca05c9",
   "metadata": {},
   "outputs": [],
   "source": []
  },
  {
   "cell_type": "code",
   "execution_count": null,
   "id": "1945ef7f",
   "metadata": {},
   "outputs": [],
   "source": []
  },
  {
   "cell_type": "code",
   "execution_count": null,
   "id": "3c5dfd40",
   "metadata": {},
   "outputs": [],
   "source": []
  },
  {
   "cell_type": "code",
   "execution_count": null,
   "id": "68ca1af7",
   "metadata": {},
   "outputs": [],
   "source": []
  },
  {
   "cell_type": "code",
   "execution_count": null,
   "id": "5d73cdb1",
   "metadata": {},
   "outputs": [],
   "source": []
  }
 ],
 "metadata": {
  "kernelspec": {
   "display_name": "Python 3 (ipykernel)",
   "language": "python",
   "name": "python3"
  },
  "language_info": {
   "codemirror_mode": {
    "name": "ipython",
    "version": 3
   },
   "file_extension": ".py",
   "mimetype": "text/x-python",
   "name": "python",
   "nbconvert_exporter": "python",
   "pygments_lexer": "ipython3",
   "version": "3.10.1"
  }
 },
 "nbformat": 4,
 "nbformat_minor": 5
}
